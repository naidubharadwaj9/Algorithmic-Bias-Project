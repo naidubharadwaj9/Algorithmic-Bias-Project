{
 "cells": [
  {
   "cell_type": "code",
   "execution_count": 2,
   "metadata": {},
   "outputs": [
    {
     "name": "stdout",
     "output_type": "stream",
     "text": [
      "The Number of Rows in Initial Data is 290208"
     ]
    }
   ],
   "source": [
    "raw_data <- read.csv(\"Data_SSL_PSM.csv\", sep=\",\", header=T, strip.white = T, na.strings = c(\"NA\",\"NaN\",\"\",\"?\"))\n",
    "#Converting the \".\" in column names to \"_\"\n",
    "names(raw_data)<-gsub(\"\\\\.\", \"_\", names(raw_data))\n",
    "cat(\"The Number of Rows in Initial Data is\", nrow(raw_data))"
   ]
  },
  {
   "cell_type": "code",
   "execution_count": 3,
   "metadata": {},
   "outputs": [
    {
     "data": {
      "text/html": [
       "<dl class=dl-horizontal>\n",
       "\t<dt>PRE_RAW_HEAT_SCORE</dt>\n",
       "\t\t<dd>0</dd>\n",
       "\t<dt>AGE_GROUP</dt>\n",
       "\t\t<dd>131</dd>\n",
       "\t<dt>AGE_TO</dt>\n",
       "\t\t<dd>131</dd>\n",
       "\t<dt>AGE_CURR</dt>\n",
       "\t\t<dd>203</dd>\n",
       "\t<dt>LATEST_DIST</dt>\n",
       "\t\t<dd>0</dd>\n",
       "\t<dt>LATEST_DIST_RES</dt>\n",
       "\t\t<dd>0</dd>\n",
       "\t<dt>DRUG_I</dt>\n",
       "\t\t<dd>0</dd>\n",
       "\t<dt>WEAPON_I</dt>\n",
       "\t\t<dd>0</dd>\n",
       "\t<dt>RACE_CODE_CD</dt>\n",
       "\t\t<dd>0</dd>\n",
       "\t<dt>SEX_CODE_CD</dt>\n",
       "\t\t<dd>0</dd>\n",
       "\t<dt>CPD_ARREST_I</dt>\n",
       "\t\t<dd>0</dd>\n",
       "\t<dt>LATEST_DATE</dt>\n",
       "\t\t<dd>0</dd>\n",
       "</dl>\n"
      ],
      "text/latex": [
       "\\begin{description*}\n",
       "\\item[PRE\\textbackslash{}\\_RAW\\textbackslash{}\\_HEAT\\textbackslash{}\\_SCORE] 0\n",
       "\\item[AGE\\textbackslash{}\\_GROUP] 131\n",
       "\\item[AGE\\textbackslash{}\\_TO] 131\n",
       "\\item[AGE\\textbackslash{}\\_CURR] 203\n",
       "\\item[LATEST\\textbackslash{}\\_DIST] 0\n",
       "\\item[LATEST\\textbackslash{}\\_DIST\\textbackslash{}\\_RES] 0\n",
       "\\item[DRUG\\textbackslash{}\\_I] 0\n",
       "\\item[WEAPON\\textbackslash{}\\_I] 0\n",
       "\\item[RACE\\textbackslash{}\\_CODE\\textbackslash{}\\_CD] 0\n",
       "\\item[SEX\\textbackslash{}\\_CODE\\textbackslash{}\\_CD] 0\n",
       "\\item[CPD\\textbackslash{}\\_ARREST\\textbackslash{}\\_I] 0\n",
       "\\item[LATEST\\textbackslash{}\\_DATE] 0\n",
       "\\end{description*}\n"
      ],
      "text/markdown": [
       "PRE_RAW_HEAT_SCORE\n",
       ":   0AGE_GROUP\n",
       ":   131AGE_TO\n",
       ":   131AGE_CURR\n",
       ":   203LATEST_DIST\n",
       ":   0LATEST_DIST_RES\n",
       ":   0DRUG_I\n",
       ":   0WEAPON_I\n",
       ":   0RACE_CODE_CD\n",
       ":   0SEX_CODE_CD\n",
       ":   0CPD_ARREST_I\n",
       ":   0LATEST_DATE\n",
       ":   0\n",
       "\n"
      ],
      "text/plain": [
       "PRE_RAW_HEAT_SCORE          AGE_GROUP             AGE_TO           AGE_CURR \n",
       "                 0                131                131                203 \n",
       "       LATEST_DIST    LATEST_DIST_RES             DRUG_I           WEAPON_I \n",
       "                 0                  0                  0                  0 \n",
       "      RACE_CODE_CD        SEX_CODE_CD       CPD_ARREST_I        LATEST_DATE \n",
       "                 0                  0                  0                  0 "
      ]
     },
     "metadata": {},
     "output_type": "display_data"
    }
   ],
   "source": [
    "# Checking the Missing Values \n",
    "sapply(raw_data,function(x) sum(is.na(x)))"
   ]
  },
  {
   "cell_type": "code",
   "execution_count": 4,
   "metadata": {},
   "outputs": [
    {
     "name": "stdout",
     "output_type": "stream",
     "text": [
      "After removing the incomplete rows, the number of rows are 290005"
     ]
    }
   ],
   "source": [
    "complete_data <- raw_data[complete.cases(raw_data),]\n",
    "cat(\"After removing the incomplete rows, the number of rows are\", nrow(complete_data))"
   ]
  },
  {
   "cell_type": "code",
   "execution_count": 5,
   "metadata": {},
   "outputs": [
    {
     "data": {
      "text/html": [
       "<table>\n",
       "<thead><tr><th></th><th scope=col>PRE_RAW_HEAT_SCORE</th><th scope=col>AGE_GROUP</th><th scope=col>AGE_TO</th><th scope=col>AGE_CURR</th><th scope=col>LATEST_DIST</th><th scope=col>LATEST_DIST_RES</th><th scope=col>DRUG_I</th><th scope=col>WEAPON_I</th><th scope=col>RACE_CODE_CD</th><th scope=col>SEX_CODE_CD</th><th scope=col>CPD_ARREST_I</th><th scope=col>LATEST_DATE</th></tr></thead>\n",
       "<tbody>\n",
       "\t<tr><th scope=row>1</th><td>14196       </td><td>20-30       </td><td>20-30       </td><td>20-30       </td><td>31          </td><td>31          </td><td>N           </td><td>Y           </td><td>0           </td><td>M           </td><td>N           </td><td>2015        </td></tr>\n",
       "\t<tr><th scope=row>2</th><td>14511       </td><td>20-30       </td><td>20-30       </td><td>20-30       </td><td>31          </td><td> 8          </td><td>N           </td><td>N           </td><td>1           </td><td>M           </td><td>N           </td><td>2016        </td></tr>\n",
       "\t<tr><th scope=row>3</th><td>12982       </td><td>less than 20</td><td>less than 20</td><td>less than 20</td><td>31          </td><td> 8          </td><td>N           </td><td>N           </td><td>1           </td><td>M           </td><td>N           </td><td>2016        </td></tr>\n",
       "\t<tr><th scope=row>4</th><td>13110       </td><td>less than 20</td><td>less than 20</td><td>less than 20</td><td>31          </td><td> 4          </td><td>N           </td><td>Y           </td><td>0           </td><td>M           </td><td>Y           </td><td>2016        </td></tr>\n",
       "\t<tr><th scope=row>5</th><td>12874       </td><td>less than 20</td><td>less than 20</td><td>less than 20</td><td>31          </td><td>31          </td><td>N           </td><td>Y           </td><td>0           </td><td>M           </td><td>N           </td><td>2016        </td></tr>\n",
       "\t<tr><th scope=row>6</th><td>13535       </td><td>less than 20</td><td>less than 20</td><td>20-30       </td><td>31          </td><td> 2          </td><td>N           </td><td>Y           </td><td>0           </td><td>M           </td><td>N           </td><td>2015        </td></tr>\n",
       "\t<tr><th scope=row>7</th><td>12632       </td><td>less than 20</td><td>less than 20</td><td>less than 20</td><td>31          </td><td>31          </td><td>N           </td><td>N           </td><td>0           </td><td>M           </td><td>N           </td><td>2015        </td></tr>\n",
       "\t<tr><th scope=row>8</th><td>12620       </td><td>less than 20</td><td>less than 20</td><td>less than 20</td><td>31          </td><td> 5          </td><td>N           </td><td>N           </td><td>0           </td><td>M           </td><td>Y           </td><td>2016        </td></tr>\n",
       "\t<tr><th scope=row>9</th><td>12586       </td><td>less than 20</td><td>less than 20</td><td>less than 20</td><td>31          </td><td> 2          </td><td>N           </td><td>Y           </td><td>0           </td><td>M           </td><td>N           </td><td>2016        </td></tr>\n",
       "\t<tr><th scope=row>10</th><td>12476       </td><td>less than 20</td><td>less than 20</td><td>20-30       </td><td>31          </td><td>14          </td><td>Y           </td><td>Y           </td><td>0           </td><td>M           </td><td>N           </td><td>2016        </td></tr>\n",
       "\t<tr><th scope=row>11</th><td>12445       </td><td>20-30       </td><td>20-30       </td><td>20-30       </td><td>31          </td><td>10          </td><td>Y           </td><td>N           </td><td>0           </td><td>M           </td><td>N           </td><td>2016        </td></tr>\n",
       "\t<tr><th scope=row>12</th><td>12438       </td><td>20-30       </td><td>20-30       </td><td>20-30       </td><td>31          </td><td>31          </td><td>Y           </td><td>N           </td><td>0           </td><td>M           </td><td>N           </td><td>2015        </td></tr>\n",
       "\t<tr><th scope=row>13</th><td>12406       </td><td>less than 20</td><td>less than 20</td><td>less than 20</td><td>31          </td><td>31          </td><td>N           </td><td>N           </td><td>1           </td><td>M           </td><td>N           </td><td>2016        </td></tr>\n",
       "\t<tr><th scope=row>14</th><td>12362       </td><td>less than 20</td><td>less than 20</td><td>20-30       </td><td>31          </td><td>24          </td><td>Y           </td><td>Y           </td><td>0           </td><td>M           </td><td>N           </td><td>2015        </td></tr>\n",
       "\t<tr><th scope=row>15</th><td>12319       </td><td>less than 20</td><td>less than 20</td><td>less than 20</td><td>31          </td><td>31          </td><td>N           </td><td>Y           </td><td>0           </td><td>M           </td><td>N           </td><td>2016        </td></tr>\n",
       "\t<tr><th scope=row>16</th><td>12302       </td><td>less than 20</td><td>less than 20</td><td>less than 20</td><td>31          </td><td>31          </td><td>N           </td><td>Y           </td><td>0           </td><td>M           </td><td>N           </td><td>2015        </td></tr>\n",
       "\t<tr><th scope=row>17</th><td>12226       </td><td>less than 20</td><td>less than 20</td><td>less than 20</td><td>31          </td><td>24          </td><td>N           </td><td>Y           </td><td>0           </td><td>M           </td><td>N           </td><td>2016        </td></tr>\n",
       "\t<tr><th scope=row>18</th><td>12214       </td><td>less than 20</td><td>less than 20</td><td>less than 20</td><td>31          </td><td>31          </td><td>N           </td><td>Y           </td><td>0           </td><td>M           </td><td>N           </td><td>2016        </td></tr>\n",
       "\t<tr><th scope=row>19</th><td>12175       </td><td>less than 20</td><td>less than 20</td><td>less than 20</td><td>31          </td><td>31          </td><td>N           </td><td>N           </td><td>0           </td><td>M           </td><td>N           </td><td>2016        </td></tr>\n",
       "\t<tr><th scope=row>20</th><td>12156       </td><td>less than 20</td><td>less than 20</td><td>less than 20</td><td>31          </td><td>31          </td><td>N           </td><td>N           </td><td>0           </td><td>M           </td><td>N           </td><td>2015        </td></tr>\n",
       "\t<tr><th scope=row>21</th><td>12157       </td><td>less than 20</td><td>less than 20</td><td>less than 20</td><td>31          </td><td>10          </td><td>N           </td><td>N           </td><td>0           </td><td>M           </td><td>N           </td><td>2016        </td></tr>\n",
       "\t<tr><th scope=row>22</th><td>12134       </td><td>less than 20</td><td>less than 20</td><td>less than 20</td><td>31          </td><td>25          </td><td>N           </td><td>N           </td><td>0           </td><td>M           </td><td>N           </td><td>2016        </td></tr>\n",
       "\t<tr><th scope=row>23</th><td>12125       </td><td>20-30       </td><td>20-30       </td><td>20-30       </td><td>31          </td><td>24          </td><td>Y           </td><td>Y           </td><td>0           </td><td>M           </td><td>N           </td><td>2016        </td></tr>\n",
       "\t<tr><th scope=row>24</th><td>12061       </td><td>less than 20</td><td>less than 20</td><td>less than 20</td><td>31          </td><td> 4          </td><td>Y           </td><td>Y           </td><td>0           </td><td>M           </td><td>Y           </td><td>2016        </td></tr>\n",
       "\t<tr><th scope=row>25</th><td>12069       </td><td>less than 20</td><td>less than 20</td><td>less than 20</td><td>31          </td><td>31          </td><td>N           </td><td>N           </td><td>0           </td><td>M           </td><td>N           </td><td>2016        </td></tr>\n",
       "\t<tr><th scope=row>26</th><td>12052       </td><td>less than 20</td><td>less than 20</td><td>less than 20</td><td>31          </td><td> 4          </td><td>N           </td><td>N           </td><td>0           </td><td>M           </td><td>N           </td><td>2016        </td></tr>\n",
       "\t<tr><th scope=row>27</th><td>11988       </td><td>less than 20</td><td>less than 20</td><td>less than 20</td><td>31          </td><td>31          </td><td>N           </td><td>N           </td><td>0           </td><td>M           </td><td>N           </td><td>2012        </td></tr>\n",
       "\t<tr><th scope=row>28</th><td>11969       </td><td>20-30       </td><td>20-30       </td><td>20-30       </td><td>31          </td><td>15          </td><td>Y           </td><td>N           </td><td>0           </td><td>M           </td><td>Y           </td><td>2016        </td></tr>\n",
       "\t<tr><th scope=row>29</th><td>11936       </td><td>less than 20</td><td>less than 20</td><td>20-30       </td><td>31          </td><td>22          </td><td>N           </td><td>Y           </td><td>0           </td><td>M           </td><td>N           </td><td>2015        </td></tr>\n",
       "\t<tr><th scope=row>30</th><td>11896       </td><td>20-30       </td><td>20-30       </td><td>20-30       </td><td>31          </td><td> 5          </td><td>N           </td><td>N           </td><td>0           </td><td>M           </td><td>N           </td><td>2015        </td></tr>\n",
       "\t<tr><th scope=row>...</th><td>...</td><td>...</td><td>...</td><td>...</td><td>...</td><td>...</td><td>...</td><td>...</td><td>...</td><td>...</td><td>...</td><td>...</td></tr>\n",
       "\t<tr><th scope=row>290179</th><td>7857        </td><td>30-40       </td><td>30-40       </td><td>40-50       </td><td>8           </td><td> 7          </td><td>N           </td><td>N           </td><td>0           </td><td>F           </td><td>Y           </td><td>2013        </td></tr>\n",
       "\t<tr><th scope=row>290180</th><td>7765        </td><td>40-50       </td><td>40-50       </td><td>40-50       </td><td>8           </td><td>31          </td><td>N           </td><td>N           </td><td>0           </td><td>M           </td><td>Y           </td><td>2015        </td></tr>\n",
       "\t<tr><th scope=row>290181</th><td>7754        </td><td>40-50       </td><td>40-50       </td><td>40-50       </td><td>8           </td><td>31          </td><td>N           </td><td>N           </td><td>0           </td><td>F           </td><td>Y           </td><td>2015        </td></tr>\n",
       "\t<tr><th scope=row>290182</th><td>7674        </td><td>40-50       </td><td>40-50       </td><td>40-50       </td><td>8           </td><td>31          </td><td>N           </td><td>N           </td><td>1           </td><td>M           </td><td>Y           </td><td>2015        </td></tr>\n",
       "\t<tr><th scope=row>290183</th><td>7664        </td><td>40-50       </td><td>40-50       </td><td>40-50       </td><td>8           </td><td>31          </td><td>N           </td><td>N           </td><td>1           </td><td>M           </td><td>Y           </td><td>2016        </td></tr>\n",
       "\t<tr><th scope=row>290184</th><td>7664        </td><td>40-50       </td><td>40-50       </td><td>40-50       </td><td>8           </td><td>31          </td><td>N           </td><td>N           </td><td>0           </td><td>F           </td><td>Y           </td><td>2016        </td></tr>\n",
       "\t<tr><th scope=row>290185</th><td>7630        </td><td>40-50       </td><td>40-50       </td><td>40-50       </td><td>8           </td><td>31          </td><td>N           </td><td>N           </td><td>1           </td><td>M           </td><td>Y           </td><td>2014        </td></tr>\n",
       "\t<tr><th scope=row>290186</th><td>7616        </td><td>40-50       </td><td>40-50       </td><td>40-50       </td><td>8           </td><td> 2          </td><td>N           </td><td>N           </td><td>0           </td><td>M           </td><td>Y           </td><td>2013        </td></tr>\n",
       "\t<tr><th scope=row>290187</th><td>7569        </td><td>40-50       </td><td>40-50       </td><td>40-50       </td><td>8           </td><td> 8          </td><td>N           </td><td>N           </td><td>1           </td><td>M           </td><td>Y           </td><td>2014        </td></tr>\n",
       "\t<tr><th scope=row>290188</th><td>7535        </td><td>40-50       </td><td>40-50       </td><td>40-50       </td><td>8           </td><td>31          </td><td>N           </td><td>N           </td><td>1           </td><td>F           </td><td>Y           </td><td>2013        </td></tr>\n",
       "\t<tr><th scope=row>290189</th><td>7433        </td><td>40-50       </td><td>40-50       </td><td>40-50       </td><td>8           </td><td> 8          </td><td>N           </td><td>N           </td><td>1           </td><td>M           </td><td>Y           </td><td>2014        </td></tr>\n",
       "\t<tr><th scope=row>290190</th><td>7372        </td><td>40-50       </td><td>40-50       </td><td>40-50       </td><td>8           </td><td>31          </td><td>N           </td><td>N           </td><td>1           </td><td>M           </td><td>Y           </td><td>2012        </td></tr>\n",
       "\t<tr><th scope=row>290191</th><td>7339        </td><td>40-50       </td><td>40-50       </td><td>40-50       </td><td>8           </td><td>31          </td><td>N           </td><td>N           </td><td>1           </td><td>M           </td><td>Y           </td><td>2016        </td></tr>\n",
       "\t<tr><th scope=row>290192</th><td>7270        </td><td>50-60       </td><td>50-60       </td><td>50-60       </td><td>8           </td><td>31          </td><td>N           </td><td>N           </td><td>1           </td><td>M           </td><td>Y           </td><td>2016        </td></tr>\n",
       "\t<tr><th scope=row>290193</th><td>7032        </td><td>50-60       </td><td>50-60       </td><td>50-60       </td><td>8           </td><td>20          </td><td>N           </td><td>N           </td><td>1           </td><td>M           </td><td>Y           </td><td>2014        </td></tr>\n",
       "\t<tr><th scope=row>290194</th><td>7011        </td><td>50-60       </td><td>50-60       </td><td>50-60       </td><td>8           </td><td>31          </td><td>N           </td><td>N           </td><td>0           </td><td>F           </td><td>Y           </td><td>2015        </td></tr>\n",
       "\t<tr><th scope=row>290195</th><td>6940        </td><td>50-60       </td><td>50-60       </td><td>50-60       </td><td>8           </td><td>31          </td><td>N           </td><td>N           </td><td>1           </td><td>M           </td><td>Y           </td><td>2015        </td></tr>\n",
       "\t<tr><th scope=row>290196</th><td>6700        </td><td>50-60       </td><td>50-60       </td><td>50-60       </td><td>8           </td><td>31          </td><td>N           </td><td>N           </td><td>1           </td><td>M           </td><td>Y           </td><td>2015        </td></tr>\n",
       "\t<tr><th scope=row>290197</th><td>6691        </td><td>50-60       </td><td>50-60       </td><td>50-60       </td><td>8           </td><td>31          </td><td>N           </td><td>N           </td><td>0           </td><td>M           </td><td>Y           </td><td>2015        </td></tr>\n",
       "\t<tr><th scope=row>290198</th><td>6617        </td><td>50-60       </td><td>50-60       </td><td>50-60       </td><td>8           </td><td> 5          </td><td>Y           </td><td>N           </td><td>0           </td><td>M           </td><td>Y           </td><td>2013        </td></tr>\n",
       "\t<tr><th scope=row>290199</th><td>6580        </td><td>50-60       </td><td>50-60       </td><td>50-60       </td><td>8           </td><td>31          </td><td>N           </td><td>N           </td><td>1           </td><td>M           </td><td>Y           </td><td>2014        </td></tr>\n",
       "\t<tr><th scope=row>290200</th><td>5953        </td><td>60-70       </td><td>60-70       </td><td>60-70       </td><td>8           </td><td>22          </td><td>N           </td><td>N           </td><td>0           </td><td>M           </td><td>Y           </td><td>2013        </td></tr>\n",
       "\t<tr><th scope=row>290201</th><td>5941        </td><td>60-70       </td><td>60-70       </td><td>60-70       </td><td>8           </td><td>31          </td><td>N           </td><td>N           </td><td>1           </td><td>M           </td><td>Y           </td><td>2013        </td></tr>\n",
       "\t<tr><th scope=row>290202</th><td>5855        </td><td>60-70       </td><td>60-70       </td><td>60-70       </td><td>8           </td><td> 8          </td><td>N           </td><td>N           </td><td>1           </td><td>M           </td><td>Y           </td><td>2013        </td></tr>\n",
       "\t<tr><th scope=row>290203</th><td>9526        </td><td>less than 20</td><td>less than 20</td><td>20-30       </td><td>1           </td><td>31          </td><td>N           </td><td>N           </td><td>1           </td><td>M           </td><td>Y           </td><td>2014        </td></tr>\n",
       "\t<tr><th scope=row>290204</th><td>9149        </td><td>20-30       </td><td>20-30       </td><td>20-30       </td><td>1           </td><td>14          </td><td>N           </td><td>N           </td><td>1           </td><td>F           </td><td>Y           </td><td>2014        </td></tr>\n",
       "\t<tr><th scope=row>290205</th><td>9073        </td><td>20-30       </td><td>20-30       </td><td>20-30       </td><td>1           </td><td>20          </td><td>N           </td><td>N           </td><td>1           </td><td>M           </td><td>Y           </td><td>2014        </td></tr>\n",
       "\t<tr><th scope=row>290206</th><td>9600        </td><td>30-40       </td><td>30-40       </td><td>30-40       </td><td>4           </td><td> 4          </td><td>Y           </td><td>Y           </td><td>0           </td><td>M           </td><td>Y           </td><td>2016        </td></tr>\n",
       "\t<tr><th scope=row>290207</th><td>8429        </td><td>30-40       </td><td>30-40       </td><td>30-40       </td><td>4           </td><td>31          </td><td>Y           </td><td>N           </td><td>0           </td><td>M           </td><td>Y           </td><td>2016        </td></tr>\n",
       "\t<tr><th scope=row>290208</th><td>5073        </td><td>70-80       </td><td>70-80       </td><td>70-80       </td><td>4           </td><td> 4          </td><td>N           </td><td>N           </td><td>0           </td><td>M           </td><td>Y           </td><td>2015        </td></tr>\n",
       "</tbody>\n",
       "</table>\n"
      ],
      "text/latex": [
       "\\begin{tabular}{r|llllllllllll}\n",
       "  & PRE\\_RAW\\_HEAT\\_SCORE & AGE\\_GROUP & AGE\\_TO & AGE\\_CURR & LATEST\\_DIST & LATEST\\_DIST\\_RES & DRUG\\_I & WEAPON\\_I & RACE\\_CODE\\_CD & SEX\\_CODE\\_CD & CPD\\_ARREST\\_I & LATEST\\_DATE\\\\\n",
       "\\hline\n",
       "\t1 & 14196        & 20-30        & 20-30        & 20-30        & 31           & 31           & N            & Y            & 0            & M            & N            & 2015        \\\\\n",
       "\t2 & 14511        & 20-30        & 20-30        & 20-30        & 31           &  8           & N            & N            & 1            & M            & N            & 2016        \\\\\n",
       "\t3 & 12982        & less than 20 & less than 20 & less than 20 & 31           &  8           & N            & N            & 1            & M            & N            & 2016        \\\\\n",
       "\t4 & 13110        & less than 20 & less than 20 & less than 20 & 31           &  4           & N            & Y            & 0            & M            & Y            & 2016        \\\\\n",
       "\t5 & 12874        & less than 20 & less than 20 & less than 20 & 31           & 31           & N            & Y            & 0            & M            & N            & 2016        \\\\\n",
       "\t6 & 13535        & less than 20 & less than 20 & 20-30        & 31           &  2           & N            & Y            & 0            & M            & N            & 2015        \\\\\n",
       "\t7 & 12632        & less than 20 & less than 20 & less than 20 & 31           & 31           & N            & N            & 0            & M            & N            & 2015        \\\\\n",
       "\t8 & 12620        & less than 20 & less than 20 & less than 20 & 31           &  5           & N            & N            & 0            & M            & Y            & 2016        \\\\\n",
       "\t9 & 12586        & less than 20 & less than 20 & less than 20 & 31           &  2           & N            & Y            & 0            & M            & N            & 2016        \\\\\n",
       "\t10 & 12476        & less than 20 & less than 20 & 20-30        & 31           & 14           & Y            & Y            & 0            & M            & N            & 2016        \\\\\n",
       "\t11 & 12445        & 20-30        & 20-30        & 20-30        & 31           & 10           & Y            & N            & 0            & M            & N            & 2016        \\\\\n",
       "\t12 & 12438        & 20-30        & 20-30        & 20-30        & 31           & 31           & Y            & N            & 0            & M            & N            & 2015        \\\\\n",
       "\t13 & 12406        & less than 20 & less than 20 & less than 20 & 31           & 31           & N            & N            & 1            & M            & N            & 2016        \\\\\n",
       "\t14 & 12362        & less than 20 & less than 20 & 20-30        & 31           & 24           & Y            & Y            & 0            & M            & N            & 2015        \\\\\n",
       "\t15 & 12319        & less than 20 & less than 20 & less than 20 & 31           & 31           & N            & Y            & 0            & M            & N            & 2016        \\\\\n",
       "\t16 & 12302        & less than 20 & less than 20 & less than 20 & 31           & 31           & N            & Y            & 0            & M            & N            & 2015        \\\\\n",
       "\t17 & 12226        & less than 20 & less than 20 & less than 20 & 31           & 24           & N            & Y            & 0            & M            & N            & 2016        \\\\\n",
       "\t18 & 12214        & less than 20 & less than 20 & less than 20 & 31           & 31           & N            & Y            & 0            & M            & N            & 2016        \\\\\n",
       "\t19 & 12175        & less than 20 & less than 20 & less than 20 & 31           & 31           & N            & N            & 0            & M            & N            & 2016        \\\\\n",
       "\t20 & 12156        & less than 20 & less than 20 & less than 20 & 31           & 31           & N            & N            & 0            & M            & N            & 2015        \\\\\n",
       "\t21 & 12157        & less than 20 & less than 20 & less than 20 & 31           & 10           & N            & N            & 0            & M            & N            & 2016        \\\\\n",
       "\t22 & 12134        & less than 20 & less than 20 & less than 20 & 31           & 25           & N            & N            & 0            & M            & N            & 2016        \\\\\n",
       "\t23 & 12125        & 20-30        & 20-30        & 20-30        & 31           & 24           & Y            & Y            & 0            & M            & N            & 2016        \\\\\n",
       "\t24 & 12061        & less than 20 & less than 20 & less than 20 & 31           &  4           & Y            & Y            & 0            & M            & Y            & 2016        \\\\\n",
       "\t25 & 12069        & less than 20 & less than 20 & less than 20 & 31           & 31           & N            & N            & 0            & M            & N            & 2016        \\\\\n",
       "\t26 & 12052        & less than 20 & less than 20 & less than 20 & 31           &  4           & N            & N            & 0            & M            & N            & 2016        \\\\\n",
       "\t27 & 11988        & less than 20 & less than 20 & less than 20 & 31           & 31           & N            & N            & 0            & M            & N            & 2012        \\\\\n",
       "\t28 & 11969        & 20-30        & 20-30        & 20-30        & 31           & 15           & Y            & N            & 0            & M            & Y            & 2016        \\\\\n",
       "\t29 & 11936        & less than 20 & less than 20 & 20-30        & 31           & 22           & N            & Y            & 0            & M            & N            & 2015        \\\\\n",
       "\t30 & 11896        & 20-30        & 20-30        & 20-30        & 31           &  5           & N            & N            & 0            & M            & N            & 2015        \\\\\n",
       "\t... & ... & ... & ... & ... & ... & ... & ... & ... & ... & ... & ... & ...\\\\\n",
       "\t290179 & 7857         & 30-40        & 30-40        & 40-50        & 8            &  7           & N            & N            & 0            & F            & Y            & 2013        \\\\\n",
       "\t290180 & 7765         & 40-50        & 40-50        & 40-50        & 8            & 31           & N            & N            & 0            & M            & Y            & 2015        \\\\\n",
       "\t290181 & 7754         & 40-50        & 40-50        & 40-50        & 8            & 31           & N            & N            & 0            & F            & Y            & 2015        \\\\\n",
       "\t290182 & 7674         & 40-50        & 40-50        & 40-50        & 8            & 31           & N            & N            & 1            & M            & Y            & 2015        \\\\\n",
       "\t290183 & 7664         & 40-50        & 40-50        & 40-50        & 8            & 31           & N            & N            & 1            & M            & Y            & 2016        \\\\\n",
       "\t290184 & 7664         & 40-50        & 40-50        & 40-50        & 8            & 31           & N            & N            & 0            & F            & Y            & 2016        \\\\\n",
       "\t290185 & 7630         & 40-50        & 40-50        & 40-50        & 8            & 31           & N            & N            & 1            & M            & Y            & 2014        \\\\\n",
       "\t290186 & 7616         & 40-50        & 40-50        & 40-50        & 8            &  2           & N            & N            & 0            & M            & Y            & 2013        \\\\\n",
       "\t290187 & 7569         & 40-50        & 40-50        & 40-50        & 8            &  8           & N            & N            & 1            & M            & Y            & 2014        \\\\\n",
       "\t290188 & 7535         & 40-50        & 40-50        & 40-50        & 8            & 31           & N            & N            & 1            & F            & Y            & 2013        \\\\\n",
       "\t290189 & 7433         & 40-50        & 40-50        & 40-50        & 8            &  8           & N            & N            & 1            & M            & Y            & 2014        \\\\\n",
       "\t290190 & 7372         & 40-50        & 40-50        & 40-50        & 8            & 31           & N            & N            & 1            & M            & Y            & 2012        \\\\\n",
       "\t290191 & 7339         & 40-50        & 40-50        & 40-50        & 8            & 31           & N            & N            & 1            & M            & Y            & 2016        \\\\\n",
       "\t290192 & 7270         & 50-60        & 50-60        & 50-60        & 8            & 31           & N            & N            & 1            & M            & Y            & 2016        \\\\\n",
       "\t290193 & 7032         & 50-60        & 50-60        & 50-60        & 8            & 20           & N            & N            & 1            & M            & Y            & 2014        \\\\\n",
       "\t290194 & 7011         & 50-60        & 50-60        & 50-60        & 8            & 31           & N            & N            & 0            & F            & Y            & 2015        \\\\\n",
       "\t290195 & 6940         & 50-60        & 50-60        & 50-60        & 8            & 31           & N            & N            & 1            & M            & Y            & 2015        \\\\\n",
       "\t290196 & 6700         & 50-60        & 50-60        & 50-60        & 8            & 31           & N            & N            & 1            & M            & Y            & 2015        \\\\\n",
       "\t290197 & 6691         & 50-60        & 50-60        & 50-60        & 8            & 31           & N            & N            & 0            & M            & Y            & 2015        \\\\\n",
       "\t290198 & 6617         & 50-60        & 50-60        & 50-60        & 8            &  5           & Y            & N            & 0            & M            & Y            & 2013        \\\\\n",
       "\t290199 & 6580         & 50-60        & 50-60        & 50-60        & 8            & 31           & N            & N            & 1            & M            & Y            & 2014        \\\\\n",
       "\t290200 & 5953         & 60-70        & 60-70        & 60-70        & 8            & 22           & N            & N            & 0            & M            & Y            & 2013        \\\\\n",
       "\t290201 & 5941         & 60-70        & 60-70        & 60-70        & 8            & 31           & N            & N            & 1            & M            & Y            & 2013        \\\\\n",
       "\t290202 & 5855         & 60-70        & 60-70        & 60-70        & 8            &  8           & N            & N            & 1            & M            & Y            & 2013        \\\\\n",
       "\t290203 & 9526         & less than 20 & less than 20 & 20-30        & 1            & 31           & N            & N            & 1            & M            & Y            & 2014        \\\\\n",
       "\t290204 & 9149         & 20-30        & 20-30        & 20-30        & 1            & 14           & N            & N            & 1            & F            & Y            & 2014        \\\\\n",
       "\t290205 & 9073         & 20-30        & 20-30        & 20-30        & 1            & 20           & N            & N            & 1            & M            & Y            & 2014        \\\\\n",
       "\t290206 & 9600         & 30-40        & 30-40        & 30-40        & 4            &  4           & Y            & Y            & 0            & M            & Y            & 2016        \\\\\n",
       "\t290207 & 8429         & 30-40        & 30-40        & 30-40        & 4            & 31           & Y            & N            & 0            & M            & Y            & 2016        \\\\\n",
       "\t290208 & 5073         & 70-80        & 70-80        & 70-80        & 4            &  4           & N            & N            & 0            & M            & Y            & 2015        \\\\\n",
       "\\end{tabular}\n"
      ],
      "text/markdown": [
       "\n",
       "| <!--/--> | PRE_RAW_HEAT_SCORE | AGE_GROUP | AGE_TO | AGE_CURR | LATEST_DIST | LATEST_DIST_RES | DRUG_I | WEAPON_I | RACE_CODE_CD | SEX_CODE_CD | CPD_ARREST_I | LATEST_DATE | \n",
       "|---|---|---|---|---|---|---|---|---|---|---|---|---|---|---|---|---|---|---|---|---|---|---|---|---|---|---|---|---|---|---|---|---|---|---|---|---|---|---|---|---|---|---|---|---|---|---|---|---|---|---|---|---|---|---|---|---|---|---|---|---|\n",
       "| 1 | 14196        | 20-30        | 20-30        | 20-30        | 31           | 31           | N            | Y            | 0            | M            | N            | 2015         | \n",
       "| 2 | 14511        | 20-30        | 20-30        | 20-30        | 31           |  8           | N            | N            | 1            | M            | N            | 2016         | \n",
       "| 3 | 12982        | less than 20 | less than 20 | less than 20 | 31           |  8           | N            | N            | 1            | M            | N            | 2016         | \n",
       "| 4 | 13110        | less than 20 | less than 20 | less than 20 | 31           |  4           | N            | Y            | 0            | M            | Y            | 2016         | \n",
       "| 5 | 12874        | less than 20 | less than 20 | less than 20 | 31           | 31           | N            | Y            | 0            | M            | N            | 2016         | \n",
       "| 6 | 13535        | less than 20 | less than 20 | 20-30        | 31           |  2           | N            | Y            | 0            | M            | N            | 2015         | \n",
       "| 7 | 12632        | less than 20 | less than 20 | less than 20 | 31           | 31           | N            | N            | 0            | M            | N            | 2015         | \n",
       "| 8 | 12620        | less than 20 | less than 20 | less than 20 | 31           |  5           | N            | N            | 0            | M            | Y            | 2016         | \n",
       "| 9 | 12586        | less than 20 | less than 20 | less than 20 | 31           |  2           | N            | Y            | 0            | M            | N            | 2016         | \n",
       "| 10 | 12476        | less than 20 | less than 20 | 20-30        | 31           | 14           | Y            | Y            | 0            | M            | N            | 2016         | \n",
       "| 11 | 12445        | 20-30        | 20-30        | 20-30        | 31           | 10           | Y            | N            | 0            | M            | N            | 2016         | \n",
       "| 12 | 12438        | 20-30        | 20-30        | 20-30        | 31           | 31           | Y            | N            | 0            | M            | N            | 2015         | \n",
       "| 13 | 12406        | less than 20 | less than 20 | less than 20 | 31           | 31           | N            | N            | 1            | M            | N            | 2016         | \n",
       "| 14 | 12362        | less than 20 | less than 20 | 20-30        | 31           | 24           | Y            | Y            | 0            | M            | N            | 2015         | \n",
       "| 15 | 12319        | less than 20 | less than 20 | less than 20 | 31           | 31           | N            | Y            | 0            | M            | N            | 2016         | \n",
       "| 16 | 12302        | less than 20 | less than 20 | less than 20 | 31           | 31           | N            | Y            | 0            | M            | N            | 2015         | \n",
       "| 17 | 12226        | less than 20 | less than 20 | less than 20 | 31           | 24           | N            | Y            | 0            | M            | N            | 2016         | \n",
       "| 18 | 12214        | less than 20 | less than 20 | less than 20 | 31           | 31           | N            | Y            | 0            | M            | N            | 2016         | \n",
       "| 19 | 12175        | less than 20 | less than 20 | less than 20 | 31           | 31           | N            | N            | 0            | M            | N            | 2016         | \n",
       "| 20 | 12156        | less than 20 | less than 20 | less than 20 | 31           | 31           | N            | N            | 0            | M            | N            | 2015         | \n",
       "| 21 | 12157        | less than 20 | less than 20 | less than 20 | 31           | 10           | N            | N            | 0            | M            | N            | 2016         | \n",
       "| 22 | 12134        | less than 20 | less than 20 | less than 20 | 31           | 25           | N            | N            | 0            | M            | N            | 2016         | \n",
       "| 23 | 12125        | 20-30        | 20-30        | 20-30        | 31           | 24           | Y            | Y            | 0            | M            | N            | 2016         | \n",
       "| 24 | 12061        | less than 20 | less than 20 | less than 20 | 31           |  4           | Y            | Y            | 0            | M            | Y            | 2016         | \n",
       "| 25 | 12069        | less than 20 | less than 20 | less than 20 | 31           | 31           | N            | N            | 0            | M            | N            | 2016         | \n",
       "| 26 | 12052        | less than 20 | less than 20 | less than 20 | 31           |  4           | N            | N            | 0            | M            | N            | 2016         | \n",
       "| 27 | 11988        | less than 20 | less than 20 | less than 20 | 31           | 31           | N            | N            | 0            | M            | N            | 2012         | \n",
       "| 28 | 11969        | 20-30        | 20-30        | 20-30        | 31           | 15           | Y            | N            | 0            | M            | Y            | 2016         | \n",
       "| 29 | 11936        | less than 20 | less than 20 | 20-30        | 31           | 22           | N            | Y            | 0            | M            | N            | 2015         | \n",
       "| 30 | 11896        | 20-30        | 20-30        | 20-30        | 31           |  5           | N            | N            | 0            | M            | N            | 2015         | \n",
       "| ... | ... | ... | ... | ... | ... | ... | ... | ... | ... | ... | ... | ... | \n",
       "| 290179 | 7857         | 30-40        | 30-40        | 40-50        | 8            |  7           | N            | N            | 0            | F            | Y            | 2013         | \n",
       "| 290180 | 7765         | 40-50        | 40-50        | 40-50        | 8            | 31           | N            | N            | 0            | M            | Y            | 2015         | \n",
       "| 290181 | 7754         | 40-50        | 40-50        | 40-50        | 8            | 31           | N            | N            | 0            | F            | Y            | 2015         | \n",
       "| 290182 | 7674         | 40-50        | 40-50        | 40-50        | 8            | 31           | N            | N            | 1            | M            | Y            | 2015         | \n",
       "| 290183 | 7664         | 40-50        | 40-50        | 40-50        | 8            | 31           | N            | N            | 1            | M            | Y            | 2016         | \n",
       "| 290184 | 7664         | 40-50        | 40-50        | 40-50        | 8            | 31           | N            | N            | 0            | F            | Y            | 2016         | \n",
       "| 290185 | 7630         | 40-50        | 40-50        | 40-50        | 8            | 31           | N            | N            | 1            | M            | Y            | 2014         | \n",
       "| 290186 | 7616         | 40-50        | 40-50        | 40-50        | 8            |  2           | N            | N            | 0            | M            | Y            | 2013         | \n",
       "| 290187 | 7569         | 40-50        | 40-50        | 40-50        | 8            |  8           | N            | N            | 1            | M            | Y            | 2014         | \n",
       "| 290188 | 7535         | 40-50        | 40-50        | 40-50        | 8            | 31           | N            | N            | 1            | F            | Y            | 2013         | \n",
       "| 290189 | 7433         | 40-50        | 40-50        | 40-50        | 8            |  8           | N            | N            | 1            | M            | Y            | 2014         | \n",
       "| 290190 | 7372         | 40-50        | 40-50        | 40-50        | 8            | 31           | N            | N            | 1            | M            | Y            | 2012         | \n",
       "| 290191 | 7339         | 40-50        | 40-50        | 40-50        | 8            | 31           | N            | N            | 1            | M            | Y            | 2016         | \n",
       "| 290192 | 7270         | 50-60        | 50-60        | 50-60        | 8            | 31           | N            | N            | 1            | M            | Y            | 2016         | \n",
       "| 290193 | 7032         | 50-60        | 50-60        | 50-60        | 8            | 20           | N            | N            | 1            | M            | Y            | 2014         | \n",
       "| 290194 | 7011         | 50-60        | 50-60        | 50-60        | 8            | 31           | N            | N            | 0            | F            | Y            | 2015         | \n",
       "| 290195 | 6940         | 50-60        | 50-60        | 50-60        | 8            | 31           | N            | N            | 1            | M            | Y            | 2015         | \n",
       "| 290196 | 6700         | 50-60        | 50-60        | 50-60        | 8            | 31           | N            | N            | 1            | M            | Y            | 2015         | \n",
       "| 290197 | 6691         | 50-60        | 50-60        | 50-60        | 8            | 31           | N            | N            | 0            | M            | Y            | 2015         | \n",
       "| 290198 | 6617         | 50-60        | 50-60        | 50-60        | 8            |  5           | Y            | N            | 0            | M            | Y            | 2013         | \n",
       "| 290199 | 6580         | 50-60        | 50-60        | 50-60        | 8            | 31           | N            | N            | 1            | M            | Y            | 2014         | \n",
       "| 290200 | 5953         | 60-70        | 60-70        | 60-70        | 8            | 22           | N            | N            | 0            | M            | Y            | 2013         | \n",
       "| 290201 | 5941         | 60-70        | 60-70        | 60-70        | 8            | 31           | N            | N            | 1            | M            | Y            | 2013         | \n",
       "| 290202 | 5855         | 60-70        | 60-70        | 60-70        | 8            |  8           | N            | N            | 1            | M            | Y            | 2013         | \n",
       "| 290203 | 9526         | less than 20 | less than 20 | 20-30        | 1            | 31           | N            | N            | 1            | M            | Y            | 2014         | \n",
       "| 290204 | 9149         | 20-30        | 20-30        | 20-30        | 1            | 14           | N            | N            | 1            | F            | Y            | 2014         | \n",
       "| 290205 | 9073         | 20-30        | 20-30        | 20-30        | 1            | 20           | N            | N            | 1            | M            | Y            | 2014         | \n",
       "| 290206 | 9600         | 30-40        | 30-40        | 30-40        | 4            |  4           | Y            | Y            | 0            | M            | Y            | 2016         | \n",
       "| 290207 | 8429         | 30-40        | 30-40        | 30-40        | 4            | 31           | Y            | N            | 0            | M            | Y            | 2016         | \n",
       "| 290208 | 5073         | 70-80        | 70-80        | 70-80        | 4            |  4           | N            | N            | 0            | M            | Y            | 2015         | \n",
       "\n",
       "\n"
      ],
      "text/plain": [
       "       PRE_RAW_HEAT_SCORE AGE_GROUP    AGE_TO       AGE_CURR     LATEST_DIST\n",
       "1      14196              20-30        20-30        20-30        31         \n",
       "2      14511              20-30        20-30        20-30        31         \n",
       "3      12982              less than 20 less than 20 less than 20 31         \n",
       "4      13110              less than 20 less than 20 less than 20 31         \n",
       "5      12874              less than 20 less than 20 less than 20 31         \n",
       "6      13535              less than 20 less than 20 20-30        31         \n",
       "7      12632              less than 20 less than 20 less than 20 31         \n",
       "8      12620              less than 20 less than 20 less than 20 31         \n",
       "9      12586              less than 20 less than 20 less than 20 31         \n",
       "10     12476              less than 20 less than 20 20-30        31         \n",
       "11     12445              20-30        20-30        20-30        31         \n",
       "12     12438              20-30        20-30        20-30        31         \n",
       "13     12406              less than 20 less than 20 less than 20 31         \n",
       "14     12362              less than 20 less than 20 20-30        31         \n",
       "15     12319              less than 20 less than 20 less than 20 31         \n",
       "16     12302              less than 20 less than 20 less than 20 31         \n",
       "17     12226              less than 20 less than 20 less than 20 31         \n",
       "18     12214              less than 20 less than 20 less than 20 31         \n",
       "19     12175              less than 20 less than 20 less than 20 31         \n",
       "20     12156              less than 20 less than 20 less than 20 31         \n",
       "21     12157              less than 20 less than 20 less than 20 31         \n",
       "22     12134              less than 20 less than 20 less than 20 31         \n",
       "23     12125              20-30        20-30        20-30        31         \n",
       "24     12061              less than 20 less than 20 less than 20 31         \n",
       "25     12069              less than 20 less than 20 less than 20 31         \n",
       "26     12052              less than 20 less than 20 less than 20 31         \n",
       "27     11988              less than 20 less than 20 less than 20 31         \n",
       "28     11969              20-30        20-30        20-30        31         \n",
       "29     11936              less than 20 less than 20 20-30        31         \n",
       "30     11896              20-30        20-30        20-30        31         \n",
       "...    ...                ...          ...          ...          ...        \n",
       "290179 7857               30-40        30-40        40-50        8          \n",
       "290180 7765               40-50        40-50        40-50        8          \n",
       "290181 7754               40-50        40-50        40-50        8          \n",
       "290182 7674               40-50        40-50        40-50        8          \n",
       "290183 7664               40-50        40-50        40-50        8          \n",
       "290184 7664               40-50        40-50        40-50        8          \n",
       "290185 7630               40-50        40-50        40-50        8          \n",
       "290186 7616               40-50        40-50        40-50        8          \n",
       "290187 7569               40-50        40-50        40-50        8          \n",
       "290188 7535               40-50        40-50        40-50        8          \n",
       "290189 7433               40-50        40-50        40-50        8          \n",
       "290190 7372               40-50        40-50        40-50        8          \n",
       "290191 7339               40-50        40-50        40-50        8          \n",
       "290192 7270               50-60        50-60        50-60        8          \n",
       "290193 7032               50-60        50-60        50-60        8          \n",
       "290194 7011               50-60        50-60        50-60        8          \n",
       "290195 6940               50-60        50-60        50-60        8          \n",
       "290196 6700               50-60        50-60        50-60        8          \n",
       "290197 6691               50-60        50-60        50-60        8          \n",
       "290198 6617               50-60        50-60        50-60        8          \n",
       "290199 6580               50-60        50-60        50-60        8          \n",
       "290200 5953               60-70        60-70        60-70        8          \n",
       "290201 5941               60-70        60-70        60-70        8          \n",
       "290202 5855               60-70        60-70        60-70        8          \n",
       "290203 9526               less than 20 less than 20 20-30        1          \n",
       "290204 9149               20-30        20-30        20-30        1          \n",
       "290205 9073               20-30        20-30        20-30        1          \n",
       "290206 9600               30-40        30-40        30-40        4          \n",
       "290207 8429               30-40        30-40        30-40        4          \n",
       "290208 5073               70-80        70-80        70-80        4          \n",
       "       LATEST_DIST_RES DRUG_I WEAPON_I RACE_CODE_CD SEX_CODE_CD CPD_ARREST_I\n",
       "1      31              N      Y        0            M           N           \n",
       "2       8              N      N        1            M           N           \n",
       "3       8              N      N        1            M           N           \n",
       "4       4              N      Y        0            M           Y           \n",
       "5      31              N      Y        0            M           N           \n",
       "6       2              N      Y        0            M           N           \n",
       "7      31              N      N        0            M           N           \n",
       "8       5              N      N        0            M           Y           \n",
       "9       2              N      Y        0            M           N           \n",
       "10     14              Y      Y        0            M           N           \n",
       "11     10              Y      N        0            M           N           \n",
       "12     31              Y      N        0            M           N           \n",
       "13     31              N      N        1            M           N           \n",
       "14     24              Y      Y        0            M           N           \n",
       "15     31              N      Y        0            M           N           \n",
       "16     31              N      Y        0            M           N           \n",
       "17     24              N      Y        0            M           N           \n",
       "18     31              N      Y        0            M           N           \n",
       "19     31              N      N        0            M           N           \n",
       "20     31              N      N        0            M           N           \n",
       "21     10              N      N        0            M           N           \n",
       "22     25              N      N        0            M           N           \n",
       "23     24              Y      Y        0            M           N           \n",
       "24      4              Y      Y        0            M           Y           \n",
       "25     31              N      N        0            M           N           \n",
       "26      4              N      N        0            M           N           \n",
       "27     31              N      N        0            M           N           \n",
       "28     15              Y      N        0            M           Y           \n",
       "29     22              N      Y        0            M           N           \n",
       "30      5              N      N        0            M           N           \n",
       "...    ...             ...    ...      ...          ...         ...         \n",
       "290179  7              N      N        0            F           Y           \n",
       "290180 31              N      N        0            M           Y           \n",
       "290181 31              N      N        0            F           Y           \n",
       "290182 31              N      N        1            M           Y           \n",
       "290183 31              N      N        1            M           Y           \n",
       "290184 31              N      N        0            F           Y           \n",
       "290185 31              N      N        1            M           Y           \n",
       "290186  2              N      N        0            M           Y           \n",
       "290187  8              N      N        1            M           Y           \n",
       "290188 31              N      N        1            F           Y           \n",
       "290189  8              N      N        1            M           Y           \n",
       "290190 31              N      N        1            M           Y           \n",
       "290191 31              N      N        1            M           Y           \n",
       "290192 31              N      N        1            M           Y           \n",
       "290193 20              N      N        1            M           Y           \n",
       "290194 31              N      N        0            F           Y           \n",
       "290195 31              N      N        1            M           Y           \n",
       "290196 31              N      N        1            M           Y           \n",
       "290197 31              N      N        0            M           Y           \n",
       "290198  5              Y      N        0            M           Y           \n",
       "290199 31              N      N        1            M           Y           \n",
       "290200 22              N      N        0            M           Y           \n",
       "290201 31              N      N        1            M           Y           \n",
       "290202  8              N      N        1            M           Y           \n",
       "290203 31              N      N        1            M           Y           \n",
       "290204 14              N      N        1            F           Y           \n",
       "290205 20              N      N        1            M           Y           \n",
       "290206  4              Y      Y        0            M           Y           \n",
       "290207 31              Y      N        0            M           Y           \n",
       "290208  4              N      N        0            M           Y           \n",
       "       LATEST_DATE\n",
       "1      2015       \n",
       "2      2016       \n",
       "3      2016       \n",
       "4      2016       \n",
       "5      2016       \n",
       "6      2015       \n",
       "7      2015       \n",
       "8      2016       \n",
       "9      2016       \n",
       "10     2016       \n",
       "11     2016       \n",
       "12     2015       \n",
       "13     2016       \n",
       "14     2015       \n",
       "15     2016       \n",
       "16     2015       \n",
       "17     2016       \n",
       "18     2016       \n",
       "19     2016       \n",
       "20     2015       \n",
       "21     2016       \n",
       "22     2016       \n",
       "23     2016       \n",
       "24     2016       \n",
       "25     2016       \n",
       "26     2016       \n",
       "27     2012       \n",
       "28     2016       \n",
       "29     2015       \n",
       "30     2015       \n",
       "...    ...        \n",
       "290179 2013       \n",
       "290180 2015       \n",
       "290181 2015       \n",
       "290182 2015       \n",
       "290183 2016       \n",
       "290184 2016       \n",
       "290185 2014       \n",
       "290186 2013       \n",
       "290187 2014       \n",
       "290188 2013       \n",
       "290189 2014       \n",
       "290190 2012       \n",
       "290191 2016       \n",
       "290192 2016       \n",
       "290193 2014       \n",
       "290194 2015       \n",
       "290195 2015       \n",
       "290196 2015       \n",
       "290197 2015       \n",
       "290198 2013       \n",
       "290199 2014       \n",
       "290200 2013       \n",
       "290201 2013       \n",
       "290202 2013       \n",
       "290203 2014       \n",
       "290204 2014       \n",
       "290205 2014       \n",
       "290206 2016       \n",
       "290207 2016       \n",
       "290208 2015       "
      ]
     },
     "metadata": {},
     "output_type": "display_data"
    }
   ],
   "source": [
    "complete_data"
   ]
  },
  {
   "cell_type": "code",
   "execution_count": 6,
   "metadata": {
    "collapsed": true
   },
   "outputs": [],
   "source": [
    "#sub_set_complete_data<-complete_data[(complete_data$RACE_CODE_CD == \"BLK\") | (complete_data$RACE_CODE_CD == \"WHI\"),]"
   ]
  },
  {
   "cell_type": "code",
   "execution_count": 7,
   "metadata": {
    "collapsed": true
   },
   "outputs": [],
   "source": [
    "#nrow(sub_set_complete_data)"
   ]
  },
  {
   "cell_type": "code",
   "execution_count": 8,
   "metadata": {
    "collapsed": true
   },
   "outputs": [],
   "source": [
    "# Converting the categorical variables into factors\n",
    "complete_data$AGE_GROUP <- as.factor(complete_data$AGE_GROUP)\n",
    "complete_data$AGE_CURR<- as.factor(complete_data$AGE_CURR)\n",
    "complete_data$LATEST_DIST<- as.factor(complete_data$LATEST_DIST)\n",
    "complete_data$LATEST_DIST_RES<- as.factor(complete_data$LATEST_DIST_RES)\n",
    "complete_data$DRUG_I<- as.factor(complete_data$DRUG_I)\n",
    "complete_data$WEAPON_I<- as.factor(complete_data$WEAPON_I)\n",
    "complete_data$RACE_CODE_CD<- as.factor(complete_data$RACE_CODE_CD) \n",
    "complete_data$SEX_CODE_CD<- as.factor(complete_data$SEX_CODE_CD)\n",
    "complete_data$CPD_ARREST_I<- as.factor(complete_data$CPD_ARREST_I)\n",
    "complete_data$LATEST_DATE<- as.factor(complete_data$LATEST_DATE)\n"
   ]
  },
  {
   "cell_type": "code",
   "execution_count": 9,
   "metadata": {},
   "outputs": [
    {
     "data": {
      "text/plain": [
       "\n",
       "Call:\n",
       "glm(formula = RACE_CODE_CD ~ AGE_GROUP + AGE_CURR + LATEST_DIST + \n",
       "    LATEST_DIST_RES + DRUG_I + WEAPON_I + SEX_CODE_CD + CPD_ARREST_I + \n",
       "    LATEST_DATE, family = binomial(), data = complete_data)\n",
       "\n",
       "Deviance Residuals: \n",
       "    Min       1Q   Median       3Q      Max  \n",
       "-2.8627  -0.7741  -0.1700   1.0055   4.0343  \n",
       "\n",
       "Coefficients:\n",
       "                       Estimate Std. Error z value Pr(>|z|)    \n",
       "(Intercept)           -0.981878   0.147901  -6.639 3.16e-11 ***\n",
       "AGE_GROUP30-40        -0.038544   0.022365  -1.723 0.084816 .  \n",
       "AGE_GROUP40-50         0.020366   0.036664   0.555 0.578561    \n",
       "AGE_GROUP50-60         0.024571   0.049211   0.499 0.617560    \n",
       "AGE_GROUP60-70         0.201316   0.073059   2.756 0.005860 ** \n",
       "AGE_GROUP70-80         0.490044   0.156569   3.130 0.001749 ** \n",
       "AGE_GROUPless than 20 -0.114250   0.020636  -5.537 3.09e-08 ***\n",
       "AGE_CURR30-40          0.157969   0.021226   7.442 9.89e-14 ***\n",
       "AGE_CURR40-50          0.056730   0.035089   1.617 0.105935    \n",
       "AGE_CURR50-60          0.120023   0.047125   2.547 0.010868 *  \n",
       "AGE_CURR60-70          0.065057   0.065503   0.993 0.320616    \n",
       "AGE_CURR70-80         -0.022430   0.126748  -0.177 0.859533    \n",
       "AGE_CURRless than 20  -0.385409   0.026030 -14.807  < 2e-16 ***\n",
       "LATEST_DIST2          -1.974686   0.087247 -22.633  < 2e-16 ***\n",
       "LATEST_DIST3          -2.552922   0.098274 -25.978  < 2e-16 ***\n",
       "LATEST_DIST4          -1.209274   0.059476 -20.332  < 2e-16 ***\n",
       "LATEST_DIST5          -2.174575   0.076107 -28.572  < 2e-16 ***\n",
       "LATEST_DIST6          -2.113071   0.070806 -29.843  < 2e-16 ***\n",
       "LATEST_DIST7          -2.569997   0.083921 -30.624  < 2e-16 ***\n",
       "LATEST_DIST8          -0.376546   0.046462  -8.104 5.30e-16 ***\n",
       "LATEST_DIST9          -0.523577   0.052202 -10.030  < 2e-16 ***\n",
       "LATEST_DIST10         -1.070313   0.060582 -17.667  < 2e-16 ***\n",
       "LATEST_DIST11         -1.087706   0.044387 -24.505  < 2e-16 ***\n",
       "LATEST_DIST12         -0.079424   0.047557  -1.670 0.094906 .  \n",
       "LATEST_DIST14          0.517702   0.057458   9.010  < 2e-16 ***\n",
       "LATEST_DIST15         -1.225158   0.054699 -22.398  < 2e-16 ***\n",
       "LATEST_DIST16          1.233023   0.055957  22.035  < 2e-16 ***\n",
       "LATEST_DIST17          0.676310   0.065679  10.297  < 2e-16 ***\n",
       "LATEST_DIST18          0.242719   0.044849   5.412 6.23e-08 ***\n",
       "LATEST_DIST19          0.307113   0.045346   6.773 1.26e-11 ***\n",
       "LATEST_DIST20          0.145020   0.063143   2.297 0.021636 *  \n",
       "LATEST_DIST22         -1.211982   0.062786 -19.303  < 2e-16 ***\n",
       "LATEST_DIST24         -0.274683   0.055335  -4.964 6.91e-07 ***\n",
       "LATEST_DIST25         -0.287819   0.047974  -6.000 1.98e-09 ***\n",
       "LATEST_DIST31         -0.318699   0.043654  -7.301 2.87e-13 ***\n",
       "LATEST_DIST_RES2      -1.792925   0.093970 -19.080  < 2e-16 ***\n",
       "LATEST_DIST_RES3      -2.903541   0.140636 -20.646  < 2e-16 ***\n",
       "LATEST_DIST_RES4      -1.140311   0.071824 -15.877  < 2e-16 ***\n",
       "LATEST_DIST_RES5      -2.373923   0.104887 -22.633  < 2e-16 ***\n",
       "LATEST_DIST_RES6      -3.056462   0.134589 -22.710  < 2e-16 ***\n",
       "LATEST_DIST_RES7      -2.492285   0.108626 -22.944  < 2e-16 ***\n",
       "LATEST_DIST_RES8       0.452138   0.055973   8.078 6.60e-16 ***\n",
       "LATEST_DIST_RES9       0.837019   0.061891  13.524  < 2e-16 ***\n",
       "LATEST_DIST_RES10     -0.794408   0.068696 -11.564  < 2e-16 ***\n",
       "LATEST_DIST_RES11     -1.871603   0.072163 -25.936  < 2e-16 ***\n",
       "LATEST_DIST_RES12      0.209967   0.060295   3.482 0.000497 ***\n",
       "LATEST_DIST_RES14      0.737757   0.064316  11.471  < 2e-16 ***\n",
       "LATEST_DIST_RES15     -2.620255   0.101100 -25.917  < 2e-16 ***\n",
       "LATEST_DIST_RES16      3.299535   0.079909  41.291  < 2e-16 ***\n",
       "LATEST_DIST_RES17      1.928533   0.072934  26.442  < 2e-16 ***\n",
       "LATEST_DIST_RES18      0.444464   0.071394   6.225 4.80e-10 ***\n",
       "LATEST_DIST_RES19      1.049017   0.061480  17.063  < 2e-16 ***\n",
       "LATEST_DIST_RES20      0.976324   0.070998  13.751  < 2e-16 ***\n",
       "LATEST_DIST_RES22     -0.631125   0.067182  -9.394  < 2e-16 ***\n",
       "LATEST_DIST_RES24      0.598806   0.061693   9.706  < 2e-16 ***\n",
       "LATEST_DIST_RES25      0.216190   0.058007   3.727 0.000194 ***\n",
       "LATEST_DIST_RES31      0.950316   0.048236  19.701  < 2e-16 ***\n",
       "DRUG_IY               -0.180107   0.013319 -13.523  < 2e-16 ***\n",
       "WEAPON_IY             -1.644314   0.039542 -41.584  < 2e-16 ***\n",
       "SEX_CODE_CDM           0.271671   0.011303  24.035  < 2e-16 ***\n",
       "SEX_CODE_CDX           0.373112   0.423746   0.881 0.378583    \n",
       "CPD_ARREST_IY         -0.482333   0.033116 -14.565  < 2e-16 ***\n",
       "LATEST_DATE2007        0.161403   0.177075   0.911 0.362036    \n",
       "LATEST_DATE2008        0.230329   0.170746   1.349 0.177351    \n",
       "LATEST_DATE2009        0.229803   0.165454   1.389 0.164855    \n",
       "LATEST_DATE2010       -0.001601   0.157995  -0.010 0.991915    \n",
       "LATEST_DATE2011        0.013610   0.150857   0.090 0.928113    \n",
       "LATEST_DATE2012        0.340077   0.136665   2.488 0.012832 *  \n",
       "LATEST_DATE2013        0.273109   0.136137   2.006 0.044842 *  \n",
       "LATEST_DATE2014        0.248886   0.136201   1.827 0.067649 .  \n",
       "LATEST_DATE2015        0.230994   0.136274   1.695 0.090063 .  \n",
       "LATEST_DATE2016        0.084887   0.136492   0.622 0.533998    \n",
       "---\n",
       "Signif. codes:  0 '***' 0.001 '**' 0.01 '*' 0.05 '.' 0.1 ' ' 1\n",
       "\n",
       "(Dispersion parameter for binomial family taken to be 1)\n",
       "\n",
       "    Null deviance: 345951  on 290004  degrees of freedom\n",
       "Residual deviance: 241033  on 289933  degrees of freedom\n",
       "AIC: 241177\n",
       "\n",
       "Number of Fisher Scoring iterations: 7\n"
      ]
     },
     "metadata": {},
     "output_type": "display_data"
    }
   ],
   "source": [
    "m_ps_a <- glm(RACE_CODE_CD ~ AGE_GROUP  +  AGE_CURR + \n",
    "            LATEST_DIST + LATEST_DIST_RES + DRUG_I + WEAPON_I +SEX_CODE_CD+CPD_ARREST_I+LATEST_DATE,            \n",
    "            family = binomial(), data = complete_data)\n",
    "summary(m_ps_a)"
   ]
  },
  {
   "cell_type": "code",
   "execution_count": 10,
   "metadata": {},
   "outputs": [
    {
     "data": {
      "text/html": [
       "<table>\n",
       "<thead><tr><th scope=col>pr_score</th><th scope=col>RACE_CODE_CD</th></tr></thead>\n",
       "<tbody>\n",
       "\t<tr><td>0.183635214</td><td>0          </td></tr>\n",
       "\t<tr><td>0.379450782</td><td>1          </td></tr>\n",
       "\t<tr><td>0.270608192</td><td>1          </td></tr>\n",
       "\t<tr><td>0.008918794</td><td>0          </td></tr>\n",
       "\t<tr><td>0.105488473</td><td>0          </td></tr>\n",
       "\t<tr><td>0.012749884</td><td>0          </td></tr>\n",
       "</tbody>\n",
       "</table>\n"
      ],
      "text/latex": [
       "\\begin{tabular}{r|ll}\n",
       " pr\\_score & RACE\\_CODE\\_CD\\\\\n",
       "\\hline\n",
       "\t 0.183635214 & 0          \\\\\n",
       "\t 0.379450782 & 1          \\\\\n",
       "\t 0.270608192 & 1          \\\\\n",
       "\t 0.008918794 & 0          \\\\\n",
       "\t 0.105488473 & 0          \\\\\n",
       "\t 0.012749884 & 0          \\\\\n",
       "\\end{tabular}\n"
      ],
      "text/markdown": [
       "\n",
       "pr_score | RACE_CODE_CD | \n",
       "|---|---|---|---|---|---|\n",
       "| 0.183635214 | 0           | \n",
       "| 0.379450782 | 1           | \n",
       "| 0.270608192 | 1           | \n",
       "| 0.008918794 | 0           | \n",
       "| 0.105488473 | 0           | \n",
       "| 0.012749884 | 0           | \n",
       "\n",
       "\n"
      ],
      "text/plain": [
       "  pr_score    RACE_CODE_CD\n",
       "1 0.183635214 0           \n",
       "2 0.379450782 1           \n",
       "3 0.270608192 1           \n",
       "4 0.008918794 0           \n",
       "5 0.105488473 0           \n",
       "6 0.012749884 0           "
      ]
     },
     "metadata": {},
     "output_type": "display_data"
    }
   ],
   "source": [
    "prs_df_a <- data.frame(pr_score = predict(m_ps_a, type = \"response\"),\n",
    "                     RACE_CODE_CD = m_ps_a$model$RACE_CODE_CD)\n",
    "head(prs_df_a)"
   ]
  },
  {
   "cell_type": "code",
   "execution_count": 11,
   "metadata": {},
   "outputs": [
    {
     "name": "stderr",
     "output_type": "stream",
     "text": [
      "Warning message:\n",
      "\"package 'dplyr' was built under R version 3.3.3\"\n",
      "Attaching package: 'dplyr'\n",
      "\n",
      "The following objects are masked from 'package:stats':\n",
      "\n",
      "    filter, lag\n",
      "\n",
      "The following objects are masked from 'package:base':\n",
      "\n",
      "    intersect, setdiff, setequal, union\n",
      "\n",
      "Warning message:\n",
      "\"package 'ggplot2' was built under R version 3.3.3\"`stat_bin()` using `bins = 30`. Pick better value with `binwidth`.\n"
     ]
    },
    {
     "data": {},
     "metadata": {},
     "output_type": "display_data"
    },
    {
     "data": {
      "image/png": "[encoded data removed]",
      "text/plain": [
       "plot without title"
      ]
     },
     "metadata": {},
     "output_type": "display_data"
    }
   ],
   "source": [
    "library(dplyr)\n",
    "library(ggplot2)\n",
    "labs <- paste(\"Person's Race:\", c(\"Black\", \"White\"))\n",
    "prs_df_a %>%\n",
    "  mutate(RACE_CODE_CD = ifelse(RACE_CODE_CD == 0, labs[1], labs[2])) %>%\n",
    "  ggplot(aes(x = pr_score)) +\n",
    "  geom_histogram(color = \"white\") +\n",
    "  facet_wrap(~RACE_CODE_CD) +\n",
    "  xlab(\"Probability of Race: Black & White\") +\n",
    "  theme_bw()"
   ]
  },
  {
   "cell_type": "code",
   "execution_count": 12,
   "metadata": {},
   "outputs": [
    {
     "name": "stderr",
     "output_type": "stream",
     "text": [
      "Warning message:\n",
      "\"package 'MatchIt' was built under R version 3.3.3\""
     ]
    }
   ],
   "source": [
    "library(MatchIt )"
   ]
  },
  {
   "cell_type": "code",
   "execution_count": 13,
   "metadata": {
    "collapsed": true
   },
   "outputs": [],
   "source": [
    "m.out = matchit(RACE_CODE_CD~ AGE_GROUP + AGE_CURR+LATEST_DIST+LATEST_DIST_RES+DRUG_I+WEAPON_I+\n",
    "                  SEX_CODE_CD+CPD_ARREST_I+LATEST_DATE,\n",
    "                data = complete_data, method = \"nearest\",\n",
    "                ratio = 1)"
   ]
  },
  {
   "cell_type": "code",
   "execution_count": 14,
   "metadata": {},
   "outputs": [
    {
     "data": {
      "text/plain": [
       "\n",
       "Call: \n",
       "matchit(formula = RACE_CODE_CD ~ AGE_GROUP + AGE_CURR + LATEST_DIST + \n",
       "    LATEST_DIST_RES + DRUG_I + WEAPON_I + SEX_CODE_CD + CPD_ARREST_I + \n",
       "    LATEST_DATE, data = complete_data, method = \"nearest\", ratio = 1)\n",
       "\n",
       "Sample sizes:\n",
       "          Control Treated\n",
       "All        207717   82288\n",
       "Matched     82288   82288\n",
       "Unmatched  125429       0\n",
       "Discarded       0       0\n"
      ]
     },
     "metadata": {},
     "output_type": "display_data"
    }
   ],
   "source": [
    "m.out"
   ]
  },
  {
   "cell_type": "code",
   "execution_count": 15,
   "metadata": {},
   "outputs": [
    {
     "name": "stdout",
     "output_type": "stream",
     "text": [
      "[1] \"To identify the units, use first mouse button; to stop, use second.\"\n"
     ]
    },
    {
     "data": {
      "text/html": [],
      "text/latex": [],
      "text/markdown": [],
      "text/plain": [
       "integer(0)"
      ]
     },
     "metadata": {},
     "output_type": "display_data"
    },
    {
     "data": {
      "image/png": "[encoded data removed]",
      "text/plain": [
       "Plot with title \"Distribution of Propensity Scores\""
      ]
     },
     "metadata": {},
     "output_type": "display_data"
    }
   ],
   "source": [
    "plot(m.out, type = \"jitter\")"
   ]
  },
  {
   "cell_type": "code",
   "execution_count": 16,
   "metadata": {},
   "outputs": [
    {
     "data": {
      "image/png": "[encoded data removed]",
      "text/plain": [
       "Plot with title \"Matched Control\""
      ]
     },
     "metadata": {},
     "output_type": "display_data"
    }
   ],
   "source": [
    "plot(m.out, type = \"hist\")"
   ]
  },
  {
   "cell_type": "code",
   "execution_count": 17,
   "metadata": {},
   "outputs": [
    {
     "data": {
      "text/html": [
       "<ol class=list-inline>\n",
       "\t<li>164576</li>\n",
       "\t<li>14</li>\n",
       "</ol>\n"
      ],
      "text/latex": [
       "\\begin{enumerate*}\n",
       "\\item 164576\n",
       "\\item 14\n",
       "\\end{enumerate*}\n"
      ],
      "text/markdown": [
       "1. 164576\n",
       "2. 14\n",
       "\n",
       "\n"
      ],
      "text/plain": [
       "[1] 164576     14"
      ]
     },
     "metadata": {},
     "output_type": "display_data"
    }
   ],
   "source": [
    "dta_m_1 <- match.data((m.out))\n",
    "dim(dta_m_1)"
   ]
  },
  {
   "cell_type": "code",
   "execution_count": 22,
   "metadata": {},
   "outputs": [],
   "source": [
    "matched_1 <- match.data(m.out)\n",
    "matched_copy_1<-matched_1"
   ]
  },
  {
   "cell_type": "code",
   "execution_count": 25,
   "metadata": {},
   "outputs": [
    {
     "name": "stderr",
     "output_type": "stream",
     "text": [
      "The following objects are masked from matched_1 (pos = 3):\n",
      "\n",
      "    AGE_CURR, AGE_GROUP, AGE_TO, CPD_ARREST_I, distance, DRUG_I,\n",
      "    LATEST_DATE, LATEST_DIST, LATEST_DIST_RES, PRE_RAW_HEAT_SCORE,\n",
      "    RACE_CODE_CD, SEX_CODE_CD, WEAPON_I, weights\n",
      "\n"
     ]
    },
    {
     "data": {
      "image/png": "[encoded data removed]",
      "text/plain": [
       "plot without title"
      ]
     },
     "metadata": {},
     "output_type": "display_data"
    }
   ],
   "source": [
    "# Doing T - test on matched records\n",
    "attach(matched_1)\n",
    "boxplot(PRE_RAW_HEAT_SCORE~RACE_CODE_CD)"
   ]
  },
  {
   "cell_type": "code",
   "execution_count": 29,
   "metadata": {},
   "outputs": [
    {
     "data": {
      "image/png": "[encoded data removed]",
      "text/plain": [
       "Plot with title \"Normal Q-Q Plot\""
      ]
     },
     "metadata": {},
     "output_type": "display_data"
    }
   ],
   "source": [
    "race_black <-subset(matched_1,RACE_CODE_CD == 0)\n",
    "race_white<-subset(matched_1,RACE_CODE_CD == 1)\n",
    "# Normal QQ Plot for RACE == BLACK\n",
    "qqnorm(race_black$PRE_RAW_HEAT_SCORE)\n",
    "qqline(race_black$PRE_RAW_HEAT_SCORE)"
   ]
  },
  {
   "cell_type": "code",
   "execution_count": 30,
   "metadata": {},
   "outputs": [
    {
     "data": {
      "image/png": "[encoded data removed]",
      "text/plain": [
       "Plot with title \"Normal Q-Q Plot\""
      ]
     },
     "metadata": {},
     "output_type": "display_data"
    }
   ],
   "source": [
    "# Normal QQ Plot for RACE == WHITE\n",
    "qqnorm(race_white$PRE_RAW_HEAT_SCORE)\n",
    "qqline(race_white$PRE_RAW_HEAT_SCORE)"
   ]
  },
  {
   "cell_type": "code",
   "execution_count": 31,
   "metadata": {},
   "outputs": [
    {
     "data": {
      "text/plain": [
       "\n",
       "\tWelch Two Sample t-test\n",
       "\n",
       "data:  PRE_RAW_HEAT_SCORE by RACE_CODE_CD\n",
       "t = 21.231, df = 164540, p-value < 2.2e-16\n",
       "alternative hypothesis: true difference in means is not equal to 0\n",
       "95 percent confidence interval:\n",
       "  99.05342 119.20236\n",
       "sample estimates:\n",
       "mean in group 0 mean in group 1 \n",
       "       8554.839        8445.712 \n"
      ]
     },
     "metadata": {},
     "output_type": "display_data"
    }
   ],
   "source": [
    "t.test(PRE_RAW_HEAT_SCORE~RACE_CODE_CD)"
   ]
  }
 ],
 "metadata": {
  "kernelspec": {
   "display_name": "R",
   "language": "R",
   "name": "ir"
  },
  "language_info": {
   "codemirror_mode": "r",
   "file_extension": ".r",
   "mimetype": "text/x-r-source",
   "name": "R",
   "pygments_lexer": "r",
   "version": "3.3.2"
  }
 },
 "nbformat": 4,
 "nbformat_minor": 2
}
