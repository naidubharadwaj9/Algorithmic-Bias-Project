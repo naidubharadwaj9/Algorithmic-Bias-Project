{
 "cells": [
  {
   "cell_type": "code",
   "execution_count": 1,
   "metadata": {},
   "outputs": [
    {
     "name": "stdout",
     "output_type": "stream",
     "text": [
      "The Number of Rows in Initial Data is 290208"
     ]
    }
   ],
   "source": [
    "raw_data <- read.csv(\"Data_SSL_PSM.csv\", sep=\",\", header=T, strip.white = T, na.strings = c(\"NA\",\"NaN\",\"\",\"?\"))\n",
    "#Converting the \".\" in column names to \"_\"\n",
    "names(raw_data)<-gsub(\"\\\\.\", \"_\", names(raw_data))\n",
    "cat(\"The Number of Rows in Initial Data is\", nrow(raw_data))"
   ]
  },
  {
   "cell_type": "code",
   "execution_count": 2,
   "metadata": {},
   "outputs": [
    {
     "data": {
      "text/html": [
       "<dl class=dl-horizontal>\n",
       "\t<dt>PRE_RAW_HEAT_SCORE</dt>\n",
       "\t\t<dd>0</dd>\n",
       "\t<dt>AGE_GROUP</dt>\n",
       "\t\t<dd>131</dd>\n",
       "\t<dt>AGE_TO</dt>\n",
       "\t\t<dd>131</dd>\n",
       "\t<dt>AGE_CURR</dt>\n",
       "\t\t<dd>203</dd>\n",
       "\t<dt>LATEST_DIST</dt>\n",
       "\t\t<dd>0</dd>\n",
       "\t<dt>LATEST_DIST_RES</dt>\n",
       "\t\t<dd>0</dd>\n",
       "\t<dt>DRUG_I</dt>\n",
       "\t\t<dd>0</dd>\n",
       "\t<dt>WEAPON_I</dt>\n",
       "\t\t<dd>0</dd>\n",
       "\t<dt>RACE_CODE_CD</dt>\n",
       "\t\t<dd>0</dd>\n",
       "\t<dt>SEX_CODE_CD</dt>\n",
       "\t\t<dd>0</dd>\n",
       "\t<dt>CPD_ARREST_I</dt>\n",
       "\t\t<dd>0</dd>\n",
       "\t<dt>LATEST_DATE</dt>\n",
       "\t\t<dd>0</dd>\n",
       "</dl>\n"
      ],
      "text/latex": [
       "\\begin{description*}\n",
       "\\item[PRE\\textbackslash{}\\_RAW\\textbackslash{}\\_HEAT\\textbackslash{}\\_SCORE] 0\n",
       "\\item[AGE\\textbackslash{}\\_GROUP] 131\n",
       "\\item[AGE\\textbackslash{}\\_TO] 131\n",
       "\\item[AGE\\textbackslash{}\\_CURR] 203\n",
       "\\item[LATEST\\textbackslash{}\\_DIST] 0\n",
       "\\item[LATEST\\textbackslash{}\\_DIST\\textbackslash{}\\_RES] 0\n",
       "\\item[DRUG\\textbackslash{}\\_I] 0\n",
       "\\item[WEAPON\\textbackslash{}\\_I] 0\n",
       "\\item[RACE\\textbackslash{}\\_CODE\\textbackslash{}\\_CD] 0\n",
       "\\item[SEX\\textbackslash{}\\_CODE\\textbackslash{}\\_CD] 0\n",
       "\\item[CPD\\textbackslash{}\\_ARREST\\textbackslash{}\\_I] 0\n",
       "\\item[LATEST\\textbackslash{}\\_DATE] 0\n",
       "\\end{description*}\n"
      ],
      "text/markdown": [
       "PRE_RAW_HEAT_SCORE\n",
       ":   0AGE_GROUP\n",
       ":   131AGE_TO\n",
       ":   131AGE_CURR\n",
       ":   203LATEST_DIST\n",
       ":   0LATEST_DIST_RES\n",
       ":   0DRUG_I\n",
       ":   0WEAPON_I\n",
       ":   0RACE_CODE_CD\n",
       ":   0SEX_CODE_CD\n",
       ":   0CPD_ARREST_I\n",
       ":   0LATEST_DATE\n",
       ":   0\n",
       "\n"
      ],
      "text/plain": [
       "PRE_RAW_HEAT_SCORE          AGE_GROUP             AGE_TO           AGE_CURR \n",
       "                 0                131                131                203 \n",
       "       LATEST_DIST    LATEST_DIST_RES             DRUG_I           WEAPON_I \n",
       "                 0                  0                  0                  0 \n",
       "      RACE_CODE_CD        SEX_CODE_CD       CPD_ARREST_I        LATEST_DATE \n",
       "                 0                  0                  0                  0 "
      ]
     },
     "metadata": {},
     "output_type": "display_data"
    }
   ],
   "source": [
    "# Checking the Missing Values \n",
    "sapply(raw_data,function(x) sum(is.na(x)))"
   ]
  },
  {
   "cell_type": "code",
   "execution_count": 3,
   "metadata": {},
   "outputs": [
    {
     "name": "stdout",
     "output_type": "stream",
     "text": [
      "After removing the incomplete rows, the number of rows are 290005"
     ]
    }
   ],
   "source": [
    "complete_data <- raw_data[complete.cases(raw_data),]\n",
    "cat(\"After removing the incomplete rows, the number of rows are\", nrow(complete_data))"
   ]
  },
  {
   "cell_type": "code",
   "execution_count": 4,
   "metadata": {},
   "outputs": [
    {
     "data": {
      "text/html": [
       "<table>\n",
       "<thead><tr><th></th><th scope=col>PRE_RAW_HEAT_SCORE</th><th scope=col>AGE_GROUP</th><th scope=col>AGE_TO</th><th scope=col>AGE_CURR</th><th scope=col>LATEST_DIST</th><th scope=col>LATEST_DIST_RES</th><th scope=col>DRUG_I</th><th scope=col>WEAPON_I</th><th scope=col>RACE_CODE_CD</th><th scope=col>SEX_CODE_CD</th><th scope=col>CPD_ARREST_I</th><th scope=col>LATEST_DATE</th></tr></thead>\n",
       "<tbody>\n",
       "\t<tr><th scope=row>1</th><td>14196       </td><td>20-30       </td><td>20-30       </td><td>20-30       </td><td>31          </td><td>31          </td><td>N           </td><td>Y           </td><td>0           </td><td>M           </td><td>N           </td><td>2015        </td></tr>\n",
       "\t<tr><th scope=row>2</th><td>14511       </td><td>20-30       </td><td>20-30       </td><td>20-30       </td><td>31          </td><td> 8          </td><td>N           </td><td>N           </td><td>1           </td><td>M           </td><td>N           </td><td>2016        </td></tr>\n",
       "\t<tr><th scope=row>3</th><td>12982       </td><td>less than 20</td><td>less than 20</td><td>less than 20</td><td>31          </td><td> 8          </td><td>N           </td><td>N           </td><td>1           </td><td>M           </td><td>N           </td><td>2016        </td></tr>\n",
       "\t<tr><th scope=row>4</th><td>13110       </td><td>less than 20</td><td>less than 20</td><td>less than 20</td><td>31          </td><td> 4          </td><td>N           </td><td>Y           </td><td>0           </td><td>M           </td><td>Y           </td><td>2016        </td></tr>\n",
       "\t<tr><th scope=row>5</th><td>12874       </td><td>less than 20</td><td>less than 20</td><td>less than 20</td><td>31          </td><td>31          </td><td>N           </td><td>Y           </td><td>0           </td><td>M           </td><td>N           </td><td>2016        </td></tr>\n",
       "\t<tr><th scope=row>6</th><td>13535       </td><td>less than 20</td><td>less than 20</td><td>20-30       </td><td>31          </td><td> 2          </td><td>N           </td><td>Y           </td><td>0           </td><td>M           </td><td>N           </td><td>2015        </td></tr>\n",
       "\t<tr><th scope=row>7</th><td>12632       </td><td>less than 20</td><td>less than 20</td><td>less than 20</td><td>31          </td><td>31          </td><td>N           </td><td>N           </td><td>0           </td><td>M           </td><td>N           </td><td>2015        </td></tr>\n",
       "\t<tr><th scope=row>8</th><td>12620       </td><td>less than 20</td><td>less than 20</td><td>less than 20</td><td>31          </td><td> 5          </td><td>N           </td><td>N           </td><td>0           </td><td>M           </td><td>Y           </td><td>2016        </td></tr>\n",
       "\t<tr><th scope=row>9</th><td>12586       </td><td>less than 20</td><td>less than 20</td><td>less than 20</td><td>31          </td><td> 2          </td><td>N           </td><td>Y           </td><td>0           </td><td>M           </td><td>N           </td><td>2016        </td></tr>\n",
       "\t<tr><th scope=row>10</th><td>12476       </td><td>less than 20</td><td>less than 20</td><td>20-30       </td><td>31          </td><td>14          </td><td>Y           </td><td>Y           </td><td>0           </td><td>M           </td><td>N           </td><td>2016        </td></tr>\n",
       "\t<tr><th scope=row>11</th><td>12445       </td><td>20-30       </td><td>20-30       </td><td>20-30       </td><td>31          </td><td>10          </td><td>Y           </td><td>N           </td><td>0           </td><td>M           </td><td>N           </td><td>2016        </td></tr>\n",
       "\t<tr><th scope=row>12</th><td>12438       </td><td>20-30       </td><td>20-30       </td><td>20-30       </td><td>31          </td><td>31          </td><td>Y           </td><td>N           </td><td>0           </td><td>M           </td><td>N           </td><td>2015        </td></tr>\n",
       "\t<tr><th scope=row>13</th><td>12406       </td><td>less than 20</td><td>less than 20</td><td>less than 20</td><td>31          </td><td>31          </td><td>N           </td><td>N           </td><td>1           </td><td>M           </td><td>N           </td><td>2016        </td></tr>\n",
       "\t<tr><th scope=row>14</th><td>12362       </td><td>less than 20</td><td>less than 20</td><td>20-30       </td><td>31          </td><td>24          </td><td>Y           </td><td>Y           </td><td>0           </td><td>M           </td><td>N           </td><td>2015        </td></tr>\n",
       "\t<tr><th scope=row>15</th><td>12319       </td><td>less than 20</td><td>less than 20</td><td>less than 20</td><td>31          </td><td>31          </td><td>N           </td><td>Y           </td><td>0           </td><td>M           </td><td>N           </td><td>2016        </td></tr>\n",
       "\t<tr><th scope=row>16</th><td>12302       </td><td>less than 20</td><td>less than 20</td><td>less than 20</td><td>31          </td><td>31          </td><td>N           </td><td>Y           </td><td>0           </td><td>M           </td><td>N           </td><td>2015        </td></tr>\n",
       "\t<tr><th scope=row>17</th><td>12226       </td><td>less than 20</td><td>less than 20</td><td>less than 20</td><td>31          </td><td>24          </td><td>N           </td><td>Y           </td><td>0           </td><td>M           </td><td>N           </td><td>2016        </td></tr>\n",
       "\t<tr><th scope=row>18</th><td>12214       </td><td>less than 20</td><td>less than 20</td><td>less than 20</td><td>31          </td><td>31          </td><td>N           </td><td>Y           </td><td>0           </td><td>M           </td><td>N           </td><td>2016        </td></tr>\n",
       "\t<tr><th scope=row>19</th><td>12175       </td><td>less than 20</td><td>less than 20</td><td>less than 20</td><td>31          </td><td>31          </td><td>N           </td><td>N           </td><td>0           </td><td>M           </td><td>N           </td><td>2016        </td></tr>\n",
       "\t<tr><th scope=row>20</th><td>12156       </td><td>less than 20</td><td>less than 20</td><td>less than 20</td><td>31          </td><td>31          </td><td>N           </td><td>N           </td><td>0           </td><td>M           </td><td>N           </td><td>2015        </td></tr>\n",
       "\t<tr><th scope=row>21</th><td>12157       </td><td>less than 20</td><td>less than 20</td><td>less than 20</td><td>31          </td><td>10          </td><td>N           </td><td>N           </td><td>0           </td><td>M           </td><td>N           </td><td>2016        </td></tr>\n",
       "\t<tr><th scope=row>22</th><td>12134       </td><td>less than 20</td><td>less than 20</td><td>less than 20</td><td>31          </td><td>25          </td><td>N           </td><td>N           </td><td>0           </td><td>M           </td><td>N           </td><td>2016        </td></tr>\n",
       "\t<tr><th scope=row>23</th><td>12125       </td><td>20-30       </td><td>20-30       </td><td>20-30       </td><td>31          </td><td>24          </td><td>Y           </td><td>Y           </td><td>0           </td><td>M           </td><td>N           </td><td>2016        </td></tr>\n",
       "\t<tr><th scope=row>24</th><td>12061       </td><td>less than 20</td><td>less than 20</td><td>less than 20</td><td>31          </td><td> 4          </td><td>Y           </td><td>Y           </td><td>0           </td><td>M           </td><td>Y           </td><td>2016        </td></tr>\n",
       "\t<tr><th scope=row>25</th><td>12069       </td><td>less than 20</td><td>less than 20</td><td>less than 20</td><td>31          </td><td>31          </td><td>N           </td><td>N           </td><td>0           </td><td>M           </td><td>N           </td><td>2016        </td></tr>\n",
       "\t<tr><th scope=row>26</th><td>12052       </td><td>less than 20</td><td>less than 20</td><td>less than 20</td><td>31          </td><td> 4          </td><td>N           </td><td>N           </td><td>0           </td><td>M           </td><td>N           </td><td>2016        </td></tr>\n",
       "\t<tr><th scope=row>27</th><td>11988       </td><td>less than 20</td><td>less than 20</td><td>less than 20</td><td>31          </td><td>31          </td><td>N           </td><td>N           </td><td>0           </td><td>M           </td><td>N           </td><td>2012        </td></tr>\n",
       "\t<tr><th scope=row>28</th><td>11969       </td><td>20-30       </td><td>20-30       </td><td>20-30       </td><td>31          </td><td>15          </td><td>Y           </td><td>N           </td><td>0           </td><td>M           </td><td>Y           </td><td>2016        </td></tr>\n",
       "\t<tr><th scope=row>29</th><td>11936       </td><td>less than 20</td><td>less than 20</td><td>20-30       </td><td>31          </td><td>22          </td><td>N           </td><td>Y           </td><td>0           </td><td>M           </td><td>N           </td><td>2015        </td></tr>\n",
       "\t<tr><th scope=row>30</th><td>11896       </td><td>20-30       </td><td>20-30       </td><td>20-30       </td><td>31          </td><td> 5          </td><td>N           </td><td>N           </td><td>0           </td><td>M           </td><td>N           </td><td>2015        </td></tr>\n",
       "\t<tr><th scope=row>...</th><td>...</td><td>...</td><td>...</td><td>...</td><td>...</td><td>...</td><td>...</td><td>...</td><td>...</td><td>...</td><td>...</td><td>...</td></tr>\n",
       "\t<tr><th scope=row>290179</th><td>7857        </td><td>30-40       </td><td>30-40       </td><td>40-50       </td><td>8           </td><td> 7          </td><td>N           </td><td>N           </td><td>0           </td><td>F           </td><td>Y           </td><td>2013        </td></tr>\n",
       "\t<tr><th scope=row>290180</th><td>7765        </td><td>40-50       </td><td>40-50       </td><td>40-50       </td><td>8           </td><td>31          </td><td>N           </td><td>N           </td><td>0           </td><td>M           </td><td>Y           </td><td>2015        </td></tr>\n",
       "\t<tr><th scope=row>290181</th><td>7754        </td><td>40-50       </td><td>40-50       </td><td>40-50       </td><td>8           </td><td>31          </td><td>N           </td><td>N           </td><td>0           </td><td>F           </td><td>Y           </td><td>2015        </td></tr>\n",
       "\t<tr><th scope=row>290182</th><td>7674        </td><td>40-50       </td><td>40-50       </td><td>40-50       </td><td>8           </td><td>31          </td><td>N           </td><td>N           </td><td>1           </td><td>M           </td><td>Y           </td><td>2015        </td></tr>\n",
       "\t<tr><th scope=row>290183</th><td>7664        </td><td>40-50       </td><td>40-50       </td><td>40-50       </td><td>8           </td><td>31          </td><td>N           </td><td>N           </td><td>1           </td><td>M           </td><td>Y           </td><td>2016        </td></tr>\n",
       "\t<tr><th scope=row>290184</th><td>7664        </td><td>40-50       </td><td>40-50       </td><td>40-50       </td><td>8           </td><td>31          </td><td>N           </td><td>N           </td><td>0           </td><td>F           </td><td>Y           </td><td>2016        </td></tr>\n",
       "\t<tr><th scope=row>290185</th><td>7630        </td><td>40-50       </td><td>40-50       </td><td>40-50       </td><td>8           </td><td>31          </td><td>N           </td><td>N           </td><td>1           </td><td>M           </td><td>Y           </td><td>2014        </td></tr>\n",
       "\t<tr><th scope=row>290186</th><td>7616        </td><td>40-50       </td><td>40-50       </td><td>40-50       </td><td>8           </td><td> 2          </td><td>N           </td><td>N           </td><td>0           </td><td>M           </td><td>Y           </td><td>2013        </td></tr>\n",
       "\t<tr><th scope=row>290187</th><td>7569        </td><td>40-50       </td><td>40-50       </td><td>40-50       </td><td>8           </td><td> 8          </td><td>N           </td><td>N           </td><td>1           </td><td>M           </td><td>Y           </td><td>2014        </td></tr>\n",
       "\t<tr><th scope=row>290188</th><td>7535        </td><td>40-50       </td><td>40-50       </td><td>40-50       </td><td>8           </td><td>31          </td><td>N           </td><td>N           </td><td>1           </td><td>F           </td><td>Y           </td><td>2013        </td></tr>\n",
       "\t<tr><th scope=row>290189</th><td>7433        </td><td>40-50       </td><td>40-50       </td><td>40-50       </td><td>8           </td><td> 8          </td><td>N           </td><td>N           </td><td>1           </td><td>M           </td><td>Y           </td><td>2014        </td></tr>\n",
       "\t<tr><th scope=row>290190</th><td>7372        </td><td>40-50       </td><td>40-50       </td><td>40-50       </td><td>8           </td><td>31          </td><td>N           </td><td>N           </td><td>1           </td><td>M           </td><td>Y           </td><td>2012        </td></tr>\n",
       "\t<tr><th scope=row>290191</th><td>7339        </td><td>40-50       </td><td>40-50       </td><td>40-50       </td><td>8           </td><td>31          </td><td>N           </td><td>N           </td><td>1           </td><td>M           </td><td>Y           </td><td>2016        </td></tr>\n",
       "\t<tr><th scope=row>290192</th><td>7270        </td><td>50-60       </td><td>50-60       </td><td>50-60       </td><td>8           </td><td>31          </td><td>N           </td><td>N           </td><td>1           </td><td>M           </td><td>Y           </td><td>2016        </td></tr>\n",
       "\t<tr><th scope=row>290193</th><td>7032        </td><td>50-60       </td><td>50-60       </td><td>50-60       </td><td>8           </td><td>20          </td><td>N           </td><td>N           </td><td>1           </td><td>M           </td><td>Y           </td><td>2014        </td></tr>\n",
       "\t<tr><th scope=row>290194</th><td>7011        </td><td>50-60       </td><td>50-60       </td><td>50-60       </td><td>8           </td><td>31          </td><td>N           </td><td>N           </td><td>0           </td><td>F           </td><td>Y           </td><td>2015        </td></tr>\n",
       "\t<tr><th scope=row>290195</th><td>6940        </td><td>50-60       </td><td>50-60       </td><td>50-60       </td><td>8           </td><td>31          </td><td>N           </td><td>N           </td><td>1           </td><td>M           </td><td>Y           </td><td>2015        </td></tr>\n",
       "\t<tr><th scope=row>290196</th><td>6700        </td><td>50-60       </td><td>50-60       </td><td>50-60       </td><td>8           </td><td>31          </td><td>N           </td><td>N           </td><td>1           </td><td>M           </td><td>Y           </td><td>2015        </td></tr>\n",
       "\t<tr><th scope=row>290197</th><td>6691        </td><td>50-60       </td><td>50-60       </td><td>50-60       </td><td>8           </td><td>31          </td><td>N           </td><td>N           </td><td>0           </td><td>M           </td><td>Y           </td><td>2015        </td></tr>\n",
       "\t<tr><th scope=row>290198</th><td>6617        </td><td>50-60       </td><td>50-60       </td><td>50-60       </td><td>8           </td><td> 5          </td><td>Y           </td><td>N           </td><td>0           </td><td>M           </td><td>Y           </td><td>2013        </td></tr>\n",
       "\t<tr><th scope=row>290199</th><td>6580        </td><td>50-60       </td><td>50-60       </td><td>50-60       </td><td>8           </td><td>31          </td><td>N           </td><td>N           </td><td>1           </td><td>M           </td><td>Y           </td><td>2014        </td></tr>\n",
       "\t<tr><th scope=row>290200</th><td>5953        </td><td>60-70       </td><td>60-70       </td><td>60-70       </td><td>8           </td><td>22          </td><td>N           </td><td>N           </td><td>0           </td><td>M           </td><td>Y           </td><td>2013        </td></tr>\n",
       "\t<tr><th scope=row>290201</th><td>5941        </td><td>60-70       </td><td>60-70       </td><td>60-70       </td><td>8           </td><td>31          </td><td>N           </td><td>N           </td><td>1           </td><td>M           </td><td>Y           </td><td>2013        </td></tr>\n",
       "\t<tr><th scope=row>290202</th><td>5855        </td><td>60-70       </td><td>60-70       </td><td>60-70       </td><td>8           </td><td> 8          </td><td>N           </td><td>N           </td><td>1           </td><td>M           </td><td>Y           </td><td>2013        </td></tr>\n",
       "\t<tr><th scope=row>290203</th><td>9526        </td><td>less than 20</td><td>less than 20</td><td>20-30       </td><td>1           </td><td>31          </td><td>N           </td><td>N           </td><td>1           </td><td>M           </td><td>Y           </td><td>2014        </td></tr>\n",
       "\t<tr><th scope=row>290204</th><td>9149        </td><td>20-30       </td><td>20-30       </td><td>20-30       </td><td>1           </td><td>14          </td><td>N           </td><td>N           </td><td>1           </td><td>F           </td><td>Y           </td><td>2014        </td></tr>\n",
       "\t<tr><th scope=row>290205</th><td>9073        </td><td>20-30       </td><td>20-30       </td><td>20-30       </td><td>1           </td><td>20          </td><td>N           </td><td>N           </td><td>1           </td><td>M           </td><td>Y           </td><td>2014        </td></tr>\n",
       "\t<tr><th scope=row>290206</th><td>9600        </td><td>30-40       </td><td>30-40       </td><td>30-40       </td><td>4           </td><td> 4          </td><td>Y           </td><td>Y           </td><td>0           </td><td>M           </td><td>Y           </td><td>2016        </td></tr>\n",
       "\t<tr><th scope=row>290207</th><td>8429        </td><td>30-40       </td><td>30-40       </td><td>30-40       </td><td>4           </td><td>31          </td><td>Y           </td><td>N           </td><td>0           </td><td>M           </td><td>Y           </td><td>2016        </td></tr>\n",
       "\t<tr><th scope=row>290208</th><td>5073        </td><td>70-80       </td><td>70-80       </td><td>70-80       </td><td>4           </td><td> 4          </td><td>N           </td><td>N           </td><td>0           </td><td>M           </td><td>Y           </td><td>2015        </td></tr>\n",
       "</tbody>\n",
       "</table>\n"
      ],
      "text/latex": [
       "\\begin{tabular}{r|llllllllllll}\n",
       "  & PRE\\_RAW\\_HEAT\\_SCORE & AGE\\_GROUP & AGE\\_TO & AGE\\_CURR & LATEST\\_DIST & LATEST\\_DIST\\_RES & DRUG\\_I & WEAPON\\_I & RACE\\_CODE\\_CD & SEX\\_CODE\\_CD & CPD\\_ARREST\\_I & LATEST\\_DATE\\\\\n",
       "\\hline\n",
       "\t1 & 14196        & 20-30        & 20-30        & 20-30        & 31           & 31           & N            & Y            & 0            & M            & N            & 2015        \\\\\n",
       "\t2 & 14511        & 20-30        & 20-30        & 20-30        & 31           &  8           & N            & N            & 1            & M            & N            & 2016        \\\\\n",
       "\t3 & 12982        & less than 20 & less than 20 & less than 20 & 31           &  8           & N            & N            & 1            & M            & N            & 2016        \\\\\n",
       "\t4 & 13110        & less than 20 & less than 20 & less than 20 & 31           &  4           & N            & Y            & 0            & M            & Y            & 2016        \\\\\n",
       "\t5 & 12874        & less than 20 & less than 20 & less than 20 & 31           & 31           & N            & Y            & 0            & M            & N            & 2016        \\\\\n",
       "\t6 & 13535        & less than 20 & less than 20 & 20-30        & 31           &  2           & N            & Y            & 0            & M            & N            & 2015        \\\\\n",
       "\t7 & 12632        & less than 20 & less than 20 & less than 20 & 31           & 31           & N            & N            & 0            & M            & N            & 2015        \\\\\n",
       "\t8 & 12620        & less than 20 & less than 20 & less than 20 & 31           &  5           & N            & N            & 0            & M            & Y            & 2016        \\\\\n",
       "\t9 & 12586        & less than 20 & less than 20 & less than 20 & 31           &  2           & N            & Y            & 0            & M            & N            & 2016        \\\\\n",
       "\t10 & 12476        & less than 20 & less than 20 & 20-30        & 31           & 14           & Y            & Y            & 0            & M            & N            & 2016        \\\\\n",
       "\t11 & 12445        & 20-30        & 20-30        & 20-30        & 31           & 10           & Y            & N            & 0            & M            & N            & 2016        \\\\\n",
       "\t12 & 12438        & 20-30        & 20-30        & 20-30        & 31           & 31           & Y            & N            & 0            & M            & N            & 2015        \\\\\n",
       "\t13 & 12406        & less than 20 & less than 20 & less than 20 & 31           & 31           & N            & N            & 1            & M            & N            & 2016        \\\\\n",
       "\t14 & 12362        & less than 20 & less than 20 & 20-30        & 31           & 24           & Y            & Y            & 0            & M            & N            & 2015        \\\\\n",
       "\t15 & 12319        & less than 20 & less than 20 & less than 20 & 31           & 31           & N            & Y            & 0            & M            & N            & 2016        \\\\\n",
       "\t16 & 12302        & less than 20 & less than 20 & less than 20 & 31           & 31           & N            & Y            & 0            & M            & N            & 2015        \\\\\n",
       "\t17 & 12226        & less than 20 & less than 20 & less than 20 & 31           & 24           & N            & Y            & 0            & M            & N            & 2016        \\\\\n",
       "\t18 & 12214        & less than 20 & less than 20 & less than 20 & 31           & 31           & N            & Y            & 0            & M            & N            & 2016        \\\\\n",
       "\t19 & 12175        & less than 20 & less than 20 & less than 20 & 31           & 31           & N            & N            & 0            & M            & N            & 2016        \\\\\n",
       "\t20 & 12156        & less than 20 & less than 20 & less than 20 & 31           & 31           & N            & N            & 0            & M            & N            & 2015        \\\\\n",
       "\t21 & 12157        & less than 20 & less than 20 & less than 20 & 31           & 10           & N            & N            & 0            & M            & N            & 2016        \\\\\n",
       "\t22 & 12134        & less than 20 & less than 20 & less than 20 & 31           & 25           & N            & N            & 0            & M            & N            & 2016        \\\\\n",
       "\t23 & 12125        & 20-30        & 20-30        & 20-30        & 31           & 24           & Y            & Y            & 0            & M            & N            & 2016        \\\\\n",
       "\t24 & 12061        & less than 20 & less than 20 & less than 20 & 31           &  4           & Y            & Y            & 0            & M            & Y            & 2016        \\\\\n",
       "\t25 & 12069        & less than 20 & less than 20 & less than 20 & 31           & 31           & N            & N            & 0            & M            & N            & 2016        \\\\\n",
       "\t26 & 12052        & less than 20 & less than 20 & less than 20 & 31           &  4           & N            & N            & 0            & M            & N            & 2016        \\\\\n",
       "\t27 & 11988        & less than 20 & less than 20 & less than 20 & 31           & 31           & N            & N            & 0            & M            & N            & 2012        \\\\\n",
       "\t28 & 11969        & 20-30        & 20-30        & 20-30        & 31           & 15           & Y            & N            & 0            & M            & Y            & 2016        \\\\\n",
       "\t29 & 11936        & less than 20 & less than 20 & 20-30        & 31           & 22           & N            & Y            & 0            & M            & N            & 2015        \\\\\n",
       "\t30 & 11896        & 20-30        & 20-30        & 20-30        & 31           &  5           & N            & N            & 0            & M            & N            & 2015        \\\\\n",
       "\t... & ... & ... & ... & ... & ... & ... & ... & ... & ... & ... & ... & ...\\\\\n",
       "\t290179 & 7857         & 30-40        & 30-40        & 40-50        & 8            &  7           & N            & N            & 0            & F            & Y            & 2013        \\\\\n",
       "\t290180 & 7765         & 40-50        & 40-50        & 40-50        & 8            & 31           & N            & N            & 0            & M            & Y            & 2015        \\\\\n",
       "\t290181 & 7754         & 40-50        & 40-50        & 40-50        & 8            & 31           & N            & N            & 0            & F            & Y            & 2015        \\\\\n",
       "\t290182 & 7674         & 40-50        & 40-50        & 40-50        & 8            & 31           & N            & N            & 1            & M            & Y            & 2015        \\\\\n",
       "\t290183 & 7664         & 40-50        & 40-50        & 40-50        & 8            & 31           & N            & N            & 1            & M            & Y            & 2016        \\\\\n",
       "\t290184 & 7664         & 40-50        & 40-50        & 40-50        & 8            & 31           & N            & N            & 0            & F            & Y            & 2016        \\\\\n",
       "\t290185 & 7630         & 40-50        & 40-50        & 40-50        & 8            & 31           & N            & N            & 1            & M            & Y            & 2014        \\\\\n",
       "\t290186 & 7616         & 40-50        & 40-50        & 40-50        & 8            &  2           & N            & N            & 0            & M            & Y            & 2013        \\\\\n",
       "\t290187 & 7569         & 40-50        & 40-50        & 40-50        & 8            &  8           & N            & N            & 1            & M            & Y            & 2014        \\\\\n",
       "\t290188 & 7535         & 40-50        & 40-50        & 40-50        & 8            & 31           & N            & N            & 1            & F            & Y            & 2013        \\\\\n",
       "\t290189 & 7433         & 40-50        & 40-50        & 40-50        & 8            &  8           & N            & N            & 1            & M            & Y            & 2014        \\\\\n",
       "\t290190 & 7372         & 40-50        & 40-50        & 40-50        & 8            & 31           & N            & N            & 1            & M            & Y            & 2012        \\\\\n",
       "\t290191 & 7339         & 40-50        & 40-50        & 40-50        & 8            & 31           & N            & N            & 1            & M            & Y            & 2016        \\\\\n",
       "\t290192 & 7270         & 50-60        & 50-60        & 50-60        & 8            & 31           & N            & N            & 1            & M            & Y            & 2016        \\\\\n",
       "\t290193 & 7032         & 50-60        & 50-60        & 50-60        & 8            & 20           & N            & N            & 1            & M            & Y            & 2014        \\\\\n",
       "\t290194 & 7011         & 50-60        & 50-60        & 50-60        & 8            & 31           & N            & N            & 0            & F            & Y            & 2015        \\\\\n",
       "\t290195 & 6940         & 50-60        & 50-60        & 50-60        & 8            & 31           & N            & N            & 1            & M            & Y            & 2015        \\\\\n",
       "\t290196 & 6700         & 50-60        & 50-60        & 50-60        & 8            & 31           & N            & N            & 1            & M            & Y            & 2015        \\\\\n",
       "\t290197 & 6691         & 50-60        & 50-60        & 50-60        & 8            & 31           & N            & N            & 0            & M            & Y            & 2015        \\\\\n",
       "\t290198 & 6617         & 50-60        & 50-60        & 50-60        & 8            &  5           & Y            & N            & 0            & M            & Y            & 2013        \\\\\n",
       "\t290199 & 6580         & 50-60        & 50-60        & 50-60        & 8            & 31           & N            & N            & 1            & M            & Y            & 2014        \\\\\n",
       "\t290200 & 5953         & 60-70        & 60-70        & 60-70        & 8            & 22           & N            & N            & 0            & M            & Y            & 2013        \\\\\n",
       "\t290201 & 5941         & 60-70        & 60-70        & 60-70        & 8            & 31           & N            & N            & 1            & M            & Y            & 2013        \\\\\n",
       "\t290202 & 5855         & 60-70        & 60-70        & 60-70        & 8            &  8           & N            & N            & 1            & M            & Y            & 2013        \\\\\n",
       "\t290203 & 9526         & less than 20 & less than 20 & 20-30        & 1            & 31           & N            & N            & 1            & M            & Y            & 2014        \\\\\n",
       "\t290204 & 9149         & 20-30        & 20-30        & 20-30        & 1            & 14           & N            & N            & 1            & F            & Y            & 2014        \\\\\n",
       "\t290205 & 9073         & 20-30        & 20-30        & 20-30        & 1            & 20           & N            & N            & 1            & M            & Y            & 2014        \\\\\n",
       "\t290206 & 9600         & 30-40        & 30-40        & 30-40        & 4            &  4           & Y            & Y            & 0            & M            & Y            & 2016        \\\\\n",
       "\t290207 & 8429         & 30-40        & 30-40        & 30-40        & 4            & 31           & Y            & N            & 0            & M            & Y            & 2016        \\\\\n",
       "\t290208 & 5073         & 70-80        & 70-80        & 70-80        & 4            &  4           & N            & N            & 0            & M            & Y            & 2015        \\\\\n",
       "\\end{tabular}\n"
      ],
      "text/markdown": [
       "\n",
       "| <!--/--> | PRE_RAW_HEAT_SCORE | AGE_GROUP | AGE_TO | AGE_CURR | LATEST_DIST | LATEST_DIST_RES | DRUG_I | WEAPON_I | RACE_CODE_CD | SEX_CODE_CD | CPD_ARREST_I | LATEST_DATE | \n",
       "|---|---|---|---|---|---|---|---|---|---|---|---|---|---|---|---|---|---|---|---|---|---|---|---|---|---|---|---|---|---|---|---|---|---|---|---|---|---|---|---|---|---|---|---|---|---|---|---|---|---|---|---|---|---|---|---|---|---|---|---|---|\n",
       "| 1 | 14196        | 20-30        | 20-30        | 20-30        | 31           | 31           | N            | Y            | 0            | M            | N            | 2015         | \n",
       "| 2 | 14511        | 20-30        | 20-30        | 20-30        | 31           |  8           | N            | N            | 1            | M            | N            | 2016         | \n",
       "| 3 | 12982        | less than 20 | less than 20 | less than 20 | 31           |  8           | N            | N            | 1            | M            | N            | 2016         | \n",
       "| 4 | 13110        | less than 20 | less than 20 | less than 20 | 31           |  4           | N            | Y            | 0            | M            | Y            | 2016         | \n",
       "| 5 | 12874        | less than 20 | less than 20 | less than 20 | 31           | 31           | N            | Y            | 0            | M            | N            | 2016         | \n",
       "| 6 | 13535        | less than 20 | less than 20 | 20-30        | 31           |  2           | N            | Y            | 0            | M            | N            | 2015         | \n",
       "| 7 | 12632        | less than 20 | less than 20 | less than 20 | 31           | 31           | N            | N            | 0            | M            | N            | 2015         | \n",
       "| 8 | 12620        | less than 20 | less than 20 | less than 20 | 31           |  5           | N            | N            | 0            | M            | Y            | 2016         | \n",
       "| 9 | 12586        | less than 20 | less than 20 | less than 20 | 31           |  2           | N            | Y            | 0            | M            | N            | 2016         | \n",
       "| 10 | 12476        | less than 20 | less than 20 | 20-30        | 31           | 14           | Y            | Y            | 0            | M            | N            | 2016         | \n",
       "| 11 | 12445        | 20-30        | 20-30        | 20-30        | 31           | 10           | Y            | N            | 0            | M            | N            | 2016         | \n",
       "| 12 | 12438        | 20-30        | 20-30        | 20-30        | 31           | 31           | Y            | N            | 0            | M            | N            | 2015         | \n",
       "| 13 | 12406        | less than 20 | less than 20 | less than 20 | 31           | 31           | N            | N            | 1            | M            | N            | 2016         | \n",
       "| 14 | 12362        | less than 20 | less than 20 | 20-30        | 31           | 24           | Y            | Y            | 0            | M            | N            | 2015         | \n",
       "| 15 | 12319        | less than 20 | less than 20 | less than 20 | 31           | 31           | N            | Y            | 0            | M            | N            | 2016         | \n",
       "| 16 | 12302        | less than 20 | less than 20 | less than 20 | 31           | 31           | N            | Y            | 0            | M            | N            | 2015         | \n",
       "| 17 | 12226        | less than 20 | less than 20 | less than 20 | 31           | 24           | N            | Y            | 0            | M            | N            | 2016         | \n",
       "| 18 | 12214        | less than 20 | less than 20 | less than 20 | 31           | 31           | N            | Y            | 0            | M            | N            | 2016         | \n",
       "| 19 | 12175        | less than 20 | less than 20 | less than 20 | 31           | 31           | N            | N            | 0            | M            | N            | 2016         | \n",
       "| 20 | 12156        | less than 20 | less than 20 | less than 20 | 31           | 31           | N            | N            | 0            | M            | N            | 2015         | \n",
       "| 21 | 12157        | less than 20 | less than 20 | less than 20 | 31           | 10           | N            | N            | 0            | M            | N            | 2016         | \n",
       "| 22 | 12134        | less than 20 | less than 20 | less than 20 | 31           | 25           | N            | N            | 0            | M            | N            | 2016         | \n",
       "| 23 | 12125        | 20-30        | 20-30        | 20-30        | 31           | 24           | Y            | Y            | 0            | M            | N            | 2016         | \n",
       "| 24 | 12061        | less than 20 | less than 20 | less than 20 | 31           |  4           | Y            | Y            | 0            | M            | Y            | 2016         | \n",
       "| 25 | 12069        | less than 20 | less than 20 | less than 20 | 31           | 31           | N            | N            | 0            | M            | N            | 2016         | \n",
       "| 26 | 12052        | less than 20 | less than 20 | less than 20 | 31           |  4           | N            | N            | 0            | M            | N            | 2016         | \n",
       "| 27 | 11988        | less than 20 | less than 20 | less than 20 | 31           | 31           | N            | N            | 0            | M            | N            | 2012         | \n",
       "| 28 | 11969        | 20-30        | 20-30        | 20-30        | 31           | 15           | Y            | N            | 0            | M            | Y            | 2016         | \n",
       "| 29 | 11936        | less than 20 | less than 20 | 20-30        | 31           | 22           | N            | Y            | 0            | M            | N            | 2015         | \n",
       "| 30 | 11896        | 20-30        | 20-30        | 20-30        | 31           |  5           | N            | N            | 0            | M            | N            | 2015         | \n",
       "| ... | ... | ... | ... | ... | ... | ... | ... | ... | ... | ... | ... | ... | \n",
       "| 290179 | 7857         | 30-40        | 30-40        | 40-50        | 8            |  7           | N            | N            | 0            | F            | Y            | 2013         | \n",
       "| 290180 | 7765         | 40-50        | 40-50        | 40-50        | 8            | 31           | N            | N            | 0            | M            | Y            | 2015         | \n",
       "| 290181 | 7754         | 40-50        | 40-50        | 40-50        | 8            | 31           | N            | N            | 0            | F            | Y            | 2015         | \n",
       "| 290182 | 7674         | 40-50        | 40-50        | 40-50        | 8            | 31           | N            | N            | 1            | M            | Y            | 2015         | \n",
       "| 290183 | 7664         | 40-50        | 40-50        | 40-50        | 8            | 31           | N            | N            | 1            | M            | Y            | 2016         | \n",
       "| 290184 | 7664         | 40-50        | 40-50        | 40-50        | 8            | 31           | N            | N            | 0            | F            | Y            | 2016         | \n",
       "| 290185 | 7630         | 40-50        | 40-50        | 40-50        | 8            | 31           | N            | N            | 1            | M            | Y            | 2014         | \n",
       "| 290186 | 7616         | 40-50        | 40-50        | 40-50        | 8            |  2           | N            | N            | 0            | M            | Y            | 2013         | \n",
       "| 290187 | 7569         | 40-50        | 40-50        | 40-50        | 8            |  8           | N            | N            | 1            | M            | Y            | 2014         | \n",
       "| 290188 | 7535         | 40-50        | 40-50        | 40-50        | 8            | 31           | N            | N            | 1            | F            | Y            | 2013         | \n",
       "| 290189 | 7433         | 40-50        | 40-50        | 40-50        | 8            |  8           | N            | N            | 1            | M            | Y            | 2014         | \n",
       "| 290190 | 7372         | 40-50        | 40-50        | 40-50        | 8            | 31           | N            | N            | 1            | M            | Y            | 2012         | \n",
       "| 290191 | 7339         | 40-50        | 40-50        | 40-50        | 8            | 31           | N            | N            | 1            | M            | Y            | 2016         | \n",
       "| 290192 | 7270         | 50-60        | 50-60        | 50-60        | 8            | 31           | N            | N            | 1            | M            | Y            | 2016         | \n",
       "| 290193 | 7032         | 50-60        | 50-60        | 50-60        | 8            | 20           | N            | N            | 1            | M            | Y            | 2014         | \n",
       "| 290194 | 7011         | 50-60        | 50-60        | 50-60        | 8            | 31           | N            | N            | 0            | F            | Y            | 2015         | \n",
       "| 290195 | 6940         | 50-60        | 50-60        | 50-60        | 8            | 31           | N            | N            | 1            | M            | Y            | 2015         | \n",
       "| 290196 | 6700         | 50-60        | 50-60        | 50-60        | 8            | 31           | N            | N            | 1            | M            | Y            | 2015         | \n",
       "| 290197 | 6691         | 50-60        | 50-60        | 50-60        | 8            | 31           | N            | N            | 0            | M            | Y            | 2015         | \n",
       "| 290198 | 6617         | 50-60        | 50-60        | 50-60        | 8            |  5           | Y            | N            | 0            | M            | Y            | 2013         | \n",
       "| 290199 | 6580         | 50-60        | 50-60        | 50-60        | 8            | 31           | N            | N            | 1            | M            | Y            | 2014         | \n",
       "| 290200 | 5953         | 60-70        | 60-70        | 60-70        | 8            | 22           | N            | N            | 0            | M            | Y            | 2013         | \n",
       "| 290201 | 5941         | 60-70        | 60-70        | 60-70        | 8            | 31           | N            | N            | 1            | M            | Y            | 2013         | \n",
       "| 290202 | 5855         | 60-70        | 60-70        | 60-70        | 8            |  8           | N            | N            | 1            | M            | Y            | 2013         | \n",
       "| 290203 | 9526         | less than 20 | less than 20 | 20-30        | 1            | 31           | N            | N            | 1            | M            | Y            | 2014         | \n",
       "| 290204 | 9149         | 20-30        | 20-30        | 20-30        | 1            | 14           | N            | N            | 1            | F            | Y            | 2014         | \n",
       "| 290205 | 9073         | 20-30        | 20-30        | 20-30        | 1            | 20           | N            | N            | 1            | M            | Y            | 2014         | \n",
       "| 290206 | 9600         | 30-40        | 30-40        | 30-40        | 4            |  4           | Y            | Y            | 0            | M            | Y            | 2016         | \n",
       "| 290207 | 8429         | 30-40        | 30-40        | 30-40        | 4            | 31           | Y            | N            | 0            | M            | Y            | 2016         | \n",
       "| 290208 | 5073         | 70-80        | 70-80        | 70-80        | 4            |  4           | N            | N            | 0            | M            | Y            | 2015         | \n",
       "\n",
       "\n"
      ],
      "text/plain": [
       "       PRE_RAW_HEAT_SCORE AGE_GROUP    AGE_TO       AGE_CURR     LATEST_DIST\n",
       "1      14196              20-30        20-30        20-30        31         \n",
       "2      14511              20-30        20-30        20-30        31         \n",
       "3      12982              less than 20 less than 20 less than 20 31         \n",
       "4      13110              less than 20 less than 20 less than 20 31         \n",
       "5      12874              less than 20 less than 20 less than 20 31         \n",
       "6      13535              less than 20 less than 20 20-30        31         \n",
       "7      12632              less than 20 less than 20 less than 20 31         \n",
       "8      12620              less than 20 less than 20 less than 20 31         \n",
       "9      12586              less than 20 less than 20 less than 20 31         \n",
       "10     12476              less than 20 less than 20 20-30        31         \n",
       "11     12445              20-30        20-30        20-30        31         \n",
       "12     12438              20-30        20-30        20-30        31         \n",
       "13     12406              less than 20 less than 20 less than 20 31         \n",
       "14     12362              less than 20 less than 20 20-30        31         \n",
       "15     12319              less than 20 less than 20 less than 20 31         \n",
       "16     12302              less than 20 less than 20 less than 20 31         \n",
       "17     12226              less than 20 less than 20 less than 20 31         \n",
       "18     12214              less than 20 less than 20 less than 20 31         \n",
       "19     12175              less than 20 less than 20 less than 20 31         \n",
       "20     12156              less than 20 less than 20 less than 20 31         \n",
       "21     12157              less than 20 less than 20 less than 20 31         \n",
       "22     12134              less than 20 less than 20 less than 20 31         \n",
       "23     12125              20-30        20-30        20-30        31         \n",
       "24     12061              less than 20 less than 20 less than 20 31         \n",
       "25     12069              less than 20 less than 20 less than 20 31         \n",
       "26     12052              less than 20 less than 20 less than 20 31         \n",
       "27     11988              less than 20 less than 20 less than 20 31         \n",
       "28     11969              20-30        20-30        20-30        31         \n",
       "29     11936              less than 20 less than 20 20-30        31         \n",
       "30     11896              20-30        20-30        20-30        31         \n",
       "...    ...                ...          ...          ...          ...        \n",
       "290179 7857               30-40        30-40        40-50        8          \n",
       "290180 7765               40-50        40-50        40-50        8          \n",
       "290181 7754               40-50        40-50        40-50        8          \n",
       "290182 7674               40-50        40-50        40-50        8          \n",
       "290183 7664               40-50        40-50        40-50        8          \n",
       "290184 7664               40-50        40-50        40-50        8          \n",
       "290185 7630               40-50        40-50        40-50        8          \n",
       "290186 7616               40-50        40-50        40-50        8          \n",
       "290187 7569               40-50        40-50        40-50        8          \n",
       "290188 7535               40-50        40-50        40-50        8          \n",
       "290189 7433               40-50        40-50        40-50        8          \n",
       "290190 7372               40-50        40-50        40-50        8          \n",
       "290191 7339               40-50        40-50        40-50        8          \n",
       "290192 7270               50-60        50-60        50-60        8          \n",
       "290193 7032               50-60        50-60        50-60        8          \n",
       "290194 7011               50-60        50-60        50-60        8          \n",
       "290195 6940               50-60        50-60        50-60        8          \n",
       "290196 6700               50-60        50-60        50-60        8          \n",
       "290197 6691               50-60        50-60        50-60        8          \n",
       "290198 6617               50-60        50-60        50-60        8          \n",
       "290199 6580               50-60        50-60        50-60        8          \n",
       "290200 5953               60-70        60-70        60-70        8          \n",
       "290201 5941               60-70        60-70        60-70        8          \n",
       "290202 5855               60-70        60-70        60-70        8          \n",
       "290203 9526               less than 20 less than 20 20-30        1          \n",
       "290204 9149               20-30        20-30        20-30        1          \n",
       "290205 9073               20-30        20-30        20-30        1          \n",
       "290206 9600               30-40        30-40        30-40        4          \n",
       "290207 8429               30-40        30-40        30-40        4          \n",
       "290208 5073               70-80        70-80        70-80        4          \n",
       "       LATEST_DIST_RES DRUG_I WEAPON_I RACE_CODE_CD SEX_CODE_CD CPD_ARREST_I\n",
       "1      31              N      Y        0            M           N           \n",
       "2       8              N      N        1            M           N           \n",
       "3       8              N      N        1            M           N           \n",
       "4       4              N      Y        0            M           Y           \n",
       "5      31              N      Y        0            M           N           \n",
       "6       2              N      Y        0            M           N           \n",
       "7      31              N      N        0            M           N           \n",
       "8       5              N      N        0            M           Y           \n",
       "9       2              N      Y        0            M           N           \n",
       "10     14              Y      Y        0            M           N           \n",
       "11     10              Y      N        0            M           N           \n",
       "12     31              Y      N        0            M           N           \n",
       "13     31              N      N        1            M           N           \n",
       "14     24              Y      Y        0            M           N           \n",
       "15     31              N      Y        0            M           N           \n",
       "16     31              N      Y        0            M           N           \n",
       "17     24              N      Y        0            M           N           \n",
       "18     31              N      Y        0            M           N           \n",
       "19     31              N      N        0            M           N           \n",
       "20     31              N      N        0            M           N           \n",
       "21     10              N      N        0            M           N           \n",
       "22     25              N      N        0            M           N           \n",
       "23     24              Y      Y        0            M           N           \n",
       "24      4              Y      Y        0            M           Y           \n",
       "25     31              N      N        0            M           N           \n",
       "26      4              N      N        0            M           N           \n",
       "27     31              N      N        0            M           N           \n",
       "28     15              Y      N        0            M           Y           \n",
       "29     22              N      Y        0            M           N           \n",
       "30      5              N      N        0            M           N           \n",
       "...    ...             ...    ...      ...          ...         ...         \n",
       "290179  7              N      N        0            F           Y           \n",
       "290180 31              N      N        0            M           Y           \n",
       "290181 31              N      N        0            F           Y           \n",
       "290182 31              N      N        1            M           Y           \n",
       "290183 31              N      N        1            M           Y           \n",
       "290184 31              N      N        0            F           Y           \n",
       "290185 31              N      N        1            M           Y           \n",
       "290186  2              N      N        0            M           Y           \n",
       "290187  8              N      N        1            M           Y           \n",
       "290188 31              N      N        1            F           Y           \n",
       "290189  8              N      N        1            M           Y           \n",
       "290190 31              N      N        1            M           Y           \n",
       "290191 31              N      N        1            M           Y           \n",
       "290192 31              N      N        1            M           Y           \n",
       "290193 20              N      N        1            M           Y           \n",
       "290194 31              N      N        0            F           Y           \n",
       "290195 31              N      N        1            M           Y           \n",
       "290196 31              N      N        1            M           Y           \n",
       "290197 31              N      N        0            M           Y           \n",
       "290198  5              Y      N        0            M           Y           \n",
       "290199 31              N      N        1            M           Y           \n",
       "290200 22              N      N        0            M           Y           \n",
       "290201 31              N      N        1            M           Y           \n",
       "290202  8              N      N        1            M           Y           \n",
       "290203 31              N      N        1            M           Y           \n",
       "290204 14              N      N        1            F           Y           \n",
       "290205 20              N      N        1            M           Y           \n",
       "290206  4              Y      Y        0            M           Y           \n",
       "290207 31              Y      N        0            M           Y           \n",
       "290208  4              N      N        0            M           Y           \n",
       "       LATEST_DATE\n",
       "1      2015       \n",
       "2      2016       \n",
       "3      2016       \n",
       "4      2016       \n",
       "5      2016       \n",
       "6      2015       \n",
       "7      2015       \n",
       "8      2016       \n",
       "9      2016       \n",
       "10     2016       \n",
       "11     2016       \n",
       "12     2015       \n",
       "13     2016       \n",
       "14     2015       \n",
       "15     2016       \n",
       "16     2015       \n",
       "17     2016       \n",
       "18     2016       \n",
       "19     2016       \n",
       "20     2015       \n",
       "21     2016       \n",
       "22     2016       \n",
       "23     2016       \n",
       "24     2016       \n",
       "25     2016       \n",
       "26     2016       \n",
       "27     2012       \n",
       "28     2016       \n",
       "29     2015       \n",
       "30     2015       \n",
       "...    ...        \n",
       "290179 2013       \n",
       "290180 2015       \n",
       "290181 2015       \n",
       "290182 2015       \n",
       "290183 2016       \n",
       "290184 2016       \n",
       "290185 2014       \n",
       "290186 2013       \n",
       "290187 2014       \n",
       "290188 2013       \n",
       "290189 2014       \n",
       "290190 2012       \n",
       "290191 2016       \n",
       "290192 2016       \n",
       "290193 2014       \n",
       "290194 2015       \n",
       "290195 2015       \n",
       "290196 2015       \n",
       "290197 2015       \n",
       "290198 2013       \n",
       "290199 2014       \n",
       "290200 2013       \n",
       "290201 2013       \n",
       "290202 2013       \n",
       "290203 2014       \n",
       "290204 2014       \n",
       "290205 2014       \n",
       "290206 2016       \n",
       "290207 2016       \n",
       "290208 2015       "
      ]
     },
     "metadata": {},
     "output_type": "display_data"
    }
   ],
   "source": [
    "complete_data"
   ]
  },
  {
   "cell_type": "code",
   "execution_count": 5,
   "metadata": {
    "collapsed": true
   },
   "outputs": [],
   "source": [
    "#sub_set_complete_data<-complete_data[(complete_data$RACE_CODE_CD == \"BLK\") | (complete_data$RACE_CODE_CD == \"WHI\"),]"
   ]
  },
  {
   "cell_type": "code",
   "execution_count": 6,
   "metadata": {},
   "outputs": [
    {
     "data": {
      "text/html": [
       "290005"
      ],
      "text/latex": [
       "290005"
      ],
      "text/markdown": [
       "290005"
      ],
      "text/plain": [
       "[1] 290005"
      ]
     },
     "metadata": {},
     "output_type": "display_data"
    }
   ],
   "source": [
    "#nrow(sub_set_complete_data)"
   ]
  },
  {
   "cell_type": "code",
   "execution_count": 5,
   "metadata": {
    "collapsed": true
   },
   "outputs": [],
   "source": [
    "# Converting the categorical variables into factors\n",
    "complete_data$AGE_GROUP <- as.factor(complete_data$AGE_GROUP)\n",
    "complete_data$AGE_TO <- as.factor(complete_data$AGE_TO)\n",
    "complete_data$AGE_CURR<- as.factor(complete_data$AGE_CURR)\n",
    "complete_data$LATEST_DIST<- as.factor(complete_data$LATEST_DIST)\n",
    "complete_data$LATEST_DIST_RES<- as.factor(complete_data$LATEST_DIST_RES)\n",
    "complete_data$DRUG_I<- as.factor(complete_data$DRUG_I)\n",
    "complete_data$WEAPON_I<- as.factor(complete_data$WEAPON_I)\n",
    "complete_data$RACE_CODE_CD<- as.factor(complete_data$RACE_CODE_CD) \n",
    "complete_data$SEX_CODE_CD<- as.factor(complete_data$SEX_CODE_CD)\n",
    "complete_data$CPD_ARREST_I<- as.factor(complete_data$CPD_ARREST_I)\n",
    "complete_data$LATEST_DATE<- as.factor(complete_data$LATEST_DATE)\n"
   ]
  },
  {
   "cell_type": "code",
   "execution_count": 6,
   "metadata": {},
   "outputs": [
    {
     "name": "stderr",
     "output_type": "stream",
     "text": [
      "Warning message:\n",
      "\"package 'MatchIt' was built under R version 3.3.3\""
     ]
    }
   ],
   "source": [
    "library(MatchIt )"
   ]
  },
  {
   "cell_type": "code",
   "execution_count": 7,
   "metadata": {
    "collapsed": true
   },
   "outputs": [],
   "source": [
    "m.out = matchit(RACE_CODE_CD~ PRE_RAW_HEAT_SCORE+AGE_GROUP + AGE_TO + AGE_CURR+LATEST_DIST+LATEST_DIST_RES+DRUG_I+WEAPON_I+\n",
    "                  SEX_CODE_CD+CPD_ARREST_I+LATEST_DATE,\n",
    "                data = complete_data, method = \"nearest\",\n",
    "                ratio = 1)"
   ]
  },
  {
   "cell_type": "code",
   "execution_count": 8,
   "metadata": {},
   "outputs": [
    {
     "data": {
      "text/plain": [
       "\n",
       "Call: \n",
       "matchit(formula = RACE_CODE_CD ~ PRE_RAW_HEAT_SCORE + AGE_GROUP + \n",
       "    AGE_TO + AGE_CURR + LATEST_DIST + LATEST_DIST_RES + DRUG_I + \n",
       "    WEAPON_I + SEX_CODE_CD + CPD_ARREST_I + LATEST_DATE, data = complete_data, \n",
       "    method = \"nearest\", ratio = 1)\n",
       "\n",
       "Sample sizes:\n",
       "          Control Treated\n",
       "All        207717   82288\n",
       "Matched     82288   82288\n",
       "Unmatched  125429       0\n",
       "Discarded       0       0\n"
      ]
     },
     "metadata": {},
     "output_type": "display_data"
    }
   ],
   "source": [
    "m.out"
   ]
  },
  {
   "cell_type": "code",
   "execution_count": 9,
   "metadata": {},
   "outputs": [
    {
     "name": "stdout",
     "output_type": "stream",
     "text": [
      "[1] \"To identify the units, use first mouse button; to stop, use second.\"\n"
     ]
    },
    {
     "data": {
      "text/html": [],
      "text/latex": [],
      "text/markdown": [],
      "text/plain": [
       "integer(0)"
      ]
     },
     "metadata": {},
     "output_type": "display_data"
    },
    {
     "data": {
      "image/png": "[encoded data removed]",
      "text/plain": [
       "Plot with title \"Distribution of Propensity Scores\""
      ]
     },
     "metadata": {},
     "output_type": "display_data"
    }
   ],
   "source": [
    "plot(m.out, type = \"jitter\")"
   ]
  },
  {
   "cell_type": "code",
   "execution_count": 10,
   "metadata": {},
   "outputs": [
    {
     "data": {
      "image/png": "[encoded data removed]",
      "text/plain": [
       "Plot with title \"Matched Control\""
      ]
     },
     "metadata": {},
     "output_type": "display_data"
    }
   ],
   "source": [
    "plot(m.out, type = \"hist\")"
   ]
  }
 ],
 "metadata": {
  "kernelspec": {
   "display_name": "R",
   "language": "R",
   "name": "ir"
  },
  "language_info": {
   "codemirror_mode": "r",
   "file_extension": ".r",
   "mimetype": "text/x-r-source",
   "name": "R",
   "pygments_lexer": "r",
   "version": "3.3.2"
  }
 },
 "nbformat": 4,
 "nbformat_minor": 2
}
