{
 "cells": [
  {
   "cell_type": "code",
   "execution_count": 38,
   "metadata": {},
   "outputs": [
    {
     "name": "stdout",
     "output_type": "stream",
     "text": [
      "The Number of Rows in Initial Data is 398684"
     ]
    }
   ],
   "source": [
    "raw_data <- read.csv(\"Strategic_Subject_List.csv\", sep=\",\", header=T, strip.white = T, na.strings = c(\"NA\",\"NaN\",\"\",\"?\"))\n",
    "#Converting the \".\" in column names to \"_\"\n",
    "names(raw_data)<-gsub(\"\\\\.\", \"_\", names(raw_data))\n",
    "cat(\"The Number of Rows in Initial Data is\", nrow(raw_data))"
   ]
  },
  {
   "cell_type": "code",
   "execution_count": 39,
   "metadata": {
    "collapsed": true
   },
   "outputs": [],
   "source": [
    "final_features<-raw_data[,c(\"PRE_RAW_HEAT_SCORE\",\"AGE_GROUP\",\"AGE_CURR\",\"WEAPON_I\",\"LATEST_DATE\")]"
   ]
  },
  {
   "cell_type": "code",
   "execution_count": 40,
   "metadata": {
    "collapsed": true
   },
   "outputs": [],
   "source": [
    "complete_data <- final_features[complete.cases(final_features),]\n"
   ]
  },
  {
   "cell_type": "code",
   "execution_count": 41,
   "metadata": {
    "collapsed": true
   },
   "outputs": [],
   "source": [
    "complete_data$AGE_GROUP <- as.factor(complete_data$AGE_GROUP)\n",
    "complete_data$AGE_CURR<- as.factor(complete_data$AGE_CURR)\n",
    "complete_data$LATEST_DATE<- as.factor(complete_data$LATEST_DATE)\n",
    "complete_data$WEAPON_I<-as.factor(complete_data$WEAPON_I)"
   ]
  },
  {
   "cell_type": "code",
   "execution_count": 42,
   "metadata": {
    "collapsed": true
   },
   "outputs": [],
   "source": [
    "#complete_data <- scale(complete_data[-1])"
   ]
  },
  {
   "cell_type": "code",
   "execution_count": 43,
   "metadata": {},
   "outputs": [],
   "source": [
    "library(\"caret\")\n",
    "n=nrow(complete_data)\n",
    "trainIndex = sample(1:n, size = round(0.7*n),replace=FALSE)\n",
    "train_data = complete_data[trainIndex,] \n",
    "test_data  = complete_data[-trainIndex,] "
   ]
  },
  {
   "cell_type": "code",
   "execution_count": 45,
   "metadata": {},
   "outputs": [
    {
     "name": "stdout",
     "output_type": "stream",
     "text": [
      "+ Fold1: intercept=TRUE \n",
      "- Fold1: intercept=TRUE \n",
      "+ Fold2: intercept=TRUE \n",
      "- Fold2: intercept=TRUE \n",
      "+ Fold3: intercept=TRUE \n",
      "- Fold3: intercept=TRUE \n",
      "+ Fold4: intercept=TRUE \n",
      "- Fold4: intercept=TRUE \n",
      "+ Fold5: intercept=TRUE \n",
      "- Fold5: intercept=TRUE \n",
      "Aggregating results\n",
      "Fitting final model on full training set\n"
     ]
    }
   ],
   "source": [
    "model<-train(PRE_RAW_HEAT_SCORE~.,data=train_data,method = \"lm\",\n",
    "             trControl = trainControl(method = \"cv\",number = 5,verboseIter = TRUE))"
   ]
  },
  {
   "cell_type": "code",
   "execution_count": 46,
   "metadata": {},
   "outputs": [
    {
     "data": {
      "text/plain": [
       "\n",
       "Call:\n",
       "lm(formula = .outcome ~ ., data = dat)\n",
       "\n",
       "Residuals:\n",
       "    Min      1Q  Median      3Q     Max \n",
       "-3548.5  -163.4   -26.9   120.0  7230.8 \n",
       "\n",
       "Coefficients:\n",
       "                         Estimate Std. Error  t value Pr(>|t|)    \n",
       "(Intercept)              8903.596     16.804  529.858  < 2e-16 ***\n",
       "`AGE_GROUP30-40`         -392.484      2.563 -153.142  < 2e-16 ***\n",
       "`AGE_GROUP40-50`         -791.608      4.165 -190.059  < 2e-16 ***\n",
       "`AGE_GROUP50-60`        -1186.935      5.719 -207.559  < 2e-16 ***\n",
       "`AGE_GROUP60-70`        -1560.606      8.758 -178.183  < 2e-16 ***\n",
       "`AGE_GROUP70-80`        -1930.392     19.923  -96.891  < 2e-16 ***\n",
       "`AGE_GROUPless than 20`   391.088      2.348  166.540  < 2e-16 ***\n",
       "`AGE_CURR30-40`          -415.053      2.439 -170.146  < 2e-16 ***\n",
       "`AGE_CURR40-50`          -814.872      3.978 -204.864  < 2e-16 ***\n",
       "`AGE_CURR50-60`         -1211.385      5.444 -222.517  < 2e-16 ***\n",
       "`AGE_CURR60-70`         -1637.583      7.751 -211.279  < 2e-16 ***\n",
       "`AGE_CURR70-80`         -2124.880     16.069 -132.237  < 2e-16 ***\n",
       "`AGE_CURRless than 20`    328.009      2.801  117.106  < 2e-16 ***\n",
       "WEAPON_IY                 373.607      2.650  140.958  < 2e-16 ***\n",
       "LATEST_DATE2007            29.365     22.216    1.322 0.186233    \n",
       "LATEST_DATE2008            75.872     21.682    3.499 0.000466 ***\n",
       "LATEST_DATE2009           118.989     20.667    5.758 8.54e-09 ***\n",
       "LATEST_DATE2010           168.290     19.593    8.589  < 2e-16 ***\n",
       "LATEST_DATE2011           205.361     18.702   10.981  < 2e-16 ***\n",
       "LATEST_DATE2012           293.091     16.851   17.394  < 2e-16 ***\n",
       "LATEST_DATE2013           297.229     16.790   17.702  < 2e-16 ***\n",
       "LATEST_DATE2014           334.687     16.795   19.927  < 2e-16 ***\n",
       "LATEST_DATE2015           401.314     16.803   23.884  < 2e-16 ***\n",
       "LATEST_DATE2016           486.460     16.824   28.915  < 2e-16 ***\n",
       "---\n",
       "Signif. codes:  0 '***' 0.001 '**' 0.01 '*' 0.05 '.' 0.1 ' ' 1\n",
       "\n",
       "Residual standard error: 297.1 on 278886 degrees of freedom\n",
       "Multiple R-squared:  0.9221,\tAdjusted R-squared:  0.9221 \n",
       "F-statistic: 1.435e+05 on 23 and 278886 DF,  p-value: < 2.2e-16\n"
      ]
     },
     "metadata": {},
     "output_type": "display_data"
    }
   ],
   "source": [
    "summary(model)"
   ]
  },
  {
   "cell_type": "code",
   "execution_count": 47,
   "metadata": {
    "collapsed": true
   },
   "outputs": [],
   "source": [
    "Pred_test <- predict(model, test_data)"
   ]
  },
  {
   "cell_type": "code",
   "execution_count": 48,
   "metadata": {},
   "outputs": [
    {
     "data": {
      "text/plain": [
       "   Min. 1st Qu.  Median    Mean 3rd Qu.    Max. \n",
       "   5141    7784    8786    8633    9390   10480 "
      ]
     },
     "metadata": {},
     "output_type": "display_data"
    }
   ],
   "source": [
    "summary(Pred_test)"
   ]
  },
  {
   "cell_type": "code",
   "execution_count": 49,
   "metadata": {},
   "outputs": [
    {
     "data": {
      "text/html": [
       "87131.2090659041"
      ],
      "text/latex": [
       "87131.2090659041"
      ],
      "text/markdown": [
       "87131.2090659041"
      ],
      "text/plain": [
       "[1] 87131.21"
      ]
     },
     "metadata": {},
     "output_type": "display_data"
    }
   ],
   "source": [
    "mean((test_data$PRE_RAW_HEAT_SCORE -Pred_test)^2)"
   ]
  }
 ],
 "metadata": {
  "kernelspec": {
   "display_name": "R",
   "language": "R",
   "name": "ir"
  },
  "language_info": {
   "codemirror_mode": "r",
   "file_extension": ".r",
   "mimetype": "text/x-r-source",
   "name": "R",
   "pygments_lexer": "r",
   "version": "3.3.2"
  }
 },
 "nbformat": 4,
 "nbformat_minor": 2
}
