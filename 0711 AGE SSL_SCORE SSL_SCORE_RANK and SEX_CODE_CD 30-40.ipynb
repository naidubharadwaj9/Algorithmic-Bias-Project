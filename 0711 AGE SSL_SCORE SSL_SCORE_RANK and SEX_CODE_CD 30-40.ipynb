{
 "cells": [
  {
   "cell_type": "code",
   "execution_count": 1,
   "metadata": {},
   "outputs": [
    {
     "name": "stdout",
     "output_type": "stream",
     "text": [
      "The Number of Rows in Initial Data is 89150"
     ]
    }
   ],
   "source": [
    "raw_data <- read.csv(\"SSL_RAT_SEX_Code_30_40.csv\", sep=\",\", header=T, strip.white = T, na.strings = c(\"NA\",\"NaN\",\"\",\"?\"))\n",
    "#Converting the \".\" in column names to \"_\"\n",
    "names(raw_data)<-gsub(\"\\\\.\", \"_\", names(raw_data))\n",
    "cat(\"The Number of Rows in Initial Data is\", nrow(raw_data))"
   ]
  },
  {
   "cell_type": "code",
   "execution_count": 2,
   "metadata": {
    "collapsed": true
   },
   "outputs": [],
   "source": [
    "final_features<-raw_data[,c('SSL_SCORE','SSL_SCORE_RANK','PREDICTOR_RAT_AGE_AT_LATEST_ARREST','PREDICTOR_RAT_VICTIM_SHOOTING_INCIDENTS',\n",
    "                            'PREDICTOR_RAT_VICTIM_BATTERY_OR_ASSAULT','PREDICTOR_RAT_ARRESTS_VIOLENT_OFFENSES','PREDICTOR_RAT_GANG_AFFILIATION', \n",
    "                           'PREDICTOR_RAT_NARCOTIC_ARRESTS','PREDICTOR_RAT_TREND_IN_CRIMINAL_ACTIVITY','PREDICTOR_RAT_UUW_ARRESTS','SEX_CODE_CD')]"
   ]
  },
  {
   "cell_type": "code",
   "execution_count": 3,
   "metadata": {},
   "outputs": [
    {
     "data": {
      "text/html": [
       "89150"
      ],
      "text/latex": [
       "89150"
      ],
      "text/markdown": [
       "89150"
      ],
      "text/plain": [
       "[1] 89150"
      ]
     },
     "metadata": {},
     "output_type": "display_data"
    }
   ],
   "source": [
    "complete_data <- final_features[complete.cases(final_features),]\n",
    "nrow(complete_data)"
   ]
  },
  {
   "cell_type": "code",
   "execution_count": 4,
   "metadata": {},
   "outputs": [
    {
     "data": {
      "text/html": [
       "<table>\n",
       "<thead><tr><th scope=col>SSL_SCORE</th><th scope=col>SSL_SCORE_RANK</th><th scope=col>PREDICTOR_RAT_AGE_AT_LATEST_ARREST</th><th scope=col>PREDICTOR_RAT_VICTIM_SHOOTING_INCIDENTS</th><th scope=col>PREDICTOR_RAT_VICTIM_BATTERY_OR_ASSAULT</th><th scope=col>PREDICTOR_RAT_ARRESTS_VIOLENT_OFFENSES</th><th scope=col>PREDICTOR_RAT_GANG_AFFILIATION</th><th scope=col>PREDICTOR_RAT_NARCOTIC_ARRESTS</th><th scope=col>PREDICTOR_RAT_TREND_IN_CRIMINAL_ACTIVITY</th><th scope=col>PREDICTOR_RAT_UUW_ARRESTS</th><th scope=col>SEX_CODE_CD</th></tr></thead>\n",
       "<tbody>\n",
       "\t<tr><td>478  </td><td>296  </td><td>30-40</td><td>1    </td><td>6    </td><td>1    </td><td>1    </td><td> 0   </td><td>-0.6 </td><td>1    </td><td>1    </td></tr>\n",
       "\t<tr><td>471  </td><td>363  </td><td>30-40</td><td>0    </td><td>0    </td><td>0    </td><td>1    </td><td>22   </td><td>-1.8 </td><td>0    </td><td>1    </td></tr>\n",
       "\t<tr><td>456  </td><td>579  </td><td>30-40</td><td>2    </td><td>0    </td><td>0    </td><td>1    </td><td>16   </td><td> 2.4 </td><td>0    </td><td>1    </td></tr>\n",
       "\t<tr><td>456  </td><td>579  </td><td>30-40</td><td>2    </td><td>2    </td><td>0    </td><td>1    </td><td> 6   </td><td> 1.5 </td><td>0    </td><td>1    </td></tr>\n",
       "\t<tr><td>447  </td><td>749  </td><td>30-40</td><td>1    </td><td>2    </td><td>2    </td><td>1    </td><td> 6   </td><td>-2.6 </td><td>0    </td><td>1    </td></tr>\n",
       "\t<tr><td>444  </td><td>827  </td><td>30-40</td><td>1    </td><td>1    </td><td>3    </td><td>1    </td><td> 0   </td><td> 0.5 </td><td>3    </td><td>1    </td></tr>\n",
       "</tbody>\n",
       "</table>\n"
      ],
      "text/latex": [
       "\\begin{tabular}{r|lllllllllll}\n",
       " SSL\\_SCORE & SSL\\_SCORE\\_RANK & PREDICTOR\\_RAT\\_AGE\\_AT\\_LATEST\\_ARREST & PREDICTOR\\_RAT\\_VICTIM\\_SHOOTING\\_INCIDENTS & PREDICTOR\\_RAT\\_VICTIM\\_BATTERY\\_OR\\_ASSAULT & PREDICTOR\\_RAT\\_ARRESTS\\_VIOLENT\\_OFFENSES & PREDICTOR\\_RAT\\_GANG\\_AFFILIATION & PREDICTOR\\_RAT\\_NARCOTIC\\_ARRESTS & PREDICTOR\\_RAT\\_TREND\\_IN\\_CRIMINAL\\_ACTIVITY & PREDICTOR\\_RAT\\_UUW\\_ARRESTS & SEX\\_CODE\\_CD\\\\\n",
       "\\hline\n",
       "\t 478   & 296   & 30-40 & 1     & 6     & 1     & 1     &  0    & -0.6  & 1     & 1    \\\\\n",
       "\t 471   & 363   & 30-40 & 0     & 0     & 0     & 1     & 22    & -1.8  & 0     & 1    \\\\\n",
       "\t 456   & 579   & 30-40 & 2     & 0     & 0     & 1     & 16    &  2.4  & 0     & 1    \\\\\n",
       "\t 456   & 579   & 30-40 & 2     & 2     & 0     & 1     &  6    &  1.5  & 0     & 1    \\\\\n",
       "\t 447   & 749   & 30-40 & 1     & 2     & 2     & 1     &  6    & -2.6  & 0     & 1    \\\\\n",
       "\t 444   & 827   & 30-40 & 1     & 1     & 3     & 1     &  0    &  0.5  & 3     & 1    \\\\\n",
       "\\end{tabular}\n"
      ],
      "text/markdown": [
       "\n",
       "SSL_SCORE | SSL_SCORE_RANK | PREDICTOR_RAT_AGE_AT_LATEST_ARREST | PREDICTOR_RAT_VICTIM_SHOOTING_INCIDENTS | PREDICTOR_RAT_VICTIM_BATTERY_OR_ASSAULT | PREDICTOR_RAT_ARRESTS_VIOLENT_OFFENSES | PREDICTOR_RAT_GANG_AFFILIATION | PREDICTOR_RAT_NARCOTIC_ARRESTS | PREDICTOR_RAT_TREND_IN_CRIMINAL_ACTIVITY | PREDICTOR_RAT_UUW_ARRESTS | SEX_CODE_CD | \n",
       "|---|---|---|---|---|---|\n",
       "| 478   | 296   | 30-40 | 1     | 6     | 1     | 1     |  0    | -0.6  | 1     | 1     | \n",
       "| 471   | 363   | 30-40 | 0     | 0     | 0     | 1     | 22    | -1.8  | 0     | 1     | \n",
       "| 456   | 579   | 30-40 | 2     | 0     | 0     | 1     | 16    |  2.4  | 0     | 1     | \n",
       "| 456   | 579   | 30-40 | 2     | 2     | 0     | 1     |  6    |  1.5  | 0     | 1     | \n",
       "| 447   | 749   | 30-40 | 1     | 2     | 2     | 1     |  6    | -2.6  | 0     | 1     | \n",
       "| 444   | 827   | 30-40 | 1     | 1     | 3     | 1     |  0    |  0.5  | 3     | 1     | \n",
       "\n",
       "\n"
      ],
      "text/plain": [
       "  SSL_SCORE SSL_SCORE_RANK PREDICTOR_RAT_AGE_AT_LATEST_ARREST\n",
       "1 478       296            30-40                             \n",
       "2 471       363            30-40                             \n",
       "3 456       579            30-40                             \n",
       "4 456       579            30-40                             \n",
       "5 447       749            30-40                             \n",
       "6 444       827            30-40                             \n",
       "  PREDICTOR_RAT_VICTIM_SHOOTING_INCIDENTS\n",
       "1 1                                      \n",
       "2 0                                      \n",
       "3 2                                      \n",
       "4 2                                      \n",
       "5 1                                      \n",
       "6 1                                      \n",
       "  PREDICTOR_RAT_VICTIM_BATTERY_OR_ASSAULT\n",
       "1 6                                      \n",
       "2 0                                      \n",
       "3 0                                      \n",
       "4 2                                      \n",
       "5 2                                      \n",
       "6 1                                      \n",
       "  PREDICTOR_RAT_ARRESTS_VIOLENT_OFFENSES PREDICTOR_RAT_GANG_AFFILIATION\n",
       "1 1                                      1                             \n",
       "2 0                                      1                             \n",
       "3 0                                      1                             \n",
       "4 0                                      1                             \n",
       "5 2                                      1                             \n",
       "6 3                                      1                             \n",
       "  PREDICTOR_RAT_NARCOTIC_ARRESTS PREDICTOR_RAT_TREND_IN_CRIMINAL_ACTIVITY\n",
       "1  0                             -0.6                                    \n",
       "2 22                             -1.8                                    \n",
       "3 16                              2.4                                    \n",
       "4  6                              1.5                                    \n",
       "5  6                             -2.6                                    \n",
       "6  0                              0.5                                    \n",
       "  PREDICTOR_RAT_UUW_ARRESTS SEX_CODE_CD\n",
       "1 1                         1          \n",
       "2 0                         1          \n",
       "3 0                         1          \n",
       "4 0                         1          \n",
       "5 0                         1          \n",
       "6 3                         1          "
      ]
     },
     "metadata": {},
     "output_type": "display_data"
    }
   ],
   "source": [
    "head(complete_data)"
   ]
  },
  {
   "cell_type": "code",
   "execution_count": 5,
   "metadata": {},
   "outputs": [
    {
     "name": "stderr",
     "output_type": "stream",
     "text": [
      "Warning message:\n",
      "\"package 'MatchIt' was built under R version 3.3.3\"Warning message:\n",
      "\"package 'dplyr' was built under R version 3.3.3\"\n",
      "Attaching package: 'dplyr'\n",
      "\n",
      "The following objects are masked from 'package:stats':\n",
      "\n",
      "    filter, lag\n",
      "\n",
      "The following objects are masked from 'package:base':\n",
      "\n",
      "    intersect, setdiff, setequal, union\n",
      "\n",
      "Warning message:\n",
      "\"package 'ggplot2' was built under R version 3.3.3\""
     ]
    }
   ],
   "source": [
    "library(MatchIt)\n",
    "library(dplyr)\n",
    "library(ggplot2)"
   ]
  },
  {
   "cell_type": "code",
   "execution_count": 6,
   "metadata": {},
   "outputs": [
    {
     "data": {
      "text/html": [
       "<table>\n",
       "<thead><tr><th scope=col>SEX_CODE_CD</th><th scope=col>NUMBER_OF_PEOPLE</th><th scope=col>MEAN_SSL_SCORE</th><th scope=col>STD_ERROR</th></tr></thead>\n",
       "<tbody>\n",
       "\t<tr><td>0         </td><td>20533     </td><td>266.7126  </td><td>0.10589924</td></tr>\n",
       "\t<tr><td>1         </td><td>68617     </td><td>268.3676  </td><td>0.06485455</td></tr>\n",
       "</tbody>\n",
       "</table>\n"
      ],
      "text/latex": [
       "\\begin{tabular}{r|llll}\n",
       " SEX\\_CODE\\_CD & NUMBER\\_OF\\_PEOPLE & MEAN\\_SSL\\_SCORE & STD\\_ERROR\\\\\n",
       "\\hline\n",
       "\t 0          & 20533      & 266.7126   & 0.10589924\\\\\n",
       "\t 1          & 68617      & 268.3676   & 0.06485455\\\\\n",
       "\\end{tabular}\n"
      ],
      "text/markdown": [
       "\n",
       "SEX_CODE_CD | NUMBER_OF_PEOPLE | MEAN_SSL_SCORE | STD_ERROR | \n",
       "|---|---|\n",
       "| 0          | 20533      | 266.7126   | 0.10589924 | \n",
       "| 1          | 68617      | 268.3676   | 0.06485455 | \n",
       "\n",
       "\n"
      ],
      "text/plain": [
       "  SEX_CODE_CD NUMBER_OF_PEOPLE MEAN_SSL_SCORE STD_ERROR \n",
       "1 0           20533            266.7126       0.10589924\n",
       "2 1           68617            268.3676       0.06485455"
      ]
     },
     "metadata": {},
     "output_type": "display_data"
    }
   ],
   "source": [
    "#SSL_SCORE\n",
    "complete_data %>%\n",
    "  group_by(SEX_CODE_CD) %>%\n",
    "  summarise(NUMBER_OF_PEOPLE = n(),\n",
    "            MEAN_SSL_SCORE = mean(SSL_SCORE),\n",
    "            STD_ERROR = sd(SSL_SCORE) / sqrt(NUMBER_OF_PEOPLE))"
   ]
  },
  {
   "cell_type": "code",
   "execution_count": 7,
   "metadata": {},
   "outputs": [
    {
     "data": {
      "text/html": [
       "<table>\n",
       "<thead><tr><th scope=col>SEX_CODE_CD</th><th scope=col>NUMBER_OF_PEOPLE</th><th scope=col>MEAN_SSL_SCORE</th><th scope=col>STD_ERROR</th></tr></thead>\n",
       "<tbody>\n",
       "\t<tr><td>0       </td><td>20533   </td><td>250595.8</td><td>231.8260</td></tr>\n",
       "\t<tr><td>1       </td><td>68617   </td><td>246601.1</td><td>146.7003</td></tr>\n",
       "</tbody>\n",
       "</table>\n"
      ],
      "text/latex": [
       "\\begin{tabular}{r|llll}\n",
       " SEX\\_CODE\\_CD & NUMBER\\_OF\\_PEOPLE & MEAN\\_SSL\\_SCORE & STD\\_ERROR\\\\\n",
       "\\hline\n",
       "\t 0        & 20533    & 250595.8 & 231.8260\\\\\n",
       "\t 1        & 68617    & 246601.1 & 146.7003\\\\\n",
       "\\end{tabular}\n"
      ],
      "text/markdown": [
       "\n",
       "SEX_CODE_CD | NUMBER_OF_PEOPLE | MEAN_SSL_SCORE | STD_ERROR | \n",
       "|---|---|\n",
       "| 0        | 20533    | 250595.8 | 231.8260 | \n",
       "| 1        | 68617    | 246601.1 | 146.7003 | \n",
       "\n",
       "\n"
      ],
      "text/plain": [
       "  SEX_CODE_CD NUMBER_OF_PEOPLE MEAN_SSL_SCORE STD_ERROR\n",
       "1 0           20533            250595.8       231.8260 \n",
       "2 1           68617            246601.1       146.7003 "
      ]
     },
     "metadata": {},
     "output_type": "display_data"
    }
   ],
   "source": [
    "# For SSL_SCORE_RANK\n",
    "complete_data %>%\n",
    "  group_by(SEX_CODE_CD) %>%\n",
    "  summarise(NUMBER_OF_PEOPLE = n(),\n",
    "            MEAN_SSL_SCORE = mean(SSL_SCORE_RANK),\n",
    "            STD_ERROR = sd(SSL_SCORE_RANK) / sqrt(NUMBER_OF_PEOPLE))"
   ]
  },
  {
   "cell_type": "code",
   "execution_count": 8,
   "metadata": {},
   "outputs": [
    {
     "data": {
      "text/plain": [
       "\n",
       "\tWelch Two Sample t-test\n",
       "\n",
       "data:  SSL_SCORE by SEX_CODE_CD\n",
       "t = -13.328, df = 37253, p-value < 2.2e-16\n",
       "alternative hypothesis: true difference in means is not equal to 0\n",
       "95 percent confidence interval:\n",
       " -1.898428 -1.411634\n",
       "sample estimates:\n",
       "mean in group 0 mean in group 1 \n",
       "       266.7126        268.3676 \n"
      ]
     },
     "metadata": {},
     "output_type": "display_data"
    }
   ],
   "source": [
    "# T-test without PSM for SSL_SCORE and SEX_CODE_CD\n",
    "attach(complete_data)\n",
    "t.test(SSL_SCORE~SEX_CODE_CD)"
   ]
  },
  {
   "cell_type": "code",
   "execution_count": 9,
   "metadata": {},
   "outputs": [
    {
     "data": {
      "text/plain": [
       "\n",
       "\tWelch Two Sample t-test\n",
       "\n",
       "data:  SSL_SCORE_RANK by SEX_CODE_CD\n",
       "t = 14.561, df = 38424, p-value < 2.2e-16\n",
       "alternative hypothesis: true difference in means is not equal to 0\n",
       "95 percent confidence interval:\n",
       " 3456.962 4532.402\n",
       "sample estimates:\n",
       "mean in group 0 mean in group 1 \n",
       "       250595.8        246601.1 \n"
      ]
     },
     "metadata": {},
     "output_type": "display_data"
    }
   ],
   "source": [
    "# T-test without PSM for SSL_SCORE_RANK and SEX_CODE_CD\n",
    "t.test(SSL_SCORE_RANK~SEX_CODE_CD)"
   ]
  },
  {
   "cell_type": "code",
   "execution_count": 10,
   "metadata": {},
   "outputs": [
    {
     "name": "stderr",
     "output_type": "stream",
     "text": [
      "Warning message in matchit2nearest(structure(c(1L, 1L, 1L, 1L, 1L, 1L, 1L, 1L, 1L, :\n",
      "\"Fewer control than treated units and matching without replacement.  Not all treated units will receive a match.  Treated units will be matched in the order specified by m.order: largest\""
     ]
    }
   ],
   "source": [
    "mod_match <- matchit(SEX_CODE_CD ~ PREDICTOR_RAT_VICTIM_SHOOTING_INCIDENTS + PREDICTOR_RAT_VICTIM_BATTERY_OR_ASSAULT + \n",
    "            PREDICTOR_RAT_ARRESTS_VIOLENT_OFFENSES + PREDICTOR_RAT_GANG_AFFILIATION + PREDICTOR_RAT_NARCOTIC_ARRESTS + PREDICTOR_RAT_TREND_IN_CRIMINAL_ACTIVITY +\n",
    "            PREDICTOR_RAT_UUW_ARRESTS,\n",
    "                     method = \"nearest\", data = complete_data)"
   ]
  },
  {
   "cell_type": "code",
   "execution_count": 11,
   "metadata": {},
   "outputs": [
    {
     "data": {
      "text/plain": [
       "\n",
       "Call: \n",
       "matchit(formula = SEX_CODE_CD ~ PREDICTOR_RAT_VICTIM_SHOOTING_INCIDENTS + \n",
       "    PREDICTOR_RAT_VICTIM_BATTERY_OR_ASSAULT + PREDICTOR_RAT_ARRESTS_VIOLENT_OFFENSES + \n",
       "    PREDICTOR_RAT_GANG_AFFILIATION + PREDICTOR_RAT_NARCOTIC_ARRESTS + \n",
       "    PREDICTOR_RAT_TREND_IN_CRIMINAL_ACTIVITY + PREDICTOR_RAT_UUW_ARRESTS, \n",
       "    data = complete_data, method = \"nearest\")\n",
       "\n",
       "Sample sizes:\n",
       "          Control Treated\n",
       "All         20533   68617\n",
       "Matched     20533   20533\n",
       "Unmatched       0   48084\n",
       "Discarded       0       0\n"
      ]
     },
     "metadata": {},
     "output_type": "display_data"
    }
   ],
   "source": [
    "mod_match"
   ]
  },
  {
   "cell_type": "code",
   "execution_count": 12,
   "metadata": {
    "collapsed": true
   },
   "outputs": [],
   "source": [
    "matched <- match.data(mod_match)\n",
    "matched_copy<-matched"
   ]
  },
  {
   "cell_type": "code",
   "execution_count": 13,
   "metadata": {},
   "outputs": [
    {
     "name": "stdout",
     "output_type": "stream",
     "text": [
      "[1] \"To identify the units, use first mouse button; to stop, use second.\"\n"
     ]
    },
    {
     "data": {
      "text/html": [],
      "text/latex": [],
      "text/markdown": [],
      "text/plain": [
       "integer(0)"
      ]
     },
     "metadata": {},
     "output_type": "display_data"
    },
    {
     "data": {
      "image/png": "[encoded data removed]",
      "text/plain": [
       "Plot with title \"Distribution of Propensity Scores\""
      ]
     },
     "metadata": {},
     "output_type": "display_data"
    }
   ],
   "source": [
    "plot(mod_match, type = \"jitter\")"
   ]
  },
  {
   "cell_type": "code",
   "execution_count": 14,
   "metadata": {},
   "outputs": [
    {
     "data": {
      "image/png": "[encoded data removed]",
      "text/plain": [
       "Plot with title \"Matched Control\""
      ]
     },
     "metadata": {},
     "output_type": "display_data"
    }
   ],
   "source": [
    "plot(mod_match, type = \"hist\")"
   ]
  },
  {
   "cell_type": "code",
   "execution_count": 15,
   "metadata": {},
   "outputs": [
    {
     "data": {
      "text/html": [
       "<table>\n",
       "<thead><tr><th scope=col>SSL_SCORE</th><th scope=col>SSL_SCORE_RANK</th><th scope=col>PREDICTOR_RAT_AGE_AT_LATEST_ARREST</th><th scope=col>PREDICTOR_RAT_VICTIM_SHOOTING_INCIDENTS</th><th scope=col>PREDICTOR_RAT_VICTIM_BATTERY_OR_ASSAULT</th><th scope=col>PREDICTOR_RAT_ARRESTS_VIOLENT_OFFENSES</th><th scope=col>PREDICTOR_RAT_GANG_AFFILIATION</th><th scope=col>PREDICTOR_RAT_NARCOTIC_ARRESTS</th><th scope=col>PREDICTOR_RAT_TREND_IN_CRIMINAL_ACTIVITY</th><th scope=col>PREDICTOR_RAT_UUW_ARRESTS</th><th scope=col>SEX_CODE_CD</th><th scope=col>distance</th><th scope=col>weights</th></tr></thead>\n",
       "<tbody>\n",
       "\t<tr><td>478      </td><td>296      </td><td>30-40    </td><td>1        </td><td>6        </td><td>1        </td><td>1        </td><td> 0       </td><td>-0.6     </td><td>1        </td><td>1        </td><td>0.8432430</td><td>1        </td></tr>\n",
       "\t<tr><td>471      </td><td>363      </td><td>30-40    </td><td>0        </td><td>0        </td><td>0        </td><td>1        </td><td>22       </td><td>-1.8     </td><td>0        </td><td>1        </td><td>0.9997586</td><td>1        </td></tr>\n",
       "\t<tr><td>456      </td><td>579      </td><td>30-40    </td><td>2        </td><td>0        </td><td>0        </td><td>1        </td><td>16       </td><td> 2.4     </td><td>0        </td><td>1        </td><td>0.9998610</td><td>1        </td></tr>\n",
       "\t<tr><td>456      </td><td>579      </td><td>30-40    </td><td>2        </td><td>2        </td><td>0        </td><td>1        </td><td> 6       </td><td> 1.5     </td><td>0        </td><td>1        </td><td>0.9965763</td><td>1        </td></tr>\n",
       "\t<tr><td>447      </td><td>749      </td><td>30-40    </td><td>1        </td><td>2        </td><td>2        </td><td>1        </td><td> 6       </td><td>-2.6     </td><td>0        </td><td>1        </td><td>0.9967095</td><td>1        </td></tr>\n",
       "\t<tr><td>444      </td><td>827      </td><td>30-40    </td><td>1        </td><td>1        </td><td>3        </td><td>1        </td><td> 0       </td><td> 0.5     </td><td>3        </td><td>1        </td><td>0.9960543</td><td>1        </td></tr>\n",
       "</tbody>\n",
       "</table>\n"
      ],
      "text/latex": [
       "\\begin{tabular}{r|lllllllllllll}\n",
       " SSL\\_SCORE & SSL\\_SCORE\\_RANK & PREDICTOR\\_RAT\\_AGE\\_AT\\_LATEST\\_ARREST & PREDICTOR\\_RAT\\_VICTIM\\_SHOOTING\\_INCIDENTS & PREDICTOR\\_RAT\\_VICTIM\\_BATTERY\\_OR\\_ASSAULT & PREDICTOR\\_RAT\\_ARRESTS\\_VIOLENT\\_OFFENSES & PREDICTOR\\_RAT\\_GANG\\_AFFILIATION & PREDICTOR\\_RAT\\_NARCOTIC\\_ARRESTS & PREDICTOR\\_RAT\\_TREND\\_IN\\_CRIMINAL\\_ACTIVITY & PREDICTOR\\_RAT\\_UUW\\_ARRESTS & SEX\\_CODE\\_CD & distance & weights\\\\\n",
       "\\hline\n",
       "\t 478       & 296       & 30-40     & 1         & 6         & 1         & 1         &  0        & -0.6      & 1         & 1         & 0.8432430 & 1        \\\\\n",
       "\t 471       & 363       & 30-40     & 0         & 0         & 0         & 1         & 22        & -1.8      & 0         & 1         & 0.9997586 & 1        \\\\\n",
       "\t 456       & 579       & 30-40     & 2         & 0         & 0         & 1         & 16        &  2.4      & 0         & 1         & 0.9998610 & 1        \\\\\n",
       "\t 456       & 579       & 30-40     & 2         & 2         & 0         & 1         &  6        &  1.5      & 0         & 1         & 0.9965763 & 1        \\\\\n",
       "\t 447       & 749       & 30-40     & 1         & 2         & 2         & 1         &  6        & -2.6      & 0         & 1         & 0.9967095 & 1        \\\\\n",
       "\t 444       & 827       & 30-40     & 1         & 1         & 3         & 1         &  0        &  0.5      & 3         & 1         & 0.9960543 & 1        \\\\\n",
       "\\end{tabular}\n"
      ],
      "text/markdown": [
       "\n",
       "SSL_SCORE | SSL_SCORE_RANK | PREDICTOR_RAT_AGE_AT_LATEST_ARREST | PREDICTOR_RAT_VICTIM_SHOOTING_INCIDENTS | PREDICTOR_RAT_VICTIM_BATTERY_OR_ASSAULT | PREDICTOR_RAT_ARRESTS_VIOLENT_OFFENSES | PREDICTOR_RAT_GANG_AFFILIATION | PREDICTOR_RAT_NARCOTIC_ARRESTS | PREDICTOR_RAT_TREND_IN_CRIMINAL_ACTIVITY | PREDICTOR_RAT_UUW_ARRESTS | SEX_CODE_CD | distance | weights | \n",
       "|---|---|---|---|---|---|\n",
       "| 478       | 296       | 30-40     | 1         | 6         | 1         | 1         |  0        | -0.6      | 1         | 1         | 0.8432430 | 1         | \n",
       "| 471       | 363       | 30-40     | 0         | 0         | 0         | 1         | 22        | -1.8      | 0         | 1         | 0.9997586 | 1         | \n",
       "| 456       | 579       | 30-40     | 2         | 0         | 0         | 1         | 16        |  2.4      | 0         | 1         | 0.9998610 | 1         | \n",
       "| 456       | 579       | 30-40     | 2         | 2         | 0         | 1         |  6        |  1.5      | 0         | 1         | 0.9965763 | 1         | \n",
       "| 447       | 749       | 30-40     | 1         | 2         | 2         | 1         |  6        | -2.6      | 0         | 1         | 0.9967095 | 1         | \n",
       "| 444       | 827       | 30-40     | 1         | 1         | 3         | 1         |  0        |  0.5      | 3         | 1         | 0.9960543 | 1         | \n",
       "\n",
       "\n"
      ],
      "text/plain": [
       "  SSL_SCORE SSL_SCORE_RANK PREDICTOR_RAT_AGE_AT_LATEST_ARREST\n",
       "1 478       296            30-40                             \n",
       "2 471       363            30-40                             \n",
       "3 456       579            30-40                             \n",
       "4 456       579            30-40                             \n",
       "5 447       749            30-40                             \n",
       "6 444       827            30-40                             \n",
       "  PREDICTOR_RAT_VICTIM_SHOOTING_INCIDENTS\n",
       "1 1                                      \n",
       "2 0                                      \n",
       "3 2                                      \n",
       "4 2                                      \n",
       "5 1                                      \n",
       "6 1                                      \n",
       "  PREDICTOR_RAT_VICTIM_BATTERY_OR_ASSAULT\n",
       "1 6                                      \n",
       "2 0                                      \n",
       "3 0                                      \n",
       "4 2                                      \n",
       "5 2                                      \n",
       "6 1                                      \n",
       "  PREDICTOR_RAT_ARRESTS_VIOLENT_OFFENSES PREDICTOR_RAT_GANG_AFFILIATION\n",
       "1 1                                      1                             \n",
       "2 0                                      1                             \n",
       "3 0                                      1                             \n",
       "4 0                                      1                             \n",
       "5 2                                      1                             \n",
       "6 3                                      1                             \n",
       "  PREDICTOR_RAT_NARCOTIC_ARRESTS PREDICTOR_RAT_TREND_IN_CRIMINAL_ACTIVITY\n",
       "1  0                             -0.6                                    \n",
       "2 22                             -1.8                                    \n",
       "3 16                              2.4                                    \n",
       "4  6                              1.5                                    \n",
       "5  6                             -2.6                                    \n",
       "6  0                              0.5                                    \n",
       "  PREDICTOR_RAT_UUW_ARRESTS SEX_CODE_CD distance  weights\n",
       "1 1                         1           0.8432430 1      \n",
       "2 0                         1           0.9997586 1      \n",
       "3 0                         1           0.9998610 1      \n",
       "4 0                         1           0.9965763 1      \n",
       "5 0                         1           0.9967095 1      \n",
       "6 3                         1           0.9960543 1      "
      ]
     },
     "metadata": {},
     "output_type": "display_data"
    }
   ],
   "source": [
    "head(matched)"
   ]
  },
  {
   "cell_type": "code",
   "execution_count": 16,
   "metadata": {},
   "outputs": [
    {
     "name": "stderr",
     "output_type": "stream",
     "text": [
      "The following objects are masked from complete_data:\n",
      "\n",
      "    PREDICTOR_RAT_AGE_AT_LATEST_ARREST,\n",
      "    PREDICTOR_RAT_ARRESTS_VIOLENT_OFFENSES,\n",
      "    PREDICTOR_RAT_GANG_AFFILIATION, PREDICTOR_RAT_NARCOTIC_ARRESTS,\n",
      "    PREDICTOR_RAT_TREND_IN_CRIMINAL_ACTIVITY,\n",
      "    PREDICTOR_RAT_UUW_ARRESTS, PREDICTOR_RAT_VICTIM_BATTERY_OR_ASSAULT,\n",
      "    PREDICTOR_RAT_VICTIM_SHOOTING_INCIDENTS, SEX_CODE_CD, SSL_SCORE,\n",
      "    SSL_SCORE_RANK\n",
      "\n"
     ]
    }
   ],
   "source": [
    "# Doing T - test on matched records\n",
    "attach(matched)"
   ]
  },
  {
   "cell_type": "code",
   "execution_count": 17,
   "metadata": {
    "collapsed": true
   },
   "outputs": [],
   "source": [
    "gender_female  <-subset(matched,SEX_CODE_CD == 0)\n",
    "gender_male<-subset(matched,SEX_CODE_CD == 1)\n"
   ]
  },
  {
   "cell_type": "code",
   "execution_count": 18,
   "metadata": {},
   "outputs": [
    {
     "data": {
      "text/plain": [
       "\n",
       "\tWelch Two Sample t-test\n",
       "\n",
       "data:  SSL_SCORE by SEX_CODE_CD\n",
       "t = -54.757, df = 38205, p-value < 2.2e-16\n",
       "alternative hypothesis: true difference in means is not equal to 0\n",
       "95 percent confidence interval:\n",
       " -9.966190 -9.277369\n",
       "sample estimates:\n",
       "mean in group 0 mean in group 1 \n",
       "       266.7126        276.3343 \n"
      ]
     },
     "metadata": {},
     "output_type": "display_data"
    }
   ],
   "source": [
    "t.test(SSL_SCORE~SEX_CODE_CD)"
   ]
  },
  {
   "cell_type": "code",
   "execution_count": 19,
   "metadata": {},
   "outputs": [
    {
     "data": {
      "text/plain": [
       "\n",
       "\tWelch Two Sample t-test\n",
       "\n",
       "data:  SSL_SCORE_RANK by SEX_CODE_CD\n",
       "t = 55.063, df = 36284, p-value < 2.2e-16\n",
       "alternative hypothesis: true difference in means is not equal to 0\n",
       "95 percent confidence interval:\n",
       " 21812.76 23422.99\n",
       "sample estimates:\n",
       "mean in group 0 mean in group 1 \n",
       "       250595.8        227977.9 \n"
      ]
     },
     "metadata": {},
     "output_type": "display_data"
    }
   ],
   "source": [
    "t.test(SSL_SCORE_RANK~SEX_CODE_CD)"
   ]
  }
 ],
 "metadata": {
  "kernelspec": {
   "display_name": "R",
   "language": "R",
   "name": "ir"
  },
  "language_info": {
   "codemirror_mode": "r",
   "file_extension": ".r",
   "mimetype": "text/x-r-source",
   "name": "R",
   "pygments_lexer": "r",
   "version": "3.3.2"
  }
 },
 "nbformat": 4,
 "nbformat_minor": 2
}
