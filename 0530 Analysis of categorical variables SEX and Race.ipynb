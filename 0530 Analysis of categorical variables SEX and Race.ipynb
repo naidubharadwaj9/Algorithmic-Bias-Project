{
 "cells": [
  {
   "cell_type": "code",
   "execution_count": 1,
   "metadata": {},
   "outputs": [
    {
     "name": "stdout",
     "output_type": "stream",
     "text": [
      "The Number of Rows in Initial Data is 398684"
     ]
    }
   ],
   "source": [
    "raw_data <- read.csv(\"Strategic_Subject_List.csv\", sep=\",\", header=T, strip.white = T, na.strings = c(\"NA\",\"NaN\",\"\",\"?\"))\n",
    "#Converting the \".\" in column names to \"_\"\n",
    "names(raw_data)<-gsub(\"\\\\.\", \"_\", names(raw_data))\n",
    "cat(\"The Number of Rows in Initial Data is\", nrow(raw_data))"
   ]
  },
  {
   "cell_type": "code",
   "execution_count": 8,
   "metadata": {
    "collapsed": true
   },
   "outputs": [],
   "source": [
    "final_features<-raw_data[,c(\"SEX_CODE_CD\",\"RACE_CODE_CD\")]"
   ]
  },
  {
   "cell_type": "code",
   "execution_count": 9,
   "metadata": {
    "collapsed": true
   },
   "outputs": [],
   "source": [
    "complete_data <- final_features[complete.cases(final_features),]"
   ]
  },
  {
   "cell_type": "code",
   "execution_count": 10,
   "metadata": {
    "collapsed": true
   },
   "outputs": [],
   "source": [
    "complete_data$SEX_CODE_CD <- as.factor(complete_data$SEX_CODE_CD)\n",
    "complete_data$RACE_CODE_CD<- as.factor(complete_data$RACE_CODE_CD)"
   ]
  },
  {
   "cell_type": "code",
   "execution_count": 16,
   "metadata": {},
   "outputs": [
    {
     "name": "stdout",
     "output_type": "stream",
     "text": [
      "\n",
      " \n",
      "   Cell Contents\n",
      "|-------------------------|\n",
      "|                       N |\n",
      "| Chi-square contribution |\n",
      "|           N / Row Total |\n",
      "|           N / Col Total |\n",
      "|         N / Table Total |\n",
      "|-------------------------|\n",
      "\n",
      " \n",
      "Total Observations in Table:  398684 \n",
      "\n",
      " \n",
      "                          | complete_data$RACE_CODE \n",
      "complete_data$SEX_CODE_CD |       API |       BLK |         I |         U |       WBH |       WHI |       WWH | Row Total | \n",
      "--------------------------|-----------|-----------|-----------|-----------|-----------|-----------|-----------|-----------|\n",
      "                        F |      1131 |     54842 |        75 |       435 |       414 |     20589 |     18821 |     96307 | \n",
      "                          |     0.221 |   427.936 |     1.040 |     1.227 |     8.282 |    24.101 |  1150.952 |           | \n",
      "                          |     0.012 |     0.569 |     0.001 |     0.005 |     0.004 |     0.214 |     0.195 |     0.242 | \n",
      "                          |     0.245 |     0.264 |     0.272 |     0.229 |     0.210 |     0.250 |     0.189 |           | \n",
      "                          |     0.003 |     0.138 |     0.000 |     0.001 |     0.001 |     0.052 |     0.047 |           | \n",
      "--------------------------|-----------|-----------|-----------|-----------|-----------|-----------|-----------|-----------|\n",
      "                        M |      3486 |    152975 |       201 |      1464 |      1559 |     61764 |     80871 |    302320 | \n",
      "                          |     0.065 |   136.046 |     0.328 |     0.400 |     2.578 |     7.705 |   366.126 |           | \n",
      "                          |     0.012 |     0.506 |     0.001 |     0.005 |     0.005 |     0.204 |     0.268 |     0.758 | \n",
      "                          |     0.755 |     0.736 |     0.728 |     0.771 |     0.790 |     0.750 |     0.811 |           | \n",
      "                          |     0.009 |     0.384 |     0.001 |     0.004 |     0.004 |     0.155 |     0.203 |           | \n",
      "--------------------------|-----------|-----------|-----------|-----------|-----------|-----------|-----------|-----------|\n",
      "                        X |         0 |        25 |         0 |         0 |         1 |        13 |        18 |        57 | \n",
      "                          |     0.660 |     0.748 |     0.039 |     0.272 |     1.826 |     0.127 |     0.984 |           | \n",
      "                          |     0.000 |     0.439 |     0.000 |     0.000 |     0.018 |     0.228 |     0.316 |     0.000 | \n",
      "                          |     0.000 |     0.000 |     0.000 |     0.000 |     0.001 |     0.000 |     0.000 |           | \n",
      "                          |     0.000 |     0.000 |     0.000 |     0.000 |     0.000 |     0.000 |     0.000 |           | \n",
      "--------------------------|-----------|-----------|-----------|-----------|-----------|-----------|-----------|-----------|\n",
      "             Column Total |      4617 |    207842 |       276 |      1899 |      1974 |     82366 |     99710 |    398684 | \n",
      "                          |     0.012 |     0.521 |     0.001 |     0.005 |     0.005 |     0.207 |     0.250 |           | \n",
      "--------------------------|-----------|-----------|-----------|-----------|-----------|-----------|-----------|-----------|\n",
      "\n",
      " \n"
     ]
    }
   ],
   "source": [
    "library('gmodels')\n",
    "join = CrossTable(complete_data$SEX_CODE_CD,complete_data$RACE_CODE)"
   ]
  },
  {
   "cell_type": "code",
   "execution_count": 14,
   "metadata": {},
   "outputs": [
    {
     "data": {
      "text/plain": [
       "$t\n",
       "   y\n",
       "x      API    BLK      I      U    WBH    WHI    WWH\n",
       "  F   1131  54842     75    435    414  20589  18821\n",
       "  M   3486 152975    201   1464   1559  61764  80871\n",
       "  X      0     25      0      0      1     13     18\n",
       "\n",
       "$prop.row\n",
       "   y\n",
       "x            API          BLK            I            U          WBH\n",
       "  F 0.0117436946 0.5694497804 0.0007787596 0.0045168056 0.0042987529\n",
       "  M 0.0115308283 0.5060035724 0.0006648584 0.0048425509 0.0051567875\n",
       "  X 0.0000000000 0.4385964912 0.0000000000 0.0000000000 0.0175438596\n",
       "   y\n",
       "x            WHI          WWH\n",
       "  F 0.2137850831 0.1954271237\n",
       "  M 0.2043000794 0.2675013231\n",
       "  X 0.2280701754 0.3157894737\n",
       "\n",
       "$prop.col\n",
       "   y\n",
       "x            API          BLK            I            U          WBH\n",
       "  F 0.2449642625 0.2638638966 0.2717391304 0.2290679305 0.2097264438\n",
       "  M 0.7550357375 0.7360158197 0.7282608696 0.7709320695 0.7897669706\n",
       "  X 0.0000000000 0.0001202837 0.0000000000 0.0000000000 0.0005065856\n",
       "   y\n",
       "x            WHI          WWH\n",
       "  F 0.2499696477 0.1887573964\n",
       "  M 0.7498725202 0.8110620800\n",
       "  X 0.0001578321 0.0001805235\n",
       "\n",
       "$prop.tbl\n",
       "   y\n",
       "x            API          BLK            I            U          WBH\n",
       "  F 2.836833e-03 1.375576e-01 1.881189e-04 1.091090e-03 1.038416e-03\n",
       "  M 8.743767e-03 3.836999e-01 5.041587e-04 3.672081e-03 3.910365e-03\n",
       "  X 0.000000e+00 6.270630e-05 0.000000e+00 0.000000e+00 2.508252e-06\n",
       "   y\n",
       "x            WHI          WWH\n",
       "  F 5.164240e-02 4.720781e-02\n",
       "  M 1.549197e-01 2.028449e-01\n",
       "  X 3.260728e-05 4.514854e-05\n"
      ]
     },
     "metadata": {},
     "output_type": "display_data"
    }
   ],
   "source": [
    "join"
   ]
  },
  {
   "cell_type": "code",
   "execution_count": 18,
   "metadata": {
    "collapsed": true
   },
   "outputs": [],
   "source": [
    "join_counts = join$t"
   ]
  },
  {
   "cell_type": "code",
   "execution_count": 25,
   "metadata": {},
   "outputs": [
    {
     "name": "stderr",
     "output_type": "stream",
     "text": [
      "Warning message in plot.window(xlim, ylim, log = log, ...):\n",
      "\"\"vlab\" is not a graphical parameter\"Warning message in axis(if (horiz) 2 else 1, at = at.l, labels = names.arg, lty = axis.lty, :\n",
      "\"\"vlab\" is not a graphical parameter\"Warning message in title(main = main, sub = sub, xlab = xlab, ylab = ylab, ...):\n",
      "\"\"vlab\" is not a graphical parameter\"Warning message in axis(if (horiz) 1 else 2, cex.axis = cex.axis, ...):\n",
      "\"\"vlab\" is not a graphical parameter\""
     ]
    },
    {
     "data": {
      "image/png": "[encoded data removed]",
      "text/plain": [
       "plot without title"
      ]
     },
     "metadata": {},
     "output_type": "display_data"
    }
   ],
   "source": [
    "barplot(join_counts,beside=TRUE, col=rainbow(3),vlab='Frequency',xlab = 'RACE_CODE_CD')\n",
    "legend('topright',c('Female', 'Male', 'X'),pch=15,col=rainbow(3))"
   ]
  }
 ],
 "metadata": {
  "kernelspec": {
   "display_name": "R",
   "language": "R",
   "name": "ir"
  },
  "language_info": {
   "codemirror_mode": "r",
   "file_extension": ".r",
   "mimetype": "text/x-r-source",
   "name": "R",
   "pygments_lexer": "r",
   "version": "3.3.2"
  }
 },
 "nbformat": 4,
 "nbformat_minor": 2
}
