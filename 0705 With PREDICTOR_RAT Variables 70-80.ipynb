{
 "cells": [
  {
   "cell_type": "code",
   "execution_count": 1,
   "metadata": {},
   "outputs": [
    {
     "name": "stdout",
     "output_type": "stream",
     "text": [
      "The Number of Rows in Initial Data is 829"
     ]
    }
   ],
   "source": [
    "raw_data <- read.csv(\"SSL_RAT_70_80.csv\", sep=\",\", header=T, strip.white = T, na.strings = c(\"NA\",\"NaN\",\"\",\"?\"))\n",
    "#Converting the \".\" in column names to \"_\"\n",
    "names(raw_data)<-gsub(\"\\\\.\", \"_\", names(raw_data))\n",
    "cat(\"The Number of Rows in Initial Data is\", nrow(raw_data))"
   ]
  },
  {
   "cell_type": "code",
   "execution_count": 2,
   "metadata": {
    "collapsed": true
   },
   "outputs": [],
   "source": [
    "final_features<-raw_data[,c('SSL_SCORE','SSL_SCORE_Rank','PREDICTOR_RAT_AGE_AT_LATEST_ARREST','PREDICTOR_RAT_VICTIM_SHOOTING_INCIDENTS',\n",
    "                            'PREDICTOR_RAT_VICTIM_BATTERY_OR_ASSAULT','PREDICTOR_RAT_ARRESTS_VIOLENT_OFFENSES','PREDICTOR_RAT_GANG_AFFILIATION', \n",
    "                           'PREDICTOR_RAT_NARCOTIC_ARRESTS','PREDICTOR_RAT_TREND_IN_CRIMINAL_ACTIVITY','PREDICTOR_RAT_UUW_ARRESTS','RACE_CODE_CD')]"
   ]
  },
  {
   "cell_type": "code",
   "execution_count": 3,
   "metadata": {},
   "outputs": [
    {
     "data": {
      "text/html": [
       "829"
      ],
      "text/latex": [
       "829"
      ],
      "text/markdown": [
       "829"
      ],
      "text/plain": [
       "[1] 829"
      ]
     },
     "metadata": {},
     "output_type": "display_data"
    }
   ],
   "source": [
    "complete_data <- final_features[complete.cases(final_features),]\n",
    "nrow(complete_data)"
   ]
  },
  {
   "cell_type": "code",
   "execution_count": 4,
   "metadata": {},
   "outputs": [
    {
     "data": {
      "text/html": [
       "<table>\n",
       "<thead><tr><th scope=col>SSL_SCORE</th><th scope=col>SSL_SCORE_Rank</th><th scope=col>PREDICTOR_RAT_AGE_AT_LATEST_ARREST</th><th scope=col>PREDICTOR_RAT_VICTIM_SHOOTING_INCIDENTS</th><th scope=col>PREDICTOR_RAT_VICTIM_BATTERY_OR_ASSAULT</th><th scope=col>PREDICTOR_RAT_ARRESTS_VIOLENT_OFFENSES</th><th scope=col>PREDICTOR_RAT_GANG_AFFILIATION</th><th scope=col>PREDICTOR_RAT_NARCOTIC_ARRESTS</th><th scope=col>PREDICTOR_RAT_TREND_IN_CRIMINAL_ACTIVITY</th><th scope=col>PREDICTOR_RAT_UUW_ARRESTS</th><th scope=col>RACE_CODE_CD</th></tr></thead>\n",
       "<tbody>\n",
       "\t<tr><td>158   </td><td>387545</td><td>70-80 </td><td>0     </td><td>0     </td><td>1     </td><td>0     </td><td>0     </td><td> 0.3  </td><td>1     </td><td>0     </td></tr>\n",
       "\t<tr><td>148   </td><td>391116</td><td>70-80 </td><td>0     </td><td>1     </td><td>0     </td><td>0     </td><td>0     </td><td> 0.3  </td><td>0     </td><td>0     </td></tr>\n",
       "\t<tr><td>143   </td><td>392702</td><td>70-80 </td><td>0     </td><td>1     </td><td>1     </td><td>0     </td><td>0     </td><td> 0.3  </td><td>0     </td><td>0     </td></tr>\n",
       "\t<tr><td>138   </td><td>393847</td><td>70-80 </td><td>0     </td><td>1     </td><td>0     </td><td>0     </td><td>0     </td><td>-0.1  </td><td>0     </td><td>0     </td></tr>\n",
       "\t<tr><td>133   </td><td>394919</td><td>70-80 </td><td>0     </td><td>1     </td><td>1     </td><td>0     </td><td>0     </td><td>-0.4  </td><td>0     </td><td>0     </td></tr>\n",
       "\t<tr><td>132   </td><td>395095</td><td>70-80 </td><td>0     </td><td>0     </td><td>1     </td><td>0     </td><td>0     </td><td> 0.1  </td><td>1     </td><td>0     </td></tr>\n",
       "</tbody>\n",
       "</table>\n"
      ],
      "text/latex": [
       "\\begin{tabular}{r|lllllllllll}\n",
       " SSL\\_SCORE & SSL\\_SCORE\\_Rank & PREDICTOR\\_RAT\\_AGE\\_AT\\_LATEST\\_ARREST & PREDICTOR\\_RAT\\_VICTIM\\_SHOOTING\\_INCIDENTS & PREDICTOR\\_RAT\\_VICTIM\\_BATTERY\\_OR\\_ASSAULT & PREDICTOR\\_RAT\\_ARRESTS\\_VIOLENT\\_OFFENSES & PREDICTOR\\_RAT\\_GANG\\_AFFILIATION & PREDICTOR\\_RAT\\_NARCOTIC\\_ARRESTS & PREDICTOR\\_RAT\\_TREND\\_IN\\_CRIMINAL\\_ACTIVITY & PREDICTOR\\_RAT\\_UUW\\_ARRESTS & RACE\\_CODE\\_CD\\\\\n",
       "\\hline\n",
       "\t 158    & 387545 & 70-80  & 0      & 0      & 1      & 0      & 0      &  0.3   & 1      & 0     \\\\\n",
       "\t 148    & 391116 & 70-80  & 0      & 1      & 0      & 0      & 0      &  0.3   & 0      & 0     \\\\\n",
       "\t 143    & 392702 & 70-80  & 0      & 1      & 1      & 0      & 0      &  0.3   & 0      & 0     \\\\\n",
       "\t 138    & 393847 & 70-80  & 0      & 1      & 0      & 0      & 0      & -0.1   & 0      & 0     \\\\\n",
       "\t 133    & 394919 & 70-80  & 0      & 1      & 1      & 0      & 0      & -0.4   & 0      & 0     \\\\\n",
       "\t 132    & 395095 & 70-80  & 0      & 0      & 1      & 0      & 0      &  0.1   & 1      & 0     \\\\\n",
       "\\end{tabular}\n"
      ],
      "text/markdown": [
       "\n",
       "SSL_SCORE | SSL_SCORE_Rank | PREDICTOR_RAT_AGE_AT_LATEST_ARREST | PREDICTOR_RAT_VICTIM_SHOOTING_INCIDENTS | PREDICTOR_RAT_VICTIM_BATTERY_OR_ASSAULT | PREDICTOR_RAT_ARRESTS_VIOLENT_OFFENSES | PREDICTOR_RAT_GANG_AFFILIATION | PREDICTOR_RAT_NARCOTIC_ARRESTS | PREDICTOR_RAT_TREND_IN_CRIMINAL_ACTIVITY | PREDICTOR_RAT_UUW_ARRESTS | RACE_CODE_CD | \n",
       "|---|---|---|---|---|---|\n",
       "| 158    | 387545 | 70-80  | 0      | 0      | 1      | 0      | 0      |  0.3   | 1      | 0      | \n",
       "| 148    | 391116 | 70-80  | 0      | 1      | 0      | 0      | 0      |  0.3   | 0      | 0      | \n",
       "| 143    | 392702 | 70-80  | 0      | 1      | 1      | 0      | 0      |  0.3   | 0      | 0      | \n",
       "| 138    | 393847 | 70-80  | 0      | 1      | 0      | 0      | 0      | -0.1   | 0      | 0      | \n",
       "| 133    | 394919 | 70-80  | 0      | 1      | 1      | 0      | 0      | -0.4   | 0      | 0      | \n",
       "| 132    | 395095 | 70-80  | 0      | 0      | 1      | 0      | 0      |  0.1   | 1      | 0      | \n",
       "\n",
       "\n"
      ],
      "text/plain": [
       "  SSL_SCORE SSL_SCORE_Rank PREDICTOR_RAT_AGE_AT_LATEST_ARREST\n",
       "1 158       387545         70-80                             \n",
       "2 148       391116         70-80                             \n",
       "3 143       392702         70-80                             \n",
       "4 138       393847         70-80                             \n",
       "5 133       394919         70-80                             \n",
       "6 132       395095         70-80                             \n",
       "  PREDICTOR_RAT_VICTIM_SHOOTING_INCIDENTS\n",
       "1 0                                      \n",
       "2 0                                      \n",
       "3 0                                      \n",
       "4 0                                      \n",
       "5 0                                      \n",
       "6 0                                      \n",
       "  PREDICTOR_RAT_VICTIM_BATTERY_OR_ASSAULT\n",
       "1 0                                      \n",
       "2 1                                      \n",
       "3 1                                      \n",
       "4 1                                      \n",
       "5 1                                      \n",
       "6 0                                      \n",
       "  PREDICTOR_RAT_ARRESTS_VIOLENT_OFFENSES PREDICTOR_RAT_GANG_AFFILIATION\n",
       "1 1                                      0                             \n",
       "2 0                                      0                             \n",
       "3 1                                      0                             \n",
       "4 0                                      0                             \n",
       "5 1                                      0                             \n",
       "6 1                                      0                             \n",
       "  PREDICTOR_RAT_NARCOTIC_ARRESTS PREDICTOR_RAT_TREND_IN_CRIMINAL_ACTIVITY\n",
       "1 0                               0.3                                    \n",
       "2 0                               0.3                                    \n",
       "3 0                               0.3                                    \n",
       "4 0                              -0.1                                    \n",
       "5 0                              -0.4                                    \n",
       "6 0                               0.1                                    \n",
       "  PREDICTOR_RAT_UUW_ARRESTS RACE_CODE_CD\n",
       "1 1                         0           \n",
       "2 0                         0           \n",
       "3 0                         0           \n",
       "4 0                         0           \n",
       "5 0                         0           \n",
       "6 1                         0           "
      ]
     },
     "metadata": {},
     "output_type": "display_data"
    }
   ],
   "source": [
    "head(complete_data)"
   ]
  },
  {
   "cell_type": "code",
   "execution_count": 5,
   "metadata": {},
   "outputs": [
    {
     "name": "stderr",
     "output_type": "stream",
     "text": [
      "Warning message:\n",
      "\"package 'MatchIt' was built under R version 3.3.3\"Warning message:\n",
      "\"package 'dplyr' was built under R version 3.3.3\"\n",
      "Attaching package: 'dplyr'\n",
      "\n",
      "The following objects are masked from 'package:stats':\n",
      "\n",
      "    filter, lag\n",
      "\n",
      "The following objects are masked from 'package:base':\n",
      "\n",
      "    intersect, setdiff, setequal, union\n",
      "\n",
      "Warning message:\n",
      "\"package 'ggplot2' was built under R version 3.3.3\""
     ]
    }
   ],
   "source": [
    "library(MatchIt)\n",
    "library(dplyr)\n",
    "library(ggplot2)"
   ]
  },
  {
   "cell_type": "code",
   "execution_count": 6,
   "metadata": {},
   "outputs": [
    {
     "data": {
      "text/html": [
       "<table>\n",
       "<thead><tr><th scope=col>RACE_CODE_CD</th><th scope=col>NUMBER_OF_PEOPLE</th><th scope=col>MEAN_SSL_SCORE</th><th scope=col>STD_ERROR</th></tr></thead>\n",
       "<tbody>\n",
       "\t<tr><td>0        </td><td>481      </td><td>92.76299 </td><td>0.7168191</td></tr>\n",
       "\t<tr><td>1        </td><td>348      </td><td>90.06897 </td><td>0.7481266</td></tr>\n",
       "</tbody>\n",
       "</table>\n"
      ],
      "text/latex": [
       "\\begin{tabular}{r|llll}\n",
       " RACE\\_CODE\\_CD & NUMBER\\_OF\\_PEOPLE & MEAN\\_SSL\\_SCORE & STD\\_ERROR\\\\\n",
       "\\hline\n",
       "\t 0         & 481       & 92.76299  & 0.7168191\\\\\n",
       "\t 1         & 348       & 90.06897  & 0.7481266\\\\\n",
       "\\end{tabular}\n"
      ],
      "text/markdown": [
       "\n",
       "RACE_CODE_CD | NUMBER_OF_PEOPLE | MEAN_SSL_SCORE | STD_ERROR | \n",
       "|---|---|\n",
       "| 0         | 481       | 92.76299  | 0.7168191 | \n",
       "| 1         | 348       | 90.06897  | 0.7481266 | \n",
       "\n",
       "\n"
      ],
      "text/plain": [
       "  RACE_CODE_CD NUMBER_OF_PEOPLE MEAN_SSL_SCORE STD_ERROR\n",
       "1 0            481              92.76299       0.7168191\n",
       "2 1            348              90.06897       0.7481266"
      ]
     },
     "metadata": {},
     "output_type": "display_data"
    }
   ],
   "source": [
    "complete_data %>%\n",
    "  group_by(RACE_CODE_CD) %>%\n",
    "  summarise(NUMBER_OF_PEOPLE = n(),\n",
    "            MEAN_SSL_SCORE = mean(SSL_SCORE),\n",
    "            STD_ERROR = sd(SSL_SCORE) / sqrt(NUMBER_OF_PEOPLE))"
   ]
  },
  {
   "cell_type": "code",
   "execution_count": 7,
   "metadata": {
    "collapsed": true
   },
   "outputs": [],
   "source": [
    "mod_match <- matchit(RACE_CODE_CD ~ PREDICTOR_RAT_VICTIM_SHOOTING_INCIDENTS + PREDICTOR_RAT_VICTIM_BATTERY_OR_ASSAULT + \n",
    "            PREDICTOR_RAT_ARRESTS_VIOLENT_OFFENSES + PREDICTOR_RAT_GANG_AFFILIATION + PREDICTOR_RAT_NARCOTIC_ARRESTS + PREDICTOR_RAT_TREND_IN_CRIMINAL_ACTIVITY +\n",
    "            PREDICTOR_RAT_UUW_ARRESTS,\n",
    "                     method = \"nearest\", data = complete_data)"
   ]
  },
  {
   "cell_type": "code",
   "execution_count": 8,
   "metadata": {},
   "outputs": [
    {
     "data": {
      "text/plain": [
       "\n",
       "Call: \n",
       "matchit(formula = RACE_CODE_CD ~ PREDICTOR_RAT_VICTIM_SHOOTING_INCIDENTS + \n",
       "    PREDICTOR_RAT_VICTIM_BATTERY_OR_ASSAULT + PREDICTOR_RAT_ARRESTS_VIOLENT_OFFENSES + \n",
       "    PREDICTOR_RAT_GANG_AFFILIATION + PREDICTOR_RAT_NARCOTIC_ARRESTS + \n",
       "    PREDICTOR_RAT_TREND_IN_CRIMINAL_ACTIVITY + PREDICTOR_RAT_UUW_ARRESTS, \n",
       "    data = complete_data, method = \"nearest\")\n",
       "\n",
       "Sample sizes:\n",
       "          Control Treated\n",
       "All           481     348\n",
       "Matched       348     348\n",
       "Unmatched     133       0\n",
       "Discarded       0       0\n"
      ]
     },
     "metadata": {},
     "output_type": "display_data"
    }
   ],
   "source": [
    "mod_match"
   ]
  },
  {
   "cell_type": "code",
   "execution_count": 9,
   "metadata": {
    "collapsed": true
   },
   "outputs": [],
   "source": [
    "matched <- match.data(mod_match)\n",
    "matched_copy<-matched"
   ]
  },
  {
   "cell_type": "code",
   "execution_count": 10,
   "metadata": {},
   "outputs": [
    {
     "name": "stdout",
     "output_type": "stream",
     "text": [
      "[1] \"To identify the units, use first mouse button; to stop, use second.\"\n"
     ]
    },
    {
     "data": {
      "text/html": [],
      "text/latex": [],
      "text/markdown": [],
      "text/plain": [
       "integer(0)"
      ]
     },
     "metadata": {},
     "output_type": "display_data"
    },
    {
     "data": {
      "image/png": "[encoded data removed]",
      "text/plain": [
       "Plot with title \"Distribution of Propensity Scores\""
      ]
     },
     "metadata": {},
     "output_type": "display_data"
    }
   ],
   "source": [
    "plot(mod_match, type = \"jitter\")"
   ]
  },
  {
   "cell_type": "code",
   "execution_count": 11,
   "metadata": {},
   "outputs": [
    {
     "data": {
      "image/png": "[encoded data removed]",
      "text/plain": [
       "Plot with title \"Matched Control\""
      ]
     },
     "metadata": {},
     "output_type": "display_data"
    }
   ],
   "source": [
    "plot(mod_match, type = \"hist\")"
   ]
  },
  {
   "cell_type": "code",
   "execution_count": 12,
   "metadata": {},
   "outputs": [
    {
     "data": {
      "text/html": [
       "<table>\n",
       "<thead><tr><th></th><th scope=col>SSL_SCORE</th><th scope=col>SSL_SCORE_Rank</th><th scope=col>PREDICTOR_RAT_AGE_AT_LATEST_ARREST</th><th scope=col>PREDICTOR_RAT_VICTIM_SHOOTING_INCIDENTS</th><th scope=col>PREDICTOR_RAT_VICTIM_BATTERY_OR_ASSAULT</th><th scope=col>PREDICTOR_RAT_ARRESTS_VIOLENT_OFFENSES</th><th scope=col>PREDICTOR_RAT_GANG_AFFILIATION</th><th scope=col>PREDICTOR_RAT_NARCOTIC_ARRESTS</th><th scope=col>PREDICTOR_RAT_TREND_IN_CRIMINAL_ACTIVITY</th><th scope=col>PREDICTOR_RAT_UUW_ARRESTS</th><th scope=col>RACE_CODE_CD</th><th scope=col>distance</th><th scope=col>weights</th></tr></thead>\n",
       "<tbody>\n",
       "\t<tr><th scope=row>1</th><td>158        </td><td>387545     </td><td>70-80      </td><td>0          </td><td>0          </td><td>1          </td><td>0          </td><td>0          </td><td> 0.3       </td><td>1          </td><td>0          </td><td>0.220635143</td><td>1          </td></tr>\n",
       "\t<tr><th scope=row>4</th><td>138        </td><td>393847     </td><td>70-80      </td><td>0          </td><td>1          </td><td>0          </td><td>0          </td><td>0          </td><td>-0.1       </td><td>0          </td><td>0          </td><td>0.144179088</td><td>1          </td></tr>\n",
       "\t<tr><th scope=row>6</th><td>132        </td><td>395095     </td><td>70-80      </td><td>0          </td><td>0          </td><td>1          </td><td>0          </td><td>0          </td><td> 0.1       </td><td>1          </td><td>0          </td><td>0.216685468</td><td>1          </td></tr>\n",
       "\t<tr><th scope=row>8</th><td>132        </td><td>395095     </td><td>70-80      </td><td>0          </td><td>0          </td><td>1          </td><td>0          </td><td>0          </td><td> 0.1       </td><td>1          </td><td>1          </td><td>0.216685468</td><td>1          </td></tr>\n",
       "\t<tr><th scope=row>9</th><td>129        </td><td>395508     </td><td>70-80      </td><td>0          </td><td>0          </td><td>0          </td><td>0          </td><td>4          </td><td> 0.3       </td><td>0          </td><td>1          </td><td>0.009974043</td><td>1          </td></tr>\n",
       "\t<tr><th scope=row>13</th><td>127        </td><td>395888     </td><td>70-80      </td><td>0          </td><td>0          </td><td>1          </td><td>0          </td><td>0          </td><td> 0.4       </td><td>0          </td><td>0          </td><td>0.381864005</td><td>1          </td></tr>\n",
       "</tbody>\n",
       "</table>\n"
      ],
      "text/latex": [
       "\\begin{tabular}{r|lllllllllllll}\n",
       "  & SSL\\_SCORE & SSL\\_SCORE\\_Rank & PREDICTOR\\_RAT\\_AGE\\_AT\\_LATEST\\_ARREST & PREDICTOR\\_RAT\\_VICTIM\\_SHOOTING\\_INCIDENTS & PREDICTOR\\_RAT\\_VICTIM\\_BATTERY\\_OR\\_ASSAULT & PREDICTOR\\_RAT\\_ARRESTS\\_VIOLENT\\_OFFENSES & PREDICTOR\\_RAT\\_GANG\\_AFFILIATION & PREDICTOR\\_RAT\\_NARCOTIC\\_ARRESTS & PREDICTOR\\_RAT\\_TREND\\_IN\\_CRIMINAL\\_ACTIVITY & PREDICTOR\\_RAT\\_UUW\\_ARRESTS & RACE\\_CODE\\_CD & distance & weights\\\\\n",
       "\\hline\n",
       "\t1 & 158         & 387545      & 70-80       & 0           & 0           & 1           & 0           & 0           &  0.3        & 1           & 0           & 0.220635143 & 1          \\\\\n",
       "\t4 & 138         & 393847      & 70-80       & 0           & 1           & 0           & 0           & 0           & -0.1        & 0           & 0           & 0.144179088 & 1          \\\\\n",
       "\t6 & 132         & 395095      & 70-80       & 0           & 0           & 1           & 0           & 0           &  0.1        & 1           & 0           & 0.216685468 & 1          \\\\\n",
       "\t8 & 132         & 395095      & 70-80       & 0           & 0           & 1           & 0           & 0           &  0.1        & 1           & 1           & 0.216685468 & 1          \\\\\n",
       "\t9 & 129         & 395508      & 70-80       & 0           & 0           & 0           & 0           & 4           &  0.3        & 0           & 1           & 0.009974043 & 1          \\\\\n",
       "\t13 & 127         & 395888      & 70-80       & 0           & 0           & 1           & 0           & 0           &  0.4        & 0           & 0           & 0.381864005 & 1          \\\\\n",
       "\\end{tabular}\n"
      ],
      "text/markdown": [
       "\n",
       "| <!--/--> | SSL_SCORE | SSL_SCORE_Rank | PREDICTOR_RAT_AGE_AT_LATEST_ARREST | PREDICTOR_RAT_VICTIM_SHOOTING_INCIDENTS | PREDICTOR_RAT_VICTIM_BATTERY_OR_ASSAULT | PREDICTOR_RAT_ARRESTS_VIOLENT_OFFENSES | PREDICTOR_RAT_GANG_AFFILIATION | PREDICTOR_RAT_NARCOTIC_ARRESTS | PREDICTOR_RAT_TREND_IN_CRIMINAL_ACTIVITY | PREDICTOR_RAT_UUW_ARRESTS | RACE_CODE_CD | distance | weights | \n",
       "|---|---|---|---|---|---|\n",
       "| 1 | 158         | 387545      | 70-80       | 0           | 0           | 1           | 0           | 0           |  0.3        | 1           | 0           | 0.220635143 | 1           | \n",
       "| 4 | 138         | 393847      | 70-80       | 0           | 1           | 0           | 0           | 0           | -0.1        | 0           | 0           | 0.144179088 | 1           | \n",
       "| 6 | 132         | 395095      | 70-80       | 0           | 0           | 1           | 0           | 0           |  0.1        | 1           | 0           | 0.216685468 | 1           | \n",
       "| 8 | 132         | 395095      | 70-80       | 0           | 0           | 1           | 0           | 0           |  0.1        | 1           | 1           | 0.216685468 | 1           | \n",
       "| 9 | 129         | 395508      | 70-80       | 0           | 0           | 0           | 0           | 4           |  0.3        | 0           | 1           | 0.009974043 | 1           | \n",
       "| 13 | 127         | 395888      | 70-80       | 0           | 0           | 1           | 0           | 0           |  0.4        | 0           | 0           | 0.381864005 | 1           | \n",
       "\n",
       "\n"
      ],
      "text/plain": [
       "   SSL_SCORE SSL_SCORE_Rank PREDICTOR_RAT_AGE_AT_LATEST_ARREST\n",
       "1  158       387545         70-80                             \n",
       "4  138       393847         70-80                             \n",
       "6  132       395095         70-80                             \n",
       "8  132       395095         70-80                             \n",
       "9  129       395508         70-80                             \n",
       "13 127       395888         70-80                             \n",
       "   PREDICTOR_RAT_VICTIM_SHOOTING_INCIDENTS\n",
       "1  0                                      \n",
       "4  0                                      \n",
       "6  0                                      \n",
       "8  0                                      \n",
       "9  0                                      \n",
       "13 0                                      \n",
       "   PREDICTOR_RAT_VICTIM_BATTERY_OR_ASSAULT\n",
       "1  0                                      \n",
       "4  1                                      \n",
       "6  0                                      \n",
       "8  0                                      \n",
       "9  0                                      \n",
       "13 0                                      \n",
       "   PREDICTOR_RAT_ARRESTS_VIOLENT_OFFENSES PREDICTOR_RAT_GANG_AFFILIATION\n",
       "1  1                                      0                             \n",
       "4  0                                      0                             \n",
       "6  1                                      0                             \n",
       "8  1                                      0                             \n",
       "9  0                                      0                             \n",
       "13 1                                      0                             \n",
       "   PREDICTOR_RAT_NARCOTIC_ARRESTS PREDICTOR_RAT_TREND_IN_CRIMINAL_ACTIVITY\n",
       "1  0                               0.3                                    \n",
       "4  0                              -0.1                                    \n",
       "6  0                               0.1                                    \n",
       "8  0                               0.1                                    \n",
       "9  4                               0.3                                    \n",
       "13 0                               0.4                                    \n",
       "   PREDICTOR_RAT_UUW_ARRESTS RACE_CODE_CD distance    weights\n",
       "1  1                         0            0.220635143 1      \n",
       "4  0                         0            0.144179088 1      \n",
       "6  1                         0            0.216685468 1      \n",
       "8  1                         1            0.216685468 1      \n",
       "9  0                         1            0.009974043 1      \n",
       "13 0                         0            0.381864005 1      "
      ]
     },
     "metadata": {},
     "output_type": "display_data"
    }
   ],
   "source": [
    "head(matched)"
   ]
  },
  {
   "cell_type": "code",
   "execution_count": 13,
   "metadata": {},
   "outputs": [
    {
     "data": {
      "image/png": "[encoded data removed]",
      "text/plain": [
       "plot without title"
      ]
     },
     "metadata": {},
     "output_type": "display_data"
    }
   ],
   "source": [
    "# Doing T - test on matched records\n",
    "options(warn=-1)\n",
    "\n",
    "attach(matched)\n",
    "boxplot(SSL_SCORE_Rank~RACE_CODE_CD)"
   ]
  },
  {
   "cell_type": "code",
   "execution_count": 14,
   "metadata": {},
   "outputs": [
    {
     "data": {
      "image/png": "[encoded data removed]",
      "text/plain": [
       "Plot with title \"Normal Q-Q Plot\""
      ]
     },
     "metadata": {},
     "output_type": "display_data"
    }
   ],
   "source": [
    "race_black <-subset(matched,RACE_CODE_CD == 0)\n",
    "race_white<-subset(matched,RACE_CODE_CD == 1)\n",
    "# Normal QQ Plot for RACE == BLACK\n",
    "qqnorm(race_black$SSL_SCORE_Rank)\n",
    "qqline(race_black$SSL_SCORE_Rank)"
   ]
  },
  {
   "cell_type": "code",
   "execution_count": 15,
   "metadata": {},
   "outputs": [
    {
     "data": {
      "image/png": "[encoded data removed]",
      "text/plain": [
       "Plot with title \"Normal Q-Q Plot\""
      ]
     },
     "metadata": {},
     "output_type": "display_data"
    }
   ],
   "source": [
    "# Normal QQ Plot for RACE == WHITE\n",
    "qqnorm(race_white$SSL_SCORE_Rank)\n",
    "qqline(race_white$SSL_SCORE_Rank)"
   ]
  },
  {
   "cell_type": "code",
   "execution_count": 16,
   "metadata": {},
   "outputs": [
    {
     "data": {
      "text/plain": [
       "\n",
       "\tWelch Two Sample t-test\n",
       "\n",
       "data:  SSL_SCORE_Rank by RACE_CODE_CD\n",
       "t = -1.1733, df = 554.19, p-value = 0.2412\n",
       "alternative hypothesis: true difference in means is not equal to 0\n",
       "95 percent confidence interval:\n",
       " -143.76891   36.24592\n",
       "sample estimates:\n",
       "mean in group 0 mean in group 1 \n",
       "       397987.7        398041.5 \n"
      ]
     },
     "metadata": {},
     "output_type": "display_data"
    }
   ],
   "source": [
    "t.test(SSL_SCORE_Rank~RACE_CODE_CD)"
   ]
  }
 ],
 "metadata": {
  "kernelspec": {
   "display_name": "R",
   "language": "R",
   "name": "ir"
  },
  "language_info": {
   "codemirror_mode": "r",
   "file_extension": ".r",
   "mimetype": "text/x-r-source",
   "name": "R",
   "pygments_lexer": "r",
   "version": "3.3.2"
  }
 },
 "nbformat": 4,
 "nbformat_minor": 2
}
