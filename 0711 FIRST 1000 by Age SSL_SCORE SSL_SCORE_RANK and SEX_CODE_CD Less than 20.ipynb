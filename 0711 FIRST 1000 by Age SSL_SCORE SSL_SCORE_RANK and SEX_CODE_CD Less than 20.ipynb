{
 "cells": [
  {
   "cell_type": "code",
   "execution_count": 11,
   "metadata": {},
   "outputs": [
    {
     "name": "stdout",
     "output_type": "stream",
     "text": [
      "The Number of Rows in Initial Data is 809"
     ]
    }
   ],
   "source": [
    "raw_data <- read.csv(\"SSL_FIRST_1000_SEX_Code_Less_than_20.csv\", sep=\",\", header=T, strip.white = T, na.strings = c(\"NA\",\"NaN\",\"\",\"?\"))\n",
    "#Converting the \".\" in column names to \"_\"\n",
    "names(raw_data)<-gsub(\"\\\\.\", \"_\", names(raw_data))\n",
    "cat(\"The Number of Rows in Initial Data is\", nrow(raw_data))"
   ]
  },
  {
   "cell_type": "code",
   "execution_count": 12,
   "metadata": {
    "collapsed": true
   },
   "outputs": [],
   "source": [
    "final_features<-raw_data[,c('SSL_SCORE','SSL_SCORE_RANK','PREDICTOR_RAT_AGE_AT_LATEST_ARREST','PREDICTOR_RAT_VICTIM_SHOOTING_INCIDENTS',\n",
    "                            'PREDICTOR_RAT_VICTIM_BATTERY_OR_ASSAULT','PREDICTOR_RAT_ARRESTS_VIOLENT_OFFENSES','PREDICTOR_RAT_GANG_AFFILIATION', \n",
    "                           'PREDICTOR_RAT_NARCOTIC_ARRESTS','PREDICTOR_RAT_TREND_IN_CRIMINAL_ACTIVITY','PREDICTOR_RAT_UUW_ARRESTS','SEX_CODE_CD')]"
   ]
  },
  {
   "cell_type": "code",
   "execution_count": 13,
   "metadata": {},
   "outputs": [
    {
     "data": {
      "text/html": [
       "809"
      ],
      "text/latex": [
       "809"
      ],
      "text/markdown": [
       "809"
      ],
      "text/plain": [
       "[1] 809"
      ]
     },
     "metadata": {},
     "output_type": "display_data"
    }
   ],
   "source": [
    "complete_data <- final_features[complete.cases(final_features),]\n",
    "nrow(complete_data)"
   ]
  },
  {
   "cell_type": "code",
   "execution_count": 14,
   "metadata": {},
   "outputs": [
    {
     "data": {
      "text/html": [
       "<table>\n",
       "<thead><tr><th scope=col>SSL_SCORE</th><th scope=col>SSL_SCORE_RANK</th><th scope=col>PREDICTOR_RAT_AGE_AT_LATEST_ARREST</th><th scope=col>PREDICTOR_RAT_VICTIM_SHOOTING_INCIDENTS</th><th scope=col>PREDICTOR_RAT_VICTIM_BATTERY_OR_ASSAULT</th><th scope=col>PREDICTOR_RAT_ARRESTS_VIOLENT_OFFENSES</th><th scope=col>PREDICTOR_RAT_GANG_AFFILIATION</th><th scope=col>PREDICTOR_RAT_NARCOTIC_ARRESTS</th><th scope=col>PREDICTOR_RAT_TREND_IN_CRIMINAL_ACTIVITY</th><th scope=col>PREDICTOR_RAT_UUW_ARRESTS</th><th scope=col>SEX_CODE_CD</th></tr></thead>\n",
       "<tbody>\n",
       "\t<tr><td>500         </td><td>1           </td><td>less than 20</td><td>1           </td><td>2           </td><td>2           </td><td>1           </td><td>7           </td><td> 0.2        </td><td>1           </td><td>1           </td></tr>\n",
       "\t<tr><td>500         </td><td>1           </td><td>less than 20</td><td>0           </td><td>1           </td><td>3           </td><td>1           </td><td>2           </td><td> 0.1        </td><td>1           </td><td>1           </td></tr>\n",
       "\t<tr><td>500         </td><td>1           </td><td>less than 20</td><td>1           </td><td>2           </td><td>6           </td><td>0           </td><td>0           </td><td> 0.0        </td><td>0           </td><td>1           </td></tr>\n",
       "\t<tr><td>500         </td><td>1           </td><td>less than 20</td><td>1           </td><td>1           </td><td>4           </td><td>1           </td><td>1           </td><td>-0.3        </td><td>2           </td><td>1           </td></tr>\n",
       "\t<tr><td>500         </td><td>1           </td><td>less than 20</td><td>1           </td><td>2           </td><td>6           </td><td>1           </td><td>0           </td><td>-0.4        </td><td>1           </td><td>1           </td></tr>\n",
       "\t<tr><td>500         </td><td>1           </td><td>less than 20</td><td>1           </td><td>1           </td><td>8           </td><td>1           </td><td>0           </td><td>-0.7        </td><td>3           </td><td>1           </td></tr>\n",
       "</tbody>\n",
       "</table>\n"
      ],
      "text/latex": [
       "\\begin{tabular}{r|lllllllllll}\n",
       " SSL\\_SCORE & SSL\\_SCORE\\_RANK & PREDICTOR\\_RAT\\_AGE\\_AT\\_LATEST\\_ARREST & PREDICTOR\\_RAT\\_VICTIM\\_SHOOTING\\_INCIDENTS & PREDICTOR\\_RAT\\_VICTIM\\_BATTERY\\_OR\\_ASSAULT & PREDICTOR\\_RAT\\_ARRESTS\\_VIOLENT\\_OFFENSES & PREDICTOR\\_RAT\\_GANG\\_AFFILIATION & PREDICTOR\\_RAT\\_NARCOTIC\\_ARRESTS & PREDICTOR\\_RAT\\_TREND\\_IN\\_CRIMINAL\\_ACTIVITY & PREDICTOR\\_RAT\\_UUW\\_ARRESTS & SEX\\_CODE\\_CD\\\\\n",
       "\\hline\n",
       "\t 500          & 1            & less than 20 & 1            & 2            & 2            & 1            & 7            &  0.2         & 1            & 1           \\\\\n",
       "\t 500          & 1            & less than 20 & 0            & 1            & 3            & 1            & 2            &  0.1         & 1            & 1           \\\\\n",
       "\t 500          & 1            & less than 20 & 1            & 2            & 6            & 0            & 0            &  0.0         & 0            & 1           \\\\\n",
       "\t 500          & 1            & less than 20 & 1            & 1            & 4            & 1            & 1            & -0.3         & 2            & 1           \\\\\n",
       "\t 500          & 1            & less than 20 & 1            & 2            & 6            & 1            & 0            & -0.4         & 1            & 1           \\\\\n",
       "\t 500          & 1            & less than 20 & 1            & 1            & 8            & 1            & 0            & -0.7         & 3            & 1           \\\\\n",
       "\\end{tabular}\n"
      ],
      "text/markdown": [
       "\n",
       "SSL_SCORE | SSL_SCORE_RANK | PREDICTOR_RAT_AGE_AT_LATEST_ARREST | PREDICTOR_RAT_VICTIM_SHOOTING_INCIDENTS | PREDICTOR_RAT_VICTIM_BATTERY_OR_ASSAULT | PREDICTOR_RAT_ARRESTS_VIOLENT_OFFENSES | PREDICTOR_RAT_GANG_AFFILIATION | PREDICTOR_RAT_NARCOTIC_ARRESTS | PREDICTOR_RAT_TREND_IN_CRIMINAL_ACTIVITY | PREDICTOR_RAT_UUW_ARRESTS | SEX_CODE_CD | \n",
       "|---|---|---|---|---|---|\n",
       "| 500          | 1            | less than 20 | 1            | 2            | 2            | 1            | 7            |  0.2         | 1            | 1            | \n",
       "| 500          | 1            | less than 20 | 0            | 1            | 3            | 1            | 2            |  0.1         | 1            | 1            | \n",
       "| 500          | 1            | less than 20 | 1            | 2            | 6            | 0            | 0            |  0.0         | 0            | 1            | \n",
       "| 500          | 1            | less than 20 | 1            | 1            | 4            | 1            | 1            | -0.3         | 2            | 1            | \n",
       "| 500          | 1            | less than 20 | 1            | 2            | 6            | 1            | 0            | -0.4         | 1            | 1            | \n",
       "| 500          | 1            | less than 20 | 1            | 1            | 8            | 1            | 0            | -0.7         | 3            | 1            | \n",
       "\n",
       "\n"
      ],
      "text/plain": [
       "  SSL_SCORE SSL_SCORE_RANK PREDICTOR_RAT_AGE_AT_LATEST_ARREST\n",
       "1 500       1              less than 20                      \n",
       "2 500       1              less than 20                      \n",
       "3 500       1              less than 20                      \n",
       "4 500       1              less than 20                      \n",
       "5 500       1              less than 20                      \n",
       "6 500       1              less than 20                      \n",
       "  PREDICTOR_RAT_VICTIM_SHOOTING_INCIDENTS\n",
       "1 1                                      \n",
       "2 0                                      \n",
       "3 1                                      \n",
       "4 1                                      \n",
       "5 1                                      \n",
       "6 1                                      \n",
       "  PREDICTOR_RAT_VICTIM_BATTERY_OR_ASSAULT\n",
       "1 2                                      \n",
       "2 1                                      \n",
       "3 2                                      \n",
       "4 1                                      \n",
       "5 2                                      \n",
       "6 1                                      \n",
       "  PREDICTOR_RAT_ARRESTS_VIOLENT_OFFENSES PREDICTOR_RAT_GANG_AFFILIATION\n",
       "1 2                                      1                             \n",
       "2 3                                      1                             \n",
       "3 6                                      0                             \n",
       "4 4                                      1                             \n",
       "5 6                                      1                             \n",
       "6 8                                      1                             \n",
       "  PREDICTOR_RAT_NARCOTIC_ARRESTS PREDICTOR_RAT_TREND_IN_CRIMINAL_ACTIVITY\n",
       "1 7                               0.2                                    \n",
       "2 2                               0.1                                    \n",
       "3 0                               0.0                                    \n",
       "4 1                              -0.3                                    \n",
       "5 0                              -0.4                                    \n",
       "6 0                              -0.7                                    \n",
       "  PREDICTOR_RAT_UUW_ARRESTS SEX_CODE_CD\n",
       "1 1                         1          \n",
       "2 1                         1          \n",
       "3 0                         1          \n",
       "4 2                         1          \n",
       "5 1                         1          \n",
       "6 3                         1          "
      ]
     },
     "metadata": {},
     "output_type": "display_data"
    }
   ],
   "source": [
    "head(complete_data)"
   ]
  },
  {
   "cell_type": "code",
   "execution_count": 15,
   "metadata": {},
   "outputs": [],
   "source": [
    "library(MatchIt)\n",
    "library(dplyr)\n",
    "library(ggplot2)"
   ]
  },
  {
   "cell_type": "code",
   "execution_count": 16,
   "metadata": {},
   "outputs": [
    {
     "data": {
      "text/html": [
       "<table>\n",
       "<thead><tr><th scope=col>SEX_CODE_CD</th><th scope=col>NUMBER_OF_PEOPLE</th><th scope=col>MEAN_SSL_SCORE</th><th scope=col>STD_ERROR</th></tr></thead>\n",
       "<tbody>\n",
       "\t<tr><td>0        </td><td> 33      </td><td>462.3939 </td><td>3.5226377</td></tr>\n",
       "\t<tr><td>1        </td><td>776      </td><td>467.1624 </td><td>0.7492614</td></tr>\n",
       "</tbody>\n",
       "</table>\n"
      ],
      "text/latex": [
       "\\begin{tabular}{r|llll}\n",
       " SEX\\_CODE\\_CD & NUMBER\\_OF\\_PEOPLE & MEAN\\_SSL\\_SCORE & STD\\_ERROR\\\\\n",
       "\\hline\n",
       "\t 0         &  33       & 462.3939  & 3.5226377\\\\\n",
       "\t 1         & 776       & 467.1624  & 0.7492614\\\\\n",
       "\\end{tabular}\n"
      ],
      "text/markdown": [
       "\n",
       "SEX_CODE_CD | NUMBER_OF_PEOPLE | MEAN_SSL_SCORE | STD_ERROR | \n",
       "|---|---|\n",
       "| 0         |  33       | 462.3939  | 3.5226377 | \n",
       "| 1         | 776       | 467.1624  | 0.7492614 | \n",
       "\n",
       "\n"
      ],
      "text/plain": [
       "  SEX_CODE_CD NUMBER_OF_PEOPLE MEAN_SSL_SCORE STD_ERROR\n",
       "1 0            33              462.3939       3.5226377\n",
       "2 1           776              467.1624       0.7492614"
      ]
     },
     "metadata": {},
     "output_type": "display_data"
    }
   ],
   "source": [
    "complete_data %>%\n",
    "  group_by(SEX_CODE_CD) %>%\n",
    "  summarise(NUMBER_OF_PEOPLE = n(),\n",
    "            MEAN_SSL_SCORE = mean(SSL_SCORE),\n",
    "            STD_ERROR = sd(SSL_SCORE) / sqrt(NUMBER_OF_PEOPLE))"
   ]
  },
  {
   "cell_type": "code",
   "execution_count": 17,
   "metadata": {},
   "outputs": [
    {
     "data": {
      "text/html": [
       "<table>\n",
       "<thead><tr><th scope=col>SEX_CODE_CD</th><th scope=col>NUMBER_OF_PEOPLE</th><th scope=col>MEAN_SSL_SCORE_RANK</th><th scope=col>STD_ERROR</th></tr></thead>\n",
       "<tbody>\n",
       "\t<tr><td>0       </td><td> 33     </td><td>548.0909</td><td>50.44374</td></tr>\n",
       "\t<tr><td>1       </td><td>776     </td><td>468.9716</td><td>10.83436</td></tr>\n",
       "</tbody>\n",
       "</table>\n"
      ],
      "text/latex": [
       "\\begin{tabular}{r|llll}\n",
       " SEX\\_CODE\\_CD & NUMBER\\_OF\\_PEOPLE & MEAN\\_SSL\\_SCORE\\_RANK & STD\\_ERROR\\\\\n",
       "\\hline\n",
       "\t 0        &  33      & 548.0909 & 50.44374\\\\\n",
       "\t 1        & 776      & 468.9716 & 10.83436\\\\\n",
       "\\end{tabular}\n"
      ],
      "text/markdown": [
       "\n",
       "SEX_CODE_CD | NUMBER_OF_PEOPLE | MEAN_SSL_SCORE_RANK | STD_ERROR | \n",
       "|---|---|\n",
       "| 0        |  33      | 548.0909 | 50.44374 | \n",
       "| 1        | 776      | 468.9716 | 10.83436 | \n",
       "\n",
       "\n"
      ],
      "text/plain": [
       "  SEX_CODE_CD NUMBER_OF_PEOPLE MEAN_SSL_SCORE_RANK STD_ERROR\n",
       "1 0            33              548.0909            50.44374 \n",
       "2 1           776              468.9716            10.83436 "
      ]
     },
     "metadata": {},
     "output_type": "display_data"
    }
   ],
   "source": [
    "# For SSL_SCORE_RANK\n",
    "complete_data %>%\n",
    "  group_by(SEX_CODE_CD) %>%\n",
    "  summarise(NUMBER_OF_PEOPLE = n(),\n",
    "            MEAN_SSL_SCORE_RANK = mean(SSL_SCORE_RANK),\n",
    "            STD_ERROR = sd(SSL_SCORE_RANK) / sqrt(NUMBER_OF_PEOPLE))"
   ]
  },
  {
   "cell_type": "code",
   "execution_count": 18,
   "metadata": {},
   "outputs": [
    {
     "name": "stderr",
     "output_type": "stream",
     "text": [
      "The following objects are masked from complete_data (pos = 3):\n",
      "\n",
      "    PREDICTOR_RAT_AGE_AT_LATEST_ARREST,\n",
      "    PREDICTOR_RAT_ARRESTS_VIOLENT_OFFENSES,\n",
      "    PREDICTOR_RAT_GANG_AFFILIATION, PREDICTOR_RAT_NARCOTIC_ARRESTS,\n",
      "    PREDICTOR_RAT_TREND_IN_CRIMINAL_ACTIVITY,\n",
      "    PREDICTOR_RAT_UUW_ARRESTS, PREDICTOR_RAT_VICTIM_BATTERY_OR_ASSAULT,\n",
      "    PREDICTOR_RAT_VICTIM_SHOOTING_INCIDENTS, SEX_CODE_CD, SSL_SCORE,\n",
      "    SSL_SCORE_RANK\n",
      "\n"
     ]
    },
    {
     "data": {
      "text/plain": [
       "\n",
       "\tWelch Two Sample t-test\n",
       "\n",
       "data:  SSL_SCORE by SEX_CODE_CD\n",
       "t = -1.324, df = 34.958, p-value = 0.1941\n",
       "alternative hypothesis: true difference in means is not equal to 0\n",
       "95 percent confidence interval:\n",
       " -12.080058   2.543194\n",
       "sample estimates:\n",
       "mean in group 0 mean in group 1 \n",
       "       462.3939        467.1624 \n"
      ]
     },
     "metadata": {},
     "output_type": "display_data"
    }
   ],
   "source": [
    "# T-test without PSM for SSL_SCORE and SEX_CODE_CD\n",
    "attach(complete_data)\n",
    "t.test(SSL_SCORE~SEX_CODE_CD)"
   ]
  },
  {
   "cell_type": "code",
   "execution_count": 19,
   "metadata": {},
   "outputs": [
    {
     "data": {
      "text/plain": [
       "\n",
       "\tWelch Two Sample t-test\n",
       "\n",
       "data:  SSL_SCORE_RANK by SEX_CODE_CD\n",
       "t = 1.5335, df = 35.017, p-value = 0.1341\n",
       "alternative hypothesis: true difference in means is not equal to 0\n",
       "95 percent confidence interval:\n",
       " -25.62053 183.85905\n",
       "sample estimates:\n",
       "mean in group 0 mean in group 1 \n",
       "       548.0909        468.9716 \n"
      ]
     },
     "metadata": {},
     "output_type": "display_data"
    }
   ],
   "source": [
    "# T-test without PSM for SSL_SCORE_RANK and SEX_CODE_CD\n",
    "t.test(SSL_SCORE_RANK~SEX_CODE_CD)"
   ]
  },
  {
   "cell_type": "code",
   "execution_count": 20,
   "metadata": {},
   "outputs": [
    {
     "name": "stderr",
     "output_type": "stream",
     "text": [
      "Warning message in matchit2nearest(structure(c(1L, 1L, 1L, 1L, 1L, 1L, 1L, 1L, 1L, :\n",
      "\"Fewer control than treated units and matching without replacement.  Not all treated units will receive a match.  Treated units will be matched in the order specified by m.order: largest\""
     ]
    }
   ],
   "source": [
    "mod_match <- matchit(SEX_CODE_CD ~ PREDICTOR_RAT_VICTIM_SHOOTING_INCIDENTS + PREDICTOR_RAT_VICTIM_BATTERY_OR_ASSAULT + \n",
    "            PREDICTOR_RAT_ARRESTS_VIOLENT_OFFENSES + PREDICTOR_RAT_GANG_AFFILIATION + PREDICTOR_RAT_NARCOTIC_ARRESTS + PREDICTOR_RAT_TREND_IN_CRIMINAL_ACTIVITY +\n",
    "            PREDICTOR_RAT_UUW_ARRESTS,\n",
    "                     method = \"nearest\", data = complete_data)"
   ]
  },
  {
   "cell_type": "code",
   "execution_count": 21,
   "metadata": {},
   "outputs": [
    {
     "data": {
      "text/plain": [
       "\n",
       "Call: \n",
       "matchit(formula = SEX_CODE_CD ~ PREDICTOR_RAT_VICTIM_SHOOTING_INCIDENTS + \n",
       "    PREDICTOR_RAT_VICTIM_BATTERY_OR_ASSAULT + PREDICTOR_RAT_ARRESTS_VIOLENT_OFFENSES + \n",
       "    PREDICTOR_RAT_GANG_AFFILIATION + PREDICTOR_RAT_NARCOTIC_ARRESTS + \n",
       "    PREDICTOR_RAT_TREND_IN_CRIMINAL_ACTIVITY + PREDICTOR_RAT_UUW_ARRESTS, \n",
       "    data = complete_data, method = \"nearest\")\n",
       "\n",
       "Sample sizes:\n",
       "          Control Treated\n",
       "All            33     776\n",
       "Matched        33      33\n",
       "Unmatched       0     743\n",
       "Discarded       0       0\n"
      ]
     },
     "metadata": {},
     "output_type": "display_data"
    }
   ],
   "source": [
    "mod_match"
   ]
  },
  {
   "cell_type": "code",
   "execution_count": 22,
   "metadata": {
    "collapsed": true
   },
   "outputs": [],
   "source": [
    "matched <- match.data(mod_match)\n",
    "matched_copy<-matched"
   ]
  },
  {
   "cell_type": "code",
   "execution_count": 23,
   "metadata": {},
   "outputs": [
    {
     "name": "stdout",
     "output_type": "stream",
     "text": [
      "[1] \"To identify the units, use first mouse button; to stop, use second.\"\n"
     ]
    },
    {
     "data": {
      "text/html": [],
      "text/latex": [],
      "text/markdown": [],
      "text/plain": [
       "integer(0)"
      ]
     },
     "metadata": {},
     "output_type": "display_data"
    },
    {
     "data": {
      "image/png": "[encoded data removed]",
      "text/plain": [
       "Plot with title \"Distribution of Propensity Scores\""
      ]
     },
     "metadata": {},
     "output_type": "display_data"
    }
   ],
   "source": [
    "plot(mod_match, type = \"jitter\")"
   ]
  },
  {
   "cell_type": "code",
   "execution_count": 24,
   "metadata": {},
   "outputs": [
    {
     "data": {
      "image/png": "[encoded data removed]",
      "text/plain": [
       "Plot with title \"Matched Control\""
      ]
     },
     "metadata": {},
     "output_type": "display_data"
    }
   ],
   "source": [
    "plot(mod_match, type = \"hist\")"
   ]
  },
  {
   "cell_type": "code",
   "execution_count": 25,
   "metadata": {},
   "outputs": [
    {
     "data": {
      "text/html": [
       "<table>\n",
       "<thead><tr><th></th><th scope=col>SSL_SCORE</th><th scope=col>SSL_SCORE_RANK</th><th scope=col>PREDICTOR_RAT_AGE_AT_LATEST_ARREST</th><th scope=col>PREDICTOR_RAT_VICTIM_SHOOTING_INCIDENTS</th><th scope=col>PREDICTOR_RAT_VICTIM_BATTERY_OR_ASSAULT</th><th scope=col>PREDICTOR_RAT_ARRESTS_VIOLENT_OFFENSES</th><th scope=col>PREDICTOR_RAT_GANG_AFFILIATION</th><th scope=col>PREDICTOR_RAT_NARCOTIC_ARRESTS</th><th scope=col>PREDICTOR_RAT_TREND_IN_CRIMINAL_ACTIVITY</th><th scope=col>PREDICTOR_RAT_UUW_ARRESTS</th><th scope=col>SEX_CODE_CD</th><th scope=col>distance</th><th scope=col>weights</th></tr></thead>\n",
       "<tbody>\n",
       "\t<tr><th scope=row>6</th><td>500         </td><td>1           </td><td>less than 20</td><td>1           </td><td>1           </td><td> 8          </td><td>1           </td><td>0           </td><td>-0.7        </td><td>3           </td><td>1           </td><td>0.9999396   </td><td>1           </td></tr>\n",
       "\t<tr><th scope=row>21</th><td>500         </td><td>1           </td><td>less than 20</td><td>0           </td><td>1           </td><td>12          </td><td>1           </td><td>0           </td><td> 0.4        </td><td>1           </td><td>1           </td><td>0.9999027   </td><td>1           </td></tr>\n",
       "\t<tr><th scope=row>24</th><td>500         </td><td>1           </td><td>less than 20</td><td>2           </td><td>2           </td><td> 4          </td><td>1           </td><td>1           </td><td>-0.3        </td><td>2           </td><td>1           </td><td>0.9996843   </td><td>1           </td></tr>\n",
       "\t<tr><th scope=row>28</th><td>500         </td><td>1           </td><td>less than 20</td><td>2           </td><td>2           </td><td> 3          </td><td>1           </td><td>2           </td><td> 1.3        </td><td>2           </td><td>1           </td><td>0.9996971   </td><td>1           </td></tr>\n",
       "\t<tr><th scope=row>43</th><td>500         </td><td>1           </td><td>less than 20</td><td>1           </td><td>1           </td><td> 6          </td><td>1           </td><td>1           </td><td> 0.0        </td><td>2           </td><td>1           </td><td>0.9997899   </td><td>1           </td></tr>\n",
       "\t<tr><th scope=row>56</th><td>500         </td><td>1           </td><td>less than 20</td><td>2           </td><td>2           </td><td> 5          </td><td>1           </td><td>2           </td><td> 2.6        </td><td>0           </td><td>1           </td><td>0.9996590   </td><td>1           </td></tr>\n",
       "</tbody>\n",
       "</table>\n"
      ],
      "text/latex": [
       "\\begin{tabular}{r|lllllllllllll}\n",
       "  & SSL\\_SCORE & SSL\\_SCORE\\_RANK & PREDICTOR\\_RAT\\_AGE\\_AT\\_LATEST\\_ARREST & PREDICTOR\\_RAT\\_VICTIM\\_SHOOTING\\_INCIDENTS & PREDICTOR\\_RAT\\_VICTIM\\_BATTERY\\_OR\\_ASSAULT & PREDICTOR\\_RAT\\_ARRESTS\\_VIOLENT\\_OFFENSES & PREDICTOR\\_RAT\\_GANG\\_AFFILIATION & PREDICTOR\\_RAT\\_NARCOTIC\\_ARRESTS & PREDICTOR\\_RAT\\_TREND\\_IN\\_CRIMINAL\\_ACTIVITY & PREDICTOR\\_RAT\\_UUW\\_ARRESTS & SEX\\_CODE\\_CD & distance & weights\\\\\n",
       "\\hline\n",
       "\t6 & 500          & 1            & less than 20 & 1            & 1            &  8           & 1            & 0            & -0.7         & 3            & 1            & 0.9999396    & 1           \\\\\n",
       "\t21 & 500          & 1            & less than 20 & 0            & 1            & 12           & 1            & 0            &  0.4         & 1            & 1            & 0.9999027    & 1           \\\\\n",
       "\t24 & 500          & 1            & less than 20 & 2            & 2            &  4           & 1            & 1            & -0.3         & 2            & 1            & 0.9996843    & 1           \\\\\n",
       "\t28 & 500          & 1            & less than 20 & 2            & 2            &  3           & 1            & 2            &  1.3         & 2            & 1            & 0.9996971    & 1           \\\\\n",
       "\t43 & 500          & 1            & less than 20 & 1            & 1            &  6           & 1            & 1            &  0.0         & 2            & 1            & 0.9997899    & 1           \\\\\n",
       "\t56 & 500          & 1            & less than 20 & 2            & 2            &  5           & 1            & 2            &  2.6         & 0            & 1            & 0.9996590    & 1           \\\\\n",
       "\\end{tabular}\n"
      ],
      "text/markdown": [
       "\n",
       "| <!--/--> | SSL_SCORE | SSL_SCORE_RANK | PREDICTOR_RAT_AGE_AT_LATEST_ARREST | PREDICTOR_RAT_VICTIM_SHOOTING_INCIDENTS | PREDICTOR_RAT_VICTIM_BATTERY_OR_ASSAULT | PREDICTOR_RAT_ARRESTS_VIOLENT_OFFENSES | PREDICTOR_RAT_GANG_AFFILIATION | PREDICTOR_RAT_NARCOTIC_ARRESTS | PREDICTOR_RAT_TREND_IN_CRIMINAL_ACTIVITY | PREDICTOR_RAT_UUW_ARRESTS | SEX_CODE_CD | distance | weights | \n",
       "|---|---|---|---|---|---|\n",
       "| 6 | 500          | 1            | less than 20 | 1            | 1            |  8           | 1            | 0            | -0.7         | 3            | 1            | 0.9999396    | 1            | \n",
       "| 21 | 500          | 1            | less than 20 | 0            | 1            | 12           | 1            | 0            |  0.4         | 1            | 1            | 0.9999027    | 1            | \n",
       "| 24 | 500          | 1            | less than 20 | 2            | 2            |  4           | 1            | 1            | -0.3         | 2            | 1            | 0.9996843    | 1            | \n",
       "| 28 | 500          | 1            | less than 20 | 2            | 2            |  3           | 1            | 2            |  1.3         | 2            | 1            | 0.9996971    | 1            | \n",
       "| 43 | 500          | 1            | less than 20 | 1            | 1            |  6           | 1            | 1            |  0.0         | 2            | 1            | 0.9997899    | 1            | \n",
       "| 56 | 500          | 1            | less than 20 | 2            | 2            |  5           | 1            | 2            |  2.6         | 0            | 1            | 0.9996590    | 1            | \n",
       "\n",
       "\n"
      ],
      "text/plain": [
       "   SSL_SCORE SSL_SCORE_RANK PREDICTOR_RAT_AGE_AT_LATEST_ARREST\n",
       "6  500       1              less than 20                      \n",
       "21 500       1              less than 20                      \n",
       "24 500       1              less than 20                      \n",
       "28 500       1              less than 20                      \n",
       "43 500       1              less than 20                      \n",
       "56 500       1              less than 20                      \n",
       "   PREDICTOR_RAT_VICTIM_SHOOTING_INCIDENTS\n",
       "6  1                                      \n",
       "21 0                                      \n",
       "24 2                                      \n",
       "28 2                                      \n",
       "43 1                                      \n",
       "56 2                                      \n",
       "   PREDICTOR_RAT_VICTIM_BATTERY_OR_ASSAULT\n",
       "6  1                                      \n",
       "21 1                                      \n",
       "24 2                                      \n",
       "28 2                                      \n",
       "43 1                                      \n",
       "56 2                                      \n",
       "   PREDICTOR_RAT_ARRESTS_VIOLENT_OFFENSES PREDICTOR_RAT_GANG_AFFILIATION\n",
       "6   8                                     1                             \n",
       "21 12                                     1                             \n",
       "24  4                                     1                             \n",
       "28  3                                     1                             \n",
       "43  6                                     1                             \n",
       "56  5                                     1                             \n",
       "   PREDICTOR_RAT_NARCOTIC_ARRESTS PREDICTOR_RAT_TREND_IN_CRIMINAL_ACTIVITY\n",
       "6  0                              -0.7                                    \n",
       "21 0                               0.4                                    \n",
       "24 1                              -0.3                                    \n",
       "28 2                               1.3                                    \n",
       "43 1                               0.0                                    \n",
       "56 2                               2.6                                    \n",
       "   PREDICTOR_RAT_UUW_ARRESTS SEX_CODE_CD distance  weights\n",
       "6  3                         1           0.9999396 1      \n",
       "21 1                         1           0.9999027 1      \n",
       "24 2                         1           0.9996843 1      \n",
       "28 2                         1           0.9996971 1      \n",
       "43 2                         1           0.9997899 1      \n",
       "56 0                         1           0.9996590 1      "
      ]
     },
     "metadata": {},
     "output_type": "display_data"
    }
   ],
   "source": [
    "head(matched)"
   ]
  },
  {
   "cell_type": "code",
   "execution_count": 26,
   "metadata": {},
   "outputs": [
    {
     "name": "stderr",
     "output_type": "stream",
     "text": [
      "The following objects are masked from complete_data (pos = 3):\n",
      "\n",
      "    PREDICTOR_RAT_AGE_AT_LATEST_ARREST,\n",
      "    PREDICTOR_RAT_ARRESTS_VIOLENT_OFFENSES,\n",
      "    PREDICTOR_RAT_GANG_AFFILIATION, PREDICTOR_RAT_NARCOTIC_ARRESTS,\n",
      "    PREDICTOR_RAT_TREND_IN_CRIMINAL_ACTIVITY,\n",
      "    PREDICTOR_RAT_UUW_ARRESTS, PREDICTOR_RAT_VICTIM_BATTERY_OR_ASSAULT,\n",
      "    PREDICTOR_RAT_VICTIM_SHOOTING_INCIDENTS, SEX_CODE_CD, SSL_SCORE,\n",
      "    SSL_SCORE_RANK\n",
      "\n",
      "The following objects are masked from complete_data (pos = 4):\n",
      "\n",
      "    PREDICTOR_RAT_AGE_AT_LATEST_ARREST,\n",
      "    PREDICTOR_RAT_ARRESTS_VIOLENT_OFFENSES,\n",
      "    PREDICTOR_RAT_GANG_AFFILIATION, PREDICTOR_RAT_NARCOTIC_ARRESTS,\n",
      "    PREDICTOR_RAT_TREND_IN_CRIMINAL_ACTIVITY,\n",
      "    PREDICTOR_RAT_UUW_ARRESTS, PREDICTOR_RAT_VICTIM_BATTERY_OR_ASSAULT,\n",
      "    PREDICTOR_RAT_VICTIM_SHOOTING_INCIDENTS, SEX_CODE_CD, SSL_SCORE,\n",
      "    SSL_SCORE_RANK\n",
      "\n"
     ]
    }
   ],
   "source": [
    "# Doing T - test on matched records\n",
    "options(warn=-1)\n",
    "attach(matched)"
   ]
  },
  {
   "cell_type": "code",
   "execution_count": 27,
   "metadata": {
    "collapsed": true
   },
   "outputs": [],
   "source": [
    "gender_female <-subset(matched,SEX_CODE_CD == 0)\n",
    "gender_male<-subset(matched,SEX_CODE_CD == 1)"
   ]
  },
  {
   "cell_type": "code",
   "execution_count": 28,
   "metadata": {},
   "outputs": [
    {
     "data": {
      "text/plain": [
       "\n",
       "\tWelch Two Sample t-test\n",
       "\n",
       "data:  SSL_SCORE by SEX_CODE_CD\n",
       "t = -4.0849, df = 63.988, p-value = 0.0001251\n",
       "alternative hypothesis: true difference in means is not equal to 0\n",
       "95 percent confidence interval:\n",
       " -30.09693 -10.32731\n",
       "sample estimates:\n",
       "mean in group 0 mean in group 1 \n",
       "       462.3939        482.6061 \n"
      ]
     },
     "metadata": {},
     "output_type": "display_data"
    }
   ],
   "source": [
    "t.test(SSL_SCORE~SEX_CODE_CD)"
   ]
  },
  {
   "cell_type": "code",
   "execution_count": 29,
   "metadata": {},
   "outputs": [
    {
     "data": {
      "text/plain": [
       "\n",
       "\tWelch Two Sample t-test\n",
       "\n",
       "data:  SSL_SCORE_RANK by SEX_CODE_CD\n",
       "t = 4.3614, df = 63.834, p-value = 4.809e-05\n",
       "alternative hypothesis: true difference in means is not equal to 0\n",
       "95 percent confidence interval:\n",
       " 164.4678 442.5019\n",
       "sample estimates:\n",
       "mean in group 0 mean in group 1 \n",
       "       548.0909        244.6061 \n"
      ]
     },
     "metadata": {},
     "output_type": "display_data"
    }
   ],
   "source": [
    "t.test(SSL_SCORE_RANK~SEX_CODE_CD)"
   ]
  }
 ],
 "metadata": {
  "kernelspec": {
   "display_name": "R",
   "language": "R",
   "name": "ir"
  },
  "language_info": {
   "codemirror_mode": "r",
   "file_extension": ".r",
   "mimetype": "text/x-r-source",
   "name": "R",
   "pygments_lexer": "r",
   "version": "3.3.2"
  }
 },
 "nbformat": 4,
 "nbformat_minor": 2
}
