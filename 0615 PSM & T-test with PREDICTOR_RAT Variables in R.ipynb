{
 "cells": [
  {
   "cell_type": "code",
   "execution_count": 2,
   "metadata": {},
   "outputs": [
    {
     "name": "stdout",
     "output_type": "stream",
     "text": [
      "The Number of Rows in Initial Data is 290170"
     ]
    }
   ],
   "source": [
    "raw_data <- read.csv(\"Data_SSL_PSM_FULL.csv\", sep=\",\", header=T, strip.white = T, na.strings = c(\"NA\",\"NaN\",\"\",\"?\"))\n",
    "#Converting the \".\" in column names to \"_\"\n",
    "names(raw_data)<-gsub(\"\\\\.\", \"_\", names(raw_data))\n",
    "cat(\"The Number of Rows in Initial Data is\", nrow(raw_data))"
   ]
  },
  {
   "cell_type": "code",
   "execution_count": 3,
   "metadata": {
    "collapsed": true
   },
   "outputs": [],
   "source": [
    "final_features<-raw_data[,c('SSL_SCORE','PREDICTOR_RAT_AGE_AT_LATEST_ARREST','PREDICTOR_RAT_VICTIM_SHOOTING_INCIDENTS',\n",
    "                            'PREDICTOR_RAT_VICTIM_BATTERY_OR_ASSAULT','PREDICTOR_RAT_ARRESTS_VIOLENT_OFFENSES','PREDICTOR_RAT_GANG_AFFILIATION', \n",
    "                           'PREDICTOR_RAT_NARCOTIC_ARRESTS','PREDICTOR_RAT_TREND_IN_CRIMINAL_ACTIVITY','PREDICTOR_RAT_UUW_ARRESTS','RACE_CODE_CD')]"
   ]
  },
  {
   "cell_type": "code",
   "execution_count": 4,
   "metadata": {
    "collapsed": true
   },
   "outputs": [],
   "source": [
    "complete_data <- final_features[complete.cases(final_features),]"
   ]
  },
  {
   "cell_type": "code",
   "execution_count": 5,
   "metadata": {},
   "outputs": [
    {
     "data": {
      "text/html": [
       "290085"
      ],
      "text/latex": [
       "290085"
      ],
      "text/markdown": [
       "290085"
      ],
      "text/plain": [
       "[1] 290085"
      ]
     },
     "metadata": {},
     "output_type": "display_data"
    }
   ],
   "source": [
    "nrow(complete_data)"
   ]
  },
  {
   "cell_type": "code",
   "execution_count": 6,
   "metadata": {},
   "outputs": [
    {
     "name": "stderr",
     "output_type": "stream",
     "text": [
      "Warning message:\n",
      "\"package 'MatchIt' was built under R version 3.3.3\"Warning message:\n",
      "\"package 'dplyr' was built under R version 3.3.3\"\n",
      "Attaching package: 'dplyr'\n",
      "\n",
      "The following objects are masked from 'package:stats':\n",
      "\n",
      "    filter, lag\n",
      "\n",
      "The following objects are masked from 'package:base':\n",
      "\n",
      "    intersect, setdiff, setequal, union\n",
      "\n",
      "Warning message:\n",
      "\"package 'ggplot2' was built under R version 3.3.3\""
     ]
    }
   ],
   "source": [
    "library(MatchIt)\n",
    "library(dplyr)\n",
    "library(ggplot2)"
   ]
  },
  {
   "cell_type": "code",
   "execution_count": 7,
   "metadata": {},
   "outputs": [
    {
     "data": {
      "text/html": [
       "<table>\n",
       "<thead><tr><th scope=col>RACE_CODE_CD</th><th scope=col>NUMBER_OF_PEOPLE</th><th scope=col>MEAN_SSL_SCORE</th><th scope=col>STD_ERROR</th></tr></thead>\n",
       "<tbody>\n",
       "\t<tr><td>0        </td><td>207775   </td><td>282.473  </td><td>0.1349082</td></tr>\n",
       "\t<tr><td>1        </td><td> 82310   </td><td>269.846  </td><td>0.1968233</td></tr>\n",
       "</tbody>\n",
       "</table>\n"
      ],
      "text/latex": [
       "\\begin{tabular}{r|llll}\n",
       " RACE\\_CODE\\_CD & NUMBER\\_OF\\_PEOPLE & MEAN\\_SSL\\_SCORE & STD\\_ERROR\\\\\n",
       "\\hline\n",
       "\t 0         & 207775    & 282.473   & 0.1349082\\\\\n",
       "\t 1         &  82310    & 269.846   & 0.1968233\\\\\n",
       "\\end{tabular}\n"
      ],
      "text/markdown": [
       "\n",
       "RACE_CODE_CD | NUMBER_OF_PEOPLE | MEAN_SSL_SCORE | STD_ERROR | \n",
       "|---|---|\n",
       "| 0         | 207775    | 282.473   | 0.1349082 | \n",
       "| 1         |  82310    | 269.846   | 0.1968233 | \n",
       "\n",
       "\n"
      ],
      "text/plain": [
       "  RACE_CODE_CD NUMBER_OF_PEOPLE MEAN_SSL_SCORE STD_ERROR\n",
       "1 0            207775           282.473        0.1349082\n",
       "2 1             82310           269.846        0.1968233"
      ]
     },
     "metadata": {},
     "output_type": "display_data"
    }
   ],
   "source": [
    "complete_data %>%\n",
    "  group_by(RACE_CODE_CD) %>%\n",
    "  summarise(NUMBER_OF_PEOPLE = n(),\n",
    "            MEAN_SSL_SCORE = mean(SSL_SCORE),\n",
    "            STD_ERROR = sd(SSL_SCORE) / sqrt(NUMBER_OF_PEOPLE))"
   ]
  },
  {
   "cell_type": "code",
   "execution_count": 8,
   "metadata": {},
   "outputs": [
    {
     "data": {
      "text/plain": [
       "\n",
       "\tWelch Two Sample t-test\n",
       "\n",
       "data:  SSL_SCORE by RACE_CODE_CD\n",
       "t = 52.917, df = 163520, p-value < 2.2e-16\n",
       "alternative hypothesis: true difference in means is not equal to 0\n",
       "95 percent confidence interval:\n",
       " 12.15928 13.09466\n",
       "sample estimates:\n",
       "mean in group 0 mean in group 1 \n",
       "        282.473         269.846 \n"
      ]
     },
     "metadata": {},
     "output_type": "display_data"
    }
   ],
   "source": [
    "with(complete_data, t.test(SSL_SCORE~ RACE_CODE_CD))"
   ]
  },
  {
   "cell_type": "code",
   "execution_count": 9,
   "metadata": {
    "collapsed": true
   },
   "outputs": [],
   "source": [
    "ecls_cov <- c( 'PREDICTOR_RAT_VICTIM_SHOOTING_INCIDENTS',\n",
    "               'PREDICTOR_RAT_VICTIM_BATTERY_OR_ASSAULT','PREDICTOR_RAT_ARRESTS_VIOLENT_OFFENSES','PREDICTOR_RAT_GANG_AFFILIATION', \n",
    "               'PREDICTOR_RAT_NARCOTIC_ARRESTS','PREDICTOR_RAT_TREND_IN_CRIMINAL_ACTIVITY','PREDICTOR_RAT_UUW_ARRESTS')"
   ]
  },
  {
   "cell_type": "code",
   "execution_count": 10,
   "metadata": {},
   "outputs": [
    {
     "name": "stderr",
     "output_type": "stream",
     "text": [
      "Adding missing grouping variables: `RACE_CODE_CD`\n"
     ]
    },
    {
     "data": {
      "text/html": [
       "<table>\n",
       "<thead><tr><th scope=col>RACE_CODE_CD</th><th scope=col>PREDICTOR_RAT_VICTIM_SHOOTING_INCIDENTS</th><th scope=col>PREDICTOR_RAT_VICTIM_BATTERY_OR_ASSAULT</th><th scope=col>PREDICTOR_RAT_ARRESTS_VIOLENT_OFFENSES</th><th scope=col>PREDICTOR_RAT_GANG_AFFILIATION</th><th scope=col>PREDICTOR_RAT_NARCOTIC_ARRESTS</th><th scope=col>PREDICTOR_RAT_TREND_IN_CRIMINAL_ACTIVITY</th><th scope=col>PREDICTOR_RAT_UUW_ARRESTS</th></tr></thead>\n",
       "<tbody>\n",
       "\t<tr><td>0          </td><td>0.032544820</td><td>0.052229575</td><td>0.16452412 </td><td>0.23300686 </td><td>0.4568644  </td><td>-0.06429118</td><td>0.04922151 </td></tr>\n",
       "\t<tr><td>1          </td><td>0.001931722</td><td>0.009488519</td><td>0.04773418 </td><td>0.02988701 </td><td>0.2182967  </td><td>-0.02426923</td><td>0.01021747 </td></tr>\n",
       "</tbody>\n",
       "</table>\n"
      ],
      "text/latex": [
       "\\begin{tabular}{r|llllllll}\n",
       " RACE\\_CODE\\_CD & PREDICTOR\\_RAT\\_VICTIM\\_SHOOTING\\_INCIDENTS & PREDICTOR\\_RAT\\_VICTIM\\_BATTERY\\_OR\\_ASSAULT & PREDICTOR\\_RAT\\_ARRESTS\\_VIOLENT\\_OFFENSES & PREDICTOR\\_RAT\\_GANG\\_AFFILIATION & PREDICTOR\\_RAT\\_NARCOTIC\\_ARRESTS & PREDICTOR\\_RAT\\_TREND\\_IN\\_CRIMINAL\\_ACTIVITY & PREDICTOR\\_RAT\\_UUW\\_ARRESTS\\\\\n",
       "\\hline\n",
       "\t 0           & 0.032544820 & 0.052229575 & 0.16452412  & 0.23300686  & 0.4568644   & -0.06429118 & 0.04922151 \\\\\n",
       "\t 1           & 0.001931722 & 0.009488519 & 0.04773418  & 0.02988701  & 0.2182967   & -0.02426923 & 0.01021747 \\\\\n",
       "\\end{tabular}\n"
      ],
      "text/markdown": [
       "\n",
       "RACE_CODE_CD | PREDICTOR_RAT_VICTIM_SHOOTING_INCIDENTS | PREDICTOR_RAT_VICTIM_BATTERY_OR_ASSAULT | PREDICTOR_RAT_ARRESTS_VIOLENT_OFFENSES | PREDICTOR_RAT_GANG_AFFILIATION | PREDICTOR_RAT_NARCOTIC_ARRESTS | PREDICTOR_RAT_TREND_IN_CRIMINAL_ACTIVITY | PREDICTOR_RAT_UUW_ARRESTS | \n",
       "|---|---|\n",
       "| 0           | 0.032544820 | 0.052229575 | 0.16452412  | 0.23300686  | 0.4568644   | -0.06429118 | 0.04922151  | \n",
       "| 1           | 0.001931722 | 0.009488519 | 0.04773418  | 0.02988701  | 0.2182967   | -0.02426923 | 0.01021747  | \n",
       "\n",
       "\n"
      ],
      "text/plain": [
       "  RACE_CODE_CD PREDICTOR_RAT_VICTIM_SHOOTING_INCIDENTS\n",
       "1 0            0.032544820                            \n",
       "2 1            0.001931722                            \n",
       "  PREDICTOR_RAT_VICTIM_BATTERY_OR_ASSAULT\n",
       "1 0.052229575                            \n",
       "2 0.009488519                            \n",
       "  PREDICTOR_RAT_ARRESTS_VIOLENT_OFFENSES PREDICTOR_RAT_GANG_AFFILIATION\n",
       "1 0.16452412                             0.23300686                    \n",
       "2 0.04773418                             0.02988701                    \n",
       "  PREDICTOR_RAT_NARCOTIC_ARRESTS PREDICTOR_RAT_TREND_IN_CRIMINAL_ACTIVITY\n",
       "1 0.4568644                      -0.06429118                             \n",
       "2 0.2182967                      -0.02426923                             \n",
       "  PREDICTOR_RAT_UUW_ARRESTS\n",
       "1 0.04922151               \n",
       "2 0.01021747               "
      ]
     },
     "metadata": {},
     "output_type": "display_data"
    }
   ],
   "source": [
    "complete_data %>%\n",
    "  group_by(RACE_CODE_CD) %>%\n",
    "  select(one_of(ecls_cov)) %>%\n",
    "  summarise_all(funs(mean(., na.rm = T)))"
   ]
  },
  {
   "cell_type": "code",
   "execution_count": 11,
   "metadata": {},
   "outputs": [
    {
     "data": {
      "text/plain": [
       "[[1]]\n",
       "\n",
       "\tWelch Two Sample t-test\n",
       "\n",
       "data:  complete_data[, v] by complete_data[, \"RACE_CODE_CD\"]\n",
       "t = 67.159, df = 259780, p-value < 2.2e-16\n",
       "alternative hypothesis: true difference in means is not equal to 0\n",
       "95 percent confidence interval:\n",
       " 0.02971968 0.03150652\n",
       "sample estimates:\n",
       "mean in group 0 mean in group 1 \n",
       "    0.032544820     0.001931722 \n",
       "\n",
       "\n",
       "[[2]]\n",
       "\n",
       "\tWelch Two Sample t-test\n",
       "\n",
       "data:  complete_data[, v] by complete_data[, \"RACE_CODE_CD\"]\n",
       "t = 63.353, df = 287310, p-value < 2.2e-16\n",
       "alternative hypothesis: true difference in means is not equal to 0\n",
       "95 percent confidence interval:\n",
       " 0.04141876 0.04406336\n",
       "sample estimates:\n",
       "mean in group 0 mean in group 1 \n",
       "    0.052229575     0.009488519 \n",
       "\n",
       "\n",
       "[[3]]\n",
       "\n",
       "\tWelch Two Sample t-test\n",
       "\n",
       "data:  complete_data[, v] by complete_data[, \"RACE_CODE_CD\"]\n",
       "t = 85.721, df = 275860, p-value < 2.2e-16\n",
       "alternative hypothesis: true difference in means is not equal to 0\n",
       "95 percent confidence interval:\n",
       " 0.1141196 0.1194603\n",
       "sample estimates:\n",
       "mean in group 0 mean in group 1 \n",
       "     0.16452412      0.04773418 \n",
       "\n",
       "\n",
       "[[4]]\n",
       "\n",
       "\tWelch Two Sample t-test\n",
       "\n",
       "data:  complete_data[, v] by complete_data[, \"RACE_CODE_CD\"]\n",
       "t = 184.47, df = 290020, p-value < 2.2e-16\n",
       "alternative hypothesis: true difference in means is not equal to 0\n",
       "95 percent confidence interval:\n",
       " 0.2009617 0.2052779\n",
       "sample estimates:\n",
       "mean in group 0 mean in group 1 \n",
       "     0.23300686      0.02988701 \n",
       "\n",
       "\n",
       "[[5]]\n",
       "\n",
       "\tWelch Two Sample t-test\n",
       "\n",
       "data:  complete_data[, v] by complete_data[, \"RACE_CODE_CD\"]\n",
       "t = 80.707, df = 264370, p-value < 2.2e-16\n",
       "alternative hypothesis: true difference in means is not equal to 0\n",
       "95 percent confidence interval:\n",
       " 0.2327741 0.2443614\n",
       "sample estimates:\n",
       "mean in group 0 mean in group 1 \n",
       "      0.4568644       0.2182967 \n",
       "\n",
       "\n",
       "[[6]]\n",
       "\n",
       "\tWelch Two Sample t-test\n",
       "\n",
       "data:  complete_data[, v] by complete_data[, \"RACE_CODE_CD\"]\n",
       "t = -25.526, df = 194750, p-value < 2.2e-16\n",
       "alternative hypothesis: true difference in means is not equal to 0\n",
       "95 percent confidence interval:\n",
       " -0.04309492 -0.03694898\n",
       "sample estimates:\n",
       "mean in group 0 mean in group 1 \n",
       "    -0.06429118     -0.02426923 \n",
       "\n",
       "\n",
       "[[7]]\n",
       "\n",
       "\tWelch Two Sample t-test\n",
       "\n",
       "data:  complete_data[, v] by complete_data[, \"RACE_CODE_CD\"]\n",
       "t = 61.992, df = 286490, p-value < 2.2e-16\n",
       "alternative hypothesis: true difference in means is not equal to 0\n",
       "95 percent confidence interval:\n",
       " 0.03777087 0.04023722\n",
       "sample estimates:\n",
       "mean in group 0 mean in group 1 \n",
       "     0.04922151      0.01021747 \n",
       "\n"
      ]
     },
     "metadata": {},
     "output_type": "display_data"
    }
   ],
   "source": [
    "lapply(ecls_cov, function(v) {\n",
    "    t.test(complete_data[, v] ~ complete_data[, 'RACE_CODE_CD'])\n",
    "})"
   ]
  },
  {
   "cell_type": "code",
   "execution_count": 12,
   "metadata": {},
   "outputs": [
    {
     "data": {
      "text/plain": [
       "\n",
       "Call:\n",
       "glm(formula = RACE_CODE_CD ~ PREDICTOR_RAT_AGE_AT_LATEST_ARREST + \n",
       "    PREDICTOR_RAT_VICTIM_SHOOTING_INCIDENTS + PREDICTOR_RAT_VICTIM_BATTERY_OR_ASSAULT + \n",
       "    PREDICTOR_RAT_ARRESTS_VIOLENT_OFFENSES + PREDICTOR_RAT_GANG_AFFILIATION + \n",
       "    PREDICTOR_RAT_NARCOTIC_ARRESTS + PREDICTOR_RAT_TREND_IN_CRIMINAL_ACTIVITY + \n",
       "    PREDICTOR_RAT_UUW_ARRESTS, family = binomial(), data = complete_data)\n",
       "\n",
       "Deviance Residuals: \n",
       "    Min       1Q   Median       3Q      Max  \n",
       "-1.1778  -0.9499  -0.6611   1.3804   4.8554  \n",
       "\n",
       "Coefficients:\n",
       "                                                Estimate Std. Error z value\n",
       "(Intercept)                                    -0.506798   0.007673 -66.048\n",
       "PREDICTOR_RAT_AGE_AT_LATEST_ARREST30-40         0.038752   0.011742   3.300\n",
       "PREDICTOR_RAT_AGE_AT_LATEST_ARREST40-50        -0.032543   0.013023  -2.499\n",
       "PREDICTOR_RAT_AGE_AT_LATEST_ARREST50-60        -0.133230   0.015062  -8.845\n",
       "PREDICTOR_RAT_AGE_AT_LATEST_ARREST60-70        -0.009015   0.027389  -0.329\n",
       "PREDICTOR_RAT_AGE_AT_LATEST_ARREST70-80         0.269831   0.071344   3.782\n",
       "PREDICTOR_RAT_AGE_AT_LATEST_ARRESTless than 20 -0.381015   0.013552 -28.115\n",
       "PREDICTOR_RAT_VICTIM_SHOOTING_INCIDENTS        -1.385776   0.082823 -16.732\n",
       "PREDICTOR_RAT_VICTIM_BATTERY_OR_ASSAULT        -0.984687   0.037875 -25.998\n",
       "PREDICTOR_RAT_ARRESTS_VIOLENT_OFFENSES         -0.565207   0.019163 -29.494\n",
       "PREDICTOR_RAT_GANG_AFFILIATION                 -1.991201   0.021853 -91.120\n",
       "PREDICTOR_RAT_NARCOTIC_ARRESTS                 -0.169332   0.007466 -22.680\n",
       "PREDICTOR_RAT_TREND_IN_CRIMINAL_ACTIVITY        0.137963   0.012103  11.399\n",
       "PREDICTOR_RAT_UUW_ARRESTS                      -0.417661   0.041635 -10.031\n",
       "                                               Pr(>|z|)    \n",
       "(Intercept)                                     < 2e-16 ***\n",
       "PREDICTOR_RAT_AGE_AT_LATEST_ARREST30-40        0.000966 ***\n",
       "PREDICTOR_RAT_AGE_AT_LATEST_ARREST40-50        0.012457 *  \n",
       "PREDICTOR_RAT_AGE_AT_LATEST_ARREST50-60         < 2e-16 ***\n",
       "PREDICTOR_RAT_AGE_AT_LATEST_ARREST60-70        0.742032    \n",
       "PREDICTOR_RAT_AGE_AT_LATEST_ARREST70-80        0.000155 ***\n",
       "PREDICTOR_RAT_AGE_AT_LATEST_ARRESTless than 20  < 2e-16 ***\n",
       "PREDICTOR_RAT_VICTIM_SHOOTING_INCIDENTS         < 2e-16 ***\n",
       "PREDICTOR_RAT_VICTIM_BATTERY_OR_ASSAULT         < 2e-16 ***\n",
       "PREDICTOR_RAT_ARRESTS_VIOLENT_OFFENSES          < 2e-16 ***\n",
       "PREDICTOR_RAT_GANG_AFFILIATION                  < 2e-16 ***\n",
       "PREDICTOR_RAT_NARCOTIC_ARRESTS                  < 2e-16 ***\n",
       "PREDICTOR_RAT_TREND_IN_CRIMINAL_ACTIVITY        < 2e-16 ***\n",
       "PREDICTOR_RAT_UUW_ARRESTS                       < 2e-16 ***\n",
       "---\n",
       "Signif. codes:  0 '***' 0.001 '**' 0.01 '*' 0.05 '.' 0.1 ' ' 1\n",
       "\n",
       "(Dispersion parameter for binomial family taken to be 1)\n",
       "\n",
       "    Null deviance: 346045  on 290084  degrees of freedom\n",
       "Residual deviance: 318195  on 290071  degrees of freedom\n",
       "AIC: 318223\n",
       "\n",
       "Number of Fisher Scoring iterations: 6\n"
      ]
     },
     "metadata": {},
     "output_type": "display_data"
    }
   ],
   "source": [
    "m_ps <- glm(RACE_CODE_CD ~ PREDICTOR_RAT_AGE_AT_LATEST_ARREST  + PREDICTOR_RAT_VICTIM_SHOOTING_INCIDENTS + PREDICTOR_RAT_VICTIM_BATTERY_OR_ASSAULT + \n",
    "            PREDICTOR_RAT_ARRESTS_VIOLENT_OFFENSES + PREDICTOR_RAT_GANG_AFFILIATION + PREDICTOR_RAT_NARCOTIC_ARRESTS + PREDICTOR_RAT_TREND_IN_CRIMINAL_ACTIVITY +\n",
    "            PREDICTOR_RAT_UUW_ARRESTS,\n",
    "            family = binomial(), data = complete_data)\n",
    "summary(m_ps)"
   ]
  },
  {
   "cell_type": "code",
   "execution_count": 13,
   "metadata": {},
   "outputs": [
    {
     "data": {
      "text/html": [
       "<table>\n",
       "<thead><tr><th scope=col>pr_score</th><th scope=col>RACE_CODE_CD</th></tr></thead>\n",
       "<tbody>\n",
       "\t<tr><td>2.040449e-03</td><td>0           </td></tr>\n",
       "\t<tr><td>7.599459e-06</td><td>1           </td></tr>\n",
       "\t<tr><td>7.691906e-04</td><td>1           </td></tr>\n",
       "\t<tr><td>4.493660e-04</td><td>0           </td></tr>\n",
       "\t<tr><td>8.264588e-03</td><td>0           </td></tr>\n",
       "\t<tr><td>3.217104e-05</td><td>0           </td></tr>\n",
       "</tbody>\n",
       "</table>\n"
      ],
      "text/latex": [
       "\\begin{tabular}{r|ll}\n",
       " pr\\_score & RACE\\_CODE\\_CD\\\\\n",
       "\\hline\n",
       "\t 2.040449e-03 & 0           \\\\\n",
       "\t 7.599459e-06 & 1           \\\\\n",
       "\t 7.691906e-04 & 1           \\\\\n",
       "\t 4.493660e-04 & 0           \\\\\n",
       "\t 8.264588e-03 & 0           \\\\\n",
       "\t 3.217104e-05 & 0           \\\\\n",
       "\\end{tabular}\n"
      ],
      "text/markdown": [
       "\n",
       "pr_score | RACE_CODE_CD | \n",
       "|---|---|---|---|---|---|\n",
       "| 2.040449e-03 | 0            | \n",
       "| 7.599459e-06 | 1            | \n",
       "| 7.691906e-04 | 1            | \n",
       "| 4.493660e-04 | 0            | \n",
       "| 8.264588e-03 | 0            | \n",
       "| 3.217104e-05 | 0            | \n",
       "\n",
       "\n"
      ],
      "text/plain": [
       "  pr_score     RACE_CODE_CD\n",
       "1 2.040449e-03 0           \n",
       "2 7.599459e-06 1           \n",
       "3 7.691906e-04 1           \n",
       "4 4.493660e-04 0           \n",
       "5 8.264588e-03 0           \n",
       "6 3.217104e-05 0           "
      ]
     },
     "metadata": {},
     "output_type": "display_data"
    }
   ],
   "source": [
    "prs_df <- data.frame(pr_score = predict(m_ps, type = \"response\"),\n",
    "                     RACE_CODE_CD = m_ps$model$RACE_CODE_CD)\n",
    "head(prs_df)"
   ]
  },
  {
   "cell_type": "code",
   "execution_count": 14,
   "metadata": {},
   "outputs": [
    {
     "name": "stderr",
     "output_type": "stream",
     "text": [
      "`stat_bin()` using `bins = 30`. Pick better value with `binwidth`.\n"
     ]
    },
    {
     "data": {},
     "metadata": {},
     "output_type": "display_data"
    },
    {
     "data": {
      "image/png": "[encoded data removed]",
      "text/plain": [
       "plot without title"
      ]
     },
     "metadata": {},
     "output_type": "display_data"
    }
   ],
   "source": [
    "labs <- paste(\"Person's Race:\", c(\"Black\", \"White\"))\n",
    "prs_df %>%\n",
    "  mutate(RACE_CODE_CD = ifelse(RACE_CODE_CD == 0, labs[1], labs[2])) %>%\n",
    "  ggplot(aes(x = pr_score)) +\n",
    "  geom_histogram(color = \"white\") +\n",
    "  facet_wrap(~RACE_CODE_CD) +\n",
    "  xlab(\"Probability of Race: Black & White\") +\n",
    "  theme_bw()"
   ]
  },
  {
   "cell_type": "code",
   "execution_count": 15,
   "metadata": {
    "collapsed": true
   },
   "outputs": [],
   "source": [
    "ecls_nomiss <- complete_data %>%  # MatchIt does not allow missing values\n",
    "  select(SSL_SCORE, RACE_CODE_CD,PREDICTOR_RAT_AGE_AT_LATEST_ARREST, one_of(ecls_cov)) %>%\n",
    "  na.omit()\n"
   ]
  },
  {
   "cell_type": "code",
   "execution_count": 16,
   "metadata": {
    "collapsed": true
   },
   "outputs": [],
   "source": [
    "mod_match <- matchit(RACE_CODE_CD ~ PREDICTOR_RAT_AGE_AT_LATEST_ARREST  + PREDICTOR_RAT_VICTIM_SHOOTING_INCIDENTS + PREDICTOR_RAT_VICTIM_BATTERY_OR_ASSAULT + \n",
    "            PREDICTOR_RAT_ARRESTS_VIOLENT_OFFENSES + PREDICTOR_RAT_GANG_AFFILIATION + PREDICTOR_RAT_NARCOTIC_ARRESTS + PREDICTOR_RAT_TREND_IN_CRIMINAL_ACTIVITY +\n",
    "            PREDICTOR_RAT_UUW_ARRESTS,\n",
    "                     method = \"nearest\", data = ecls_nomiss)"
   ]
  },
  {
   "cell_type": "code",
   "execution_count": 17,
   "metadata": {},
   "outputs": [
    {
     "data": {
      "text/plain": [
       "\n",
       "Call: \n",
       "matchit(formula = RACE_CODE_CD ~ PREDICTOR_RAT_AGE_AT_LATEST_ARREST + \n",
       "    PREDICTOR_RAT_VICTIM_SHOOTING_INCIDENTS + PREDICTOR_RAT_VICTIM_BATTERY_OR_ASSAULT + \n",
       "    PREDICTOR_RAT_ARRESTS_VIOLENT_OFFENSES + PREDICTOR_RAT_GANG_AFFILIATION + \n",
       "    PREDICTOR_RAT_NARCOTIC_ARRESTS + PREDICTOR_RAT_TREND_IN_CRIMINAL_ACTIVITY + \n",
       "    PREDICTOR_RAT_UUW_ARRESTS, data = ecls_nomiss, method = \"nearest\")\n",
       "\n",
       "Sample sizes:\n",
       "          Control Treated\n",
       "All        207775   82310\n",
       "Matched     82310   82310\n",
       "Unmatched  125465       0\n",
       "Discarded       0       0\n"
      ]
     },
     "metadata": {},
     "output_type": "display_data"
    }
   ],
   "source": [
    "mod_match"
   ]
  },
  {
   "cell_type": "code",
   "execution_count": 38,
   "metadata": {
    "collapsed": true
   },
   "outputs": [],
   "source": [
    "matched <- match.data(mod_match)\n",
    "matched_copy<-matched"
   ]
  },
  {
   "cell_type": "code",
   "execution_count": 47,
   "metadata": {},
   "outputs": [
    {
     "name": "stdout",
     "output_type": "stream",
     "text": [
      "[1] \"To identify the units, use first mouse button; to stop, use second.\"\n"
     ]
    },
    {
     "data": {
      "text/html": [],
      "text/latex": [],
      "text/markdown": [],
      "text/plain": [
       "integer(0)"
      ]
     },
     "metadata": {},
     "output_type": "display_data"
    },
    {
     "data": {
      "image/png": "[encoded data removed]",
      "text/plain": [
       "Plot with title \"Distribution of Propensity Scores\""
      ]
     },
     "metadata": {},
     "output_type": "display_data"
    }
   ],
   "source": [
    "plot(mod_match, type = \"jitter\")"
   ]
  },
  {
   "cell_type": "code",
   "execution_count": 48,
   "metadata": {},
   "outputs": [
    {
     "data": {
      "image/png": "[encoded data removed]",
      "text/plain": [
       "Plot with title \"Matched Control\""
      ]
     },
     "metadata": {},
     "output_type": "display_data"
    }
   ],
   "source": [
    "plot(mod_match, type = \"hist\")"
   ]
  },
  {
   "cell_type": "code",
   "execution_count": 35,
   "metadata": {},
   "outputs": [
    {
     "data": {
      "text/html": [
       "<table>\n",
       "<thead><tr><th></th><th scope=col>SSL_SCORE</th><th scope=col>RACE_CODE_CD</th><th scope=col>PREDICTOR_RAT_AGE_AT_LATEST_ARREST</th><th scope=col>PREDICTOR_RAT_VICTIM_SHOOTING_INCIDENTS</th><th scope=col>PREDICTOR_RAT_VICTIM_BATTERY_OR_ASSAULT</th><th scope=col>PREDICTOR_RAT_ARRESTS_VIOLENT_OFFENSES</th><th scope=col>PREDICTOR_RAT_GANG_AFFILIATION</th><th scope=col>PREDICTOR_RAT_NARCOTIC_ARRESTS</th><th scope=col>PREDICTOR_RAT_TREND_IN_CRIMINAL_ACTIVITY</th><th scope=col>PREDICTOR_RAT_UUW_ARRESTS</th><th scope=col>distance</th><th scope=col>weights</th></tr></thead>\n",
       "<tbody>\n",
       "\t<tr><th scope=row>2</th><td>500         </td><td>1           </td><td>20-30       </td><td>0           </td><td>9           </td><td>1           </td><td>1           </td><td> 0          </td><td> 1.0        </td><td>0           </td><td>7.599459e-06</td><td>1           </td></tr>\n",
       "\t<tr><th scope=row>3</th><td>500         </td><td>1           </td><td>less than 20</td><td>1           </td><td>2           </td><td>1           </td><td>1           </td><td> 3          </td><td> 1.0        </td><td>0           </td><td>7.691906e-04</td><td>1           </td></tr>\n",
       "\t<tr><th scope=row>8</th><td>497         </td><td>0           </td><td>less than 20</td><td>0           </td><td>0           </td><td>7           </td><td>0           </td><td> 3          </td><td> 0.7        </td><td>1           </td><td>3.424591e-03</td><td>1           </td></tr>\n",
       "\t<tr><th scope=row>11</th><td>488         </td><td>0           </td><td>20-30       </td><td>0           </td><td>0           </td><td>0           </td><td>1           </td><td>29          </td><td>-3.4        </td><td>0           </td><td>3.789619e-04</td><td>1           </td></tr>\n",
       "\t<tr><th scope=row>13</th><td>485         </td><td>1           </td><td>less than 20</td><td>1           </td><td>3           </td><td>1           </td><td>1           </td><td> 0          </td><td> 0.6        </td><td>0           </td><td>4.520438e-04</td><td>1           </td></tr>\n",
       "\t<tr><th scope=row>32</th><td>455         </td><td>1           </td><td>20-30       </td><td>2           </td><td>2           </td><td>2           </td><td>1           </td><td> 3          </td><td> 0.7        </td><td>0           </td><td>1.536377e-04</td><td>1           </td></tr>\n",
       "</tbody>\n",
       "</table>\n"
      ],
      "text/latex": [
       "\\begin{tabular}{r|llllllllllll}\n",
       "  & SSL\\_SCORE & RACE\\_CODE\\_CD & PREDICTOR\\_RAT\\_AGE\\_AT\\_LATEST\\_ARREST & PREDICTOR\\_RAT\\_VICTIM\\_SHOOTING\\_INCIDENTS & PREDICTOR\\_RAT\\_VICTIM\\_BATTERY\\_OR\\_ASSAULT & PREDICTOR\\_RAT\\_ARRESTS\\_VIOLENT\\_OFFENSES & PREDICTOR\\_RAT\\_GANG\\_AFFILIATION & PREDICTOR\\_RAT\\_NARCOTIC\\_ARRESTS & PREDICTOR\\_RAT\\_TREND\\_IN\\_CRIMINAL\\_ACTIVITY & PREDICTOR\\_RAT\\_UUW\\_ARRESTS & distance & weights\\\\\n",
       "\\hline\n",
       "\t2 & 500          & 1            & 20-30        & 0            & 9            & 1            & 1            &  0           &  1.0         & 0            & 7.599459e-06 & 1           \\\\\n",
       "\t3 & 500          & 1            & less than 20 & 1            & 2            & 1            & 1            &  3           &  1.0         & 0            & 7.691906e-04 & 1           \\\\\n",
       "\t8 & 497          & 0            & less than 20 & 0            & 0            & 7            & 0            &  3           &  0.7         & 1            & 3.424591e-03 & 1           \\\\\n",
       "\t11 & 488          & 0            & 20-30        & 0            & 0            & 0            & 1            & 29           & -3.4         & 0            & 3.789619e-04 & 1           \\\\\n",
       "\t13 & 485          & 1            & less than 20 & 1            & 3            & 1            & 1            &  0           &  0.6         & 0            & 4.520438e-04 & 1           \\\\\n",
       "\t32 & 455          & 1            & 20-30        & 2            & 2            & 2            & 1            &  3           &  0.7         & 0            & 1.536377e-04 & 1           \\\\\n",
       "\\end{tabular}\n"
      ],
      "text/markdown": [
       "\n",
       "| <!--/--> | SSL_SCORE | RACE_CODE_CD | PREDICTOR_RAT_AGE_AT_LATEST_ARREST | PREDICTOR_RAT_VICTIM_SHOOTING_INCIDENTS | PREDICTOR_RAT_VICTIM_BATTERY_OR_ASSAULT | PREDICTOR_RAT_ARRESTS_VIOLENT_OFFENSES | PREDICTOR_RAT_GANG_AFFILIATION | PREDICTOR_RAT_NARCOTIC_ARRESTS | PREDICTOR_RAT_TREND_IN_CRIMINAL_ACTIVITY | PREDICTOR_RAT_UUW_ARRESTS | distance | weights | \n",
       "|---|---|---|---|---|---|\n",
       "| 2 | 500          | 1            | 20-30        | 0            | 9            | 1            | 1            |  0           |  1.0         | 0            | 7.599459e-06 | 1            | \n",
       "| 3 | 500          | 1            | less than 20 | 1            | 2            | 1            | 1            |  3           |  1.0         | 0            | 7.691906e-04 | 1            | \n",
       "| 8 | 497          | 0            | less than 20 | 0            | 0            | 7            | 0            |  3           |  0.7         | 1            | 3.424591e-03 | 1            | \n",
       "| 11 | 488          | 0            | 20-30        | 0            | 0            | 0            | 1            | 29           | -3.4         | 0            | 3.789619e-04 | 1            | \n",
       "| 13 | 485          | 1            | less than 20 | 1            | 3            | 1            | 1            |  0           |  0.6         | 0            | 4.520438e-04 | 1            | \n",
       "| 32 | 455          | 1            | 20-30        | 2            | 2            | 2            | 1            |  3           |  0.7         | 0            | 1.536377e-04 | 1            | \n",
       "\n",
       "\n"
      ],
      "text/plain": [
       "   SSL_SCORE RACE_CODE_CD PREDICTOR_RAT_AGE_AT_LATEST_ARREST\n",
       "2  500       1            20-30                             \n",
       "3  500       1            less than 20                      \n",
       "8  497       0            less than 20                      \n",
       "11 488       0            20-30                             \n",
       "13 485       1            less than 20                      \n",
       "32 455       1            20-30                             \n",
       "   PREDICTOR_RAT_VICTIM_SHOOTING_INCIDENTS\n",
       "2  0                                      \n",
       "3  1                                      \n",
       "8  0                                      \n",
       "11 0                                      \n",
       "13 1                                      \n",
       "32 2                                      \n",
       "   PREDICTOR_RAT_VICTIM_BATTERY_OR_ASSAULT\n",
       "2  9                                      \n",
       "3  2                                      \n",
       "8  0                                      \n",
       "11 0                                      \n",
       "13 3                                      \n",
       "32 2                                      \n",
       "   PREDICTOR_RAT_ARRESTS_VIOLENT_OFFENSES PREDICTOR_RAT_GANG_AFFILIATION\n",
       "2  1                                      1                             \n",
       "3  1                                      1                             \n",
       "8  7                                      0                             \n",
       "11 0                                      1                             \n",
       "13 1                                      1                             \n",
       "32 2                                      1                             \n",
       "   PREDICTOR_RAT_NARCOTIC_ARRESTS PREDICTOR_RAT_TREND_IN_CRIMINAL_ACTIVITY\n",
       "2   0                              1.0                                    \n",
       "3   3                              1.0                                    \n",
       "8   3                              0.7                                    \n",
       "11 29                             -3.4                                    \n",
       "13  0                              0.6                                    \n",
       "32  3                              0.7                                    \n",
       "   PREDICTOR_RAT_UUW_ARRESTS distance     weights\n",
       "2  0                         7.599459e-06 1      \n",
       "3  0                         7.691906e-04 1      \n",
       "8  1                         3.424591e-03 1      \n",
       "11 0                         3.789619e-04 1      \n",
       "13 0                         4.520438e-04 1      \n",
       "32 0                         1.536377e-04 1      "
      ]
     },
     "metadata": {},
     "output_type": "display_data"
    }
   ],
   "source": [
    "head(matched)"
   ]
  },
  {
   "cell_type": "code",
   "execution_count": 37,
   "metadata": {},
   "outputs": [
    {
     "data": {
      "image/png": "[encoded data removed]",
      "text/plain": [
       "plot without title"
      ]
     },
     "metadata": {},
     "output_type": "display_data"
    }
   ],
   "source": [
    "# Doing T - test on matched records\n",
    "attach(matched)\n",
    "boxplot(SSL_SCORE~RACE_CODE_CD)"
   ]
  },
  {
   "cell_type": "code",
   "execution_count": 44,
   "metadata": {},
   "outputs": [
    {
     "data": {
      "image/png": "[encoded data removed]",
      "text/plain": [
       "Plot with title \"Normal Q-Q Plot\""
      ]
     },
     "metadata": {},
     "output_type": "display_data"
    }
   ],
   "source": [
    "race_black <-subset(matched,RACE_CODE_CD == 0)\n",
    "race_white<-subset(matched,RACE_CODE_CD == 1)\n",
    "# Normal QQ Plot for RACE == BLACK\n",
    "qqnorm(race_black$SSL_SCORE)\n",
    "qqline(race_black$SSL_SCORE)"
   ]
  },
  {
   "cell_type": "code",
   "execution_count": 45,
   "metadata": {},
   "outputs": [
    {
     "data": {
      "image/png": "[encoded data removed]",
      "text/plain": [
       "Plot with title \"Normal Q-Q Plot\""
      ]
     },
     "metadata": {},
     "output_type": "display_data"
    }
   ],
   "source": [
    "# Normal QQ Plot for RACE == WHITE\n",
    "qqnorm(race_white$SSL_SCORE)\n",
    "qqline(race_white$SSL_SCORE)"
   ]
  },
  {
   "cell_type": "code",
   "execution_count": 46,
   "metadata": {},
   "outputs": [
    {
     "data": {
      "text/plain": [
       "\n",
       "\tWelch Two Sample t-test\n",
       "\n",
       "data:  SSL_SCORE by RACE_CODE_CD\n",
       "t = 3.0445, df = 164550, p-value = 0.002331\n",
       "alternative hypothesis: true difference in means is not equal to 0\n",
       "95 percent confidence interval:\n",
       " 0.3050383 1.4076090\n",
       "sample estimates:\n",
       "mean in group 0 mean in group 1 \n",
       "       270.7023        269.8460 \n"
      ]
     },
     "metadata": {},
     "output_type": "display_data"
    }
   ],
   "source": [
    "t.test(SSL_SCORE~RACE_CODE_CD)"
   ]
  }
 ],
 "metadata": {
  "kernelspec": {
   "display_name": "R",
   "language": "R",
   "name": "ir"
  },
  "language_info": {
   "codemirror_mode": "r",
   "file_extension": ".r",
   "mimetype": "text/x-r-source",
   "name": "R",
   "pygments_lexer": "r",
   "version": "3.3.2"
  }
 },
 "nbformat": 4,
 "nbformat_minor": 2
}
