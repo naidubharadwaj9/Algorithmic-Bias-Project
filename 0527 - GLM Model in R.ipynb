{
 "cells": [
  {
   "cell_type": "code",
   "execution_count": 2,
   "metadata": {},
   "outputs": [
    {
     "name": "stdout",
     "output_type": "stream",
     "text": [
      "The Number of Rows in Initial Data is 398684"
     ]
    }
   ],
   "source": [
    "raw_data <- read.csv(\"Strategic_Subject_List.csv\", sep=\",\", header=T, strip.white = T, na.strings = c(\"NA\",\"NaN\",\"\",\"?\"))\n",
    "#Converting the \".\" in column names to \"_\"\n",
    "names(raw_data)<-gsub(\"\\\\.\", \"_\", names(raw_data))\n",
    "cat(\"The Number of Rows in Initial Data is\", nrow(raw_data))"
   ]
  },
  {
   "cell_type": "code",
   "execution_count": 3,
   "metadata": {
    "collapsed": true
   },
   "outputs": [],
   "source": [
    "final_features<-raw_data[,c(\"PRE_RAW_HEAT_SCORE\",\"AGE_GROUP\",\"AGE_CURR\",\"LATEST_DIST\",\"LATEST_DIST_RES\",\n",
    "            \"DRUG_I\",\"WEAPON_I\", \"RACE_CODE_CD\",\"SEX_CODE_CD\",\"CPD_ARREST_I\",\"LATEST_DATE\")]"
   ]
  },
  {
   "cell_type": "code",
   "execution_count": 32,
   "metadata": {
    "collapsed": true
   },
   "outputs": [],
   "source": [
    "complete_data <- final_features[complete.cases(final_features),]"
   ]
  },
  {
   "cell_type": "code",
   "execution_count": 33,
   "metadata": {
    "collapsed": true
   },
   "outputs": [],
   "source": [
    "complete_data$AGE_GROUP <- as.factor(complete_data$AGE_GROUP)\n",
    "complete_data$AGE_CURR<- as.factor(complete_data$AGE_CURR)\n",
    "complete_data$LATEST_DIST<- as.factor(complete_data$LATEST_DIST)\n",
    "complete_data$LATEST_DIST_RES<- as.factor(complete_data$LATEST_DIST_RES)\n",
    "complete_data$DRUG_I<- as.factor(complete_data$DRUG_I)\n",
    "complete_data$WEAPON_I<- as.factor(complete_data$WEAPON_I)\n",
    "complete_data$RACE_CODE_CD<- as.factor(complete_data$RACE_CODE_CD) \n",
    "complete_data$SEX_CODE_CD<- as.factor(complete_data$SEX_CODE_CD)\n",
    "complete_data$CPD_ARREST_I<- as.factor(complete_data$CPD_ARREST_I)\n",
    "complete_data$LATEST_DATE<- as.factor(complete_data$LATEST_DATE)"
   ]
  },
  {
   "cell_type": "code",
   "execution_count": 37,
   "metadata": {},
   "outputs": [],
   "source": [
    "library(\"caret\")\n",
    "n=nrow(complete_data)\n",
    "trainIndex = sample(1:n, size = round(0.7*n),replace=FALSE)\n",
    "train_data = complete_data[trainIndex,] \n",
    "test_data  = complete_data[-trainIndex,] "
   ]
  },
  {
   "cell_type": "code",
   "execution_count": 39,
   "metadata": {},
   "outputs": [
    {
     "name": "stdout",
     "output_type": "stream",
     "text": [
      "+ Fold1: intercept=TRUE \n",
      "- Fold1: intercept=TRUE \n",
      "+ Fold2: intercept=TRUE \n",
      "- Fold2: intercept=TRUE \n",
      "+ Fold3: intercept=TRUE \n",
      "- Fold3: intercept=TRUE \n",
      "+ Fold4: intercept=TRUE \n",
      "- Fold4: intercept=TRUE \n",
      "+ Fold5: intercept=TRUE \n",
      "- Fold5: intercept=TRUE \n",
      "Aggregating results\n",
      "Fitting final model on full training set\n"
     ]
    }
   ],
   "source": [
    "model<-train(PRE_RAW_HEAT_SCORE~.,data=train_data,method = \"lm\",\n",
    "             trControl = trainControl(method = \"cv\",number = 5,verboseIter = TRUE))"
   ]
  },
  {
   "cell_type": "code",
   "execution_count": 30,
   "metadata": {},
   "outputs": [
    {
     "data": {
      "text/plain": [
       "\n",
       "Call:\n",
       "lm(formula = .outcome ~ ., data = dat)\n",
       "\n",
       "Residuals:\n",
       "    Min      1Q  Median      3Q     Max \n",
       "-4710.7  -161.4   -20.8   125.4  7097.9 \n",
       "\n",
       "Coefficients:\n",
       "                          Estimate Std. Error  t value Pr(>|t|)    \n",
       "(Intercept)              8.762e+03  1.932e+01  453.543  < 2e-16 ***\n",
       "`AGE_GROUP30-40`        -3.946e+02  2.507e+00 -157.357  < 2e-16 ***\n",
       "`AGE_GROUP40-50`        -8.000e+02  4.063e+00 -196.886  < 2e-16 ***\n",
       "`AGE_GROUP50-60`        -1.199e+03  5.587e+00 -214.661  < 2e-16 ***\n",
       "`AGE_GROUP60-70`        -1.563e+03  8.563e+00 -182.583  < 2e-16 ***\n",
       "`AGE_GROUP70-80`        -1.938e+03  1.960e+01  -98.873  < 2e-16 ***\n",
       "`AGE_GROUPless than 20`  3.915e+02  2.301e+00  170.143  < 2e-16 ***\n",
       "`AGE_CURR30-40`         -4.144e+02  2.388e+00 -173.495  < 2e-16 ***\n",
       "`AGE_CURR40-50`         -8.119e+02  3.880e+00 -209.259  < 2e-16 ***\n",
       "`AGE_CURR50-60`         -1.219e+03  5.313e+00 -229.369  < 2e-16 ***\n",
       "`AGE_CURR60-70`         -1.645e+03  7.581e+00 -217.006  < 2e-16 ***\n",
       "`AGE_CURR70-80`         -2.123e+03  1.576e+01 -134.728  < 2e-16 ***\n",
       "`AGE_CURRless than 20`   3.287e+02  2.747e+00  119.652  < 2e-16 ***\n",
       "LATEST_DIST2             4.359e+01  5.976e+00    7.294 3.02e-13 ***\n",
       "LATEST_DIST3             6.939e+01  5.550e+00   12.503  < 2e-16 ***\n",
       "LATEST_DIST4             6.404e+01  5.534e+00   11.571  < 2e-16 ***\n",
       "LATEST_DIST5             5.139e+01  5.620e+00    9.145  < 2e-16 ***\n",
       "LATEST_DIST6             4.814e+01  5.195e+00    9.266  < 2e-16 ***\n",
       "LATEST_DIST7             7.069e+01  5.248e+00   13.470  < 2e-16 ***\n",
       "LATEST_DIST8             4.996e+01  5.204e+00    9.599  < 2e-16 ***\n",
       "LATEST_DIST9             4.910e+01  5.427e+00    9.047  < 2e-16 ***\n",
       "LATEST_DIST10            6.140e+01  5.463e+00   11.239  < 2e-16 ***\n",
       "LATEST_DIST11            6.183e+01  4.843e+00   12.766  < 2e-16 ***\n",
       "LATEST_DIST12            4.885e+01  5.662e+00    8.629  < 2e-16 ***\n",
       "LATEST_DIST14            5.197e+01  6.388e+00    8.136 4.12e-16 ***\n",
       "LATEST_DIST15            8.588e+01  5.498e+00   15.622  < 2e-16 ***\n",
       "LATEST_DIST16            1.696e+01  6.084e+00    2.788 0.005312 ** \n",
       "LATEST_DIST17            2.921e+01  6.772e+00    4.313 1.61e-05 ***\n",
       "LATEST_DIST18            3.832e+00  5.814e+00    0.659 0.509893    \n",
       "LATEST_DIST19            3.305e+01  5.861e+00    5.639 1.71e-08 ***\n",
       "LATEST_DIST20            2.072e+01  7.951e+00    2.606 0.009159 ** \n",
       "LATEST_DIST22            5.780e+01  6.268e+00    9.221  < 2e-16 ***\n",
       "LATEST_DIST24            4.907e+01  7.066e+00    6.946 3.78e-12 ***\n",
       "LATEST_DIST25            3.569e+01  5.171e+00    6.901 5.17e-12 ***\n",
       "LATEST_DIST31            4.679e+01  5.232e+00    8.943  < 2e-16 ***\n",
       "LATEST_DIST_RES2         4.897e+01  7.544e+00    6.492 8.51e-11 ***\n",
       "LATEST_DIST_RES3         4.918e+01  7.310e+00    6.728 1.73e-11 ***\n",
       "LATEST_DIST_RES4         4.789e+01  7.261e+00    6.596 4.24e-11 ***\n",
       "LATEST_DIST_RES5         4.013e+01  7.354e+00    5.458 4.83e-08 ***\n",
       "LATEST_DIST_RES6         4.189e+01  7.159e+00    5.851 4.88e-09 ***\n",
       "LATEST_DIST_RES7         5.832e+01  7.131e+00    8.179 2.88e-16 ***\n",
       "LATEST_DIST_RES8         3.203e+01  6.923e+00    4.626 3.73e-06 ***\n",
       "LATEST_DIST_RES9         3.719e+01  7.223e+00    5.149 2.62e-07 ***\n",
       "LATEST_DIST_RES10        4.424e+01  7.184e+00    6.158 7.37e-10 ***\n",
       "LATEST_DIST_RES11        6.021e+01  6.967e+00    8.642  < 2e-16 ***\n",
       "LATEST_DIST_RES12        3.356e+01  7.585e+00    4.425 9.66e-06 ***\n",
       "LATEST_DIST_RES14        2.630e+01  7.862e+00    3.345 0.000822 ***\n",
       "LATEST_DIST_RES15        6.301e+01  7.289e+00    8.645  < 2e-16 ***\n",
       "LATEST_DIST_RES16        2.256e+01  7.781e+00    2.899 0.003743 ** \n",
       "LATEST_DIST_RES17        2.259e+01  7.969e+00    2.834 0.004594 ** \n",
       "LATEST_DIST_RES18        2.327e+01  1.014e+01    2.294 0.021770 *  \n",
       "LATEST_DIST_RES19        2.112e+01  8.404e+00    2.513 0.011972 *  \n",
       "LATEST_DIST_RES20        3.360e+01  9.359e+00    3.590 0.000330 ***\n",
       "LATEST_DIST_RES22        3.307e+01  7.674e+00    4.309 1.64e-05 ***\n",
       "LATEST_DIST_RES24        2.998e+01  8.017e+00    3.740 0.000184 ***\n",
       "LATEST_DIST_RES25        2.948e+01  7.001e+00    4.211 2.54e-05 ***\n",
       "LATEST_DIST_RES31        1.050e+01  6.356e+00    1.652 0.098535 .  \n",
       "DRUG_IY                  6.201e+01  1.425e+00   43.520  < 2e-16 ***\n",
       "WEAPON_IY                3.187e+02  2.652e+00  120.181  < 2e-16 ***\n",
       "RACE_CODE_CDBLK          1.981e+01  5.268e+00    3.760 0.000170 ***\n",
       "RACE_CODE_CDI            3.871e+00  2.099e+01    0.184 0.853674    \n",
       "RACE_CODE_CDU           -3.306e+00  9.463e+00   -0.349 0.726811    \n",
       "RACE_CODE_CDWBH          1.625e+01  9.348e+00    1.739 0.082075 .  \n",
       "RACE_CODE_CDWHI          2.839e+00  5.291e+00    0.537 0.591529    \n",
       "RACE_CODE_CDWWH          8.329e-02  5.285e+00    0.016 0.987426    \n",
       "SEX_CODE_CDM             2.927e+01  1.318e+00   22.201  < 2e-16 ***\n",
       "SEX_CODE_CDX             7.954e+01  4.433e+01    1.794 0.072749 .  \n",
       "CPD_ARREST_IY            4.662e+01  3.618e+00   12.885  < 2e-16 ***\n",
       "LATEST_DATE2007          4.672e+01  2.215e+01    2.109 0.034955 *  \n",
       "LATEST_DATE2008          9.551e+01  2.177e+01    4.388 1.15e-05 ***\n",
       "LATEST_DATE2009          1.324e+02  2.072e+01    6.392 1.64e-10 ***\n",
       "LATEST_DATE2010          1.674e+02  1.972e+01    8.491  < 2e-16 ***\n",
       "LATEST_DATE2011          2.179e+02  1.890e+01   11.527  < 2e-16 ***\n",
       "LATEST_DATE2012          3.048e+02  1.716e+01   17.757  < 2e-16 ***\n",
       "LATEST_DATE2013          3.024e+02  1.711e+01   17.678  < 2e-16 ***\n",
       "LATEST_DATE2014          3.373e+02  1.711e+01   19.712  < 2e-16 ***\n",
       "LATEST_DATE2015          3.973e+02  1.712e+01   23.211  < 2e-16 ***\n",
       "LATEST_DATE2016          4.777e+02  1.714e+01   27.868  < 2e-16 ***\n",
       "---\n",
       "Signif. codes:  0 '***' 0.001 '**' 0.01 '*' 0.05 '.' 0.1 ' ' 1\n",
       "\n",
       "Residual standard error: 290.5 on 278832 degrees of freedom\n",
       "Multiple R-squared:  0.9255,\tAdjusted R-squared:  0.9255 \n",
       "F-statistic: 4.497e+04 on 77 and 278832 DF,  p-value: < 2.2e-16\n"
      ]
     },
     "metadata": {},
     "output_type": "display_data"
    }
   ],
   "source": [
    "summary(model)"
   ]
  },
  {
   "cell_type": "code",
   "execution_count": 31,
   "metadata": {
    "collapsed": true
   },
   "outputs": [],
   "source": [
    "Pred_test <- predict(model, test_data)"
   ]
  },
  {
   "cell_type": "code",
   "execution_count": 32,
   "metadata": {},
   "outputs": [
    {
     "data": {
      "text/plain": [
       "   Min. 1st Qu.  Median    Mean 3rd Qu.    Max. \n",
       "   4941    7868    8796    8632    9353   10580 "
      ]
     },
     "metadata": {},
     "output_type": "display_data"
    }
   ],
   "source": [
    "summary(Pred_test)"
   ]
  },
  {
   "cell_type": "code",
   "execution_count": 33,
   "metadata": {},
   "outputs": [
    {
     "data": {
      "text/html": [
       "83855.6743135479"
      ],
      "text/latex": [
       "83855.6743135479"
      ],
      "text/markdown": [
       "83855.6743135479"
      ],
      "text/plain": [
       "[1] 83855.67"
      ]
     },
     "metadata": {},
     "output_type": "display_data"
    }
   ],
   "source": [
    "mean((test_data$PRE_RAW_HEAT_SCORE -Pred_test)^2)"
   ]
  }
 ],
 "metadata": {
  "kernelspec": {
   "display_name": "R",
   "language": "R",
   "name": "ir"
  },
  "language_info": {
   "codemirror_mode": "r",
   "file_extension": ".r",
   "mimetype": "text/x-r-source",
   "name": "R",
   "pygments_lexer": "r",
   "version": "3.3.2"
  }
 },
 "nbformat": 4,
 "nbformat_minor": 2
}
