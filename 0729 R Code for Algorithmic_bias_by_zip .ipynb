{
 "cells": [
  {
   "cell_type": "code",
   "execution_count": 2,
   "metadata": {},
   "outputs": [
    {
     "name": "stdout",
     "output_type": "stream",
     "text": [
      "The Number of Rows in Initial Data is 398684"
     ]
    }
   ],
   "source": [
    "raw_data <- read.csv(\"Strategic_Subject_List.csv\", sep=\",\", header=T, strip.white = T, na.strings = c(\"NA\",\"NaN\",\"\",\"?\"))\n",
    "#Converting the \".\" in column names to \"_\"\n",
    "names(raw_data)<-gsub(\"\\\\.\", \"_\", names(raw_data))\n",
    "cat(\"The Number of Rows in Initial Data is\", nrow(raw_data))"
   ]
  },
  {
   "cell_type": "code",
   "execution_count": 3,
   "metadata": {
    "collapsed": true
   },
   "outputs": [],
   "source": [
    "final_features<-raw_data[,c('SSL_SCORE','PREDICTOR_RAT_AGE_AT_LATEST_ARREST','PREDICTOR_RAT_VICTIM_SHOOTING_INCIDENTS',\n",
    "                            'PREDICTOR_RAT_VICTIM_BATTERY_OR_ASSAULT','PREDICTOR_RAT_ARRESTS_VIOLENT_OFFENSES','PREDICTOR_RAT_GANG_AFFILIATION', \n",
    "                            'PREDICTOR_RAT_NARCOTIC_ARRESTS','PREDICTOR_RAT_TREND_IN_CRIMINAL_ACTIVITY','PREDICTOR_RAT_UUW_ARRESTS','RACE_CODE_CD',\n",
    "                            'LATITUDE', 'LONGITUDE', 'COMMUNITY_AREA')]"
   ]
  },
  {
   "cell_type": "code",
   "execution_count": 4,
   "metadata": {},
   "outputs": [
    {
     "name": "stdout",
     "output_type": "stream",
     "text": [
      "The Number of Rows in Initial Data is 224190"
     ]
    }
   ],
   "source": [
    "# Extracting the records without missing values\n",
    "complete_data <- final_features[complete.cases(final_features),]\n",
    "cat(\"The Number of Rows in Initial Data is\", nrow(complete_data))"
   ]
  },
  {
   "cell_type": "code",
   "execution_count": 6,
   "metadata": {},
   "outputs": [
    {
     "name": "stdout",
     "output_type": "stream",
     "text": [
      "The Number of Rows in Data is 801"
     ]
    }
   ],
   "source": [
    "# Selecting the unique record of LATITUDE AND LOGITUDE\n",
    "library(sqldf)\n",
    "required_data<-sqldf(\"SELECT distinct((LATITUDE||LONGITUDE)) as Joioned_LAT_LONG, LATITUDE, LONGITUDE from complete_data  group by LATITUDE,LONGITUDE\")\n",
    "lat_long_data<-required_data[,c('LATITUDE', 'LONGITUDE')]\n",
    "cat(\"The Number of Rows in Data is\", nrow(lat_long_data))"
   ]
  },
  {
   "cell_type": "code",
   "execution_count": 19,
   "metadata": {
    "collapsed": true
   },
   "outputs": [],
   "source": [
    "#Copying the Data into text file to be read by python JSON Google API crawler\n",
    "write.table(lat_long_data, file = \"lat_long_data.txt\",sep=\",\",row.names=FALSE,col.names=FALSE)"
   ]
  },
  {
   "cell_type": "code",
   "execution_count": 7,
   "metadata": {},
   "outputs": [
    {
     "name": "stdout",
     "output_type": "stream",
     "text": [
      "The Number of Rows in zip_data Data is 801"
     ]
    }
   ],
   "source": [
    "# Crawled data from python program is in zip_code_by_lat_log.csv\n",
    "# Reading the data\n",
    "zip_data <- read.csv(\"zip_code_by_lat_log.csv\", sep=\",\", header=T, strip.white = T, na.strings = c(\"NA\",\"NaN\",\"\",\"?\"))\n",
    "#Converting the \".\" in column names to \"_\"\n",
    "names(zip_data)<-gsub(\"\\\\.\", \"_\", names(zip_data))\n",
    "cat(\"The Number of Rows in zip_data Data is\", nrow(zip_data))"
   ]
  },
  {
   "cell_type": "code",
   "execution_count": 8,
   "metadata": {},
   "outputs": [
    {
     "name": "stdout",
     "output_type": "stream",
     "text": [
      "The Number of Rows in complete_data_zip_code Data is 800"
     ]
    }
   ],
   "source": [
    "# Extracting the records without missing values as for 41.66733082\t-87.6054492 data not found by Google Maps API\n",
    "complete_data_zip_code <- zip_data[complete.cases(zip_data),]\n",
    "cat(\"The Number of Rows in complete_data_zip_code Data is\", nrow(complete_data_zip_code))"
   ]
  },
  {
   "cell_type": "code",
   "execution_count": 9,
   "metadata": {
    "collapsed": true
   },
   "outputs": [],
   "source": [
    "# Selecting only LATITUDE, LOGITUDE and ZIP_CODES\n",
    "complete_data_zip_code<-sqldf(\"SELECT LATITUDE as Z_LATITUDE, LONGITUDE as Z_LONGITUDE, ZIP_CODE_LAT_LONG  from complete_data_zip_code\")"
   ]
  },
  {
   "cell_type": "code",
   "execution_count": 10,
   "metadata": {},
   "outputs": [
    {
     "name": "stdout",
     "output_type": "stream",
     "text": [
      "The Number of Rows in SSL_DATA_WITH_ZIP Data is 224190"
     ]
    }
   ],
   "source": [
    "# Merging the records with zip_code\n",
    "SSL_DATA_WITH_ZIP<-sqldf(\"select s.*, z.ZIP_CODE_LAT_LONG from complete_data s LEFT OUTER JOIN complete_data_zip_code z  on (s.LATITUDE = z.Z_LATITUDE AND s.LONGITUDE = z.Z_LONGITUDE)\")\n",
    "cat(\"The Number of Rows in SSL_DATA_WITH_ZIP Data is\", nrow(SSL_DATA_WITH_ZIP))"
   ]
  },
  {
   "cell_type": "code",
   "execution_count": 11,
   "metadata": {},
   "outputs": [
    {
     "name": "stdout",
     "output_type": "stream",
     "text": [
      "The Number of Rows in Data is 223674"
     ]
    }
   ],
   "source": [
    "complete_SSL_DATA_WITH_ZIP<- SSL_DATA_WITH_ZIP[complete.cases(SSL_DATA_WITH_ZIP),]\n",
    "cat(\"The Number of Rows in Data is\", nrow(complete_SSL_DATA_WITH_ZIP))"
   ]
  },
  {
   "cell_type": "code",
   "execution_count": 14,
   "metadata": {},
   "outputs": [
    {
     "name": "stdout",
     "output_type": "stream",
     "text": [
      "The Number of Rows for analysis for algorithmic bias based on zip code(based latitudes and longitudes) = 220949"
     ]
    }
   ],
   "source": [
    "library(MatchIt)\n",
    "library(ggplot2)\n",
    "library(dplyr)\n",
    "# Selecting only the required RACE records\n",
    "Data_With_Required_Races<-sqldf(\"SELECT * FROM complete_SSL_DATA_WITH_ZIP where RACE_CODE_CD IN ('WHI', 'BLK', 'WBH','WWH')\")\n",
    "cat(\"The Number of Rows for analysis for algorithmic bias based on zip code(based latitudes and longitudes) =\", nrow(Data_With_Required_Races))"
   ]
  },
  {
   "cell_type": "code",
   "execution_count": 15,
   "metadata": {
    "collapsed": true
   },
   "outputs": [],
   "source": [
    "#Converting the RACE_CODE_CD into factor for Data Manipulation\n",
    "Data_With_Required_Races$RACE_CODE_CD<-as.character(Data_With_Required_Races$RACE_CODE_CD)\n",
    "#Changing the RACE categorical variables from BLK, WHI, WBH, WWH to 0,1,2,and 2 respectively\n",
    "Data_With_Required_Races$RACE_CODE_CD[Data_With_Required_Races$RACE_CODE_CD == \"BLK\"]<-\"0\"\n",
    "Data_With_Required_Races$RACE_CODE_CD[Data_With_Required_Races$RACE_CODE_CD == \"WHI\"]<-\"1\"\n",
    "Data_With_Required_Races$RACE_CODE_CD[Data_With_Required_Races$RACE_CODE_CD == \"WBH\"]<-\"2\"\n",
    "Data_With_Required_Races$RACE_CODE_CD[Data_With_Required_Races$RACE_CODE_CD == \"WWH\"]<-\"2\"\n",
    "#Coverting back RACE_CODE_CD to factor\n",
    "Data_With_Required_Races$RACE_CODE_CD<-factor(Data_With_Required_Races$RACE_CODE_CD)\n",
    "#Sorting the data by zip code\n",
    "Zip_Soreted_order<-sqldf(\"SELECT * FROM Data_With_Required_Races ORDER BY ZIP_CODE_LAT_LONG, RACE_CODE_CD\")\n",
    "#Using dense rank to identify the ZIP_CODE_LAT_LONG change\n",
    "Zip_Soreted_order$ZIP_RANK <-dense_rank(Zip_Soreted_order$ZIP_CODE_LAT_LONG)\n",
    "#Converting the required variables into factors\n",
    "Zip_Soreted_order$PREDICTOR_RAT_AGE_AT_LATEST_ARREST<-factor(Zip_Soreted_order$PREDICTOR_RAT_AGE_AT_LATEST_ARREST)\n",
    "Zip_Soreted_order$PREDICTOR_RAT_GANG_AFFILIATION<-factor(Zip_Soreted_order$PREDICTOR_RAT_GANG_AFFILIATION)"
   ]
  },
  {
   "cell_type": "code",
   "execution_count": null,
   "metadata": {
    "collapsed": true
   },
   "outputs": [],
   "source": [
    "#Creating empty Data Frame to store final results\n",
    "final <- data.frame(Zip_Code= character(), Count_Of_Blacks=character(),Count_of_whites=character(),Count_of_hispanics=character(),\n",
    "                        #BLACK-WHITE PSM BEFORE AND AFTER\n",
    "                        BEFORE_PSM_BLACK_WHITE_T_VALUE_WHITE= character(),BEFORE_PSM_BLACK_WHITE_P_VALUE= character(), \n",
    "                        BEFORE_PSM_BLACK_WHITE_MEAN_BLACK= character(),BEFORE_PSM_BLACK_WHITE_MEAN_WHITE = character(),\n",
    "                        #\n",
    "                        AFTER_PSM_BLACK_WHITE_T_VALUE = character(),AFTER_PSM_BLACK_WHITE_P_VALUE = character(), \n",
    "                        AFTER_PSM_BLACK_WHITE_MEAN_BLACK = character(),AFTER_PSM_BLACK_WHITE_MEAN_WHITE = character(),\n",
    "                        #AFTER_PSM_BLACK_WHITE_MEAN_DIFFERENCE=character(),\n",
    "                        #BLACK-HISPANICS PSM BEFORE AND AFTER\n",
    "                        BEFORE_PSM_BLACK_HISPANICS_T_VALUE= character(),BEFORE_PSM_BLACK_HISPANICS_P_VALUE= character(), \n",
    "                        BEFORE_PSM_BLACK_HISPANICS_MEAN_BLACK= character(),BEFORE_PSM_BLACK_HISPANICS_MEAN_HISPANICS = character(),\n",
    "                        #\n",
    "                        AFTER_PSM_BLACK_HISPANICS_T_VALUE = character(),AFTER_PSM_BLACK_HISPANICS_P_VALUE = character(), \n",
    "                        AFTER_PSM_BLACK_HISPANICS_MEAN_BLACK = character(),AFTER_PSM_BLACK_HISPANICS_MEAN_HISPANICS = character(),   \n",
    "                        #AFTER_PSM_BLACK_HISPANICS_MEAN_DIFFERENCE=character(),\n",
    "                        #WHITE-HISPANICS PSM BEFORE AND AFTER)\n",
    "                        BEFORE_PSM_WHITE_HISPANICS_T_VALUE= character(),BEFORE_PSM_WHITE_HISPANICS_P_VALUE= character(), \n",
    "                        BEFORE_PSM_WHITE_HISPANICS_MEAN_WHITE= character(),BEFORE_PSM_WHITE_HISPANICS_MEAN_HISPANICS = character(),\n",
    "                        #\n",
    "                        AFTER_PSM_WHITE_HISPANICS_T_VALUE = character(),AFTER_PSM_WHITE_HISPANICS_P_VALUE = character(), \n",
    "                        AFTER_PSM_WHITE_HISPANICS_MEAN_WHITE = character(),AFTER_PSM_WHITE_HISPANICS_MEAN_HISPANICS = character())\n",
    "                        #AFTER_PSM_WHITE_HISPANICS_MEAN_DIFFERENCE=character())\n",
    "\n",
    "# Initializing the rank variable to 1\n",
    "ZIP_RANK_VAR <-1\n",
    "while (ZIP_RANK_VAR!=61) \n",
    "{\n",
    "  \n",
    "  \n",
    "  sql <- sprintf(\"SELECT * FROM Zip_Soreted_order WHERE ZIP_RANK = %s\", ZIP_RANK_VAR)\n",
    "  sql_MAX<- sprintf(\"SELECT MAX(RACE_CODE_CD) FROM Zip_Soreted_order WHERE ZIP_RANK = %s\", ZIP_RANK_VAR)\n",
    "  sql_MIN<- sprintf(\"SELECT MIN(RACE_CODE_CD) FROM Zip_Soreted_order WHERE ZIP_RANK = %s\", ZIP_RANK_VAR)\n",
    "  sql_ZIP<- sprintf(\"SELECT DISTINCT(ZIP_CODE_LAT_LONG) FROM Zip_Soreted_order WHERE ZIP_RANK = %s\", ZIP_RANK_VAR)\n",
    "  sql_no_black<-sprintf(\"SELECT count(RACE_CODE_CD) FROM Zip_Soreted_order WHERE ZIP_RANK = %s AND RACE_CODE_CD = '0'\", ZIP_RANK_VAR)\n",
    "  sql_no_white<-sprintf(\"SELECT count(RACE_CODE_CD) FROM Zip_Soreted_order WHERE ZIP_RANK = %s AND RACE_CODE_CD = '1'\", ZIP_RANK_VAR)\n",
    "  sql_no_hispanics<-sprintf(\"SELECT count(RACE_CODE_CD) FROM Zip_Soreted_order WHERE ZIP_RANK = %s AND RACE_CODE_CD = '2'\", ZIP_RANK_VAR)\n",
    "  \n",
    "  sql_result<-sqldf(sql)\n",
    "  sql_1<-sqldf(sql_MAX)\n",
    "  sql_2<-sqldf(sql_MIN)\n",
    "  SQL_zip_code<-sqldf(sql_ZIP)\n",
    "  sql_num_black<-sqldf(sql_no_black)\n",
    "  sql_num_white<-sqldf(sql_no_white)\n",
    "  sql_num_hispanics<-sqldf(sql_no_hispanics)\n",
    "  no_rows<-nrow(sql_result)\n",
    "  \n",
    "  file_data <- data.frame(Zip_Code= character(1), Count_Of_Blacks=character(1),Count_of_whites=character(1),Count_of_hispanics=character(1),\n",
    "                          #BLACK-WHITE PSM BEFORE AND AFTER\n",
    "                          BEFORE_PSM_BLACK_WHITE_T_VALUE_WHITE= character(1),BEFORE_PSM_BLACK_WHITE_P_VALUE= character(1), \n",
    "                          BEFORE_PSM_BLACK_WHITE_MEAN_BLACK= character(1),BEFORE_PSM_BLACK_WHITE_MEAN_WHITE = character(1),\n",
    "                          #\n",
    "                          AFTER_PSM_BLACK_WHITE_T_VALUE = character(1),AFTER_PSM_BLACK_WHITE_P_VALUE = character(1), \n",
    "                          AFTER_PSM_BLACK_WHITE_MEAN_BLACK = character(1),AFTER_PSM_BLACK_WHITE_MEAN_WHITE = character(1),\n",
    "                          #AFTER_PSM_BLACK_WHITE_MEAN_DIFFERENCE=character(1),\n",
    "                          #BLACK-HISPANICS PSM BEFORE AND AFTER\n",
    "                          BEFORE_PSM_BLACK_HISPANICS_T_VALUE= character(1),BEFORE_PSM_BLACK_HISPANICS_P_VALUE= character(1), \n",
    "                          BEFORE_PSM_BLACK_HISPANICS_MEAN_BLACK= character(1),BEFORE_PSM_BLACK_HISPANICS_MEAN_HISPANICS = character(1),\n",
    "                          #\n",
    "                          AFTER_PSM_BLACK_HISPANICS_T_VALUE = character(1),AFTER_PSM_BLACK_HISPANICS_P_VALUE = character(1), \n",
    "                          AFTER_PSM_BLACK_HISPANICS_MEAN_BLACK = character(1),AFTER_PSM_BLACK_HISPANICS_MEAN_HISPANICS = character(1),   \n",
    "                          #AFTER_PSM_BLACK_HISPANICS_MEAN_DIFFERENCE=character(1),\n",
    "                          #WHITE-HISPANICS PSM BEFORE AND AFTER)\n",
    "                          BEFORE_PSM_WHITE_HISPANICS_T_VALUE= character(1),BEFORE_PSM_WHITE_HISPANICS_P_VALUE= character(1), \n",
    "                          BEFORE_PSM_WHITE_HISPANICS_MEAN_WHITE= character(1),BEFORE_PSM_WHITE_HISPANICS_MEAN_HISPANICS = character(1),\n",
    "                          #\n",
    "                          AFTER_PSM_WHITE_HISPANICS_T_VALUE = character(1),AFTER_PSM_WHITE_HISPANICS_P_VALUE = character(1), \n",
    "                          AFTER_PSM_WHITE_HISPANICS_MEAN_WHITE = character(1),AFTER_PSM_WHITE_HISPANICS_MEAN_HISPANICS = character(1),stringsAsFactors=FALSE) \n",
    "                          #AFTER_PSM_WHITE_HISPANICS_MEAN_DIFFERENCE=character(1))\n",
    "  test<-0\n",
    "  if ((no_rows == 1) || (sql_1 == sql_2 ))\n",
    "  {\n",
    "    file_data$Zip_Code<-SQL_zip_code[1,]\n",
    "    file_data$Count_Of_Blacks<-sql_num_black[1,]\n",
    "    file_data$Count_of_whites<-sql_num_white[1,]\n",
    "    file_data$Count_of_hispanics<-sql_num_hispanics[1,]\n",
    "    ZIP_RANK_VAR<- ZIP_RANK_VAR + 1  \n",
    "    final<-rbind(final,file_data)\n",
    "    test<-2\n",
    "    next\n",
    "  }\n",
    "  else\n",
    "    {\n",
    "      file_data$Zip_Code<-SQL_zip_code[1,]\n",
    "      file_data$Count_Of_Blacks<-sql_num_black[1,]\n",
    "      file_data$Count_of_whites<-sql_num_white[1,]\n",
    "      file_data$Count_of_hispanics<-sql_num_hispanics[1,]\n",
    "      if (sql_num_black > 1 && sql_num_white > 1)\n",
    "  {\n",
    "    test<-3\n",
    "    sql_BLACK_WHITE <- sprintf(\"SELECT * FROM Zip_Soreted_order WHERE (ZIP_RANK = %s) AND (RACE_CODE_CD = '0' OR RACE_CODE_CD = '1')\", ZIP_RANK_VAR)\n",
    "    SQL_REC_BLK_WHITE<-sqldf(sql_BLACK_WHITE)\n",
    "    # T-test without PSM for SSL_SCORE and RACE_CODE_CD\n",
    "    attach(SQL_REC_BLK_WHITE)\n",
    "    t_test_results<-t.test(SSL_SCORE~RACE_CODE_CD)\n",
    "    file_data$BEFORE_PSM_BLACK_WHITE_T_VALUE_WHITE<-t_test_results$statistic\n",
    "    file_data$BEFORE_PSM_BLACK_WHITE_P_VALUE<-t_test_results$p.value\n",
    "    file_data$BEFORE_PSM_BLACK_WHITE_MEAN_BLACK<-t_test_results$estimate[1]\n",
    "    file_data$BEFORE_PSM_BLACK_WHITE_MEAN_WHITE<-t_test_results$estimate[2]\n",
    "    #Count of Black and whites and hispanics\n",
    "    file_data$Count_Of_Blacks<-sql_num_black[1,]\n",
    "    file_data$Count_of_whites<-sql_num_white[1,]\n",
    "    # PSM \n",
    "    gang_aff_check_max <- sqldf(\"SELECT MAX(PREDICTOR_RAT_GANG_AFFILIATION) FROM SQL_REC_BLK_WHITE \")\n",
    "    gang_aff_check_min <- sqldf(\"SELECT MIN(PREDICTOR_RAT_GANG_AFFILIATION) FROM SQL_REC_BLK_WHITE \")\n",
    "    if (gang_aff_check_max == gang_aff_check_min)\n",
    "    {\n",
    "            mod_match <- matchit(RACE_CODE_CD ~ PREDICTOR_RAT_AGE_AT_LATEST_ARREST+PREDICTOR_RAT_VICTIM_SHOOTING_INCIDENTS + PREDICTOR_RAT_VICTIM_BATTERY_OR_ASSAULT + \n",
    "                        PREDICTOR_RAT_ARRESTS_VIOLENT_OFFENSES + PREDICTOR_RAT_NARCOTIC_ARRESTS + PREDICTOR_RAT_TREND_IN_CRIMINAL_ACTIVITY +\n",
    "                        PREDICTOR_RAT_UUW_ARRESTS,\n",
    "                        method = \"nearest\", data = SQL_REC_BLK_WHITE)\n",
    "    }\n",
    "    else \n",
    "        {\n",
    "            mod_match <- matchit(RACE_CODE_CD ~ PREDICTOR_RAT_AGE_AT_LATEST_ARREST+PREDICTOR_RAT_VICTIM_SHOOTING_INCIDENTS + PREDICTOR_RAT_VICTIM_BATTERY_OR_ASSAULT + \n",
    "                        PREDICTOR_RAT_ARRESTS_VIOLENT_OFFENSES + PREDICTOR_RAT_GANG_AFFILIATION + PREDICTOR_RAT_NARCOTIC_ARRESTS + PREDICTOR_RAT_TREND_IN_CRIMINAL_ACTIVITY +\n",
    "                        PREDICTOR_RAT_UUW_ARRESTS,\n",
    "                        method = \"nearest\", data = SQL_REC_BLK_WHITE)\n",
    "        \n",
    "    }\n",
    "    #print(sql_result)\n",
    "    \n",
    "    matched <- match.data(mod_match)\n",
    "    attach(matched)\n",
    "\n",
    "    t_test_results<-t.test(SSL_SCORE~RACE_CODE_CD)\n",
    "    file_data$Zip_Code<-SQL_zip_code[1,]\n",
    "    file_data$AFTER_PSM_BLACK_WHITE_T_VALUE<-t_test_results$statistic\n",
    "    file_data$AFTER_PSM_BLACK_WHITE_P_VALUE<-t_test_results$p.value\n",
    "    file_data$AFTER_PSM_BLACK_WHITE_MEAN_BLACK<-t_test_results$estimate[1]\n",
    "    file_data$AFTER_PSM_BLACK_WHITE_MEAN_WHITE<-t_test_results$estimate[2]\n",
    "\n",
    "    \n",
    "  }\n",
    "  if (sql_num_black > 1 && sql_num_hispanics > 1)\n",
    "  {\n",
    "    test<-4\n",
    "    sql_BLACK_hispanics <- sprintf(\"SELECT * FROM Zip_Soreted_order WHERE (ZIP_RANK = %s) AND (RACE_CODE_CD = '0' OR RACE_CODE_CD = '2')\", ZIP_RANK_VAR)\n",
    "    SQL_REC_BLK_hispanics<-sqldf(sql_BLACK_hispanics)\n",
    "    SQL_REC_BLK_hispanics$RACE_CODE_CD[SQL_REC_BLK_hispanics$RACE_CODE_CD == \"2\"]<-\"1\"\n",
    "    \n",
    "    # T-test without PSM for SSL_SCORE and RACE_CODE_CD\n",
    "    attach(SQL_REC_BLK_hispanics)\n",
    "    t_test_results<-t.test(SSL_SCORE~RACE_CODE_CD)\n",
    "    file_data$BEFORE_PSM_BLACK_HISPANICS_T_VALUE<-t_test_results$statistic\n",
    "    file_data$BEFORE_PSM_BLACK_HISPANICS_P_VALUE<-t_test_results$p.value\n",
    "    file_data$BEFORE_PSM_BLACK_HISPANICS_MEAN_BLACK<-t_test_results$estimate[1]\n",
    "    file_data$BEFORE_PSM_BLACK_HISPANICS_MEAN_HISPANICS<-t_test_results$estimate[2]\n",
    "    #Count of Black and hispanics\n",
    "    file_data$Count_Of_Blacks<-sql_num_black[1,]\n",
    "    file_data$Count_of_hispanics<-sql_num_hispanics[1,]\n",
    "    # PSM \n",
    "      \n",
    "    gang_aff_check_max <- sqldf(\"SELECT MAX(PREDICTOR_RAT_GANG_AFFILIATION) FROM SQL_REC_BLK_hispanics \")\n",
    "    gang_aff_check_min <- sqldf(\"SELECT MIN(PREDICTOR_RAT_GANG_AFFILIATION) FROM SQL_REC_BLK_hispanics \")\n",
    "    if (gang_aff_check_max == gang_aff_check_min)\n",
    "    {\n",
    "            mod_match <- matchit(RACE_CODE_CD ~ PREDICTOR_RAT_AGE_AT_LATEST_ARREST+PREDICTOR_RAT_VICTIM_SHOOTING_INCIDENTS + PREDICTOR_RAT_VICTIM_BATTERY_OR_ASSAULT + \n",
    "                        PREDICTOR_RAT_ARRESTS_VIOLENT_OFFENSES + PREDICTOR_RAT_NARCOTIC_ARRESTS + PREDICTOR_RAT_TREND_IN_CRIMINAL_ACTIVITY +\n",
    "                        PREDICTOR_RAT_UUW_ARRESTS,\n",
    "                        method = \"nearest\", data = SQL_REC_BLK_hispanics)\n",
    "    }\n",
    "    else \n",
    "        {\n",
    "            mod_match <- matchit(RACE_CODE_CD ~ PREDICTOR_RAT_AGE_AT_LATEST_ARREST+PREDICTOR_RAT_VICTIM_SHOOTING_INCIDENTS + PREDICTOR_RAT_VICTIM_BATTERY_OR_ASSAULT + \n",
    "                        PREDICTOR_RAT_ARRESTS_VIOLENT_OFFENSES + PREDICTOR_RAT_GANG_AFFILIATION + PREDICTOR_RAT_NARCOTIC_ARRESTS + PREDICTOR_RAT_TREND_IN_CRIMINAL_ACTIVITY +\n",
    "                        PREDICTOR_RAT_UUW_ARRESTS,\n",
    "                        method = \"nearest\", data = SQL_REC_BLK_hispanics)\n",
    "        \n",
    "    }\n",
    "    #print(sql_result)\n",
    "    \n",
    "    matched <- match.data(mod_match)\n",
    "    attach(matched)\n",
    "\n",
    "    t_test_results<-t.test(SSL_SCORE~RACE_CODE_CD)\n",
    "    file_data$Zip_Code<-SQL_zip_code[1,]\n",
    "    file_data$AFTER_PSM_BLACK_HISPANICS_T_VALUE<-t_test_results$statistic\n",
    "    file_data$AFTER_PSM_BLACK_HISPANICS_P_VALUE<-t_test_results$p.value\n",
    "    file_data$AFTER_PSM_BLACK_HISPANICS_MEAN_BLACK<-t_test_results$estimate[1]\n",
    "    file_data$AFTER_PSM_BLACK_HISPANICS_MEAN_HISPANICS<-t_test_results$estimate[2]\n",
    "    \n",
    "  }\n",
    "  if (sql_num_white > 1 && sql_num_hispanics > 1)\n",
    "  {\n",
    "    test<-5\n",
    "    sql_white_hispanics <- sprintf(\"SELECT * FROM Zip_Soreted_order WHERE (ZIP_RANK = %s) AND (RACE_CODE_CD = '1' OR RACE_CODE_CD = '2')\", ZIP_RANK_VAR)\n",
    "    SQL_REC_white_hispanics<-sqldf(sql_white_hispanics)\n",
    "    SQL_REC_white_hispanics$RACE_CODE_CD[SQL_REC_white_hispanics$RACE_CODE_CD == \"1\"]<-\"0\"\n",
    "    SQL_REC_white_hispanics$RACE_CODE_CD[SQL_REC_white_hispanics$RACE_CODE_CD == \"2\"]<-\"1\"\n",
    "    \n",
    "    # T-test without PSM for SSL_SCORE and RACE_CODE_CD\n",
    "    attach(SQL_REC_white_hispanics)\n",
    "    t_test_results<-t.test(SSL_SCORE~RACE_CODE_CD)\n",
    "    file_data$BEFORE_PSM_WHITE_HISPANICS_T_VALUE<-t_test_results$statistic\n",
    "    file_data$BEFORE_PSM_WHITE_HISPANICS_P_VALUE<-t_test_results$p.value\n",
    "    file_data$BEFORE_PSM_WHITE_HISPANICS_MEAN_WHITE<-t_test_results$estimate[1]\n",
    "    file_data$BEFORE_PSM_WHITE_HISPANICS_MEAN_HISPANICS<-t_test_results$estimate[2]\n",
    "    #Count of Black and hispanics\n",
    "    file_data$Count_of_whites<-sql_num_white[1,]\n",
    "    file_data$Count_of_hispanics<-sql_num_hispanics[1,]\n",
    "    # PSM \n",
    "    gang_aff_check_max <- sqldf(\"SELECT MAX(PREDICTOR_RAT_GANG_AFFILIATION) FROM SQL_REC_white_hispanics \")\n",
    "    gang_aff_check_min <- sqldf(\"SELECT MIN(PREDICTOR_RAT_GANG_AFFILIATION) FROM SQL_REC_white_hispanics \")\n",
    "    if (gang_aff_check_max == gang_aff_check_min)\n",
    "    {\n",
    "            mod_match <- matchit(RACE_CODE_CD ~ PREDICTOR_RAT_AGE_AT_LATEST_ARREST+PREDICTOR_RAT_VICTIM_SHOOTING_INCIDENTS + PREDICTOR_RAT_VICTIM_BATTERY_OR_ASSAULT + \n",
    "                        PREDICTOR_RAT_ARRESTS_VIOLENT_OFFENSES + PREDICTOR_RAT_NARCOTIC_ARRESTS + PREDICTOR_RAT_TREND_IN_CRIMINAL_ACTIVITY +\n",
    "                        PREDICTOR_RAT_UUW_ARRESTS,\n",
    "                        method = \"nearest\", data = SQL_REC_white_hispanics)\n",
    "    }\n",
    "    else \n",
    "        {\n",
    "            mod_match <- matchit(RACE_CODE_CD ~ PREDICTOR_RAT_AGE_AT_LATEST_ARREST+PREDICTOR_RAT_VICTIM_SHOOTING_INCIDENTS + PREDICTOR_RAT_VICTIM_BATTERY_OR_ASSAULT + \n",
    "                        PREDICTOR_RAT_ARRESTS_VIOLENT_OFFENSES + PREDICTOR_RAT_GANG_AFFILIATION + PREDICTOR_RAT_NARCOTIC_ARRESTS + PREDICTOR_RAT_TREND_IN_CRIMINAL_ACTIVITY +\n",
    "                        PREDICTOR_RAT_UUW_ARRESTS,\n",
    "                        method = \"nearest\", data = SQL_REC_white_hispanics)\n",
    "        \n",
    "    }\n",
    "\n",
    "    \n",
    "   \n",
    "    matched <- match.data(mod_match)\n",
    "    attach(matched)\n",
    "\n",
    "    t_test_results<-t.test(SSL_SCORE~RACE_CODE_CD)\n",
    "    file_data$Zip_Code<-SQL_zip_code[1,]\n",
    "    file_data$AFTER_PSM_WHITE_HISPANICS_T_VALUE<-t_test_results$statistic\n",
    "    file_data$AFTER_PSM_WHITE_HISPANICS_P_VALUE<-t_test_results$p.value\n",
    "    file_data$AFTER_PSM_WHITE_HISPANICS_MEAN_WHITE<-t_test_results$estimate[1]\n",
    "    file_data$AFTER_PSM_WHITE_HISPANICS_MEAN_HISPANICS<-t_test_results$estimate[2]\n",
    "    \n",
    "  }\n",
    "    }\n",
    "  \n",
    "  \n",
    "  ZIP_RANK_VAR<- ZIP_RANK_VAR + 1\n",
    "  final<-rbind(final,file_data)\n",
    "}\n"
   ]
  },
  {
   "cell_type": "code",
   "execution_count": 19,
   "metadata": {},
   "outputs": [
    {
     "name": "stderr",
     "output_type": "stream",
     "text": [
      "Loading required package: rJava\n",
      "Loading required package: xlsxjars\n"
     ]
    },
    {
     "data": {
      "text/html": [
       "60"
      ],
      "text/latex": [
       "60"
      ],
      "text/markdown": [
       "60"
      ],
      "text/plain": [
       "[1] 60"
      ]
     },
     "metadata": {},
     "output_type": "display_data"
    }
   ],
   "source": [
    "library(xlsx)\n",
    "nrow(final)"
   ]
  },
  {
   "cell_type": "code",
   "execution_count": 28,
   "metadata": {
    "collapsed": true
   },
   "outputs": [],
   "source": [
    "write.xlsx(final, file = \"Algorithmic_bias_by_zip_.xlsx\",row.names=FALSE)"
   ]
  }
 ],
 "metadata": {
  "kernelspec": {
   "display_name": "R",
   "language": "R",
   "name": "ir"
  },
  "language_info": {
   "codemirror_mode": "r",
   "file_extension": ".r",
   "mimetype": "text/x-r-source",
   "name": "R",
   "pygments_lexer": "r",
   "version": "3.3.2"
  }
 },
 "nbformat": 4,
 "nbformat_minor": 2
}
