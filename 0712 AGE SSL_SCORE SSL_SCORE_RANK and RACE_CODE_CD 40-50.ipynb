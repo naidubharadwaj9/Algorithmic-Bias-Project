{
 "cells": [
  {
   "cell_type": "code",
   "execution_count": 1,
   "metadata": {},
   "outputs": [
    {
     "name": "stdout",
     "output_type": "stream",
     "text": [
      "The Number of Rows in Initial Data is 43707"
     ]
    }
   ],
   "source": [
    "raw_data <- read.csv(\"SSL_RAT_RACE_CODE_40_50.csv\", sep=\",\", header=T, strip.white = T, na.strings = c(\"NA\",\"NaN\",\"\",\"?\"))\n",
    "#Converting the \".\" in column names to \"_\"\n",
    "names(raw_data)<-gsub(\"\\\\.\", \"_\", names(raw_data))\n",
    "cat(\"The Number of Rows in Initial Data is\", nrow(raw_data))"
   ]
  },
  {
   "cell_type": "code",
   "execution_count": 2,
   "metadata": {
    "collapsed": true
   },
   "outputs": [],
   "source": [
    "final_features<-raw_data[,c('SSL_SCORE','SSL_SCORE_RANK','PREDICTOR_RAT_AGE_AT_LATEST_ARREST','PREDICTOR_RAT_VICTIM_SHOOTING_INCIDENTS',\n",
    "                            'PREDICTOR_RAT_VICTIM_BATTERY_OR_ASSAULT','PREDICTOR_RAT_ARRESTS_VIOLENT_OFFENSES','PREDICTOR_RAT_GANG_AFFILIATION', \n",
    "                           'PREDICTOR_RAT_NARCOTIC_ARRESTS','PREDICTOR_RAT_TREND_IN_CRIMINAL_ACTIVITY','PREDICTOR_RAT_UUW_ARRESTS','RACE_CODE_CD')]"
   ]
  },
  {
   "cell_type": "code",
   "execution_count": 3,
   "metadata": {},
   "outputs": [
    {
     "data": {
      "text/html": [
       "43707"
      ],
      "text/latex": [
       "43707"
      ],
      "text/markdown": [
       "43707"
      ],
      "text/plain": [
       "[1] 43707"
      ]
     },
     "metadata": {},
     "output_type": "display_data"
    }
   ],
   "source": [
    "complete_data <- final_features[complete.cases(final_features),]\n",
    "nrow(complete_data)"
   ]
  },
  {
   "cell_type": "code",
   "execution_count": 4,
   "metadata": {},
   "outputs": [
    {
     "data": {
      "text/html": [
       "<table>\n",
       "<thead><tr><th scope=col>SSL_SCORE</th><th scope=col>SSL_SCORE_RANK</th><th scope=col>PREDICTOR_RAT_AGE_AT_LATEST_ARREST</th><th scope=col>PREDICTOR_RAT_VICTIM_SHOOTING_INCIDENTS</th><th scope=col>PREDICTOR_RAT_VICTIM_BATTERY_OR_ASSAULT</th><th scope=col>PREDICTOR_RAT_ARRESTS_VIOLENT_OFFENSES</th><th scope=col>PREDICTOR_RAT_GANG_AFFILIATION</th><th scope=col>PREDICTOR_RAT_NARCOTIC_ARRESTS</th><th scope=col>PREDICTOR_RAT_TREND_IN_CRIMINAL_ACTIVITY</th><th scope=col>PREDICTOR_RAT_UUW_ARRESTS</th><th scope=col>RACE_CODE_CD</th></tr></thead>\n",
       "<tbody>\n",
       "\t<tr><td>365  </td><td>13017</td><td>40-50</td><td>2    </td><td>3    </td><td>0    </td><td>1    </td><td>0    </td><td> 0.2 </td><td>0    </td><td>0    </td></tr>\n",
       "\t<tr><td>364  </td><td>13670</td><td>40-50</td><td>0    </td><td>0    </td><td>5    </td><td>1    </td><td>2    </td><td> 0.4 </td><td>4    </td><td>0    </td></tr>\n",
       "\t<tr><td>355  </td><td>20837</td><td>40-50</td><td>0    </td><td>4    </td><td>0    </td><td>0    </td><td>1    </td><td> 0.2 </td><td>0    </td><td>0    </td></tr>\n",
       "\t<tr><td>355  </td><td>20837</td><td>40-50</td><td>0    </td><td>0    </td><td>0    </td><td>0    </td><td>2    </td><td>-1.0 </td><td>0    </td><td>0    </td></tr>\n",
       "\t<tr><td>350  </td><td>27089</td><td>40-50</td><td>0    </td><td>0    </td><td>0    </td><td>0    </td><td>1    </td><td>-0.1 </td><td>0    </td><td>0    </td></tr>\n",
       "\t<tr><td>349  </td><td>29213</td><td>40-50</td><td>0    </td><td>0    </td><td>0    </td><td>0    </td><td>1    </td><td>-0.6 </td><td>0    </td><td>0    </td></tr>\n",
       "</tbody>\n",
       "</table>\n"
      ],
      "text/latex": [
       "\\begin{tabular}{r|lllllllllll}\n",
       " SSL\\_SCORE & SSL\\_SCORE\\_RANK & PREDICTOR\\_RAT\\_AGE\\_AT\\_LATEST\\_ARREST & PREDICTOR\\_RAT\\_VICTIM\\_SHOOTING\\_INCIDENTS & PREDICTOR\\_RAT\\_VICTIM\\_BATTERY\\_OR\\_ASSAULT & PREDICTOR\\_RAT\\_ARRESTS\\_VIOLENT\\_OFFENSES & PREDICTOR\\_RAT\\_GANG\\_AFFILIATION & PREDICTOR\\_RAT\\_NARCOTIC\\_ARRESTS & PREDICTOR\\_RAT\\_TREND\\_IN\\_CRIMINAL\\_ACTIVITY & PREDICTOR\\_RAT\\_UUW\\_ARRESTS & RACE\\_CODE\\_CD\\\\\n",
       "\\hline\n",
       "\t 365   & 13017 & 40-50 & 2     & 3     & 0     & 1     & 0     &  0.2  & 0     & 0    \\\\\n",
       "\t 364   & 13670 & 40-50 & 0     & 0     & 5     & 1     & 2     &  0.4  & 4     & 0    \\\\\n",
       "\t 355   & 20837 & 40-50 & 0     & 4     & 0     & 0     & 1     &  0.2  & 0     & 0    \\\\\n",
       "\t 355   & 20837 & 40-50 & 0     & 0     & 0     & 0     & 2     & -1.0  & 0     & 0    \\\\\n",
       "\t 350   & 27089 & 40-50 & 0     & 0     & 0     & 0     & 1     & -0.1  & 0     & 0    \\\\\n",
       "\t 349   & 29213 & 40-50 & 0     & 0     & 0     & 0     & 1     & -0.6  & 0     & 0    \\\\\n",
       "\\end{tabular}\n"
      ],
      "text/markdown": [
       "\n",
       "SSL_SCORE | SSL_SCORE_RANK | PREDICTOR_RAT_AGE_AT_LATEST_ARREST | PREDICTOR_RAT_VICTIM_SHOOTING_INCIDENTS | PREDICTOR_RAT_VICTIM_BATTERY_OR_ASSAULT | PREDICTOR_RAT_ARRESTS_VIOLENT_OFFENSES | PREDICTOR_RAT_GANG_AFFILIATION | PREDICTOR_RAT_NARCOTIC_ARRESTS | PREDICTOR_RAT_TREND_IN_CRIMINAL_ACTIVITY | PREDICTOR_RAT_UUW_ARRESTS | RACE_CODE_CD | \n",
       "|---|---|---|---|---|---|\n",
       "| 365   | 13017 | 40-50 | 2     | 3     | 0     | 1     | 0     |  0.2  | 0     | 0     | \n",
       "| 364   | 13670 | 40-50 | 0     | 0     | 5     | 1     | 2     |  0.4  | 4     | 0     | \n",
       "| 355   | 20837 | 40-50 | 0     | 4     | 0     | 0     | 1     |  0.2  | 0     | 0     | \n",
       "| 355   | 20837 | 40-50 | 0     | 0     | 0     | 0     | 2     | -1.0  | 0     | 0     | \n",
       "| 350   | 27089 | 40-50 | 0     | 0     | 0     | 0     | 1     | -0.1  | 0     | 0     | \n",
       "| 349   | 29213 | 40-50 | 0     | 0     | 0     | 0     | 1     | -0.6  | 0     | 0     | \n",
       "\n",
       "\n"
      ],
      "text/plain": [
       "  SSL_SCORE SSL_SCORE_RANK PREDICTOR_RAT_AGE_AT_LATEST_ARREST\n",
       "1 365       13017          40-50                             \n",
       "2 364       13670          40-50                             \n",
       "3 355       20837          40-50                             \n",
       "4 355       20837          40-50                             \n",
       "5 350       27089          40-50                             \n",
       "6 349       29213          40-50                             \n",
       "  PREDICTOR_RAT_VICTIM_SHOOTING_INCIDENTS\n",
       "1 2                                      \n",
       "2 0                                      \n",
       "3 0                                      \n",
       "4 0                                      \n",
       "5 0                                      \n",
       "6 0                                      \n",
       "  PREDICTOR_RAT_VICTIM_BATTERY_OR_ASSAULT\n",
       "1 3                                      \n",
       "2 0                                      \n",
       "3 4                                      \n",
       "4 0                                      \n",
       "5 0                                      \n",
       "6 0                                      \n",
       "  PREDICTOR_RAT_ARRESTS_VIOLENT_OFFENSES PREDICTOR_RAT_GANG_AFFILIATION\n",
       "1 0                                      1                             \n",
       "2 5                                      1                             \n",
       "3 0                                      0                             \n",
       "4 0                                      0                             \n",
       "5 0                                      0                             \n",
       "6 0                                      0                             \n",
       "  PREDICTOR_RAT_NARCOTIC_ARRESTS PREDICTOR_RAT_TREND_IN_CRIMINAL_ACTIVITY\n",
       "1 0                               0.2                                    \n",
       "2 2                               0.4                                    \n",
       "3 1                               0.2                                    \n",
       "4 2                              -1.0                                    \n",
       "5 1                              -0.1                                    \n",
       "6 1                              -0.6                                    \n",
       "  PREDICTOR_RAT_UUW_ARRESTS RACE_CODE_CD\n",
       "1 0                         0           \n",
       "2 4                         0           \n",
       "3 0                         0           \n",
       "4 0                         0           \n",
       "5 0                         0           \n",
       "6 0                         0           "
      ]
     },
     "metadata": {},
     "output_type": "display_data"
    }
   ],
   "source": [
    "head(complete_data)"
   ]
  },
  {
   "cell_type": "code",
   "execution_count": 5,
   "metadata": {},
   "outputs": [
    {
     "name": "stderr",
     "output_type": "stream",
     "text": [
      "Warning message:\n",
      "\"package 'MatchIt' was built under R version 3.3.3\"Warning message:\n",
      "\"package 'dplyr' was built under R version 3.3.3\"\n",
      "Attaching package: 'dplyr'\n",
      "\n",
      "The following objects are masked from 'package:stats':\n",
      "\n",
      "    filter, lag\n",
      "\n",
      "The following objects are masked from 'package:base':\n",
      "\n",
      "    intersect, setdiff, setequal, union\n",
      "\n",
      "Warning message:\n",
      "\"package 'ggplot2' was built under R version 3.3.3\""
     ]
    }
   ],
   "source": [
    "library(MatchIt)\n",
    "library(dplyr)\n",
    "library(ggplot2)"
   ]
  },
  {
   "cell_type": "code",
   "execution_count": 6,
   "metadata": {},
   "outputs": [
    {
     "data": {
      "text/html": [
       "<table>\n",
       "<thead><tr><th scope=col>RACE_CODE_CD</th><th scope=col>NUMBER_OF_PEOPLE</th><th scope=col>MEAN_SSL_SCORE</th><th scope=col>STD_ERROR</th></tr></thead>\n",
       "<tbody>\n",
       "\t<tr><td>0        </td><td>30510    </td><td>224.1352 </td><td>0.1008955</td></tr>\n",
       "\t<tr><td>1        </td><td>13197    </td><td>221.2455 </td><td>0.1322928</td></tr>\n",
       "</tbody>\n",
       "</table>\n"
      ],
      "text/latex": [
       "\\begin{tabular}{r|llll}\n",
       " RACE\\_CODE\\_CD & NUMBER\\_OF\\_PEOPLE & MEAN\\_SSL\\_SCORE & STD\\_ERROR\\\\\n",
       "\\hline\n",
       "\t 0         & 30510     & 224.1352  & 0.1008955\\\\\n",
       "\t 1         & 13197     & 221.2455  & 0.1322928\\\\\n",
       "\\end{tabular}\n"
      ],
      "text/markdown": [
       "\n",
       "RACE_CODE_CD | NUMBER_OF_PEOPLE | MEAN_SSL_SCORE | STD_ERROR | \n",
       "|---|---|\n",
       "| 0         | 30510     | 224.1352  | 0.1008955 | \n",
       "| 1         | 13197     | 221.2455  | 0.1322928 | \n",
       "\n",
       "\n"
      ],
      "text/plain": [
       "  RACE_CODE_CD NUMBER_OF_PEOPLE MEAN_SSL_SCORE STD_ERROR\n",
       "1 0            30510            224.1352       0.1008955\n",
       "2 1            13197            221.2455       0.1322928"
      ]
     },
     "metadata": {},
     "output_type": "display_data"
    }
   ],
   "source": [
    "#SSL_SCORE\n",
    "complete_data %>%\n",
    "  group_by(RACE_CODE_CD) %>%\n",
    "  summarise(NUMBER_OF_PEOPLE = n(),\n",
    "            MEAN_SSL_SCORE = mean(SSL_SCORE),\n",
    "            STD_ERROR = sd(SSL_SCORE) / sqrt(NUMBER_OF_PEOPLE))"
   ]
  },
  {
   "cell_type": "code",
   "execution_count": 7,
   "metadata": {},
   "outputs": [
    {
     "data": {
      "text/html": [
       "<table>\n",
       "<thead><tr><th scope=col>RACE_CODE_CD</th><th scope=col>NUMBER_OF_PEOPLE</th><th scope=col>MEAN_SSL_SCORE_RANK</th><th scope=col>STD_ERROR</th></tr></thead>\n",
       "<tbody>\n",
       "\t<tr><td>0       </td><td>30510   </td><td>322401.5</td><td>153.5867</td></tr>\n",
       "\t<tr><td>1       </td><td>13197   </td><td>326862.5</td><td>183.5304</td></tr>\n",
       "</tbody>\n",
       "</table>\n"
      ],
      "text/latex": [
       "\\begin{tabular}{r|llll}\n",
       " RACE\\_CODE\\_CD & NUMBER\\_OF\\_PEOPLE & MEAN\\_SSL\\_SCORE\\_RANK & STD\\_ERROR\\\\\n",
       "\\hline\n",
       "\t 0        & 30510    & 322401.5 & 153.5867\\\\\n",
       "\t 1        & 13197    & 326862.5 & 183.5304\\\\\n",
       "\\end{tabular}\n"
      ],
      "text/markdown": [
       "\n",
       "RACE_CODE_CD | NUMBER_OF_PEOPLE | MEAN_SSL_SCORE_RANK | STD_ERROR | \n",
       "|---|---|\n",
       "| 0        | 30510    | 322401.5 | 153.5867 | \n",
       "| 1        | 13197    | 326862.5 | 183.5304 | \n",
       "\n",
       "\n"
      ],
      "text/plain": [
       "  RACE_CODE_CD NUMBER_OF_PEOPLE MEAN_SSL_SCORE_RANK STD_ERROR\n",
       "1 0            30510            322401.5            153.5867 \n",
       "2 1            13197            326862.5            183.5304 "
      ]
     },
     "metadata": {},
     "output_type": "display_data"
    }
   ],
   "source": [
    "# For SSL_SCORE_RANK\n",
    "complete_data %>%\n",
    "  group_by(RACE_CODE_CD) %>%\n",
    "  summarise(NUMBER_OF_PEOPLE = n(),\n",
    "            MEAN_SSL_SCORE_RANK = mean(SSL_SCORE_RANK),\n",
    "            STD_ERROR = sd(SSL_SCORE_RANK) / sqrt(NUMBER_OF_PEOPLE))"
   ]
  },
  {
   "cell_type": "code",
   "execution_count": 8,
   "metadata": {},
   "outputs": [
    {
     "data": {
      "text/plain": [
       "\n",
       "\tWelch Two Sample t-test\n",
       "\n",
       "data:  SSL_SCORE by RACE_CODE_CD\n",
       "t = 17.368, df = 28798, p-value < 2.2e-16\n",
       "alternative hypothesis: true difference in means is not equal to 0\n",
       "95 percent confidence interval:\n",
       " 2.563552 3.215765\n",
       "sample estimates:\n",
       "mean in group 0 mean in group 1 \n",
       "       224.1352        221.2455 \n"
      ]
     },
     "metadata": {},
     "output_type": "display_data"
    }
   ],
   "source": [
    "# T-test without PSM for SSL_SCORE and RACE_CODE_CD\n",
    "attach(complete_data)\n",
    "t.test(SSL_SCORE~RACE_CODE_CD)"
   ]
  },
  {
   "cell_type": "code",
   "execution_count": 9,
   "metadata": {},
   "outputs": [
    {
     "data": {
      "text/plain": [
       "\n",
       "\tWelch Two Sample t-test\n",
       "\n",
       "data:  SSL_SCORE_RANK by RACE_CODE_CD\n",
       "t = -18.641, df = 31474, p-value < 2.2e-16\n",
       "alternative hypothesis: true difference in means is not equal to 0\n",
       "95 percent confidence interval:\n",
       " -4930.078 -3991.939\n",
       "sample estimates:\n",
       "mean in group 0 mean in group 1 \n",
       "       322401.5        326862.5 \n"
      ]
     },
     "metadata": {},
     "output_type": "display_data"
    }
   ],
   "source": [
    "# T-test without PSM for SSL_SCORE_RANK and RACE_CODE_CD\n",
    "t.test(SSL_SCORE_RANK~RACE_CODE_CD)"
   ]
  },
  {
   "cell_type": "code",
   "execution_count": 10,
   "metadata": {
    "collapsed": true
   },
   "outputs": [],
   "source": [
    "mod_match <- matchit(RACE_CODE_CD ~ PREDICTOR_RAT_VICTIM_SHOOTING_INCIDENTS + PREDICTOR_RAT_VICTIM_BATTERY_OR_ASSAULT + \n",
    "            PREDICTOR_RAT_ARRESTS_VIOLENT_OFFENSES + PREDICTOR_RAT_GANG_AFFILIATION + PREDICTOR_RAT_NARCOTIC_ARRESTS + PREDICTOR_RAT_TREND_IN_CRIMINAL_ACTIVITY +\n",
    "            PREDICTOR_RAT_UUW_ARRESTS,\n",
    "                     method = \"nearest\", data = complete_data)"
   ]
  },
  {
   "cell_type": "code",
   "execution_count": 11,
   "metadata": {},
   "outputs": [
    {
     "data": {
      "text/plain": [
       "\n",
       "Call: \n",
       "matchit(formula = RACE_CODE_CD ~ PREDICTOR_RAT_VICTIM_SHOOTING_INCIDENTS + \n",
       "    PREDICTOR_RAT_VICTIM_BATTERY_OR_ASSAULT + PREDICTOR_RAT_ARRESTS_VIOLENT_OFFENSES + \n",
       "    PREDICTOR_RAT_GANG_AFFILIATION + PREDICTOR_RAT_NARCOTIC_ARRESTS + \n",
       "    PREDICTOR_RAT_TREND_IN_CRIMINAL_ACTIVITY + PREDICTOR_RAT_UUW_ARRESTS, \n",
       "    data = complete_data, method = \"nearest\")\n",
       "\n",
       "Sample sizes:\n",
       "          Control Treated\n",
       "All         30510   13197\n",
       "Matched     13197   13197\n",
       "Unmatched   17313       0\n",
       "Discarded       0       0\n"
      ]
     },
     "metadata": {},
     "output_type": "display_data"
    }
   ],
   "source": [
    "mod_match"
   ]
  },
  {
   "cell_type": "code",
   "execution_count": 12,
   "metadata": {
    "collapsed": true
   },
   "outputs": [],
   "source": [
    "matched <- match.data(mod_match)\n",
    "matched_copy<-matched"
   ]
  },
  {
   "cell_type": "code",
   "execution_count": 13,
   "metadata": {},
   "outputs": [
    {
     "name": "stdout",
     "output_type": "stream",
     "text": [
      "[1] \"To identify the units, use first mouse button; to stop, use second.\"\n"
     ]
    },
    {
     "data": {
      "text/html": [],
      "text/latex": [],
      "text/markdown": [],
      "text/plain": [
       "integer(0)"
      ]
     },
     "metadata": {},
     "output_type": "display_data"
    },
    {
     "data": {
      "image/png": "[encoded data removed]",
      "text/plain": [
       "Plot with title \"Distribution of Propensity Scores\""
      ]
     },
     "metadata": {},
     "output_type": "display_data"
    }
   ],
   "source": [
    "plot(mod_match, type = \"jitter\")"
   ]
  },
  {
   "cell_type": "code",
   "execution_count": 14,
   "metadata": {},
   "outputs": [
    {
     "data": {
      "image/png": "[encoded data removed]",
      "text/plain": [
       "Plot with title \"Matched Control\""
      ]
     },
     "metadata": {},
     "output_type": "display_data"
    }
   ],
   "source": [
    "plot(mod_match, type = \"hist\")"
   ]
  },
  {
   "cell_type": "code",
   "execution_count": 15,
   "metadata": {},
   "outputs": [
    {
     "data": {
      "text/html": [
       "<table>\n",
       "<thead><tr><th></th><th scope=col>SSL_SCORE</th><th scope=col>SSL_SCORE_RANK</th><th scope=col>PREDICTOR_RAT_AGE_AT_LATEST_ARREST</th><th scope=col>PREDICTOR_RAT_VICTIM_SHOOTING_INCIDENTS</th><th scope=col>PREDICTOR_RAT_VICTIM_BATTERY_OR_ASSAULT</th><th scope=col>PREDICTOR_RAT_ARRESTS_VIOLENT_OFFENSES</th><th scope=col>PREDICTOR_RAT_GANG_AFFILIATION</th><th scope=col>PREDICTOR_RAT_NARCOTIC_ARRESTS</th><th scope=col>PREDICTOR_RAT_TREND_IN_CRIMINAL_ACTIVITY</th><th scope=col>PREDICTOR_RAT_UUW_ARRESTS</th><th scope=col>RACE_CODE_CD</th><th scope=col>distance</th><th scope=col>weights</th></tr></thead>\n",
       "<tbody>\n",
       "\t<tr><th scope=row>12</th><td>340        </td><td> 46613     </td><td>40-50      </td><td>0          </td><td>1          </td><td>2          </td><td>1          </td><td>2          </td><td> 0.9       </td><td>1          </td><td>1          </td><td>0.003736643</td><td>1          </td></tr>\n",
       "\t<tr><th scope=row>18</th><td>331        </td><td> 69037     </td><td>40-50      </td><td>0          </td><td>0          </td><td>5          </td><td>0          </td><td>0          </td><td> 1.5       </td><td>0          </td><td>1          </td><td>0.240185429</td><td>1          </td></tr>\n",
       "\t<tr><th scope=row>23</th><td>325        </td><td> 89245     </td><td>40-50      </td><td>0          </td><td>4          </td><td>0          </td><td>1          </td><td>0          </td><td>-1.2       </td><td>0          </td><td>1          </td><td>0.001559431</td><td>1          </td></tr>\n",
       "\t<tr><th scope=row>41</th><td>313        </td><td>128392     </td><td>40-50      </td><td>0          </td><td>0          </td><td>0          </td><td>0          </td><td>0          </td><td>-0.2       </td><td>0          </td><td>0          </td><td>0.377899722</td><td>1          </td></tr>\n",
       "\t<tr><th scope=row>44</th><td>311        </td><td>134615     </td><td>40-50      </td><td>0          </td><td>0          </td><td>1          </td><td>1          </td><td>3          </td><td> 0.6       </td><td>1          </td><td>0          </td><td>0.005753267</td><td>1          </td></tr>\n",
       "\t<tr><th scope=row>59</th><td>308        </td><td>146459     </td><td>40-50      </td><td>0          </td><td>1          </td><td>1          </td><td>1          </td><td>3          </td><td> 1.9       </td><td>0          </td><td>1          </td><td>0.005781289</td><td>1          </td></tr>\n",
       "</tbody>\n",
       "</table>\n"
      ],
      "text/latex": [
       "\\begin{tabular}{r|lllllllllllll}\n",
       "  & SSL\\_SCORE & SSL\\_SCORE\\_RANK & PREDICTOR\\_RAT\\_AGE\\_AT\\_LATEST\\_ARREST & PREDICTOR\\_RAT\\_VICTIM\\_SHOOTING\\_INCIDENTS & PREDICTOR\\_RAT\\_VICTIM\\_BATTERY\\_OR\\_ASSAULT & PREDICTOR\\_RAT\\_ARRESTS\\_VIOLENT\\_OFFENSES & PREDICTOR\\_RAT\\_GANG\\_AFFILIATION & PREDICTOR\\_RAT\\_NARCOTIC\\_ARRESTS & PREDICTOR\\_RAT\\_TREND\\_IN\\_CRIMINAL\\_ACTIVITY & PREDICTOR\\_RAT\\_UUW\\_ARRESTS & RACE\\_CODE\\_CD & distance & weights\\\\\n",
       "\\hline\n",
       "\t12 & 340         &  46613      & 40-50       & 0           & 1           & 2           & 1           & 2           &  0.9        & 1           & 1           & 0.003736643 & 1          \\\\\n",
       "\t18 & 331         &  69037      & 40-50       & 0           & 0           & 5           & 0           & 0           &  1.5        & 0           & 1           & 0.240185429 & 1          \\\\\n",
       "\t23 & 325         &  89245      & 40-50       & 0           & 4           & 0           & 1           & 0           & -1.2        & 0           & 1           & 0.001559431 & 1          \\\\\n",
       "\t41 & 313         & 128392      & 40-50       & 0           & 0           & 0           & 0           & 0           & -0.2        & 0           & 0           & 0.377899722 & 1          \\\\\n",
       "\t44 & 311         & 134615      & 40-50       & 0           & 0           & 1           & 1           & 3           &  0.6        & 1           & 0           & 0.005753267 & 1          \\\\\n",
       "\t59 & 308         & 146459      & 40-50       & 0           & 1           & 1           & 1           & 3           &  1.9        & 0           & 1           & 0.005781289 & 1          \\\\\n",
       "\\end{tabular}\n"
      ],
      "text/markdown": [
       "\n",
       "| <!--/--> | SSL_SCORE | SSL_SCORE_RANK | PREDICTOR_RAT_AGE_AT_LATEST_ARREST | PREDICTOR_RAT_VICTIM_SHOOTING_INCIDENTS | PREDICTOR_RAT_VICTIM_BATTERY_OR_ASSAULT | PREDICTOR_RAT_ARRESTS_VIOLENT_OFFENSES | PREDICTOR_RAT_GANG_AFFILIATION | PREDICTOR_RAT_NARCOTIC_ARRESTS | PREDICTOR_RAT_TREND_IN_CRIMINAL_ACTIVITY | PREDICTOR_RAT_UUW_ARRESTS | RACE_CODE_CD | distance | weights | \n",
       "|---|---|---|---|---|---|\n",
       "| 12 | 340         |  46613      | 40-50       | 0           | 1           | 2           | 1           | 2           |  0.9        | 1           | 1           | 0.003736643 | 1           | \n",
       "| 18 | 331         |  69037      | 40-50       | 0           | 0           | 5           | 0           | 0           |  1.5        | 0           | 1           | 0.240185429 | 1           | \n",
       "| 23 | 325         |  89245      | 40-50       | 0           | 4           | 0           | 1           | 0           | -1.2        | 0           | 1           | 0.001559431 | 1           | \n",
       "| 41 | 313         | 128392      | 40-50       | 0           | 0           | 0           | 0           | 0           | -0.2        | 0           | 0           | 0.377899722 | 1           | \n",
       "| 44 | 311         | 134615      | 40-50       | 0           | 0           | 1           | 1           | 3           |  0.6        | 1           | 0           | 0.005753267 | 1           | \n",
       "| 59 | 308         | 146459      | 40-50       | 0           | 1           | 1           | 1           | 3           |  1.9        | 0           | 1           | 0.005781289 | 1           | \n",
       "\n",
       "\n"
      ],
      "text/plain": [
       "   SSL_SCORE SSL_SCORE_RANK PREDICTOR_RAT_AGE_AT_LATEST_ARREST\n",
       "12 340        46613         40-50                             \n",
       "18 331        69037         40-50                             \n",
       "23 325        89245         40-50                             \n",
       "41 313       128392         40-50                             \n",
       "44 311       134615         40-50                             \n",
       "59 308       146459         40-50                             \n",
       "   PREDICTOR_RAT_VICTIM_SHOOTING_INCIDENTS\n",
       "12 0                                      \n",
       "18 0                                      \n",
       "23 0                                      \n",
       "41 0                                      \n",
       "44 0                                      \n",
       "59 0                                      \n",
       "   PREDICTOR_RAT_VICTIM_BATTERY_OR_ASSAULT\n",
       "12 1                                      \n",
       "18 0                                      \n",
       "23 4                                      \n",
       "41 0                                      \n",
       "44 0                                      \n",
       "59 1                                      \n",
       "   PREDICTOR_RAT_ARRESTS_VIOLENT_OFFENSES PREDICTOR_RAT_GANG_AFFILIATION\n",
       "12 2                                      1                             \n",
       "18 5                                      0                             \n",
       "23 0                                      1                             \n",
       "41 0                                      0                             \n",
       "44 1                                      1                             \n",
       "59 1                                      1                             \n",
       "   PREDICTOR_RAT_NARCOTIC_ARRESTS PREDICTOR_RAT_TREND_IN_CRIMINAL_ACTIVITY\n",
       "12 2                               0.9                                    \n",
       "18 0                               1.5                                    \n",
       "23 0                              -1.2                                    \n",
       "41 0                              -0.2                                    \n",
       "44 3                               0.6                                    \n",
       "59 3                               1.9                                    \n",
       "   PREDICTOR_RAT_UUW_ARRESTS RACE_CODE_CD distance    weights\n",
       "12 1                         1            0.003736643 1      \n",
       "18 0                         1            0.240185429 1      \n",
       "23 0                         1            0.001559431 1      \n",
       "41 0                         0            0.377899722 1      \n",
       "44 1                         0            0.005753267 1      \n",
       "59 0                         1            0.005781289 1      "
      ]
     },
     "metadata": {},
     "output_type": "display_data"
    }
   ],
   "source": [
    "head(matched)"
   ]
  },
  {
   "cell_type": "code",
   "execution_count": 16,
   "metadata": {},
   "outputs": [
    {
     "name": "stderr",
     "output_type": "stream",
     "text": [
      "The following objects are masked from complete_data:\n",
      "\n",
      "    PREDICTOR_RAT_AGE_AT_LATEST_ARREST,\n",
      "    PREDICTOR_RAT_ARRESTS_VIOLENT_OFFENSES,\n",
      "    PREDICTOR_RAT_GANG_AFFILIATION, PREDICTOR_RAT_NARCOTIC_ARRESTS,\n",
      "    PREDICTOR_RAT_TREND_IN_CRIMINAL_ACTIVITY,\n",
      "    PREDICTOR_RAT_UUW_ARRESTS, PREDICTOR_RAT_VICTIM_BATTERY_OR_ASSAULT,\n",
      "    PREDICTOR_RAT_VICTIM_SHOOTING_INCIDENTS, RACE_CODE_CD, SSL_SCORE,\n",
      "    SSL_SCORE_RANK\n",
      "\n"
     ]
    }
   ],
   "source": [
    "# Doing T - test on matched records\n",
    "attach(matched)"
   ]
  },
  {
   "cell_type": "code",
   "execution_count": 17,
   "metadata": {
    "collapsed": true
   },
   "outputs": [],
   "source": [
    "race_black <-subset(matched,RACE_CODE_CD == 0)\n",
    "race_white<-subset(matched,RACE_CODE_CD == 1)\n"
   ]
  },
  {
   "cell_type": "code",
   "execution_count": 18,
   "metadata": {},
   "outputs": [
    {
     "data": {
      "text/plain": [
       "\n",
       "\tWelch Two Sample t-test\n",
       "\n",
       "data:  SSL_SCORE by RACE_CODE_CD\n",
       "t = 0.90227, df = 26377, p-value = 0.3669\n",
       "alternative hypothesis: true difference in means is not equal to 0\n",
       "95 percent confidence interval:\n",
       " -0.1956163  0.5293285\n",
       "sample estimates:\n",
       "mean in group 0 mean in group 1 \n",
       "       221.4124        221.2455 \n"
      ]
     },
     "metadata": {},
     "output_type": "display_data"
    }
   ],
   "source": [
    "t.test(SSL_SCORE~RACE_CODE_CD)"
   ]
  },
  {
   "cell_type": "code",
   "execution_count": 19,
   "metadata": {},
   "outputs": [
    {
     "data": {
      "text/plain": [
       "\n",
       "\tWelch Two Sample t-test\n",
       "\n",
       "data:  SSL_SCORE_RANK by RACE_CODE_CD\n",
       "t = -0.5754, df = 26346, p-value = 0.565\n",
       "alternative hypothesis: true difference in means is not equal to 0\n",
       "95 percent confidence interval:\n",
       " -644.7562  352.1129\n",
       "sample estimates:\n",
       "mean in group 0 mean in group 1 \n",
       "       326716.2        326862.5 \n"
      ]
     },
     "metadata": {},
     "output_type": "display_data"
    }
   ],
   "source": [
    "t.test(SSL_SCORE_RANK~RACE_CODE_CD)"
   ]
  }
 ],
 "metadata": {
  "kernelspec": {
   "display_name": "R",
   "language": "R",
   "name": "ir"
  },
  "language_info": {
   "codemirror_mode": "r",
   "file_extension": ".r",
   "mimetype": "text/x-r-source",
   "name": "R",
   "pygments_lexer": "r",
   "version": "3.3.2"
  }
 },
 "nbformat": 4,
 "nbformat_minor": 2
}
