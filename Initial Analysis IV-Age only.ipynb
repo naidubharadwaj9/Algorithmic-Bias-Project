{
 "cells": [
  {
   "cell_type": "code",
   "execution_count": 1,
   "metadata": {
    "collapsed": true
   },
   "outputs": [],
   "source": [
    "### FUNCTION DEFINITION BLOCK ###\n",
    "\n",
    "# Read the modeling data from the CSV file\n",
    "def get_Strategic_Subject_List_Data():\n",
    "    raw_data = pd.read_csv(\"Strategic_Subject_List.csv\", low_memory = False)\n",
    "    #Replace spaces in column names by underscore\n",
    "    raw_data.columns = [x.strip().replace(' ', '_') for x in raw_data.columns]\n",
    "    #Replace the blank values with NAN \n",
    "    raw_data.replace(r'^\\s+$', np.nan, regex=True, inplace = True)\n",
    "    return(raw_data)\n",
    "# Used only age as the predictor\n",
    "def feature_selection(raw_data):\n",
    "    final_features = raw_data[['SSL_SCORE','PREDICTOR_RAT_AGE_AT_LATEST_ARREST']]\n",
    "    return(final_features)"
   ]
  },
  {
   "cell_type": "code",
   "execution_count": 5,
   "metadata": {},
   "outputs": [],
   "source": [
    "#### EXPLORATORY DATA ANALYSIS  ### \n",
    "\n",
    "# Importing the required libraries\n",
    "import pandas as pd\n",
    "import numpy as np\n",
    "pd.options.mode.chained_assignment = None\n",
    "from sklearn import preprocessing\n",
    "\n",
    "\n",
    "#Adjusting the display options of Pandas\n",
    "pd.set_option('display.max_rows', 500)\n",
    "pd.set_option('display.max_columns', 500)\n",
    "pd.set_option('display.width', 1000)\n",
    "\n",
    "\n",
    "#Importing the python matplot library for exploratory data analysis\n",
    "import matplotlib.pyplot as plt\n",
    "import pandas as pd\n",
    "\n",
    "# Import the raw data from the csv file\n",
    "raw_data = get_Strategic_Subject_List_Data()\n",
    "\n",
    "# Selecting final features for the model\n",
    "final_features = feature_selection(raw_data)"
   ]
  },
  {
   "cell_type": "code",
   "execution_count": 6,
   "metadata": {
    "collapsed": true
   },
   "outputs": [],
   "source": [
    "### Data Processing Block ###\n",
    "# Segregating the Categorical and Numerical Variables\n",
    "categorical = final_features.select_dtypes(include=['object'])\n",
    "numeric = final_features.select_dtypes(exclude=['object'])\n",
    "\n",
    "\n",
    "#Defining the Dummy variables for the categorical variables \n",
    "for name, values in categorical.items():\n",
    "    dummies = pd.get_dummies(values.str.strip(), prefix = name, dummy_na=True)\n",
    "    numeric = pd.concat([numeric, dummies], axis=1)\n",
    "    \n",
    "#Imputing the missing values  \n",
    "for name in numeric:\n",
    "    if pd.isnull(numeric[name]).sum() > 0:\n",
    "        numeric[\"%s_mi\" % (name)] = pd.isnull(numeric[name])\n",
    "        median = numeric[name].median()\n",
    "        numeric[name] = numeric[name].apply(lambda x: median if pd.isnull(x) else x)"
   ]
  },
  {
   "cell_type": "code",
   "execution_count": 7,
   "metadata": {
    "collapsed": true
   },
   "outputs": [],
   "source": [
    "# Defining the target variable and independent variables\n",
    "\n",
    "y = numeric['SSL_SCORE']\n",
    "X = numeric.drop(['SSL_SCORE'], axis = 1)\n",
    "\n",
    "# Creating a Holdout for Testing of 20%\n",
    "import numpy as np\n",
    "from sklearn.model_selection import train_test_split\n",
    "X_train, X_test, y_train, y_test = train_test_split(X, y, test_size=0.2) "
   ]
  },
  {
   "cell_type": "code",
   "execution_count": 8,
   "metadata": {},
   "outputs": [
    {
     "name": "stdout",
     "output_type": "stream",
     "text": [
      "Fitting 5 folds for each of 1 candidates, totalling 5 fits\n"
     ]
    },
    {
     "name": "stderr",
     "output_type": "stream",
     "text": [
      "[Parallel(n_jobs=-1)]: Done   5 out of   5 | elapsed:    5.3s finished\n"
     ]
    },
    {
     "data": {
      "text/plain": [
       "GridSearchCV(cv=KFold(n_splits=5, random_state=None, shuffle=False),\n",
       "       error_score='raise',\n",
       "       estimator=Pipeline(steps=[('standardize', StandardScaler(copy=True, with_mean=True, with_std=True)), ('model', Ridge(alpha=1.0, copy_X=True, fit_intercept=True, max_iter=None,\n",
       "   normalize=False, random_state=None, solver='auto', tol=0.001))]),\n",
       "       fit_params={}, iid=True, n_jobs=-1,\n",
       "       param_grid={'model__alpha': [0.005]}, pre_dispatch='2*n_jobs',\n",
       "       refit=True, return_train_score=True,\n",
       "       scoring='neg_mean_squared_error', verbose=1)"
      ]
     },
     "execution_count": 8,
     "metadata": {},
     "output_type": "execute_result"
    }
   ],
   "source": [
    "# GLM Ridge model using sk-learn ##\n",
    "from sklearn import linear_model\n",
    "reg = linear_model.Ridge()\n",
    "\n",
    "# set up cv\n",
    "from sklearn import model_selection\n",
    "cv = model_selection.KFold(5)\n",
    "\n",
    "# pipeline\n",
    "from sklearn.pipeline import Pipeline\n",
    "pipeline = Pipeline(steps=[('standardize', preprocessing.StandardScaler())\n",
    "                           , ('model', reg) ])\n",
    "# Parameter tuning\n",
    "alpha=[0.005]\n",
    "\n",
    "from sklearn.model_selection import GridSearchCV\n",
    "optimized_reg = GridSearchCV(estimator=pipeline\n",
    "                            , cv=cv\n",
    "                            , param_grid=dict(model__alpha = alpha)\n",
    "                            , scoring = 'neg_mean_squared_error'\n",
    "                            , verbose = 1\n",
    "                            , n_jobs = -1\n",
    "                           )\n",
    "optimized_reg.fit(X_train, y_train)\n"
   ]
  },
  {
   "cell_type": "code",
   "execution_count": 9,
   "metadata": {},
   "outputs": [
    {
     "name": "stdout",
     "output_type": "stream",
     "text": [
      "The Mean Squared Error Using GLM - Ridge is :  370.65910175\n"
     ]
    }
   ],
   "source": [
    "## Evaluating GLM - Ridge Regression on Holdout - Test Data, using mean_squared_error metrics ##\n",
    "from sklearn.metrics import mean_squared_error\n",
    "y_pred = optimized_reg.predict(X_test)\n",
    "print(\"The Mean Squared Error Using GLM - Ridge is : \",mean_squared_error(y_test, y_pred))"
   ]
  },
  {
   "cell_type": "code",
   "execution_count": 10,
   "metadata": {},
   "outputs": [
    {
     "name": "stdout",
     "output_type": "stream",
     "text": [
      "The R2 Using GLM - Ridge is : 0.890331634417\n"
     ]
    }
   ],
   "source": [
    "## Evaluating GLM - Ridge Regression on Holdout - Test Data, using R2 Metrics ##\n",
    "from sklearn.metrics import r2_score\n",
    "y_pred = optimized_reg.predict(X_test)\n",
    "print(\"The R2 Using GLM - Ridge is :\",r2_score(y_test, y_pred))"
   ]
  },
  {
   "cell_type": "code",
   "execution_count": 11,
   "metadata": {},
   "outputs": [
    {
     "name": "stdout",
     "output_type": "stream",
     "text": [
      "Fitting 5 folds for each of 16 candidates, totalling 80 fits\n"
     ]
    },
    {
     "name": "stderr",
     "output_type": "stream",
     "text": [
      "[Parallel(n_jobs=-1)]: Done  42 tasks      | elapsed:  4.7min\n",
      "[Parallel(n_jobs=-1)]: Done  80 out of  80 | elapsed:  8.7min finished\n"
     ]
    },
    {
     "data": {
      "text/plain": [
       "GridSearchCV(cv=KFold(n_splits=5, random_state=None, shuffle=False),\n",
       "       error_score='raise',\n",
       "       estimator=Pipeline(steps=[('standardize', StandardScaler(copy=True, with_mean=True, with_std=True)), ('model', GradientBoostingRegressor(alpha=0.9, criterion='friedman_mse', init=None,\n",
       "             learning_rate=0.1, loss='ls', max_depth=3, max_features=None,\n",
       "             max_leaf_nodes=None, min_impurity_split=1e-07,...       presort='auto', random_state=None, subsample=1.0, verbose=0,\n",
       "             warm_start=False))]),\n",
       "       fit_params={}, iid=True, n_jobs=-1,\n",
       "       param_grid={'model__max_depth': [4, 6], 'model__min_samples_leaf': [3, 5], 'model__learning_rate': [0.1, 0.01], 'model__max_features': [1.0, 0.1]},\n",
       "       pre_dispatch='2*n_jobs', refit=True, return_train_score=True,\n",
       "       scoring='neg_mean_squared_error', verbose=1)"
      ]
     },
     "execution_count": 11,
     "metadata": {},
     "output_type": "execute_result"
    }
   ],
   "source": [
    "from sklearn.ensemble import GradientBoostingRegressor\n",
    "gbr = GradientBoostingRegressor()\n",
    "\n",
    "# set up cv\n",
    "from sklearn import model_selection\n",
    "cv = model_selection.KFold(5)\n",
    "\n",
    "# pipeline\n",
    "from sklearn.pipeline import Pipeline\n",
    "pipeline = Pipeline(steps=[('standardize', preprocessing.StandardScaler()),('model', gbr) ])\n",
    "\n",
    "# Parameters for tuning the model\n",
    "gbc_learning_rate = [0.1,0.01]\n",
    "gbc_max_depth = [4, 6]\n",
    "gbc_min_samples_leaf = [3, 5]\n",
    "gbm_max_features = [1.0, 0.1]\n",
    "\n",
    "#Implementing GridSearchCV\n",
    "from sklearn.model_selection import GridSearchCV\n",
    "optimized_gbr = GridSearchCV(estimator=pipeline\n",
    "                            , cv=cv\n",
    "                            , param_grid=dict(model__learning_rate= gbc_learning_rate, \n",
    "                                              model__max_depth = gbc_max_depth,\n",
    "                                              model__min_samples_leaf = gbc_min_samples_leaf,\n",
    "                                              model__max_features = gbm_max_features)\n",
    "                            , scoring = 'neg_mean_squared_error'\n",
    "                            , verbose = 1\n",
    "                            , n_jobs = -1)\n",
    "\n",
    "#Fitting the model with Grid Search\n",
    "optimized_gbr.fit(X_train, y_train)\n"
   ]
  },
  {
   "cell_type": "code",
   "execution_count": 12,
   "metadata": {},
   "outputs": [
    {
     "name": "stdout",
     "output_type": "stream",
     "text": [
      "The Mean Squared Error Using GBM Regressor is :  370.659764114\n"
     ]
    }
   ],
   "source": [
    "## Evaluating GBM on Holdout - Test Data ##\n",
    "from sklearn.metrics import mean_squared_error\n",
    "y_pred = optimized_gbr.predict(X_test)\n",
    "print(\"The Mean Squared Error Using GBM Regressor is : \",mean_squared_error(y_test, y_pred))"
   ]
  },
  {
   "cell_type": "code",
   "execution_count": 13,
   "metadata": {},
   "outputs": [
    {
     "name": "stdout",
     "output_type": "stream",
     "text": [
      "Fitting 5 folds for each of 16 candidates, totalling 80 fits\n"
     ]
    },
    {
     "name": "stderr",
     "output_type": "stream",
     "text": [
      "[Parallel(n_jobs=-1)]: Done  42 tasks      | elapsed:   32.3s\n",
      "[Parallel(n_jobs=-1)]: Done  80 out of  80 | elapsed:   53.6s finished\n"
     ]
    },
    {
     "name": "stdout",
     "output_type": "stream",
     "text": [
      "The best estimator :  Pipeline(steps=[('standardize', StandardScaler(copy=True, with_mean=True, with_std=True)), ('model', RandomForestRegressor(bootstrap=True, criterion='mse', max_depth=6,\n",
      "           max_features='auto', max_leaf_nodes=15,\n",
      "           min_impurity_split=1e-07, min_samples_leaf=10,\n",
      "           min_samples_split=5, min_weight_fraction_leaf=0.0,\n",
      "           n_estimators=10, n_jobs=1, oob_score=False, random_state=None,\n",
      "           verbose=0, warm_start=False))])\n"
     ]
    }
   ],
   "source": [
    "#Random Forest Regressor model\n",
    "from sklearn.ensemble import RandomForestRegressor\n",
    "rfr = RandomForestRegressor()\n",
    "\n",
    "# set up cv\n",
    "from sklearn import model_selection\n",
    "cv = model_selection.KFold(5)\n",
    "\n",
    "# pipeline\n",
    "from sklearn.pipeline import Pipeline\n",
    "pipeline = Pipeline(steps=[('standardize', preprocessing.StandardScaler()),('model', rfr) ])\n",
    "\n",
    "\n",
    "# Parameters for tuning the model\n",
    "tree_depth = [5,6]\n",
    "tree_min_samples_split = [5, 10]\n",
    "tree_min_samples_leaf = [5, 10]\n",
    "tree_max_leaf_nodes = [10,15]\n",
    "#Implementing GridSearchCV\n",
    "from sklearn.model_selection import GridSearchCV\n",
    "optimized_rfr = GridSearchCV(estimator=pipeline\n",
    "                            , cv=cv\n",
    "                            , param_grid=dict(model__max_depth= tree_depth, \n",
    "                                              model__min_samples_split = tree_min_samples_split,\n",
    "                                              model__min_samples_leaf = tree_min_samples_leaf,\n",
    "                                              model__max_leaf_nodes = tree_max_leaf_nodes)\n",
    "                            , scoring = 'neg_mean_squared_error'\n",
    "                            , verbose = 1\n",
    "                            , n_jobs = -1)\n",
    "\n",
    "#Fitting the model with Grid Search\n",
    "optimized_rfr.fit(X_train, y_train)\n",
    "print(\"The best estimator : \", optimized_rfr.best_estimator_)"
   ]
  },
  {
   "cell_type": "code",
   "execution_count": 14,
   "metadata": {},
   "outputs": [
    {
     "name": "stdout",
     "output_type": "stream",
     "text": [
      "The Mean Squared Error Using Random Forest Regressor is :  370.664626325\n"
     ]
    }
   ],
   "source": [
    "## Evaluating Random Forest Regressor on Holdout - Test Data ##\n",
    "from sklearn.metrics import mean_squared_error\n",
    "y_pred = optimized_rfr.predict(X_test)\n",
    "print(\"The Mean Squared Error Using Random Forest Regressor is : \",mean_squared_error(y_test, y_pred))"
   ]
  },
  {
   "cell_type": "code",
   "execution_count": 15,
   "metadata": {},
   "outputs": [
    {
     "name": "stdout",
     "output_type": "stream",
     "text": [
      "Fitting 5 folds for each of 9 candidates, totalling 45 fits\n"
     ]
    },
    {
     "name": "stderr",
     "output_type": "stream",
     "text": [
      "[Parallel(n_jobs=-1)]: Done  45 out of  45 | elapsed:  4.6min finished\n"
     ]
    },
    {
     "name": "stdout",
     "output_type": "stream",
     "text": [
      "The best estimator :  Pipeline(steps=[('standardize', StandardScaler(copy=True, with_mean=True, with_std=True)), ('model', XGBRegressor(base_score=0.5, colsample_bylevel=1, colsample_bytree=1, gamma=0,\n",
      "       learning_rate=0.1, max_delta_step=0, max_depth=6,\n",
      "       min_child_weight=1, missing=None, n_estimators=150, nthread=-1,\n",
      "       objective='reg:linear', reg_alpha=0, reg_lambda=1,\n",
      "       scale_pos_weight=1, seed=0, silent=True, subsample=1))])\n"
     ]
    }
   ],
   "source": [
    "## XGB Regressor Model  ##\n",
    "import xgboost as xgb\n",
    "xg = xgb.XGBRegressor()\n",
    "# set up cv\n",
    "from sklearn import model_selection\n",
    "cv = model_selection.KFold(5)\n",
    "\n",
    "# pipeline\n",
    "from sklearn.pipeline import Pipeline\n",
    "pipeline = Pipeline(steps=[('standardize', preprocessing.StandardScaler()),('model', xg) ])\n",
    "\n",
    "# Parameters for tuning the model\n",
    "#gbc_learning_rate = [0.1,0.01]\n",
    "max_depth = [4, 6,8]\n",
    "n_estimators = [50, 100,150]\n",
    "\n",
    "#Implementing GridSearchCV\n",
    "from sklearn.model_selection import GridSearchCV\n",
    "optimized_xg = GridSearchCV(estimator=pipeline\n",
    "                            , cv=cv\n",
    "                            , param_grid=dict(model__max_depth = max_depth,\n",
    "                                              model__n_estimators = n_estimators)\n",
    "                                             # model__max_features = gbm_max_features)\n",
    "                            , scoring = 'neg_mean_squared_error'\n",
    "                            , verbose = 1\n",
    "                            , n_jobs = -1)\n",
    "\n",
    "#Fitting the model with Grid Search\n",
    "optimized_xg.fit(X_train, y_train)\n",
    "print(\"The best estimator : \", optimized_xg.best_estimator_)"
   ]
  },
  {
   "cell_type": "code",
   "execution_count": 16,
   "metadata": {},
   "outputs": [
    {
     "name": "stdout",
     "output_type": "stream",
     "text": [
      "The Mean Squared Error Using XGBoost Regressor is :  370.659078559\n"
     ]
    }
   ],
   "source": [
    "## Evaluating XGB Regressor on Holdout - Test Data ##\n",
    "from sklearn.metrics import mean_squared_error\n",
    "y_pred = optimized_xg.predict(X_test)\n",
    "print(\"The Mean Squared Error Using XGBoost Regressor is : \",mean_squared_error(y_test, y_pred))"
   ]
  }
 ],
 "metadata": {
  "kernelspec": {
   "display_name": "Python 3",
   "language": "python",
   "name": "python3"
  },
  "language_info": {
   "codemirror_mode": {
    "name": "ipython",
    "version": 3
   },
   "file_extension": ".py",
   "mimetype": "text/x-python",
   "name": "python",
   "nbconvert_exporter": "python",
   "pygments_lexer": "ipython3",
   "version": "3.5.3"
  }
 },
 "nbformat": 4,
 "nbformat_minor": 2
}
