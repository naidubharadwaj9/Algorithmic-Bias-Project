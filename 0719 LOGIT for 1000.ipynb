{
 "cells": [
  {
   "cell_type": "code",
   "execution_count": 79,
   "metadata": {},
   "outputs": [
    {
     "name": "stdout",
     "output_type": "stream",
     "text": [
      "The Number of Rows in Initial Data is 1000"
     ]
    }
   ],
   "source": [
    "raw_data <- read.csv(\"SSL_SCORE_FIRST_1000_0719.csv\", sep=\",\", header=T, strip.white = T, na.strings = c(\"NA\",\"NaN\",\"\",\"?\"))\n",
    "#Converting the \".\" in column names to \"_\"\n",
    "names(raw_data)<-gsub(\"\\\\.\", \"_\", names(raw_data))\n",
    "cat(\"The Number of Rows in Initial Data is\", nrow(raw_data))\n",
    "warn=-1"
   ]
  },
  {
   "cell_type": "code",
   "execution_count": 80,
   "metadata": {
    "collapsed": true
   },
   "outputs": [],
   "source": [
    "final_features<-raw_data[,c('SSL_SCORE','SSL_SCORE_RANK','PREDICTOR_RAT_AGE_AT_LATEST_ARREST','PREDICTOR_RAT_VICTIM_SHOOTING_INCIDENTS',\n",
    "                            'PREDICTOR_RAT_VICTIM_BATTERY_OR_ASSAULT','PREDICTOR_RAT_ARRESTS_VIOLENT_OFFENSES','PREDICTOR_RAT_GANG_AFFILIATION', \n",
    "                            'PREDICTOR_RAT_NARCOTIC_ARRESTS','PREDICTOR_RAT_TREND_IN_CRIMINAL_ACTIVITY','PREDICTOR_RAT_UUW_ARRESTS','RACE_CODE_CD',\n",
    "                            'SHORT_LIST')]"
   ]
  },
  {
   "cell_type": "code",
   "execution_count": 81,
   "metadata": {
    "collapsed": true
   },
   "outputs": [],
   "source": [
    "complete_data <- final_features[complete.cases(final_features),]"
   ]
  },
  {
   "cell_type": "code",
   "execution_count": 82,
   "metadata": {
    "collapsed": true
   },
   "outputs": [],
   "source": [
    "complete_data$SHORT_LIST<-factor(complete_data$SHORT_LIST)\n",
    "complete_data$PREDICTOR_RAT_AGE_AT_LATEST_ARREST<-factor(complete_data$PREDICTOR_RAT_AGE_AT_LATEST_ARREST)\n",
    "complete_data$RACE_CODE_CD<-factor(complete_data$RACE_CODE_CD)\n",
    "complete_data$PREDICTOR_RAT_GANG_AFFILIATION<-factor(complete_data$PREDICTOR_RAT_GANG_AFFILIATION)"
   ]
  },
  {
   "cell_type": "code",
   "execution_count": 83,
   "metadata": {
    "collapsed": true
   },
   "outputs": [],
   "source": [
    "n<-nrow(complete_data)"
   ]
  },
  {
   "cell_type": "code",
   "execution_count": 84,
   "metadata": {},
   "outputs": [
    {
     "data": {
      "text/html": [
       "<table>\n",
       "<thead><tr><th scope=col>SSL_SCORE</th><th scope=col>SSL_SCORE_RANK</th><th scope=col>PREDICTOR_RAT_AGE_AT_LATEST_ARREST</th><th scope=col>PREDICTOR_RAT_VICTIM_SHOOTING_INCIDENTS</th><th scope=col>PREDICTOR_RAT_VICTIM_BATTERY_OR_ASSAULT</th><th scope=col>PREDICTOR_RAT_ARRESTS_VIOLENT_OFFENSES</th><th scope=col>PREDICTOR_RAT_GANG_AFFILIATION</th><th scope=col>PREDICTOR_RAT_NARCOTIC_ARRESTS</th><th scope=col>PREDICTOR_RAT_TREND_IN_CRIMINAL_ACTIVITY</th><th scope=col>PREDICTOR_RAT_UUW_ARRESTS</th><th scope=col>RACE_CODE_CD</th><th scope=col>SHORT_LIST</th></tr></thead>\n",
       "<tbody>\n",
       "\t<tr><td>500         </td><td>1           </td><td>20-30       </td><td>0           </td><td>1           </td><td>4           </td><td>1           </td><td>1           </td><td> 1.0        </td><td>1           </td><td>0           </td><td>1           </td></tr>\n",
       "\t<tr><td>500         </td><td>1           </td><td>less than 20</td><td>1           </td><td>2           </td><td>2           </td><td>1           </td><td>7           </td><td> 0.2        </td><td>1           </td><td>0           </td><td>1           </td></tr>\n",
       "\t<tr><td>500         </td><td>1           </td><td>20-30       </td><td>4           </td><td>3           </td><td>0           </td><td>1           </td><td>0           </td><td>-1.1        </td><td>0           </td><td>1           </td><td>1           </td></tr>\n",
       "\t<tr><td>500         </td><td>1           </td><td>less than 20</td><td>0           </td><td>1           </td><td>3           </td><td>1           </td><td>2           </td><td> 0.1        </td><td>1           </td><td>2           </td><td>1           </td></tr>\n",
       "\t<tr><td>500         </td><td>1           </td><td>less than 20</td><td>1           </td><td>2           </td><td>6           </td><td>0           </td><td>0           </td><td> 0.0        </td><td>0           </td><td>0           </td><td>1           </td></tr>\n",
       "\t<tr><td>500         </td><td>1           </td><td>less than 20</td><td>1           </td><td>1           </td><td>4           </td><td>1           </td><td>1           </td><td>-0.3        </td><td>2           </td><td>0           </td><td>1           </td></tr>\n",
       "</tbody>\n",
       "</table>\n"
      ],
      "text/latex": [
       "\\begin{tabular}{r|llllllllllll}\n",
       " SSL\\_SCORE & SSL\\_SCORE\\_RANK & PREDICTOR\\_RAT\\_AGE\\_AT\\_LATEST\\_ARREST & PREDICTOR\\_RAT\\_VICTIM\\_SHOOTING\\_INCIDENTS & PREDICTOR\\_RAT\\_VICTIM\\_BATTERY\\_OR\\_ASSAULT & PREDICTOR\\_RAT\\_ARRESTS\\_VIOLENT\\_OFFENSES & PREDICTOR\\_RAT\\_GANG\\_AFFILIATION & PREDICTOR\\_RAT\\_NARCOTIC\\_ARRESTS & PREDICTOR\\_RAT\\_TREND\\_IN\\_CRIMINAL\\_ACTIVITY & PREDICTOR\\_RAT\\_UUW\\_ARRESTS & RACE\\_CODE\\_CD & SHORT\\_LIST\\\\\n",
       "\\hline\n",
       "\t 500          & 1            & 20-30        & 0            & 1            & 4            & 1            & 1            &  1.0         & 1            & 0            & 1           \\\\\n",
       "\t 500          & 1            & less than 20 & 1            & 2            & 2            & 1            & 7            &  0.2         & 1            & 0            & 1           \\\\\n",
       "\t 500          & 1            & 20-30        & 4            & 3            & 0            & 1            & 0            & -1.1         & 0            & 1            & 1           \\\\\n",
       "\t 500          & 1            & less than 20 & 0            & 1            & 3            & 1            & 2            &  0.1         & 1            & 2            & 1           \\\\\n",
       "\t 500          & 1            & less than 20 & 1            & 2            & 6            & 0            & 0            &  0.0         & 0            & 0            & 1           \\\\\n",
       "\t 500          & 1            & less than 20 & 1            & 1            & 4            & 1            & 1            & -0.3         & 2            & 0            & 1           \\\\\n",
       "\\end{tabular}\n"
      ],
      "text/markdown": [
       "\n",
       "SSL_SCORE | SSL_SCORE_RANK | PREDICTOR_RAT_AGE_AT_LATEST_ARREST | PREDICTOR_RAT_VICTIM_SHOOTING_INCIDENTS | PREDICTOR_RAT_VICTIM_BATTERY_OR_ASSAULT | PREDICTOR_RAT_ARRESTS_VIOLENT_OFFENSES | PREDICTOR_RAT_GANG_AFFILIATION | PREDICTOR_RAT_NARCOTIC_ARRESTS | PREDICTOR_RAT_TREND_IN_CRIMINAL_ACTIVITY | PREDICTOR_RAT_UUW_ARRESTS | RACE_CODE_CD | SHORT_LIST | \n",
       "|---|---|---|---|---|---|\n",
       "| 500          | 1            | 20-30        | 0            | 1            | 4            | 1            | 1            |  1.0         | 1            | 0            | 1            | \n",
       "| 500          | 1            | less than 20 | 1            | 2            | 2            | 1            | 7            |  0.2         | 1            | 0            | 1            | \n",
       "| 500          | 1            | 20-30        | 4            | 3            | 0            | 1            | 0            | -1.1         | 0            | 1            | 1            | \n",
       "| 500          | 1            | less than 20 | 0            | 1            | 3            | 1            | 2            |  0.1         | 1            | 2            | 1            | \n",
       "| 500          | 1            | less than 20 | 1            | 2            | 6            | 0            | 0            |  0.0         | 0            | 0            | 1            | \n",
       "| 500          | 1            | less than 20 | 1            | 1            | 4            | 1            | 1            | -0.3         | 2            | 0            | 1            | \n",
       "\n",
       "\n"
      ],
      "text/plain": [
       "  SSL_SCORE SSL_SCORE_RANK PREDICTOR_RAT_AGE_AT_LATEST_ARREST\n",
       "1 500       1              20-30                             \n",
       "2 500       1              less than 20                      \n",
       "3 500       1              20-30                             \n",
       "4 500       1              less than 20                      \n",
       "5 500       1              less than 20                      \n",
       "6 500       1              less than 20                      \n",
       "  PREDICTOR_RAT_VICTIM_SHOOTING_INCIDENTS\n",
       "1 0                                      \n",
       "2 1                                      \n",
       "3 4                                      \n",
       "4 0                                      \n",
       "5 1                                      \n",
       "6 1                                      \n",
       "  PREDICTOR_RAT_VICTIM_BATTERY_OR_ASSAULT\n",
       "1 1                                      \n",
       "2 2                                      \n",
       "3 3                                      \n",
       "4 1                                      \n",
       "5 2                                      \n",
       "6 1                                      \n",
       "  PREDICTOR_RAT_ARRESTS_VIOLENT_OFFENSES PREDICTOR_RAT_GANG_AFFILIATION\n",
       "1 4                                      1                             \n",
       "2 2                                      1                             \n",
       "3 0                                      1                             \n",
       "4 3                                      1                             \n",
       "5 6                                      0                             \n",
       "6 4                                      1                             \n",
       "  PREDICTOR_RAT_NARCOTIC_ARRESTS PREDICTOR_RAT_TREND_IN_CRIMINAL_ACTIVITY\n",
       "1 1                               1.0                                    \n",
       "2 7                               0.2                                    \n",
       "3 0                              -1.1                                    \n",
       "4 2                               0.1                                    \n",
       "5 0                               0.0                                    \n",
       "6 1                              -0.3                                    \n",
       "  PREDICTOR_RAT_UUW_ARRESTS RACE_CODE_CD SHORT_LIST\n",
       "1 1                         0            1         \n",
       "2 1                         0            1         \n",
       "3 0                         1            1         \n",
       "4 1                         2            1         \n",
       "5 0                         0            1         \n",
       "6 2                         0            1         "
      ]
     },
     "metadata": {},
     "output_type": "display_data"
    }
   ],
   "source": [
    "head(complete_data)"
   ]
  },
  {
   "cell_type": "code",
   "execution_count": 85,
   "metadata": {
    "collapsed": true
   },
   "outputs": [],
   "source": [
    "set.seed(1234)\n",
    "trainIndex = sample(1:n, size = round(0.8*n),replace=FALSE)\n",
    "train_data = complete_data[trainIndex,]\n",
    "test_data  = complete_data[-trainIndex,]"
   ]
  },
  {
   "cell_type": "code",
   "execution_count": 86,
   "metadata": {},
   "outputs": [
    {
     "data": {
      "text/html": [
       "800"
      ],
      "text/latex": [
       "800"
      ],
      "text/markdown": [
       "800"
      ],
      "text/plain": [
       "[1] 800"
      ]
     },
     "metadata": {},
     "output_type": "display_data"
    }
   ],
   "source": [
    "nrow(train_data)"
   ]
  },
  {
   "cell_type": "code",
   "execution_count": 87,
   "metadata": {},
   "outputs": [
    {
     "data": {
      "text/html": [
       "200"
      ],
      "text/latex": [
       "200"
      ],
      "text/markdown": [
       "200"
      ],
      "text/plain": [
       "[1] 200"
      ]
     },
     "metadata": {},
     "output_type": "display_data"
    }
   ],
   "source": [
    "nrow(test_data)"
   ]
  },
  {
   "cell_type": "code",
   "execution_count": 88,
   "metadata": {},
   "outputs": [],
   "source": [
    "library(MatchIt)\n",
    "library(dplyr)\n",
    "library(ggplot2)\n",
    "library(caret)"
   ]
  },
  {
   "cell_type": "code",
   "execution_count": 89,
   "metadata": {
    "collapsed": true
   },
   "outputs": [],
   "source": [
    "ctrl <- trainControl(method = \"repeatedcv\", number = 10, savePredictions = TRUE)\n",
    "\n",
    "mod_fit <- train(SHORT_LIST ~ PREDICTOR_RAT_AGE_AT_LATEST_ARREST+PREDICTOR_RAT_VICTIM_SHOOTING_INCIDENTS + PREDICTOR_RAT_VICTIM_BATTERY_OR_ASSAULT + \n",
    "            PREDICTOR_RAT_ARRESTS_VIOLENT_OFFENSES + PREDICTOR_RAT_GANG_AFFILIATION + PREDICTOR_RAT_NARCOTIC_ARRESTS + PREDICTOR_RAT_TREND_IN_CRIMINAL_ACTIVITY +\n",
    "            PREDICTOR_RAT_UUW_ARRESTS+RACE_CODE_CD,\n",
    "            data=train_data, method=\"glm\", family=\"binomial\",\n",
    "            preProcess=\"scale\",trControl = ctrl, tuneLength = 5)"
   ]
  },
  {
   "cell_type": "code",
   "execution_count": 90,
   "metadata": {},
   "outputs": [
    {
     "data": {
      "text/plain": [
       "\n",
       "Call:\n",
       "NULL\n",
       "\n",
       "Deviance Residuals: \n",
       "    Min       1Q   Median       3Q      Max  \n",
       "-2.1459  -1.1273   0.5818   0.8568   1.6389  \n",
       "\n",
       "Coefficients:\n",
       "                                                 Estimate Std. Error z value\n",
       "(Intercept)                                      -1.78677    0.34593  -5.165\n",
       "`PREDICTOR_RAT_AGE_AT_LATEST_ARREST30-40`        -0.03829    0.07853  -0.488\n",
       "`PREDICTOR_RAT_AGE_AT_LATEST_ARRESTless than 20`  0.32238    0.08830   3.651\n",
       "PREDICTOR_RAT_VICTIM_SHOOTING_INCIDENTS           0.31414    0.10599   2.964\n",
       "PREDICTOR_RAT_VICTIM_BATTERY_OR_ASSAULT           0.59447    0.12422   4.785\n",
       "PREDICTOR_RAT_ARRESTS_VIOLENT_OFFENSES            0.82896    0.12404   6.683\n",
       "PREDICTOR_RAT_GANG_AFFILIATION1                  -0.10885    0.09198  -1.183\n",
       "PREDICTOR_RAT_NARCOTIC_ARRESTS                    0.63337    0.11245   5.633\n",
       "PREDICTOR_RAT_TREND_IN_CRIMINAL_ACTIVITY          0.08460    0.08790   0.962\n",
       "PREDICTOR_RAT_UUW_ARRESTS                         0.17118    0.09882   1.732\n",
       "RACE_CODE_CD1                                    -0.07877    0.08183  -0.963\n",
       "RACE_CODE_CD2                                    -0.14483    0.08075  -1.793\n",
       "                                                 Pr(>|z|)    \n",
       "(Intercept)                                      2.40e-07 ***\n",
       "`PREDICTOR_RAT_AGE_AT_LATEST_ARREST30-40`        0.625827    \n",
       "`PREDICTOR_RAT_AGE_AT_LATEST_ARRESTless than 20` 0.000261 ***\n",
       "PREDICTOR_RAT_VICTIM_SHOOTING_INCIDENTS          0.003039 ** \n",
       "PREDICTOR_RAT_VICTIM_BATTERY_OR_ASSAULT          1.71e-06 ***\n",
       "PREDICTOR_RAT_ARRESTS_VIOLENT_OFFENSES           2.34e-11 ***\n",
       "PREDICTOR_RAT_GANG_AFFILIATION1                  0.236628    \n",
       "PREDICTOR_RAT_NARCOTIC_ARRESTS                   1.78e-08 ***\n",
       "PREDICTOR_RAT_TREND_IN_CRIMINAL_ACTIVITY         0.335838    \n",
       "PREDICTOR_RAT_UUW_ARRESTS                        0.083240 .  \n",
       "RACE_CODE_CD1                                    0.335775    \n",
       "RACE_CODE_CD2                                    0.072896 .  \n",
       "---\n",
       "Signif. codes:  0 '***' 0.001 '**' 0.01 '*' 0.05 '.' 0.1 ' ' 1\n",
       "\n",
       "(Dispersion parameter for binomial family taken to be 1)\n",
       "\n",
       "    Null deviance: 985.71  on 799  degrees of freedom\n",
       "Residual deviance: 878.61  on 788  degrees of freedom\n",
       "AIC: 902.61\n",
       "\n",
       "Number of Fisher Scoring iterations: 4\n"
      ]
     },
     "metadata": {},
     "output_type": "display_data"
    }
   ],
   "source": [
    "summary(mod_fit)"
   ]
  },
  {
   "cell_type": "code",
   "execution_count": 91,
   "metadata": {
    "collapsed": true
   },
   "outputs": [],
   "source": [
    "predicted_values<-predict(mod_fit, newdata=test_data,type= \"prob\")[,2]  "
   ]
  },
  {
   "cell_type": "code",
   "execution_count": 92,
   "metadata": {},
   "outputs": [],
   "source": [
    "library(ROCR)\n",
    "pred <- prediction((predicted_values),(test_data$SHORT_LIST))"
   ]
  },
  {
   "cell_type": "code",
   "execution_count": 93,
   "metadata": {},
   "outputs": [
    {
     "data": {},
     "metadata": {},
     "output_type": "display_data"
    },
    {
     "data": {
      "image/png": "[encoded data removed]",
      "text/plain": [
       "plot without title"
      ]
     },
     "metadata": {},
     "output_type": "display_data"
    }
   ],
   "source": [
    "perf <- performance(pred, measure = \"tpr\", x.measure = \"fpr\")\n",
    "auc <- performance(pred, measure = \"auc\")\n",
    "auc <- auc@y.values[[1]]\n",
    "\n",
    "roc.data <- data.frame(fpr=unlist(perf@x.values),\n",
    "                       tpr=unlist(perf@y.values),\n",
    "                       model=\"RF\")\n",
    "\n",
    "ggplot(roc.data, aes(x=fpr, ymin=0, ymax=tpr)) +\n",
    "  geom_ribbon(alpha=0.2) +\n",
    "  geom_line(aes(y=tpr)) +\n",
    "  ggtitle(paste0(\"ROC Curve w/ AUC=\", auc))\n"
   ]
  },
  {
   "cell_type": "code",
   "execution_count": 94,
   "metadata": {
    "collapsed": true
   },
   "outputs": [],
   "source": [
    "mod_match <- matchit(RACE_CODE_CD ~ PREDICTOR_RAT_AGE_AT_LATEST_ARREST+PREDICTOR_RAT_VICTIM_SHOOTING_INCIDENTS + PREDICTOR_RAT_VICTIM_BATTERY_OR_ASSAULT + \n",
    "            PREDICTOR_RAT_ARRESTS_VIOLENT_OFFENSES + PREDICTOR_RAT_GANG_AFFILIATION + PREDICTOR_RAT_NARCOTIC_ARRESTS + PREDICTOR_RAT_TREND_IN_CRIMINAL_ACTIVITY +\n",
    "            PREDICTOR_RAT_UUW_ARRESTS,\n",
    "                     method = \"nearest\", data = complete_data)"
   ]
  },
  {
   "cell_type": "code",
   "execution_count": 95,
   "metadata": {},
   "outputs": [
    {
     "data": {
      "text/plain": [
       "\n",
       "Call: \n",
       "matchit(formula = RACE_CODE_CD ~ PREDICTOR_RAT_AGE_AT_LATEST_ARREST + \n",
       "    PREDICTOR_RAT_VICTIM_SHOOTING_INCIDENTS + PREDICTOR_RAT_VICTIM_BATTERY_OR_ASSAULT + \n",
       "    PREDICTOR_RAT_ARRESTS_VIOLENT_OFFENSES + PREDICTOR_RAT_GANG_AFFILIATION + \n",
       "    PREDICTOR_RAT_NARCOTIC_ARRESTS + PREDICTOR_RAT_TREND_IN_CRIMINAL_ACTIVITY + \n",
       "    PREDICTOR_RAT_UUW_ARRESTS, data = complete_data, method = \"nearest\")\n",
       "\n",
       "Sample sizes:\n",
       "          Control Treated\n",
       "All           891      13\n",
       "Matched        13      13\n",
       "Unmatched     878       0\n",
       "Discarded       0       0\n"
      ]
     },
     "metadata": {},
     "output_type": "display_data"
    }
   ],
   "source": [
    "mod_match"
   ]
  },
  {
   "cell_type": "code",
   "execution_count": 96,
   "metadata": {
    "collapsed": true
   },
   "outputs": [],
   "source": [
    "matched <- match.data(mod_match)"
   ]
  },
  {
   "cell_type": "code",
   "execution_count": 97,
   "metadata": {},
   "outputs": [
    {
     "name": "stdout",
     "output_type": "stream",
     "text": [
      "[1] \"To identify the units, use first mouse button; to stop, use second.\"\n"
     ]
    },
    {
     "data": {
      "text/html": [],
      "text/latex": [],
      "text/markdown": [],
      "text/plain": [
       "integer(0)"
      ]
     },
     "metadata": {},
     "output_type": "display_data"
    },
    {
     "data": {
      "image/png": "[encoded data removed]",
      "text/plain": [
       "Plot with title \"Distribution of Propensity Scores\""
      ]
     },
     "metadata": {},
     "output_type": "display_data"
    }
   ],
   "source": [
    "plot(mod_match, type = \"jitter\")"
   ]
  },
  {
   "cell_type": "code",
   "execution_count": 98,
   "metadata": {},
   "outputs": [
    {
     "data": {
      "image/png": "[encoded data removed]",
      "text/plain": [
       "Plot with title \"Matched Control\""
      ]
     },
     "metadata": {},
     "output_type": "display_data"
    }
   ],
   "source": [
    "plot(mod_match, type = \"hist\")"
   ]
  },
  {
   "cell_type": "code",
   "execution_count": 99,
   "metadata": {},
   "outputs": [
    {
     "name": "stderr",
     "output_type": "stream",
     "text": [
      "Warning message in preProcess.default(thresh = 0.95, k = 5, freqCut = 19, uniqueCut = 10, :\n",
      "\"These variables have zero variances: PREDICTOR_RAT_AGE_AT_LATEST_ARREST30-40, PREDICTOR_RAT_GANG_AFFILIATION1, RACE_CODE_CD2\"Warning message:\n",
      "\"glm.fit: fitted probabilities numerically 0 or 1 occurred\"Warning message in predict.lm(object, newdata, se.fit, scale = 1, type = ifelse(type == :\n",
      "\"prediction from a rank-deficient fit may be misleading\"Warning message in preProcess.default(thresh = 0.95, k = 5, freqCut = 19, uniqueCut = 10, :\n",
      "\"These variables have zero variances: PREDICTOR_RAT_AGE_AT_LATEST_ARREST30-40, PREDICTOR_RAT_GANG_AFFILIATION1, RACE_CODE_CD2\"Warning message:\n",
      "\"glm.fit: fitted probabilities numerically 0 or 1 occurred\"Warning message in predict.lm(object, newdata, se.fit, scale = 1, type = ifelse(type == :\n",
      "\"prediction from a rank-deficient fit may be misleading\"Warning message in preProcess.default(thresh = 0.95, k = 5, freqCut = 19, uniqueCut = 10, :\n",
      "\"These variables have zero variances: PREDICTOR_RAT_AGE_AT_LATEST_ARREST30-40, PREDICTOR_RAT_GANG_AFFILIATION1, RACE_CODE_CD2\"Warning message:\n",
      "\"glm.fit: fitted probabilities numerically 0 or 1 occurred\"Warning message in predict.lm(object, newdata, se.fit, scale = 1, type = ifelse(type == :\n",
      "\"prediction from a rank-deficient fit may be misleading\"Warning message in preProcess.default(thresh = 0.95, k = 5, freqCut = 19, uniqueCut = 10, :\n",
      "\"These variables have zero variances: PREDICTOR_RAT_AGE_AT_LATEST_ARREST30-40, PREDICTOR_RAT_GANG_AFFILIATION1, RACE_CODE_CD2\"Warning message:\n",
      "\"glm.fit: fitted probabilities numerically 0 or 1 occurred\"Warning message in predict.lm(object, newdata, se.fit, scale = 1, type = ifelse(type == :\n",
      "\"prediction from a rank-deficient fit may be misleading\"Warning message in preProcess.default(thresh = 0.95, k = 5, freqCut = 19, uniqueCut = 10, :\n",
      "\"These variables have zero variances: PREDICTOR_RAT_AGE_AT_LATEST_ARREST30-40, PREDICTOR_RAT_GANG_AFFILIATION1, RACE_CODE_CD2\"Warning message:\n",
      "\"glm.fit: algorithm did not converge\"Warning message:\n",
      "\"glm.fit: fitted probabilities numerically 0 or 1 occurred\"Warning message in predict.lm(object, newdata, se.fit, scale = 1, type = ifelse(type == :\n",
      "\"prediction from a rank-deficient fit may be misleading\"Warning message in preProcess.default(thresh = 0.95, k = 5, freqCut = 19, uniqueCut = 10, :\n",
      "\"These variables have zero variances: PREDICTOR_RAT_AGE_AT_LATEST_ARREST30-40, PREDICTOR_RAT_GANG_AFFILIATION1, RACE_CODE_CD2\"Warning message:\n",
      "\"glm.fit: algorithm did not converge\"Warning message:\n",
      "\"glm.fit: fitted probabilities numerically 0 or 1 occurred\"Warning message in predict.lm(object, newdata, se.fit, scale = 1, type = ifelse(type == :\n",
      "\"prediction from a rank-deficient fit may be misleading\"Warning message in preProcess.default(thresh = 0.95, k = 5, freqCut = 19, uniqueCut = 10, :\n",
      "\"These variables have zero variances: PREDICTOR_RAT_AGE_AT_LATEST_ARREST30-40, PREDICTOR_RAT_GANG_AFFILIATION1, RACE_CODE_CD2\"Warning message:\n",
      "\"glm.fit: fitted probabilities numerically 0 or 1 occurred\"Warning message in predict.lm(object, newdata, se.fit, scale = 1, type = ifelse(type == :\n",
      "\"prediction from a rank-deficient fit may be misleading\"Warning message in preProcess.default(thresh = 0.95, k = 5, freqCut = 19, uniqueCut = 10, :\n",
      "\"These variables have zero variances: PREDICTOR_RAT_AGE_AT_LATEST_ARREST30-40, PREDICTOR_RAT_GANG_AFFILIATION1, RACE_CODE_CD2\"Warning message:\n",
      "\"glm.fit: fitted probabilities numerically 0 or 1 occurred\"Warning message in predict.lm(object, newdata, se.fit, scale = 1, type = ifelse(type == :\n",
      "\"prediction from a rank-deficient fit may be misleading\"Warning message in preProcess.default(thresh = 0.95, k = 5, freqCut = 19, uniqueCut = 10, :\n",
      "\"These variables have zero variances: PREDICTOR_RAT_AGE_AT_LATEST_ARREST30-40, PREDICTOR_RAT_GANG_AFFILIATION1, RACE_CODE_CD2\"Warning message:\n",
      "\"glm.fit: fitted probabilities numerically 0 or 1 occurred\"Warning message in predict.lm(object, newdata, se.fit, scale = 1, type = ifelse(type == :\n",
      "\"prediction from a rank-deficient fit may be misleading\"Warning message in preProcess.default(thresh = 0.95, k = 5, freqCut = 19, uniqueCut = 10, :\n",
      "\"These variables have zero variances: PREDICTOR_RAT_AGE_AT_LATEST_ARREST30-40, PREDICTOR_RAT_GANG_AFFILIATION1, RACE_CODE_CD2\"Warning message:\n",
      "\"glm.fit: fitted probabilities numerically 0 or 1 occurred\"Warning message in predict.lm(object, newdata, se.fit, scale = 1, type = ifelse(type == :\n",
      "\"prediction from a rank-deficient fit may be misleading\"Warning message in nominalTrainWorkflow(x = x, y = y, wts = weights, info = trainInfo, :\n",
      "\"There were missing values in resampled performance measures.\"Warning message in preProcess.default(thresh = 0.95, k = 5, freqCut = 19, uniqueCut = 10, :\n",
      "\"These variables have zero variances: PREDICTOR_RAT_AGE_AT_LATEST_ARREST30-40, PREDICTOR_RAT_GANG_AFFILIATION1, RACE_CODE_CD2\"Warning message:\n",
      "\"glm.fit: fitted probabilities numerically 0 or 1 occurred\""
     ]
    }
   ],
   "source": [
    "warn=-1\n",
    "ctrl <- trainControl(method = \"repeatedcv\", number = 10, savePredictions = TRUE)\n",
    "\n",
    "mod_fit_PSM <- train(SHORT_LIST ~ PREDICTOR_RAT_AGE_AT_LATEST_ARREST+PREDICTOR_RAT_VICTIM_SHOOTING_INCIDENTS + PREDICTOR_RAT_VICTIM_BATTERY_OR_ASSAULT + \n",
    "            PREDICTOR_RAT_ARRESTS_VIOLENT_OFFENSES + PREDICTOR_RAT_GANG_AFFILIATION + PREDICTOR_RAT_NARCOTIC_ARRESTS + PREDICTOR_RAT_TREND_IN_CRIMINAL_ACTIVITY +\n",
    "            PREDICTOR_RAT_UUW_ARRESTS+RACE_CODE_CD,\n",
    "            data=matched, method=\"glm\", family=\"binomial\",\n",
    "            preProcess=\"scale\",trControl = ctrl, tuneLength = 5)\n"
   ]
  },
  {
   "cell_type": "code",
   "execution_count": 100,
   "metadata": {},
   "outputs": [
    {
     "data": {
      "text/plain": [
       "\n",
       "Call:\n",
       "NULL\n",
       "\n",
       "Deviance Residuals: \n",
       "    Min       1Q   Median       3Q      Max  \n",
       "-2.0827   0.0000   0.0000   0.3382   1.0774  \n",
       "\n",
       "Coefficients: (3 not defined because of singularities)\n",
       "                                                   Estimate Std. Error z value\n",
       "(Intercept)                                         2.63470    8.95542   0.294\n",
       "`PREDICTOR_RAT_AGE_AT_LATEST_ARREST30-40`                NA         NA      NA\n",
       "`PREDICTOR_RAT_AGE_AT_LATEST_ARRESTless than 20`   -3.68913    5.27591  -0.699\n",
       "PREDICTOR_RAT_VICTIM_SHOOTING_INCIDENTS            31.10436 5656.76067   0.005\n",
       "PREDICTOR_RAT_VICTIM_BATTERY_OR_ASSAULT            -0.01444    2.69237  -0.005\n",
       "PREDICTOR_RAT_ARRESTS_VIOLENT_OFFENSES              3.85642    3.93512   0.980\n",
       "PREDICTOR_RAT_GANG_AFFILIATION1                          NA         NA      NA\n",
       "PREDICTOR_RAT_NARCOTIC_ARRESTS                     -0.42098    3.14008  -0.134\n",
       "PREDICTOR_RAT_TREND_IN_CRIMINAL_ACTIVITY            3.26209    2.86035   1.140\n",
       "PREDICTOR_RAT_UUW_ARRESTS                          -0.56820    1.07374  -0.529\n",
       "RACE_CODE_CD1                                      -2.56428    2.16842  -1.183\n",
       "RACE_CODE_CD2                                            NA         NA      NA\n",
       "                                                 Pr(>|z|)\n",
       "(Intercept)                                         0.769\n",
       "`PREDICTOR_RAT_AGE_AT_LATEST_ARREST30-40`              NA\n",
       "`PREDICTOR_RAT_AGE_AT_LATEST_ARRESTless than 20`    0.484\n",
       "PREDICTOR_RAT_VICTIM_SHOOTING_INCIDENTS             0.996\n",
       "PREDICTOR_RAT_VICTIM_BATTERY_OR_ASSAULT             0.996\n",
       "PREDICTOR_RAT_ARRESTS_VIOLENT_OFFENSES              0.327\n",
       "PREDICTOR_RAT_GANG_AFFILIATION1                        NA\n",
       "PREDICTOR_RAT_NARCOTIC_ARRESTS                      0.893\n",
       "PREDICTOR_RAT_TREND_IN_CRIMINAL_ACTIVITY            0.254\n",
       "PREDICTOR_RAT_UUW_ARRESTS                           0.597\n",
       "RACE_CODE_CD1                                       0.237\n",
       "RACE_CODE_CD2                                          NA\n",
       "\n",
       "(Dispersion parameter for binomial family taken to be 1)\n",
       "\n",
       "    Null deviance: 25.4567  on 25  degrees of freedom\n",
       "Residual deviance:  6.9059  on 17  degrees of freedom\n",
       "AIC: 24.906\n",
       "\n",
       "Number of Fisher Scoring iterations: 21\n"
      ]
     },
     "metadata": {},
     "output_type": "display_data"
    }
   ],
   "source": [
    "summary(mod_fit_PSM)"
   ]
  }
 ],
 "metadata": {
  "kernelspec": {
   "display_name": "R",
   "language": "R",
   "name": "ir"
  },
  "language_info": {
   "codemirror_mode": "r",
   "file_extension": ".r",
   "mimetype": "text/x-r-source",
   "name": "R",
   "pygments_lexer": "r",
   "version": "3.3.2"
  }
 },
 "nbformat": 4,
 "nbformat_minor": 2
}
