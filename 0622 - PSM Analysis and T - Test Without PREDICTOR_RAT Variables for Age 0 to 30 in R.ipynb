{
 "cells": [
  {
   "cell_type": "code",
   "execution_count": 38,
   "metadata": {},
   "outputs": [
    {
     "name": "stdout",
     "output_type": "stream",
     "text": [
      "The Number of Rows in Initial Data is 150348"
     ]
    }
   ],
   "source": [
    "raw_data <- read.csv(\"Data_SSL_PSM_WITHOUT_RAT_AGE_0_30.csv\", sep=\",\", header=T, strip.white = T, na.strings = c(\"NA\",\"NaN\",\"\",\"?\"))\n",
    "#Converting the \".\" in column names to \"_\"\n",
    "names(raw_data)<-gsub(\"\\\\.\", \"_\", names(raw_data))\n",
    "cat(\"The Number of Rows in Initial Data is\", nrow(raw_data))"
   ]
  },
  {
   "cell_type": "code",
   "execution_count": 39,
   "metadata": {},
   "outputs": [
    {
     "data": {
      "text/html": [
       "<dl class=dl-horizontal>\n",
       "\t<dt>PRE_RAW_HEAT_SCORE</dt>\n",
       "\t\t<dd>0</dd>\n",
       "\t<dt>AGE_GROUP</dt>\n",
       "\t\t<dd>0</dd>\n",
       "\t<dt>AGE_TO</dt>\n",
       "\t\t<dd>0</dd>\n",
       "\t<dt>AGE_CURR</dt>\n",
       "\t\t<dd>0</dd>\n",
       "\t<dt>LATEST_DIST</dt>\n",
       "\t\t<dd>0</dd>\n",
       "\t<dt>LATEST_DIST_RES</dt>\n",
       "\t\t<dd>0</dd>\n",
       "\t<dt>DRUG_I</dt>\n",
       "\t\t<dd>0</dd>\n",
       "\t<dt>WEAPON_I</dt>\n",
       "\t\t<dd>0</dd>\n",
       "\t<dt>RACE_CODE_CD</dt>\n",
       "\t\t<dd>0</dd>\n",
       "\t<dt>SEX_CODE_CD</dt>\n",
       "\t\t<dd>0</dd>\n",
       "\t<dt>CPD_ARREST_I</dt>\n",
       "\t\t<dd>0</dd>\n",
       "\t<dt>LATEST_DATE</dt>\n",
       "\t\t<dd>0</dd>\n",
       "</dl>\n"
      ],
      "text/latex": [
       "\\begin{description*}\n",
       "\\item[PRE\\textbackslash{}\\_RAW\\textbackslash{}\\_HEAT\\textbackslash{}\\_SCORE] 0\n",
       "\\item[AGE\\textbackslash{}\\_GROUP] 0\n",
       "\\item[AGE\\textbackslash{}\\_TO] 0\n",
       "\\item[AGE\\textbackslash{}\\_CURR] 0\n",
       "\\item[LATEST\\textbackslash{}\\_DIST] 0\n",
       "\\item[LATEST\\textbackslash{}\\_DIST\\textbackslash{}\\_RES] 0\n",
       "\\item[DRUG\\textbackslash{}\\_I] 0\n",
       "\\item[WEAPON\\textbackslash{}\\_I] 0\n",
       "\\item[RACE\\textbackslash{}\\_CODE\\textbackslash{}\\_CD] 0\n",
       "\\item[SEX\\textbackslash{}\\_CODE\\textbackslash{}\\_CD] 0\n",
       "\\item[CPD\\textbackslash{}\\_ARREST\\textbackslash{}\\_I] 0\n",
       "\\item[LATEST\\textbackslash{}\\_DATE] 0\n",
       "\\end{description*}\n"
      ],
      "text/markdown": [
       "PRE_RAW_HEAT_SCORE\n",
       ":   0AGE_GROUP\n",
       ":   0AGE_TO\n",
       ":   0AGE_CURR\n",
       ":   0LATEST_DIST\n",
       ":   0LATEST_DIST_RES\n",
       ":   0DRUG_I\n",
       ":   0WEAPON_I\n",
       ":   0RACE_CODE_CD\n",
       ":   0SEX_CODE_CD\n",
       ":   0CPD_ARREST_I\n",
       ":   0LATEST_DATE\n",
       ":   0\n",
       "\n"
      ],
      "text/plain": [
       "PRE_RAW_HEAT_SCORE          AGE_GROUP             AGE_TO           AGE_CURR \n",
       "                 0                  0                  0                  0 \n",
       "       LATEST_DIST    LATEST_DIST_RES             DRUG_I           WEAPON_I \n",
       "                 0                  0                  0                  0 \n",
       "      RACE_CODE_CD        SEX_CODE_CD       CPD_ARREST_I        LATEST_DATE \n",
       "                 0                  0                  0                  0 "
      ]
     },
     "metadata": {},
     "output_type": "display_data"
    }
   ],
   "source": [
    "# Checking the Missing Values \n",
    "sapply(raw_data,function(x) sum(is.na(x)))"
   ]
  },
  {
   "cell_type": "code",
   "execution_count": 40,
   "metadata": {},
   "outputs": [
    {
     "name": "stdout",
     "output_type": "stream",
     "text": [
      "After removing the incomplete rows, the number of rows are 150348"
     ]
    }
   ],
   "source": [
    "complete_data <- raw_data[complete.cases(raw_data),]\n",
    "cat(\"After removing the incomplete rows, the number of rows are\", nrow(complete_data))"
   ]
  },
  {
   "cell_type": "code",
   "execution_count": 41,
   "metadata": {},
   "outputs": [
    {
     "data": {
      "text/html": [
       "<table>\n",
       "<thead><tr><th scope=col>PRE_RAW_HEAT_SCORE</th><th scope=col>AGE_GROUP</th><th scope=col>AGE_TO</th><th scope=col>AGE_CURR</th><th scope=col>LATEST_DIST</th><th scope=col>LATEST_DIST_RES</th><th scope=col>DRUG_I</th><th scope=col>WEAPON_I</th><th scope=col>RACE_CODE_CD</th><th scope=col>SEX_CODE_CD</th><th scope=col>CPD_ARREST_I</th><th scope=col>LATEST_DATE</th></tr></thead>\n",
       "<tbody>\n",
       "\t<tr><td>14196       </td><td>20-30       </td><td>20-30       </td><td>20-30       </td><td>31          </td><td>31          </td><td>N           </td><td>Y           </td><td>0           </td><td>M           </td><td>N           </td><td>2015        </td></tr>\n",
       "\t<tr><td>14511       </td><td>20-30       </td><td>20-30       </td><td>20-30       </td><td>31          </td><td> 8          </td><td>N           </td><td>N           </td><td>1           </td><td>M           </td><td>N           </td><td>2016        </td></tr>\n",
       "\t<tr><td>12982       </td><td>less than 20</td><td>less than 20</td><td>less than 20</td><td>31          </td><td> 8          </td><td>N           </td><td>N           </td><td>1           </td><td>M           </td><td>N           </td><td>2016        </td></tr>\n",
       "\t<tr><td>13110       </td><td>less than 20</td><td>less than 20</td><td>less than 20</td><td>31          </td><td> 4          </td><td>N           </td><td>Y           </td><td>0           </td><td>M           </td><td>Y           </td><td>2016        </td></tr>\n",
       "\t<tr><td>12874       </td><td>less than 20</td><td>less than 20</td><td>less than 20</td><td>31          </td><td>31          </td><td>N           </td><td>Y           </td><td>0           </td><td>M           </td><td>N           </td><td>2016        </td></tr>\n",
       "\t<tr><td>13535       </td><td>less than 20</td><td>less than 20</td><td>20-30       </td><td>31          </td><td> 2          </td><td>N           </td><td>Y           </td><td>0           </td><td>M           </td><td>N           </td><td>2015        </td></tr>\n",
       "\t<tr><td>12632       </td><td>less than 20</td><td>less than 20</td><td>less than 20</td><td>31          </td><td>31          </td><td>N           </td><td>N           </td><td>0           </td><td>M           </td><td>N           </td><td>2015        </td></tr>\n",
       "\t<tr><td>12620       </td><td>less than 20</td><td>less than 20</td><td>less than 20</td><td>31          </td><td> 5          </td><td>N           </td><td>N           </td><td>0           </td><td>M           </td><td>Y           </td><td>2016        </td></tr>\n",
       "\t<tr><td>12586       </td><td>less than 20</td><td>less than 20</td><td>less than 20</td><td>31          </td><td> 2          </td><td>N           </td><td>Y           </td><td>0           </td><td>M           </td><td>N           </td><td>2016        </td></tr>\n",
       "\t<tr><td>12476       </td><td>less than 20</td><td>less than 20</td><td>20-30       </td><td>31          </td><td>14          </td><td>Y           </td><td>Y           </td><td>0           </td><td>M           </td><td>N           </td><td>2016        </td></tr>\n",
       "\t<tr><td>12445       </td><td>20-30       </td><td>20-30       </td><td>20-30       </td><td>31          </td><td>10          </td><td>Y           </td><td>N           </td><td>0           </td><td>M           </td><td>N           </td><td>2016        </td></tr>\n",
       "\t<tr><td>12438       </td><td>20-30       </td><td>20-30       </td><td>20-30       </td><td>31          </td><td>31          </td><td>Y           </td><td>N           </td><td>0           </td><td>M           </td><td>N           </td><td>2015        </td></tr>\n",
       "\t<tr><td>12406       </td><td>less than 20</td><td>less than 20</td><td>less than 20</td><td>31          </td><td>31          </td><td>N           </td><td>N           </td><td>1           </td><td>M           </td><td>N           </td><td>2016        </td></tr>\n",
       "\t<tr><td>12362       </td><td>less than 20</td><td>less than 20</td><td>20-30       </td><td>31          </td><td>24          </td><td>Y           </td><td>Y           </td><td>0           </td><td>M           </td><td>N           </td><td>2015        </td></tr>\n",
       "\t<tr><td>12319       </td><td>less than 20</td><td>less than 20</td><td>less than 20</td><td>31          </td><td>31          </td><td>N           </td><td>Y           </td><td>0           </td><td>M           </td><td>N           </td><td>2016        </td></tr>\n",
       "\t<tr><td>12302       </td><td>less than 20</td><td>less than 20</td><td>less than 20</td><td>31          </td><td>31          </td><td>N           </td><td>Y           </td><td>0           </td><td>M           </td><td>N           </td><td>2015        </td></tr>\n",
       "\t<tr><td>12226       </td><td>less than 20</td><td>less than 20</td><td>less than 20</td><td>31          </td><td>24          </td><td>N           </td><td>Y           </td><td>0           </td><td>M           </td><td>N           </td><td>2016        </td></tr>\n",
       "\t<tr><td>12214       </td><td>less than 20</td><td>less than 20</td><td>less than 20</td><td>31          </td><td>31          </td><td>N           </td><td>Y           </td><td>0           </td><td>M           </td><td>N           </td><td>2016        </td></tr>\n",
       "\t<tr><td>12175       </td><td>less than 20</td><td>less than 20</td><td>less than 20</td><td>31          </td><td>31          </td><td>N           </td><td>N           </td><td>0           </td><td>M           </td><td>N           </td><td>2016        </td></tr>\n",
       "\t<tr><td>12156       </td><td>less than 20</td><td>less than 20</td><td>less than 20</td><td>31          </td><td>31          </td><td>N           </td><td>N           </td><td>0           </td><td>M           </td><td>N           </td><td>2015        </td></tr>\n",
       "\t<tr><td>12157       </td><td>less than 20</td><td>less than 20</td><td>less than 20</td><td>31          </td><td>10          </td><td>N           </td><td>N           </td><td>0           </td><td>M           </td><td>N           </td><td>2016        </td></tr>\n",
       "\t<tr><td>12134       </td><td>less than 20</td><td>less than 20</td><td>less than 20</td><td>31          </td><td>25          </td><td>N           </td><td>N           </td><td>0           </td><td>M           </td><td>N           </td><td>2016        </td></tr>\n",
       "\t<tr><td>12125       </td><td>20-30       </td><td>20-30       </td><td>20-30       </td><td>31          </td><td>24          </td><td>Y           </td><td>Y           </td><td>0           </td><td>M           </td><td>N           </td><td>2016        </td></tr>\n",
       "\t<tr><td>12061       </td><td>less than 20</td><td>less than 20</td><td>less than 20</td><td>31          </td><td> 4          </td><td>Y           </td><td>Y           </td><td>0           </td><td>M           </td><td>Y           </td><td>2016        </td></tr>\n",
       "\t<tr><td>12069       </td><td>less than 20</td><td>less than 20</td><td>less than 20</td><td>31          </td><td>31          </td><td>N           </td><td>N           </td><td>0           </td><td>M           </td><td>N           </td><td>2016        </td></tr>\n",
       "\t<tr><td>12052       </td><td>less than 20</td><td>less than 20</td><td>less than 20</td><td>31          </td><td> 4          </td><td>N           </td><td>N           </td><td>0           </td><td>M           </td><td>N           </td><td>2016        </td></tr>\n",
       "\t<tr><td>11988       </td><td>less than 20</td><td>less than 20</td><td>less than 20</td><td>31          </td><td>31          </td><td>N           </td><td>N           </td><td>0           </td><td>M           </td><td>N           </td><td>2012        </td></tr>\n",
       "\t<tr><td>11969       </td><td>20-30       </td><td>20-30       </td><td>20-30       </td><td>31          </td><td>15          </td><td>Y           </td><td>N           </td><td>0           </td><td>M           </td><td>Y           </td><td>2016        </td></tr>\n",
       "\t<tr><td>11936       </td><td>less than 20</td><td>less than 20</td><td>20-30       </td><td>31          </td><td>22          </td><td>N           </td><td>Y           </td><td>0           </td><td>M           </td><td>N           </td><td>2015        </td></tr>\n",
       "\t<tr><td>11896       </td><td>20-30       </td><td>20-30       </td><td>20-30       </td><td>31          </td><td> 5          </td><td>N           </td><td>N           </td><td>0           </td><td>M           </td><td>N           </td><td>2015        </td></tr>\n",
       "\t<tr><td>...</td><td>...</td><td>...</td><td>...</td><td>...</td><td>...</td><td>...</td><td>...</td><td>...</td><td>...</td><td>...</td><td>...</td></tr>\n",
       "\t<tr><td>9508        </td><td>20-30       </td><td>20-30       </td><td>20-30       </td><td>8           </td><td>31          </td><td>N           </td><td>N           </td><td>1           </td><td>M           </td><td>Y           </td><td>2016        </td></tr>\n",
       "\t<tr><td>9477        </td><td>less than 20</td><td>less than 20</td><td>20-30       </td><td>8           </td><td>31          </td><td>N           </td><td>N           </td><td>0           </td><td>M           </td><td>Y           </td><td>2014        </td></tr>\n",
       "\t<tr><td>9391        </td><td>20-30       </td><td>20-30       </td><td>20-30       </td><td>8           </td><td> 8          </td><td>Y           </td><td>N           </td><td>0           </td><td>F           </td><td>Y           </td><td>2016        </td></tr>\n",
       "\t<tr><td>9295        </td><td>20-30       </td><td>20-30       </td><td>20-30       </td><td>8           </td><td>31          </td><td>Y           </td><td>N           </td><td>1           </td><td>F           </td><td>Y           </td><td>2014        </td></tr>\n",
       "\t<tr><td>9267        </td><td>20-30       </td><td>20-30       </td><td>20-30       </td><td>8           </td><td>31          </td><td>Y           </td><td>N           </td><td>1           </td><td>F           </td><td>Y           </td><td>2012        </td></tr>\n",
       "\t<tr><td>9262        </td><td>20-30       </td><td>20-30       </td><td>20-30       </td><td>8           </td><td> 4          </td><td>N           </td><td>N           </td><td>0           </td><td>M           </td><td>Y           </td><td>2013        </td></tr>\n",
       "\t<tr><td>9256        </td><td>20-30       </td><td>20-30       </td><td>20-30       </td><td>8           </td><td> 7          </td><td>Y           </td><td>N           </td><td>0           </td><td>F           </td><td>Y           </td><td>2014        </td></tr>\n",
       "\t<tr><td>9231        </td><td>20-30       </td><td>20-30       </td><td>20-30       </td><td>8           </td><td>16          </td><td>N           </td><td>N           </td><td>1           </td><td>M           </td><td>N           </td><td>2015        </td></tr>\n",
       "\t<tr><td>9214        </td><td>20-30       </td><td>20-30       </td><td>20-30       </td><td>8           </td><td>31          </td><td>Y           </td><td>N           </td><td>0           </td><td>M           </td><td>Y           </td><td>2015        </td></tr>\n",
       "\t<tr><td>9220        </td><td>20-30       </td><td>20-30       </td><td>20-30       </td><td>8           </td><td>15          </td><td>N           </td><td>N           </td><td>0           </td><td>F           </td><td>Y           </td><td>2016        </td></tr>\n",
       "\t<tr><td>9191        </td><td>20-30       </td><td>20-30       </td><td>20-30       </td><td>8           </td><td>31          </td><td>Y           </td><td>N           </td><td>1           </td><td>M           </td><td>N           </td><td>2012        </td></tr>\n",
       "\t<tr><td>8945        </td><td>20-30       </td><td>20-30       </td><td>20-30       </td><td>1           </td><td>31          </td><td>N           </td><td>N           </td><td>0           </td><td>F           </td><td>Y           </td><td>2013        </td></tr>\n",
       "\t<tr><td>9166        </td><td>20-30       </td><td>20-30       </td><td>20-30       </td><td>8           </td><td>31          </td><td>N           </td><td>N           </td><td>0           </td><td>M           </td><td>Y           </td><td>2014        </td></tr>\n",
       "\t<tr><td>9084        </td><td>20-30       </td><td>20-30       </td><td>20-30       </td><td>8           </td><td>31          </td><td>Y           </td><td>Y           </td><td>0           </td><td>F           </td><td>Y           </td><td>2014        </td></tr>\n",
       "\t<tr><td>9014        </td><td>20-30       </td><td>20-30       </td><td>20-30       </td><td>8           </td><td>31          </td><td>N           </td><td>N           </td><td>0           </td><td>M           </td><td>Y           </td><td>2015        </td></tr>\n",
       "\t<tr><td>8997        </td><td>20-30       </td><td>20-30       </td><td>30-40       </td><td>8           </td><td>31          </td><td>N           </td><td>N           </td><td>0           </td><td>F           </td><td>Y           </td><td>2015        </td></tr>\n",
       "\t<tr><td>8980        </td><td>20-30       </td><td>20-30       </td><td>20-30       </td><td>8           </td><td>10          </td><td>N           </td><td>N           </td><td>1           </td><td>M           </td><td>N           </td><td>2015        </td></tr>\n",
       "\t<tr><td>8956        </td><td>20-30       </td><td>20-30       </td><td>20-30       </td><td>8           </td><td>31          </td><td>N           </td><td>N           </td><td>1           </td><td>M           </td><td>Y           </td><td>2013        </td></tr>\n",
       "\t<tr><td>8956        </td><td>20-30       </td><td>20-30       </td><td>20-30       </td><td>8           </td><td> 8          </td><td>N           </td><td>N           </td><td>1           </td><td>M           </td><td>Y           </td><td>2013        </td></tr>\n",
       "\t<tr><td>8945        </td><td>20-30       </td><td>20-30       </td><td>20-30       </td><td>8           </td><td> 8          </td><td>N           </td><td>N           </td><td>0           </td><td>F           </td><td>N           </td><td>2014        </td></tr>\n",
       "\t<tr><td>8880        </td><td>20-30       </td><td>20-30       </td><td>30-40       </td><td>8           </td><td>22          </td><td>N           </td><td>N           </td><td>0           </td><td>F           </td><td>Y           </td><td>2012        </td></tr>\n",
       "\t<tr><td>8808        </td><td>20-30       </td><td>20-30       </td><td>30-40       </td><td>8           </td><td>31          </td><td>Y           </td><td>N           </td><td>1           </td><td>M           </td><td>Y           </td><td>2012        </td></tr>\n",
       "\t<tr><td>8802        </td><td>20-30       </td><td>20-30       </td><td>30-40       </td><td>8           </td><td> 9          </td><td>N           </td><td>N           </td><td>0           </td><td>M           </td><td>Y           </td><td>2012        </td></tr>\n",
       "\t<tr><td>8791        </td><td>20-30       </td><td>20-30       </td><td>30-40       </td><td>8           </td><td>31          </td><td>N           </td><td>N           </td><td>1           </td><td>M           </td><td>Y           </td><td>2013        </td></tr>\n",
       "\t<tr><td>8791        </td><td>20-30       </td><td>20-30       </td><td>30-40       </td><td>8           </td><td> 4          </td><td>N           </td><td>N           </td><td>0           </td><td>F           </td><td>N           </td><td>2014        </td></tr>\n",
       "\t<tr><td>8725        </td><td>20-30       </td><td>20-30       </td><td>30-40       </td><td>8           </td><td>31          </td><td>N           </td><td>N           </td><td>1           </td><td>M           </td><td>Y           </td><td>2012        </td></tr>\n",
       "\t<tr><td>8616        </td><td>20-30       </td><td>20-30       </td><td>30-40       </td><td>8           </td><td>31          </td><td>N           </td><td>N           </td><td>1           </td><td>M           </td><td>Y           </td><td>2013        </td></tr>\n",
       "\t<tr><td>9526        </td><td>less than 20</td><td>less than 20</td><td>20-30       </td><td>1           </td><td>31          </td><td>N           </td><td>N           </td><td>1           </td><td>M           </td><td>Y           </td><td>2014        </td></tr>\n",
       "\t<tr><td>9149        </td><td>20-30       </td><td>20-30       </td><td>20-30       </td><td>1           </td><td>14          </td><td>N           </td><td>N           </td><td>1           </td><td>F           </td><td>Y           </td><td>2014        </td></tr>\n",
       "\t<tr><td>9073        </td><td>20-30       </td><td>20-30       </td><td>20-30       </td><td>1           </td><td>20          </td><td>N           </td><td>N           </td><td>1           </td><td>M           </td><td>Y           </td><td>2014        </td></tr>\n",
       "</tbody>\n",
       "</table>\n"
      ],
      "text/latex": [
       "\\begin{tabular}{r|llllllllllll}\n",
       " PRE\\_RAW\\_HEAT\\_SCORE & AGE\\_GROUP & AGE\\_TO & AGE\\_CURR & LATEST\\_DIST & LATEST\\_DIST\\_RES & DRUG\\_I & WEAPON\\_I & RACE\\_CODE\\_CD & SEX\\_CODE\\_CD & CPD\\_ARREST\\_I & LATEST\\_DATE\\\\\n",
       "\\hline\n",
       "\t 14196        & 20-30        & 20-30        & 20-30        & 31           & 31           & N            & Y            & 0            & M            & N            & 2015        \\\\\n",
       "\t 14511        & 20-30        & 20-30        & 20-30        & 31           &  8           & N            & N            & 1            & M            & N            & 2016        \\\\\n",
       "\t 12982        & less than 20 & less than 20 & less than 20 & 31           &  8           & N            & N            & 1            & M            & N            & 2016        \\\\\n",
       "\t 13110        & less than 20 & less than 20 & less than 20 & 31           &  4           & N            & Y            & 0            & M            & Y            & 2016        \\\\\n",
       "\t 12874        & less than 20 & less than 20 & less than 20 & 31           & 31           & N            & Y            & 0            & M            & N            & 2016        \\\\\n",
       "\t 13535        & less than 20 & less than 20 & 20-30        & 31           &  2           & N            & Y            & 0            & M            & N            & 2015        \\\\\n",
       "\t 12632        & less than 20 & less than 20 & less than 20 & 31           & 31           & N            & N            & 0            & M            & N            & 2015        \\\\\n",
       "\t 12620        & less than 20 & less than 20 & less than 20 & 31           &  5           & N            & N            & 0            & M            & Y            & 2016        \\\\\n",
       "\t 12586        & less than 20 & less than 20 & less than 20 & 31           &  2           & N            & Y            & 0            & M            & N            & 2016        \\\\\n",
       "\t 12476        & less than 20 & less than 20 & 20-30        & 31           & 14           & Y            & Y            & 0            & M            & N            & 2016        \\\\\n",
       "\t 12445        & 20-30        & 20-30        & 20-30        & 31           & 10           & Y            & N            & 0            & M            & N            & 2016        \\\\\n",
       "\t 12438        & 20-30        & 20-30        & 20-30        & 31           & 31           & Y            & N            & 0            & M            & N            & 2015        \\\\\n",
       "\t 12406        & less than 20 & less than 20 & less than 20 & 31           & 31           & N            & N            & 1            & M            & N            & 2016        \\\\\n",
       "\t 12362        & less than 20 & less than 20 & 20-30        & 31           & 24           & Y            & Y            & 0            & M            & N            & 2015        \\\\\n",
       "\t 12319        & less than 20 & less than 20 & less than 20 & 31           & 31           & N            & Y            & 0            & M            & N            & 2016        \\\\\n",
       "\t 12302        & less than 20 & less than 20 & less than 20 & 31           & 31           & N            & Y            & 0            & M            & N            & 2015        \\\\\n",
       "\t 12226        & less than 20 & less than 20 & less than 20 & 31           & 24           & N            & Y            & 0            & M            & N            & 2016        \\\\\n",
       "\t 12214        & less than 20 & less than 20 & less than 20 & 31           & 31           & N            & Y            & 0            & M            & N            & 2016        \\\\\n",
       "\t 12175        & less than 20 & less than 20 & less than 20 & 31           & 31           & N            & N            & 0            & M            & N            & 2016        \\\\\n",
       "\t 12156        & less than 20 & less than 20 & less than 20 & 31           & 31           & N            & N            & 0            & M            & N            & 2015        \\\\\n",
       "\t 12157        & less than 20 & less than 20 & less than 20 & 31           & 10           & N            & N            & 0            & M            & N            & 2016        \\\\\n",
       "\t 12134        & less than 20 & less than 20 & less than 20 & 31           & 25           & N            & N            & 0            & M            & N            & 2016        \\\\\n",
       "\t 12125        & 20-30        & 20-30        & 20-30        & 31           & 24           & Y            & Y            & 0            & M            & N            & 2016        \\\\\n",
       "\t 12061        & less than 20 & less than 20 & less than 20 & 31           &  4           & Y            & Y            & 0            & M            & Y            & 2016        \\\\\n",
       "\t 12069        & less than 20 & less than 20 & less than 20 & 31           & 31           & N            & N            & 0            & M            & N            & 2016        \\\\\n",
       "\t 12052        & less than 20 & less than 20 & less than 20 & 31           &  4           & N            & N            & 0            & M            & N            & 2016        \\\\\n",
       "\t 11988        & less than 20 & less than 20 & less than 20 & 31           & 31           & N            & N            & 0            & M            & N            & 2012        \\\\\n",
       "\t 11969        & 20-30        & 20-30        & 20-30        & 31           & 15           & Y            & N            & 0            & M            & Y            & 2016        \\\\\n",
       "\t 11936        & less than 20 & less than 20 & 20-30        & 31           & 22           & N            & Y            & 0            & M            & N            & 2015        \\\\\n",
       "\t 11896        & 20-30        & 20-30        & 20-30        & 31           &  5           & N            & N            & 0            & M            & N            & 2015        \\\\\n",
       "\t ... & ... & ... & ... & ... & ... & ... & ... & ... & ... & ... & ...\\\\\n",
       "\t 9508         & 20-30        & 20-30        & 20-30        & 8            & 31           & N            & N            & 1            & M            & Y            & 2016        \\\\\n",
       "\t 9477         & less than 20 & less than 20 & 20-30        & 8            & 31           & N            & N            & 0            & M            & Y            & 2014        \\\\\n",
       "\t 9391         & 20-30        & 20-30        & 20-30        & 8            &  8           & Y            & N            & 0            & F            & Y            & 2016        \\\\\n",
       "\t 9295         & 20-30        & 20-30        & 20-30        & 8            & 31           & Y            & N            & 1            & F            & Y            & 2014        \\\\\n",
       "\t 9267         & 20-30        & 20-30        & 20-30        & 8            & 31           & Y            & N            & 1            & F            & Y            & 2012        \\\\\n",
       "\t 9262         & 20-30        & 20-30        & 20-30        & 8            &  4           & N            & N            & 0            & M            & Y            & 2013        \\\\\n",
       "\t 9256         & 20-30        & 20-30        & 20-30        & 8            &  7           & Y            & N            & 0            & F            & Y            & 2014        \\\\\n",
       "\t 9231         & 20-30        & 20-30        & 20-30        & 8            & 16           & N            & N            & 1            & M            & N            & 2015        \\\\\n",
       "\t 9214         & 20-30        & 20-30        & 20-30        & 8            & 31           & Y            & N            & 0            & M            & Y            & 2015        \\\\\n",
       "\t 9220         & 20-30        & 20-30        & 20-30        & 8            & 15           & N            & N            & 0            & F            & Y            & 2016        \\\\\n",
       "\t 9191         & 20-30        & 20-30        & 20-30        & 8            & 31           & Y            & N            & 1            & M            & N            & 2012        \\\\\n",
       "\t 8945         & 20-30        & 20-30        & 20-30        & 1            & 31           & N            & N            & 0            & F            & Y            & 2013        \\\\\n",
       "\t 9166         & 20-30        & 20-30        & 20-30        & 8            & 31           & N            & N            & 0            & M            & Y            & 2014        \\\\\n",
       "\t 9084         & 20-30        & 20-30        & 20-30        & 8            & 31           & Y            & Y            & 0            & F            & Y            & 2014        \\\\\n",
       "\t 9014         & 20-30        & 20-30        & 20-30        & 8            & 31           & N            & N            & 0            & M            & Y            & 2015        \\\\\n",
       "\t 8997         & 20-30        & 20-30        & 30-40        & 8            & 31           & N            & N            & 0            & F            & Y            & 2015        \\\\\n",
       "\t 8980         & 20-30        & 20-30        & 20-30        & 8            & 10           & N            & N            & 1            & M            & N            & 2015        \\\\\n",
       "\t 8956         & 20-30        & 20-30        & 20-30        & 8            & 31           & N            & N            & 1            & M            & Y            & 2013        \\\\\n",
       "\t 8956         & 20-30        & 20-30        & 20-30        & 8            &  8           & N            & N            & 1            & M            & Y            & 2013        \\\\\n",
       "\t 8945         & 20-30        & 20-30        & 20-30        & 8            &  8           & N            & N            & 0            & F            & N            & 2014        \\\\\n",
       "\t 8880         & 20-30        & 20-30        & 30-40        & 8            & 22           & N            & N            & 0            & F            & Y            & 2012        \\\\\n",
       "\t 8808         & 20-30        & 20-30        & 30-40        & 8            & 31           & Y            & N            & 1            & M            & Y            & 2012        \\\\\n",
       "\t 8802         & 20-30        & 20-30        & 30-40        & 8            &  9           & N            & N            & 0            & M            & Y            & 2012        \\\\\n",
       "\t 8791         & 20-30        & 20-30        & 30-40        & 8            & 31           & N            & N            & 1            & M            & Y            & 2013        \\\\\n",
       "\t 8791         & 20-30        & 20-30        & 30-40        & 8            &  4           & N            & N            & 0            & F            & N            & 2014        \\\\\n",
       "\t 8725         & 20-30        & 20-30        & 30-40        & 8            & 31           & N            & N            & 1            & M            & Y            & 2012        \\\\\n",
       "\t 8616         & 20-30        & 20-30        & 30-40        & 8            & 31           & N            & N            & 1            & M            & Y            & 2013        \\\\\n",
       "\t 9526         & less than 20 & less than 20 & 20-30        & 1            & 31           & N            & N            & 1            & M            & Y            & 2014        \\\\\n",
       "\t 9149         & 20-30        & 20-30        & 20-30        & 1            & 14           & N            & N            & 1            & F            & Y            & 2014        \\\\\n",
       "\t 9073         & 20-30        & 20-30        & 20-30        & 1            & 20           & N            & N            & 1            & M            & Y            & 2014        \\\\\n",
       "\\end{tabular}\n"
      ],
      "text/markdown": [
       "\n",
       "PRE_RAW_HEAT_SCORE | AGE_GROUP | AGE_TO | AGE_CURR | LATEST_DIST | LATEST_DIST_RES | DRUG_I | WEAPON_I | RACE_CODE_CD | SEX_CODE_CD | CPD_ARREST_I | LATEST_DATE | \n",
       "|---|---|---|---|---|---|---|---|---|---|---|---|---|---|---|---|---|---|---|---|---|---|---|---|---|---|---|---|---|---|---|---|---|---|---|---|---|---|---|---|---|---|---|---|---|---|---|---|---|---|---|---|---|---|---|---|---|---|---|---|---|\n",
       "| 14196        | 20-30        | 20-30        | 20-30        | 31           | 31           | N            | Y            | 0            | M            | N            | 2015         | \n",
       "| 14511        | 20-30        | 20-30        | 20-30        | 31           |  8           | N            | N            | 1            | M            | N            | 2016         | \n",
       "| 12982        | less than 20 | less than 20 | less than 20 | 31           |  8           | N            | N            | 1            | M            | N            | 2016         | \n",
       "| 13110        | less than 20 | less than 20 | less than 20 | 31           |  4           | N            | Y            | 0            | M            | Y            | 2016         | \n",
       "| 12874        | less than 20 | less than 20 | less than 20 | 31           | 31           | N            | Y            | 0            | M            | N            | 2016         | \n",
       "| 13535        | less than 20 | less than 20 | 20-30        | 31           |  2           | N            | Y            | 0            | M            | N            | 2015         | \n",
       "| 12632        | less than 20 | less than 20 | less than 20 | 31           | 31           | N            | N            | 0            | M            | N            | 2015         | \n",
       "| 12620        | less than 20 | less than 20 | less than 20 | 31           |  5           | N            | N            | 0            | M            | Y            | 2016         | \n",
       "| 12586        | less than 20 | less than 20 | less than 20 | 31           |  2           | N            | Y            | 0            | M            | N            | 2016         | \n",
       "| 12476        | less than 20 | less than 20 | 20-30        | 31           | 14           | Y            | Y            | 0            | M            | N            | 2016         | \n",
       "| 12445        | 20-30        | 20-30        | 20-30        | 31           | 10           | Y            | N            | 0            | M            | N            | 2016         | \n",
       "| 12438        | 20-30        | 20-30        | 20-30        | 31           | 31           | Y            | N            | 0            | M            | N            | 2015         | \n",
       "| 12406        | less than 20 | less than 20 | less than 20 | 31           | 31           | N            | N            | 1            | M            | N            | 2016         | \n",
       "| 12362        | less than 20 | less than 20 | 20-30        | 31           | 24           | Y            | Y            | 0            | M            | N            | 2015         | \n",
       "| 12319        | less than 20 | less than 20 | less than 20 | 31           | 31           | N            | Y            | 0            | M            | N            | 2016         | \n",
       "| 12302        | less than 20 | less than 20 | less than 20 | 31           | 31           | N            | Y            | 0            | M            | N            | 2015         | \n",
       "| 12226        | less than 20 | less than 20 | less than 20 | 31           | 24           | N            | Y            | 0            | M            | N            | 2016         | \n",
       "| 12214        | less than 20 | less than 20 | less than 20 | 31           | 31           | N            | Y            | 0            | M            | N            | 2016         | \n",
       "| 12175        | less than 20 | less than 20 | less than 20 | 31           | 31           | N            | N            | 0            | M            | N            | 2016         | \n",
       "| 12156        | less than 20 | less than 20 | less than 20 | 31           | 31           | N            | N            | 0            | M            | N            | 2015         | \n",
       "| 12157        | less than 20 | less than 20 | less than 20 | 31           | 10           | N            | N            | 0            | M            | N            | 2016         | \n",
       "| 12134        | less than 20 | less than 20 | less than 20 | 31           | 25           | N            | N            | 0            | M            | N            | 2016         | \n",
       "| 12125        | 20-30        | 20-30        | 20-30        | 31           | 24           | Y            | Y            | 0            | M            | N            | 2016         | \n",
       "| 12061        | less than 20 | less than 20 | less than 20 | 31           |  4           | Y            | Y            | 0            | M            | Y            | 2016         | \n",
       "| 12069        | less than 20 | less than 20 | less than 20 | 31           | 31           | N            | N            | 0            | M            | N            | 2016         | \n",
       "| 12052        | less than 20 | less than 20 | less than 20 | 31           |  4           | N            | N            | 0            | M            | N            | 2016         | \n",
       "| 11988        | less than 20 | less than 20 | less than 20 | 31           | 31           | N            | N            | 0            | M            | N            | 2012         | \n",
       "| 11969        | 20-30        | 20-30        | 20-30        | 31           | 15           | Y            | N            | 0            | M            | Y            | 2016         | \n",
       "| 11936        | less than 20 | less than 20 | 20-30        | 31           | 22           | N            | Y            | 0            | M            | N            | 2015         | \n",
       "| 11896        | 20-30        | 20-30        | 20-30        | 31           |  5           | N            | N            | 0            | M            | N            | 2015         | \n",
       "| ... | ... | ... | ... | ... | ... | ... | ... | ... | ... | ... | ... | \n",
       "| 9508         | 20-30        | 20-30        | 20-30        | 8            | 31           | N            | N            | 1            | M            | Y            | 2016         | \n",
       "| 9477         | less than 20 | less than 20 | 20-30        | 8            | 31           | N            | N            | 0            | M            | Y            | 2014         | \n",
       "| 9391         | 20-30        | 20-30        | 20-30        | 8            |  8           | Y            | N            | 0            | F            | Y            | 2016         | \n",
       "| 9295         | 20-30        | 20-30        | 20-30        | 8            | 31           | Y            | N            | 1            | F            | Y            | 2014         | \n",
       "| 9267         | 20-30        | 20-30        | 20-30        | 8            | 31           | Y            | N            | 1            | F            | Y            | 2012         | \n",
       "| 9262         | 20-30        | 20-30        | 20-30        | 8            |  4           | N            | N            | 0            | M            | Y            | 2013         | \n",
       "| 9256         | 20-30        | 20-30        | 20-30        | 8            |  7           | Y            | N            | 0            | F            | Y            | 2014         | \n",
       "| 9231         | 20-30        | 20-30        | 20-30        | 8            | 16           | N            | N            | 1            | M            | N            | 2015         | \n",
       "| 9214         | 20-30        | 20-30        | 20-30        | 8            | 31           | Y            | N            | 0            | M            | Y            | 2015         | \n",
       "| 9220         | 20-30        | 20-30        | 20-30        | 8            | 15           | N            | N            | 0            | F            | Y            | 2016         | \n",
       "| 9191         | 20-30        | 20-30        | 20-30        | 8            | 31           | Y            | N            | 1            | M            | N            | 2012         | \n",
       "| 8945         | 20-30        | 20-30        | 20-30        | 1            | 31           | N            | N            | 0            | F            | Y            | 2013         | \n",
       "| 9166         | 20-30        | 20-30        | 20-30        | 8            | 31           | N            | N            | 0            | M            | Y            | 2014         | \n",
       "| 9084         | 20-30        | 20-30        | 20-30        | 8            | 31           | Y            | Y            | 0            | F            | Y            | 2014         | \n",
       "| 9014         | 20-30        | 20-30        | 20-30        | 8            | 31           | N            | N            | 0            | M            | Y            | 2015         | \n",
       "| 8997         | 20-30        | 20-30        | 30-40        | 8            | 31           | N            | N            | 0            | F            | Y            | 2015         | \n",
       "| 8980         | 20-30        | 20-30        | 20-30        | 8            | 10           | N            | N            | 1            | M            | N            | 2015         | \n",
       "| 8956         | 20-30        | 20-30        | 20-30        | 8            | 31           | N            | N            | 1            | M            | Y            | 2013         | \n",
       "| 8956         | 20-30        | 20-30        | 20-30        | 8            |  8           | N            | N            | 1            | M            | Y            | 2013         | \n",
       "| 8945         | 20-30        | 20-30        | 20-30        | 8            |  8           | N            | N            | 0            | F            | N            | 2014         | \n",
       "| 8880         | 20-30        | 20-30        | 30-40        | 8            | 22           | N            | N            | 0            | F            | Y            | 2012         | \n",
       "| 8808         | 20-30        | 20-30        | 30-40        | 8            | 31           | Y            | N            | 1            | M            | Y            | 2012         | \n",
       "| 8802         | 20-30        | 20-30        | 30-40        | 8            |  9           | N            | N            | 0            | M            | Y            | 2012         | \n",
       "| 8791         | 20-30        | 20-30        | 30-40        | 8            | 31           | N            | N            | 1            | M            | Y            | 2013         | \n",
       "| 8791         | 20-30        | 20-30        | 30-40        | 8            |  4           | N            | N            | 0            | F            | N            | 2014         | \n",
       "| 8725         | 20-30        | 20-30        | 30-40        | 8            | 31           | N            | N            | 1            | M            | Y            | 2012         | \n",
       "| 8616         | 20-30        | 20-30        | 30-40        | 8            | 31           | N            | N            | 1            | M            | Y            | 2013         | \n",
       "| 9526         | less than 20 | less than 20 | 20-30        | 1            | 31           | N            | N            | 1            | M            | Y            | 2014         | \n",
       "| 9149         | 20-30        | 20-30        | 20-30        | 1            | 14           | N            | N            | 1            | F            | Y            | 2014         | \n",
       "| 9073         | 20-30        | 20-30        | 20-30        | 1            | 20           | N            | N            | 1            | M            | Y            | 2014         | \n",
       "\n",
       "\n"
      ],
      "text/plain": [
       "       PRE_RAW_HEAT_SCORE AGE_GROUP    AGE_TO       AGE_CURR     LATEST_DIST\n",
       "1      14196              20-30        20-30        20-30        31         \n",
       "2      14511              20-30        20-30        20-30        31         \n",
       "3      12982              less than 20 less than 20 less than 20 31         \n",
       "4      13110              less than 20 less than 20 less than 20 31         \n",
       "5      12874              less than 20 less than 20 less than 20 31         \n",
       "6      13535              less than 20 less than 20 20-30        31         \n",
       "7      12632              less than 20 less than 20 less than 20 31         \n",
       "8      12620              less than 20 less than 20 less than 20 31         \n",
       "9      12586              less than 20 less than 20 less than 20 31         \n",
       "10     12476              less than 20 less than 20 20-30        31         \n",
       "11     12445              20-30        20-30        20-30        31         \n",
       "12     12438              20-30        20-30        20-30        31         \n",
       "13     12406              less than 20 less than 20 less than 20 31         \n",
       "14     12362              less than 20 less than 20 20-30        31         \n",
       "15     12319              less than 20 less than 20 less than 20 31         \n",
       "16     12302              less than 20 less than 20 less than 20 31         \n",
       "17     12226              less than 20 less than 20 less than 20 31         \n",
       "18     12214              less than 20 less than 20 less than 20 31         \n",
       "19     12175              less than 20 less than 20 less than 20 31         \n",
       "20     12156              less than 20 less than 20 less than 20 31         \n",
       "21     12157              less than 20 less than 20 less than 20 31         \n",
       "22     12134              less than 20 less than 20 less than 20 31         \n",
       "23     12125              20-30        20-30        20-30        31         \n",
       "24     12061              less than 20 less than 20 less than 20 31         \n",
       "25     12069              less than 20 less than 20 less than 20 31         \n",
       "26     12052              less than 20 less than 20 less than 20 31         \n",
       "27     11988              less than 20 less than 20 less than 20 31         \n",
       "28     11969              20-30        20-30        20-30        31         \n",
       "29     11936              less than 20 less than 20 20-30        31         \n",
       "30     11896              20-30        20-30        20-30        31         \n",
       "...    ...                ...          ...          ...          ...        \n",
       "150319 9508               20-30        20-30        20-30        8          \n",
       "150320 9477               less than 20 less than 20 20-30        8          \n",
       "150321 9391               20-30        20-30        20-30        8          \n",
       "150322 9295               20-30        20-30        20-30        8          \n",
       "150323 9267               20-30        20-30        20-30        8          \n",
       "150324 9262               20-30        20-30        20-30        8          \n",
       "150325 9256               20-30        20-30        20-30        8          \n",
       "150326 9231               20-30        20-30        20-30        8          \n",
       "150327 9214               20-30        20-30        20-30        8          \n",
       "150328 9220               20-30        20-30        20-30        8          \n",
       "150329 9191               20-30        20-30        20-30        8          \n",
       "150330 8945               20-30        20-30        20-30        1          \n",
       "150331 9166               20-30        20-30        20-30        8          \n",
       "150332 9084               20-30        20-30        20-30        8          \n",
       "150333 9014               20-30        20-30        20-30        8          \n",
       "150334 8997               20-30        20-30        30-40        8          \n",
       "150335 8980               20-30        20-30        20-30        8          \n",
       "150336 8956               20-30        20-30        20-30        8          \n",
       "150337 8956               20-30        20-30        20-30        8          \n",
       "150338 8945               20-30        20-30        20-30        8          \n",
       "150339 8880               20-30        20-30        30-40        8          \n",
       "150340 8808               20-30        20-30        30-40        8          \n",
       "150341 8802               20-30        20-30        30-40        8          \n",
       "150342 8791               20-30        20-30        30-40        8          \n",
       "150343 8791               20-30        20-30        30-40        8          \n",
       "150344 8725               20-30        20-30        30-40        8          \n",
       "150345 8616               20-30        20-30        30-40        8          \n",
       "150346 9526               less than 20 less than 20 20-30        1          \n",
       "150347 9149               20-30        20-30        20-30        1          \n",
       "150348 9073               20-30        20-30        20-30        1          \n",
       "       LATEST_DIST_RES DRUG_I WEAPON_I RACE_CODE_CD SEX_CODE_CD CPD_ARREST_I\n",
       "1      31              N      Y        0            M           N           \n",
       "2       8              N      N        1            M           N           \n",
       "3       8              N      N        1            M           N           \n",
       "4       4              N      Y        0            M           Y           \n",
       "5      31              N      Y        0            M           N           \n",
       "6       2              N      Y        0            M           N           \n",
       "7      31              N      N        0            M           N           \n",
       "8       5              N      N        0            M           Y           \n",
       "9       2              N      Y        0            M           N           \n",
       "10     14              Y      Y        0            M           N           \n",
       "11     10              Y      N        0            M           N           \n",
       "12     31              Y      N        0            M           N           \n",
       "13     31              N      N        1            M           N           \n",
       "14     24              Y      Y        0            M           N           \n",
       "15     31              N      Y        0            M           N           \n",
       "16     31              N      Y        0            M           N           \n",
       "17     24              N      Y        0            M           N           \n",
       "18     31              N      Y        0            M           N           \n",
       "19     31              N      N        0            M           N           \n",
       "20     31              N      N        0            M           N           \n",
       "21     10              N      N        0            M           N           \n",
       "22     25              N      N        0            M           N           \n",
       "23     24              Y      Y        0            M           N           \n",
       "24      4              Y      Y        0            M           Y           \n",
       "25     31              N      N        0            M           N           \n",
       "26      4              N      N        0            M           N           \n",
       "27     31              N      N        0            M           N           \n",
       "28     15              Y      N        0            M           Y           \n",
       "29     22              N      Y        0            M           N           \n",
       "30      5              N      N        0            M           N           \n",
       "...    ...             ...    ...      ...          ...         ...         \n",
       "150319 31              N      N        1            M           Y           \n",
       "150320 31              N      N        0            M           Y           \n",
       "150321  8              Y      N        0            F           Y           \n",
       "150322 31              Y      N        1            F           Y           \n",
       "150323 31              Y      N        1            F           Y           \n",
       "150324  4              N      N        0            M           Y           \n",
       "150325  7              Y      N        0            F           Y           \n",
       "150326 16              N      N        1            M           N           \n",
       "150327 31              Y      N        0            M           Y           \n",
       "150328 15              N      N        0            F           Y           \n",
       "150329 31              Y      N        1            M           N           \n",
       "150330 31              N      N        0            F           Y           \n",
       "150331 31              N      N        0            M           Y           \n",
       "150332 31              Y      Y        0            F           Y           \n",
       "150333 31              N      N        0            M           Y           \n",
       "150334 31              N      N        0            F           Y           \n",
       "150335 10              N      N        1            M           N           \n",
       "150336 31              N      N        1            M           Y           \n",
       "150337  8              N      N        1            M           Y           \n",
       "150338  8              N      N        0            F           N           \n",
       "150339 22              N      N        0            F           Y           \n",
       "150340 31              Y      N        1            M           Y           \n",
       "150341  9              N      N        0            M           Y           \n",
       "150342 31              N      N        1            M           Y           \n",
       "150343  4              N      N        0            F           N           \n",
       "150344 31              N      N        1            M           Y           \n",
       "150345 31              N      N        1            M           Y           \n",
       "150346 31              N      N        1            M           Y           \n",
       "150347 14              N      N        1            F           Y           \n",
       "150348 20              N      N        1            M           Y           \n",
       "       LATEST_DATE\n",
       "1      2015       \n",
       "2      2016       \n",
       "3      2016       \n",
       "4      2016       \n",
       "5      2016       \n",
       "6      2015       \n",
       "7      2015       \n",
       "8      2016       \n",
       "9      2016       \n",
       "10     2016       \n",
       "11     2016       \n",
       "12     2015       \n",
       "13     2016       \n",
       "14     2015       \n",
       "15     2016       \n",
       "16     2015       \n",
       "17     2016       \n",
       "18     2016       \n",
       "19     2016       \n",
       "20     2015       \n",
       "21     2016       \n",
       "22     2016       \n",
       "23     2016       \n",
       "24     2016       \n",
       "25     2016       \n",
       "26     2016       \n",
       "27     2012       \n",
       "28     2016       \n",
       "29     2015       \n",
       "30     2015       \n",
       "...    ...        \n",
       "150319 2016       \n",
       "150320 2014       \n",
       "150321 2016       \n",
       "150322 2014       \n",
       "150323 2012       \n",
       "150324 2013       \n",
       "150325 2014       \n",
       "150326 2015       \n",
       "150327 2015       \n",
       "150328 2016       \n",
       "150329 2012       \n",
       "150330 2013       \n",
       "150331 2014       \n",
       "150332 2014       \n",
       "150333 2015       \n",
       "150334 2015       \n",
       "150335 2015       \n",
       "150336 2013       \n",
       "150337 2013       \n",
       "150338 2014       \n",
       "150339 2012       \n",
       "150340 2012       \n",
       "150341 2012       \n",
       "150342 2013       \n",
       "150343 2014       \n",
       "150344 2012       \n",
       "150345 2013       \n",
       "150346 2014       \n",
       "150347 2014       \n",
       "150348 2014       "
      ]
     },
     "metadata": {},
     "output_type": "display_data"
    }
   ],
   "source": [
    "complete_data"
   ]
  },
  {
   "cell_type": "code",
   "execution_count": 42,
   "metadata": {
    "collapsed": true
   },
   "outputs": [],
   "source": [
    "#sub_set_complete_data<-complete_data[(complete_data$RACE_CODE_CD == \"BLK\") | (complete_data$RACE_CODE_CD == \"WHI\"),]"
   ]
  },
  {
   "cell_type": "code",
   "execution_count": 43,
   "metadata": {
    "collapsed": true
   },
   "outputs": [],
   "source": [
    "#nrow(sub_set_complete_data)"
   ]
  },
  {
   "cell_type": "code",
   "execution_count": 44,
   "metadata": {
    "collapsed": true
   },
   "outputs": [],
   "source": [
    "# Converting the categorical variables into factors\n",
    "complete_data$AGE_GROUP <- as.factor(complete_data$AGE_GROUP)\n",
    "complete_data$AGE_CURR<- as.factor(complete_data$AGE_CURR)\n",
    "complete_data$LATEST_DIST<- as.factor(complete_data$LATEST_DIST)\n",
    "complete_data$LATEST_DIST_RES<- as.factor(complete_data$LATEST_DIST_RES)\n",
    "complete_data$DRUG_I<- as.factor(complete_data$DRUG_I)\n",
    "complete_data$WEAPON_I<- as.factor(complete_data$WEAPON_I)\n",
    "complete_data$RACE_CODE_CD<- as.factor(complete_data$RACE_CODE_CD) \n",
    "complete_data$SEX_CODE_CD<- as.factor(complete_data$SEX_CODE_CD)\n",
    "complete_data$CPD_ARREST_I<- as.factor(complete_data$CPD_ARREST_I)\n",
    "complete_data$LATEST_DATE<- as.factor(complete_data$LATEST_DATE)\n"
   ]
  },
  {
   "cell_type": "code",
   "execution_count": 45,
   "metadata": {},
   "outputs": [
    {
     "data": {
      "text/plain": [
       "\n",
       "Call:\n",
       "glm(formula = RACE_CODE_CD ~ AGE_GROUP + AGE_CURR + LATEST_DIST + \n",
       "    LATEST_DIST_RES + DRUG_I + WEAPON_I + SEX_CODE_CD + CPD_ARREST_I + \n",
       "    LATEST_DATE, family = binomial(), data = complete_data)\n",
       "\n",
       "Deviance Residuals: \n",
       "    Min       1Q   Median       3Q      Max  \n",
       "-2.7216  -0.7626  -0.1508   0.7287   4.0051  \n",
       "\n",
       "Coefficients:\n",
       "                       Estimate Std. Error z value Pr(>|z|)    \n",
       "(Intercept)           -0.511443   0.201385  -2.540 0.011097 *  \n",
       "AGE_GROUPless than 20 -0.110143   0.021005  -5.244 1.57e-07 ***\n",
       "AGE_CURR30-40          0.134562   0.021690   6.204 5.51e-10 ***\n",
       "AGE_CURR40-50         -1.043951   1.207952  -0.864 0.387461    \n",
       "AGE_CURRless than 20  -0.327546   0.026564 -12.331  < 2e-16 ***\n",
       "LATEST_DIST2          -2.099314   0.125680 -16.704  < 2e-16 ***\n",
       "LATEST_DIST3          -2.959737   0.154518 -19.155  < 2e-16 ***\n",
       "LATEST_DIST4          -1.457671   0.087971 -16.570  < 2e-16 ***\n",
       "LATEST_DIST5          -2.354185   0.108110 -21.776  < 2e-16 ***\n",
       "LATEST_DIST6          -2.384997   0.103626 -23.015  < 2e-16 ***\n",
       "LATEST_DIST7          -2.813215   0.122283 -23.006  < 2e-16 ***\n",
       "LATEST_DIST8          -0.790536   0.066814 -11.832  < 2e-16 ***\n",
       "LATEST_DIST9          -0.672928   0.073840  -9.113  < 2e-16 ***\n",
       "LATEST_DIST10         -1.309932   0.088857 -14.742  < 2e-16 ***\n",
       "LATEST_DIST11         -1.290175   0.064221 -20.090  < 2e-16 ***\n",
       "LATEST_DIST12         -0.147155   0.067907  -2.167 0.030235 *  \n",
       "LATEST_DIST14          0.297644   0.080118   3.715 0.000203 ***\n",
       "LATEST_DIST15         -1.327355   0.076085 -17.446  < 2e-16 ***\n",
       "LATEST_DIST16          0.844108   0.079446  10.625  < 2e-16 ***\n",
       "LATEST_DIST17          0.214505   0.089586   2.394 0.016647 *  \n",
       "LATEST_DIST18          0.184172   0.061681   2.986 0.002827 ** \n",
       "LATEST_DIST19          0.190157   0.062274   3.054 0.002261 ** \n",
       "LATEST_DIST20         -0.080630   0.093134  -0.866 0.386629    \n",
       "LATEST_DIST22         -1.334619   0.086563 -15.418  < 2e-16 ***\n",
       "LATEST_DIST24         -0.597909   0.079025  -7.566 3.85e-14 ***\n",
       "LATEST_DIST25         -0.588674   0.069903  -8.421  < 2e-16 ***\n",
       "LATEST_DIST31         -0.676253   0.064001 -10.566  < 2e-16 ***\n",
       "LATEST_DIST_RES2      -2.052653   0.137525 -14.926  < 2e-16 ***\n",
       "LATEST_DIST_RES3      -3.685522   0.249953 -14.745  < 2e-16 ***\n",
       "LATEST_DIST_RES4      -1.669501   0.118144 -14.131  < 2e-16 ***\n",
       "LATEST_DIST_RES5      -3.014826   0.177296 -17.005  < 2e-16 ***\n",
       "LATEST_DIST_RES6      -3.554270   0.216553 -16.413  < 2e-16 ***\n",
       "LATEST_DIST_RES7      -2.889617   0.165235 -17.488  < 2e-16 ***\n",
       "LATEST_DIST_RES8       0.168061   0.090671   1.854 0.063807 .  \n",
       "LATEST_DIST_RES9       0.418167   0.098157   4.260 2.04e-05 ***\n",
       "LATEST_DIST_RES10     -1.157646   0.108311 -10.688  < 2e-16 ***\n",
       "LATEST_DIST_RES11     -2.505220   0.121605 -20.601  < 2e-16 ***\n",
       "LATEST_DIST_RES12     -0.177535   0.097733  -1.817 0.069290 .  \n",
       "LATEST_DIST_RES14      0.473046   0.103557   4.568 4.92e-06 ***\n",
       "LATEST_DIST_RES15     -3.238200   0.167141 -19.374  < 2e-16 ***\n",
       "LATEST_DIST_RES16      2.965626   0.118687  24.987  < 2e-16 ***\n",
       "LATEST_DIST_RES17      1.590453   0.109982  14.461  < 2e-16 ***\n",
       "LATEST_DIST_RES18      0.039714   0.111285   0.357 0.721190    \n",
       "LATEST_DIST_RES19      0.862409   0.099316   8.683  < 2e-16 ***\n",
       "LATEST_DIST_RES20      0.795161   0.114218   6.962 3.36e-12 ***\n",
       "LATEST_DIST_RES22     -0.898861   0.105270  -8.539  < 2e-16 ***\n",
       "LATEST_DIST_RES24      0.348336   0.097706   3.565 0.000364 ***\n",
       "LATEST_DIST_RES25     -0.120983   0.093949  -1.288 0.197831    \n",
       "LATEST_DIST_RES31      0.709953   0.081003   8.765  < 2e-16 ***\n",
       "DRUG_IY                0.180790   0.019367   9.335  < 2e-16 ***\n",
       "WEAPON_IY             -1.765689   0.050922 -34.674  < 2e-16 ***\n",
       "SEX_CODE_CDM           0.318245   0.015722  20.242  < 2e-16 ***\n",
       "CPD_ARREST_IY         -0.618464   0.049773 -12.426  < 2e-16 ***\n",
       "LATEST_DATE2007        0.335312   0.234734   1.428 0.153155    \n",
       "LATEST_DATE2008        0.355218   0.225836   1.573 0.115742    \n",
       "LATEST_DATE2009        0.244884   0.219275   1.117 0.264083    \n",
       "LATEST_DATE2010        0.009611   0.209703   0.046 0.963445    \n",
       "LATEST_DATE2011        0.048962   0.198444   0.247 0.805119    \n",
       "LATEST_DATE2012        0.421461   0.179480   2.348 0.018863 *  \n",
       "LATEST_DATE2013        0.363756   0.178669   2.036 0.041758 *  \n",
       "LATEST_DATE2014        0.305555   0.178761   1.709 0.087397 .  \n",
       "LATEST_DATE2015        0.244393   0.178860   1.366 0.171815    \n",
       "LATEST_DATE2016        0.062113   0.179184   0.347 0.728857    \n",
       "---\n",
       "Signif. codes:  0 '***' 0.001 '**' 0.01 '*' 0.05 '.' 0.1 ' ' 1\n",
       "\n",
       "(Dispersion parameter for binomial family taken to be 1)\n",
       "\n",
       "    Null deviance: 173560  on 150347  degrees of freedom\n",
       "Residual deviance: 120266  on 150285  degrees of freedom\n",
       "AIC: 120392\n",
       "\n",
       "Number of Fisher Scoring iterations: 8\n"
      ]
     },
     "metadata": {},
     "output_type": "display_data"
    }
   ],
   "source": [
    "m_ps_a <- glm(RACE_CODE_CD ~ AGE_GROUP  +  AGE_CURR + \n",
    "            LATEST_DIST + LATEST_DIST_RES + DRUG_I + WEAPON_I +SEX_CODE_CD+CPD_ARREST_I+LATEST_DATE,            \n",
    "            family = binomial(), data = complete_data)\n",
    "summary(m_ps_a)"
   ]
  },
  {
   "cell_type": "code",
   "execution_count": 46,
   "metadata": {},
   "outputs": [
    {
     "data": {
      "text/html": [
       "<table>\n",
       "<thead><tr><th scope=col>pr_score</th><th scope=col>RACE_CODE_CD</th></tr></thead>\n",
       "<tbody>\n",
       "\t<tr><td>0.156990402</td><td>0          </td></tr>\n",
       "\t<tr><td>0.345410208</td><td>1          </td></tr>\n",
       "\t<tr><td>0.254080880</td><td>1          </td></tr>\n",
       "\t<tr><td>0.004973333</td><td>0          </td></tr>\n",
       "\t<tr><td>0.091059898</td><td>0          </td></tr>\n",
       "\t<tr><td>0.010420118</td><td>0          </td></tr>\n",
       "</tbody>\n",
       "</table>\n"
      ],
      "text/latex": [
       "\\begin{tabular}{r|ll}\n",
       " pr\\_score & RACE\\_CODE\\_CD\\\\\n",
       "\\hline\n",
       "\t 0.156990402 & 0          \\\\\n",
       "\t 0.345410208 & 1          \\\\\n",
       "\t 0.254080880 & 1          \\\\\n",
       "\t 0.004973333 & 0          \\\\\n",
       "\t 0.091059898 & 0          \\\\\n",
       "\t 0.010420118 & 0          \\\\\n",
       "\\end{tabular}\n"
      ],
      "text/markdown": [
       "\n",
       "pr_score | RACE_CODE_CD | \n",
       "|---|---|---|---|---|---|\n",
       "| 0.156990402 | 0           | \n",
       "| 0.345410208 | 1           | \n",
       "| 0.254080880 | 1           | \n",
       "| 0.004973333 | 0           | \n",
       "| 0.091059898 | 0           | \n",
       "| 0.010420118 | 0           | \n",
       "\n",
       "\n"
      ],
      "text/plain": [
       "  pr_score    RACE_CODE_CD\n",
       "1 0.156990402 0           \n",
       "2 0.345410208 1           \n",
       "3 0.254080880 1           \n",
       "4 0.004973333 0           \n",
       "5 0.091059898 0           \n",
       "6 0.010420118 0           "
      ]
     },
     "metadata": {},
     "output_type": "display_data"
    }
   ],
   "source": [
    "prs_df_a <- data.frame(pr_score = predict(m_ps_a, type = \"response\"),\n",
    "                     RACE_CODE_CD = m_ps_a$model$RACE_CODE_CD)\n",
    "head(prs_df_a)"
   ]
  },
  {
   "cell_type": "code",
   "execution_count": 47,
   "metadata": {},
   "outputs": [
    {
     "name": "stderr",
     "output_type": "stream",
     "text": [
      "`stat_bin()` using `bins = 30`. Pick better value with `binwidth`.\n"
     ]
    },
    {
     "data": {},
     "metadata": {},
     "output_type": "display_data"
    },
    {
     "data": {
      "image/png": "[encoded data removed]",
      "text/plain": [
       "plot without title"
      ]
     },
     "metadata": {},
     "output_type": "display_data"
    }
   ],
   "source": [
    "library(dplyr)\n",
    "library(ggplot2)\n",
    "labs <- paste(\"Person's Race:\", c(\"Black\", \"White\"))\n",
    "prs_df_a %>%\n",
    "  mutate(RACE_CODE_CD = ifelse(RACE_CODE_CD == 0, labs[1], labs[2])) %>%\n",
    "  ggplot(aes(x = pr_score)) +\n",
    "  geom_histogram(color = \"white\") +\n",
    "  facet_wrap(~RACE_CODE_CD) +\n",
    "  xlab(\"Probability of Race: Black & White\") +\n",
    "  theme_bw()"
   ]
  },
  {
   "cell_type": "code",
   "execution_count": 48,
   "metadata": {},
   "outputs": [],
   "source": [
    "library(MatchIt )"
   ]
  },
  {
   "cell_type": "code",
   "execution_count": 49,
   "metadata": {
    "collapsed": true
   },
   "outputs": [],
   "source": [
    "m.out = matchit(RACE_CODE_CD~ AGE_GROUP + AGE_CURR+LATEST_DIST+LATEST_DIST_RES+DRUG_I+WEAPON_I+\n",
    "                  SEX_CODE_CD+CPD_ARREST_I+LATEST_DATE,\n",
    "                data = complete_data, method = \"nearest\",\n",
    "                ratio = 1)"
   ]
  },
  {
   "cell_type": "code",
   "execution_count": 50,
   "metadata": {},
   "outputs": [
    {
     "data": {
      "text/plain": [
       "\n",
       "Call: \n",
       "matchit(formula = RACE_CODE_CD ~ AGE_GROUP + AGE_CURR + LATEST_DIST + \n",
       "    LATEST_DIST_RES + DRUG_I + WEAPON_I + SEX_CODE_CD + CPD_ARREST_I + \n",
       "    LATEST_DATE, data = complete_data, method = \"nearest\", ratio = 1)\n",
       "\n",
       "Sample sizes:\n",
       "          Control Treated\n",
       "All        110657   39691\n",
       "Matched     39691   39691\n",
       "Unmatched   70966       0\n",
       "Discarded       0       0\n"
      ]
     },
     "metadata": {},
     "output_type": "display_data"
    }
   ],
   "source": [
    "m.out"
   ]
  },
  {
   "cell_type": "code",
   "execution_count": 51,
   "metadata": {},
   "outputs": [
    {
     "name": "stdout",
     "output_type": "stream",
     "text": [
      "[1] \"To identify the units, use first mouse button; to stop, use second.\"\n"
     ]
    },
    {
     "data": {
      "text/html": [],
      "text/latex": [],
      "text/markdown": [],
      "text/plain": [
       "integer(0)"
      ]
     },
     "metadata": {},
     "output_type": "display_data"
    },
    {
     "data": {
      "image/png": "[encoded data removed]",
      "text/plain": [
       "Plot with title \"Distribution of Propensity Scores\""
      ]
     },
     "metadata": {},
     "output_type": "display_data"
    }
   ],
   "source": [
    "plot(m.out, type = \"jitter\")"
   ]
  },
  {
   "cell_type": "code",
   "execution_count": 52,
   "metadata": {},
   "outputs": [
    {
     "data": {
      "image/png": "[encoded data removed]",
      "text/plain": [
       "Plot with title \"Matched Control\""
      ]
     },
     "metadata": {},
     "output_type": "display_data"
    }
   ],
   "source": [
    "plot(m.out, type = \"hist\")"
   ]
  },
  {
   "cell_type": "code",
   "execution_count": 53,
   "metadata": {},
   "outputs": [
    {
     "data": {
      "text/html": [
       "<ol class=list-inline>\n",
       "\t<li>79382</li>\n",
       "\t<li>14</li>\n",
       "</ol>\n"
      ],
      "text/latex": [
       "\\begin{enumerate*}\n",
       "\\item 79382\n",
       "\\item 14\n",
       "\\end{enumerate*}\n"
      ],
      "text/markdown": [
       "1. 79382\n",
       "2. 14\n",
       "\n",
       "\n"
      ],
      "text/plain": [
       "[1] 79382    14"
      ]
     },
     "metadata": {},
     "output_type": "display_data"
    }
   ],
   "source": [
    "dta_m_1 <- match.data((m.out))\n",
    "dim(dta_m_1)"
   ]
  },
  {
   "cell_type": "code",
   "execution_count": 54,
   "metadata": {},
   "outputs": [],
   "source": [
    "matched_1 <- match.data(m.out)\n",
    "matched_copy_1<-matched_1"
   ]
  },
  {
   "cell_type": "code",
   "execution_count": 55,
   "metadata": {},
   "outputs": [
    {
     "name": "stderr",
     "output_type": "stream",
     "text": [
      "The following objects are masked from matched_1 (pos = 3):\n",
      "\n",
      "    AGE_CURR, AGE_GROUP, AGE_TO, CPD_ARREST_I, distance, DRUG_I,\n",
      "    LATEST_DATE, LATEST_DIST, LATEST_DIST_RES, PRE_RAW_HEAT_SCORE,\n",
      "    RACE_CODE_CD, SEX_CODE_CD, WEAPON_I, weights\n",
      "\n",
      "The following objects are masked from matched_1 (pos = 4):\n",
      "\n",
      "    AGE_CURR, AGE_GROUP, AGE_TO, CPD_ARREST_I, distance, DRUG_I,\n",
      "    LATEST_DATE, LATEST_DIST, LATEST_DIST_RES, PRE_RAW_HEAT_SCORE,\n",
      "    RACE_CODE_CD, SEX_CODE_CD, WEAPON_I, weights\n",
      "\n"
     ]
    },
    {
     "data": {
      "image/png": "[encoded data removed]",
      "text/plain": [
       "plot without title"
      ]
     },
     "metadata": {},
     "output_type": "display_data"
    }
   ],
   "source": [
    "# Doing T - test on matched records\n",
    "attach(matched_1)\n",
    "boxplot(PRE_RAW_HEAT_SCORE~RACE_CODE_CD)"
   ]
  },
  {
   "cell_type": "code",
   "execution_count": 56,
   "metadata": {},
   "outputs": [
    {
     "data": {
      "image/png": "[encoded data removed]",
      "text/plain": [
       "Plot with title \"Normal Q-Q Plot\""
      ]
     },
     "metadata": {},
     "output_type": "display_data"
    }
   ],
   "source": [
    "race_black <-subset(matched_1,RACE_CODE_CD == 0)\n",
    "race_white<-subset(matched_1,RACE_CODE_CD == 1)\n",
    "# Normal QQ Plot for RACE == BLACK\n",
    "qqnorm(race_black$PRE_RAW_HEAT_SCORE)\n",
    "qqline(race_black$PRE_RAW_HEAT_SCORE)"
   ]
  },
  {
   "cell_type": "code",
   "execution_count": 57,
   "metadata": {},
   "outputs": [
    {
     "data": {
      "image/png": "[encoded data removed]",
      "text/plain": [
       "Plot with title \"Normal Q-Q Plot\""
      ]
     },
     "metadata": {},
     "output_type": "display_data"
    }
   ],
   "source": [
    "# Normal QQ Plot for RACE == WHITE\n",
    "qqnorm(race_white$PRE_RAW_HEAT_SCORE)\n",
    "qqline(race_white$PRE_RAW_HEAT_SCORE)"
   ]
  },
  {
   "cell_type": "code",
   "execution_count": 58,
   "metadata": {},
   "outputs": [
    {
     "data": {
      "text/plain": [
       "\n",
       "\tWelch Two Sample t-test\n",
       "\n",
       "data:  PRE_RAW_HEAT_SCORE by RACE_CODE_CD\n",
       "t = 26.224, df = 77506, p-value < 2.2e-16\n",
       "alternative hypothesis: true difference in means is not equal to 0\n",
       "95 percent confidence interval:\n",
       " 69.45958 80.68101\n",
       "sample estimates:\n",
       "mean in group 0 mean in group 1 \n",
       "       9367.652        9292.581 \n"
      ]
     },
     "metadata": {},
     "output_type": "display_data"
    }
   ],
   "source": [
    "t.test(PRE_RAW_HEAT_SCORE~RACE_CODE_CD)"
   ]
  }
 ],
 "metadata": {
  "kernelspec": {
   "display_name": "R",
   "language": "R",
   "name": "ir"
  },
  "language_info": {
   "codemirror_mode": "r",
   "file_extension": ".r",
   "mimetype": "text/x-r-source",
   "name": "R",
   "pygments_lexer": "r",
   "version": "3.3.2"
  }
 },
 "nbformat": 4,
 "nbformat_minor": 2
}
