{
 "cells": [
  {
   "cell_type": "code",
   "execution_count": 1,
   "metadata": {},
   "outputs": [
    {
     "name": "stdout",
     "output_type": "stream",
     "text": [
      "The Number of Rows in Initial Data is 995"
     ]
    }
   ],
   "source": [
    "raw_data <- read.csv(\"SSL_RAT_SEX_Code_70_80.csv\", sep=\",\", header=T, strip.white = T, na.strings = c(\"NA\",\"NaN\",\"\",\"?\"))\n",
    "#Converting the \".\" in column names to \"_\"\n",
    "names(raw_data)<-gsub(\"\\\\.\", \"_\", names(raw_data))\n",
    "cat(\"The Number of Rows in Initial Data is\", nrow(raw_data))"
   ]
  },
  {
   "cell_type": "code",
   "execution_count": 2,
   "metadata": {
    "collapsed": true
   },
   "outputs": [],
   "source": [
    "final_features<-raw_data[,c('SSL_SCORE','SSL_SCORE_RANK','PREDICTOR_RAT_AGE_AT_LATEST_ARREST','PREDICTOR_RAT_VICTIM_SHOOTING_INCIDENTS',\n",
    "                            'PREDICTOR_RAT_VICTIM_BATTERY_OR_ASSAULT','PREDICTOR_RAT_ARRESTS_VIOLENT_OFFENSES','PREDICTOR_RAT_GANG_AFFILIATION', \n",
    "                           'PREDICTOR_RAT_NARCOTIC_ARRESTS','PREDICTOR_RAT_TREND_IN_CRIMINAL_ACTIVITY','PREDICTOR_RAT_UUW_ARRESTS','SEX_CODE_CD')]"
   ]
  },
  {
   "cell_type": "code",
   "execution_count": 3,
   "metadata": {},
   "outputs": [
    {
     "data": {
      "text/html": [
       "995"
      ],
      "text/latex": [
       "995"
      ],
      "text/markdown": [
       "995"
      ],
      "text/plain": [
       "[1] 995"
      ]
     },
     "metadata": {},
     "output_type": "display_data"
    }
   ],
   "source": [
    "complete_data <- final_features[complete.cases(final_features),]\n",
    "nrow(complete_data)"
   ]
  },
  {
   "cell_type": "code",
   "execution_count": 4,
   "metadata": {},
   "outputs": [
    {
     "data": {
      "text/html": [
       "<table>\n",
       "<thead><tr><th scope=col>SSL_SCORE</th><th scope=col>SSL_SCORE_RANK</th><th scope=col>PREDICTOR_RAT_AGE_AT_LATEST_ARREST</th><th scope=col>PREDICTOR_RAT_VICTIM_SHOOTING_INCIDENTS</th><th scope=col>PREDICTOR_RAT_VICTIM_BATTERY_OR_ASSAULT</th><th scope=col>PREDICTOR_RAT_ARRESTS_VIOLENT_OFFENSES</th><th scope=col>PREDICTOR_RAT_GANG_AFFILIATION</th><th scope=col>PREDICTOR_RAT_NARCOTIC_ARRESTS</th><th scope=col>PREDICTOR_RAT_TREND_IN_CRIMINAL_ACTIVITY</th><th scope=col>PREDICTOR_RAT_UUW_ARRESTS</th><th scope=col>SEX_CODE_CD</th></tr></thead>\n",
       "<tbody>\n",
       "\t<tr><td>158   </td><td>387545</td><td>70-80 </td><td>0     </td><td>0     </td><td>1     </td><td>0     </td><td>0     </td><td> 0.3  </td><td>1     </td><td>1     </td></tr>\n",
       "\t<tr><td>148   </td><td>391116</td><td>70-80 </td><td>0     </td><td>1     </td><td>0     </td><td>0     </td><td>0     </td><td> 0.3  </td><td>0     </td><td>1     </td></tr>\n",
       "\t<tr><td>143   </td><td>392702</td><td>70-80 </td><td>0     </td><td>1     </td><td>1     </td><td>0     </td><td>0     </td><td> 0.3  </td><td>0     </td><td>1     </td></tr>\n",
       "\t<tr><td>138   </td><td>393847</td><td>70-80 </td><td>0     </td><td>1     </td><td>0     </td><td>0     </td><td>0     </td><td>-0.1  </td><td>0     </td><td>1     </td></tr>\n",
       "\t<tr><td>133   </td><td>394919</td><td>70-80 </td><td>0     </td><td>1     </td><td>1     </td><td>0     </td><td>0     </td><td>-0.4  </td><td>0     </td><td>1     </td></tr>\n",
       "\t<tr><td>132   </td><td>395095</td><td>70-80 </td><td>0     </td><td>0     </td><td>1     </td><td>0     </td><td>0     </td><td> 0.1  </td><td>1     </td><td>1     </td></tr>\n",
       "</tbody>\n",
       "</table>\n"
      ],
      "text/latex": [
       "\\begin{tabular}{r|lllllllllll}\n",
       " SSL\\_SCORE & SSL\\_SCORE\\_RANK & PREDICTOR\\_RAT\\_AGE\\_AT\\_LATEST\\_ARREST & PREDICTOR\\_RAT\\_VICTIM\\_SHOOTING\\_INCIDENTS & PREDICTOR\\_RAT\\_VICTIM\\_BATTERY\\_OR\\_ASSAULT & PREDICTOR\\_RAT\\_ARRESTS\\_VIOLENT\\_OFFENSES & PREDICTOR\\_RAT\\_GANG\\_AFFILIATION & PREDICTOR\\_RAT\\_NARCOTIC\\_ARRESTS & PREDICTOR\\_RAT\\_TREND\\_IN\\_CRIMINAL\\_ACTIVITY & PREDICTOR\\_RAT\\_UUW\\_ARRESTS & SEX\\_CODE\\_CD\\\\\n",
       "\\hline\n",
       "\t 158    & 387545 & 70-80  & 0      & 0      & 1      & 0      & 0      &  0.3   & 1      & 1     \\\\\n",
       "\t 148    & 391116 & 70-80  & 0      & 1      & 0      & 0      & 0      &  0.3   & 0      & 1     \\\\\n",
       "\t 143    & 392702 & 70-80  & 0      & 1      & 1      & 0      & 0      &  0.3   & 0      & 1     \\\\\n",
       "\t 138    & 393847 & 70-80  & 0      & 1      & 0      & 0      & 0      & -0.1   & 0      & 1     \\\\\n",
       "\t 133    & 394919 & 70-80  & 0      & 1      & 1      & 0      & 0      & -0.4   & 0      & 1     \\\\\n",
       "\t 132    & 395095 & 70-80  & 0      & 0      & 1      & 0      & 0      &  0.1   & 1      & 1     \\\\\n",
       "\\end{tabular}\n"
      ],
      "text/markdown": [
       "\n",
       "SSL_SCORE | SSL_SCORE_RANK | PREDICTOR_RAT_AGE_AT_LATEST_ARREST | PREDICTOR_RAT_VICTIM_SHOOTING_INCIDENTS | PREDICTOR_RAT_VICTIM_BATTERY_OR_ASSAULT | PREDICTOR_RAT_ARRESTS_VIOLENT_OFFENSES | PREDICTOR_RAT_GANG_AFFILIATION | PREDICTOR_RAT_NARCOTIC_ARRESTS | PREDICTOR_RAT_TREND_IN_CRIMINAL_ACTIVITY | PREDICTOR_RAT_UUW_ARRESTS | SEX_CODE_CD | \n",
       "|---|---|---|---|---|---|\n",
       "| 158    | 387545 | 70-80  | 0      | 0      | 1      | 0      | 0      |  0.3   | 1      | 1      | \n",
       "| 148    | 391116 | 70-80  | 0      | 1      | 0      | 0      | 0      |  0.3   | 0      | 1      | \n",
       "| 143    | 392702 | 70-80  | 0      | 1      | 1      | 0      | 0      |  0.3   | 0      | 1      | \n",
       "| 138    | 393847 | 70-80  | 0      | 1      | 0      | 0      | 0      | -0.1   | 0      | 1      | \n",
       "| 133    | 394919 | 70-80  | 0      | 1      | 1      | 0      | 0      | -0.4   | 0      | 1      | \n",
       "| 132    | 395095 | 70-80  | 0      | 0      | 1      | 0      | 0      |  0.1   | 1      | 1      | \n",
       "\n",
       "\n"
      ],
      "text/plain": [
       "  SSL_SCORE SSL_SCORE_RANK PREDICTOR_RAT_AGE_AT_LATEST_ARREST\n",
       "1 158       387545         70-80                             \n",
       "2 148       391116         70-80                             \n",
       "3 143       392702         70-80                             \n",
       "4 138       393847         70-80                             \n",
       "5 133       394919         70-80                             \n",
       "6 132       395095         70-80                             \n",
       "  PREDICTOR_RAT_VICTIM_SHOOTING_INCIDENTS\n",
       "1 0                                      \n",
       "2 0                                      \n",
       "3 0                                      \n",
       "4 0                                      \n",
       "5 0                                      \n",
       "6 0                                      \n",
       "  PREDICTOR_RAT_VICTIM_BATTERY_OR_ASSAULT\n",
       "1 0                                      \n",
       "2 1                                      \n",
       "3 1                                      \n",
       "4 1                                      \n",
       "5 1                                      \n",
       "6 0                                      \n",
       "  PREDICTOR_RAT_ARRESTS_VIOLENT_OFFENSES PREDICTOR_RAT_GANG_AFFILIATION\n",
       "1 1                                      0                             \n",
       "2 0                                      0                             \n",
       "3 1                                      0                             \n",
       "4 0                                      0                             \n",
       "5 1                                      0                             \n",
       "6 1                                      0                             \n",
       "  PREDICTOR_RAT_NARCOTIC_ARRESTS PREDICTOR_RAT_TREND_IN_CRIMINAL_ACTIVITY\n",
       "1 0                               0.3                                    \n",
       "2 0                               0.3                                    \n",
       "3 0                               0.3                                    \n",
       "4 0                              -0.1                                    \n",
       "5 0                              -0.4                                    \n",
       "6 0                               0.1                                    \n",
       "  PREDICTOR_RAT_UUW_ARRESTS SEX_CODE_CD\n",
       "1 1                         1          \n",
       "2 0                         1          \n",
       "3 0                         1          \n",
       "4 0                         1          \n",
       "5 0                         1          \n",
       "6 1                         1          "
      ]
     },
     "metadata": {},
     "output_type": "display_data"
    }
   ],
   "source": [
    "head(complete_data)"
   ]
  },
  {
   "cell_type": "code",
   "execution_count": 5,
   "metadata": {},
   "outputs": [
    {
     "name": "stderr",
     "output_type": "stream",
     "text": [
      "Warning message:\n",
      "\"package 'MatchIt' was built under R version 3.3.3\"Warning message:\n",
      "\"package 'dplyr' was built under R version 3.3.3\"\n",
      "Attaching package: 'dplyr'\n",
      "\n",
      "The following objects are masked from 'package:stats':\n",
      "\n",
      "    filter, lag\n",
      "\n",
      "The following objects are masked from 'package:base':\n",
      "\n",
      "    intersect, setdiff, setequal, union\n",
      "\n",
      "Warning message:\n",
      "\"package 'ggplot2' was built under R version 3.3.3\""
     ]
    }
   ],
   "source": [
    "library(MatchIt)\n",
    "library(dplyr)\n",
    "library(ggplot2)"
   ]
  },
  {
   "cell_type": "code",
   "execution_count": 6,
   "metadata": {},
   "outputs": [
    {
     "data": {
      "text/html": [
       "<table>\n",
       "<thead><tr><th scope=col>SEX_CODE_CD</th><th scope=col>NUMBER_OF_PEOPLE</th><th scope=col>MEAN_SSL_SCORE</th><th scope=col>STD_ERROR</th></tr></thead>\n",
       "<tbody>\n",
       "\t<tr><td>0        </td><td>126      </td><td>91.94444 </td><td>1.2184458</td></tr>\n",
       "\t<tr><td>1        </td><td>869      </td><td>91.59264 </td><td>0.5091056</td></tr>\n",
       "</tbody>\n",
       "</table>\n"
      ],
      "text/latex": [
       "\\begin{tabular}{r|llll}\n",
       " SEX\\_CODE\\_CD & NUMBER\\_OF\\_PEOPLE & MEAN\\_SSL\\_SCORE & STD\\_ERROR\\\\\n",
       "\\hline\n",
       "\t 0         & 126       & 91.94444  & 1.2184458\\\\\n",
       "\t 1         & 869       & 91.59264  & 0.5091056\\\\\n",
       "\\end{tabular}\n"
      ],
      "text/markdown": [
       "\n",
       "SEX_CODE_CD | NUMBER_OF_PEOPLE | MEAN_SSL_SCORE | STD_ERROR | \n",
       "|---|---|\n",
       "| 0         | 126       | 91.94444  | 1.2184458 | \n",
       "| 1         | 869       | 91.59264  | 0.5091056 | \n",
       "\n",
       "\n"
      ],
      "text/plain": [
       "  SEX_CODE_CD NUMBER_OF_PEOPLE MEAN_SSL_SCORE STD_ERROR\n",
       "1 0           126              91.94444       1.2184458\n",
       "2 1           869              91.59264       0.5091056"
      ]
     },
     "metadata": {},
     "output_type": "display_data"
    }
   ],
   "source": [
    "#SSL_SCORE\n",
    "complete_data %>%\n",
    "  group_by(SEX_CODE_CD) %>%\n",
    "  summarise(NUMBER_OF_PEOPLE = n(),\n",
    "            MEAN_SSL_SCORE = mean(SSL_SCORE),\n",
    "            STD_ERROR = sd(SSL_SCORE) / sqrt(NUMBER_OF_PEOPLE))"
   ]
  },
  {
   "cell_type": "code",
   "execution_count": 7,
   "metadata": {},
   "outputs": [
    {
     "data": {
      "text/html": [
       "<table>\n",
       "<thead><tr><th scope=col>SEX_CODE_CD</th><th scope=col>NUMBER_OF_PEOPLE</th><th scope=col>MEAN_SSL_SCORE</th><th scope=col>STD_ERROR</th></tr></thead>\n",
       "<tbody>\n",
       "\t<tr><td>0       </td><td>126     </td><td>397982.8</td><td>43.55574</td></tr>\n",
       "\t<tr><td>1       </td><td>869     </td><td>397959.0</td><td>23.12198</td></tr>\n",
       "</tbody>\n",
       "</table>\n"
      ],
      "text/latex": [
       "\\begin{tabular}{r|llll}\n",
       " SEX\\_CODE\\_CD & NUMBER\\_OF\\_PEOPLE & MEAN\\_SSL\\_SCORE & STD\\_ERROR\\\\\n",
       "\\hline\n",
       "\t 0        & 126      & 397982.8 & 43.55574\\\\\n",
       "\t 1        & 869      & 397959.0 & 23.12198\\\\\n",
       "\\end{tabular}\n"
      ],
      "text/markdown": [
       "\n",
       "SEX_CODE_CD | NUMBER_OF_PEOPLE | MEAN_SSL_SCORE | STD_ERROR | \n",
       "|---|---|\n",
       "| 0        | 126      | 397982.8 | 43.55574 | \n",
       "| 1        | 869      | 397959.0 | 23.12198 | \n",
       "\n",
       "\n"
      ],
      "text/plain": [
       "  SEX_CODE_CD NUMBER_OF_PEOPLE MEAN_SSL_SCORE STD_ERROR\n",
       "1 0           126              397982.8       43.55574 \n",
       "2 1           869              397959.0       23.12198 "
      ]
     },
     "metadata": {},
     "output_type": "display_data"
    }
   ],
   "source": [
    "# For SSL_SCORE_RANK\n",
    "complete_data %>%\n",
    "  group_by(SEX_CODE_CD) %>%\n",
    "  summarise(NUMBER_OF_PEOPLE = n(),\n",
    "            MEAN_SSL_SCORE = mean(SSL_SCORE_RANK),\n",
    "            STD_ERROR = sd(SSL_SCORE_RANK) / sqrt(NUMBER_OF_PEOPLE))"
   ]
  },
  {
   "cell_type": "code",
   "execution_count": 8,
   "metadata": {},
   "outputs": [
    {
     "data": {
      "text/plain": [
       "\n",
       "\tWelch Two Sample t-test\n",
       "\n",
       "data:  SSL_SCORE by SEX_CODE_CD\n",
       "t = 0.26642, df = 171.7, p-value = 0.7902\n",
       "alternative hypothesis: true difference in means is not equal to 0\n",
       "95 percent confidence interval:\n",
       " -2.254753  2.958372\n",
       "sample estimates:\n",
       "mean in group 0 mean in group 1 \n",
       "       91.94444        91.59264 \n"
      ]
     },
     "metadata": {},
     "output_type": "display_data"
    }
   ],
   "source": [
    "# T-test without PSM for SSL_SCORE and SEX_CODE_CD\n",
    "attach(complete_data)\n",
    "t.test(SSL_SCORE~SEX_CODE_CD)"
   ]
  },
  {
   "cell_type": "code",
   "execution_count": 9,
   "metadata": {},
   "outputs": [
    {
     "data": {
      "text/plain": [
       "\n",
       "\tWelch Two Sample t-test\n",
       "\n",
       "data:  SSL_SCORE_RANK by SEX_CODE_CD\n",
       "t = 0.48201, df = 203.06, p-value = 0.6303\n",
       "alternative hypothesis: true difference in means is not equal to 0\n",
       "95 percent confidence interval:\n",
       " -73.4612 120.9995\n",
       "sample estimates:\n",
       "mean in group 0 mean in group 1 \n",
       "       397982.8        397959.0 \n"
      ]
     },
     "metadata": {},
     "output_type": "display_data"
    }
   ],
   "source": [
    "# T-test without PSM for SSL_SCORE_RANK and SEX_CODE_CD\n",
    "t.test(SSL_SCORE_RANK~SEX_CODE_CD)"
   ]
  },
  {
   "cell_type": "code",
   "execution_count": 10,
   "metadata": {},
   "outputs": [
    {
     "name": "stderr",
     "output_type": "stream",
     "text": [
      "Warning message in matchit2nearest(structure(c(1L, 1L, 1L, 1L, 1L, 1L, 1L, 1L, 0L, :\n",
      "\"Fewer control than treated units and matching without replacement.  Not all treated units will receive a match.  Treated units will be matched in the order specified by m.order: largest\""
     ]
    }
   ],
   "source": [
    "mod_match <- matchit(SEX_CODE_CD ~ PREDICTOR_RAT_VICTIM_SHOOTING_INCIDENTS + PREDICTOR_RAT_VICTIM_BATTERY_OR_ASSAULT + \n",
    "            PREDICTOR_RAT_ARRESTS_VIOLENT_OFFENSES + PREDICTOR_RAT_GANG_AFFILIATION + PREDICTOR_RAT_NARCOTIC_ARRESTS + PREDICTOR_RAT_TREND_IN_CRIMINAL_ACTIVITY +\n",
    "            PREDICTOR_RAT_UUW_ARRESTS,\n",
    "                     method = \"nearest\", data = complete_data)"
   ]
  },
  {
   "cell_type": "code",
   "execution_count": 11,
   "metadata": {},
   "outputs": [
    {
     "data": {
      "text/plain": [
       "\n",
       "Call: \n",
       "matchit(formula = SEX_CODE_CD ~ PREDICTOR_RAT_VICTIM_SHOOTING_INCIDENTS + \n",
       "    PREDICTOR_RAT_VICTIM_BATTERY_OR_ASSAULT + PREDICTOR_RAT_ARRESTS_VIOLENT_OFFENSES + \n",
       "    PREDICTOR_RAT_GANG_AFFILIATION + PREDICTOR_RAT_NARCOTIC_ARRESTS + \n",
       "    PREDICTOR_RAT_TREND_IN_CRIMINAL_ACTIVITY + PREDICTOR_RAT_UUW_ARRESTS, \n",
       "    data = complete_data, method = \"nearest\")\n",
       "\n",
       "Sample sizes:\n",
       "          Control Treated\n",
       "All           126     869\n",
       "Matched       126     126\n",
       "Unmatched       0     743\n",
       "Discarded       0       0\n"
      ]
     },
     "metadata": {},
     "output_type": "display_data"
    }
   ],
   "source": [
    "mod_match"
   ]
  },
  {
   "cell_type": "code",
   "execution_count": 12,
   "metadata": {
    "collapsed": true
   },
   "outputs": [],
   "source": [
    "matched <- match.data(mod_match)\n",
    "matched_copy<-matched"
   ]
  },
  {
   "cell_type": "code",
   "execution_count": 13,
   "metadata": {},
   "outputs": [
    {
     "name": "stdout",
     "output_type": "stream",
     "text": [
      "[1] \"To identify the units, use first mouse button; to stop, use second.\"\n"
     ]
    },
    {
     "data": {
      "text/html": [],
      "text/latex": [],
      "text/markdown": [],
      "text/plain": [
       "integer(0)"
      ]
     },
     "metadata": {},
     "output_type": "display_data"
    },
    {
     "data": {
      "image/png": "[encoded data removed]",
      "text/plain": [
       "Plot with title \"Distribution of Propensity Scores\""
      ]
     },
     "metadata": {},
     "output_type": "display_data"
    }
   ],
   "source": [
    "plot(mod_match, type = \"jitter\")"
   ]
  },
  {
   "cell_type": "code",
   "execution_count": 14,
   "metadata": {},
   "outputs": [
    {
     "data": {
      "image/png": "[encoded data removed]",
      "text/plain": [
       "Plot with title \"Matched Control\""
      ]
     },
     "metadata": {},
     "output_type": "display_data"
    }
   ],
   "source": [
    "plot(mod_match, type = \"hist\")"
   ]
  },
  {
   "cell_type": "code",
   "execution_count": 15,
   "metadata": {},
   "outputs": [
    {
     "data": {
      "text/html": [
       "<table>\n",
       "<thead><tr><th></th><th scope=col>SSL_SCORE</th><th scope=col>SSL_SCORE_RANK</th><th scope=col>PREDICTOR_RAT_AGE_AT_LATEST_ARREST</th><th scope=col>PREDICTOR_RAT_VICTIM_SHOOTING_INCIDENTS</th><th scope=col>PREDICTOR_RAT_VICTIM_BATTERY_OR_ASSAULT</th><th scope=col>PREDICTOR_RAT_ARRESTS_VIOLENT_OFFENSES</th><th scope=col>PREDICTOR_RAT_GANG_AFFILIATION</th><th scope=col>PREDICTOR_RAT_NARCOTIC_ARRESTS</th><th scope=col>PREDICTOR_RAT_TREND_IN_CRIMINAL_ACTIVITY</th><th scope=col>PREDICTOR_RAT_UUW_ARRESTS</th><th scope=col>SEX_CODE_CD</th><th scope=col>distance</th><th scope=col>weights</th></tr></thead>\n",
       "<tbody>\n",
       "\t<tr><th scope=row>1</th><td>158      </td><td>387545   </td><td>70-80    </td><td>0        </td><td>0        </td><td>1        </td><td>0        </td><td>0        </td><td> 0.3     </td><td>1        </td><td>1        </td><td>0.8942109</td><td>1        </td></tr>\n",
       "\t<tr><th scope=row>3</th><td>143      </td><td>392702   </td><td>70-80    </td><td>0        </td><td>1        </td><td>1        </td><td>0        </td><td>0        </td><td> 0.3     </td><td>0        </td><td>1        </td><td>0.9674411</td><td>1        </td></tr>\n",
       "\t<tr><th scope=row>5</th><td>133      </td><td>394919   </td><td>70-80    </td><td>0        </td><td>1        </td><td>1        </td><td>0        </td><td>0        </td><td>-0.4     </td><td>0        </td><td>1        </td><td>0.9669935</td><td>1        </td></tr>\n",
       "\t<tr><th scope=row>6</th><td>132      </td><td>395095   </td><td>70-80    </td><td>0        </td><td>0        </td><td>1        </td><td>0        </td><td>0        </td><td> 0.1     </td><td>1        </td><td>1        </td><td>0.8938288</td><td>1        </td></tr>\n",
       "\t<tr><th scope=row>8</th><td>132      </td><td>395095   </td><td>70-80    </td><td>0        </td><td>0        </td><td>1        </td><td>0        </td><td>0        </td><td> 0.1     </td><td>1        </td><td>1        </td><td>0.8938288</td><td>1        </td></tr>\n",
       "\t<tr><th scope=row>9</th><td>129      </td><td>395508   </td><td>70-80    </td><td>0        </td><td>0        </td><td>0        </td><td>0        </td><td>4        </td><td> 0.3     </td><td>0        </td><td>0        </td><td>0.9031053</td><td>1        </td></tr>\n",
       "</tbody>\n",
       "</table>\n"
      ],
      "text/latex": [
       "\\begin{tabular}{r|lllllllllllll}\n",
       "  & SSL\\_SCORE & SSL\\_SCORE\\_RANK & PREDICTOR\\_RAT\\_AGE\\_AT\\_LATEST\\_ARREST & PREDICTOR\\_RAT\\_VICTIM\\_SHOOTING\\_INCIDENTS & PREDICTOR\\_RAT\\_VICTIM\\_BATTERY\\_OR\\_ASSAULT & PREDICTOR\\_RAT\\_ARRESTS\\_VIOLENT\\_OFFENSES & PREDICTOR\\_RAT\\_GANG\\_AFFILIATION & PREDICTOR\\_RAT\\_NARCOTIC\\_ARRESTS & PREDICTOR\\_RAT\\_TREND\\_IN\\_CRIMINAL\\_ACTIVITY & PREDICTOR\\_RAT\\_UUW\\_ARRESTS & SEX\\_CODE\\_CD & distance & weights\\\\\n",
       "\\hline\n",
       "\t1 & 158       & 387545    & 70-80     & 0         & 0         & 1         & 0         & 0         &  0.3      & 1         & 1         & 0.8942109 & 1        \\\\\n",
       "\t3 & 143       & 392702    & 70-80     & 0         & 1         & 1         & 0         & 0         &  0.3      & 0         & 1         & 0.9674411 & 1        \\\\\n",
       "\t5 & 133       & 394919    & 70-80     & 0         & 1         & 1         & 0         & 0         & -0.4      & 0         & 1         & 0.9669935 & 1        \\\\\n",
       "\t6 & 132       & 395095    & 70-80     & 0         & 0         & 1         & 0         & 0         &  0.1      & 1         & 1         & 0.8938288 & 1        \\\\\n",
       "\t8 & 132       & 395095    & 70-80     & 0         & 0         & 1         & 0         & 0         &  0.1      & 1         & 1         & 0.8938288 & 1        \\\\\n",
       "\t9 & 129       & 395508    & 70-80     & 0         & 0         & 0         & 0         & 4         &  0.3      & 0         & 0         & 0.9031053 & 1        \\\\\n",
       "\\end{tabular}\n"
      ],
      "text/markdown": [
       "\n",
       "| <!--/--> | SSL_SCORE | SSL_SCORE_RANK | PREDICTOR_RAT_AGE_AT_LATEST_ARREST | PREDICTOR_RAT_VICTIM_SHOOTING_INCIDENTS | PREDICTOR_RAT_VICTIM_BATTERY_OR_ASSAULT | PREDICTOR_RAT_ARRESTS_VIOLENT_OFFENSES | PREDICTOR_RAT_GANG_AFFILIATION | PREDICTOR_RAT_NARCOTIC_ARRESTS | PREDICTOR_RAT_TREND_IN_CRIMINAL_ACTIVITY | PREDICTOR_RAT_UUW_ARRESTS | SEX_CODE_CD | distance | weights | \n",
       "|---|---|---|---|---|---|\n",
       "| 1 | 158       | 387545    | 70-80     | 0         | 0         | 1         | 0         | 0         |  0.3      | 1         | 1         | 0.8942109 | 1         | \n",
       "| 3 | 143       | 392702    | 70-80     | 0         | 1         | 1         | 0         | 0         |  0.3      | 0         | 1         | 0.9674411 | 1         | \n",
       "| 5 | 133       | 394919    | 70-80     | 0         | 1         | 1         | 0         | 0         | -0.4      | 0         | 1         | 0.9669935 | 1         | \n",
       "| 6 | 132       | 395095    | 70-80     | 0         | 0         | 1         | 0         | 0         |  0.1      | 1         | 1         | 0.8938288 | 1         | \n",
       "| 8 | 132       | 395095    | 70-80     | 0         | 0         | 1         | 0         | 0         |  0.1      | 1         | 1         | 0.8938288 | 1         | \n",
       "| 9 | 129       | 395508    | 70-80     | 0         | 0         | 0         | 0         | 4         |  0.3      | 0         | 0         | 0.9031053 | 1         | \n",
       "\n",
       "\n"
      ],
      "text/plain": [
       "  SSL_SCORE SSL_SCORE_RANK PREDICTOR_RAT_AGE_AT_LATEST_ARREST\n",
       "1 158       387545         70-80                             \n",
       "3 143       392702         70-80                             \n",
       "5 133       394919         70-80                             \n",
       "6 132       395095         70-80                             \n",
       "8 132       395095         70-80                             \n",
       "9 129       395508         70-80                             \n",
       "  PREDICTOR_RAT_VICTIM_SHOOTING_INCIDENTS\n",
       "1 0                                      \n",
       "3 0                                      \n",
       "5 0                                      \n",
       "6 0                                      \n",
       "8 0                                      \n",
       "9 0                                      \n",
       "  PREDICTOR_RAT_VICTIM_BATTERY_OR_ASSAULT\n",
       "1 0                                      \n",
       "3 1                                      \n",
       "5 1                                      \n",
       "6 0                                      \n",
       "8 0                                      \n",
       "9 0                                      \n",
       "  PREDICTOR_RAT_ARRESTS_VIOLENT_OFFENSES PREDICTOR_RAT_GANG_AFFILIATION\n",
       "1 1                                      0                             \n",
       "3 1                                      0                             \n",
       "5 1                                      0                             \n",
       "6 1                                      0                             \n",
       "8 1                                      0                             \n",
       "9 0                                      0                             \n",
       "  PREDICTOR_RAT_NARCOTIC_ARRESTS PREDICTOR_RAT_TREND_IN_CRIMINAL_ACTIVITY\n",
       "1 0                               0.3                                    \n",
       "3 0                               0.3                                    \n",
       "5 0                              -0.4                                    \n",
       "6 0                               0.1                                    \n",
       "8 0                               0.1                                    \n",
       "9 4                               0.3                                    \n",
       "  PREDICTOR_RAT_UUW_ARRESTS SEX_CODE_CD distance  weights\n",
       "1 1                         1           0.8942109 1      \n",
       "3 0                         1           0.9674411 1      \n",
       "5 0                         1           0.9669935 1      \n",
       "6 1                         1           0.8938288 1      \n",
       "8 1                         1           0.8938288 1      \n",
       "9 0                         0           0.9031053 1      "
      ]
     },
     "metadata": {},
     "output_type": "display_data"
    }
   ],
   "source": [
    "head(matched)"
   ]
  },
  {
   "cell_type": "code",
   "execution_count": 16,
   "metadata": {},
   "outputs": [
    {
     "name": "stderr",
     "output_type": "stream",
     "text": [
      "The following objects are masked from complete_data:\n",
      "\n",
      "    PREDICTOR_RAT_AGE_AT_LATEST_ARREST,\n",
      "    PREDICTOR_RAT_ARRESTS_VIOLENT_OFFENSES,\n",
      "    PREDICTOR_RAT_GANG_AFFILIATION, PREDICTOR_RAT_NARCOTIC_ARRESTS,\n",
      "    PREDICTOR_RAT_TREND_IN_CRIMINAL_ACTIVITY,\n",
      "    PREDICTOR_RAT_UUW_ARRESTS, PREDICTOR_RAT_VICTIM_BATTERY_OR_ASSAULT,\n",
      "    PREDICTOR_RAT_VICTIM_SHOOTING_INCIDENTS, SEX_CODE_CD, SSL_SCORE,\n",
      "    SSL_SCORE_RANK\n",
      "\n"
     ]
    }
   ],
   "source": [
    "# Doing T - test on matched records\n",
    "attach(matched)"
   ]
  },
  {
   "cell_type": "code",
   "execution_count": 17,
   "metadata": {
    "collapsed": true
   },
   "outputs": [],
   "source": [
    "gender_female  <-subset(matched,SEX_CODE_CD == 0)\n",
    "gender_male<-subset(matched,SEX_CODE_CD == 1)\n"
   ]
  },
  {
   "cell_type": "code",
   "execution_count": 18,
   "metadata": {},
   "outputs": [
    {
     "data": {
      "text/plain": [
       "\n",
       "\tWelch Two Sample t-test\n",
       "\n",
       "data:  SSL_SCORE by SEX_CODE_CD\n",
       "t = -7.6504, df = 249.67, p-value = 4.351e-13\n",
       "alternative hypothesis: true difference in means is not equal to 0\n",
       "95 percent confidence interval:\n",
       " -16.885622  -9.971521\n",
       "sample estimates:\n",
       "mean in group 0 mean in group 1 \n",
       "       91.94444       105.37302 \n"
      ]
     },
     "metadata": {},
     "output_type": "display_data"
    }
   ],
   "source": [
    "t.test(SSL_SCORE~SEX_CODE_CD)"
   ]
  },
  {
   "cell_type": "code",
   "execution_count": 19,
   "metadata": {},
   "outputs": [
    {
     "data": {
      "text/plain": [
       "\n",
       "\tWelch Two Sample t-test\n",
       "\n",
       "data:  SSL_SCORE_RANK by SEX_CODE_CD\n",
       "t = 5.5866, df = 163.67, p-value = 9.469e-08\n",
       "alternative hypothesis: true difference in means is not equal to 0\n",
       "95 percent confidence interval:\n",
       " 425.2461 890.1825\n",
       "sample estimates:\n",
       "mean in group 0 mean in group 1 \n",
       "       397982.8        397325.1 \n"
      ]
     },
     "metadata": {},
     "output_type": "display_data"
    }
   ],
   "source": [
    "t.test(SSL_SCORE_RANK~SEX_CODE_CD)"
   ]
  }
 ],
 "metadata": {
  "kernelspec": {
   "display_name": "R",
   "language": "R",
   "name": "ir"
  },
  "language_info": {
   "codemirror_mode": "r",
   "file_extension": ".r",
   "mimetype": "text/x-r-source",
   "name": "R",
   "pygments_lexer": "r",
   "version": "3.3.2"
  }
 },
 "nbformat": 4,
 "nbformat_minor": 2
}
