{
 "cells": [
  {
   "cell_type": "code",
   "execution_count": 17,
   "metadata": {},
   "outputs": [
    {
     "name": "stdout",
     "output_type": "stream",
     "text": [
      "The Number of Rows in Initial Data is 60659"
     ]
    }
   ],
   "source": [
    "raw_data <- read.csv(\"SSL_RAT_30_40.csv\", sep=\",\", header=T, strip.white = T, na.strings = c(\"NA\",\"NaN\",\"\",\"?\"))\n",
    "#Converting the \".\" in column names to \"_\"\n",
    "names(raw_data)<-gsub(\"\\\\.\", \"_\", names(raw_data))\n",
    "cat(\"The Number of Rows in Initial Data is\", nrow(raw_data))"
   ]
  },
  {
   "cell_type": "code",
   "execution_count": 18,
   "metadata": {
    "collapsed": true
   },
   "outputs": [],
   "source": [
    "final_features<-raw_data[,c('SSL_SCORE','SSL_SCORE_Rank','PREDICTOR_RAT_AGE_AT_LATEST_ARREST','PREDICTOR_RAT_VICTIM_SHOOTING_INCIDENTS',\n",
    "                            'PREDICTOR_RAT_VICTIM_BATTERY_OR_ASSAULT','PREDICTOR_RAT_ARRESTS_VIOLENT_OFFENSES','PREDICTOR_RAT_GANG_AFFILIATION', \n",
    "                           'PREDICTOR_RAT_NARCOTIC_ARRESTS','PREDICTOR_RAT_TREND_IN_CRIMINAL_ACTIVITY','PREDICTOR_RAT_UUW_ARRESTS','RACE_CODE_CD')]"
   ]
  },
  {
   "cell_type": "code",
   "execution_count": 19,
   "metadata": {},
   "outputs": [
    {
     "data": {
      "text/html": [
       "60659"
      ],
      "text/latex": [
       "60659"
      ],
      "text/markdown": [
       "60659"
      ],
      "text/plain": [
       "[1] 60659"
      ]
     },
     "metadata": {},
     "output_type": "display_data"
    }
   ],
   "source": [
    "complete_data <- final_features[complete.cases(final_features),]\n",
    "nrow(complete_data)"
   ]
  },
  {
   "cell_type": "code",
   "execution_count": 20,
   "metadata": {},
   "outputs": [
    {
     "data": {
      "text/html": [
       "<table>\n",
       "<thead><tr><th scope=col>SSL_SCORE</th><th scope=col>SSL_SCORE_Rank</th><th scope=col>PREDICTOR_RAT_AGE_AT_LATEST_ARREST</th><th scope=col>PREDICTOR_RAT_VICTIM_SHOOTING_INCIDENTS</th><th scope=col>PREDICTOR_RAT_VICTIM_BATTERY_OR_ASSAULT</th><th scope=col>PREDICTOR_RAT_ARRESTS_VIOLENT_OFFENSES</th><th scope=col>PREDICTOR_RAT_GANG_AFFILIATION</th><th scope=col>PREDICTOR_RAT_NARCOTIC_ARRESTS</th><th scope=col>PREDICTOR_RAT_TREND_IN_CRIMINAL_ACTIVITY</th><th scope=col>PREDICTOR_RAT_UUW_ARRESTS</th><th scope=col>RACE_CODE_CD</th></tr></thead>\n",
       "<tbody>\n",
       "\t<tr><td>478  </td><td>296  </td><td>30-40</td><td>1    </td><td>6    </td><td>1    </td><td>1    </td><td> 0   </td><td>-0.6 </td><td>1    </td><td>0    </td></tr>\n",
       "\t<tr><td>471  </td><td>363  </td><td>30-40</td><td>0    </td><td>0    </td><td>0    </td><td>1    </td><td>22   </td><td>-1.8 </td><td>0    </td><td>0    </td></tr>\n",
       "\t<tr><td>456  </td><td>579  </td><td>30-40</td><td>2    </td><td>0    </td><td>0    </td><td>1    </td><td>16   </td><td> 2.4 </td><td>0    </td><td>0    </td></tr>\n",
       "\t<tr><td>456  </td><td>579  </td><td>30-40</td><td>2    </td><td>2    </td><td>0    </td><td>1    </td><td> 6   </td><td> 1.5 </td><td>0    </td><td>0    </td></tr>\n",
       "\t<tr><td>447  </td><td>749  </td><td>30-40</td><td>1    </td><td>2    </td><td>2    </td><td>1    </td><td> 6   </td><td>-2.6 </td><td>0    </td><td>0    </td></tr>\n",
       "\t<tr><td>444  </td><td>827  </td><td>30-40</td><td>1    </td><td>1    </td><td>3    </td><td>1    </td><td> 0   </td><td> 0.5 </td><td>3    </td><td>0    </td></tr>\n",
       "</tbody>\n",
       "</table>\n"
      ],
      "text/latex": [
       "\\begin{tabular}{r|lllllllllll}\n",
       " SSL\\_SCORE & SSL\\_SCORE\\_Rank & PREDICTOR\\_RAT\\_AGE\\_AT\\_LATEST\\_ARREST & PREDICTOR\\_RAT\\_VICTIM\\_SHOOTING\\_INCIDENTS & PREDICTOR\\_RAT\\_VICTIM\\_BATTERY\\_OR\\_ASSAULT & PREDICTOR\\_RAT\\_ARRESTS\\_VIOLENT\\_OFFENSES & PREDICTOR\\_RAT\\_GANG\\_AFFILIATION & PREDICTOR\\_RAT\\_NARCOTIC\\_ARRESTS & PREDICTOR\\_RAT\\_TREND\\_IN\\_CRIMINAL\\_ACTIVITY & PREDICTOR\\_RAT\\_UUW\\_ARRESTS & RACE\\_CODE\\_CD\\\\\n",
       "\\hline\n",
       "\t 478   & 296   & 30-40 & 1     & 6     & 1     & 1     &  0    & -0.6  & 1     & 0    \\\\\n",
       "\t 471   & 363   & 30-40 & 0     & 0     & 0     & 1     & 22    & -1.8  & 0     & 0    \\\\\n",
       "\t 456   & 579   & 30-40 & 2     & 0     & 0     & 1     & 16    &  2.4  & 0     & 0    \\\\\n",
       "\t 456   & 579   & 30-40 & 2     & 2     & 0     & 1     &  6    &  1.5  & 0     & 0    \\\\\n",
       "\t 447   & 749   & 30-40 & 1     & 2     & 2     & 1     &  6    & -2.6  & 0     & 0    \\\\\n",
       "\t 444   & 827   & 30-40 & 1     & 1     & 3     & 1     &  0    &  0.5  & 3     & 0    \\\\\n",
       "\\end{tabular}\n"
      ],
      "text/markdown": [
       "\n",
       "SSL_SCORE | SSL_SCORE_Rank | PREDICTOR_RAT_AGE_AT_LATEST_ARREST | PREDICTOR_RAT_VICTIM_SHOOTING_INCIDENTS | PREDICTOR_RAT_VICTIM_BATTERY_OR_ASSAULT | PREDICTOR_RAT_ARRESTS_VIOLENT_OFFENSES | PREDICTOR_RAT_GANG_AFFILIATION | PREDICTOR_RAT_NARCOTIC_ARRESTS | PREDICTOR_RAT_TREND_IN_CRIMINAL_ACTIVITY | PREDICTOR_RAT_UUW_ARRESTS | RACE_CODE_CD | \n",
       "|---|---|---|---|---|---|\n",
       "| 478   | 296   | 30-40 | 1     | 6     | 1     | 1     |  0    | -0.6  | 1     | 0     | \n",
       "| 471   | 363   | 30-40 | 0     | 0     | 0     | 1     | 22    | -1.8  | 0     | 0     | \n",
       "| 456   | 579   | 30-40 | 2     | 0     | 0     | 1     | 16    |  2.4  | 0     | 0     | \n",
       "| 456   | 579   | 30-40 | 2     | 2     | 0     | 1     |  6    |  1.5  | 0     | 0     | \n",
       "| 447   | 749   | 30-40 | 1     | 2     | 2     | 1     |  6    | -2.6  | 0     | 0     | \n",
       "| 444   | 827   | 30-40 | 1     | 1     | 3     | 1     |  0    |  0.5  | 3     | 0     | \n",
       "\n",
       "\n"
      ],
      "text/plain": [
       "  SSL_SCORE SSL_SCORE_Rank PREDICTOR_RAT_AGE_AT_LATEST_ARREST\n",
       "1 478       296            30-40                             \n",
       "2 471       363            30-40                             \n",
       "3 456       579            30-40                             \n",
       "4 456       579            30-40                             \n",
       "5 447       749            30-40                             \n",
       "6 444       827            30-40                             \n",
       "  PREDICTOR_RAT_VICTIM_SHOOTING_INCIDENTS\n",
       "1 1                                      \n",
       "2 0                                      \n",
       "3 2                                      \n",
       "4 2                                      \n",
       "5 1                                      \n",
       "6 1                                      \n",
       "  PREDICTOR_RAT_VICTIM_BATTERY_OR_ASSAULT\n",
       "1 6                                      \n",
       "2 0                                      \n",
       "3 0                                      \n",
       "4 2                                      \n",
       "5 2                                      \n",
       "6 1                                      \n",
       "  PREDICTOR_RAT_ARRESTS_VIOLENT_OFFENSES PREDICTOR_RAT_GANG_AFFILIATION\n",
       "1 1                                      1                             \n",
       "2 0                                      1                             \n",
       "3 0                                      1                             \n",
       "4 0                                      1                             \n",
       "5 2                                      1                             \n",
       "6 3                                      1                             \n",
       "  PREDICTOR_RAT_NARCOTIC_ARRESTS PREDICTOR_RAT_TREND_IN_CRIMINAL_ACTIVITY\n",
       "1  0                             -0.6                                    \n",
       "2 22                             -1.8                                    \n",
       "3 16                              2.4                                    \n",
       "4  6                              1.5                                    \n",
       "5  6                             -2.6                                    \n",
       "6  0                              0.5                                    \n",
       "  PREDICTOR_RAT_UUW_ARRESTS RACE_CODE_CD\n",
       "1 1                         0           \n",
       "2 0                         0           \n",
       "3 0                         0           \n",
       "4 0                         0           \n",
       "5 0                         0           \n",
       "6 3                         0           "
      ]
     },
     "metadata": {},
     "output_type": "display_data"
    }
   ],
   "source": [
    "head(complete_data)"
   ]
  },
  {
   "cell_type": "code",
   "execution_count": 21,
   "metadata": {},
   "outputs": [],
   "source": [
    "library(MatchIt)\n",
    "library(dplyr)\n",
    "library(ggplot2)"
   ]
  },
  {
   "cell_type": "code",
   "execution_count": 22,
   "metadata": {},
   "outputs": [
    {
     "data": {
      "text/html": [
       "<table>\n",
       "<thead><tr><th scope=col>RACE_CODE_CD</th><th scope=col>NUMBER_OF_PEOPLE</th><th scope=col>MEAN_SSL_SCORE</th><th scope=col>STD_ERROR</th></tr></thead>\n",
       "<tbody>\n",
       "\t<tr><td>0         </td><td>42071     </td><td>270.0234  </td><td>0.08805065</td></tr>\n",
       "\t<tr><td>1         </td><td>18588     </td><td>266.9068  </td><td>0.10824328</td></tr>\n",
       "</tbody>\n",
       "</table>\n"
      ],
      "text/latex": [
       "\\begin{tabular}{r|llll}\n",
       " RACE\\_CODE\\_CD & NUMBER\\_OF\\_PEOPLE & MEAN\\_SSL\\_SCORE & STD\\_ERROR\\\\\n",
       "\\hline\n",
       "\t 0          & 42071      & 270.0234   & 0.08805065\\\\\n",
       "\t 1          & 18588      & 266.9068   & 0.10824328\\\\\n",
       "\\end{tabular}\n"
      ],
      "text/markdown": [
       "\n",
       "RACE_CODE_CD | NUMBER_OF_PEOPLE | MEAN_SSL_SCORE | STD_ERROR | \n",
       "|---|---|\n",
       "| 0          | 42071      | 270.0234   | 0.08805065 | \n",
       "| 1          | 18588      | 266.9068   | 0.10824328 | \n",
       "\n",
       "\n"
      ],
      "text/plain": [
       "  RACE_CODE_CD NUMBER_OF_PEOPLE MEAN_SSL_SCORE STD_ERROR \n",
       "1 0            42071            270.0234       0.08805065\n",
       "2 1            18588            266.9068       0.10824328"
      ]
     },
     "metadata": {},
     "output_type": "display_data"
    }
   ],
   "source": [
    "complete_data %>%\n",
    "  group_by(RACE_CODE_CD) %>%\n",
    "  summarise(NUMBER_OF_PEOPLE = n(),\n",
    "            MEAN_SSL_SCORE = mean(SSL_SCORE),\n",
    "            STD_ERROR = sd(SSL_SCORE) / sqrt(NUMBER_OF_PEOPLE))"
   ]
  },
  {
   "cell_type": "code",
   "execution_count": 23,
   "metadata": {
    "collapsed": true
   },
   "outputs": [],
   "source": [
    "mod_match <- matchit(RACE_CODE_CD ~ PREDICTOR_RAT_VICTIM_SHOOTING_INCIDENTS + PREDICTOR_RAT_VICTIM_BATTERY_OR_ASSAULT + \n",
    "            PREDICTOR_RAT_ARRESTS_VIOLENT_OFFENSES + PREDICTOR_RAT_GANG_AFFILIATION + PREDICTOR_RAT_NARCOTIC_ARRESTS + PREDICTOR_RAT_TREND_IN_CRIMINAL_ACTIVITY +\n",
    "            PREDICTOR_RAT_UUW_ARRESTS,\n",
    "                     method = \"nearest\", data = complete_data)"
   ]
  },
  {
   "cell_type": "code",
   "execution_count": 24,
   "metadata": {},
   "outputs": [
    {
     "data": {
      "text/plain": [
       "\n",
       "Call: \n",
       "matchit(formula = RACE_CODE_CD ~ PREDICTOR_RAT_VICTIM_SHOOTING_INCIDENTS + \n",
       "    PREDICTOR_RAT_VICTIM_BATTERY_OR_ASSAULT + PREDICTOR_RAT_ARRESTS_VIOLENT_OFFENSES + \n",
       "    PREDICTOR_RAT_GANG_AFFILIATION + PREDICTOR_RAT_NARCOTIC_ARRESTS + \n",
       "    PREDICTOR_RAT_TREND_IN_CRIMINAL_ACTIVITY + PREDICTOR_RAT_UUW_ARRESTS, \n",
       "    data = complete_data, method = \"nearest\")\n",
       "\n",
       "Sample sizes:\n",
       "          Control Treated\n",
       "All         42071   18588\n",
       "Matched     18588   18588\n",
       "Unmatched   23483       0\n",
       "Discarded       0       0\n"
      ]
     },
     "metadata": {},
     "output_type": "display_data"
    }
   ],
   "source": [
    "mod_match"
   ]
  },
  {
   "cell_type": "code",
   "execution_count": 25,
   "metadata": {
    "collapsed": true
   },
   "outputs": [],
   "source": [
    "matched <- match.data(mod_match)\n",
    "matched_copy<-matched"
   ]
  },
  {
   "cell_type": "code",
   "execution_count": 26,
   "metadata": {},
   "outputs": [
    {
     "name": "stdout",
     "output_type": "stream",
     "text": [
      "[1] \"To identify the units, use first mouse button; to stop, use second.\"\n"
     ]
    },
    {
     "data": {
      "text/html": [],
      "text/latex": [],
      "text/markdown": [],
      "text/plain": [
       "integer(0)"
      ]
     },
     "metadata": {},
     "output_type": "display_data"
    },
    {
     "data": {
      "image/png": "[encoded data removed]",
      "text/plain": [
       "Plot with title \"Distribution of Propensity Scores\""
      ]
     },
     "metadata": {},
     "output_type": "display_data"
    }
   ],
   "source": [
    "plot(mod_match, type = \"jitter\")"
   ]
  },
  {
   "cell_type": "code",
   "execution_count": 27,
   "metadata": {},
   "outputs": [
    {
     "data": {
      "image/png": "[encoded data removed]",
      "text/plain": [
       "Plot with title \"Matched Control\""
      ]
     },
     "metadata": {},
     "output_type": "display_data"
    }
   ],
   "source": [
    "plot(mod_match, type = \"hist\")"
   ]
  },
  {
   "cell_type": "code",
   "execution_count": 28,
   "metadata": {},
   "outputs": [
    {
     "data": {
      "text/html": [
       "<table>\n",
       "<thead><tr><th></th><th scope=col>SSL_SCORE</th><th scope=col>SSL_SCORE_Rank</th><th scope=col>PREDICTOR_RAT_AGE_AT_LATEST_ARREST</th><th scope=col>PREDICTOR_RAT_VICTIM_SHOOTING_INCIDENTS</th><th scope=col>PREDICTOR_RAT_VICTIM_BATTERY_OR_ASSAULT</th><th scope=col>PREDICTOR_RAT_ARRESTS_VIOLENT_OFFENSES</th><th scope=col>PREDICTOR_RAT_GANG_AFFILIATION</th><th scope=col>PREDICTOR_RAT_NARCOTIC_ARRESTS</th><th scope=col>PREDICTOR_RAT_TREND_IN_CRIMINAL_ACTIVITY</th><th scope=col>PREDICTOR_RAT_UUW_ARRESTS</th><th scope=col>RACE_CODE_CD</th><th scope=col>distance</th><th scope=col>weights</th></tr></thead>\n",
       "<tbody>\n",
       "\t<tr><th scope=row>22</th><td>390      </td><td> 4974    </td><td>30-40    </td><td>0        </td><td>0        </td><td>0        </td><td>0        </td><td>2        </td><td> 0.5     </td><td>0        </td><td>0        </td><td>0.3929909</td><td>1        </td></tr>\n",
       "\t<tr><th scope=row>27</th><td>384      </td><td> 6146    </td><td>30-40    </td><td>0        </td><td>0        </td><td>0        </td><td>0        </td><td>1        </td><td> 0.1     </td><td>0        </td><td>0        </td><td>0.3787604</td><td>1        </td></tr>\n",
       "\t<tr><th scope=row>34</th><td>378      </td><td> 7693    </td><td>30-40    </td><td>0        </td><td>0        </td><td>0        </td><td>0        </td><td>0        </td><td> 0.6     </td><td>0        </td><td>0        </td><td>0.4055916</td><td>1        </td></tr>\n",
       "\t<tr><th scope=row>43</th><td>371      </td><td>10087    </td><td>30-40    </td><td>0        </td><td>0        </td><td>0        </td><td>0        </td><td>0        </td><td>-0.1     </td><td>0        </td><td>0        </td><td>0.3736705</td><td>1        </td></tr>\n",
       "\t<tr><th scope=row>44</th><td>371      </td><td>10087    </td><td>30-40    </td><td>0        </td><td>0        </td><td>0        </td><td>0        </td><td>2        </td><td>-0.6     </td><td>0        </td><td>1        </td><td>0.3439428</td><td>1        </td></tr>\n",
       "\t<tr><th scope=row>46</th><td>369      </td><td>10962    </td><td>30-40    </td><td>0        </td><td>0        </td><td>0        </td><td>0        </td><td>1        </td><td>-0.3     </td><td>0        </td><td>1        </td><td>0.3608802</td><td>1        </td></tr>\n",
       "</tbody>\n",
       "</table>\n"
      ],
      "text/latex": [
       "\\begin{tabular}{r|lllllllllllll}\n",
       "  & SSL\\_SCORE & SSL\\_SCORE\\_Rank & PREDICTOR\\_RAT\\_AGE\\_AT\\_LATEST\\_ARREST & PREDICTOR\\_RAT\\_VICTIM\\_SHOOTING\\_INCIDENTS & PREDICTOR\\_RAT\\_VICTIM\\_BATTERY\\_OR\\_ASSAULT & PREDICTOR\\_RAT\\_ARRESTS\\_VIOLENT\\_OFFENSES & PREDICTOR\\_RAT\\_GANG\\_AFFILIATION & PREDICTOR\\_RAT\\_NARCOTIC\\_ARRESTS & PREDICTOR\\_RAT\\_TREND\\_IN\\_CRIMINAL\\_ACTIVITY & PREDICTOR\\_RAT\\_UUW\\_ARRESTS & RACE\\_CODE\\_CD & distance & weights\\\\\n",
       "\\hline\n",
       "\t22 & 390       &  4974     & 30-40     & 0         & 0         & 0         & 0         & 2         &  0.5      & 0         & 0         & 0.3929909 & 1        \\\\\n",
       "\t27 & 384       &  6146     & 30-40     & 0         & 0         & 0         & 0         & 1         &  0.1      & 0         & 0         & 0.3787604 & 1        \\\\\n",
       "\t34 & 378       &  7693     & 30-40     & 0         & 0         & 0         & 0         & 0         &  0.6      & 0         & 0         & 0.4055916 & 1        \\\\\n",
       "\t43 & 371       & 10087     & 30-40     & 0         & 0         & 0         & 0         & 0         & -0.1      & 0         & 0         & 0.3736705 & 1        \\\\\n",
       "\t44 & 371       & 10087     & 30-40     & 0         & 0         & 0         & 0         & 2         & -0.6      & 0         & 1         & 0.3439428 & 1        \\\\\n",
       "\t46 & 369       & 10962     & 30-40     & 0         & 0         & 0         & 0         & 1         & -0.3      & 0         & 1         & 0.3608802 & 1        \\\\\n",
       "\\end{tabular}\n"
      ],
      "text/markdown": [
       "\n",
       "| <!--/--> | SSL_SCORE | SSL_SCORE_Rank | PREDICTOR_RAT_AGE_AT_LATEST_ARREST | PREDICTOR_RAT_VICTIM_SHOOTING_INCIDENTS | PREDICTOR_RAT_VICTIM_BATTERY_OR_ASSAULT | PREDICTOR_RAT_ARRESTS_VIOLENT_OFFENSES | PREDICTOR_RAT_GANG_AFFILIATION | PREDICTOR_RAT_NARCOTIC_ARRESTS | PREDICTOR_RAT_TREND_IN_CRIMINAL_ACTIVITY | PREDICTOR_RAT_UUW_ARRESTS | RACE_CODE_CD | distance | weights | \n",
       "|---|---|---|---|---|---|\n",
       "| 22 | 390       |  4974     | 30-40     | 0         | 0         | 0         | 0         | 2         |  0.5      | 0         | 0         | 0.3929909 | 1         | \n",
       "| 27 | 384       |  6146     | 30-40     | 0         | 0         | 0         | 0         | 1         |  0.1      | 0         | 0         | 0.3787604 | 1         | \n",
       "| 34 | 378       |  7693     | 30-40     | 0         | 0         | 0         | 0         | 0         |  0.6      | 0         | 0         | 0.4055916 | 1         | \n",
       "| 43 | 371       | 10087     | 30-40     | 0         | 0         | 0         | 0         | 0         | -0.1      | 0         | 0         | 0.3736705 | 1         | \n",
       "| 44 | 371       | 10087     | 30-40     | 0         | 0         | 0         | 0         | 2         | -0.6      | 0         | 1         | 0.3439428 | 1         | \n",
       "| 46 | 369       | 10962     | 30-40     | 0         | 0         | 0         | 0         | 1         | -0.3      | 0         | 1         | 0.3608802 | 1         | \n",
       "\n",
       "\n"
      ],
      "text/plain": [
       "   SSL_SCORE SSL_SCORE_Rank PREDICTOR_RAT_AGE_AT_LATEST_ARREST\n",
       "22 390        4974          30-40                             \n",
       "27 384        6146          30-40                             \n",
       "34 378        7693          30-40                             \n",
       "43 371       10087          30-40                             \n",
       "44 371       10087          30-40                             \n",
       "46 369       10962          30-40                             \n",
       "   PREDICTOR_RAT_VICTIM_SHOOTING_INCIDENTS\n",
       "22 0                                      \n",
       "27 0                                      \n",
       "34 0                                      \n",
       "43 0                                      \n",
       "44 0                                      \n",
       "46 0                                      \n",
       "   PREDICTOR_RAT_VICTIM_BATTERY_OR_ASSAULT\n",
       "22 0                                      \n",
       "27 0                                      \n",
       "34 0                                      \n",
       "43 0                                      \n",
       "44 0                                      \n",
       "46 0                                      \n",
       "   PREDICTOR_RAT_ARRESTS_VIOLENT_OFFENSES PREDICTOR_RAT_GANG_AFFILIATION\n",
       "22 0                                      0                             \n",
       "27 0                                      0                             \n",
       "34 0                                      0                             \n",
       "43 0                                      0                             \n",
       "44 0                                      0                             \n",
       "46 0                                      0                             \n",
       "   PREDICTOR_RAT_NARCOTIC_ARRESTS PREDICTOR_RAT_TREND_IN_CRIMINAL_ACTIVITY\n",
       "22 2                               0.5                                    \n",
       "27 1                               0.1                                    \n",
       "34 0                               0.6                                    \n",
       "43 0                              -0.1                                    \n",
       "44 2                              -0.6                                    \n",
       "46 1                              -0.3                                    \n",
       "   PREDICTOR_RAT_UUW_ARRESTS RACE_CODE_CD distance  weights\n",
       "22 0                         0            0.3929909 1      \n",
       "27 0                         0            0.3787604 1      \n",
       "34 0                         0            0.4055916 1      \n",
       "43 0                         0            0.3736705 1      \n",
       "44 0                         1            0.3439428 1      \n",
       "46 0                         1            0.3608802 1      "
      ]
     },
     "metadata": {},
     "output_type": "display_data"
    }
   ],
   "source": [
    "head(matched)"
   ]
  },
  {
   "cell_type": "code",
   "execution_count": 29,
   "metadata": {},
   "outputs": [
    {
     "name": "stderr",
     "output_type": "stream",
     "text": [
      "The following objects are masked from matched (pos = 3):\n",
      "\n",
      "    distance, PREDICTOR_RAT_AGE_AT_LATEST_ARREST,\n",
      "    PREDICTOR_RAT_ARRESTS_VIOLENT_OFFENSES,\n",
      "    PREDICTOR_RAT_GANG_AFFILIATION, PREDICTOR_RAT_NARCOTIC_ARRESTS,\n",
      "    PREDICTOR_RAT_TREND_IN_CRIMINAL_ACTIVITY,\n",
      "    PREDICTOR_RAT_UUW_ARRESTS, PREDICTOR_RAT_VICTIM_BATTERY_OR_ASSAULT,\n",
      "    PREDICTOR_RAT_VICTIM_SHOOTING_INCIDENTS, RACE_CODE_CD, SSL_SCORE,\n",
      "    SSL_SCORE_Rank, weights\n",
      "\n"
     ]
    },
    {
     "data": {
      "image/png": "[encoded data removed]",
      "text/plain": [
       "plot without title"
      ]
     },
     "metadata": {},
     "output_type": "display_data"
    }
   ],
   "source": [
    "# Doing T - test on matched records\n",
    "options(warn=-1)\n",
    "\n",
    "attach(matched)\n",
    "boxplot(SSL_SCORE_Rank~RACE_CODE_CD)"
   ]
  },
  {
   "cell_type": "code",
   "execution_count": 30,
   "metadata": {},
   "outputs": [
    {
     "data": {
      "image/png": "[encoded data removed]",
      "text/plain": [
       "Plot with title \"Normal Q-Q Plot\""
      ]
     },
     "metadata": {},
     "output_type": "display_data"
    }
   ],
   "source": [
    "race_black <-subset(matched,RACE_CODE_CD == 0)\n",
    "race_white<-subset(matched,RACE_CODE_CD == 1)\n",
    "# Normal QQ Plot for RACE == BLACK\n",
    "qqnorm(race_black$SSL_SCORE_Rank)\n",
    "qqline(race_black$SSL_SCORE_Rank)"
   ]
  },
  {
   "cell_type": "code",
   "execution_count": 31,
   "metadata": {},
   "outputs": [
    {
     "data": {
      "image/png": "[encoded data removed]",
      "text/plain": [
       "Plot with title \"Normal Q-Q Plot\""
      ]
     },
     "metadata": {},
     "output_type": "display_data"
    }
   ],
   "source": [
    "# Normal QQ Plot for RACE == WHITE\n",
    "qqnorm(race_white$SSL_SCORE_Rank)\n",
    "qqline(race_white$SSL_SCORE_Rank)"
   ]
  },
  {
   "cell_type": "code",
   "execution_count": 32,
   "metadata": {},
   "outputs": [
    {
     "data": {
      "text/plain": [
       "\n",
       "\tWelch Two Sample t-test\n",
       "\n",
       "data:  SSL_SCORE_Rank by RACE_CODE_CD\n",
       "t = -0.12157, df = 37167, p-value = 0.9032\n",
       "alternative hypothesis: true difference in means is not equal to 0\n",
       "95 percent confidence interval:\n",
       " -693.0562  612.1056\n",
       "sample estimates:\n",
       "mean in group 0 mean in group 1 \n",
       "       250249.6        250290.1 \n"
      ]
     },
     "metadata": {},
     "output_type": "display_data"
    }
   ],
   "source": [
    "t.test(SSL_SCORE_Rank~RACE_CODE_CD)"
   ]
  }
 ],
 "metadata": {
  "kernelspec": {
   "display_name": "R",
   "language": "R",
   "name": "ir"
  },
  "language_info": {
   "codemirror_mode": "r",
   "file_extension": ".r",
   "mimetype": "text/x-r-source",
   "name": "R",
   "pygments_lexer": "r",
   "version": "3.3.2"
  }
 },
 "nbformat": 4,
 "nbformat_minor": 2
}
