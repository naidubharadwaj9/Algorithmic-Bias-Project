{
 "cells": [
  {
   "cell_type": "code",
   "execution_count": 1,
   "metadata": {},
   "outputs": [
    {
     "name": "stdout",
     "output_type": "stream",
     "text": [
      "The Number of Rows in Initial Data is 185"
     ]
    }
   ],
   "source": [
    "raw_data <- read.csv(\"SSL_FIRST_1000_SEX_Code_20_30.csv\", sep=\",\", header=T, strip.white = T, na.strings = c(\"NA\",\"NaN\",\"\",\"?\"))\n",
    "#Converting the \".\" in column names to \"_\"\n",
    "names(raw_data)<-gsub(\"\\\\.\", \"_\", names(raw_data))\n",
    "cat(\"The Number of Rows in Initial Data is\", nrow(raw_data))"
   ]
  },
  {
   "cell_type": "code",
   "execution_count": 2,
   "metadata": {
    "collapsed": true
   },
   "outputs": [],
   "source": [
    "final_features<-raw_data[,c('SSL_SCORE','SSL_SCORE_RANK','PREDICTOR_RAT_AGE_AT_LATEST_ARREST','PREDICTOR_RAT_VICTIM_SHOOTING_INCIDENTS',\n",
    "                            'PREDICTOR_RAT_VICTIM_BATTERY_OR_ASSAULT','PREDICTOR_RAT_ARRESTS_VIOLENT_OFFENSES','PREDICTOR_RAT_GANG_AFFILIATION', \n",
    "                           'PREDICTOR_RAT_NARCOTIC_ARRESTS','PREDICTOR_RAT_TREND_IN_CRIMINAL_ACTIVITY','PREDICTOR_RAT_UUW_ARRESTS','SEX_CODE_CD')]"
   ]
  },
  {
   "cell_type": "code",
   "execution_count": 3,
   "metadata": {},
   "outputs": [
    {
     "data": {
      "text/html": [
       "185"
      ],
      "text/latex": [
       "185"
      ],
      "text/markdown": [
       "185"
      ],
      "text/plain": [
       "[1] 185"
      ]
     },
     "metadata": {},
     "output_type": "display_data"
    }
   ],
   "source": [
    "complete_data <- final_features[complete.cases(final_features),]\n",
    "nrow(complete_data)"
   ]
  },
  {
   "cell_type": "code",
   "execution_count": 4,
   "metadata": {},
   "outputs": [
    {
     "data": {
      "text/html": [
       "<table>\n",
       "<thead><tr><th scope=col>SSL_SCORE</th><th scope=col>SSL_SCORE_RANK</th><th scope=col>PREDICTOR_RAT_AGE_AT_LATEST_ARREST</th><th scope=col>PREDICTOR_RAT_VICTIM_SHOOTING_INCIDENTS</th><th scope=col>PREDICTOR_RAT_VICTIM_BATTERY_OR_ASSAULT</th><th scope=col>PREDICTOR_RAT_ARRESTS_VIOLENT_OFFENSES</th><th scope=col>PREDICTOR_RAT_GANG_AFFILIATION</th><th scope=col>PREDICTOR_RAT_NARCOTIC_ARRESTS</th><th scope=col>PREDICTOR_RAT_TREND_IN_CRIMINAL_ACTIVITY</th><th scope=col>PREDICTOR_RAT_UUW_ARRESTS</th><th scope=col>SEX_CODE_CD</th></tr></thead>\n",
       "<tbody>\n",
       "\t<tr><td>500  </td><td>1    </td><td>20-30</td><td>0    </td><td>1    </td><td>4    </td><td>1    </td><td>1    </td><td> 1.0 </td><td>1    </td><td>1    </td></tr>\n",
       "\t<tr><td>500  </td><td>1    </td><td>20-30</td><td>4    </td><td>3    </td><td>0    </td><td>1    </td><td>0    </td><td>-1.1 </td><td>0    </td><td>1    </td></tr>\n",
       "\t<tr><td>500  </td><td>1    </td><td>20-30</td><td>3    </td><td>5    </td><td>2    </td><td>1    </td><td>0    </td><td> 0.4 </td><td>1    </td><td>1    </td></tr>\n",
       "\t<tr><td>500  </td><td>1    </td><td>20-30</td><td>0    </td><td>5    </td><td>1    </td><td>0    </td><td>1    </td><td> 0.7 </td><td>1    </td><td>0    </td></tr>\n",
       "\t<tr><td>500  </td><td>1    </td><td>20-30</td><td>4    </td><td>4    </td><td>1    </td><td>1    </td><td>1    </td><td>-0.3 </td><td>0    </td><td>1    </td></tr>\n",
       "\t<tr><td>500  </td><td>1    </td><td>20-30</td><td>1    </td><td>0    </td><td>3    </td><td>1    </td><td>8    </td><td> 0.2 </td><td>3    </td><td>1    </td></tr>\n",
       "</tbody>\n",
       "</table>\n"
      ],
      "text/latex": [
       "\\begin{tabular}{r|lllllllllll}\n",
       " SSL\\_SCORE & SSL\\_SCORE\\_RANK & PREDICTOR\\_RAT\\_AGE\\_AT\\_LATEST\\_ARREST & PREDICTOR\\_RAT\\_VICTIM\\_SHOOTING\\_INCIDENTS & PREDICTOR\\_RAT\\_VICTIM\\_BATTERY\\_OR\\_ASSAULT & PREDICTOR\\_RAT\\_ARRESTS\\_VIOLENT\\_OFFENSES & PREDICTOR\\_RAT\\_GANG\\_AFFILIATION & PREDICTOR\\_RAT\\_NARCOTIC\\_ARRESTS & PREDICTOR\\_RAT\\_TREND\\_IN\\_CRIMINAL\\_ACTIVITY & PREDICTOR\\_RAT\\_UUW\\_ARRESTS & SEX\\_CODE\\_CD\\\\\n",
       "\\hline\n",
       "\t 500   & 1     & 20-30 & 0     & 1     & 4     & 1     & 1     &  1.0  & 1     & 1    \\\\\n",
       "\t 500   & 1     & 20-30 & 4     & 3     & 0     & 1     & 0     & -1.1  & 0     & 1    \\\\\n",
       "\t 500   & 1     & 20-30 & 3     & 5     & 2     & 1     & 0     &  0.4  & 1     & 1    \\\\\n",
       "\t 500   & 1     & 20-30 & 0     & 5     & 1     & 0     & 1     &  0.7  & 1     & 0    \\\\\n",
       "\t 500   & 1     & 20-30 & 4     & 4     & 1     & 1     & 1     & -0.3  & 0     & 1    \\\\\n",
       "\t 500   & 1     & 20-30 & 1     & 0     & 3     & 1     & 8     &  0.2  & 3     & 1    \\\\\n",
       "\\end{tabular}\n"
      ],
      "text/markdown": [
       "\n",
       "SSL_SCORE | SSL_SCORE_RANK | PREDICTOR_RAT_AGE_AT_LATEST_ARREST | PREDICTOR_RAT_VICTIM_SHOOTING_INCIDENTS | PREDICTOR_RAT_VICTIM_BATTERY_OR_ASSAULT | PREDICTOR_RAT_ARRESTS_VIOLENT_OFFENSES | PREDICTOR_RAT_GANG_AFFILIATION | PREDICTOR_RAT_NARCOTIC_ARRESTS | PREDICTOR_RAT_TREND_IN_CRIMINAL_ACTIVITY | PREDICTOR_RAT_UUW_ARRESTS | SEX_CODE_CD | \n",
       "|---|---|---|---|---|---|\n",
       "| 500   | 1     | 20-30 | 0     | 1     | 4     | 1     | 1     |  1.0  | 1     | 1     | \n",
       "| 500   | 1     | 20-30 | 4     | 3     | 0     | 1     | 0     | -1.1  | 0     | 1     | \n",
       "| 500   | 1     | 20-30 | 3     | 5     | 2     | 1     | 0     |  0.4  | 1     | 1     | \n",
       "| 500   | 1     | 20-30 | 0     | 5     | 1     | 0     | 1     |  0.7  | 1     | 0     | \n",
       "| 500   | 1     | 20-30 | 4     | 4     | 1     | 1     | 1     | -0.3  | 0     | 1     | \n",
       "| 500   | 1     | 20-30 | 1     | 0     | 3     | 1     | 8     |  0.2  | 3     | 1     | \n",
       "\n",
       "\n"
      ],
      "text/plain": [
       "  SSL_SCORE SSL_SCORE_RANK PREDICTOR_RAT_AGE_AT_LATEST_ARREST\n",
       "1 500       1              20-30                             \n",
       "2 500       1              20-30                             \n",
       "3 500       1              20-30                             \n",
       "4 500       1              20-30                             \n",
       "5 500       1              20-30                             \n",
       "6 500       1              20-30                             \n",
       "  PREDICTOR_RAT_VICTIM_SHOOTING_INCIDENTS\n",
       "1 0                                      \n",
       "2 4                                      \n",
       "3 3                                      \n",
       "4 0                                      \n",
       "5 4                                      \n",
       "6 1                                      \n",
       "  PREDICTOR_RAT_VICTIM_BATTERY_OR_ASSAULT\n",
       "1 1                                      \n",
       "2 3                                      \n",
       "3 5                                      \n",
       "4 5                                      \n",
       "5 4                                      \n",
       "6 0                                      \n",
       "  PREDICTOR_RAT_ARRESTS_VIOLENT_OFFENSES PREDICTOR_RAT_GANG_AFFILIATION\n",
       "1 4                                      1                             \n",
       "2 0                                      1                             \n",
       "3 2                                      1                             \n",
       "4 1                                      0                             \n",
       "5 1                                      1                             \n",
       "6 3                                      1                             \n",
       "  PREDICTOR_RAT_NARCOTIC_ARRESTS PREDICTOR_RAT_TREND_IN_CRIMINAL_ACTIVITY\n",
       "1 1                               1.0                                    \n",
       "2 0                              -1.1                                    \n",
       "3 0                               0.4                                    \n",
       "4 1                               0.7                                    \n",
       "5 1                              -0.3                                    \n",
       "6 8                               0.2                                    \n",
       "  PREDICTOR_RAT_UUW_ARRESTS SEX_CODE_CD\n",
       "1 1                         1          \n",
       "2 0                         1          \n",
       "3 1                         1          \n",
       "4 1                         0          \n",
       "5 0                         1          \n",
       "6 3                         1          "
      ]
     },
     "metadata": {},
     "output_type": "display_data"
    }
   ],
   "source": [
    "head(complete_data)"
   ]
  },
  {
   "cell_type": "code",
   "execution_count": 5,
   "metadata": {},
   "outputs": [
    {
     "name": "stderr",
     "output_type": "stream",
     "text": [
      "Warning message:\n",
      "\"package 'MatchIt' was built under R version 3.3.3\"Warning message:\n",
      "\"package 'dplyr' was built under R version 3.3.3\"\n",
      "Attaching package: 'dplyr'\n",
      "\n",
      "The following objects are masked from 'package:stats':\n",
      "\n",
      "    filter, lag\n",
      "\n",
      "The following objects are masked from 'package:base':\n",
      "\n",
      "    intersect, setdiff, setequal, union\n",
      "\n",
      "Warning message:\n",
      "\"package 'ggplot2' was built under R version 3.3.3\""
     ]
    }
   ],
   "source": [
    "library(MatchIt)\n",
    "library(dplyr)\n",
    "library(ggplot2)"
   ]
  },
  {
   "cell_type": "code",
   "execution_count": 6,
   "metadata": {},
   "outputs": [
    {
     "data": {
      "text/html": [
       "<table>\n",
       "<thead><tr><th scope=col>SEX_CODE_CD</th><th scope=col>NUMBER_OF_PEOPLE</th><th scope=col>MEAN_SSL_SCORE</th><th scope=col>STD_ERROR</th></tr></thead>\n",
       "<tbody>\n",
       "\t<tr><td>0       </td><td>  9     </td><td>472.6667</td><td>8.015610</td></tr>\n",
       "\t<tr><td>1       </td><td>176     </td><td>463.0511</td><td>1.499616</td></tr>\n",
       "</tbody>\n",
       "</table>\n"
      ],
      "text/latex": [
       "\\begin{tabular}{r|llll}\n",
       " SEX\\_CODE\\_CD & NUMBER\\_OF\\_PEOPLE & MEAN\\_SSL\\_SCORE & STD\\_ERROR\\\\\n",
       "\\hline\n",
       "\t 0        &   9      & 472.6667 & 8.015610\\\\\n",
       "\t 1        & 176      & 463.0511 & 1.499616\\\\\n",
       "\\end{tabular}\n"
      ],
      "text/markdown": [
       "\n",
       "SEX_CODE_CD | NUMBER_OF_PEOPLE | MEAN_SSL_SCORE | STD_ERROR | \n",
       "|---|---|\n",
       "| 0        |   9      | 472.6667 | 8.015610 | \n",
       "| 1        | 176      | 463.0511 | 1.499616 | \n",
       "\n",
       "\n"
      ],
      "text/plain": [
       "  SEX_CODE_CD NUMBER_OF_PEOPLE MEAN_SSL_SCORE STD_ERROR\n",
       "1 0             9              472.6667       8.015610 \n",
       "2 1           176              463.0511       1.499616 "
      ]
     },
     "metadata": {},
     "output_type": "display_data"
    }
   ],
   "source": [
    "complete_data %>%\n",
    "  group_by(SEX_CODE_CD) %>%\n",
    "  summarise(NUMBER_OF_PEOPLE = n(),\n",
    "            MEAN_SSL_SCORE = mean(SSL_SCORE),\n",
    "            STD_ERROR = sd(SSL_SCORE) / sqrt(NUMBER_OF_PEOPLE))"
   ]
  },
  {
   "cell_type": "code",
   "execution_count": 7,
   "metadata": {},
   "outputs": [
    {
     "data": {
      "text/html": [
       "<table>\n",
       "<thead><tr><th scope=col>SEX_CODE_CD</th><th scope=col>NUMBER_OF_PEOPLE</th><th scope=col>MEAN_SSL_SCORE_RANK</th><th scope=col>STD_ERROR</th></tr></thead>\n",
       "<tbody>\n",
       "\t<tr><td>0        </td><td>  9      </td><td>385.6667 </td><td>119.43583</td></tr>\n",
       "\t<tr><td>1        </td><td>176      </td><td>525.5625 </td><td> 22.44033</td></tr>\n",
       "</tbody>\n",
       "</table>\n"
      ],
      "text/latex": [
       "\\begin{tabular}{r|llll}\n",
       " SEX\\_CODE\\_CD & NUMBER\\_OF\\_PEOPLE & MEAN\\_SSL\\_SCORE\\_RANK & STD\\_ERROR\\\\\n",
       "\\hline\n",
       "\t 0         &   9       & 385.6667  & 119.43583\\\\\n",
       "\t 1         & 176       & 525.5625  &  22.44033\\\\\n",
       "\\end{tabular}\n"
      ],
      "text/markdown": [
       "\n",
       "SEX_CODE_CD | NUMBER_OF_PEOPLE | MEAN_SSL_SCORE_RANK | STD_ERROR | \n",
       "|---|---|\n",
       "| 0         |   9       | 385.6667  | 119.43583 | \n",
       "| 1         | 176       | 525.5625  |  22.44033 | \n",
       "\n",
       "\n"
      ],
      "text/plain": [
       "  SEX_CODE_CD NUMBER_OF_PEOPLE MEAN_SSL_SCORE_RANK STD_ERROR\n",
       "1 0             9              385.6667            119.43583\n",
       "2 1           176              525.5625             22.44033"
      ]
     },
     "metadata": {},
     "output_type": "display_data"
    }
   ],
   "source": [
    "# For SSL_SCORE_RANK\n",
    "complete_data %>%\n",
    "  group_by(SEX_CODE_CD) %>%\n",
    "  summarise(NUMBER_OF_PEOPLE = n(),\n",
    "            MEAN_SSL_SCORE_RANK = mean(SSL_SCORE_RANK),\n",
    "            STD_ERROR = sd(SSL_SCORE_RANK) / sqrt(NUMBER_OF_PEOPLE))"
   ]
  },
  {
   "cell_type": "code",
   "execution_count": 8,
   "metadata": {},
   "outputs": [
    {
     "data": {
      "text/plain": [
       "\n",
       "\tWelch Two Sample t-test\n",
       "\n",
       "data:  SSL_SCORE by SEX_CODE_CD\n",
       "t = 1.1791, df = 8.5693, p-value = 0.27\n",
       "alternative hypothesis: true difference in means is not equal to 0\n",
       "95 percent confidence interval:\n",
       " -8.973933 28.204994\n",
       "sample estimates:\n",
       "mean in group 0 mean in group 1 \n",
       "       472.6667        463.0511 \n"
      ]
     },
     "metadata": {},
     "output_type": "display_data"
    }
   ],
   "source": [
    "# T-test without PSM for SSL_SCORE and SEX_CODE_CD\n",
    "attach(complete_data)\n",
    "t.test(SSL_SCORE~SEX_CODE_CD)"
   ]
  },
  {
   "cell_type": "code",
   "execution_count": 9,
   "metadata": {},
   "outputs": [
    {
     "data": {
      "text/plain": [
       "\n",
       "\tWelch Two Sample t-test\n",
       "\n",
       "data:  SSL_SCORE_RANK by SEX_CODE_CD\n",
       "t = -1.1512, df = 8.5743, p-value = 0.2808\n",
       "alternative hypothesis: true difference in means is not equal to 0\n",
       "95 percent confidence interval:\n",
       " -416.9007  137.1090\n",
       "sample estimates:\n",
       "mean in group 0 mean in group 1 \n",
       "       385.6667        525.5625 \n"
      ]
     },
     "metadata": {},
     "output_type": "display_data"
    }
   ],
   "source": [
    "# T-test without PSM for SSL_SCORE_RANK and SEX_CODE_CD\n",
    "t.test(SSL_SCORE_RANK~SEX_CODE_CD)"
   ]
  },
  {
   "cell_type": "code",
   "execution_count": 10,
   "metadata": {},
   "outputs": [
    {
     "name": "stderr",
     "output_type": "stream",
     "text": [
      "Warning message in matchit2nearest(structure(c(1L, 1L, 1L, 0L, 1L, 1L, 1L, 1L, 1L, :\n",
      "\"Fewer control than treated units and matching without replacement.  Not all treated units will receive a match.  Treated units will be matched in the order specified by m.order: largest\""
     ]
    }
   ],
   "source": [
    "mod_match <- matchit(SEX_CODE_CD ~ PREDICTOR_RAT_VICTIM_SHOOTING_INCIDENTS + PREDICTOR_RAT_VICTIM_BATTERY_OR_ASSAULT + \n",
    "            PREDICTOR_RAT_ARRESTS_VIOLENT_OFFENSES + PREDICTOR_RAT_GANG_AFFILIATION + PREDICTOR_RAT_NARCOTIC_ARRESTS + PREDICTOR_RAT_TREND_IN_CRIMINAL_ACTIVITY +\n",
    "            PREDICTOR_RAT_UUW_ARRESTS,\n",
    "                     method = \"nearest\", data = complete_data)"
   ]
  },
  {
   "cell_type": "code",
   "execution_count": 11,
   "metadata": {},
   "outputs": [
    {
     "data": {
      "text/plain": [
       "\n",
       "Call: \n",
       "matchit(formula = SEX_CODE_CD ~ PREDICTOR_RAT_VICTIM_SHOOTING_INCIDENTS + \n",
       "    PREDICTOR_RAT_VICTIM_BATTERY_OR_ASSAULT + PREDICTOR_RAT_ARRESTS_VIOLENT_OFFENSES + \n",
       "    PREDICTOR_RAT_GANG_AFFILIATION + PREDICTOR_RAT_NARCOTIC_ARRESTS + \n",
       "    PREDICTOR_RAT_TREND_IN_CRIMINAL_ACTIVITY + PREDICTOR_RAT_UUW_ARRESTS, \n",
       "    data = complete_data, method = \"nearest\")\n",
       "\n",
       "Sample sizes:\n",
       "          Control Treated\n",
       "All             9     176\n",
       "Matched         9       9\n",
       "Unmatched       0     167\n",
       "Discarded       0       0\n"
      ]
     },
     "metadata": {},
     "output_type": "display_data"
    }
   ],
   "source": [
    "mod_match"
   ]
  },
  {
   "cell_type": "code",
   "execution_count": 12,
   "metadata": {
    "collapsed": true
   },
   "outputs": [],
   "source": [
    "matched <- match.data(mod_match)\n",
    "matched_copy<-matched"
   ]
  },
  {
   "cell_type": "code",
   "execution_count": 13,
   "metadata": {},
   "outputs": [
    {
     "name": "stdout",
     "output_type": "stream",
     "text": [
      "[1] \"To identify the units, use first mouse button; to stop, use second.\"\n"
     ]
    },
    {
     "data": {
      "text/html": [],
      "text/latex": [],
      "text/markdown": [],
      "text/plain": [
       "integer(0)"
      ]
     },
     "metadata": {},
     "output_type": "display_data"
    },
    {
     "data": {
      "image/png": "[encoded data removed]",
      "text/plain": [
       "Plot with title \"Distribution of Propensity Scores\""
      ]
     },
     "metadata": {},
     "output_type": "display_data"
    }
   ],
   "source": [
    "plot(mod_match, type = \"jitter\")"
   ]
  },
  {
   "cell_type": "code",
   "execution_count": 14,
   "metadata": {},
   "outputs": [
    {
     "data": {
      "image/png": "[encoded data removed]",
      "text/plain": [
       "Plot with title \"Matched Control\""
      ]
     },
     "metadata": {},
     "output_type": "display_data"
    }
   ],
   "source": [
    "plot(mod_match, type = \"hist\")"
   ]
  },
  {
   "cell_type": "code",
   "execution_count": 15,
   "metadata": {},
   "outputs": [
    {
     "data": {
      "text/html": [
       "<table>\n",
       "<thead><tr><th></th><th scope=col>SSL_SCORE</th><th scope=col>SSL_SCORE_RANK</th><th scope=col>PREDICTOR_RAT_AGE_AT_LATEST_ARREST</th><th scope=col>PREDICTOR_RAT_VICTIM_SHOOTING_INCIDENTS</th><th scope=col>PREDICTOR_RAT_VICTIM_BATTERY_OR_ASSAULT</th><th scope=col>PREDICTOR_RAT_ARRESTS_VIOLENT_OFFENSES</th><th scope=col>PREDICTOR_RAT_GANG_AFFILIATION</th><th scope=col>PREDICTOR_RAT_NARCOTIC_ARRESTS</th><th scope=col>PREDICTOR_RAT_TREND_IN_CRIMINAL_ACTIVITY</th><th scope=col>PREDICTOR_RAT_UUW_ARRESTS</th><th scope=col>SEX_CODE_CD</th><th scope=col>distance</th><th scope=col>weights</th></tr></thead>\n",
       "<tbody>\n",
       "\t<tr><th scope=row>4</th><td>500       </td><td>1         </td><td>20-30     </td><td>0         </td><td> 5        </td><td>1         </td><td>0         </td><td> 1        </td><td>0.7       </td><td>1         </td><td>0         </td><td>0.40313110</td><td>1         </td></tr>\n",
       "\t<tr><th scope=row>6</th><td>500       </td><td>1         </td><td>20-30     </td><td>1         </td><td> 0        </td><td>3         </td><td>1         </td><td> 8        </td><td>0.2       </td><td>3         </td><td>1         </td><td>0.99999718</td><td>1         </td></tr>\n",
       "\t<tr><th scope=row>11</th><td>500       </td><td>1         </td><td>20-30     </td><td>1         </td><td> 1        </td><td>0         </td><td>1         </td><td>18        </td><td>3.3       </td><td>0         </td><td>1         </td><td>0.99999306</td><td>1         </td></tr>\n",
       "\t<tr><th scope=row>14</th><td>500       </td><td>1         </td><td>20-30     </td><td>0         </td><td> 0        </td><td>4         </td><td>1         </td><td> 0        </td><td>2.2       </td><td>3         </td><td>1         </td><td>0.99999825</td><td>1         </td></tr>\n",
       "\t<tr><th scope=row>17</th><td>500       </td><td>1         </td><td>20-30     </td><td>1         </td><td> 9        </td><td>1         </td><td>1         </td><td> 0        </td><td>0.7       </td><td>0         </td><td>0         </td><td>0.91817081</td><td>1         </td></tr>\n",
       "\t<tr><th scope=row>21</th><td>500       </td><td>1         </td><td>20-30     </td><td>0         </td><td>10        </td><td>1         </td><td>0         </td><td> 0        </td><td>0.3       </td><td>1         </td><td>0         </td><td>0.01576884</td><td>1         </td></tr>\n",
       "</tbody>\n",
       "</table>\n"
      ],
      "text/latex": [
       "\\begin{tabular}{r|lllllllllllll}\n",
       "  & SSL\\_SCORE & SSL\\_SCORE\\_RANK & PREDICTOR\\_RAT\\_AGE\\_AT\\_LATEST\\_ARREST & PREDICTOR\\_RAT\\_VICTIM\\_SHOOTING\\_INCIDENTS & PREDICTOR\\_RAT\\_VICTIM\\_BATTERY\\_OR\\_ASSAULT & PREDICTOR\\_RAT\\_ARRESTS\\_VIOLENT\\_OFFENSES & PREDICTOR\\_RAT\\_GANG\\_AFFILIATION & PREDICTOR\\_RAT\\_NARCOTIC\\_ARRESTS & PREDICTOR\\_RAT\\_TREND\\_IN\\_CRIMINAL\\_ACTIVITY & PREDICTOR\\_RAT\\_UUW\\_ARRESTS & SEX\\_CODE\\_CD & distance & weights\\\\\n",
       "\\hline\n",
       "\t4 & 500        & 1          & 20-30      & 0          &  5         & 1          & 0          &  1         & 0.7        & 1          & 0          & 0.40313110 & 1         \\\\\n",
       "\t6 & 500        & 1          & 20-30      & 1          &  0         & 3          & 1          &  8         & 0.2        & 3          & 1          & 0.99999718 & 1         \\\\\n",
       "\t11 & 500        & 1          & 20-30      & 1          &  1         & 0          & 1          & 18         & 3.3        & 0          & 1          & 0.99999306 & 1         \\\\\n",
       "\t14 & 500        & 1          & 20-30      & 0          &  0         & 4          & 1          &  0         & 2.2        & 3          & 1          & 0.99999825 & 1         \\\\\n",
       "\t17 & 500        & 1          & 20-30      & 1          &  9         & 1          & 1          &  0         & 0.7        & 0          & 0          & 0.91817081 & 1         \\\\\n",
       "\t21 & 500        & 1          & 20-30      & 0          & 10         & 1          & 0          &  0         & 0.3        & 1          & 0          & 0.01576884 & 1         \\\\\n",
       "\\end{tabular}\n"
      ],
      "text/markdown": [
       "\n",
       "| <!--/--> | SSL_SCORE | SSL_SCORE_RANK | PREDICTOR_RAT_AGE_AT_LATEST_ARREST | PREDICTOR_RAT_VICTIM_SHOOTING_INCIDENTS | PREDICTOR_RAT_VICTIM_BATTERY_OR_ASSAULT | PREDICTOR_RAT_ARRESTS_VIOLENT_OFFENSES | PREDICTOR_RAT_GANG_AFFILIATION | PREDICTOR_RAT_NARCOTIC_ARRESTS | PREDICTOR_RAT_TREND_IN_CRIMINAL_ACTIVITY | PREDICTOR_RAT_UUW_ARRESTS | SEX_CODE_CD | distance | weights | \n",
       "|---|---|---|---|---|---|\n",
       "| 4 | 500        | 1          | 20-30      | 0          |  5         | 1          | 0          |  1         | 0.7        | 1          | 0          | 0.40313110 | 1          | \n",
       "| 6 | 500        | 1          | 20-30      | 1          |  0         | 3          | 1          |  8         | 0.2        | 3          | 1          | 0.99999718 | 1          | \n",
       "| 11 | 500        | 1          | 20-30      | 1          |  1         | 0          | 1          | 18         | 3.3        | 0          | 1          | 0.99999306 | 1          | \n",
       "| 14 | 500        | 1          | 20-30      | 0          |  0         | 4          | 1          |  0         | 2.2        | 3          | 1          | 0.99999825 | 1          | \n",
       "| 17 | 500        | 1          | 20-30      | 1          |  9         | 1          | 1          |  0         | 0.7        | 0          | 0          | 0.91817081 | 1          | \n",
       "| 21 | 500        | 1          | 20-30      | 0          | 10         | 1          | 0          |  0         | 0.3        | 1          | 0          | 0.01576884 | 1          | \n",
       "\n",
       "\n"
      ],
      "text/plain": [
       "   SSL_SCORE SSL_SCORE_RANK PREDICTOR_RAT_AGE_AT_LATEST_ARREST\n",
       "4  500       1              20-30                             \n",
       "6  500       1              20-30                             \n",
       "11 500       1              20-30                             \n",
       "14 500       1              20-30                             \n",
       "17 500       1              20-30                             \n",
       "21 500       1              20-30                             \n",
       "   PREDICTOR_RAT_VICTIM_SHOOTING_INCIDENTS\n",
       "4  0                                      \n",
       "6  1                                      \n",
       "11 1                                      \n",
       "14 0                                      \n",
       "17 1                                      \n",
       "21 0                                      \n",
       "   PREDICTOR_RAT_VICTIM_BATTERY_OR_ASSAULT\n",
       "4   5                                     \n",
       "6   0                                     \n",
       "11  1                                     \n",
       "14  0                                     \n",
       "17  9                                     \n",
       "21 10                                     \n",
       "   PREDICTOR_RAT_ARRESTS_VIOLENT_OFFENSES PREDICTOR_RAT_GANG_AFFILIATION\n",
       "4  1                                      0                             \n",
       "6  3                                      1                             \n",
       "11 0                                      1                             \n",
       "14 4                                      1                             \n",
       "17 1                                      1                             \n",
       "21 1                                      0                             \n",
       "   PREDICTOR_RAT_NARCOTIC_ARRESTS PREDICTOR_RAT_TREND_IN_CRIMINAL_ACTIVITY\n",
       "4   1                             0.7                                     \n",
       "6   8                             0.2                                     \n",
       "11 18                             3.3                                     \n",
       "14  0                             2.2                                     \n",
       "17  0                             0.7                                     \n",
       "21  0                             0.3                                     \n",
       "   PREDICTOR_RAT_UUW_ARRESTS SEX_CODE_CD distance   weights\n",
       "4  1                         0           0.40313110 1      \n",
       "6  3                         1           0.99999718 1      \n",
       "11 0                         1           0.99999306 1      \n",
       "14 3                         1           0.99999825 1      \n",
       "17 0                         0           0.91817081 1      \n",
       "21 1                         0           0.01576884 1      "
      ]
     },
     "metadata": {},
     "output_type": "display_data"
    }
   ],
   "source": [
    "head(matched)"
   ]
  },
  {
   "cell_type": "code",
   "execution_count": 16,
   "metadata": {},
   "outputs": [
    {
     "name": "stderr",
     "output_type": "stream",
     "text": [
      "The following objects are masked from complete_data:\n",
      "\n",
      "    PREDICTOR_RAT_AGE_AT_LATEST_ARREST,\n",
      "    PREDICTOR_RAT_ARRESTS_VIOLENT_OFFENSES,\n",
      "    PREDICTOR_RAT_GANG_AFFILIATION, PREDICTOR_RAT_NARCOTIC_ARRESTS,\n",
      "    PREDICTOR_RAT_TREND_IN_CRIMINAL_ACTIVITY,\n",
      "    PREDICTOR_RAT_UUW_ARRESTS, PREDICTOR_RAT_VICTIM_BATTERY_OR_ASSAULT,\n",
      "    PREDICTOR_RAT_VICTIM_SHOOTING_INCIDENTS, SEX_CODE_CD, SSL_SCORE,\n",
      "    SSL_SCORE_RANK\n",
      "\n"
     ]
    }
   ],
   "source": [
    "# Doing T - test on matched records\n",
    "options(warn=-1)\n",
    "attach(matched)"
   ]
  },
  {
   "cell_type": "code",
   "execution_count": 17,
   "metadata": {
    "collapsed": true
   },
   "outputs": [],
   "source": [
    "gender_female <-subset(matched,SEX_CODE_CD == 0)\n",
    "gender_male<-subset(matched,SEX_CODE_CD == 1)"
   ]
  },
  {
   "cell_type": "code",
   "execution_count": 18,
   "metadata": {},
   "outputs": [
    {
     "data": {
      "text/plain": [
       "\n",
       "\tWelch Two Sample t-test\n",
       "\n",
       "data:  SSL_SCORE by SEX_CODE_CD\n",
       "t = -0.32453, df = 15.274, p-value = 0.7499\n",
       "alternative hypothesis: true difference in means is not equal to 0\n",
       "95 percent confidence interval:\n",
       " -25.19197  18.52530\n",
       "sample estimates:\n",
       "mean in group 0 mean in group 1 \n",
       "       472.6667        476.0000 \n"
      ]
     },
     "metadata": {},
     "output_type": "display_data"
    }
   ],
   "source": [
    "t.test(SSL_SCORE~SEX_CODE_CD)"
   ]
  },
  {
   "cell_type": "code",
   "execution_count": 19,
   "metadata": {},
   "outputs": [
    {
     "data": {
      "text/plain": [
       "\n",
       "\tWelch Two Sample t-test\n",
       "\n",
       "data:  SSL_SCORE_RANK by SEX_CODE_CD\n",
       "t = 0.50799, df = 14.442, p-value = 0.6191\n",
       "alternative hypothesis: true difference in means is not equal to 0\n",
       "95 percent confidence interval:\n",
       " -238.9699  387.8588\n",
       "sample estimates:\n",
       "mean in group 0 mean in group 1 \n",
       "       385.6667        311.2222 \n"
      ]
     },
     "metadata": {},
     "output_type": "display_data"
    }
   ],
   "source": [
    "t.test(SSL_SCORE_RANK~SEX_CODE_CD)"
   ]
  }
 ],
 "metadata": {
  "kernelspec": {
   "display_name": "R",
   "language": "R",
   "name": "ir"
  },
  "language_info": {
   "codemirror_mode": "r",
   "file_extension": ".r",
   "mimetype": "text/x-r-source",
   "name": "R",
   "pygments_lexer": "r",
   "version": "3.3.2"
  }
 },
 "nbformat": 4,
 "nbformat_minor": 2
}
