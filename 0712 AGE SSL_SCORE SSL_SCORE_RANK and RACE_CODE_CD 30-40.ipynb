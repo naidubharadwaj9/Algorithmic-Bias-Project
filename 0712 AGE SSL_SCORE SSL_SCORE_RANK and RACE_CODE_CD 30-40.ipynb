{
 "cells": [
  {
   "cell_type": "code",
   "execution_count": 1,
   "metadata": {},
   "outputs": [
    {
     "name": "stdout",
     "output_type": "stream",
     "text": [
      "The Number of Rows in Initial Data is 60659"
     ]
    }
   ],
   "source": [
    "raw_data <- read.csv(\"SSL_RAT_RACE_CODE_30_40.csv\", sep=\",\", header=T, strip.white = T, na.strings = c(\"NA\",\"NaN\",\"\",\"?\"))\n",
    "#Converting the \".\" in column names to \"_\"\n",
    "names(raw_data)<-gsub(\"\\\\.\", \"_\", names(raw_data))\n",
    "cat(\"The Number of Rows in Initial Data is\", nrow(raw_data))"
   ]
  },
  {
   "cell_type": "code",
   "execution_count": 2,
   "metadata": {
    "collapsed": true
   },
   "outputs": [],
   "source": [
    "final_features<-raw_data[,c('SSL_SCORE','SSL_SCORE_RANK','PREDICTOR_RAT_AGE_AT_LATEST_ARREST','PREDICTOR_RAT_VICTIM_SHOOTING_INCIDENTS',\n",
    "                            'PREDICTOR_RAT_VICTIM_BATTERY_OR_ASSAULT','PREDICTOR_RAT_ARRESTS_VIOLENT_OFFENSES','PREDICTOR_RAT_GANG_AFFILIATION', \n",
    "                           'PREDICTOR_RAT_NARCOTIC_ARRESTS','PREDICTOR_RAT_TREND_IN_CRIMINAL_ACTIVITY','PREDICTOR_RAT_UUW_ARRESTS','RACE_CODE_CD')]"
   ]
  },
  {
   "cell_type": "code",
   "execution_count": 3,
   "metadata": {},
   "outputs": [
    {
     "data": {
      "text/html": [
       "60659"
      ],
      "text/latex": [
       "60659"
      ],
      "text/markdown": [
       "60659"
      ],
      "text/plain": [
       "[1] 60659"
      ]
     },
     "metadata": {},
     "output_type": "display_data"
    }
   ],
   "source": [
    "complete_data <- final_features[complete.cases(final_features),]\n",
    "nrow(complete_data)"
   ]
  },
  {
   "cell_type": "code",
   "execution_count": 4,
   "metadata": {},
   "outputs": [
    {
     "data": {
      "text/html": [
       "<table>\n",
       "<thead><tr><th scope=col>SSL_SCORE</th><th scope=col>SSL_SCORE_RANK</th><th scope=col>PREDICTOR_RAT_AGE_AT_LATEST_ARREST</th><th scope=col>PREDICTOR_RAT_VICTIM_SHOOTING_INCIDENTS</th><th scope=col>PREDICTOR_RAT_VICTIM_BATTERY_OR_ASSAULT</th><th scope=col>PREDICTOR_RAT_ARRESTS_VIOLENT_OFFENSES</th><th scope=col>PREDICTOR_RAT_GANG_AFFILIATION</th><th scope=col>PREDICTOR_RAT_NARCOTIC_ARRESTS</th><th scope=col>PREDICTOR_RAT_TREND_IN_CRIMINAL_ACTIVITY</th><th scope=col>PREDICTOR_RAT_UUW_ARRESTS</th><th scope=col>RACE_CODE_CD</th></tr></thead>\n",
       "<tbody>\n",
       "\t<tr><td>478  </td><td>296  </td><td>30-40</td><td>1    </td><td>6    </td><td>1    </td><td>1    </td><td> 0   </td><td>-0.6 </td><td>1    </td><td>0    </td></tr>\n",
       "\t<tr><td>471  </td><td>363  </td><td>30-40</td><td>0    </td><td>0    </td><td>0    </td><td>1    </td><td>22   </td><td>-1.8 </td><td>0    </td><td>0    </td></tr>\n",
       "\t<tr><td>456  </td><td>579  </td><td>30-40</td><td>2    </td><td>0    </td><td>0    </td><td>1    </td><td>16   </td><td> 2.4 </td><td>0    </td><td>0    </td></tr>\n",
       "\t<tr><td>456  </td><td>579  </td><td>30-40</td><td>2    </td><td>2    </td><td>0    </td><td>1    </td><td> 6   </td><td> 1.5 </td><td>0    </td><td>0    </td></tr>\n",
       "\t<tr><td>447  </td><td>749  </td><td>30-40</td><td>1    </td><td>2    </td><td>2    </td><td>1    </td><td> 6   </td><td>-2.6 </td><td>0    </td><td>0    </td></tr>\n",
       "\t<tr><td>444  </td><td>827  </td><td>30-40</td><td>1    </td><td>1    </td><td>3    </td><td>1    </td><td> 0   </td><td> 0.5 </td><td>3    </td><td>0    </td></tr>\n",
       "</tbody>\n",
       "</table>\n"
      ],
      "text/latex": [
       "\\begin{tabular}{r|lllllllllll}\n",
       " SSL\\_SCORE & SSL\\_SCORE\\_RANK & PREDICTOR\\_RAT\\_AGE\\_AT\\_LATEST\\_ARREST & PREDICTOR\\_RAT\\_VICTIM\\_SHOOTING\\_INCIDENTS & PREDICTOR\\_RAT\\_VICTIM\\_BATTERY\\_OR\\_ASSAULT & PREDICTOR\\_RAT\\_ARRESTS\\_VIOLENT\\_OFFENSES & PREDICTOR\\_RAT\\_GANG\\_AFFILIATION & PREDICTOR\\_RAT\\_NARCOTIC\\_ARRESTS & PREDICTOR\\_RAT\\_TREND\\_IN\\_CRIMINAL\\_ACTIVITY & PREDICTOR\\_RAT\\_UUW\\_ARRESTS & RACE\\_CODE\\_CD\\\\\n",
       "\\hline\n",
       "\t 478   & 296   & 30-40 & 1     & 6     & 1     & 1     &  0    & -0.6  & 1     & 0    \\\\\n",
       "\t 471   & 363   & 30-40 & 0     & 0     & 0     & 1     & 22    & -1.8  & 0     & 0    \\\\\n",
       "\t 456   & 579   & 30-40 & 2     & 0     & 0     & 1     & 16    &  2.4  & 0     & 0    \\\\\n",
       "\t 456   & 579   & 30-40 & 2     & 2     & 0     & 1     &  6    &  1.5  & 0     & 0    \\\\\n",
       "\t 447   & 749   & 30-40 & 1     & 2     & 2     & 1     &  6    & -2.6  & 0     & 0    \\\\\n",
       "\t 444   & 827   & 30-40 & 1     & 1     & 3     & 1     &  0    &  0.5  & 3     & 0    \\\\\n",
       "\\end{tabular}\n"
      ],
      "text/markdown": [
       "\n",
       "SSL_SCORE | SSL_SCORE_RANK | PREDICTOR_RAT_AGE_AT_LATEST_ARREST | PREDICTOR_RAT_VICTIM_SHOOTING_INCIDENTS | PREDICTOR_RAT_VICTIM_BATTERY_OR_ASSAULT | PREDICTOR_RAT_ARRESTS_VIOLENT_OFFENSES | PREDICTOR_RAT_GANG_AFFILIATION | PREDICTOR_RAT_NARCOTIC_ARRESTS | PREDICTOR_RAT_TREND_IN_CRIMINAL_ACTIVITY | PREDICTOR_RAT_UUW_ARRESTS | RACE_CODE_CD | \n",
       "|---|---|---|---|---|---|\n",
       "| 478   | 296   | 30-40 | 1     | 6     | 1     | 1     |  0    | -0.6  | 1     | 0     | \n",
       "| 471   | 363   | 30-40 | 0     | 0     | 0     | 1     | 22    | -1.8  | 0     | 0     | \n",
       "| 456   | 579   | 30-40 | 2     | 0     | 0     | 1     | 16    |  2.4  | 0     | 0     | \n",
       "| 456   | 579   | 30-40 | 2     | 2     | 0     | 1     |  6    |  1.5  | 0     | 0     | \n",
       "| 447   | 749   | 30-40 | 1     | 2     | 2     | 1     |  6    | -2.6  | 0     | 0     | \n",
       "| 444   | 827   | 30-40 | 1     | 1     | 3     | 1     |  0    |  0.5  | 3     | 0     | \n",
       "\n",
       "\n"
      ],
      "text/plain": [
       "  SSL_SCORE SSL_SCORE_RANK PREDICTOR_RAT_AGE_AT_LATEST_ARREST\n",
       "1 478       296            30-40                             \n",
       "2 471       363            30-40                             \n",
       "3 456       579            30-40                             \n",
       "4 456       579            30-40                             \n",
       "5 447       749            30-40                             \n",
       "6 444       827            30-40                             \n",
       "  PREDICTOR_RAT_VICTIM_SHOOTING_INCIDENTS\n",
       "1 1                                      \n",
       "2 0                                      \n",
       "3 2                                      \n",
       "4 2                                      \n",
       "5 1                                      \n",
       "6 1                                      \n",
       "  PREDICTOR_RAT_VICTIM_BATTERY_OR_ASSAULT\n",
       "1 6                                      \n",
       "2 0                                      \n",
       "3 0                                      \n",
       "4 2                                      \n",
       "5 2                                      \n",
       "6 1                                      \n",
       "  PREDICTOR_RAT_ARRESTS_VIOLENT_OFFENSES PREDICTOR_RAT_GANG_AFFILIATION\n",
       "1 1                                      1                             \n",
       "2 0                                      1                             \n",
       "3 0                                      1                             \n",
       "4 0                                      1                             \n",
       "5 2                                      1                             \n",
       "6 3                                      1                             \n",
       "  PREDICTOR_RAT_NARCOTIC_ARRESTS PREDICTOR_RAT_TREND_IN_CRIMINAL_ACTIVITY\n",
       "1  0                             -0.6                                    \n",
       "2 22                             -1.8                                    \n",
       "3 16                              2.4                                    \n",
       "4  6                              1.5                                    \n",
       "5  6                             -2.6                                    \n",
       "6  0                              0.5                                    \n",
       "  PREDICTOR_RAT_UUW_ARRESTS RACE_CODE_CD\n",
       "1 1                         0           \n",
       "2 0                         0           \n",
       "3 0                         0           \n",
       "4 0                         0           \n",
       "5 0                         0           \n",
       "6 3                         0           "
      ]
     },
     "metadata": {},
     "output_type": "display_data"
    }
   ],
   "source": [
    "head(complete_data)"
   ]
  },
  {
   "cell_type": "code",
   "execution_count": 5,
   "metadata": {},
   "outputs": [
    {
     "name": "stderr",
     "output_type": "stream",
     "text": [
      "Warning message:\n",
      "\"package 'MatchIt' was built under R version 3.3.3\"Warning message:\n",
      "\"package 'dplyr' was built under R version 3.3.3\"\n",
      "Attaching package: 'dplyr'\n",
      "\n",
      "The following objects are masked from 'package:stats':\n",
      "\n",
      "    filter, lag\n",
      "\n",
      "The following objects are masked from 'package:base':\n",
      "\n",
      "    intersect, setdiff, setequal, union\n",
      "\n",
      "Warning message:\n",
      "\"package 'ggplot2' was built under R version 3.3.3\""
     ]
    }
   ],
   "source": [
    "library(MatchIt)\n",
    "library(dplyr)\n",
    "library(ggplot2)"
   ]
  },
  {
   "cell_type": "code",
   "execution_count": 6,
   "metadata": {},
   "outputs": [
    {
     "data": {
      "text/html": [
       "<table>\n",
       "<thead><tr><th scope=col>RACE_CODE_CD</th><th scope=col>NUMBER_OF_PEOPLE</th><th scope=col>MEAN_SSL_SCORE</th><th scope=col>STD_ERROR</th></tr></thead>\n",
       "<tbody>\n",
       "\t<tr><td>0         </td><td>42071     </td><td>270.0234  </td><td>0.08805065</td></tr>\n",
       "\t<tr><td>1         </td><td>18588     </td><td>266.9068  </td><td>0.10824328</td></tr>\n",
       "</tbody>\n",
       "</table>\n"
      ],
      "text/latex": [
       "\\begin{tabular}{r|llll}\n",
       " RACE\\_CODE\\_CD & NUMBER\\_OF\\_PEOPLE & MEAN\\_SSL\\_SCORE & STD\\_ERROR\\\\\n",
       "\\hline\n",
       "\t 0          & 42071      & 270.0234   & 0.08805065\\\\\n",
       "\t 1          & 18588      & 266.9068   & 0.10824328\\\\\n",
       "\\end{tabular}\n"
      ],
      "text/markdown": [
       "\n",
       "RACE_CODE_CD | NUMBER_OF_PEOPLE | MEAN_SSL_SCORE | STD_ERROR | \n",
       "|---|---|\n",
       "| 0          | 42071      | 270.0234   | 0.08805065 | \n",
       "| 1          | 18588      | 266.9068   | 0.10824328 | \n",
       "\n",
       "\n"
      ],
      "text/plain": [
       "  RACE_CODE_CD NUMBER_OF_PEOPLE MEAN_SSL_SCORE STD_ERROR \n",
       "1 0            42071            270.0234       0.08805065\n",
       "2 1            18588            266.9068       0.10824328"
      ]
     },
     "metadata": {},
     "output_type": "display_data"
    }
   ],
   "source": [
    "#SSL_SCORE\n",
    "complete_data %>%\n",
    "  group_by(RACE_CODE_CD) %>%\n",
    "  summarise(NUMBER_OF_PEOPLE = n(),\n",
    "            MEAN_SSL_SCORE = mean(SSL_SCORE),\n",
    "            STD_ERROR = sd(SSL_SCORE) / sqrt(NUMBER_OF_PEOPLE))"
   ]
  },
  {
   "cell_type": "code",
   "execution_count": 7,
   "metadata": {},
   "outputs": [
    {
     "data": {
      "text/html": [
       "<table>\n",
       "<thead><tr><th scope=col>RACE_CODE_CD</th><th scope=col>NUMBER_OF_PEOPLE</th><th scope=col>MEAN_SSL_SCORE_RANK</th><th scope=col>STD_ERROR</th></tr></thead>\n",
       "<tbody>\n",
       "\t<tr><td>0       </td><td>42071   </td><td>242721.1</td><td>203.2993</td></tr>\n",
       "\t<tr><td>1       </td><td>18588   </td><td>250290.1</td><td>233.8118</td></tr>\n",
       "</tbody>\n",
       "</table>\n"
      ],
      "text/latex": [
       "\\begin{tabular}{r|llll}\n",
       " RACE\\_CODE\\_CD & NUMBER\\_OF\\_PEOPLE & MEAN\\_SSL\\_SCORE\\_RANK & STD\\_ERROR\\\\\n",
       "\\hline\n",
       "\t 0        & 42071    & 242721.1 & 203.2993\\\\\n",
       "\t 1        & 18588    & 250290.1 & 233.8118\\\\\n",
       "\\end{tabular}\n"
      ],
      "text/markdown": [
       "\n",
       "RACE_CODE_CD | NUMBER_OF_PEOPLE | MEAN_SSL_SCORE_RANK | STD_ERROR | \n",
       "|---|---|\n",
       "| 0        | 42071    | 242721.1 | 203.2993 | \n",
       "| 1        | 18588    | 250290.1 | 233.8118 | \n",
       "\n",
       "\n"
      ],
      "text/plain": [
       "  RACE_CODE_CD NUMBER_OF_PEOPLE MEAN_SSL_SCORE_RANK STD_ERROR\n",
       "1 0            42071            242721.1            203.2993 \n",
       "2 1            18588            250290.1            233.8118 "
      ]
     },
     "metadata": {},
     "output_type": "display_data"
    }
   ],
   "source": [
    "# For SSL_SCORE_RANK\n",
    "complete_data %>%\n",
    "  group_by(RACE_CODE_CD) %>%\n",
    "  summarise(NUMBER_OF_PEOPLE = n(),\n",
    "            MEAN_SSL_SCORE_RANK = mean(SSL_SCORE_RANK),\n",
    "            STD_ERROR = sd(SSL_SCORE_RANK) / sqrt(NUMBER_OF_PEOPLE))"
   ]
  },
  {
   "cell_type": "code",
   "execution_count": 8,
   "metadata": {},
   "outputs": [
    {
     "data": {
      "text/plain": [
       "\n",
       "\tWelch Two Sample t-test\n",
       "\n",
       "data:  SSL_SCORE by RACE_CODE_CD\n",
       "t = 22.336, df = 43004, p-value < 2.2e-16\n",
       "alternative hypothesis: true difference in means is not equal to 0\n",
       "95 percent confidence interval:\n",
       " 2.843181 3.390157\n",
       "sample estimates:\n",
       "mean in group 0 mean in group 1 \n",
       "       270.0234        266.9068 \n"
      ]
     },
     "metadata": {},
     "output_type": "display_data"
    }
   ],
   "source": [
    "# T-test without PSM for SSL_SCORE and RACE_CODE_CD\n",
    "attach(complete_data)\n",
    "t.test(SSL_SCORE~RACE_CODE_CD)"
   ]
  },
  {
   "cell_type": "code",
   "execution_count": 9,
   "metadata": {},
   "outputs": [
    {
     "data": {
      "text/plain": [
       "\n",
       "\tWelch Two Sample t-test\n",
       "\n",
       "data:  SSL_SCORE_RANK by RACE_CODE_CD\n",
       "t = -24.429, df = 45760, p-value < 2.2e-16\n",
       "alternative hypothesis: true difference in means is not equal to 0\n",
       "95 percent confidence interval:\n",
       " -8176.235 -6961.667\n",
       "sample estimates:\n",
       "mean in group 0 mean in group 1 \n",
       "       242721.1        250290.1 \n"
      ]
     },
     "metadata": {},
     "output_type": "display_data"
    }
   ],
   "source": [
    "# T-test without PSM for SSL_SCORE_RANK and RACE_CODE_CD\n",
    "t.test(SSL_SCORE_RANK~RACE_CODE_CD)"
   ]
  },
  {
   "cell_type": "code",
   "execution_count": 10,
   "metadata": {
    "collapsed": true
   },
   "outputs": [],
   "source": [
    "mod_match <- matchit(RACE_CODE_CD ~ PREDICTOR_RAT_VICTIM_SHOOTING_INCIDENTS + PREDICTOR_RAT_VICTIM_BATTERY_OR_ASSAULT + \n",
    "            PREDICTOR_RAT_ARRESTS_VIOLENT_OFFENSES + PREDICTOR_RAT_GANG_AFFILIATION + PREDICTOR_RAT_NARCOTIC_ARRESTS + PREDICTOR_RAT_TREND_IN_CRIMINAL_ACTIVITY +\n",
    "            PREDICTOR_RAT_UUW_ARRESTS,\n",
    "                     method = \"nearest\", data = complete_data)"
   ]
  },
  {
   "cell_type": "code",
   "execution_count": 11,
   "metadata": {},
   "outputs": [
    {
     "data": {
      "text/plain": [
       "\n",
       "Call: \n",
       "matchit(formula = RACE_CODE_CD ~ PREDICTOR_RAT_VICTIM_SHOOTING_INCIDENTS + \n",
       "    PREDICTOR_RAT_VICTIM_BATTERY_OR_ASSAULT + PREDICTOR_RAT_ARRESTS_VIOLENT_OFFENSES + \n",
       "    PREDICTOR_RAT_GANG_AFFILIATION + PREDICTOR_RAT_NARCOTIC_ARRESTS + \n",
       "    PREDICTOR_RAT_TREND_IN_CRIMINAL_ACTIVITY + PREDICTOR_RAT_UUW_ARRESTS, \n",
       "    data = complete_data, method = \"nearest\")\n",
       "\n",
       "Sample sizes:\n",
       "          Control Treated\n",
       "All         42071   18588\n",
       "Matched     18588   18588\n",
       "Unmatched   23483       0\n",
       "Discarded       0       0\n"
      ]
     },
     "metadata": {},
     "output_type": "display_data"
    }
   ],
   "source": [
    "mod_match"
   ]
  },
  {
   "cell_type": "code",
   "execution_count": 12,
   "metadata": {
    "collapsed": true
   },
   "outputs": [],
   "source": [
    "matched <- match.data(mod_match)\n",
    "matched_copy<-matched"
   ]
  },
  {
   "cell_type": "code",
   "execution_count": 13,
   "metadata": {},
   "outputs": [
    {
     "name": "stdout",
     "output_type": "stream",
     "text": [
      "[1] \"To identify the units, use first mouse button; to stop, use second.\"\n"
     ]
    },
    {
     "data": {
      "text/html": [],
      "text/latex": [],
      "text/markdown": [],
      "text/plain": [
       "integer(0)"
      ]
     },
     "metadata": {},
     "output_type": "display_data"
    },
    {
     "data": {
      "image/png": "[encoded data removed]",
      "text/plain": [
       "Plot with title \"Distribution of Propensity Scores\""
      ]
     },
     "metadata": {},
     "output_type": "display_data"
    }
   ],
   "source": [
    "plot(mod_match, type = \"jitter\")"
   ]
  },
  {
   "cell_type": "code",
   "execution_count": 14,
   "metadata": {},
   "outputs": [
    {
     "data": {
      "image/png": "[encoded data removed]",
      "text/plain": [
       "Plot with title \"Matched Control\""
      ]
     },
     "metadata": {},
     "output_type": "display_data"
    }
   ],
   "source": [
    "plot(mod_match, type = \"hist\")"
   ]
  },
  {
   "cell_type": "code",
   "execution_count": 15,
   "metadata": {},
   "outputs": [
    {
     "data": {
      "text/html": [
       "<table>\n",
       "<thead><tr><th></th><th scope=col>SSL_SCORE</th><th scope=col>SSL_SCORE_RANK</th><th scope=col>PREDICTOR_RAT_AGE_AT_LATEST_ARREST</th><th scope=col>PREDICTOR_RAT_VICTIM_SHOOTING_INCIDENTS</th><th scope=col>PREDICTOR_RAT_VICTIM_BATTERY_OR_ASSAULT</th><th scope=col>PREDICTOR_RAT_ARRESTS_VIOLENT_OFFENSES</th><th scope=col>PREDICTOR_RAT_GANG_AFFILIATION</th><th scope=col>PREDICTOR_RAT_NARCOTIC_ARRESTS</th><th scope=col>PREDICTOR_RAT_TREND_IN_CRIMINAL_ACTIVITY</th><th scope=col>PREDICTOR_RAT_UUW_ARRESTS</th><th scope=col>RACE_CODE_CD</th><th scope=col>distance</th><th scope=col>weights</th></tr></thead>\n",
       "<tbody>\n",
       "\t<tr><th scope=row>22</th><td>390        </td><td> 4974      </td><td>30-40      </td><td>0          </td><td>0          </td><td>0          </td><td>0          </td><td>2          </td><td> 0.5       </td><td>0          </td><td>0          </td><td>0.392990926</td><td>1          </td></tr>\n",
       "\t<tr><th scope=row>27</th><td>384        </td><td> 6146      </td><td>30-40      </td><td>0          </td><td>0          </td><td>0          </td><td>0          </td><td>1          </td><td> 0.1       </td><td>0          </td><td>0          </td><td>0.378760428</td><td>1          </td></tr>\n",
       "\t<tr><th scope=row>34</th><td>378        </td><td> 7693      </td><td>30-40      </td><td>0          </td><td>0          </td><td>0          </td><td>0          </td><td>0          </td><td> 0.6       </td><td>0          </td><td>0          </td><td>0.405591645</td><td>1          </td></tr>\n",
       "\t<tr><th scope=row>44</th><td>371        </td><td>10087      </td><td>30-40      </td><td>0          </td><td>0          </td><td>0          </td><td>0          </td><td>2          </td><td>-0.6       </td><td>0          </td><td>1          </td><td>0.343942819</td><td>1          </td></tr>\n",
       "\t<tr><th scope=row>46</th><td>369        </td><td>10962      </td><td>30-40      </td><td>0          </td><td>0          </td><td>0          </td><td>0          </td><td>1          </td><td>-0.3       </td><td>0          </td><td>1          </td><td>0.360880229</td><td>1          </td></tr>\n",
       "\t<tr><th scope=row>57</th><td>365        </td><td>13017      </td><td>30-40      </td><td>0          </td><td>0          </td><td>2          </td><td>1          </td><td>1          </td><td> 0.7       </td><td>2          </td><td>1          </td><td>0.008532888</td><td>1          </td></tr>\n",
       "</tbody>\n",
       "</table>\n"
      ],
      "text/latex": [
       "\\begin{tabular}{r|lllllllllllll}\n",
       "  & SSL\\_SCORE & SSL\\_SCORE\\_RANK & PREDICTOR\\_RAT\\_AGE\\_AT\\_LATEST\\_ARREST & PREDICTOR\\_RAT\\_VICTIM\\_SHOOTING\\_INCIDENTS & PREDICTOR\\_RAT\\_VICTIM\\_BATTERY\\_OR\\_ASSAULT & PREDICTOR\\_RAT\\_ARRESTS\\_VIOLENT\\_OFFENSES & PREDICTOR\\_RAT\\_GANG\\_AFFILIATION & PREDICTOR\\_RAT\\_NARCOTIC\\_ARRESTS & PREDICTOR\\_RAT\\_TREND\\_IN\\_CRIMINAL\\_ACTIVITY & PREDICTOR\\_RAT\\_UUW\\_ARRESTS & RACE\\_CODE\\_CD & distance & weights\\\\\n",
       "\\hline\n",
       "\t22 & 390         &  4974       & 30-40       & 0           & 0           & 0           & 0           & 2           &  0.5        & 0           & 0           & 0.392990926 & 1          \\\\\n",
       "\t27 & 384         &  6146       & 30-40       & 0           & 0           & 0           & 0           & 1           &  0.1        & 0           & 0           & 0.378760428 & 1          \\\\\n",
       "\t34 & 378         &  7693       & 30-40       & 0           & 0           & 0           & 0           & 0           &  0.6        & 0           & 0           & 0.405591645 & 1          \\\\\n",
       "\t44 & 371         & 10087       & 30-40       & 0           & 0           & 0           & 0           & 2           & -0.6        & 0           & 1           & 0.343942819 & 1          \\\\\n",
       "\t46 & 369         & 10962       & 30-40       & 0           & 0           & 0           & 0           & 1           & -0.3        & 0           & 1           & 0.360880229 & 1          \\\\\n",
       "\t57 & 365         & 13017       & 30-40       & 0           & 0           & 2           & 1           & 1           &  0.7        & 2           & 1           & 0.008532888 & 1          \\\\\n",
       "\\end{tabular}\n"
      ],
      "text/markdown": [
       "\n",
       "| <!--/--> | SSL_SCORE | SSL_SCORE_RANK | PREDICTOR_RAT_AGE_AT_LATEST_ARREST | PREDICTOR_RAT_VICTIM_SHOOTING_INCIDENTS | PREDICTOR_RAT_VICTIM_BATTERY_OR_ASSAULT | PREDICTOR_RAT_ARRESTS_VIOLENT_OFFENSES | PREDICTOR_RAT_GANG_AFFILIATION | PREDICTOR_RAT_NARCOTIC_ARRESTS | PREDICTOR_RAT_TREND_IN_CRIMINAL_ACTIVITY | PREDICTOR_RAT_UUW_ARRESTS | RACE_CODE_CD | distance | weights | \n",
       "|---|---|---|---|---|---|\n",
       "| 22 | 390         |  4974       | 30-40       | 0           | 0           | 0           | 0           | 2           |  0.5        | 0           | 0           | 0.392990926 | 1           | \n",
       "| 27 | 384         |  6146       | 30-40       | 0           | 0           | 0           | 0           | 1           |  0.1        | 0           | 0           | 0.378760428 | 1           | \n",
       "| 34 | 378         |  7693       | 30-40       | 0           | 0           | 0           | 0           | 0           |  0.6        | 0           | 0           | 0.405591645 | 1           | \n",
       "| 44 | 371         | 10087       | 30-40       | 0           | 0           | 0           | 0           | 2           | -0.6        | 0           | 1           | 0.343942819 | 1           | \n",
       "| 46 | 369         | 10962       | 30-40       | 0           | 0           | 0           | 0           | 1           | -0.3        | 0           | 1           | 0.360880229 | 1           | \n",
       "| 57 | 365         | 13017       | 30-40       | 0           | 0           | 2           | 1           | 1           |  0.7        | 2           | 1           | 0.008532888 | 1           | \n",
       "\n",
       "\n"
      ],
      "text/plain": [
       "   SSL_SCORE SSL_SCORE_RANK PREDICTOR_RAT_AGE_AT_LATEST_ARREST\n",
       "22 390        4974          30-40                             \n",
       "27 384        6146          30-40                             \n",
       "34 378        7693          30-40                             \n",
       "44 371       10087          30-40                             \n",
       "46 369       10962          30-40                             \n",
       "57 365       13017          30-40                             \n",
       "   PREDICTOR_RAT_VICTIM_SHOOTING_INCIDENTS\n",
       "22 0                                      \n",
       "27 0                                      \n",
       "34 0                                      \n",
       "44 0                                      \n",
       "46 0                                      \n",
       "57 0                                      \n",
       "   PREDICTOR_RAT_VICTIM_BATTERY_OR_ASSAULT\n",
       "22 0                                      \n",
       "27 0                                      \n",
       "34 0                                      \n",
       "44 0                                      \n",
       "46 0                                      \n",
       "57 0                                      \n",
       "   PREDICTOR_RAT_ARRESTS_VIOLENT_OFFENSES PREDICTOR_RAT_GANG_AFFILIATION\n",
       "22 0                                      0                             \n",
       "27 0                                      0                             \n",
       "34 0                                      0                             \n",
       "44 0                                      0                             \n",
       "46 0                                      0                             \n",
       "57 2                                      1                             \n",
       "   PREDICTOR_RAT_NARCOTIC_ARRESTS PREDICTOR_RAT_TREND_IN_CRIMINAL_ACTIVITY\n",
       "22 2                               0.5                                    \n",
       "27 1                               0.1                                    \n",
       "34 0                               0.6                                    \n",
       "44 2                              -0.6                                    \n",
       "46 1                              -0.3                                    \n",
       "57 1                               0.7                                    \n",
       "   PREDICTOR_RAT_UUW_ARRESTS RACE_CODE_CD distance    weights\n",
       "22 0                         0            0.392990926 1      \n",
       "27 0                         0            0.378760428 1      \n",
       "34 0                         0            0.405591645 1      \n",
       "44 0                         1            0.343942819 1      \n",
       "46 0                         1            0.360880229 1      \n",
       "57 2                         1            0.008532888 1      "
      ]
     },
     "metadata": {},
     "output_type": "display_data"
    }
   ],
   "source": [
    "head(matched)"
   ]
  },
  {
   "cell_type": "code",
   "execution_count": 16,
   "metadata": {},
   "outputs": [
    {
     "name": "stderr",
     "output_type": "stream",
     "text": [
      "The following objects are masked from complete_data:\n",
      "\n",
      "    PREDICTOR_RAT_AGE_AT_LATEST_ARREST,\n",
      "    PREDICTOR_RAT_ARRESTS_VIOLENT_OFFENSES,\n",
      "    PREDICTOR_RAT_GANG_AFFILIATION, PREDICTOR_RAT_NARCOTIC_ARRESTS,\n",
      "    PREDICTOR_RAT_TREND_IN_CRIMINAL_ACTIVITY,\n",
      "    PREDICTOR_RAT_UUW_ARRESTS, PREDICTOR_RAT_VICTIM_BATTERY_OR_ASSAULT,\n",
      "    PREDICTOR_RAT_VICTIM_SHOOTING_INCIDENTS, RACE_CODE_CD, SSL_SCORE,\n",
      "    SSL_SCORE_RANK\n",
      "\n"
     ]
    }
   ],
   "source": [
    "# Doing T - test on matched records\n",
    "attach(matched)"
   ]
  },
  {
   "cell_type": "code",
   "execution_count": 17,
   "metadata": {
    "collapsed": true
   },
   "outputs": [],
   "source": [
    "race_black <-subset(matched,RACE_CODE_CD == 0)\n",
    "race_white<-subset(matched,RACE_CODE_CD == 1)\n"
   ]
  },
  {
   "cell_type": "code",
   "execution_count": 18,
   "metadata": {},
   "outputs": [
    {
     "data": {
      "text/plain": [
       "\n",
       "\tWelch Two Sample t-test\n",
       "\n",
       "data:  SSL_SCORE by RACE_CODE_CD\n",
       "t = -0.23855, df = 37174, p-value = 0.8115\n",
       "alternative hypothesis: true difference in means is not equal to 0\n",
       "95 percent confidence interval:\n",
       " -0.3371559  0.2639904\n",
       "sample estimates:\n",
       "mean in group 0 mean in group 1 \n",
       "       266.8702        266.9068 \n"
      ]
     },
     "metadata": {},
     "output_type": "display_data"
    }
   ],
   "source": [
    "t.test(SSL_SCORE~RACE_CODE_CD)"
   ]
  },
  {
   "cell_type": "code",
   "execution_count": 19,
   "metadata": {},
   "outputs": [
    {
     "data": {
      "text/plain": [
       "\n",
       "\tWelch Two Sample t-test\n",
       "\n",
       "data:  SSL_SCORE_RANK by RACE_CODE_CD\n",
       "t = 0.19252, df = 37170, p-value = 0.8473\n",
       "alternative hypothesis: true difference in means is not equal to 0\n",
       "95 percent confidence interval:\n",
       " -587.3503  715.3028\n",
       "sample estimates:\n",
       "mean in group 0 mean in group 1 \n",
       "       250354.0        250290.1 \n"
      ]
     },
     "metadata": {},
     "output_type": "display_data"
    }
   ],
   "source": [
    "t.test(SSL_SCORE_RANK~RACE_CODE_CD)"
   ]
  }
 ],
 "metadata": {
  "kernelspec": {
   "display_name": "R",
   "language": "R",
   "name": "ir"
  },
  "language_info": {
   "codemirror_mode": "r",
   "file_extension": ".r",
   "mimetype": "text/x-r-source",
   "name": "R",
   "pygments_lexer": "r",
   "version": "3.3.2"
  }
 },
 "nbformat": 4,
 "nbformat_minor": 2
}
