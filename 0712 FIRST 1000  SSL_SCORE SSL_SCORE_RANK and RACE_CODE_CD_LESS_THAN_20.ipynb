{
 "cells": [
  {
   "cell_type": "code",
   "execution_count": 30,
   "metadata": {},
   "outputs": [
    {
     "name": "stdout",
     "output_type": "stream",
     "text": [
      "The Number of Rows in Initial Data is 817"
     ]
    }
   ],
   "source": [
    "raw_data <- read.csv(\"SSL_FIRST_1000_RACE_CODE_LESS_THAN_20.csv\", sep=\",\", header=T, strip.white = T, na.strings = c(\"NA\",\"NaN\",\"\",\"?\"))\n",
    "#Converting the \".\" in column names to \"_\"\n",
    "names(raw_data)<-gsub(\"\\\\.\", \"_\", names(raw_data))\n",
    "cat(\"The Number of Rows in Initial Data is\", nrow(raw_data))"
   ]
  },
  {
   "cell_type": "code",
   "execution_count": 31,
   "metadata": {
    "collapsed": true
   },
   "outputs": [],
   "source": [
    "final_features<-raw_data[,c('SSL_SCORE','SSL_SCORE_RANK','PREDICTOR_RAT_AGE_AT_LATEST_ARREST','PREDICTOR_RAT_VICTIM_SHOOTING_INCIDENTS',\n",
    "                            'PREDICTOR_RAT_VICTIM_BATTERY_OR_ASSAULT','PREDICTOR_RAT_ARRESTS_VIOLENT_OFFENSES','PREDICTOR_RAT_GANG_AFFILIATION', \n",
    "                           'PREDICTOR_RAT_NARCOTIC_ARRESTS','PREDICTOR_RAT_TREND_IN_CRIMINAL_ACTIVITY','PREDICTOR_RAT_UUW_ARRESTS','RACE_CODE_CD')]"
   ]
  },
  {
   "cell_type": "code",
   "execution_count": 32,
   "metadata": {},
   "outputs": [
    {
     "data": {
      "text/html": [
       "817"
      ],
      "text/latex": [
       "817"
      ],
      "text/markdown": [
       "817"
      ],
      "text/plain": [
       "[1] 817"
      ]
     },
     "metadata": {},
     "output_type": "display_data"
    }
   ],
   "source": [
    "complete_data <- final_features[complete.cases(final_features),]\n",
    "nrow(complete_data)"
   ]
  },
  {
   "cell_type": "code",
   "execution_count": 33,
   "metadata": {},
   "outputs": [
    {
     "data": {
      "text/html": [
       "<table>\n",
       "<thead><tr><th scope=col>SSL_SCORE</th><th scope=col>SSL_SCORE_RANK</th><th scope=col>PREDICTOR_RAT_AGE_AT_LATEST_ARREST</th><th scope=col>PREDICTOR_RAT_VICTIM_SHOOTING_INCIDENTS</th><th scope=col>PREDICTOR_RAT_VICTIM_BATTERY_OR_ASSAULT</th><th scope=col>PREDICTOR_RAT_ARRESTS_VIOLENT_OFFENSES</th><th scope=col>PREDICTOR_RAT_GANG_AFFILIATION</th><th scope=col>PREDICTOR_RAT_NARCOTIC_ARRESTS</th><th scope=col>PREDICTOR_RAT_TREND_IN_CRIMINAL_ACTIVITY</th><th scope=col>PREDICTOR_RAT_UUW_ARRESTS</th><th scope=col>RACE_CODE_CD</th></tr></thead>\n",
       "<tbody>\n",
       "\t<tr><td>500         </td><td>1           </td><td>less than 20</td><td>1           </td><td>2           </td><td>2           </td><td>1           </td><td>7           </td><td> 0.2        </td><td>1           </td><td>0           </td></tr>\n",
       "\t<tr><td>500         </td><td>1           </td><td>less than 20</td><td>1           </td><td>2           </td><td>6           </td><td>0           </td><td>0           </td><td> 0.0        </td><td>0           </td><td>0           </td></tr>\n",
       "\t<tr><td>500         </td><td>1           </td><td>less than 20</td><td>1           </td><td>1           </td><td>4           </td><td>1           </td><td>1           </td><td>-0.3        </td><td>2           </td><td>0           </td></tr>\n",
       "\t<tr><td>500         </td><td>1           </td><td>less than 20</td><td>1           </td><td>2           </td><td>6           </td><td>1           </td><td>0           </td><td>-0.4        </td><td>1           </td><td>0           </td></tr>\n",
       "\t<tr><td>500         </td><td>1           </td><td>less than 20</td><td>1           </td><td>1           </td><td>8           </td><td>1           </td><td>0           </td><td>-0.7        </td><td>3           </td><td>0           </td></tr>\n",
       "\t<tr><td>500         </td><td>1           </td><td>less than 20</td><td>1           </td><td>2           </td><td>4           </td><td>0           </td><td>2           </td><td>-0.2        </td><td>1           </td><td>0           </td></tr>\n",
       "</tbody>\n",
       "</table>\n"
      ],
      "text/latex": [
       "\\begin{tabular}{r|lllllllllll}\n",
       " SSL\\_SCORE & SSL\\_SCORE\\_RANK & PREDICTOR\\_RAT\\_AGE\\_AT\\_LATEST\\_ARREST & PREDICTOR\\_RAT\\_VICTIM\\_SHOOTING\\_INCIDENTS & PREDICTOR\\_RAT\\_VICTIM\\_BATTERY\\_OR\\_ASSAULT & PREDICTOR\\_RAT\\_ARRESTS\\_VIOLENT\\_OFFENSES & PREDICTOR\\_RAT\\_GANG\\_AFFILIATION & PREDICTOR\\_RAT\\_NARCOTIC\\_ARRESTS & PREDICTOR\\_RAT\\_TREND\\_IN\\_CRIMINAL\\_ACTIVITY & PREDICTOR\\_RAT\\_UUW\\_ARRESTS & RACE\\_CODE\\_CD\\\\\n",
       "\\hline\n",
       "\t 500          & 1            & less than 20 & 1            & 2            & 2            & 1            & 7            &  0.2         & 1            & 0           \\\\\n",
       "\t 500          & 1            & less than 20 & 1            & 2            & 6            & 0            & 0            &  0.0         & 0            & 0           \\\\\n",
       "\t 500          & 1            & less than 20 & 1            & 1            & 4            & 1            & 1            & -0.3         & 2            & 0           \\\\\n",
       "\t 500          & 1            & less than 20 & 1            & 2            & 6            & 1            & 0            & -0.4         & 1            & 0           \\\\\n",
       "\t 500          & 1            & less than 20 & 1            & 1            & 8            & 1            & 0            & -0.7         & 3            & 0           \\\\\n",
       "\t 500          & 1            & less than 20 & 1            & 2            & 4            & 0            & 2            & -0.2         & 1            & 0           \\\\\n",
       "\\end{tabular}\n"
      ],
      "text/markdown": [
       "\n",
       "SSL_SCORE | SSL_SCORE_RANK | PREDICTOR_RAT_AGE_AT_LATEST_ARREST | PREDICTOR_RAT_VICTIM_SHOOTING_INCIDENTS | PREDICTOR_RAT_VICTIM_BATTERY_OR_ASSAULT | PREDICTOR_RAT_ARRESTS_VIOLENT_OFFENSES | PREDICTOR_RAT_GANG_AFFILIATION | PREDICTOR_RAT_NARCOTIC_ARRESTS | PREDICTOR_RAT_TREND_IN_CRIMINAL_ACTIVITY | PREDICTOR_RAT_UUW_ARRESTS | RACE_CODE_CD | \n",
       "|---|---|---|---|---|---|\n",
       "| 500          | 1            | less than 20 | 1            | 2            | 2            | 1            | 7            |  0.2         | 1            | 0            | \n",
       "| 500          | 1            | less than 20 | 1            | 2            | 6            | 0            | 0            |  0.0         | 0            | 0            | \n",
       "| 500          | 1            | less than 20 | 1            | 1            | 4            | 1            | 1            | -0.3         | 2            | 0            | \n",
       "| 500          | 1            | less than 20 | 1            | 2            | 6            | 1            | 0            | -0.4         | 1            | 0            | \n",
       "| 500          | 1            | less than 20 | 1            | 1            | 8            | 1            | 0            | -0.7         | 3            | 0            | \n",
       "| 500          | 1            | less than 20 | 1            | 2            | 4            | 0            | 2            | -0.2         | 1            | 0            | \n",
       "\n",
       "\n"
      ],
      "text/plain": [
       "  SSL_SCORE SSL_SCORE_RANK PREDICTOR_RAT_AGE_AT_LATEST_ARREST\n",
       "1 500       1              less than 20                      \n",
       "2 500       1              less than 20                      \n",
       "3 500       1              less than 20                      \n",
       "4 500       1              less than 20                      \n",
       "5 500       1              less than 20                      \n",
       "6 500       1              less than 20                      \n",
       "  PREDICTOR_RAT_VICTIM_SHOOTING_INCIDENTS\n",
       "1 1                                      \n",
       "2 1                                      \n",
       "3 1                                      \n",
       "4 1                                      \n",
       "5 1                                      \n",
       "6 1                                      \n",
       "  PREDICTOR_RAT_VICTIM_BATTERY_OR_ASSAULT\n",
       "1 2                                      \n",
       "2 2                                      \n",
       "3 1                                      \n",
       "4 2                                      \n",
       "5 1                                      \n",
       "6 2                                      \n",
       "  PREDICTOR_RAT_ARRESTS_VIOLENT_OFFENSES PREDICTOR_RAT_GANG_AFFILIATION\n",
       "1 2                                      1                             \n",
       "2 6                                      0                             \n",
       "3 4                                      1                             \n",
       "4 6                                      1                             \n",
       "5 8                                      1                             \n",
       "6 4                                      0                             \n",
       "  PREDICTOR_RAT_NARCOTIC_ARRESTS PREDICTOR_RAT_TREND_IN_CRIMINAL_ACTIVITY\n",
       "1 7                               0.2                                    \n",
       "2 0                               0.0                                    \n",
       "3 1                              -0.3                                    \n",
       "4 0                              -0.4                                    \n",
       "5 0                              -0.7                                    \n",
       "6 2                              -0.2                                    \n",
       "  PREDICTOR_RAT_UUW_ARRESTS RACE_CODE_CD\n",
       "1 1                         0           \n",
       "2 0                         0           \n",
       "3 2                         0           \n",
       "4 1                         0           \n",
       "5 3                         0           \n",
       "6 1                         0           "
      ]
     },
     "metadata": {},
     "output_type": "display_data"
    }
   ],
   "source": [
    "head(complete_data)"
   ]
  },
  {
   "cell_type": "code",
   "execution_count": 34,
   "metadata": {},
   "outputs": [],
   "source": [
    "library(MatchIt)\n",
    "library(dplyr)\n",
    "library(ggplot2)"
   ]
  },
  {
   "cell_type": "code",
   "execution_count": 35,
   "metadata": {},
   "outputs": [
    {
     "data": {
      "text/html": [
       "<table>\n",
       "<thead><tr><th scope=col>RACE_CODE_CD</th><th scope=col>NUMBER_OF_PEOPLE</th><th scope=col>MEAN_SSL_SCORE</th><th scope=col>STD_ERROR</th></tr></thead>\n",
       "<tbody>\n",
       "\t<tr><td>0        </td><td>808      </td><td>463.8998 </td><td>0.7588159</td></tr>\n",
       "\t<tr><td>1        </td><td>  9      </td><td>474.8889 </td><td>8.8450307</td></tr>\n",
       "</tbody>\n",
       "</table>\n"
      ],
      "text/latex": [
       "\\begin{tabular}{r|llll}\n",
       " RACE\\_CODE\\_CD & NUMBER\\_OF\\_PEOPLE & MEAN\\_SSL\\_SCORE & STD\\_ERROR\\\\\n",
       "\\hline\n",
       "\t 0         & 808       & 463.8998  & 0.7588159\\\\\n",
       "\t 1         &   9       & 474.8889  & 8.8450307\\\\\n",
       "\\end{tabular}\n"
      ],
      "text/markdown": [
       "\n",
       "RACE_CODE_CD | NUMBER_OF_PEOPLE | MEAN_SSL_SCORE | STD_ERROR | \n",
       "|---|---|\n",
       "| 0         | 808       | 463.8998  | 0.7588159 | \n",
       "| 1         |   9       | 474.8889  | 8.8450307 | \n",
       "\n",
       "\n"
      ],
      "text/plain": [
       "  RACE_CODE_CD NUMBER_OF_PEOPLE MEAN_SSL_SCORE STD_ERROR\n",
       "1 0            808              463.8998       0.7588159\n",
       "2 1              9              474.8889       8.8450307"
      ]
     },
     "metadata": {},
     "output_type": "display_data"
    }
   ],
   "source": [
    "complete_data %>%\n",
    "  group_by(RACE_CODE_CD) %>%\n",
    "  summarise(NUMBER_OF_PEOPLE = n(),\n",
    "            MEAN_SSL_SCORE = mean(SSL_SCORE),\n",
    "            STD_ERROR = sd(SSL_SCORE) / sqrt(NUMBER_OF_PEOPLE))"
   ]
  },
  {
   "cell_type": "code",
   "execution_count": 36,
   "metadata": {},
   "outputs": [
    {
     "data": {
      "text/html": [
       "<table>\n",
       "<thead><tr><th scope=col>RACE_CODE_CD</th><th scope=col>NUMBER_OF_PEOPLE</th><th scope=col>MEAN_SSL_SCORE_RANK</th><th scope=col>STD_ERROR</th></tr></thead>\n",
       "<tbody>\n",
       "\t<tr><td>0        </td><td>808      </td><td>529.7240 </td><td> 11.67184</td></tr>\n",
       "\t<tr><td>1        </td><td>  9      </td><td>377.1111 </td><td>122.03716</td></tr>\n",
       "</tbody>\n",
       "</table>\n"
      ],
      "text/latex": [
       "\\begin{tabular}{r|llll}\n",
       " RACE\\_CODE\\_CD & NUMBER\\_OF\\_PEOPLE & MEAN\\_SSL\\_SCORE\\_RANK & STD\\_ERROR\\\\\n",
       "\\hline\n",
       "\t 0         & 808       & 529.7240  &  11.67184\\\\\n",
       "\t 1         &   9       & 377.1111  & 122.03716\\\\\n",
       "\\end{tabular}\n"
      ],
      "text/markdown": [
       "\n",
       "RACE_CODE_CD | NUMBER_OF_PEOPLE | MEAN_SSL_SCORE_RANK | STD_ERROR | \n",
       "|---|---|\n",
       "| 0         | 808       | 529.7240  |  11.67184 | \n",
       "| 1         |   9       | 377.1111  | 122.03716 | \n",
       "\n",
       "\n"
      ],
      "text/plain": [
       "  RACE_CODE_CD NUMBER_OF_PEOPLE MEAN_SSL_SCORE_RANK STD_ERROR\n",
       "1 0            808              529.7240             11.67184\n",
       "2 1              9              377.1111            122.03716"
      ]
     },
     "metadata": {},
     "output_type": "display_data"
    }
   ],
   "source": [
    "# For SSL_SCORE_RANK\n",
    "complete_data %>%\n",
    "  group_by(RACE_CODE_CD) %>%\n",
    "  summarise(NUMBER_OF_PEOPLE = n(),\n",
    "            MEAN_SSL_SCORE_RANK = mean(SSL_SCORE_RANK),\n",
    "            STD_ERROR = sd(SSL_SCORE_RANK) / sqrt(NUMBER_OF_PEOPLE))"
   ]
  },
  {
   "cell_type": "code",
   "execution_count": 37,
   "metadata": {},
   "outputs": [
    {
     "name": "stderr",
     "output_type": "stream",
     "text": [
      "The following objects are masked from complete_data (pos = 3):\n",
      "\n",
      "    PREDICTOR_RAT_AGE_AT_LATEST_ARREST,\n",
      "    PREDICTOR_RAT_ARRESTS_VIOLENT_OFFENSES,\n",
      "    PREDICTOR_RAT_GANG_AFFILIATION, PREDICTOR_RAT_NARCOTIC_ARRESTS,\n",
      "    PREDICTOR_RAT_TREND_IN_CRIMINAL_ACTIVITY,\n",
      "    PREDICTOR_RAT_UUW_ARRESTS, PREDICTOR_RAT_VICTIM_BATTERY_OR_ASSAULT,\n",
      "    PREDICTOR_RAT_VICTIM_SHOOTING_INCIDENTS, RACE_CODE_CD, SSL_SCORE,\n",
      "    SSL_SCORE_RANK\n",
      "\n",
      "The following objects are masked from matched:\n",
      "\n",
      "    PREDICTOR_RAT_AGE_AT_LATEST_ARREST,\n",
      "    PREDICTOR_RAT_ARRESTS_VIOLENT_OFFENSES,\n",
      "    PREDICTOR_RAT_GANG_AFFILIATION, PREDICTOR_RAT_NARCOTIC_ARRESTS,\n",
      "    PREDICTOR_RAT_TREND_IN_CRIMINAL_ACTIVITY,\n",
      "    PREDICTOR_RAT_UUW_ARRESTS, PREDICTOR_RAT_VICTIM_BATTERY_OR_ASSAULT,\n",
      "    PREDICTOR_RAT_VICTIM_SHOOTING_INCIDENTS, RACE_CODE_CD, SSL_SCORE,\n",
      "    SSL_SCORE_RANK\n",
      "\n",
      "The following objects are masked from complete_data (pos = 5):\n",
      "\n",
      "    PREDICTOR_RAT_AGE_AT_LATEST_ARREST,\n",
      "    PREDICTOR_RAT_ARRESTS_VIOLENT_OFFENSES,\n",
      "    PREDICTOR_RAT_GANG_AFFILIATION, PREDICTOR_RAT_NARCOTIC_ARRESTS,\n",
      "    PREDICTOR_RAT_TREND_IN_CRIMINAL_ACTIVITY,\n",
      "    PREDICTOR_RAT_UUW_ARRESTS, PREDICTOR_RAT_VICTIM_BATTERY_OR_ASSAULT,\n",
      "    PREDICTOR_RAT_VICTIM_SHOOTING_INCIDENTS, RACE_CODE_CD, SSL_SCORE,\n",
      "    SSL_SCORE_RANK\n",
      "\n"
     ]
    },
    {
     "data": {
      "text/plain": [
       "\n",
       "\tWelch Two Sample t-test\n",
       "\n",
       "data:  SSL_SCORE by RACE_CODE_CD\n",
       "t = -1.2379, df = 8.1182, p-value = 0.2504\n",
       "alternative hypothesis: true difference in means is not equal to 0\n",
       "95 percent confidence interval:\n",
       " -31.408974   9.430701\n",
       "sample estimates:\n",
       "mean in group 0 mean in group 1 \n",
       "       463.8998        474.8889 \n"
      ]
     },
     "metadata": {},
     "output_type": "display_data"
    }
   ],
   "source": [
    "# T-test without PSM for SSL_SCORE and RACE_CODE_CD\n",
    "attach(complete_data)\n",
    "t.test(SSL_SCORE~RACE_CODE_CD)"
   ]
  },
  {
   "cell_type": "code",
   "execution_count": 38,
   "metadata": {},
   "outputs": [
    {
     "data": {
      "text/plain": [
       "\n",
       "\tWelch Two Sample t-test\n",
       "\n",
       "data:  SSL_SCORE_RANK by RACE_CODE_CD\n",
       "t = 1.2449, df = 8.147, p-value = 0.2478\n",
       "alternative hypothesis: true difference in means is not equal to 0\n",
       "95 percent confidence interval:\n",
       " -129.2039  434.4297\n",
       "sample estimates:\n",
       "mean in group 0 mean in group 1 \n",
       "       529.7240        377.1111 \n"
      ]
     },
     "metadata": {},
     "output_type": "display_data"
    }
   ],
   "source": [
    "# T-test without PSM for SSL_SCORE_RANK and RACE_CODE_CD\n",
    "t.test(SSL_SCORE_RANK~RACE_CODE_CD)"
   ]
  },
  {
   "cell_type": "code",
   "execution_count": 39,
   "metadata": {},
   "outputs": [],
   "source": [
    "mod_match <- matchit(RACE_CODE_CD ~ PREDICTOR_RAT_VICTIM_SHOOTING_INCIDENTS + PREDICTOR_RAT_VICTIM_BATTERY_OR_ASSAULT + \n",
    "            PREDICTOR_RAT_ARRESTS_VIOLENT_OFFENSES + PREDICTOR_RAT_GANG_AFFILIATION + PREDICTOR_RAT_NARCOTIC_ARRESTS + PREDICTOR_RAT_TREND_IN_CRIMINAL_ACTIVITY +\n",
    "            PREDICTOR_RAT_UUW_ARRESTS,\n",
    "                     method = \"nearest\", data = complete_data)"
   ]
  },
  {
   "cell_type": "code",
   "execution_count": 40,
   "metadata": {},
   "outputs": [
    {
     "data": {
      "text/plain": [
       "\n",
       "Call: \n",
       "matchit(formula = RACE_CODE_CD ~ PREDICTOR_RAT_VICTIM_SHOOTING_INCIDENTS + \n",
       "    PREDICTOR_RAT_VICTIM_BATTERY_OR_ASSAULT + PREDICTOR_RAT_ARRESTS_VIOLENT_OFFENSES + \n",
       "    PREDICTOR_RAT_GANG_AFFILIATION + PREDICTOR_RAT_NARCOTIC_ARRESTS + \n",
       "    PREDICTOR_RAT_TREND_IN_CRIMINAL_ACTIVITY + PREDICTOR_RAT_UUW_ARRESTS, \n",
       "    data = complete_data, method = \"nearest\")\n",
       "\n",
       "Sample sizes:\n",
       "          Control Treated\n",
       "All           808       9\n",
       "Matched         9       9\n",
       "Unmatched     799       0\n",
       "Discarded       0       0\n"
      ]
     },
     "metadata": {},
     "output_type": "display_data"
    }
   ],
   "source": [
    "mod_match"
   ]
  },
  {
   "cell_type": "code",
   "execution_count": 41,
   "metadata": {
    "collapsed": true
   },
   "outputs": [],
   "source": [
    "matched <- match.data(mod_match)\n",
    "matched_copy<-matched"
   ]
  },
  {
   "cell_type": "code",
   "execution_count": 42,
   "metadata": {},
   "outputs": [
    {
     "name": "stdout",
     "output_type": "stream",
     "text": [
      "[1] \"To identify the units, use first mouse button; to stop, use second.\"\n"
     ]
    },
    {
     "data": {
      "text/html": [],
      "text/latex": [],
      "text/markdown": [],
      "text/plain": [
       "integer(0)"
      ]
     },
     "metadata": {},
     "output_type": "display_data"
    },
    {
     "data": {
      "image/png": "[encoded data removed]",
      "text/plain": [
       "Plot with title \"Distribution of Propensity Scores\""
      ]
     },
     "metadata": {},
     "output_type": "display_data"
    }
   ],
   "source": [
    "plot(mod_match, type = \"jitter\")"
   ]
  },
  {
   "cell_type": "code",
   "execution_count": 43,
   "metadata": {},
   "outputs": [
    {
     "data": {
      "image/png": "[encoded data removed]",
      "text/plain": [
       "Plot with title \"Matched Control\""
      ]
     },
     "metadata": {},
     "output_type": "display_data"
    }
   ],
   "source": [
    "plot(mod_match, type = \"hist\")"
   ]
  },
  {
   "cell_type": "code",
   "execution_count": 44,
   "metadata": {},
   "outputs": [
    {
     "data": {
      "text/html": [
       "<table>\n",
       "<thead><tr><th></th><th scope=col>SSL_SCORE</th><th scope=col>SSL_SCORE_RANK</th><th scope=col>PREDICTOR_RAT_AGE_AT_LATEST_ARREST</th><th scope=col>PREDICTOR_RAT_VICTIM_SHOOTING_INCIDENTS</th><th scope=col>PREDICTOR_RAT_VICTIM_BATTERY_OR_ASSAULT</th><th scope=col>PREDICTOR_RAT_ARRESTS_VIOLENT_OFFENSES</th><th scope=col>PREDICTOR_RAT_GANG_AFFILIATION</th><th scope=col>PREDICTOR_RAT_NARCOTIC_ARRESTS</th><th scope=col>PREDICTOR_RAT_TREND_IN_CRIMINAL_ACTIVITY</th><th scope=col>PREDICTOR_RAT_UUW_ARRESTS</th><th scope=col>RACE_CODE_CD</th><th scope=col>distance</th><th scope=col>weights</th></tr></thead>\n",
       "<tbody>\n",
       "\t<tr><th scope=row>18</th><td>500         </td><td>  1         </td><td>less than 20</td><td>0           </td><td>1           </td><td>12          </td><td>1           </td><td>0           </td><td> 0.4        </td><td>1           </td><td>1           </td><td>0.29985516  </td><td>1           </td></tr>\n",
       "\t<tr><th scope=row>54</th><td>500         </td><td>  1         </td><td>less than 20</td><td>0           </td><td>2           </td><td> 6          </td><td>1           </td><td>1           </td><td> 1.2        </td><td>1           </td><td>0           </td><td>0.26018322  </td><td>1           </td></tr>\n",
       "\t<tr><th scope=row>106</th><td>500         </td><td>  1         </td><td>less than 20</td><td>0           </td><td>2           </td><td> 3          </td><td>1           </td><td>0           </td><td> 2.7        </td><td>1           </td><td>1           </td><td>0.18573169  </td><td>1           </td></tr>\n",
       "\t<tr><th scope=row>115</th><td>500         </td><td>  1         </td><td>less than 20</td><td>1           </td><td>2           </td><td> 1          </td><td>1           </td><td>3           </td><td> 1.0        </td><td>0           </td><td>1           </td><td>0.02014536  </td><td>1           </td></tr>\n",
       "\t<tr><th scope=row>116</th><td>499         </td><td>154         </td><td>less than 20</td><td>1           </td><td>4           </td><td> 1          </td><td>1           </td><td>2           </td><td>-0.9        </td><td>0           </td><td>1           </td><td>0.34026411  </td><td>1           </td></tr>\n",
       "\t<tr><th scope=row>186</th><td>485         </td><td>236         </td><td>less than 20</td><td>1           </td><td>3           </td><td> 1          </td><td>1           </td><td>0           </td><td> 0.6        </td><td>0           </td><td>1           </td><td>0.14773862  </td><td>1           </td></tr>\n",
       "</tbody>\n",
       "</table>\n"
      ],
      "text/latex": [
       "\\begin{tabular}{r|lllllllllllll}\n",
       "  & SSL\\_SCORE & SSL\\_SCORE\\_RANK & PREDICTOR\\_RAT\\_AGE\\_AT\\_LATEST\\_ARREST & PREDICTOR\\_RAT\\_VICTIM\\_SHOOTING\\_INCIDENTS & PREDICTOR\\_RAT\\_VICTIM\\_BATTERY\\_OR\\_ASSAULT & PREDICTOR\\_RAT\\_ARRESTS\\_VIOLENT\\_OFFENSES & PREDICTOR\\_RAT\\_GANG\\_AFFILIATION & PREDICTOR\\_RAT\\_NARCOTIC\\_ARRESTS & PREDICTOR\\_RAT\\_TREND\\_IN\\_CRIMINAL\\_ACTIVITY & PREDICTOR\\_RAT\\_UUW\\_ARRESTS & RACE\\_CODE\\_CD & distance & weights\\\\\n",
       "\\hline\n",
       "\t18 & 500          &   1          & less than 20 & 0            & 1            & 12           & 1            & 0            &  0.4         & 1            & 1            & 0.29985516   & 1           \\\\\n",
       "\t54 & 500          &   1          & less than 20 & 0            & 2            &  6           & 1            & 1            &  1.2         & 1            & 0            & 0.26018322   & 1           \\\\\n",
       "\t106 & 500          &   1          & less than 20 & 0            & 2            &  3           & 1            & 0            &  2.7         & 1            & 1            & 0.18573169   & 1           \\\\\n",
       "\t115 & 500          &   1          & less than 20 & 1            & 2            &  1           & 1            & 3            &  1.0         & 0            & 1            & 0.02014536   & 1           \\\\\n",
       "\t116 & 499          & 154          & less than 20 & 1            & 4            &  1           & 1            & 2            & -0.9         & 0            & 1            & 0.34026411   & 1           \\\\\n",
       "\t186 & 485          & 236          & less than 20 & 1            & 3            &  1           & 1            & 0            &  0.6         & 0            & 1            & 0.14773862   & 1           \\\\\n",
       "\\end{tabular}\n"
      ],
      "text/markdown": [
       "\n",
       "| <!--/--> | SSL_SCORE | SSL_SCORE_RANK | PREDICTOR_RAT_AGE_AT_LATEST_ARREST | PREDICTOR_RAT_VICTIM_SHOOTING_INCIDENTS | PREDICTOR_RAT_VICTIM_BATTERY_OR_ASSAULT | PREDICTOR_RAT_ARRESTS_VIOLENT_OFFENSES | PREDICTOR_RAT_GANG_AFFILIATION | PREDICTOR_RAT_NARCOTIC_ARRESTS | PREDICTOR_RAT_TREND_IN_CRIMINAL_ACTIVITY | PREDICTOR_RAT_UUW_ARRESTS | RACE_CODE_CD | distance | weights | \n",
       "|---|---|---|---|---|---|\n",
       "| 18 | 500          |   1          | less than 20 | 0            | 1            | 12           | 1            | 0            |  0.4         | 1            | 1            | 0.29985516   | 1            | \n",
       "| 54 | 500          |   1          | less than 20 | 0            | 2            |  6           | 1            | 1            |  1.2         | 1            | 0            | 0.26018322   | 1            | \n",
       "| 106 | 500          |   1          | less than 20 | 0            | 2            |  3           | 1            | 0            |  2.7         | 1            | 1            | 0.18573169   | 1            | \n",
       "| 115 | 500          |   1          | less than 20 | 1            | 2            |  1           | 1            | 3            |  1.0         | 0            | 1            | 0.02014536   | 1            | \n",
       "| 116 | 499          | 154          | less than 20 | 1            | 4            |  1           | 1            | 2            | -0.9         | 0            | 1            | 0.34026411   | 1            | \n",
       "| 186 | 485          | 236          | less than 20 | 1            | 3            |  1           | 1            | 0            |  0.6         | 0            | 1            | 0.14773862   | 1            | \n",
       "\n",
       "\n"
      ],
      "text/plain": [
       "    SSL_SCORE SSL_SCORE_RANK PREDICTOR_RAT_AGE_AT_LATEST_ARREST\n",
       "18  500         1            less than 20                      \n",
       "54  500         1            less than 20                      \n",
       "106 500         1            less than 20                      \n",
       "115 500         1            less than 20                      \n",
       "116 499       154            less than 20                      \n",
       "186 485       236            less than 20                      \n",
       "    PREDICTOR_RAT_VICTIM_SHOOTING_INCIDENTS\n",
       "18  0                                      \n",
       "54  0                                      \n",
       "106 0                                      \n",
       "115 1                                      \n",
       "116 1                                      \n",
       "186 1                                      \n",
       "    PREDICTOR_RAT_VICTIM_BATTERY_OR_ASSAULT\n",
       "18  1                                      \n",
       "54  2                                      \n",
       "106 2                                      \n",
       "115 2                                      \n",
       "116 4                                      \n",
       "186 3                                      \n",
       "    PREDICTOR_RAT_ARRESTS_VIOLENT_OFFENSES PREDICTOR_RAT_GANG_AFFILIATION\n",
       "18  12                                     1                             \n",
       "54   6                                     1                             \n",
       "106  3                                     1                             \n",
       "115  1                                     1                             \n",
       "116  1                                     1                             \n",
       "186  1                                     1                             \n",
       "    PREDICTOR_RAT_NARCOTIC_ARRESTS PREDICTOR_RAT_TREND_IN_CRIMINAL_ACTIVITY\n",
       "18  0                               0.4                                    \n",
       "54  1                               1.2                                    \n",
       "106 0                               2.7                                    \n",
       "115 3                               1.0                                    \n",
       "116 2                              -0.9                                    \n",
       "186 0                               0.6                                    \n",
       "    PREDICTOR_RAT_UUW_ARRESTS RACE_CODE_CD distance   weights\n",
       "18  1                         1            0.29985516 1      \n",
       "54  1                         0            0.26018322 1      \n",
       "106 1                         1            0.18573169 1      \n",
       "115 0                         1            0.02014536 1      \n",
       "116 0                         1            0.34026411 1      \n",
       "186 0                         1            0.14773862 1      "
      ]
     },
     "metadata": {},
     "output_type": "display_data"
    }
   ],
   "source": [
    "head(matched)"
   ]
  },
  {
   "cell_type": "code",
   "execution_count": 45,
   "metadata": {},
   "outputs": [
    {
     "name": "stderr",
     "output_type": "stream",
     "text": [
      "The following objects are masked from complete_data (pos = 3):\n",
      "\n",
      "    PREDICTOR_RAT_AGE_AT_LATEST_ARREST,\n",
      "    PREDICTOR_RAT_ARRESTS_VIOLENT_OFFENSES,\n",
      "    PREDICTOR_RAT_GANG_AFFILIATION, PREDICTOR_RAT_NARCOTIC_ARRESTS,\n",
      "    PREDICTOR_RAT_TREND_IN_CRIMINAL_ACTIVITY,\n",
      "    PREDICTOR_RAT_UUW_ARRESTS, PREDICTOR_RAT_VICTIM_BATTERY_OR_ASSAULT,\n",
      "    PREDICTOR_RAT_VICTIM_SHOOTING_INCIDENTS, RACE_CODE_CD, SSL_SCORE,\n",
      "    SSL_SCORE_RANK\n",
      "\n",
      "The following objects are masked from complete_data (pos = 4):\n",
      "\n",
      "    PREDICTOR_RAT_AGE_AT_LATEST_ARREST,\n",
      "    PREDICTOR_RAT_ARRESTS_VIOLENT_OFFENSES,\n",
      "    PREDICTOR_RAT_GANG_AFFILIATION, PREDICTOR_RAT_NARCOTIC_ARRESTS,\n",
      "    PREDICTOR_RAT_TREND_IN_CRIMINAL_ACTIVITY,\n",
      "    PREDICTOR_RAT_UUW_ARRESTS, PREDICTOR_RAT_VICTIM_BATTERY_OR_ASSAULT,\n",
      "    PREDICTOR_RAT_VICTIM_SHOOTING_INCIDENTS, RACE_CODE_CD, SSL_SCORE,\n",
      "    SSL_SCORE_RANK\n",
      "\n",
      "The following objects are masked from matched (pos = 5):\n",
      "\n",
      "    distance, PREDICTOR_RAT_AGE_AT_LATEST_ARREST,\n",
      "    PREDICTOR_RAT_ARRESTS_VIOLENT_OFFENSES,\n",
      "    PREDICTOR_RAT_GANG_AFFILIATION, PREDICTOR_RAT_NARCOTIC_ARRESTS,\n",
      "    PREDICTOR_RAT_TREND_IN_CRIMINAL_ACTIVITY,\n",
      "    PREDICTOR_RAT_UUW_ARRESTS, PREDICTOR_RAT_VICTIM_BATTERY_OR_ASSAULT,\n",
      "    PREDICTOR_RAT_VICTIM_SHOOTING_INCIDENTS, RACE_CODE_CD, SSL_SCORE,\n",
      "    SSL_SCORE_RANK, weights\n",
      "\n",
      "The following objects are masked from complete_data (pos = 6):\n",
      "\n",
      "    PREDICTOR_RAT_AGE_AT_LATEST_ARREST,\n",
      "    PREDICTOR_RAT_ARRESTS_VIOLENT_OFFENSES,\n",
      "    PREDICTOR_RAT_GANG_AFFILIATION, PREDICTOR_RAT_NARCOTIC_ARRESTS,\n",
      "    PREDICTOR_RAT_TREND_IN_CRIMINAL_ACTIVITY,\n",
      "    PREDICTOR_RAT_UUW_ARRESTS, PREDICTOR_RAT_VICTIM_BATTERY_OR_ASSAULT,\n",
      "    PREDICTOR_RAT_VICTIM_SHOOTING_INCIDENTS, RACE_CODE_CD, SSL_SCORE,\n",
      "    SSL_SCORE_RANK\n",
      "\n"
     ]
    }
   ],
   "source": [
    "# Doing T - test on matched records\n",
    "options(warn=-1)\n",
    "attach(matched)"
   ]
  },
  {
   "cell_type": "code",
   "execution_count": 46,
   "metadata": {
    "collapsed": true
   },
   "outputs": [],
   "source": [
    "race_black <-subset(matched,RACE_CODE_CD == 0)\n",
    "race_white<-subset(matched,RACE_CODE_CD == 1)"
   ]
  },
  {
   "cell_type": "code",
   "execution_count": 47,
   "metadata": {},
   "outputs": [
    {
     "data": {
      "text/plain": [
       "\n",
       "\tWelch Two Sample t-test\n",
       "\n",
       "data:  SSL_SCORE by RACE_CODE_CD\n",
       "t = -0.56822, df = 15.284, p-value = 0.5781\n",
       "alternative hypothesis: true difference in means is not equal to 0\n",
       "95 percent confidence interval:\n",
       " -30.57894  17.69006\n",
       "sample estimates:\n",
       "mean in group 0 mean in group 1 \n",
       "       468.4444        474.8889 \n"
      ]
     },
     "metadata": {},
     "output_type": "display_data"
    }
   ],
   "source": [
    "t.test(SSL_SCORE~RACE_CODE_CD)"
   ]
  },
  {
   "cell_type": "code",
   "execution_count": 48,
   "metadata": {},
   "outputs": [
    {
     "data": {
      "text/plain": [
       "\n",
       "\tWelch Two Sample t-test\n",
       "\n",
       "data:  SSL_SCORE_RANK by RACE_CODE_CD\n",
       "t = 0.506, df = 15.91, p-value = 0.6198\n",
       "alternative hypothesis: true difference in means is not equal to 0\n",
       "95 percent confidence interval:\n",
       " -268.7912  437.2357\n",
       "sample estimates:\n",
       "mean in group 0 mean in group 1 \n",
       "       461.3333        377.1111 \n"
      ]
     },
     "metadata": {},
     "output_type": "display_data"
    }
   ],
   "source": [
    "t.test(SSL_SCORE_RANK~RACE_CODE_CD)"
   ]
  }
 ],
 "metadata": {
  "kernelspec": {
   "display_name": "R",
   "language": "R",
   "name": "ir"
  },
  "language_info": {
   "codemirror_mode": "r",
   "file_extension": ".r",
   "mimetype": "text/x-r-source",
   "name": "R",
   "pygments_lexer": "r",
   "version": "3.3.2"
  }
 },
 "nbformat": 4,
 "nbformat_minor": 2
}
