{
 "cells": [
  {
   "cell_type": "code",
   "execution_count": 1,
   "metadata": {},
   "outputs": [
    {
     "name": "stdout",
     "output_type": "stream",
     "text": [
      "The Number of Rows in Initial Data is 34519"
     ]
    }
   ],
   "source": [
    "raw_data <- read.csv(\"SSL_RAT_SEX_Code_50_60.csv\", sep=\",\", header=T, strip.white = T, na.strings = c(\"NA\",\"NaN\",\"\",\"?\"))\n",
    "#Converting the \".\" in column names to \"_\"\n",
    "names(raw_data)<-gsub(\"\\\\.\", \"_\", names(raw_data))\n",
    "cat(\"The Number of Rows in Initial Data is\", nrow(raw_data))"
   ]
  },
  {
   "cell_type": "code",
   "execution_count": 2,
   "metadata": {
    "collapsed": true
   },
   "outputs": [],
   "source": [
    "final_features<-raw_data[,c('SSL_SCORE','SSL_SCORE_RANK','PREDICTOR_RAT_AGE_AT_LATEST_ARREST','PREDICTOR_RAT_VICTIM_SHOOTING_INCIDENTS',\n",
    "                            'PREDICTOR_RAT_VICTIM_BATTERY_OR_ASSAULT','PREDICTOR_RAT_ARRESTS_VIOLENT_OFFENSES','PREDICTOR_RAT_GANG_AFFILIATION', \n",
    "                           'PREDICTOR_RAT_NARCOTIC_ARRESTS','PREDICTOR_RAT_TREND_IN_CRIMINAL_ACTIVITY','PREDICTOR_RAT_UUW_ARRESTS','SEX_CODE_CD')]"
   ]
  },
  {
   "cell_type": "code",
   "execution_count": 3,
   "metadata": {},
   "outputs": [
    {
     "data": {
      "text/html": [
       "34519"
      ],
      "text/latex": [
       "34519"
      ],
      "text/markdown": [
       "34519"
      ],
      "text/plain": [
       "[1] 34519"
      ]
     },
     "metadata": {},
     "output_type": "display_data"
    }
   ],
   "source": [
    "complete_data <- final_features[complete.cases(final_features),]\n",
    "nrow(complete_data)"
   ]
  },
  {
   "cell_type": "code",
   "execution_count": 4,
   "metadata": {},
   "outputs": [
    {
     "data": {
      "text/html": [
       "<table>\n",
       "<thead><tr><th scope=col>SSL_SCORE</th><th scope=col>SSL_SCORE_RANK</th><th scope=col>PREDICTOR_RAT_AGE_AT_LATEST_ARREST</th><th scope=col>PREDICTOR_RAT_VICTIM_SHOOTING_INCIDENTS</th><th scope=col>PREDICTOR_RAT_VICTIM_BATTERY_OR_ASSAULT</th><th scope=col>PREDICTOR_RAT_ARRESTS_VIOLENT_OFFENSES</th><th scope=col>PREDICTOR_RAT_GANG_AFFILIATION</th><th scope=col>PREDICTOR_RAT_NARCOTIC_ARRESTS</th><th scope=col>PREDICTOR_RAT_TREND_IN_CRIMINAL_ACTIVITY</th><th scope=col>PREDICTOR_RAT_UUW_ARRESTS</th><th scope=col>SEX_CODE_CD</th></tr></thead>\n",
       "<tbody>\n",
       "\t<tr><td>346   </td><td> 33486</td><td>50-60 </td><td>0     </td><td>5     </td><td>0     </td><td>0     </td><td>0     </td><td>-0.8  </td><td>0     </td><td>1     </td></tr>\n",
       "\t<tr><td>342   </td><td> 41218</td><td>50-60 </td><td>0     </td><td>4     </td><td>1     </td><td>0     </td><td>0     </td><td>-0.5  </td><td>1     </td><td>1     </td></tr>\n",
       "\t<tr><td>333   </td><td> 64759</td><td>50-60 </td><td>0     </td><td>1     </td><td>4     </td><td>1     </td><td>0     </td><td> 0.9  </td><td>4     </td><td>1     </td></tr>\n",
       "\t<tr><td>323   </td><td> 94157</td><td>50-60 </td><td>0     </td><td>0     </td><td>0     </td><td>0     </td><td>1     </td><td>-0.1  </td><td>0     </td><td>1     </td></tr>\n",
       "\t<tr><td>320   </td><td>105580</td><td>50-60 </td><td>0     </td><td>1     </td><td>2     </td><td>0     </td><td>1     </td><td> 0.9  </td><td>2     </td><td>1     </td></tr>\n",
       "\t<tr><td>310   </td><td>136256</td><td>50-60 </td><td>0     </td><td>0     </td><td>1     </td><td>0     </td><td>1     </td><td> 0.5  </td><td>0     </td><td>1     </td></tr>\n",
       "</tbody>\n",
       "</table>\n"
      ],
      "text/latex": [
       "\\begin{tabular}{r|lllllllllll}\n",
       " SSL\\_SCORE & SSL\\_SCORE\\_RANK & PREDICTOR\\_RAT\\_AGE\\_AT\\_LATEST\\_ARREST & PREDICTOR\\_RAT\\_VICTIM\\_SHOOTING\\_INCIDENTS & PREDICTOR\\_RAT\\_VICTIM\\_BATTERY\\_OR\\_ASSAULT & PREDICTOR\\_RAT\\_ARRESTS\\_VIOLENT\\_OFFENSES & PREDICTOR\\_RAT\\_GANG\\_AFFILIATION & PREDICTOR\\_RAT\\_NARCOTIC\\_ARRESTS & PREDICTOR\\_RAT\\_TREND\\_IN\\_CRIMINAL\\_ACTIVITY & PREDICTOR\\_RAT\\_UUW\\_ARRESTS & SEX\\_CODE\\_CD\\\\\n",
       "\\hline\n",
       "\t 346    &  33486 & 50-60  & 0      & 5      & 0      & 0      & 0      & -0.8   & 0      & 1     \\\\\n",
       "\t 342    &  41218 & 50-60  & 0      & 4      & 1      & 0      & 0      & -0.5   & 1      & 1     \\\\\n",
       "\t 333    &  64759 & 50-60  & 0      & 1      & 4      & 1      & 0      &  0.9   & 4      & 1     \\\\\n",
       "\t 323    &  94157 & 50-60  & 0      & 0      & 0      & 0      & 1      & -0.1   & 0      & 1     \\\\\n",
       "\t 320    & 105580 & 50-60  & 0      & 1      & 2      & 0      & 1      &  0.9   & 2      & 1     \\\\\n",
       "\t 310    & 136256 & 50-60  & 0      & 0      & 1      & 0      & 1      &  0.5   & 0      & 1     \\\\\n",
       "\\end{tabular}\n"
      ],
      "text/markdown": [
       "\n",
       "SSL_SCORE | SSL_SCORE_RANK | PREDICTOR_RAT_AGE_AT_LATEST_ARREST | PREDICTOR_RAT_VICTIM_SHOOTING_INCIDENTS | PREDICTOR_RAT_VICTIM_BATTERY_OR_ASSAULT | PREDICTOR_RAT_ARRESTS_VIOLENT_OFFENSES | PREDICTOR_RAT_GANG_AFFILIATION | PREDICTOR_RAT_NARCOTIC_ARRESTS | PREDICTOR_RAT_TREND_IN_CRIMINAL_ACTIVITY | PREDICTOR_RAT_UUW_ARRESTS | SEX_CODE_CD | \n",
       "|---|---|---|---|---|---|\n",
       "| 346    |  33486 | 50-60  | 0      | 5      | 0      | 0      | 0      | -0.8   | 0      | 1      | \n",
       "| 342    |  41218 | 50-60  | 0      | 4      | 1      | 0      | 0      | -0.5   | 1      | 1      | \n",
       "| 333    |  64759 | 50-60  | 0      | 1      | 4      | 1      | 0      |  0.9   | 4      | 1      | \n",
       "| 323    |  94157 | 50-60  | 0      | 0      | 0      | 0      | 1      | -0.1   | 0      | 1      | \n",
       "| 320    | 105580 | 50-60  | 0      | 1      | 2      | 0      | 1      |  0.9   | 2      | 1      | \n",
       "| 310    | 136256 | 50-60  | 0      | 0      | 1      | 0      | 1      |  0.5   | 0      | 1      | \n",
       "\n",
       "\n"
      ],
      "text/plain": [
       "  SSL_SCORE SSL_SCORE_RANK PREDICTOR_RAT_AGE_AT_LATEST_ARREST\n",
       "1 346        33486         50-60                             \n",
       "2 342        41218         50-60                             \n",
       "3 333        64759         50-60                             \n",
       "4 323        94157         50-60                             \n",
       "5 320       105580         50-60                             \n",
       "6 310       136256         50-60                             \n",
       "  PREDICTOR_RAT_VICTIM_SHOOTING_INCIDENTS\n",
       "1 0                                      \n",
       "2 0                                      \n",
       "3 0                                      \n",
       "4 0                                      \n",
       "5 0                                      \n",
       "6 0                                      \n",
       "  PREDICTOR_RAT_VICTIM_BATTERY_OR_ASSAULT\n",
       "1 5                                      \n",
       "2 4                                      \n",
       "3 1                                      \n",
       "4 0                                      \n",
       "5 1                                      \n",
       "6 0                                      \n",
       "  PREDICTOR_RAT_ARRESTS_VIOLENT_OFFENSES PREDICTOR_RAT_GANG_AFFILIATION\n",
       "1 0                                      0                             \n",
       "2 1                                      0                             \n",
       "3 4                                      1                             \n",
       "4 0                                      0                             \n",
       "5 2                                      0                             \n",
       "6 1                                      0                             \n",
       "  PREDICTOR_RAT_NARCOTIC_ARRESTS PREDICTOR_RAT_TREND_IN_CRIMINAL_ACTIVITY\n",
       "1 0                              -0.8                                    \n",
       "2 0                              -0.5                                    \n",
       "3 0                               0.9                                    \n",
       "4 1                              -0.1                                    \n",
       "5 1                               0.9                                    \n",
       "6 1                               0.5                                    \n",
       "  PREDICTOR_RAT_UUW_ARRESTS SEX_CODE_CD\n",
       "1 0                         1          \n",
       "2 1                         1          \n",
       "3 4                         1          \n",
       "4 0                         1          \n",
       "5 2                         1          \n",
       "6 0                         1          "
      ]
     },
     "metadata": {},
     "output_type": "display_data"
    }
   ],
   "source": [
    "head(complete_data)"
   ]
  },
  {
   "cell_type": "code",
   "execution_count": 5,
   "metadata": {},
   "outputs": [
    {
     "name": "stderr",
     "output_type": "stream",
     "text": [
      "Warning message:\n",
      "\"package 'MatchIt' was built under R version 3.3.3\"Warning message:\n",
      "\"package 'dplyr' was built under R version 3.3.3\"\n",
      "Attaching package: 'dplyr'\n",
      "\n",
      "The following objects are masked from 'package:stats':\n",
      "\n",
      "    filter, lag\n",
      "\n",
      "The following objects are masked from 'package:base':\n",
      "\n",
      "    intersect, setdiff, setequal, union\n",
      "\n",
      "Warning message:\n",
      "\"package 'ggplot2' was built under R version 3.3.3\""
     ]
    }
   ],
   "source": [
    "library(MatchIt)\n",
    "library(dplyr)\n",
    "library(ggplot2)"
   ]
  },
  {
   "cell_type": "code",
   "execution_count": 6,
   "metadata": {},
   "outputs": [
    {
     "data": {
      "text/html": [
       "<table>\n",
       "<thead><tr><th scope=col>SEX_CODE_CD</th><th scope=col>NUMBER_OF_PEOPLE</th><th scope=col>MEAN_SSL_SCORE</th><th scope=col>STD_ERROR</th></tr></thead>\n",
       "<tbody>\n",
       "\t<tr><td>0        </td><td> 6538    </td><td>181.2069 </td><td>0.1883842</td></tr>\n",
       "\t<tr><td>1        </td><td>27981    </td><td>181.2420 </td><td>0.1011148</td></tr>\n",
       "</tbody>\n",
       "</table>\n"
      ],
      "text/latex": [
       "\\begin{tabular}{r|llll}\n",
       " SEX\\_CODE\\_CD & NUMBER\\_OF\\_PEOPLE & MEAN\\_SSL\\_SCORE & STD\\_ERROR\\\\\n",
       "\\hline\n",
       "\t 0         &  6538     & 181.2069  & 0.1883842\\\\\n",
       "\t 1         & 27981     & 181.2420  & 0.1011148\\\\\n",
       "\\end{tabular}\n"
      ],
      "text/markdown": [
       "\n",
       "SEX_CODE_CD | NUMBER_OF_PEOPLE | MEAN_SSL_SCORE | STD_ERROR | \n",
       "|---|---|\n",
       "| 0         |  6538     | 181.2069  | 0.1883842 | \n",
       "| 1         | 27981     | 181.2420  | 0.1011148 | \n",
       "\n",
       "\n"
      ],
      "text/plain": [
       "  SEX_CODE_CD NUMBER_OF_PEOPLE MEAN_SSL_SCORE STD_ERROR\n",
       "1 0            6538            181.2069       0.1883842\n",
       "2 1           27981            181.2420       0.1011148"
      ]
     },
     "metadata": {},
     "output_type": "display_data"
    }
   ],
   "source": [
    "#SSL_SCORE\n",
    "complete_data %>%\n",
    "  group_by(SEX_CODE_CD) %>%\n",
    "  summarise(NUMBER_OF_PEOPLE = n(),\n",
    "            MEAN_SSL_SCORE = mean(SSL_SCORE),\n",
    "            STD_ERROR = sd(SSL_SCORE) / sqrt(NUMBER_OF_PEOPLE))"
   ]
  },
  {
   "cell_type": "code",
   "execution_count": 7,
   "metadata": {},
   "outputs": [
    {
     "data": {
      "text/html": [
       "<table>\n",
       "<thead><tr><th scope=col>SEX_CODE_CD</th><th scope=col>NUMBER_OF_PEOPLE</th><th scope=col>MEAN_SSL_SCORE</th><th scope=col>STD_ERROR</th></tr></thead>\n",
       "<tbody>\n",
       "\t<tr><td>0       </td><td> 6538   </td><td>370539.5</td><td>169.1318</td></tr>\n",
       "\t<tr><td>1       </td><td>27981   </td><td>370164.0</td><td> 97.2352</td></tr>\n",
       "</tbody>\n",
       "</table>\n"
      ],
      "text/latex": [
       "\\begin{tabular}{r|llll}\n",
       " SEX\\_CODE\\_CD & NUMBER\\_OF\\_PEOPLE & MEAN\\_SSL\\_SCORE & STD\\_ERROR\\\\\n",
       "\\hline\n",
       "\t 0        &  6538    & 370539.5 & 169.1318\\\\\n",
       "\t 1        & 27981    & 370164.0 &  97.2352\\\\\n",
       "\\end{tabular}\n"
      ],
      "text/markdown": [
       "\n",
       "SEX_CODE_CD | NUMBER_OF_PEOPLE | MEAN_SSL_SCORE | STD_ERROR | \n",
       "|---|---|\n",
       "| 0        |  6538    | 370539.5 | 169.1318 | \n",
       "| 1        | 27981    | 370164.0 |  97.2352 | \n",
       "\n",
       "\n"
      ],
      "text/plain": [
       "  SEX_CODE_CD NUMBER_OF_PEOPLE MEAN_SSL_SCORE STD_ERROR\n",
       "1 0            6538            370539.5       169.1318 \n",
       "2 1           27981            370164.0        97.2352 "
      ]
     },
     "metadata": {},
     "output_type": "display_data"
    }
   ],
   "source": [
    "# For SSL_SCORE_RANK\n",
    "complete_data %>%\n",
    "  group_by(SEX_CODE_CD) %>%\n",
    "  summarise(NUMBER_OF_PEOPLE = n(),\n",
    "            MEAN_SSL_SCORE = mean(SSL_SCORE_RANK),\n",
    "            STD_ERROR = sd(SSL_SCORE_RANK) / sqrt(NUMBER_OF_PEOPLE))"
   ]
  },
  {
   "cell_type": "code",
   "execution_count": 8,
   "metadata": {},
   "outputs": [
    {
     "data": {
      "text/plain": [
       "\n",
       "\tWelch Two Sample t-test\n",
       "\n",
       "data:  SSL_SCORE by SEX_CODE_CD\n",
       "t = -0.16406, df = 10640, p-value = 0.8697\n",
       "alternative hypothesis: true difference in means is not equal to 0\n",
       "95 percent confidence interval:\n",
       " -0.4541763  0.3840216\n",
       "sample estimates:\n",
       "mean in group 0 mean in group 1 \n",
       "       181.2069        181.2420 \n"
      ]
     },
     "metadata": {},
     "output_type": "display_data"
    }
   ],
   "source": [
    "# T-test without PSM for SSL_SCORE and SEX_CODE_CD\n",
    "attach(complete_data)\n",
    "t.test(SSL_SCORE~SEX_CODE_CD)"
   ]
  },
  {
   "cell_type": "code",
   "execution_count": 9,
   "metadata": {},
   "outputs": [
    {
     "data": {
      "text/plain": [
       "\n",
       "\tWelch Two Sample t-test\n",
       "\n",
       "data:  SSL_SCORE_RANK by SEX_CODE_CD\n",
       "t = 1.9248, df = 11284, p-value = 0.05428\n",
       "alternative hypothesis: true difference in means is not equal to 0\n",
       "95 percent confidence interval:\n",
       "  -6.897844 757.924414\n",
       "sample estimates:\n",
       "mean in group 0 mean in group 1 \n",
       "       370539.5        370164.0 \n"
      ]
     },
     "metadata": {},
     "output_type": "display_data"
    }
   ],
   "source": [
    "# T-test without PSM for SSL_SCORE_RANK and SEX_CODE_CD\n",
    "t.test(SSL_SCORE_RANK~SEX_CODE_CD)"
   ]
  },
  {
   "cell_type": "code",
   "execution_count": 10,
   "metadata": {},
   "outputs": [
    {
     "name": "stderr",
     "output_type": "stream",
     "text": [
      "Warning message in matchit2nearest(structure(c(1L, 1L, 1L, 1L, 1L, 1L, 0L, 1L, 1L, :\n",
      "\"Fewer control than treated units and matching without replacement.  Not all treated units will receive a match.  Treated units will be matched in the order specified by m.order: largest\""
     ]
    }
   ],
   "source": [
    "mod_match <- matchit(SEX_CODE_CD ~ PREDICTOR_RAT_VICTIM_SHOOTING_INCIDENTS + PREDICTOR_RAT_VICTIM_BATTERY_OR_ASSAULT + \n",
    "            PREDICTOR_RAT_ARRESTS_VIOLENT_OFFENSES + PREDICTOR_RAT_GANG_AFFILIATION + PREDICTOR_RAT_NARCOTIC_ARRESTS + PREDICTOR_RAT_TREND_IN_CRIMINAL_ACTIVITY +\n",
    "            PREDICTOR_RAT_UUW_ARRESTS,\n",
    "                     method = \"nearest\", data = complete_data)"
   ]
  },
  {
   "cell_type": "code",
   "execution_count": 11,
   "metadata": {},
   "outputs": [
    {
     "data": {
      "text/plain": [
       "\n",
       "Call: \n",
       "matchit(formula = SEX_CODE_CD ~ PREDICTOR_RAT_VICTIM_SHOOTING_INCIDENTS + \n",
       "    PREDICTOR_RAT_VICTIM_BATTERY_OR_ASSAULT + PREDICTOR_RAT_ARRESTS_VIOLENT_OFFENSES + \n",
       "    PREDICTOR_RAT_GANG_AFFILIATION + PREDICTOR_RAT_NARCOTIC_ARRESTS + \n",
       "    PREDICTOR_RAT_TREND_IN_CRIMINAL_ACTIVITY + PREDICTOR_RAT_UUW_ARRESTS, \n",
       "    data = complete_data, method = \"nearest\")\n",
       "\n",
       "Sample sizes:\n",
       "          Control Treated\n",
       "All          6538   27981\n",
       "Matched      6538    6538\n",
       "Unmatched       0   21443\n",
       "Discarded       0       0\n"
      ]
     },
     "metadata": {},
     "output_type": "display_data"
    }
   ],
   "source": [
    "mod_match"
   ]
  },
  {
   "cell_type": "code",
   "execution_count": 12,
   "metadata": {
    "collapsed": true
   },
   "outputs": [],
   "source": [
    "matched <- match.data(mod_match)\n",
    "matched_copy<-matched"
   ]
  },
  {
   "cell_type": "code",
   "execution_count": 13,
   "metadata": {},
   "outputs": [
    {
     "name": "stdout",
     "output_type": "stream",
     "text": [
      "[1] \"To identify the units, use first mouse button; to stop, use second.\"\n"
     ]
    },
    {
     "data": {
      "text/html": [],
      "text/latex": [],
      "text/markdown": [],
      "text/plain": [
       "integer(0)"
      ]
     },
     "metadata": {},
     "output_type": "display_data"
    },
    {
     "data": {
      "image/png": "[encoded data removed]",
      "text/plain": [
       "Plot with title \"Distribution of Propensity Scores\""
      ]
     },
     "metadata": {},
     "output_type": "display_data"
    }
   ],
   "source": [
    "plot(mod_match, type = \"jitter\")"
   ]
  },
  {
   "cell_type": "code",
   "execution_count": 14,
   "metadata": {},
   "outputs": [
    {
     "data": {
      "image/png": "[encoded data removed]",
      "text/plain": [
       "Plot with title \"Matched Control\""
      ]
     },
     "metadata": {},
     "output_type": "display_data"
    }
   ],
   "source": [
    "plot(mod_match, type = \"hist\")"
   ]
  },
  {
   "cell_type": "code",
   "execution_count": 15,
   "metadata": {},
   "outputs": [
    {
     "data": {
      "text/html": [
       "<table>\n",
       "<thead><tr><th></th><th scope=col>SSL_SCORE</th><th scope=col>SSL_SCORE_RANK</th><th scope=col>PREDICTOR_RAT_AGE_AT_LATEST_ARREST</th><th scope=col>PREDICTOR_RAT_VICTIM_SHOOTING_INCIDENTS</th><th scope=col>PREDICTOR_RAT_VICTIM_BATTERY_OR_ASSAULT</th><th scope=col>PREDICTOR_RAT_ARRESTS_VIOLENT_OFFENSES</th><th scope=col>PREDICTOR_RAT_GANG_AFFILIATION</th><th scope=col>PREDICTOR_RAT_NARCOTIC_ARRESTS</th><th scope=col>PREDICTOR_RAT_TREND_IN_CRIMINAL_ACTIVITY</th><th scope=col>PREDICTOR_RAT_UUW_ARRESTS</th><th scope=col>SEX_CODE_CD</th><th scope=col>distance</th><th scope=col>weights</th></tr></thead>\n",
       "<tbody>\n",
       "\t<tr><th scope=row>1</th><td>346      </td><td> 33486   </td><td>50-60    </td><td>0        </td><td>5        </td><td>0        </td><td>0        </td><td>0        </td><td>-0.8     </td><td>0        </td><td>1        </td><td>0.9277898</td><td>1        </td></tr>\n",
       "\t<tr><th scope=row>2</th><td>342      </td><td> 41218   </td><td>50-60    </td><td>0        </td><td>4        </td><td>1        </td><td>0        </td><td>0        </td><td>-0.5     </td><td>1        </td><td>1        </td><td>0.9459997</td><td>1        </td></tr>\n",
       "\t<tr><th scope=row>3</th><td>333      </td><td> 64759   </td><td>50-60    </td><td>0        </td><td>1        </td><td>4        </td><td>1        </td><td>0        </td><td> 0.9     </td><td>4        </td><td>1        </td><td>0.9979215</td><td>1        </td></tr>\n",
       "\t<tr><th scope=row>5</th><td>320      </td><td>105580   </td><td>50-60    </td><td>0        </td><td>1        </td><td>2        </td><td>0        </td><td>1        </td><td> 0.9     </td><td>2        </td><td>1        </td><td>0.9324984</td><td>1        </td></tr>\n",
       "\t<tr><th scope=row>6</th><td>310      </td><td>136256   </td><td>50-60    </td><td>0        </td><td>0        </td><td>1        </td><td>0        </td><td>1        </td><td> 0.5     </td><td>0        </td><td>1        </td><td>0.8604552</td><td>1        </td></tr>\n",
       "\t<tr><th scope=row>7</th><td>304      </td><td>157766   </td><td>50-60    </td><td>0        </td><td>1        </td><td>0        </td><td>0        </td><td>1        </td><td>-0.2     </td><td>0        </td><td>0        </td><td>0.8273808</td><td>1        </td></tr>\n",
       "</tbody>\n",
       "</table>\n"
      ],
      "text/latex": [
       "\\begin{tabular}{r|lllllllllllll}\n",
       "  & SSL\\_SCORE & SSL\\_SCORE\\_RANK & PREDICTOR\\_RAT\\_AGE\\_AT\\_LATEST\\_ARREST & PREDICTOR\\_RAT\\_VICTIM\\_SHOOTING\\_INCIDENTS & PREDICTOR\\_RAT\\_VICTIM\\_BATTERY\\_OR\\_ASSAULT & PREDICTOR\\_RAT\\_ARRESTS\\_VIOLENT\\_OFFENSES & PREDICTOR\\_RAT\\_GANG\\_AFFILIATION & PREDICTOR\\_RAT\\_NARCOTIC\\_ARRESTS & PREDICTOR\\_RAT\\_TREND\\_IN\\_CRIMINAL\\_ACTIVITY & PREDICTOR\\_RAT\\_UUW\\_ARRESTS & SEX\\_CODE\\_CD & distance & weights\\\\\n",
       "\\hline\n",
       "\t1 & 346       &  33486    & 50-60     & 0         & 5         & 0         & 0         & 0         & -0.8      & 0         & 1         & 0.9277898 & 1        \\\\\n",
       "\t2 & 342       &  41218    & 50-60     & 0         & 4         & 1         & 0         & 0         & -0.5      & 1         & 1         & 0.9459997 & 1        \\\\\n",
       "\t3 & 333       &  64759    & 50-60     & 0         & 1         & 4         & 1         & 0         &  0.9      & 4         & 1         & 0.9979215 & 1        \\\\\n",
       "\t5 & 320       & 105580    & 50-60     & 0         & 1         & 2         & 0         & 1         &  0.9      & 2         & 1         & 0.9324984 & 1        \\\\\n",
       "\t6 & 310       & 136256    & 50-60     & 0         & 0         & 1         & 0         & 1         &  0.5      & 0         & 1         & 0.8604552 & 1        \\\\\n",
       "\t7 & 304       & 157766    & 50-60     & 0         & 1         & 0         & 0         & 1         & -0.2      & 0         & 0         & 0.8273808 & 1        \\\\\n",
       "\\end{tabular}\n"
      ],
      "text/markdown": [
       "\n",
       "| <!--/--> | SSL_SCORE | SSL_SCORE_RANK | PREDICTOR_RAT_AGE_AT_LATEST_ARREST | PREDICTOR_RAT_VICTIM_SHOOTING_INCIDENTS | PREDICTOR_RAT_VICTIM_BATTERY_OR_ASSAULT | PREDICTOR_RAT_ARRESTS_VIOLENT_OFFENSES | PREDICTOR_RAT_GANG_AFFILIATION | PREDICTOR_RAT_NARCOTIC_ARRESTS | PREDICTOR_RAT_TREND_IN_CRIMINAL_ACTIVITY | PREDICTOR_RAT_UUW_ARRESTS | SEX_CODE_CD | distance | weights | \n",
       "|---|---|---|---|---|---|\n",
       "| 1 | 346       |  33486    | 50-60     | 0         | 5         | 0         | 0         | 0         | -0.8      | 0         | 1         | 0.9277898 | 1         | \n",
       "| 2 | 342       |  41218    | 50-60     | 0         | 4         | 1         | 0         | 0         | -0.5      | 1         | 1         | 0.9459997 | 1         | \n",
       "| 3 | 333       |  64759    | 50-60     | 0         | 1         | 4         | 1         | 0         |  0.9      | 4         | 1         | 0.9979215 | 1         | \n",
       "| 5 | 320       | 105580    | 50-60     | 0         | 1         | 2         | 0         | 1         |  0.9      | 2         | 1         | 0.9324984 | 1         | \n",
       "| 6 | 310       | 136256    | 50-60     | 0         | 0         | 1         | 0         | 1         |  0.5      | 0         | 1         | 0.8604552 | 1         | \n",
       "| 7 | 304       | 157766    | 50-60     | 0         | 1         | 0         | 0         | 1         | -0.2      | 0         | 0         | 0.8273808 | 1         | \n",
       "\n",
       "\n"
      ],
      "text/plain": [
       "  SSL_SCORE SSL_SCORE_RANK PREDICTOR_RAT_AGE_AT_LATEST_ARREST\n",
       "1 346        33486         50-60                             \n",
       "2 342        41218         50-60                             \n",
       "3 333        64759         50-60                             \n",
       "5 320       105580         50-60                             \n",
       "6 310       136256         50-60                             \n",
       "7 304       157766         50-60                             \n",
       "  PREDICTOR_RAT_VICTIM_SHOOTING_INCIDENTS\n",
       "1 0                                      \n",
       "2 0                                      \n",
       "3 0                                      \n",
       "5 0                                      \n",
       "6 0                                      \n",
       "7 0                                      \n",
       "  PREDICTOR_RAT_VICTIM_BATTERY_OR_ASSAULT\n",
       "1 5                                      \n",
       "2 4                                      \n",
       "3 1                                      \n",
       "5 1                                      \n",
       "6 0                                      \n",
       "7 1                                      \n",
       "  PREDICTOR_RAT_ARRESTS_VIOLENT_OFFENSES PREDICTOR_RAT_GANG_AFFILIATION\n",
       "1 0                                      0                             \n",
       "2 1                                      0                             \n",
       "3 4                                      1                             \n",
       "5 2                                      0                             \n",
       "6 1                                      0                             \n",
       "7 0                                      0                             \n",
       "  PREDICTOR_RAT_NARCOTIC_ARRESTS PREDICTOR_RAT_TREND_IN_CRIMINAL_ACTIVITY\n",
       "1 0                              -0.8                                    \n",
       "2 0                              -0.5                                    \n",
       "3 0                               0.9                                    \n",
       "5 1                               0.9                                    \n",
       "6 1                               0.5                                    \n",
       "7 1                              -0.2                                    \n",
       "  PREDICTOR_RAT_UUW_ARRESTS SEX_CODE_CD distance  weights\n",
       "1 0                         1           0.9277898 1      \n",
       "2 1                         1           0.9459997 1      \n",
       "3 4                         1           0.9979215 1      \n",
       "5 2                         1           0.9324984 1      \n",
       "6 0                         1           0.8604552 1      \n",
       "7 0                         0           0.8273808 1      "
      ]
     },
     "metadata": {},
     "output_type": "display_data"
    }
   ],
   "source": [
    "head(matched)"
   ]
  },
  {
   "cell_type": "code",
   "execution_count": 16,
   "metadata": {},
   "outputs": [
    {
     "name": "stderr",
     "output_type": "stream",
     "text": [
      "The following objects are masked from complete_data:\n",
      "\n",
      "    PREDICTOR_RAT_AGE_AT_LATEST_ARREST,\n",
      "    PREDICTOR_RAT_ARRESTS_VIOLENT_OFFENSES,\n",
      "    PREDICTOR_RAT_GANG_AFFILIATION, PREDICTOR_RAT_NARCOTIC_ARRESTS,\n",
      "    PREDICTOR_RAT_TREND_IN_CRIMINAL_ACTIVITY,\n",
      "    PREDICTOR_RAT_UUW_ARRESTS, PREDICTOR_RAT_VICTIM_BATTERY_OR_ASSAULT,\n",
      "    PREDICTOR_RAT_VICTIM_SHOOTING_INCIDENTS, SEX_CODE_CD, SSL_SCORE,\n",
      "    SSL_SCORE_RANK\n",
      "\n"
     ]
    }
   ],
   "source": [
    "# Doing T - test on matched records\n",
    "attach(matched)"
   ]
  },
  {
   "cell_type": "code",
   "execution_count": 17,
   "metadata": {
    "collapsed": true
   },
   "outputs": [],
   "source": [
    "gender_female  <-subset(matched,SEX_CODE_CD == 0)\n",
    "gender_male<-subset(matched,SEX_CODE_CD == 1)\n"
   ]
  },
  {
   "cell_type": "code",
   "execution_count": 18,
   "metadata": {},
   "outputs": [
    {
     "data": {
      "text/plain": [
       "\n",
       "\tWelch Two Sample t-test\n",
       "\n",
       "data:  SSL_SCORE by SEX_CODE_CD\n",
       "t = -21.429, df = 11319, p-value < 2.2e-16\n",
       "alternative hypothesis: true difference in means is not equal to 0\n",
       "95 percent confidence interval:\n",
       " -8.003090 -6.661639\n",
       "sample estimates:\n",
       "mean in group 0 mean in group 1 \n",
       "       181.2069        188.5393 \n"
      ]
     },
     "metadata": {},
     "output_type": "display_data"
    }
   ],
   "source": [
    "t.test(SSL_SCORE~SEX_CODE_CD)"
   ]
  },
  {
   "cell_type": "code",
   "execution_count": 19,
   "metadata": {},
   "outputs": [
    {
     "data": {
      "text/plain": [
       "\n",
       "\tWelch Two Sample t-test\n",
       "\n",
       "data:  SSL_SCORE_RANK by SEX_CODE_CD\n",
       "t = 23.721, df = 10106, p-value < 2.2e-16\n",
       "alternative hypothesis: true difference in means is not equal to 0\n",
       "95 percent confidence interval:\n",
       " 7689.998 9075.429\n",
       "sample estimates:\n",
       "mean in group 0 mean in group 1 \n",
       "       370539.5        362156.8 \n"
      ]
     },
     "metadata": {},
     "output_type": "display_data"
    }
   ],
   "source": [
    "t.test(SSL_SCORE_RANK~SEX_CODE_CD)"
   ]
  }
 ],
 "metadata": {
  "kernelspec": {
   "display_name": "R",
   "language": "R",
   "name": "ir"
  },
  "language_info": {
   "codemirror_mode": "r",
   "file_extension": ".r",
   "mimetype": "text/x-r-source",
   "name": "R",
   "pygments_lexer": "r",
   "version": "3.3.2"
  }
 },
 "nbformat": 4,
 "nbformat_minor": 2
}
