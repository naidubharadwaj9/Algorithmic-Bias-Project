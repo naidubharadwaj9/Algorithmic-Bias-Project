{
 "cells": [
  {
   "cell_type": "code",
   "execution_count": 1,
   "metadata": {},
   "outputs": [
    {
     "name": "stdout",
     "output_type": "stream",
     "text": [
      "The Number of Rows in Initial Data is 290208"
     ]
    }
   ],
   "source": [
    "raw_data <- read.csv(\"SSL_RAT_FULL.csv\", sep=\",\", header=T, strip.white = T, na.strings = c(\"NA\",\"NaN\",\"\",\"?\"))\n",
    "#Converting the \".\" in column names to \"_\"\n",
    "names(raw_data)<-gsub(\"\\\\.\", \"_\", names(raw_data))\n",
    "cat(\"The Number of Rows in Initial Data is\", nrow(raw_data))"
   ]
  },
  {
   "cell_type": "code",
   "execution_count": 2,
   "metadata": {
    "collapsed": true
   },
   "outputs": [],
   "source": [
    "final_features<-raw_data[,c('SSL_SCORE','SSL_SCORE_Rank','PREDICTOR_RAT_AGE_AT_LATEST_ARREST','PREDICTOR_RAT_VICTIM_SHOOTING_INCIDENTS',\n",
    "                            'PREDICTOR_RAT_VICTIM_BATTERY_OR_ASSAULT','PREDICTOR_RAT_ARRESTS_VIOLENT_OFFENSES','PREDICTOR_RAT_GANG_AFFILIATION', \n",
    "                           'PREDICTOR_RAT_NARCOTIC_ARRESTS','PREDICTOR_RAT_TREND_IN_CRIMINAL_ACTIVITY','PREDICTOR_RAT_UUW_ARRESTS','RACE_CODE_CD')]"
   ]
  },
  {
   "cell_type": "code",
   "execution_count": 3,
   "metadata": {},
   "outputs": [
    {
     "data": {
      "text/html": [
       "290123"
      ],
      "text/latex": [
       "290123"
      ],
      "text/markdown": [
       "290123"
      ],
      "text/plain": [
       "[1] 290123"
      ]
     },
     "metadata": {},
     "output_type": "display_data"
    }
   ],
   "source": [
    "complete_data <- final_features[complete.cases(final_features),]\n",
    "nrow(complete_data)"
   ]
  },
  {
   "cell_type": "code",
   "execution_count": 4,
   "metadata": {},
   "outputs": [
    {
     "data": {
      "text/html": [
       "<table>\n",
       "<thead><tr><th scope=col>SSL_SCORE</th><th scope=col>SSL_SCORE_Rank</th><th scope=col>PREDICTOR_RAT_AGE_AT_LATEST_ARREST</th><th scope=col>PREDICTOR_RAT_VICTIM_SHOOTING_INCIDENTS</th><th scope=col>PREDICTOR_RAT_VICTIM_BATTERY_OR_ASSAULT</th><th scope=col>PREDICTOR_RAT_ARRESTS_VIOLENT_OFFENSES</th><th scope=col>PREDICTOR_RAT_GANG_AFFILIATION</th><th scope=col>PREDICTOR_RAT_NARCOTIC_ARRESTS</th><th scope=col>PREDICTOR_RAT_TREND_IN_CRIMINAL_ACTIVITY</th><th scope=col>PREDICTOR_RAT_UUW_ARRESTS</th><th scope=col>RACE_CODE_CD</th></tr></thead>\n",
       "<tbody>\n",
       "\t<tr><td>500         </td><td>1           </td><td>20-30       </td><td>0           </td><td>1           </td><td>4           </td><td>1           </td><td>1           </td><td> 1.0        </td><td>1           </td><td>0           </td></tr>\n",
       "\t<tr><td>500         </td><td>1           </td><td>less than 20</td><td>1           </td><td>2           </td><td>2           </td><td>1           </td><td>7           </td><td> 0.2        </td><td>1           </td><td>0           </td></tr>\n",
       "\t<tr><td>500         </td><td>1           </td><td>20-30       </td><td>4           </td><td>3           </td><td>0           </td><td>1           </td><td>0           </td><td>-1.1        </td><td>0           </td><td>1           </td></tr>\n",
       "\t<tr><td>500         </td><td>1           </td><td>less than 20</td><td>1           </td><td>2           </td><td>6           </td><td>0           </td><td>0           </td><td> 0.0        </td><td>0           </td><td>0           </td></tr>\n",
       "\t<tr><td>500         </td><td>1           </td><td>less than 20</td><td>1           </td><td>1           </td><td>4           </td><td>1           </td><td>1           </td><td>-0.3        </td><td>2           </td><td>0           </td></tr>\n",
       "\t<tr><td>500         </td><td>1           </td><td>less than 20</td><td>1           </td><td>2           </td><td>6           </td><td>1           </td><td>0           </td><td>-0.4        </td><td>1           </td><td>0           </td></tr>\n",
       "</tbody>\n",
       "</table>\n"
      ],
      "text/latex": [
       "\\begin{tabular}{r|lllllllllll}\n",
       " SSL\\_SCORE & SSL\\_SCORE\\_Rank & PREDICTOR\\_RAT\\_AGE\\_AT\\_LATEST\\_ARREST & PREDICTOR\\_RAT\\_VICTIM\\_SHOOTING\\_INCIDENTS & PREDICTOR\\_RAT\\_VICTIM\\_BATTERY\\_OR\\_ASSAULT & PREDICTOR\\_RAT\\_ARRESTS\\_VIOLENT\\_OFFENSES & PREDICTOR\\_RAT\\_GANG\\_AFFILIATION & PREDICTOR\\_RAT\\_NARCOTIC\\_ARRESTS & PREDICTOR\\_RAT\\_TREND\\_IN\\_CRIMINAL\\_ACTIVITY & PREDICTOR\\_RAT\\_UUW\\_ARRESTS & RACE\\_CODE\\_CD\\\\\n",
       "\\hline\n",
       "\t 500          & 1            & 20-30        & 0            & 1            & 4            & 1            & 1            &  1.0         & 1            & 0           \\\\\n",
       "\t 500          & 1            & less than 20 & 1            & 2            & 2            & 1            & 7            &  0.2         & 1            & 0           \\\\\n",
       "\t 500          & 1            & 20-30        & 4            & 3            & 0            & 1            & 0            & -1.1         & 0            & 1           \\\\\n",
       "\t 500          & 1            & less than 20 & 1            & 2            & 6            & 0            & 0            &  0.0         & 0            & 0           \\\\\n",
       "\t 500          & 1            & less than 20 & 1            & 1            & 4            & 1            & 1            & -0.3         & 2            & 0           \\\\\n",
       "\t 500          & 1            & less than 20 & 1            & 2            & 6            & 1            & 0            & -0.4         & 1            & 0           \\\\\n",
       "\\end{tabular}\n"
      ],
      "text/markdown": [
       "\n",
       "SSL_SCORE | SSL_SCORE_Rank | PREDICTOR_RAT_AGE_AT_LATEST_ARREST | PREDICTOR_RAT_VICTIM_SHOOTING_INCIDENTS | PREDICTOR_RAT_VICTIM_BATTERY_OR_ASSAULT | PREDICTOR_RAT_ARRESTS_VIOLENT_OFFENSES | PREDICTOR_RAT_GANG_AFFILIATION | PREDICTOR_RAT_NARCOTIC_ARRESTS | PREDICTOR_RAT_TREND_IN_CRIMINAL_ACTIVITY | PREDICTOR_RAT_UUW_ARRESTS | RACE_CODE_CD | \n",
       "|---|---|---|---|---|---|\n",
       "| 500          | 1            | 20-30        | 0            | 1            | 4            | 1            | 1            |  1.0         | 1            | 0            | \n",
       "| 500          | 1            | less than 20 | 1            | 2            | 2            | 1            | 7            |  0.2         | 1            | 0            | \n",
       "| 500          | 1            | 20-30        | 4            | 3            | 0            | 1            | 0            | -1.1         | 0            | 1            | \n",
       "| 500          | 1            | less than 20 | 1            | 2            | 6            | 0            | 0            |  0.0         | 0            | 0            | \n",
       "| 500          | 1            | less than 20 | 1            | 1            | 4            | 1            | 1            | -0.3         | 2            | 0            | \n",
       "| 500          | 1            | less than 20 | 1            | 2            | 6            | 1            | 0            | -0.4         | 1            | 0            | \n",
       "\n",
       "\n"
      ],
      "text/plain": [
       "  SSL_SCORE SSL_SCORE_Rank PREDICTOR_RAT_AGE_AT_LATEST_ARREST\n",
       "1 500       1              20-30                             \n",
       "2 500       1              less than 20                      \n",
       "3 500       1              20-30                             \n",
       "4 500       1              less than 20                      \n",
       "5 500       1              less than 20                      \n",
       "6 500       1              less than 20                      \n",
       "  PREDICTOR_RAT_VICTIM_SHOOTING_INCIDENTS\n",
       "1 0                                      \n",
       "2 1                                      \n",
       "3 4                                      \n",
       "4 1                                      \n",
       "5 1                                      \n",
       "6 1                                      \n",
       "  PREDICTOR_RAT_VICTIM_BATTERY_OR_ASSAULT\n",
       "1 1                                      \n",
       "2 2                                      \n",
       "3 3                                      \n",
       "4 2                                      \n",
       "5 1                                      \n",
       "6 2                                      \n",
       "  PREDICTOR_RAT_ARRESTS_VIOLENT_OFFENSES PREDICTOR_RAT_GANG_AFFILIATION\n",
       "1 4                                      1                             \n",
       "2 2                                      1                             \n",
       "3 0                                      1                             \n",
       "4 6                                      0                             \n",
       "5 4                                      1                             \n",
       "6 6                                      1                             \n",
       "  PREDICTOR_RAT_NARCOTIC_ARRESTS PREDICTOR_RAT_TREND_IN_CRIMINAL_ACTIVITY\n",
       "1 1                               1.0                                    \n",
       "2 7                               0.2                                    \n",
       "3 0                              -1.1                                    \n",
       "4 0                               0.0                                    \n",
       "5 1                              -0.3                                    \n",
       "6 0                              -0.4                                    \n",
       "  PREDICTOR_RAT_UUW_ARRESTS RACE_CODE_CD\n",
       "1 1                         0           \n",
       "2 1                         0           \n",
       "3 0                         1           \n",
       "4 0                         0           \n",
       "5 2                         0           \n",
       "6 1                         0           "
      ]
     },
     "metadata": {},
     "output_type": "display_data"
    }
   ],
   "source": [
    "head(complete_data)"
   ]
  },
  {
   "cell_type": "code",
   "execution_count": 5,
   "metadata": {},
   "outputs": [
    {
     "name": "stderr",
     "output_type": "stream",
     "text": [
      "Warning message:\n",
      "\"package 'MatchIt' was built under R version 3.3.3\"Warning message:\n",
      "\"package 'dplyr' was built under R version 3.3.3\"\n",
      "Attaching package: 'dplyr'\n",
      "\n",
      "The following objects are masked from 'package:stats':\n",
      "\n",
      "    filter, lag\n",
      "\n",
      "The following objects are masked from 'package:base':\n",
      "\n",
      "    intersect, setdiff, setequal, union\n",
      "\n",
      "Warning message:\n",
      "\"package 'ggplot2' was built under R version 3.3.3\""
     ]
    }
   ],
   "source": [
    "library(MatchIt)\n",
    "library(dplyr)\n",
    "library(ggplot2)"
   ]
  },
  {
   "cell_type": "code",
   "execution_count": 6,
   "metadata": {},
   "outputs": [
    {
     "data": {
      "text/html": [
       "<table>\n",
       "<thead><tr><th scope=col>RACE_CODE_CD</th><th scope=col>NUMBER_OF_PEOPLE</th><th scope=col>MEAN_SSL_SCORE</th><th scope=col>STD_ERROR</th></tr></thead>\n",
       "<tbody>\n",
       "\t<tr><td>0        </td><td>207800   </td><td>282.4735 </td><td>0.1348997</td></tr>\n",
       "\t<tr><td>1        </td><td> 82323   </td><td>269.8436 </td><td>0.1968091</td></tr>\n",
       "</tbody>\n",
       "</table>\n"
      ],
      "text/latex": [
       "\\begin{tabular}{r|llll}\n",
       " RACE\\_CODE\\_CD & NUMBER\\_OF\\_PEOPLE & MEAN\\_SSL\\_SCORE & STD\\_ERROR\\\\\n",
       "\\hline\n",
       "\t 0         & 207800    & 282.4735  & 0.1348997\\\\\n",
       "\t 1         &  82323    & 269.8436  & 0.1968091\\\\\n",
       "\\end{tabular}\n"
      ],
      "text/markdown": [
       "\n",
       "RACE_CODE_CD | NUMBER_OF_PEOPLE | MEAN_SSL_SCORE | STD_ERROR | \n",
       "|---|---|\n",
       "| 0         | 207800    | 282.4735  | 0.1348997 | \n",
       "| 1         |  82323    | 269.8436  | 0.1968091 | \n",
       "\n",
       "\n"
      ],
      "text/plain": [
       "  RACE_CODE_CD NUMBER_OF_PEOPLE MEAN_SSL_SCORE STD_ERROR\n",
       "1 0            207800           282.4735       0.1348997\n",
       "2 1             82323           269.8436       0.1968091"
      ]
     },
     "metadata": {},
     "output_type": "display_data"
    }
   ],
   "source": [
    "complete_data %>%\n",
    "  group_by(RACE_CODE_CD) %>%\n",
    "  summarise(NUMBER_OF_PEOPLE = n(),\n",
    "            MEAN_SSL_SCORE = mean(SSL_SCORE),\n",
    "            STD_ERROR = sd(SSL_SCORE) / sqrt(NUMBER_OF_PEOPLE))"
   ]
  },
  {
   "cell_type": "code",
   "execution_count": 7,
   "metadata": {
    "collapsed": true
   },
   "outputs": [],
   "source": [
    "mod_match <- matchit(RACE_CODE_CD ~ PREDICTOR_RAT_VICTIM_SHOOTING_INCIDENTS + PREDICTOR_RAT_VICTIM_BATTERY_OR_ASSAULT + \n",
    "            PREDICTOR_RAT_ARRESTS_VIOLENT_OFFENSES + PREDICTOR_RAT_GANG_AFFILIATION + PREDICTOR_RAT_NARCOTIC_ARRESTS + PREDICTOR_RAT_TREND_IN_CRIMINAL_ACTIVITY +\n",
    "            PREDICTOR_RAT_UUW_ARRESTS,\n",
    "                     method = \"nearest\", data = complete_data)"
   ]
  },
  {
   "cell_type": "code",
   "execution_count": 8,
   "metadata": {},
   "outputs": [
    {
     "data": {
      "text/plain": [
       "\n",
       "Call: \n",
       "matchit(formula = RACE_CODE_CD ~ PREDICTOR_RAT_VICTIM_SHOOTING_INCIDENTS + \n",
       "    PREDICTOR_RAT_VICTIM_BATTERY_OR_ASSAULT + PREDICTOR_RAT_ARRESTS_VIOLENT_OFFENSES + \n",
       "    PREDICTOR_RAT_GANG_AFFILIATION + PREDICTOR_RAT_NARCOTIC_ARRESTS + \n",
       "    PREDICTOR_RAT_TREND_IN_CRIMINAL_ACTIVITY + PREDICTOR_RAT_UUW_ARRESTS, \n",
       "    data = complete_data, method = \"nearest\")\n",
       "\n",
       "Sample sizes:\n",
       "          Control Treated\n",
       "All        207800   82323\n",
       "Matched     82323   82323\n",
       "Unmatched  125477       0\n",
       "Discarded       0       0\n"
      ]
     },
     "metadata": {},
     "output_type": "display_data"
    }
   ],
   "source": [
    "mod_match"
   ]
  },
  {
   "cell_type": "code",
   "execution_count": 9,
   "metadata": {
    "collapsed": true
   },
   "outputs": [],
   "source": [
    "matched <- match.data(mod_match)\n",
    "matched_copy<-matched"
   ]
  },
  {
   "cell_type": "code",
   "execution_count": 10,
   "metadata": {},
   "outputs": [
    {
     "name": "stdout",
     "output_type": "stream",
     "text": [
      "[1] \"To identify the units, use first mouse button; to stop, use second.\"\n"
     ]
    },
    {
     "data": {
      "text/html": [],
      "text/latex": [],
      "text/markdown": [],
      "text/plain": [
       "integer(0)"
      ]
     },
     "metadata": {},
     "output_type": "display_data"
    },
    {
     "data": {
      "image/png": "[encoded data removed]",
      "text/plain": [
       "Plot with title \"Distribution of Propensity Scores\""
      ]
     },
     "metadata": {},
     "output_type": "display_data"
    }
   ],
   "source": [
    "plot(mod_match, type = \"jitter\")"
   ]
  },
  {
   "cell_type": "code",
   "execution_count": 11,
   "metadata": {},
   "outputs": [
    {
     "data": {
      "image/png": "[encoded data removed]",
      "text/plain": [
       "Plot with title \"Matched Control\""
      ]
     },
     "metadata": {},
     "output_type": "display_data"
    }
   ],
   "source": [
    "plot(mod_match, type = \"hist\")"
   ]
  },
  {
   "cell_type": "code",
   "execution_count": 12,
   "metadata": {},
   "outputs": [
    {
     "data": {
      "text/html": [
       "<table>\n",
       "<thead><tr><th></th><th scope=col>SSL_SCORE</th><th scope=col>SSL_SCORE_Rank</th><th scope=col>PREDICTOR_RAT_AGE_AT_LATEST_ARREST</th><th scope=col>PREDICTOR_RAT_VICTIM_SHOOTING_INCIDENTS</th><th scope=col>PREDICTOR_RAT_VICTIM_BATTERY_OR_ASSAULT</th><th scope=col>PREDICTOR_RAT_ARRESTS_VIOLENT_OFFENSES</th><th scope=col>PREDICTOR_RAT_GANG_AFFILIATION</th><th scope=col>PREDICTOR_RAT_NARCOTIC_ARRESTS</th><th scope=col>PREDICTOR_RAT_TREND_IN_CRIMINAL_ACTIVITY</th><th scope=col>PREDICTOR_RAT_UUW_ARRESTS</th><th scope=col>RACE_CODE_CD</th><th scope=col>distance</th><th scope=col>weights</th></tr></thead>\n",
       "<tbody>\n",
       "\t<tr><th scope=row>3</th><td>500         </td><td>1           </td><td>20-30       </td><td>4           </td><td>3           </td><td> 0          </td><td>1           </td><td> 0          </td><td>-1.1        </td><td>0           </td><td>1           </td><td>1.269889e-05</td><td>1           </td></tr>\n",
       "\t<tr><th scope=row>17</th><td>500         </td><td>1           </td><td>less than 20</td><td>2           </td><td>2           </td><td> 1          </td><td>1           </td><td> 5          </td><td>-1.7        </td><td>0           </td><td>0           </td><td>1.176922e-04</td><td>1           </td></tr>\n",
       "\t<tr><th scope=row>21</th><td>500         </td><td>1           </td><td>less than 20</td><td>0           </td><td>0           </td><td> 0          </td><td>1           </td><td>10          </td><td> 2.5        </td><td>0           </td><td>0           </td><td>1.933736e-02</td><td>1           </td></tr>\n",
       "\t<tr><th scope=row>24</th><td>500         </td><td>1           </td><td>less than 20</td><td>0           </td><td>1           </td><td>12          </td><td>1           </td><td> 0          </td><td> 0.4        </td><td>1           </td><td>1           </td><td>1.068423e-05</td><td>1           </td></tr>\n",
       "\t<tr><th scope=row>66</th><td>500         </td><td>1           </td><td>less than 20</td><td>0           </td><td>0           </td><td> 0          </td><td>0           </td><td> 8          </td><td> 0.6        </td><td>0           </td><td>0           </td><td>1.337338e-01</td><td>1           </td></tr>\n",
       "\t<tr><th scope=row>72</th><td>500         </td><td>1           </td><td>less than 20</td><td>4           </td><td>4           </td><td> 0          </td><td>1           </td><td> 2          </td><td>-1.5        </td><td>0           </td><td>0           </td><td>3.146434e-06</td><td>1           </td></tr>\n",
       "</tbody>\n",
       "</table>\n"
      ],
      "text/latex": [
       "\\begin{tabular}{r|lllllllllllll}\n",
       "  & SSL\\_SCORE & SSL\\_SCORE\\_Rank & PREDICTOR\\_RAT\\_AGE\\_AT\\_LATEST\\_ARREST & PREDICTOR\\_RAT\\_VICTIM\\_SHOOTING\\_INCIDENTS & PREDICTOR\\_RAT\\_VICTIM\\_BATTERY\\_OR\\_ASSAULT & PREDICTOR\\_RAT\\_ARRESTS\\_VIOLENT\\_OFFENSES & PREDICTOR\\_RAT\\_GANG\\_AFFILIATION & PREDICTOR\\_RAT\\_NARCOTIC\\_ARRESTS & PREDICTOR\\_RAT\\_TREND\\_IN\\_CRIMINAL\\_ACTIVITY & PREDICTOR\\_RAT\\_UUW\\_ARRESTS & RACE\\_CODE\\_CD & distance & weights\\\\\n",
       "\\hline\n",
       "\t3 & 500          & 1            & 20-30        & 4            & 3            &  0           & 1            &  0           & -1.1         & 0            & 1            & 1.269889e-05 & 1           \\\\\n",
       "\t17 & 500          & 1            & less than 20 & 2            & 2            &  1           & 1            &  5           & -1.7         & 0            & 0            & 1.176922e-04 & 1           \\\\\n",
       "\t21 & 500          & 1            & less than 20 & 0            & 0            &  0           & 1            & 10           &  2.5         & 0            & 0            & 1.933736e-02 & 1           \\\\\n",
       "\t24 & 500          & 1            & less than 20 & 0            & 1            & 12           & 1            &  0           &  0.4         & 1            & 1            & 1.068423e-05 & 1           \\\\\n",
       "\t66 & 500          & 1            & less than 20 & 0            & 0            &  0           & 0            &  8           &  0.6         & 0            & 0            & 1.337338e-01 & 1           \\\\\n",
       "\t72 & 500          & 1            & less than 20 & 4            & 4            &  0           & 1            &  2           & -1.5         & 0            & 0            & 3.146434e-06 & 1           \\\\\n",
       "\\end{tabular}\n"
      ],
      "text/markdown": [
       "\n",
       "| <!--/--> | SSL_SCORE | SSL_SCORE_Rank | PREDICTOR_RAT_AGE_AT_LATEST_ARREST | PREDICTOR_RAT_VICTIM_SHOOTING_INCIDENTS | PREDICTOR_RAT_VICTIM_BATTERY_OR_ASSAULT | PREDICTOR_RAT_ARRESTS_VIOLENT_OFFENSES | PREDICTOR_RAT_GANG_AFFILIATION | PREDICTOR_RAT_NARCOTIC_ARRESTS | PREDICTOR_RAT_TREND_IN_CRIMINAL_ACTIVITY | PREDICTOR_RAT_UUW_ARRESTS | RACE_CODE_CD | distance | weights | \n",
       "|---|---|---|---|---|---|\n",
       "| 3 | 500          | 1            | 20-30        | 4            | 3            |  0           | 1            |  0           | -1.1         | 0            | 1            | 1.269889e-05 | 1            | \n",
       "| 17 | 500          | 1            | less than 20 | 2            | 2            |  1           | 1            |  5           | -1.7         | 0            | 0            | 1.176922e-04 | 1            | \n",
       "| 21 | 500          | 1            | less than 20 | 0            | 0            |  0           | 1            | 10           |  2.5         | 0            | 0            | 1.933736e-02 | 1            | \n",
       "| 24 | 500          | 1            | less than 20 | 0            | 1            | 12           | 1            |  0           |  0.4         | 1            | 1            | 1.068423e-05 | 1            | \n",
       "| 66 | 500          | 1            | less than 20 | 0            | 0            |  0           | 0            |  8           |  0.6         | 0            | 0            | 1.337338e-01 | 1            | \n",
       "| 72 | 500          | 1            | less than 20 | 4            | 4            |  0           | 1            |  2           | -1.5         | 0            | 0            | 3.146434e-06 | 1            | \n",
       "\n",
       "\n"
      ],
      "text/plain": [
       "   SSL_SCORE SSL_SCORE_Rank PREDICTOR_RAT_AGE_AT_LATEST_ARREST\n",
       "3  500       1              20-30                             \n",
       "17 500       1              less than 20                      \n",
       "21 500       1              less than 20                      \n",
       "24 500       1              less than 20                      \n",
       "66 500       1              less than 20                      \n",
       "72 500       1              less than 20                      \n",
       "   PREDICTOR_RAT_VICTIM_SHOOTING_INCIDENTS\n",
       "3  4                                      \n",
       "17 2                                      \n",
       "21 0                                      \n",
       "24 0                                      \n",
       "66 0                                      \n",
       "72 4                                      \n",
       "   PREDICTOR_RAT_VICTIM_BATTERY_OR_ASSAULT\n",
       "3  3                                      \n",
       "17 2                                      \n",
       "21 0                                      \n",
       "24 1                                      \n",
       "66 0                                      \n",
       "72 4                                      \n",
       "   PREDICTOR_RAT_ARRESTS_VIOLENT_OFFENSES PREDICTOR_RAT_GANG_AFFILIATION\n",
       "3   0                                     1                             \n",
       "17  1                                     1                             \n",
       "21  0                                     1                             \n",
       "24 12                                     1                             \n",
       "66  0                                     0                             \n",
       "72  0                                     1                             \n",
       "   PREDICTOR_RAT_NARCOTIC_ARRESTS PREDICTOR_RAT_TREND_IN_CRIMINAL_ACTIVITY\n",
       "3   0                             -1.1                                    \n",
       "17  5                             -1.7                                    \n",
       "21 10                              2.5                                    \n",
       "24  0                              0.4                                    \n",
       "66  8                              0.6                                    \n",
       "72  2                             -1.5                                    \n",
       "   PREDICTOR_RAT_UUW_ARRESTS RACE_CODE_CD distance     weights\n",
       "3  0                         1            1.269889e-05 1      \n",
       "17 0                         0            1.176922e-04 1      \n",
       "21 0                         0            1.933736e-02 1      \n",
       "24 1                         1            1.068423e-05 1      \n",
       "66 0                         0            1.337338e-01 1      \n",
       "72 0                         0            3.146434e-06 1      "
      ]
     },
     "metadata": {},
     "output_type": "display_data"
    }
   ],
   "source": [
    "head(matched)"
   ]
  },
  {
   "cell_type": "code",
   "execution_count": 13,
   "metadata": {},
   "outputs": [
    {
     "data": {
      "image/png": "[encoded data removed]",
      "text/plain": [
       "plot without title"
      ]
     },
     "metadata": {},
     "output_type": "display_data"
    }
   ],
   "source": [
    "# Doing T - test on matched records\n",
    "options(warn=-1)\n",
    "\n",
    "attach(matched)\n",
    "boxplot(SSL_SCORE_Rank~RACE_CODE_CD)"
   ]
  },
  {
   "cell_type": "code",
   "execution_count": 14,
   "metadata": {},
   "outputs": [
    {
     "data": {
      "image/png": "[encoded data removed]",
      "text/plain": [
       "Plot with title \"Normal Q-Q Plot\""
      ]
     },
     "metadata": {},
     "output_type": "display_data"
    }
   ],
   "source": [
    "race_black <-subset(matched,RACE_CODE_CD == 0)\n",
    "race_white<-subset(matched,RACE_CODE_CD == 1)\n",
    "# Normal QQ Plot for RACE == BLACK\n",
    "qqnorm(race_black$SSL_SCORE_Rank)\n",
    "qqline(race_black$SSL_SCORE_Rank)"
   ]
  },
  {
   "cell_type": "code",
   "execution_count": 15,
   "metadata": {},
   "outputs": [
    {
     "data": {
      "image/png": "[encoded data removed]",
      "text/plain": [
       "Plot with title \"Normal Q-Q Plot\""
      ]
     },
     "metadata": {},
     "output_type": "display_data"
    }
   ],
   "source": [
    "# Normal QQ Plot for RACE == WHITE\n",
    "qqnorm(race_white$SSL_SCORE_Rank)\n",
    "qqline(race_white$SSL_SCORE_Rank)"
   ]
  },
  {
   "cell_type": "code",
   "execution_count": 16,
   "metadata": {},
   "outputs": [
    {
     "data": {
      "text/plain": [
       "\n",
       "\tWelch Two Sample t-test\n",
       "\n",
       "data:  SSL_SCORE_Rank by RACE_CODE_CD\n",
       "t = -15.691, df = 163970, p-value < 2.2e-16\n",
       "alternative hypothesis: true difference in means is not equal to 0\n",
       "95 percent confidence interval:\n",
       " -9885.336 -7689.947\n",
       "sample estimates:\n",
       "mean in group 0 mean in group 1 \n",
       "       208055.6        216843.3 \n"
      ]
     },
     "metadata": {},
     "output_type": "display_data"
    }
   ],
   "source": [
    "t.test(SSL_SCORE_Rank~RACE_CODE_CD)"
   ]
  }
 ],
 "metadata": {
  "kernelspec": {
   "display_name": "R",
   "language": "R",
   "name": "ir"
  },
  "language_info": {
   "codemirror_mode": "r",
   "file_extension": ".r",
   "mimetype": "text/x-r-source",
   "name": "R",
   "pygments_lexer": "r",
   "version": "3.3.2"
  }
 },
 "nbformat": 4,
 "nbformat_minor": 2
}
