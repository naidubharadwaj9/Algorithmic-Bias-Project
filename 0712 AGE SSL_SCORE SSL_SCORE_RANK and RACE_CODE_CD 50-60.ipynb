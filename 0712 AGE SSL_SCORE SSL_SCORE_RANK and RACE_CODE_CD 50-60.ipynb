{
 "cells": [
  {
   "cell_type": "code",
   "execution_count": 1,
   "metadata": {},
   "outputs": [
    {
     "name": "stdout",
     "output_type": "stream",
     "text": [
      "The Number of Rows in Initial Data is 29055"
     ]
    }
   ],
   "source": [
    "raw_data <- read.csv(\"SSL_RAT_RACE_CODE_50_60.csv\", sep=\",\", header=T, strip.white = T, na.strings = c(\"NA\",\"NaN\",\"\",\"?\"))\n",
    "#Converting the \".\" in column names to \"_\"\n",
    "names(raw_data)<-gsub(\"\\\\.\", \"_\", names(raw_data))\n",
    "cat(\"The Number of Rows in Initial Data is\", nrow(raw_data))"
   ]
  },
  {
   "cell_type": "code",
   "execution_count": 2,
   "metadata": {
    "collapsed": true
   },
   "outputs": [],
   "source": [
    "final_features<-raw_data[,c('SSL_SCORE','SSL_SCORE_RANK','PREDICTOR_RAT_AGE_AT_LATEST_ARREST','PREDICTOR_RAT_VICTIM_SHOOTING_INCIDENTS',\n",
    "                            'PREDICTOR_RAT_VICTIM_BATTERY_OR_ASSAULT','PREDICTOR_RAT_ARRESTS_VIOLENT_OFFENSES','PREDICTOR_RAT_GANG_AFFILIATION', \n",
    "                           'PREDICTOR_RAT_NARCOTIC_ARRESTS','PREDICTOR_RAT_TREND_IN_CRIMINAL_ACTIVITY','PREDICTOR_RAT_UUW_ARRESTS','RACE_CODE_CD')]"
   ]
  },
  {
   "cell_type": "code",
   "execution_count": 3,
   "metadata": {},
   "outputs": [
    {
     "data": {
      "text/html": [
       "29055"
      ],
      "text/latex": [
       "29055"
      ],
      "text/markdown": [
       "29055"
      ],
      "text/plain": [
       "[1] 29055"
      ]
     },
     "metadata": {},
     "output_type": "display_data"
    }
   ],
   "source": [
    "complete_data <- final_features[complete.cases(final_features),]\n",
    "nrow(complete_data)"
   ]
  },
  {
   "cell_type": "code",
   "execution_count": 4,
   "metadata": {},
   "outputs": [
    {
     "data": {
      "text/html": [
       "<table>\n",
       "<thead><tr><th scope=col>SSL_SCORE</th><th scope=col>SSL_SCORE_RANK</th><th scope=col>PREDICTOR_RAT_AGE_AT_LATEST_ARREST</th><th scope=col>PREDICTOR_RAT_VICTIM_SHOOTING_INCIDENTS</th><th scope=col>PREDICTOR_RAT_VICTIM_BATTERY_OR_ASSAULT</th><th scope=col>PREDICTOR_RAT_ARRESTS_VIOLENT_OFFENSES</th><th scope=col>PREDICTOR_RAT_GANG_AFFILIATION</th><th scope=col>PREDICTOR_RAT_NARCOTIC_ARRESTS</th><th scope=col>PREDICTOR_RAT_TREND_IN_CRIMINAL_ACTIVITY</th><th scope=col>PREDICTOR_RAT_UUW_ARRESTS</th><th scope=col>RACE_CODE_CD</th></tr></thead>\n",
       "<tbody>\n",
       "\t<tr><td>346   </td><td> 33486</td><td>50-60 </td><td>0     </td><td>5     </td><td>0     </td><td>0     </td><td>0     </td><td>-0.8  </td><td>0     </td><td>1     </td></tr>\n",
       "\t<tr><td>342   </td><td> 41218</td><td>50-60 </td><td>0     </td><td>4     </td><td>1     </td><td>0     </td><td>0     </td><td>-0.5  </td><td>1     </td><td>0     </td></tr>\n",
       "\t<tr><td>333   </td><td> 64759</td><td>50-60 </td><td>0     </td><td>1     </td><td>4     </td><td>1     </td><td>0     </td><td> 0.9  </td><td>4     </td><td>0     </td></tr>\n",
       "\t<tr><td>323   </td><td> 94157</td><td>50-60 </td><td>0     </td><td>0     </td><td>0     </td><td>0     </td><td>1     </td><td>-0.1  </td><td>0     </td><td>0     </td></tr>\n",
       "\t<tr><td>310   </td><td>136256</td><td>50-60 </td><td>0     </td><td>0     </td><td>1     </td><td>0     </td><td>1     </td><td> 0.5  </td><td>0     </td><td>1     </td></tr>\n",
       "\t<tr><td>304   </td><td>157766</td><td>50-60 </td><td>0     </td><td>1     </td><td>0     </td><td>0     </td><td>1     </td><td>-0.2  </td><td>0     </td><td>0     </td></tr>\n",
       "</tbody>\n",
       "</table>\n"
      ],
      "text/latex": [
       "\\begin{tabular}{r|lllllllllll}\n",
       " SSL\\_SCORE & SSL\\_SCORE\\_RANK & PREDICTOR\\_RAT\\_AGE\\_AT\\_LATEST\\_ARREST & PREDICTOR\\_RAT\\_VICTIM\\_SHOOTING\\_INCIDENTS & PREDICTOR\\_RAT\\_VICTIM\\_BATTERY\\_OR\\_ASSAULT & PREDICTOR\\_RAT\\_ARRESTS\\_VIOLENT\\_OFFENSES & PREDICTOR\\_RAT\\_GANG\\_AFFILIATION & PREDICTOR\\_RAT\\_NARCOTIC\\_ARRESTS & PREDICTOR\\_RAT\\_TREND\\_IN\\_CRIMINAL\\_ACTIVITY & PREDICTOR\\_RAT\\_UUW\\_ARRESTS & RACE\\_CODE\\_CD\\\\\n",
       "\\hline\n",
       "\t 346    &  33486 & 50-60  & 0      & 5      & 0      & 0      & 0      & -0.8   & 0      & 1     \\\\\n",
       "\t 342    &  41218 & 50-60  & 0      & 4      & 1      & 0      & 0      & -0.5   & 1      & 0     \\\\\n",
       "\t 333    &  64759 & 50-60  & 0      & 1      & 4      & 1      & 0      &  0.9   & 4      & 0     \\\\\n",
       "\t 323    &  94157 & 50-60  & 0      & 0      & 0      & 0      & 1      & -0.1   & 0      & 0     \\\\\n",
       "\t 310    & 136256 & 50-60  & 0      & 0      & 1      & 0      & 1      &  0.5   & 0      & 1     \\\\\n",
       "\t 304    & 157766 & 50-60  & 0      & 1      & 0      & 0      & 1      & -0.2   & 0      & 0     \\\\\n",
       "\\end{tabular}\n"
      ],
      "text/markdown": [
       "\n",
       "SSL_SCORE | SSL_SCORE_RANK | PREDICTOR_RAT_AGE_AT_LATEST_ARREST | PREDICTOR_RAT_VICTIM_SHOOTING_INCIDENTS | PREDICTOR_RAT_VICTIM_BATTERY_OR_ASSAULT | PREDICTOR_RAT_ARRESTS_VIOLENT_OFFENSES | PREDICTOR_RAT_GANG_AFFILIATION | PREDICTOR_RAT_NARCOTIC_ARRESTS | PREDICTOR_RAT_TREND_IN_CRIMINAL_ACTIVITY | PREDICTOR_RAT_UUW_ARRESTS | RACE_CODE_CD | \n",
       "|---|---|---|---|---|---|\n",
       "| 346    |  33486 | 50-60  | 0      | 5      | 0      | 0      | 0      | -0.8   | 0      | 1      | \n",
       "| 342    |  41218 | 50-60  | 0      | 4      | 1      | 0      | 0      | -0.5   | 1      | 0      | \n",
       "| 333    |  64759 | 50-60  | 0      | 1      | 4      | 1      | 0      |  0.9   | 4      | 0      | \n",
       "| 323    |  94157 | 50-60  | 0      | 0      | 0      | 0      | 1      | -0.1   | 0      | 0      | \n",
       "| 310    | 136256 | 50-60  | 0      | 0      | 1      | 0      | 1      |  0.5   | 0      | 1      | \n",
       "| 304    | 157766 | 50-60  | 0      | 1      | 0      | 0      | 1      | -0.2   | 0      | 0      | \n",
       "\n",
       "\n"
      ],
      "text/plain": [
       "  SSL_SCORE SSL_SCORE_RANK PREDICTOR_RAT_AGE_AT_LATEST_ARREST\n",
       "1 346        33486         50-60                             \n",
       "2 342        41218         50-60                             \n",
       "3 333        64759         50-60                             \n",
       "4 323        94157         50-60                             \n",
       "5 310       136256         50-60                             \n",
       "6 304       157766         50-60                             \n",
       "  PREDICTOR_RAT_VICTIM_SHOOTING_INCIDENTS\n",
       "1 0                                      \n",
       "2 0                                      \n",
       "3 0                                      \n",
       "4 0                                      \n",
       "5 0                                      \n",
       "6 0                                      \n",
       "  PREDICTOR_RAT_VICTIM_BATTERY_OR_ASSAULT\n",
       "1 5                                      \n",
       "2 4                                      \n",
       "3 1                                      \n",
       "4 0                                      \n",
       "5 0                                      \n",
       "6 1                                      \n",
       "  PREDICTOR_RAT_ARRESTS_VIOLENT_OFFENSES PREDICTOR_RAT_GANG_AFFILIATION\n",
       "1 0                                      0                             \n",
       "2 1                                      0                             \n",
       "3 4                                      1                             \n",
       "4 0                                      0                             \n",
       "5 1                                      0                             \n",
       "6 0                                      0                             \n",
       "  PREDICTOR_RAT_NARCOTIC_ARRESTS PREDICTOR_RAT_TREND_IN_CRIMINAL_ACTIVITY\n",
       "1 0                              -0.8                                    \n",
       "2 0                              -0.5                                    \n",
       "3 0                               0.9                                    \n",
       "4 1                              -0.1                                    \n",
       "5 1                               0.5                                    \n",
       "6 1                              -0.2                                    \n",
       "  PREDICTOR_RAT_UUW_ARRESTS RACE_CODE_CD\n",
       "1 0                         1           \n",
       "2 1                         0           \n",
       "3 4                         0           \n",
       "4 0                         0           \n",
       "5 0                         1           \n",
       "6 0                         0           "
      ]
     },
     "metadata": {},
     "output_type": "display_data"
    }
   ],
   "source": [
    "head(complete_data)"
   ]
  },
  {
   "cell_type": "code",
   "execution_count": 5,
   "metadata": {},
   "outputs": [
    {
     "name": "stderr",
     "output_type": "stream",
     "text": [
      "Warning message:\n",
      "\"package 'MatchIt' was built under R version 3.3.3\"Warning message:\n",
      "\"package 'dplyr' was built under R version 3.3.3\"\n",
      "Attaching package: 'dplyr'\n",
      "\n",
      "The following objects are masked from 'package:stats':\n",
      "\n",
      "    filter, lag\n",
      "\n",
      "The following objects are masked from 'package:base':\n",
      "\n",
      "    intersect, setdiff, setequal, union\n",
      "\n",
      "Warning message:\n",
      "\"package 'ggplot2' was built under R version 3.3.3\""
     ]
    }
   ],
   "source": [
    "library(MatchIt)\n",
    "library(dplyr)\n",
    "library(ggplot2)"
   ]
  },
  {
   "cell_type": "code",
   "execution_count": 6,
   "metadata": {},
   "outputs": [
    {
     "data": {
      "text/html": [
       "<table>\n",
       "<thead><tr><th scope=col>RACE_CODE_CD</th><th scope=col>NUMBER_OF_PEOPLE</th><th scope=col>MEAN_SSL_SCORE</th><th scope=col>STD_ERROR</th></tr></thead>\n",
       "<tbody>\n",
       "\t<tr><td>0        </td><td>20482    </td><td>182.2626 </td><td>0.1228971</td></tr>\n",
       "\t<tr><td>1        </td><td> 8573    </td><td>179.4239 </td><td>0.1613783</td></tr>\n",
       "</tbody>\n",
       "</table>\n"
      ],
      "text/latex": [
       "\\begin{tabular}{r|llll}\n",
       " RACE\\_CODE\\_CD & NUMBER\\_OF\\_PEOPLE & MEAN\\_SSL\\_SCORE & STD\\_ERROR\\\\\n",
       "\\hline\n",
       "\t 0         & 20482     & 182.2626  & 0.1228971\\\\\n",
       "\t 1         &  8573     & 179.4239  & 0.1613783\\\\\n",
       "\\end{tabular}\n"
      ],
      "text/markdown": [
       "\n",
       "RACE_CODE_CD | NUMBER_OF_PEOPLE | MEAN_SSL_SCORE | STD_ERROR | \n",
       "|---|---|\n",
       "| 0         | 20482     | 182.2626  | 0.1228971 | \n",
       "| 1         |  8573     | 179.4239  | 0.1613783 | \n",
       "\n",
       "\n"
      ],
      "text/plain": [
       "  RACE_CODE_CD NUMBER_OF_PEOPLE MEAN_SSL_SCORE STD_ERROR\n",
       "1 0            20482            182.2626       0.1228971\n",
       "2 1             8573            179.4239       0.1613783"
      ]
     },
     "metadata": {},
     "output_type": "display_data"
    }
   ],
   "source": [
    "#SSL_SCORE\n",
    "complete_data %>%\n",
    "  group_by(RACE_CODE_CD) %>%\n",
    "  summarise(NUMBER_OF_PEOPLE = n(),\n",
    "            MEAN_SSL_SCORE = mean(SSL_SCORE),\n",
    "            STD_ERROR = sd(SSL_SCORE) / sqrt(NUMBER_OF_PEOPLE))"
   ]
  },
  {
   "cell_type": "code",
   "execution_count": 7,
   "metadata": {},
   "outputs": [
    {
     "data": {
      "text/html": [
       "<table>\n",
       "<thead><tr><th scope=col>RACE_CODE_CD</th><th scope=col>NUMBER_OF_PEOPLE</th><th scope=col>MEAN_SSL_SCORE_RANK</th><th scope=col>STD_ERROR</th></tr></thead>\n",
       "<tbody>\n",
       "\t<tr><td>0       </td><td>20482   </td><td>369161.6</td><td>120.9605</td></tr>\n",
       "\t<tr><td>1       </td><td> 8573   </td><td>372050.0</td><td>142.8263</td></tr>\n",
       "</tbody>\n",
       "</table>\n"
      ],
      "text/latex": [
       "\\begin{tabular}{r|llll}\n",
       " RACE\\_CODE\\_CD & NUMBER\\_OF\\_PEOPLE & MEAN\\_SSL\\_SCORE\\_RANK & STD\\_ERROR\\\\\n",
       "\\hline\n",
       "\t 0        & 20482    & 369161.6 & 120.9605\\\\\n",
       "\t 1        &  8573    & 372050.0 & 142.8263\\\\\n",
       "\\end{tabular}\n"
      ],
      "text/markdown": [
       "\n",
       "RACE_CODE_CD | NUMBER_OF_PEOPLE | MEAN_SSL_SCORE_RANK | STD_ERROR | \n",
       "|---|---|\n",
       "| 0        | 20482    | 369161.6 | 120.9605 | \n",
       "| 1        |  8573    | 372050.0 | 142.8263 | \n",
       "\n",
       "\n"
      ],
      "text/plain": [
       "  RACE_CODE_CD NUMBER_OF_PEOPLE MEAN_SSL_SCORE_RANK STD_ERROR\n",
       "1 0            20482            369161.6            120.9605 \n",
       "2 1             8573            372050.0            142.8263 "
      ]
     },
     "metadata": {},
     "output_type": "display_data"
    }
   ],
   "source": [
    "# For SSL_SCORE_RANK\n",
    "complete_data %>%\n",
    "  group_by(RACE_CODE_CD) %>%\n",
    "  summarise(NUMBER_OF_PEOPLE = n(),\n",
    "            MEAN_SSL_SCORE_RANK = mean(SSL_SCORE_RANK),\n",
    "            STD_ERROR = sd(SSL_SCORE_RANK) / sqrt(NUMBER_OF_PEOPLE))"
   ]
  },
  {
   "cell_type": "code",
   "execution_count": 8,
   "metadata": {},
   "outputs": [
    {
     "data": {
      "text/plain": [
       "\n",
       "\tWelch Two Sample t-test\n",
       "\n",
       "data:  SSL_SCORE by RACE_CODE_CD\n",
       "t = 13.994, df = 18757, p-value < 2.2e-16\n",
       "alternative hypothesis: true difference in means is not equal to 0\n",
       "95 percent confidence interval:\n",
       " 2.441086 3.236280\n",
       "sample estimates:\n",
       "mean in group 0 mean in group 1 \n",
       "       182.2626        179.4239 \n"
      ]
     },
     "metadata": {},
     "output_type": "display_data"
    }
   ],
   "source": [
    "# T-test without PSM for SSL_SCORE and RACE_CODE_CD\n",
    "attach(complete_data)\n",
    "t.test(SSL_SCORE~RACE_CODE_CD)"
   ]
  },
  {
   "cell_type": "code",
   "execution_count": 9,
   "metadata": {},
   "outputs": [
    {
     "data": {
      "text/plain": [
       "\n",
       "\tWelch Two Sample t-test\n",
       "\n",
       "data:  SSL_SCORE_RANK by RACE_CODE_CD\n",
       "t = -15.432, df = 20800, p-value < 2.2e-16\n",
       "alternative hypothesis: true difference in means is not equal to 0\n",
       "95 percent confidence interval:\n",
       " -3255.268 -2521.551\n",
       "sample estimates:\n",
       "mean in group 0 mean in group 1 \n",
       "       369161.6        372050.0 \n"
      ]
     },
     "metadata": {},
     "output_type": "display_data"
    }
   ],
   "source": [
    "# T-test without PSM for SSL_SCORE_RANK and RACE_CODE_CD\n",
    "t.test(SSL_SCORE_RANK~RACE_CODE_CD)"
   ]
  },
  {
   "cell_type": "code",
   "execution_count": 10,
   "metadata": {
    "collapsed": true
   },
   "outputs": [],
   "source": [
    "mod_match <- matchit(RACE_CODE_CD ~ PREDICTOR_RAT_VICTIM_SHOOTING_INCIDENTS + PREDICTOR_RAT_VICTIM_BATTERY_OR_ASSAULT + \n",
    "            PREDICTOR_RAT_ARRESTS_VIOLENT_OFFENSES + PREDICTOR_RAT_GANG_AFFILIATION + PREDICTOR_RAT_NARCOTIC_ARRESTS + PREDICTOR_RAT_TREND_IN_CRIMINAL_ACTIVITY +\n",
    "            PREDICTOR_RAT_UUW_ARRESTS,\n",
    "                     method = \"nearest\", data = complete_data)"
   ]
  },
  {
   "cell_type": "code",
   "execution_count": 11,
   "metadata": {},
   "outputs": [
    {
     "data": {
      "text/plain": [
       "\n",
       "Call: \n",
       "matchit(formula = RACE_CODE_CD ~ PREDICTOR_RAT_VICTIM_SHOOTING_INCIDENTS + \n",
       "    PREDICTOR_RAT_VICTIM_BATTERY_OR_ASSAULT + PREDICTOR_RAT_ARRESTS_VIOLENT_OFFENSES + \n",
       "    PREDICTOR_RAT_GANG_AFFILIATION + PREDICTOR_RAT_NARCOTIC_ARRESTS + \n",
       "    PREDICTOR_RAT_TREND_IN_CRIMINAL_ACTIVITY + PREDICTOR_RAT_UUW_ARRESTS, \n",
       "    data = complete_data, method = \"nearest\")\n",
       "\n",
       "Sample sizes:\n",
       "          Control Treated\n",
       "All         20482    8573\n",
       "Matched      8573    8573\n",
       "Unmatched   11909       0\n",
       "Discarded       0       0\n"
      ]
     },
     "metadata": {},
     "output_type": "display_data"
    }
   ],
   "source": [
    "mod_match"
   ]
  },
  {
   "cell_type": "code",
   "execution_count": 12,
   "metadata": {
    "collapsed": true
   },
   "outputs": [],
   "source": [
    "matched <- match.data(mod_match)\n",
    "matched_copy<-matched"
   ]
  },
  {
   "cell_type": "code",
   "execution_count": 13,
   "metadata": {},
   "outputs": [
    {
     "name": "stdout",
     "output_type": "stream",
     "text": [
      "[1] \"To identify the units, use first mouse button; to stop, use second.\"\n"
     ]
    },
    {
     "data": {
      "text/html": [],
      "text/latex": [],
      "text/markdown": [],
      "text/plain": [
       "integer(0)"
      ]
     },
     "metadata": {},
     "output_type": "display_data"
    },
    {
     "data": {
      "image/png": "[encoded data removed]",
      "text/plain": [
       "Plot with title \"Distribution of Propensity Scores\""
      ]
     },
     "metadata": {},
     "output_type": "display_data"
    }
   ],
   "source": [
    "plot(mod_match, type = \"jitter\")"
   ]
  },
  {
   "cell_type": "code",
   "execution_count": 14,
   "metadata": {},
   "outputs": [
    {
     "data": {
      "image/png": "[encoded data removed]",
      "text/plain": [
       "Plot with title \"Matched Control\""
      ]
     },
     "metadata": {},
     "output_type": "display_data"
    }
   ],
   "source": [
    "plot(mod_match, type = \"hist\")"
   ]
  },
  {
   "cell_type": "code",
   "execution_count": 15,
   "metadata": {},
   "outputs": [
    {
     "data": {
      "text/html": [
       "<table>\n",
       "<thead><tr><th></th><th scope=col>SSL_SCORE</th><th scope=col>SSL_SCORE_RANK</th><th scope=col>PREDICTOR_RAT_AGE_AT_LATEST_ARREST</th><th scope=col>PREDICTOR_RAT_VICTIM_SHOOTING_INCIDENTS</th><th scope=col>PREDICTOR_RAT_VICTIM_BATTERY_OR_ASSAULT</th><th scope=col>PREDICTOR_RAT_ARRESTS_VIOLENT_OFFENSES</th><th scope=col>PREDICTOR_RAT_GANG_AFFILIATION</th><th scope=col>PREDICTOR_RAT_NARCOTIC_ARRESTS</th><th scope=col>PREDICTOR_RAT_TREND_IN_CRIMINAL_ACTIVITY</th><th scope=col>PREDICTOR_RAT_UUW_ARRESTS</th><th scope=col>RACE_CODE_CD</th><th scope=col>distance</th><th scope=col>weights</th></tr></thead>\n",
       "<tbody>\n",
       "\t<tr><th scope=row>1</th><td>346        </td><td> 33486     </td><td>50-60      </td><td>0          </td><td>5          </td><td>0          </td><td>0          </td><td>0          </td><td>-0.8       </td><td>0          </td><td>1          </td><td>0.003183122</td><td>1          </td></tr>\n",
       "\t<tr><th scope=row>5</th><td>310        </td><td>136256     </td><td>50-60      </td><td>0          </td><td>0          </td><td>1          </td><td>0          </td><td>1          </td><td> 0.5       </td><td>0          </td><td>1          </td><td>0.154782419</td><td>1          </td></tr>\n",
       "\t<tr><th scope=row>22</th><td>276        </td><td>232534     </td><td>50-60      </td><td>0          </td><td>0          </td><td>0          </td><td>0          </td><td>0          </td><td> 0.3       </td><td>0          </td><td>0          </td><td>0.413497594</td><td>1          </td></tr>\n",
       "\t<tr><th scope=row>23</th><td>276        </td><td>232534     </td><td>50-60      </td><td>0          </td><td>0          </td><td>0          </td><td>0          </td><td>0          </td><td> 0.6       </td><td>0          </td><td>1          </td><td>0.433833726</td><td>1          </td></tr>\n",
       "\t<tr><th scope=row>30</th><td>272        </td><td>240559     </td><td>50-60      </td><td>1          </td><td>1          </td><td>1          </td><td>0          </td><td>0          </td><td> 0.3       </td><td>1          </td><td>0          </td><td>0.016723600</td><td>1          </td></tr>\n",
       "\t<tr><th scope=row>36</th><td>269        </td><td>248681     </td><td>50-60      </td><td>0          </td><td>2          </td><td>0          </td><td>0          </td><td>0          </td><td> 0.7       </td><td>0          </td><td>0          </td><td>0.093201135</td><td>1          </td></tr>\n",
       "</tbody>\n",
       "</table>\n"
      ],
      "text/latex": [
       "\\begin{tabular}{r|lllllllllllll}\n",
       "  & SSL\\_SCORE & SSL\\_SCORE\\_RANK & PREDICTOR\\_RAT\\_AGE\\_AT\\_LATEST\\_ARREST & PREDICTOR\\_RAT\\_VICTIM\\_SHOOTING\\_INCIDENTS & PREDICTOR\\_RAT\\_VICTIM\\_BATTERY\\_OR\\_ASSAULT & PREDICTOR\\_RAT\\_ARRESTS\\_VIOLENT\\_OFFENSES & PREDICTOR\\_RAT\\_GANG\\_AFFILIATION & PREDICTOR\\_RAT\\_NARCOTIC\\_ARRESTS & PREDICTOR\\_RAT\\_TREND\\_IN\\_CRIMINAL\\_ACTIVITY & PREDICTOR\\_RAT\\_UUW\\_ARRESTS & RACE\\_CODE\\_CD & distance & weights\\\\\n",
       "\\hline\n",
       "\t1 & 346         &  33486      & 50-60       & 0           & 5           & 0           & 0           & 0           & -0.8        & 0           & 1           & 0.003183122 & 1          \\\\\n",
       "\t5 & 310         & 136256      & 50-60       & 0           & 0           & 1           & 0           & 1           &  0.5        & 0           & 1           & 0.154782419 & 1          \\\\\n",
       "\t22 & 276         & 232534      & 50-60       & 0           & 0           & 0           & 0           & 0           &  0.3        & 0           & 0           & 0.413497594 & 1          \\\\\n",
       "\t23 & 276         & 232534      & 50-60       & 0           & 0           & 0           & 0           & 0           &  0.6        & 0           & 1           & 0.433833726 & 1          \\\\\n",
       "\t30 & 272         & 240559      & 50-60       & 1           & 1           & 1           & 0           & 0           &  0.3        & 1           & 0           & 0.016723600 & 1          \\\\\n",
       "\t36 & 269         & 248681      & 50-60       & 0           & 2           & 0           & 0           & 0           &  0.7        & 0           & 0           & 0.093201135 & 1          \\\\\n",
       "\\end{tabular}\n"
      ],
      "text/markdown": [
       "\n",
       "| <!--/--> | SSL_SCORE | SSL_SCORE_RANK | PREDICTOR_RAT_AGE_AT_LATEST_ARREST | PREDICTOR_RAT_VICTIM_SHOOTING_INCIDENTS | PREDICTOR_RAT_VICTIM_BATTERY_OR_ASSAULT | PREDICTOR_RAT_ARRESTS_VIOLENT_OFFENSES | PREDICTOR_RAT_GANG_AFFILIATION | PREDICTOR_RAT_NARCOTIC_ARRESTS | PREDICTOR_RAT_TREND_IN_CRIMINAL_ACTIVITY | PREDICTOR_RAT_UUW_ARRESTS | RACE_CODE_CD | distance | weights | \n",
       "|---|---|---|---|---|---|\n",
       "| 1 | 346         |  33486      | 50-60       | 0           | 5           | 0           | 0           | 0           | -0.8        | 0           | 1           | 0.003183122 | 1           | \n",
       "| 5 | 310         | 136256      | 50-60       | 0           | 0           | 1           | 0           | 1           |  0.5        | 0           | 1           | 0.154782419 | 1           | \n",
       "| 22 | 276         | 232534      | 50-60       | 0           | 0           | 0           | 0           | 0           |  0.3        | 0           | 0           | 0.413497594 | 1           | \n",
       "| 23 | 276         | 232534      | 50-60       | 0           | 0           | 0           | 0           | 0           |  0.6        | 0           | 1           | 0.433833726 | 1           | \n",
       "| 30 | 272         | 240559      | 50-60       | 1           | 1           | 1           | 0           | 0           |  0.3        | 1           | 0           | 0.016723600 | 1           | \n",
       "| 36 | 269         | 248681      | 50-60       | 0           | 2           | 0           | 0           | 0           |  0.7        | 0           | 0           | 0.093201135 | 1           | \n",
       "\n",
       "\n"
      ],
      "text/plain": [
       "   SSL_SCORE SSL_SCORE_RANK PREDICTOR_RAT_AGE_AT_LATEST_ARREST\n",
       "1  346        33486         50-60                             \n",
       "5  310       136256         50-60                             \n",
       "22 276       232534         50-60                             \n",
       "23 276       232534         50-60                             \n",
       "30 272       240559         50-60                             \n",
       "36 269       248681         50-60                             \n",
       "   PREDICTOR_RAT_VICTIM_SHOOTING_INCIDENTS\n",
       "1  0                                      \n",
       "5  0                                      \n",
       "22 0                                      \n",
       "23 0                                      \n",
       "30 1                                      \n",
       "36 0                                      \n",
       "   PREDICTOR_RAT_VICTIM_BATTERY_OR_ASSAULT\n",
       "1  5                                      \n",
       "5  0                                      \n",
       "22 0                                      \n",
       "23 0                                      \n",
       "30 1                                      \n",
       "36 2                                      \n",
       "   PREDICTOR_RAT_ARRESTS_VIOLENT_OFFENSES PREDICTOR_RAT_GANG_AFFILIATION\n",
       "1  0                                      0                             \n",
       "5  1                                      0                             \n",
       "22 0                                      0                             \n",
       "23 0                                      0                             \n",
       "30 1                                      0                             \n",
       "36 0                                      0                             \n",
       "   PREDICTOR_RAT_NARCOTIC_ARRESTS PREDICTOR_RAT_TREND_IN_CRIMINAL_ACTIVITY\n",
       "1  0                              -0.8                                    \n",
       "5  1                               0.5                                    \n",
       "22 0                               0.3                                    \n",
       "23 0                               0.6                                    \n",
       "30 0                               0.3                                    \n",
       "36 0                               0.7                                    \n",
       "   PREDICTOR_RAT_UUW_ARRESTS RACE_CODE_CD distance    weights\n",
       "1  0                         1            0.003183122 1      \n",
       "5  0                         1            0.154782419 1      \n",
       "22 0                         0            0.413497594 1      \n",
       "23 0                         1            0.433833726 1      \n",
       "30 1                         0            0.016723600 1      \n",
       "36 0                         0            0.093201135 1      "
      ]
     },
     "metadata": {},
     "output_type": "display_data"
    }
   ],
   "source": [
    "head(matched)"
   ]
  },
  {
   "cell_type": "code",
   "execution_count": 16,
   "metadata": {},
   "outputs": [
    {
     "name": "stderr",
     "output_type": "stream",
     "text": [
      "The following objects are masked from complete_data:\n",
      "\n",
      "    PREDICTOR_RAT_AGE_AT_LATEST_ARREST,\n",
      "    PREDICTOR_RAT_ARRESTS_VIOLENT_OFFENSES,\n",
      "    PREDICTOR_RAT_GANG_AFFILIATION, PREDICTOR_RAT_NARCOTIC_ARRESTS,\n",
      "    PREDICTOR_RAT_TREND_IN_CRIMINAL_ACTIVITY,\n",
      "    PREDICTOR_RAT_UUW_ARRESTS, PREDICTOR_RAT_VICTIM_BATTERY_OR_ASSAULT,\n",
      "    PREDICTOR_RAT_VICTIM_SHOOTING_INCIDENTS, RACE_CODE_CD, SSL_SCORE,\n",
      "    SSL_SCORE_RANK\n",
      "\n"
     ]
    }
   ],
   "source": [
    "# Doing T - test on matched records\n",
    "attach(matched)"
   ]
  },
  {
   "cell_type": "code",
   "execution_count": 17,
   "metadata": {
    "collapsed": true
   },
   "outputs": [],
   "source": [
    "race_black <-subset(matched,RACE_CODE_CD == 0)\n",
    "race_white<-subset(matched,RACE_CODE_CD == 1)\n"
   ]
  },
  {
   "cell_type": "code",
   "execution_count": 18,
   "metadata": {},
   "outputs": [
    {
     "data": {
      "text/plain": [
       "\n",
       "\tWelch Two Sample t-test\n",
       "\n",
       "data:  SSL_SCORE by RACE_CODE_CD\n",
       "t = -2.2496, df = 17143, p-value = 0.02448\n",
       "alternative hypothesis: true difference in means is not equal to 0\n",
       "95 percent confidence interval:\n",
       " -0.95714676 -0.06583236\n",
       "sample estimates:\n",
       "mean in group 0 mean in group 1 \n",
       "       178.9124        179.4239 \n"
      ]
     },
     "metadata": {},
     "output_type": "display_data"
    }
   ],
   "source": [
    "t.test(SSL_SCORE~RACE_CODE_CD)"
   ]
  },
  {
   "cell_type": "code",
   "execution_count": 19,
   "metadata": {},
   "outputs": [
    {
     "data": {
      "text/plain": [
       "\n",
       "\tWelch Two Sample t-test\n",
       "\n",
       "data:  SSL_SCORE_RANK by RACE_CODE_CD\n",
       "t = 2.2172, df = 17076, p-value = 0.02662\n",
       "alternative hypothesis: true difference in means is not equal to 0\n",
       "95 percent confidence interval:\n",
       "  50.36157 818.33107\n",
       "sample estimates:\n",
       "mean in group 0 mean in group 1 \n",
       "       372484.3        372050.0 \n"
      ]
     },
     "metadata": {},
     "output_type": "display_data"
    }
   ],
   "source": [
    "t.test(SSL_SCORE_RANK~RACE_CODE_CD)"
   ]
  }
 ],
 "metadata": {
  "kernelspec": {
   "display_name": "R",
   "language": "R",
   "name": "ir"
  },
  "language_info": {
   "codemirror_mode": "r",
   "file_extension": ".r",
   "mimetype": "text/x-r-source",
   "name": "R",
   "pygments_lexer": "r",
   "version": "3.3.2"
  }
 },
 "nbformat": 4,
 "nbformat_minor": 2
}
