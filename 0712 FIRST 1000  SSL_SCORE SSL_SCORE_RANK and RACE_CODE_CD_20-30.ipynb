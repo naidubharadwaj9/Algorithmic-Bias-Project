{
 "cells": [
  {
   "cell_type": "code",
   "execution_count": 1,
   "metadata": {},
   "outputs": [
    {
     "name": "stdout",
     "output_type": "stream",
     "text": [
      "The Number of Rows in Initial Data is 176"
     ]
    }
   ],
   "source": [
    "raw_data <- read.csv(\"SSL_FIRST_1000_RACE_CODE_20_30.csv\", sep=\",\", header=T, strip.white = T, na.strings = c(\"NA\",\"NaN\",\"\",\"?\"))\n",
    "#Converting the \".\" in column names to \"_\"\n",
    "names(raw_data)<-gsub(\"\\\\.\", \"_\", names(raw_data))\n",
    "cat(\"The Number of Rows in Initial Data is\", nrow(raw_data))"
   ]
  },
  {
   "cell_type": "code",
   "execution_count": 2,
   "metadata": {
    "collapsed": true
   },
   "outputs": [],
   "source": [
    "final_features<-raw_data[,c('SSL_SCORE','SSL_SCORE_RANK','PREDICTOR_RAT_AGE_AT_LATEST_ARREST','PREDICTOR_RAT_VICTIM_SHOOTING_INCIDENTS',\n",
    "                            'PREDICTOR_RAT_VICTIM_BATTERY_OR_ASSAULT','PREDICTOR_RAT_ARRESTS_VIOLENT_OFFENSES','PREDICTOR_RAT_GANG_AFFILIATION', \n",
    "                           'PREDICTOR_RAT_NARCOTIC_ARRESTS','PREDICTOR_RAT_TREND_IN_CRIMINAL_ACTIVITY','PREDICTOR_RAT_UUW_ARRESTS','RACE_CODE_CD')]"
   ]
  },
  {
   "cell_type": "code",
   "execution_count": 3,
   "metadata": {},
   "outputs": [
    {
     "data": {
      "text/html": [
       "176"
      ],
      "text/latex": [
       "176"
      ],
      "text/markdown": [
       "176"
      ],
      "text/plain": [
       "[1] 176"
      ]
     },
     "metadata": {},
     "output_type": "display_data"
    }
   ],
   "source": [
    "complete_data <- final_features[complete.cases(final_features),]\n",
    "nrow(complete_data)"
   ]
  },
  {
   "cell_type": "code",
   "execution_count": 4,
   "metadata": {},
   "outputs": [
    {
     "data": {
      "text/html": [
       "<table>\n",
       "<thead><tr><th scope=col>SSL_SCORE</th><th scope=col>SSL_SCORE_RANK</th><th scope=col>PREDICTOR_RAT_AGE_AT_LATEST_ARREST</th><th scope=col>PREDICTOR_RAT_VICTIM_SHOOTING_INCIDENTS</th><th scope=col>PREDICTOR_RAT_VICTIM_BATTERY_OR_ASSAULT</th><th scope=col>PREDICTOR_RAT_ARRESTS_VIOLENT_OFFENSES</th><th scope=col>PREDICTOR_RAT_GANG_AFFILIATION</th><th scope=col>PREDICTOR_RAT_NARCOTIC_ARRESTS</th><th scope=col>PREDICTOR_RAT_TREND_IN_CRIMINAL_ACTIVITY</th><th scope=col>PREDICTOR_RAT_UUW_ARRESTS</th><th scope=col>RACE_CODE_CD</th></tr></thead>\n",
       "<tbody>\n",
       "\t<tr><td>500  </td><td>1    </td><td>20-30</td><td>0    </td><td>1    </td><td>4    </td><td>1    </td><td>1    </td><td> 1.0 </td><td>1    </td><td>0    </td></tr>\n",
       "\t<tr><td>500  </td><td>1    </td><td>20-30</td><td>4    </td><td>3    </td><td>0    </td><td>1    </td><td>0    </td><td>-1.1 </td><td>0    </td><td>1    </td></tr>\n",
       "\t<tr><td>500  </td><td>1    </td><td>20-30</td><td>3    </td><td>5    </td><td>2    </td><td>1    </td><td>0    </td><td> 0.4 </td><td>1    </td><td>0    </td></tr>\n",
       "\t<tr><td>500  </td><td>1    </td><td>20-30</td><td>0    </td><td>5    </td><td>1    </td><td>0    </td><td>1    </td><td> 0.7 </td><td>1    </td><td>0    </td></tr>\n",
       "\t<tr><td>500  </td><td>1    </td><td>20-30</td><td>4    </td><td>4    </td><td>1    </td><td>1    </td><td>1    </td><td>-0.3 </td><td>0    </td><td>0    </td></tr>\n",
       "\t<tr><td>500  </td><td>1    </td><td>20-30</td><td>1    </td><td>0    </td><td>3    </td><td>1    </td><td>8    </td><td> 0.2 </td><td>3    </td><td>0    </td></tr>\n",
       "</tbody>\n",
       "</table>\n"
      ],
      "text/latex": [
       "\\begin{tabular}{r|lllllllllll}\n",
       " SSL\\_SCORE & SSL\\_SCORE\\_RANK & PREDICTOR\\_RAT\\_AGE\\_AT\\_LATEST\\_ARREST & PREDICTOR\\_RAT\\_VICTIM\\_SHOOTING\\_INCIDENTS & PREDICTOR\\_RAT\\_VICTIM\\_BATTERY\\_OR\\_ASSAULT & PREDICTOR\\_RAT\\_ARRESTS\\_VIOLENT\\_OFFENSES & PREDICTOR\\_RAT\\_GANG\\_AFFILIATION & PREDICTOR\\_RAT\\_NARCOTIC\\_ARRESTS & PREDICTOR\\_RAT\\_TREND\\_IN\\_CRIMINAL\\_ACTIVITY & PREDICTOR\\_RAT\\_UUW\\_ARRESTS & RACE\\_CODE\\_CD\\\\\n",
       "\\hline\n",
       "\t 500   & 1     & 20-30 & 0     & 1     & 4     & 1     & 1     &  1.0  & 1     & 0    \\\\\n",
       "\t 500   & 1     & 20-30 & 4     & 3     & 0     & 1     & 0     & -1.1  & 0     & 1    \\\\\n",
       "\t 500   & 1     & 20-30 & 3     & 5     & 2     & 1     & 0     &  0.4  & 1     & 0    \\\\\n",
       "\t 500   & 1     & 20-30 & 0     & 5     & 1     & 0     & 1     &  0.7  & 1     & 0    \\\\\n",
       "\t 500   & 1     & 20-30 & 4     & 4     & 1     & 1     & 1     & -0.3  & 0     & 0    \\\\\n",
       "\t 500   & 1     & 20-30 & 1     & 0     & 3     & 1     & 8     &  0.2  & 3     & 0    \\\\\n",
       "\\end{tabular}\n"
      ],
      "text/markdown": [
       "\n",
       "SSL_SCORE | SSL_SCORE_RANK | PREDICTOR_RAT_AGE_AT_LATEST_ARREST | PREDICTOR_RAT_VICTIM_SHOOTING_INCIDENTS | PREDICTOR_RAT_VICTIM_BATTERY_OR_ASSAULT | PREDICTOR_RAT_ARRESTS_VIOLENT_OFFENSES | PREDICTOR_RAT_GANG_AFFILIATION | PREDICTOR_RAT_NARCOTIC_ARRESTS | PREDICTOR_RAT_TREND_IN_CRIMINAL_ACTIVITY | PREDICTOR_RAT_UUW_ARRESTS | RACE_CODE_CD | \n",
       "|---|---|---|---|---|---|\n",
       "| 500   | 1     | 20-30 | 0     | 1     | 4     | 1     | 1     |  1.0  | 1     | 0     | \n",
       "| 500   | 1     | 20-30 | 4     | 3     | 0     | 1     | 0     | -1.1  | 0     | 1     | \n",
       "| 500   | 1     | 20-30 | 3     | 5     | 2     | 1     | 0     |  0.4  | 1     | 0     | \n",
       "| 500   | 1     | 20-30 | 0     | 5     | 1     | 0     | 1     |  0.7  | 1     | 0     | \n",
       "| 500   | 1     | 20-30 | 4     | 4     | 1     | 1     | 1     | -0.3  | 0     | 0     | \n",
       "| 500   | 1     | 20-30 | 1     | 0     | 3     | 1     | 8     |  0.2  | 3     | 0     | \n",
       "\n",
       "\n"
      ],
      "text/plain": [
       "  SSL_SCORE SSL_SCORE_RANK PREDICTOR_RAT_AGE_AT_LATEST_ARREST\n",
       "1 500       1              20-30                             \n",
       "2 500       1              20-30                             \n",
       "3 500       1              20-30                             \n",
       "4 500       1              20-30                             \n",
       "5 500       1              20-30                             \n",
       "6 500       1              20-30                             \n",
       "  PREDICTOR_RAT_VICTIM_SHOOTING_INCIDENTS\n",
       "1 0                                      \n",
       "2 4                                      \n",
       "3 3                                      \n",
       "4 0                                      \n",
       "5 4                                      \n",
       "6 1                                      \n",
       "  PREDICTOR_RAT_VICTIM_BATTERY_OR_ASSAULT\n",
       "1 1                                      \n",
       "2 3                                      \n",
       "3 5                                      \n",
       "4 5                                      \n",
       "5 4                                      \n",
       "6 0                                      \n",
       "  PREDICTOR_RAT_ARRESTS_VIOLENT_OFFENSES PREDICTOR_RAT_GANG_AFFILIATION\n",
       "1 4                                      1                             \n",
       "2 0                                      1                             \n",
       "3 2                                      1                             \n",
       "4 1                                      0                             \n",
       "5 1                                      1                             \n",
       "6 3                                      1                             \n",
       "  PREDICTOR_RAT_NARCOTIC_ARRESTS PREDICTOR_RAT_TREND_IN_CRIMINAL_ACTIVITY\n",
       "1 1                               1.0                                    \n",
       "2 0                              -1.1                                    \n",
       "3 0                               0.4                                    \n",
       "4 1                               0.7                                    \n",
       "5 1                              -0.3                                    \n",
       "6 8                               0.2                                    \n",
       "  PREDICTOR_RAT_UUW_ARRESTS RACE_CODE_CD\n",
       "1 1                         0           \n",
       "2 0                         1           \n",
       "3 1                         0           \n",
       "4 1                         0           \n",
       "5 0                         0           \n",
       "6 3                         0           "
      ]
     },
     "metadata": {},
     "output_type": "display_data"
    }
   ],
   "source": [
    "head(complete_data)"
   ]
  },
  {
   "cell_type": "code",
   "execution_count": 5,
   "metadata": {},
   "outputs": [
    {
     "name": "stderr",
     "output_type": "stream",
     "text": [
      "Warning message:\n",
      "\"package 'MatchIt' was built under R version 3.3.3\"Warning message:\n",
      "\"package 'dplyr' was built under R version 3.3.3\"\n",
      "Attaching package: 'dplyr'\n",
      "\n",
      "The following objects are masked from 'package:stats':\n",
      "\n",
      "    filter, lag\n",
      "\n",
      "The following objects are masked from 'package:base':\n",
      "\n",
      "    intersect, setdiff, setequal, union\n",
      "\n",
      "Warning message:\n",
      "\"package 'ggplot2' was built under R version 3.3.3\""
     ]
    }
   ],
   "source": [
    "library(MatchIt)\n",
    "library(dplyr)\n",
    "library(ggplot2)"
   ]
  },
  {
   "cell_type": "code",
   "execution_count": 6,
   "metadata": {},
   "outputs": [
    {
     "data": {
      "text/html": [
       "<table>\n",
       "<thead><tr><th scope=col>RACE_CODE_CD</th><th scope=col>NUMBER_OF_PEOPLE</th><th scope=col>MEAN_SSL_SCORE</th><th scope=col>STD_ERROR</th></tr></thead>\n",
       "<tbody>\n",
       "\t<tr><td>0       </td><td>172     </td><td>462.3023</td><td> 1.55403</td></tr>\n",
       "\t<tr><td>1       </td><td>  4     </td><td>474.5000</td><td>14.92481</td></tr>\n",
       "</tbody>\n",
       "</table>\n"
      ],
      "text/latex": [
       "\\begin{tabular}{r|llll}\n",
       " RACE\\_CODE\\_CD & NUMBER\\_OF\\_PEOPLE & MEAN\\_SSL\\_SCORE & STD\\_ERROR\\\\\n",
       "\\hline\n",
       "\t 0        & 172      & 462.3023 &  1.55403\\\\\n",
       "\t 1        &   4      & 474.5000 & 14.92481\\\\\n",
       "\\end{tabular}\n"
      ],
      "text/markdown": [
       "\n",
       "RACE_CODE_CD | NUMBER_OF_PEOPLE | MEAN_SSL_SCORE | STD_ERROR | \n",
       "|---|---|\n",
       "| 0        | 172      | 462.3023 |  1.55403 | \n",
       "| 1        |   4      | 474.5000 | 14.92481 | \n",
       "\n",
       "\n"
      ],
      "text/plain": [
       "  RACE_CODE_CD NUMBER_OF_PEOPLE MEAN_SSL_SCORE STD_ERROR\n",
       "1 0            172              462.3023        1.55403 \n",
       "2 1              4              474.5000       14.92481 "
      ]
     },
     "metadata": {},
     "output_type": "display_data"
    }
   ],
   "source": [
    "complete_data %>%\n",
    "  group_by(RACE_CODE_CD) %>%\n",
    "  summarise(NUMBER_OF_PEOPLE = n(),\n",
    "            MEAN_SSL_SCORE = mean(SSL_SCORE),\n",
    "            STD_ERROR = sd(SSL_SCORE) / sqrt(NUMBER_OF_PEOPLE))"
   ]
  },
  {
   "cell_type": "code",
   "execution_count": 7,
   "metadata": {},
   "outputs": [
    {
     "data": {
      "text/html": [
       "<table>\n",
       "<thead><tr><th scope=col>RACE_CODE_CD</th><th scope=col>NUMBER_OF_PEOPLE</th><th scope=col>MEAN_SSL_SCORE_RANK</th><th scope=col>STD_ERROR</th></tr></thead>\n",
       "<tbody>\n",
       "\t<tr><td>0        </td><td>172      </td><td>543.0698 </td><td> 24.16252</td></tr>\n",
       "\t<tr><td>1        </td><td>  4      </td><td>367.7500 </td><td>218.34276</td></tr>\n",
       "</tbody>\n",
       "</table>\n"
      ],
      "text/latex": [
       "\\begin{tabular}{r|llll}\n",
       " RACE\\_CODE\\_CD & NUMBER\\_OF\\_PEOPLE & MEAN\\_SSL\\_SCORE\\_RANK & STD\\_ERROR\\\\\n",
       "\\hline\n",
       "\t 0         & 172       & 543.0698  &  24.16252\\\\\n",
       "\t 1         &   4       & 367.7500  & 218.34276\\\\\n",
       "\\end{tabular}\n"
      ],
      "text/markdown": [
       "\n",
       "RACE_CODE_CD | NUMBER_OF_PEOPLE | MEAN_SSL_SCORE_RANK | STD_ERROR | \n",
       "|---|---|\n",
       "| 0         | 172       | 543.0698  |  24.16252 | \n",
       "| 1         |   4       | 367.7500  | 218.34276 | \n",
       "\n",
       "\n"
      ],
      "text/plain": [
       "  RACE_CODE_CD NUMBER_OF_PEOPLE MEAN_SSL_SCORE_RANK STD_ERROR\n",
       "1 0            172              543.0698             24.16252\n",
       "2 1              4              367.7500            218.34276"
      ]
     },
     "metadata": {},
     "output_type": "display_data"
    }
   ],
   "source": [
    "# For SSL_SCORE_RANK\n",
    "complete_data %>%\n",
    "  group_by(RACE_CODE_CD) %>%\n",
    "  summarise(NUMBER_OF_PEOPLE = n(),\n",
    "            MEAN_SSL_SCORE_RANK = mean(SSL_SCORE_RANK),\n",
    "            STD_ERROR = sd(SSL_SCORE_RANK) / sqrt(NUMBER_OF_PEOPLE))"
   ]
  },
  {
   "cell_type": "code",
   "execution_count": 8,
   "metadata": {},
   "outputs": [
    {
     "data": {
      "text/plain": [
       "\n",
       "\tWelch Two Sample t-test\n",
       "\n",
       "data:  SSL_SCORE by RACE_CODE_CD\n",
       "t = -0.81288, df = 3.0654, p-value = 0.4746\n",
       "alternative hypothesis: true difference in means is not equal to 0\n",
       "95 percent confidence interval:\n",
       " -59.38066  34.98531\n",
       "sample estimates:\n",
       "mean in group 0 mean in group 1 \n",
       "       462.3023        474.5000 \n"
      ]
     },
     "metadata": {},
     "output_type": "display_data"
    }
   ],
   "source": [
    "# T-test without PSM for SSL_SCORE and RACE_CODE_CD\n",
    "attach(complete_data)\n",
    "t.test(SSL_SCORE~RACE_CODE_CD)"
   ]
  },
  {
   "cell_type": "code",
   "execution_count": 9,
   "metadata": {},
   "outputs": [
    {
     "data": {
      "text/plain": [
       "\n",
       "\tWelch Two Sample t-test\n",
       "\n",
       "data:  SSL_SCORE_RANK by RACE_CODE_CD\n",
       "t = 0.79808, df = 3.0739, p-value = 0.4819\n",
       "alternative hypothesis: true difference in means is not equal to 0\n",
       "95 percent confidence interval:\n",
       " -514.3710  865.0105\n",
       "sample estimates:\n",
       "mean in group 0 mean in group 1 \n",
       "       543.0698        367.7500 \n"
      ]
     },
     "metadata": {},
     "output_type": "display_data"
    }
   ],
   "source": [
    "# T-test without PSM for SSL_SCORE_RANK and RACE_CODE_CD\n",
    "t.test(SSL_SCORE_RANK~RACE_CODE_CD)"
   ]
  },
  {
   "cell_type": "code",
   "execution_count": 10,
   "metadata": {},
   "outputs": [
    {
     "name": "stderr",
     "output_type": "stream",
     "text": [
      "Warning message:\n",
      "\"glm.fit: fitted probabilities numerically 0 or 1 occurred\""
     ]
    }
   ],
   "source": [
    "mod_match <- matchit(RACE_CODE_CD ~ PREDICTOR_RAT_VICTIM_SHOOTING_INCIDENTS + PREDICTOR_RAT_VICTIM_BATTERY_OR_ASSAULT + \n",
    "            PREDICTOR_RAT_ARRESTS_VIOLENT_OFFENSES + PREDICTOR_RAT_GANG_AFFILIATION + PREDICTOR_RAT_NARCOTIC_ARRESTS + PREDICTOR_RAT_TREND_IN_CRIMINAL_ACTIVITY +\n",
    "            PREDICTOR_RAT_UUW_ARRESTS,\n",
    "                     method = \"nearest\", data = complete_data)"
   ]
  },
  {
   "cell_type": "code",
   "execution_count": 11,
   "metadata": {},
   "outputs": [
    {
     "data": {
      "text/plain": [
       "\n",
       "Call: \n",
       "matchit(formula = RACE_CODE_CD ~ PREDICTOR_RAT_VICTIM_SHOOTING_INCIDENTS + \n",
       "    PREDICTOR_RAT_VICTIM_BATTERY_OR_ASSAULT + PREDICTOR_RAT_ARRESTS_VIOLENT_OFFENSES + \n",
       "    PREDICTOR_RAT_GANG_AFFILIATION + PREDICTOR_RAT_NARCOTIC_ARRESTS + \n",
       "    PREDICTOR_RAT_TREND_IN_CRIMINAL_ACTIVITY + PREDICTOR_RAT_UUW_ARRESTS, \n",
       "    data = complete_data, method = \"nearest\")\n",
       "\n",
       "Sample sizes:\n",
       "          Control Treated\n",
       "All           172       4\n",
       "Matched         4       4\n",
       "Unmatched     168       0\n",
       "Discarded       0       0\n"
      ]
     },
     "metadata": {},
     "output_type": "display_data"
    }
   ],
   "source": [
    "mod_match"
   ]
  },
  {
   "cell_type": "code",
   "execution_count": 12,
   "metadata": {
    "collapsed": true
   },
   "outputs": [],
   "source": [
    "matched <- match.data(mod_match)\n",
    "matched_copy<-matched"
   ]
  },
  {
   "cell_type": "code",
   "execution_count": 13,
   "metadata": {},
   "outputs": [
    {
     "name": "stdout",
     "output_type": "stream",
     "text": [
      "[1] \"To identify the units, use first mouse button; to stop, use second.\"\n"
     ]
    },
    {
     "data": {
      "text/html": [],
      "text/latex": [],
      "text/markdown": [],
      "text/plain": [
       "integer(0)"
      ]
     },
     "metadata": {},
     "output_type": "display_data"
    },
    {
     "data": {
      "image/png": "[encoded data removed]",
      "text/plain": [
       "Plot with title \"Distribution of Propensity Scores\""
      ]
     },
     "metadata": {},
     "output_type": "display_data"
    }
   ],
   "source": [
    "plot(mod_match, type = \"jitter\")"
   ]
  },
  {
   "cell_type": "code",
   "execution_count": 14,
   "metadata": {},
   "outputs": [
    {
     "data": {
      "image/png": "[encoded data removed]",
      "text/plain": [
       "Plot with title \"Matched Control\""
      ]
     },
     "metadata": {},
     "output_type": "display_data"
    }
   ],
   "source": [
    "plot(mod_match, type = \"hist\")"
   ]
  },
  {
   "cell_type": "code",
   "execution_count": 15,
   "metadata": {},
   "outputs": [
    {
     "data": {
      "text/html": [
       "<table>\n",
       "<thead><tr><th></th><th scope=col>SSL_SCORE</th><th scope=col>SSL_SCORE_RANK</th><th scope=col>PREDICTOR_RAT_AGE_AT_LATEST_ARREST</th><th scope=col>PREDICTOR_RAT_VICTIM_SHOOTING_INCIDENTS</th><th scope=col>PREDICTOR_RAT_VICTIM_BATTERY_OR_ASSAULT</th><th scope=col>PREDICTOR_RAT_ARRESTS_VIOLENT_OFFENSES</th><th scope=col>PREDICTOR_RAT_GANG_AFFILIATION</th><th scope=col>PREDICTOR_RAT_NARCOTIC_ARRESTS</th><th scope=col>PREDICTOR_RAT_TREND_IN_CRIMINAL_ACTIVITY</th><th scope=col>PREDICTOR_RAT_UUW_ARRESTS</th><th scope=col>RACE_CODE_CD</th><th scope=col>distance</th><th scope=col>weights</th></tr></thead>\n",
       "<tbody>\n",
       "\t<tr><th scope=row>2</th><td>500       </td><td>  1       </td><td>20-30     </td><td>4         </td><td>3         </td><td>0         </td><td>1         </td><td>0         </td><td>-1.1      </td><td>0         </td><td>1         </td><td>0.12369997</td><td>1         </td></tr>\n",
       "\t<tr><th scope=row>15</th><td>500       </td><td>  1       </td><td>20-30     </td><td>0         </td><td>9         </td><td>1         </td><td>1         </td><td>0         </td><td> 1.0      </td><td>0         </td><td>1         </td><td>0.51405285</td><td>1         </td></tr>\n",
       "\t<tr><th scope=row>16</th><td>500       </td><td>  1       </td><td>20-30     </td><td>1         </td><td>9         </td><td>1         </td><td>1         </td><td>0         </td><td> 0.7      </td><td>0         </td><td>0         </td><td>0.52719253</td><td>1         </td></tr>\n",
       "\t<tr><th scope=row>78</th><td>460       </td><td>512       </td><td>20-30     </td><td>1         </td><td>1         </td><td>0         </td><td>1         </td><td>2         </td><td>-2.4      </td><td>0         </td><td>0         </td><td>0.01967941</td><td>1         </td></tr>\n",
       "\t<tr><th scope=row>90</th><td>456       </td><td>579       </td><td>20-30     </td><td>3         </td><td>3         </td><td>0         </td><td>1         </td><td>0         </td><td>-1.2      </td><td>0         </td><td>0         </td><td>0.11470228</td><td>1         </td></tr>\n",
       "\t<tr><th scope=row>98</th><td>455       </td><td>604       </td><td>20-30     </td><td>2         </td><td>2         </td><td>2         </td><td>1         </td><td>3         </td><td> 0.7      </td><td>0         </td><td>1         </td><td>0.02085105</td><td>1         </td></tr>\n",
       "</tbody>\n",
       "</table>\n"
      ],
      "text/latex": [
       "\\begin{tabular}{r|lllllllllllll}\n",
       "  & SSL\\_SCORE & SSL\\_SCORE\\_RANK & PREDICTOR\\_RAT\\_AGE\\_AT\\_LATEST\\_ARREST & PREDICTOR\\_RAT\\_VICTIM\\_SHOOTING\\_INCIDENTS & PREDICTOR\\_RAT\\_VICTIM\\_BATTERY\\_OR\\_ASSAULT & PREDICTOR\\_RAT\\_ARRESTS\\_VIOLENT\\_OFFENSES & PREDICTOR\\_RAT\\_GANG\\_AFFILIATION & PREDICTOR\\_RAT\\_NARCOTIC\\_ARRESTS & PREDICTOR\\_RAT\\_TREND\\_IN\\_CRIMINAL\\_ACTIVITY & PREDICTOR\\_RAT\\_UUW\\_ARRESTS & RACE\\_CODE\\_CD & distance & weights\\\\\n",
       "\\hline\n",
       "\t2 & 500        &   1        & 20-30      & 4          & 3          & 0          & 1          & 0          & -1.1       & 0          & 1          & 0.12369997 & 1         \\\\\n",
       "\t15 & 500        &   1        & 20-30      & 0          & 9          & 1          & 1          & 0          &  1.0       & 0          & 1          & 0.51405285 & 1         \\\\\n",
       "\t16 & 500        &   1        & 20-30      & 1          & 9          & 1          & 1          & 0          &  0.7       & 0          & 0          & 0.52719253 & 1         \\\\\n",
       "\t78 & 460        & 512        & 20-30      & 1          & 1          & 0          & 1          & 2          & -2.4       & 0          & 0          & 0.01967941 & 1         \\\\\n",
       "\t90 & 456        & 579        & 20-30      & 3          & 3          & 0          & 1          & 0          & -1.2       & 0          & 0          & 0.11470228 & 1         \\\\\n",
       "\t98 & 455        & 604        & 20-30      & 2          & 2          & 2          & 1          & 3          &  0.7       & 0          & 1          & 0.02085105 & 1         \\\\\n",
       "\\end{tabular}\n"
      ],
      "text/markdown": [
       "\n",
       "| <!--/--> | SSL_SCORE | SSL_SCORE_RANK | PREDICTOR_RAT_AGE_AT_LATEST_ARREST | PREDICTOR_RAT_VICTIM_SHOOTING_INCIDENTS | PREDICTOR_RAT_VICTIM_BATTERY_OR_ASSAULT | PREDICTOR_RAT_ARRESTS_VIOLENT_OFFENSES | PREDICTOR_RAT_GANG_AFFILIATION | PREDICTOR_RAT_NARCOTIC_ARRESTS | PREDICTOR_RAT_TREND_IN_CRIMINAL_ACTIVITY | PREDICTOR_RAT_UUW_ARRESTS | RACE_CODE_CD | distance | weights | \n",
       "|---|---|---|---|---|---|\n",
       "| 2 | 500        |   1        | 20-30      | 4          | 3          | 0          | 1          | 0          | -1.1       | 0          | 1          | 0.12369997 | 1          | \n",
       "| 15 | 500        |   1        | 20-30      | 0          | 9          | 1          | 1          | 0          |  1.0       | 0          | 1          | 0.51405285 | 1          | \n",
       "| 16 | 500        |   1        | 20-30      | 1          | 9          | 1          | 1          | 0          |  0.7       | 0          | 0          | 0.52719253 | 1          | \n",
       "| 78 | 460        | 512        | 20-30      | 1          | 1          | 0          | 1          | 2          | -2.4       | 0          | 0          | 0.01967941 | 1          | \n",
       "| 90 | 456        | 579        | 20-30      | 3          | 3          | 0          | 1          | 0          | -1.2       | 0          | 0          | 0.11470228 | 1          | \n",
       "| 98 | 455        | 604        | 20-30      | 2          | 2          | 2          | 1          | 3          |  0.7       | 0          | 1          | 0.02085105 | 1          | \n",
       "\n",
       "\n"
      ],
      "text/plain": [
       "   SSL_SCORE SSL_SCORE_RANK PREDICTOR_RAT_AGE_AT_LATEST_ARREST\n",
       "2  500         1            20-30                             \n",
       "15 500         1            20-30                             \n",
       "16 500         1            20-30                             \n",
       "78 460       512            20-30                             \n",
       "90 456       579            20-30                             \n",
       "98 455       604            20-30                             \n",
       "   PREDICTOR_RAT_VICTIM_SHOOTING_INCIDENTS\n",
       "2  4                                      \n",
       "15 0                                      \n",
       "16 1                                      \n",
       "78 1                                      \n",
       "90 3                                      \n",
       "98 2                                      \n",
       "   PREDICTOR_RAT_VICTIM_BATTERY_OR_ASSAULT\n",
       "2  3                                      \n",
       "15 9                                      \n",
       "16 9                                      \n",
       "78 1                                      \n",
       "90 3                                      \n",
       "98 2                                      \n",
       "   PREDICTOR_RAT_ARRESTS_VIOLENT_OFFENSES PREDICTOR_RAT_GANG_AFFILIATION\n",
       "2  0                                      1                             \n",
       "15 1                                      1                             \n",
       "16 1                                      1                             \n",
       "78 0                                      1                             \n",
       "90 0                                      1                             \n",
       "98 2                                      1                             \n",
       "   PREDICTOR_RAT_NARCOTIC_ARRESTS PREDICTOR_RAT_TREND_IN_CRIMINAL_ACTIVITY\n",
       "2  0                              -1.1                                    \n",
       "15 0                               1.0                                    \n",
       "16 0                               0.7                                    \n",
       "78 2                              -2.4                                    \n",
       "90 0                              -1.2                                    \n",
       "98 3                               0.7                                    \n",
       "   PREDICTOR_RAT_UUW_ARRESTS RACE_CODE_CD distance   weights\n",
       "2  0                         1            0.12369997 1      \n",
       "15 0                         1            0.51405285 1      \n",
       "16 0                         0            0.52719253 1      \n",
       "78 0                         0            0.01967941 1      \n",
       "90 0                         0            0.11470228 1      \n",
       "98 0                         1            0.02085105 1      "
      ]
     },
     "metadata": {},
     "output_type": "display_data"
    }
   ],
   "source": [
    "head(matched)"
   ]
  },
  {
   "cell_type": "code",
   "execution_count": 16,
   "metadata": {},
   "outputs": [
    {
     "name": "stderr",
     "output_type": "stream",
     "text": [
      "The following objects are masked from complete_data:\n",
      "\n",
      "    PREDICTOR_RAT_AGE_AT_LATEST_ARREST,\n",
      "    PREDICTOR_RAT_ARRESTS_VIOLENT_OFFENSES,\n",
      "    PREDICTOR_RAT_GANG_AFFILIATION, PREDICTOR_RAT_NARCOTIC_ARRESTS,\n",
      "    PREDICTOR_RAT_TREND_IN_CRIMINAL_ACTIVITY,\n",
      "    PREDICTOR_RAT_UUW_ARRESTS, PREDICTOR_RAT_VICTIM_BATTERY_OR_ASSAULT,\n",
      "    PREDICTOR_RAT_VICTIM_SHOOTING_INCIDENTS, RACE_CODE_CD, SSL_SCORE,\n",
      "    SSL_SCORE_RANK\n",
      "\n"
     ]
    }
   ],
   "source": [
    "# Doing T - test on matched records\n",
    "options(warn=-1)\n",
    "attach(matched)"
   ]
  },
  {
   "cell_type": "code",
   "execution_count": 17,
   "metadata": {
    "collapsed": true
   },
   "outputs": [],
   "source": [
    "race_black <-subset(matched,RACE_CODE_CD == 0)\n",
    "race_white<-subset(matched,RACE_CODE_CD == 1)"
   ]
  },
  {
   "cell_type": "code",
   "execution_count": 18,
   "metadata": {},
   "outputs": [
    {
     "data": {
      "text/plain": [
       "\n",
       "\tWelch Two Sample t-test\n",
       "\n",
       "data:  SSL_SCORE by RACE_CODE_CD\n",
       "t = -0.36635, df = 5.4668, p-value = 0.7279\n",
       "alternative hypothesis: true difference in means is not equal to 0\n",
       "95 percent confidence interval:\n",
       " -52.92192  39.42192\n",
       "sample estimates:\n",
       "mean in group 0 mean in group 1 \n",
       "         467.75          474.50 \n"
      ]
     },
     "metadata": {},
     "output_type": "display_data"
    }
   ],
   "source": [
    "t.test(SSL_SCORE~RACE_CODE_CD)"
   ]
  },
  {
   "cell_type": "code",
   "execution_count": 19,
   "metadata": {},
   "outputs": [
    {
     "data": {
      "text/plain": [
       "\n",
       "\tWelch Two Sample t-test\n",
       "\n",
       "data:  SSL_SCORE_RANK by RACE_CODE_CD\n",
       "t = 0.21582, df = 5.1596, p-value = 0.8374\n",
       "alternative hypothesis: true difference in means is not equal to 0\n",
       "95 percent confidence interval:\n",
       " -607.5518  720.0518\n",
       "sample estimates:\n",
       "mean in group 0 mean in group 1 \n",
       "         424.00          367.75 \n"
      ]
     },
     "metadata": {},
     "output_type": "display_data"
    }
   ],
   "source": [
    "t.test(SSL_SCORE_RANK~RACE_CODE_CD)"
   ]
  }
 ],
 "metadata": {
  "kernelspec": {
   "display_name": "R",
   "language": "R",
   "name": "ir"
  },
  "language_info": {
   "codemirror_mode": "r",
   "file_extension": ".r",
   "mimetype": "text/x-r-source",
   "name": "R",
   "pygments_lexer": "r",
   "version": "3.3.2"
  }
 },
 "nbformat": 4,
 "nbformat_minor": 2
}
