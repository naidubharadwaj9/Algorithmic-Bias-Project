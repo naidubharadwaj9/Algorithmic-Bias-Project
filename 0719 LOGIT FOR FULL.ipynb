{
 "cells": [
  {
   "cell_type": "code",
   "execution_count": 2,
   "metadata": {},
   "outputs": [
    {
     "name": "stdout",
     "output_type": "stream",
     "text": [
      "The Number of Rows in Initial Data is 391892"
     ]
    }
   ],
   "source": [
    "raw_data <- read.csv(\"SSL_SCORE_FIRST_0719.csv\", sep=\",\", header=T, strip.white = T, na.strings = c(\"NA\",\"NaN\",\"\",\"?\"))\n",
    "#Converting the \".\" in column names to \"_\"\n",
    "names(raw_data)<-gsub(\"\\\\.\", \"_\", names(raw_data))\n",
    "cat(\"The Number of Rows in Initial Data is\", nrow(raw_data))\n",
    "warn=-1"
   ]
  },
  {
   "cell_type": "code",
   "execution_count": 3,
   "metadata": {
    "collapsed": true
   },
   "outputs": [],
   "source": [
    "final_features<-raw_data[,c('SSL_SCORE','SSL_SCORE_RANK','PREDICTOR_RAT_AGE_AT_LATEST_ARREST','PREDICTOR_RAT_VICTIM_SHOOTING_INCIDENTS',\n",
    "                            'PREDICTOR_RAT_VICTIM_BATTERY_OR_ASSAULT','PREDICTOR_RAT_ARRESTS_VIOLENT_OFFENSES','PREDICTOR_RAT_GANG_AFFILIATION', \n",
    "                            'PREDICTOR_RAT_NARCOTIC_ARRESTS','PREDICTOR_RAT_TREND_IN_CRIMINAL_ACTIVITY','PREDICTOR_RAT_UUW_ARRESTS','RACE_CODE_CD',\n",
    "                            'SHORT_LIST')]"
   ]
  },
  {
   "cell_type": "code",
   "execution_count": 4,
   "metadata": {
    "collapsed": true
   },
   "outputs": [],
   "source": [
    "complete_data <- final_features[complete.cases(final_features),]"
   ]
  },
  {
   "cell_type": "code",
   "execution_count": 5,
   "metadata": {
    "collapsed": true
   },
   "outputs": [],
   "source": [
    "complete_data$SHORT_LIST<-factor(complete_data$SHORT_LIST)\n",
    "complete_data$PREDICTOR_RAT_AGE_AT_LATEST_ARREST<-factor(complete_data$PREDICTOR_RAT_AGE_AT_LATEST_ARREST)\n",
    "complete_data$RACE_CODE_CD<-factor(complete_data$RACE_CODE_CD)\n",
    "complete_data$PREDICTOR_RAT_GANG_AFFILIATION<-factor(complete_data$PREDICTOR_RAT_GANG_AFFILIATION)"
   ]
  },
  {
   "cell_type": "code",
   "execution_count": 6,
   "metadata": {
    "collapsed": true
   },
   "outputs": [],
   "source": [
    "n<-nrow(complete_data)"
   ]
  },
  {
   "cell_type": "code",
   "execution_count": 7,
   "metadata": {},
   "outputs": [
    {
     "data": {
      "text/html": [
       "<table>\n",
       "<thead><tr><th scope=col>SSL_SCORE</th><th scope=col>SSL_SCORE_RANK</th><th scope=col>PREDICTOR_RAT_AGE_AT_LATEST_ARREST</th><th scope=col>PREDICTOR_RAT_VICTIM_SHOOTING_INCIDENTS</th><th scope=col>PREDICTOR_RAT_VICTIM_BATTERY_OR_ASSAULT</th><th scope=col>PREDICTOR_RAT_ARRESTS_VIOLENT_OFFENSES</th><th scope=col>PREDICTOR_RAT_GANG_AFFILIATION</th><th scope=col>PREDICTOR_RAT_NARCOTIC_ARRESTS</th><th scope=col>PREDICTOR_RAT_TREND_IN_CRIMINAL_ACTIVITY</th><th scope=col>PREDICTOR_RAT_UUW_ARRESTS</th><th scope=col>RACE_CODE_CD</th><th scope=col>SHORT_LIST</th></tr></thead>\n",
       "<tbody>\n",
       "\t<tr><td>500         </td><td>1           </td><td>20-30       </td><td>0           </td><td>1           </td><td>4           </td><td>1           </td><td>1           </td><td> 1.0        </td><td>1           </td><td>0           </td><td>1           </td></tr>\n",
       "\t<tr><td>500         </td><td>1           </td><td>less than 20</td><td>1           </td><td>2           </td><td>2           </td><td>1           </td><td>7           </td><td> 0.2        </td><td>1           </td><td>0           </td><td>1           </td></tr>\n",
       "\t<tr><td>500         </td><td>1           </td><td>20-30       </td><td>4           </td><td>3           </td><td>0           </td><td>1           </td><td>0           </td><td>-1.1        </td><td>0           </td><td>1           </td><td>1           </td></tr>\n",
       "\t<tr><td>500         </td><td>1           </td><td>less than 20</td><td>0           </td><td>1           </td><td>3           </td><td>1           </td><td>2           </td><td> 0.1        </td><td>1           </td><td>2           </td><td>1           </td></tr>\n",
       "\t<tr><td>500         </td><td>1           </td><td>less than 20</td><td>1           </td><td>2           </td><td>6           </td><td>0           </td><td>0           </td><td> 0.0        </td><td>0           </td><td>0           </td><td>1           </td></tr>\n",
       "\t<tr><td>500         </td><td>1           </td><td>less than 20</td><td>1           </td><td>1           </td><td>4           </td><td>1           </td><td>1           </td><td>-0.3        </td><td>2           </td><td>0           </td><td>1           </td></tr>\n",
       "</tbody>\n",
       "</table>\n"
      ],
      "text/latex": [
       "\\begin{tabular}{r|llllllllllll}\n",
       " SSL\\_SCORE & SSL\\_SCORE\\_RANK & PREDICTOR\\_RAT\\_AGE\\_AT\\_LATEST\\_ARREST & PREDICTOR\\_RAT\\_VICTIM\\_SHOOTING\\_INCIDENTS & PREDICTOR\\_RAT\\_VICTIM\\_BATTERY\\_OR\\_ASSAULT & PREDICTOR\\_RAT\\_ARRESTS\\_VIOLENT\\_OFFENSES & PREDICTOR\\_RAT\\_GANG\\_AFFILIATION & PREDICTOR\\_RAT\\_NARCOTIC\\_ARRESTS & PREDICTOR\\_RAT\\_TREND\\_IN\\_CRIMINAL\\_ACTIVITY & PREDICTOR\\_RAT\\_UUW\\_ARRESTS & RACE\\_CODE\\_CD & SHORT\\_LIST\\\\\n",
       "\\hline\n",
       "\t 500          & 1            & 20-30        & 0            & 1            & 4            & 1            & 1            &  1.0         & 1            & 0            & 1           \\\\\n",
       "\t 500          & 1            & less than 20 & 1            & 2            & 2            & 1            & 7            &  0.2         & 1            & 0            & 1           \\\\\n",
       "\t 500          & 1            & 20-30        & 4            & 3            & 0            & 1            & 0            & -1.1         & 0            & 1            & 1           \\\\\n",
       "\t 500          & 1            & less than 20 & 0            & 1            & 3            & 1            & 2            &  0.1         & 1            & 2            & 1           \\\\\n",
       "\t 500          & 1            & less than 20 & 1            & 2            & 6            & 0            & 0            &  0.0         & 0            & 0            & 1           \\\\\n",
       "\t 500          & 1            & less than 20 & 1            & 1            & 4            & 1            & 1            & -0.3         & 2            & 0            & 1           \\\\\n",
       "\\end{tabular}\n"
      ],
      "text/markdown": [
       "\n",
       "SSL_SCORE | SSL_SCORE_RANK | PREDICTOR_RAT_AGE_AT_LATEST_ARREST | PREDICTOR_RAT_VICTIM_SHOOTING_INCIDENTS | PREDICTOR_RAT_VICTIM_BATTERY_OR_ASSAULT | PREDICTOR_RAT_ARRESTS_VIOLENT_OFFENSES | PREDICTOR_RAT_GANG_AFFILIATION | PREDICTOR_RAT_NARCOTIC_ARRESTS | PREDICTOR_RAT_TREND_IN_CRIMINAL_ACTIVITY | PREDICTOR_RAT_UUW_ARRESTS | RACE_CODE_CD | SHORT_LIST | \n",
       "|---|---|---|---|---|---|\n",
       "| 500          | 1            | 20-30        | 0            | 1            | 4            | 1            | 1            |  1.0         | 1            | 0            | 1            | \n",
       "| 500          | 1            | less than 20 | 1            | 2            | 2            | 1            | 7            |  0.2         | 1            | 0            | 1            | \n",
       "| 500          | 1            | 20-30        | 4            | 3            | 0            | 1            | 0            | -1.1         | 0            | 1            | 1            | \n",
       "| 500          | 1            | less than 20 | 0            | 1            | 3            | 1            | 2            |  0.1         | 1            | 2            | 1            | \n",
       "| 500          | 1            | less than 20 | 1            | 2            | 6            | 0            | 0            |  0.0         | 0            | 0            | 1            | \n",
       "| 500          | 1            | less than 20 | 1            | 1            | 4            | 1            | 1            | -0.3         | 2            | 0            | 1            | \n",
       "\n",
       "\n"
      ],
      "text/plain": [
       "  SSL_SCORE SSL_SCORE_RANK PREDICTOR_RAT_AGE_AT_LATEST_ARREST\n",
       "1 500       1              20-30                             \n",
       "2 500       1              less than 20                      \n",
       "3 500       1              20-30                             \n",
       "4 500       1              less than 20                      \n",
       "5 500       1              less than 20                      \n",
       "6 500       1              less than 20                      \n",
       "  PREDICTOR_RAT_VICTIM_SHOOTING_INCIDENTS\n",
       "1 0                                      \n",
       "2 1                                      \n",
       "3 4                                      \n",
       "4 0                                      \n",
       "5 1                                      \n",
       "6 1                                      \n",
       "  PREDICTOR_RAT_VICTIM_BATTERY_OR_ASSAULT\n",
       "1 1                                      \n",
       "2 2                                      \n",
       "3 3                                      \n",
       "4 1                                      \n",
       "5 2                                      \n",
       "6 1                                      \n",
       "  PREDICTOR_RAT_ARRESTS_VIOLENT_OFFENSES PREDICTOR_RAT_GANG_AFFILIATION\n",
       "1 4                                      1                             \n",
       "2 2                                      1                             \n",
       "3 0                                      1                             \n",
       "4 3                                      1                             \n",
       "5 6                                      0                             \n",
       "6 4                                      1                             \n",
       "  PREDICTOR_RAT_NARCOTIC_ARRESTS PREDICTOR_RAT_TREND_IN_CRIMINAL_ACTIVITY\n",
       "1 1                               1.0                                    \n",
       "2 7                               0.2                                    \n",
       "3 0                              -1.1                                    \n",
       "4 2                               0.1                                    \n",
       "5 0                               0.0                                    \n",
       "6 1                              -0.3                                    \n",
       "  PREDICTOR_RAT_UUW_ARRESTS RACE_CODE_CD SHORT_LIST\n",
       "1 1                         0            1         \n",
       "2 1                         0            1         \n",
       "3 0                         1            1         \n",
       "4 1                         2            1         \n",
       "5 0                         0            1         \n",
       "6 2                         0            1         "
      ]
     },
     "metadata": {},
     "output_type": "display_data"
    }
   ],
   "source": [
    "head(complete_data)"
   ]
  },
  {
   "cell_type": "code",
   "execution_count": 8,
   "metadata": {
    "collapsed": true
   },
   "outputs": [],
   "source": [
    "set.seed(1234)\n",
    "trainIndex = sample(1:n, size = round(0.8*n),replace=FALSE)\n",
    "train_data = complete_data[trainIndex,]\n",
    "test_data  = complete_data[-trainIndex,]"
   ]
  },
  {
   "cell_type": "code",
   "execution_count": 9,
   "metadata": {},
   "outputs": [
    {
     "data": {
      "text/html": [
       "313435"
      ],
      "text/latex": [
       "313435"
      ],
      "text/markdown": [
       "313435"
      ],
      "text/plain": [
       "[1] 313435"
      ]
     },
     "metadata": {},
     "output_type": "display_data"
    }
   ],
   "source": [
    "nrow(train_data)"
   ]
  },
  {
   "cell_type": "code",
   "execution_count": 10,
   "metadata": {},
   "outputs": [
    {
     "data": {
      "text/html": [
       "78359"
      ],
      "text/latex": [
       "78359"
      ],
      "text/markdown": [
       "78359"
      ],
      "text/plain": [
       "[1] 78359"
      ]
     },
     "metadata": {},
     "output_type": "display_data"
    }
   ],
   "source": [
    "nrow(test_data)"
   ]
  },
  {
   "cell_type": "code",
   "execution_count": 11,
   "metadata": {},
   "outputs": [
    {
     "name": "stderr",
     "output_type": "stream",
     "text": [
      "Warning message:\n",
      "\"package 'MatchIt' was built under R version 3.3.3\"Warning message:\n",
      "\"package 'dplyr' was built under R version 3.3.3\"\n",
      "Attaching package: 'dplyr'\n",
      "\n",
      "The following objects are masked from 'package:stats':\n",
      "\n",
      "    filter, lag\n",
      "\n",
      "The following objects are masked from 'package:base':\n",
      "\n",
      "    intersect, setdiff, setequal, union\n",
      "\n",
      "Warning message:\n",
      "\"package 'ggplot2' was built under R version 3.3.3\"Warning message:\n",
      "\"package 'caret' was built under R version 3.3.3\"Loading required package: lattice\n"
     ]
    }
   ],
   "source": [
    "library(MatchIt)\n",
    "library(dplyr)\n",
    "library(ggplot2)\n",
    "library(caret)"
   ]
  },
  {
   "cell_type": "code",
   "execution_count": 12,
   "metadata": {},
   "outputs": [
    {
     "name": "stderr",
     "output_type": "stream",
     "text": [
      "Warning message:\n",
      "\"glm.fit: fitted probabilities numerically 0 or 1 occurred\"Warning message:\n",
      "\"glm.fit: fitted probabilities numerically 0 or 1 occurred\"Warning message:\n",
      "\"glm.fit: fitted probabilities numerically 0 or 1 occurred\"Warning message:\n",
      "\"glm.fit: fitted probabilities numerically 0 or 1 occurred\"Warning message:\n",
      "\"glm.fit: fitted probabilities numerically 0 or 1 occurred\"Warning message:\n",
      "\"glm.fit: fitted probabilities numerically 0 or 1 occurred\"Warning message:\n",
      "\"glm.fit: fitted probabilities numerically 0 or 1 occurred\"Warning message:\n",
      "\"glm.fit: fitted probabilities numerically 0 or 1 occurred\"Warning message:\n",
      "\"glm.fit: fitted probabilities numerically 0 or 1 occurred\"Warning message:\n",
      "\"glm.fit: fitted probabilities numerically 0 or 1 occurred\"Warning message:\n",
      "\"glm.fit: fitted probabilities numerically 0 or 1 occurred\""
     ]
    }
   ],
   "source": [
    "ctrl <- trainControl(method = \"repeatedcv\", number = 10, savePredictions = TRUE)\n",
    "\n",
    "mod_fit <- train(SHORT_LIST ~ PREDICTOR_RAT_AGE_AT_LATEST_ARREST+PREDICTOR_RAT_VICTIM_SHOOTING_INCIDENTS + PREDICTOR_RAT_VICTIM_BATTERY_OR_ASSAULT + \n",
    "            PREDICTOR_RAT_ARRESTS_VIOLENT_OFFENSES + PREDICTOR_RAT_GANG_AFFILIATION + PREDICTOR_RAT_NARCOTIC_ARRESTS + PREDICTOR_RAT_TREND_IN_CRIMINAL_ACTIVITY +\n",
    "            PREDICTOR_RAT_UUW_ARRESTS+RACE_CODE_CD,\n",
    "            data=train_data, method=\"glm\", family=\"binomial\",\n",
    "            preProcess=\"scale\",trControl = ctrl, tuneLength = 5)"
   ]
  },
  {
   "cell_type": "code",
   "execution_count": 13,
   "metadata": {},
   "outputs": [
    {
     "data": {
      "text/plain": [
       "\n",
       "Call:\n",
       "NULL\n",
       "\n",
       "Deviance Residuals: \n",
       "    Min       1Q   Median       3Q      Max  \n",
       "-4.7091  -0.0617  -0.0044   0.0000   6.5607  \n",
       "\n",
       "Coefficients:\n",
       "                                                  Estimate Std. Error  z value\n",
       "(Intercept)                                      -6.479973   0.048568 -133.420\n",
       "`PREDICTOR_RAT_AGE_AT_LATEST_ARREST30-40`        -2.381835   0.065182  -36.541\n",
       "`PREDICTOR_RAT_AGE_AT_LATEST_ARREST40-50`        -5.079898   0.309452  -16.416\n",
       "`PREDICTOR_RAT_AGE_AT_LATEST_ARREST50-60`        -7.963347  22.674900   -0.351\n",
       "`PREDICTOR_RAT_AGE_AT_LATEST_ARREST60-70`        -2.890780  15.202790   -0.190\n",
       "`PREDICTOR_RAT_AGE_AT_LATEST_ARREST70-80`        -0.755980  15.856533   -0.048\n",
       "`PREDICTOR_RAT_AGE_AT_LATEST_ARRESTless than 20`  1.745232   0.016626  104.973\n",
       "PREDICTOR_RAT_VICTIM_SHOOTING_INCIDENTS           0.359182   0.009629   37.302\n",
       "PREDICTOR_RAT_VICTIM_BATTERY_OR_ASSAULT           1.145454   0.012088   94.761\n",
       "PREDICTOR_RAT_ARRESTS_VIOLENT_OFFENSES            1.021797   0.011121   91.880\n",
       "PREDICTOR_RAT_GANG_AFFILIATION1                   0.205027   0.011558   17.739\n",
       "PREDICTOR_RAT_NARCOTIC_ARRESTS                    0.617432   0.010673   57.852\n",
       "PREDICTOR_RAT_TREND_IN_CRIMINAL_ACTIVITY          0.886238   0.011616   76.295\n",
       "PREDICTOR_RAT_UUW_ARRESTS                         0.283569   0.009795   28.951\n",
       "RACE_CODE_CD1                                    -0.429476   0.016364  -26.245\n",
       "RACE_CODE_CD2                                    -0.213147   0.012290  -17.343\n",
       "                                                 Pr(>|z|)    \n",
       "(Intercept)                                        <2e-16 ***\n",
       "`PREDICTOR_RAT_AGE_AT_LATEST_ARREST30-40`          <2e-16 ***\n",
       "`PREDICTOR_RAT_AGE_AT_LATEST_ARREST40-50`          <2e-16 ***\n",
       "`PREDICTOR_RAT_AGE_AT_LATEST_ARREST50-60`           0.725    \n",
       "`PREDICTOR_RAT_AGE_AT_LATEST_ARREST60-70`           0.849    \n",
       "`PREDICTOR_RAT_AGE_AT_LATEST_ARREST70-80`           0.962    \n",
       "`PREDICTOR_RAT_AGE_AT_LATEST_ARRESTless than 20`   <2e-16 ***\n",
       "PREDICTOR_RAT_VICTIM_SHOOTING_INCIDENTS            <2e-16 ***\n",
       "PREDICTOR_RAT_VICTIM_BATTERY_OR_ASSAULT            <2e-16 ***\n",
       "PREDICTOR_RAT_ARRESTS_VIOLENT_OFFENSES             <2e-16 ***\n",
       "PREDICTOR_RAT_GANG_AFFILIATION1                    <2e-16 ***\n",
       "PREDICTOR_RAT_NARCOTIC_ARRESTS                     <2e-16 ***\n",
       "PREDICTOR_RAT_TREND_IN_CRIMINAL_ACTIVITY           <2e-16 ***\n",
       "PREDICTOR_RAT_UUW_ARRESTS                          <2e-16 ***\n",
       "RACE_CODE_CD1                                      <2e-16 ***\n",
       "RACE_CODE_CD2                                      <2e-16 ***\n",
       "---\n",
       "Signif. codes:  0 '***' 0.001 '**' 0.01 '*' 0.05 '.' 0.1 ' ' 1\n",
       "\n",
       "(Dispersion parameter for binomial family taken to be 1)\n",
       "\n",
       "    Null deviance: 157560  on 313434  degrees of freedom\n",
       "Residual deviance:  50383  on 313419  degrees of freedom\n",
       "AIC: 50415\n",
       "\n",
       "Number of Fisher Scoring iterations: 18\n"
      ]
     },
     "metadata": {},
     "output_type": "display_data"
    }
   ],
   "source": [
    "summary(mod_fit)"
   ]
  },
  {
   "cell_type": "code",
   "execution_count": 14,
   "metadata": {
    "collapsed": true
   },
   "outputs": [],
   "source": [
    "predicted_values<-predict(mod_fit, newdata=test_data,type= \"prob\")[,2]  "
   ]
  },
  {
   "cell_type": "code",
   "execution_count": 15,
   "metadata": {},
   "outputs": [
    {
     "name": "stderr",
     "output_type": "stream",
     "text": [
      "Warning message:\n",
      "\"package 'ROCR' was built under R version 3.3.3\"Loading required package: gplots\n",
      "Warning message:\n",
      "\"package 'gplots' was built under R version 3.3.3\"\n",
      "Attaching package: 'gplots'\n",
      "\n",
      "The following object is masked from 'package:stats':\n",
      "\n",
      "    lowess\n",
      "\n"
     ]
    }
   ],
   "source": [
    "library(ROCR)\n",
    "pred <- prediction((predicted_values),(test_data$SHORT_LIST))"
   ]
  },
  {
   "cell_type": "code",
   "execution_count": 16,
   "metadata": {},
   "outputs": [
    {
     "data": {},
     "metadata": {},
     "output_type": "display_data"
    },
    {
     "data": {
      "image/png": "[encoded data removed]",
      "text/plain": [
       "plot without title"
      ]
     },
     "metadata": {},
     "output_type": "display_data"
    }
   ],
   "source": [
    "perf <- performance(pred, measure = \"tpr\", x.measure = \"fpr\")\n",
    "auc <- performance(pred, measure = \"auc\")\n",
    "auc <- auc@y.values[[1]]\n",
    "\n",
    "roc.data <- data.frame(fpr=unlist(perf@x.values),\n",
    "                       tpr=unlist(perf@y.values),\n",
    "                       model=\"RF\")\n",
    "\n",
    "ggplot(roc.data, aes(x=fpr, ymin=0, ymax=tpr)) +\n",
    "  geom_ribbon(alpha=0.2) +\n",
    "  geom_line(aes(y=tpr)) +\n",
    "  ggtitle(paste0(\"ROC Curve w/ AUC=\", auc))\n"
   ]
  },
  {
   "cell_type": "code",
   "execution_count": 17,
   "metadata": {
    "collapsed": true
   },
   "outputs": [],
   "source": [
    "mod_match <- matchit(RACE_CODE_CD ~ PREDICTOR_RAT_AGE_AT_LATEST_ARREST+PREDICTOR_RAT_VICTIM_SHOOTING_INCIDENTS + PREDICTOR_RAT_VICTIM_BATTERY_OR_ASSAULT + \n",
    "            PREDICTOR_RAT_ARRESTS_VIOLENT_OFFENSES + PREDICTOR_RAT_GANG_AFFILIATION + PREDICTOR_RAT_NARCOTIC_ARRESTS + PREDICTOR_RAT_TREND_IN_CRIMINAL_ACTIVITY +\n",
    "            PREDICTOR_RAT_UUW_ARRESTS,\n",
    "                     method = \"nearest\", data = complete_data)"
   ]
  },
  {
   "cell_type": "code",
   "execution_count": 18,
   "metadata": {},
   "outputs": [
    {
     "data": {
      "text/plain": [
       "\n",
       "Call: \n",
       "matchit(formula = RACE_CODE_CD ~ PREDICTOR_RAT_AGE_AT_LATEST_ARREST + \n",
       "    PREDICTOR_RAT_VICTIM_SHOOTING_INCIDENTS + PREDICTOR_RAT_VICTIM_BATTERY_OR_ASSAULT + \n",
       "    PREDICTOR_RAT_ARRESTS_VIOLENT_OFFENSES + PREDICTOR_RAT_GANG_AFFILIATION + \n",
       "    PREDICTOR_RAT_NARCOTIC_ARRESTS + PREDICTOR_RAT_TREND_IN_CRIMINAL_ACTIVITY + \n",
       "    PREDICTOR_RAT_UUW_ARRESTS, data = complete_data, method = \"nearest\")\n",
       "\n",
       "Sample sizes:\n",
       "          Control Treated\n",
       "All        207800   82323\n",
       "Matched     82323   82323\n",
       "Unmatched  125477       0\n",
       "Discarded       0       0\n"
      ]
     },
     "metadata": {},
     "output_type": "display_data"
    }
   ],
   "source": [
    "mod_match"
   ]
  },
  {
   "cell_type": "code",
   "execution_count": 19,
   "metadata": {
    "collapsed": true
   },
   "outputs": [],
   "source": [
    "matched <- match.data(mod_match)"
   ]
  },
  {
   "cell_type": "code",
   "execution_count": 20,
   "metadata": {},
   "outputs": [
    {
     "name": "stdout",
     "output_type": "stream",
     "text": [
      "[1] \"To identify the units, use first mouse button; to stop, use second.\"\n"
     ]
    },
    {
     "data": {
      "text/html": [],
      "text/latex": [],
      "text/markdown": [],
      "text/plain": [
       "integer(0)"
      ]
     },
     "metadata": {},
     "output_type": "display_data"
    },
    {
     "data": {
      "image/png": "[encoded data removed]",
      "text/plain": [
       "Plot with title \"Distribution of Propensity Scores\""
      ]
     },
     "metadata": {},
     "output_type": "display_data"
    }
   ],
   "source": [
    "plot(mod_match, type = \"jitter\")"
   ]
  },
  {
   "cell_type": "code",
   "execution_count": 21,
   "metadata": {},
   "outputs": [
    {
     "data": {
      "image/png": "[encoded data removed]",
      "text/plain": [
       "Plot with title \"Matched Control\""
      ]
     },
     "metadata": {},
     "output_type": "display_data"
    }
   ],
   "source": [
    "plot(mod_match, type = \"hist\")"
   ]
  },
  {
   "cell_type": "code",
   "execution_count": 22,
   "metadata": {},
   "outputs": [
    {
     "name": "stderr",
     "output_type": "stream",
     "text": [
      "Warning message in preProcess.default(thresh = 0.95, k = 5, freqCut = 19, uniqueCut = 10, :\n",
      "\"These variables have zero variances: RACE_CODE_CD2\"Warning message:\n",
      "\"glm.fit: fitted probabilities numerically 0 or 1 occurred\"Warning message in predict.lm(object, newdata, se.fit, scale = 1, type = ifelse(type == :\n",
      "\"prediction from a rank-deficient fit may be misleading\"Warning message in preProcess.default(thresh = 0.95, k = 5, freqCut = 19, uniqueCut = 10, :\n",
      "\"These variables have zero variances: RACE_CODE_CD2\"Warning message:\n",
      "\"glm.fit: fitted probabilities numerically 0 or 1 occurred\"Warning message in predict.lm(object, newdata, se.fit, scale = 1, type = ifelse(type == :\n",
      "\"prediction from a rank-deficient fit may be misleading\"Warning message in preProcess.default(thresh = 0.95, k = 5, freqCut = 19, uniqueCut = 10, :\n",
      "\"These variables have zero variances: RACE_CODE_CD2\"Warning message:\n",
      "\"glm.fit: fitted probabilities numerically 0 or 1 occurred\"Warning message in predict.lm(object, newdata, se.fit, scale = 1, type = ifelse(type == :\n",
      "\"prediction from a rank-deficient fit may be misleading\"Warning message in preProcess.default(thresh = 0.95, k = 5, freqCut = 19, uniqueCut = 10, :\n",
      "\"These variables have zero variances: RACE_CODE_CD2\"Warning message:\n",
      "\"glm.fit: fitted probabilities numerically 0 or 1 occurred\"Warning message in predict.lm(object, newdata, se.fit, scale = 1, type = ifelse(type == :\n",
      "\"prediction from a rank-deficient fit may be misleading\"Warning message in preProcess.default(thresh = 0.95, k = 5, freqCut = 19, uniqueCut = 10, :\n",
      "\"These variables have zero variances: RACE_CODE_CD2\"Warning message:\n",
      "\"glm.fit: fitted probabilities numerically 0 or 1 occurred\"Warning message in predict.lm(object, newdata, se.fit, scale = 1, type = ifelse(type == :\n",
      "\"prediction from a rank-deficient fit may be misleading\"Warning message in preProcess.default(thresh = 0.95, k = 5, freqCut = 19, uniqueCut = 10, :\n",
      "\"These variables have zero variances: RACE_CODE_CD2\"Warning message:\n",
      "\"glm.fit: fitted probabilities numerically 0 or 1 occurred\"Warning message in predict.lm(object, newdata, se.fit, scale = 1, type = ifelse(type == :\n",
      "\"prediction from a rank-deficient fit may be misleading\"Warning message in preProcess.default(thresh = 0.95, k = 5, freqCut = 19, uniqueCut = 10, :\n",
      "\"These variables have zero variances: RACE_CODE_CD2\"Warning message:\n",
      "\"glm.fit: fitted probabilities numerically 0 or 1 occurred\"Warning message in predict.lm(object, newdata, se.fit, scale = 1, type = ifelse(type == :\n",
      "\"prediction from a rank-deficient fit may be misleading\"Warning message in preProcess.default(thresh = 0.95, k = 5, freqCut = 19, uniqueCut = 10, :\n",
      "\"These variables have zero variances: RACE_CODE_CD2\"Warning message:\n",
      "\"glm.fit: fitted probabilities numerically 0 or 1 occurred\"Warning message in predict.lm(object, newdata, se.fit, scale = 1, type = ifelse(type == :\n",
      "\"prediction from a rank-deficient fit may be misleading\"Warning message in preProcess.default(thresh = 0.95, k = 5, freqCut = 19, uniqueCut = 10, :\n",
      "\"These variables have zero variances: RACE_CODE_CD2\"Warning message:\n",
      "\"glm.fit: fitted probabilities numerically 0 or 1 occurred\"Warning message in predict.lm(object, newdata, se.fit, scale = 1, type = ifelse(type == :\n",
      "\"prediction from a rank-deficient fit may be misleading\"Warning message in preProcess.default(thresh = 0.95, k = 5, freqCut = 19, uniqueCut = 10, :\n",
      "\"These variables have zero variances: RACE_CODE_CD2\"Warning message:\n",
      "\"glm.fit: fitted probabilities numerically 0 or 1 occurred\"Warning message in predict.lm(object, newdata, se.fit, scale = 1, type = ifelse(type == :\n",
      "\"prediction from a rank-deficient fit may be misleading\"Warning message in preProcess.default(thresh = 0.95, k = 5, freqCut = 19, uniqueCut = 10, :\n",
      "\"These variables have zero variances: RACE_CODE_CD2\"Warning message:\n",
      "\"glm.fit: fitted probabilities numerically 0 or 1 occurred\""
     ]
    }
   ],
   "source": [
    "warn=-1\n",
    "ctrl <- trainControl(method = \"repeatedcv\", number = 10, savePredictions = TRUE)\n",
    "\n",
    "mod_fit_PSM <- train(SHORT_LIST ~ PREDICTOR_RAT_AGE_AT_LATEST_ARREST+PREDICTOR_RAT_VICTIM_SHOOTING_INCIDENTS + PREDICTOR_RAT_VICTIM_BATTERY_OR_ASSAULT + \n",
    "            PREDICTOR_RAT_ARRESTS_VIOLENT_OFFENSES + PREDICTOR_RAT_GANG_AFFILIATION + PREDICTOR_RAT_NARCOTIC_ARRESTS + PREDICTOR_RAT_TREND_IN_CRIMINAL_ACTIVITY +\n",
    "            PREDICTOR_RAT_UUW_ARRESTS+RACE_CODE_CD,\n",
    "            data=matched, method=\"glm\", family=\"binomial\",\n",
    "            preProcess=\"scale\",trControl = ctrl, tuneLength = 5)\n"
   ]
  },
  {
   "cell_type": "code",
   "execution_count": 23,
   "metadata": {},
   "outputs": [
    {
     "data": {
      "text/plain": [
       "\n",
       "Call:\n",
       "NULL\n",
       "\n",
       "Deviance Residuals: \n",
       "    Min       1Q   Median       3Q      Max  \n",
       "-5.0652  -0.0413  -0.0045   0.0000   5.2024  \n",
       "\n",
       "Coefficients: (1 not defined because of singularities)\n",
       "                                                   Estimate Std. Error z value\n",
       "(Intercept)                                      -6.816e+00  9.734e-02 -70.026\n",
       "`PREDICTOR_RAT_AGE_AT_LATEST_ARREST30-40`        -2.174e+00  1.807e-01 -12.033\n",
       "`PREDICTOR_RAT_AGE_AT_LATEST_ARREST40-50`        -8.723e+00  3.451e+01  -0.253\n",
       "`PREDICTOR_RAT_AGE_AT_LATEST_ARREST50-60`        -2.421e+01  1.565e+05   0.000\n",
       "`PREDICTOR_RAT_AGE_AT_LATEST_ARREST60-70`        -3.656e+00  4.338e+01  -0.084\n",
       "`PREDICTOR_RAT_AGE_AT_LATEST_ARREST70-80`        -9.538e-01  3.827e+01  -0.025\n",
       "`PREDICTOR_RAT_AGE_AT_LATEST_ARRESTless than 20`  1.671e+00  3.132e-02  53.369\n",
       "PREDICTOR_RAT_VICTIM_SHOOTING_INCIDENTS           1.360e-01  1.203e-02  11.303\n",
       "PREDICTOR_RAT_VICTIM_BATTERY_OR_ASSAULT           6.400e-01  1.524e-02  41.986\n",
       "PREDICTOR_RAT_ARRESTS_VIOLENT_OFFENSES            6.275e-01  1.462e-02  42.932\n",
       "PREDICTOR_RAT_GANG_AFFILIATION1                   1.308e-01  1.524e-02   8.582\n",
       "PREDICTOR_RAT_NARCOTIC_ARRESTS                    2.759e-01  1.623e-02  17.001\n",
       "PREDICTOR_RAT_TREND_IN_CRIMINAL_ACTIVITY          8.605e-01  2.018e-02  42.642\n",
       "PREDICTOR_RAT_UUW_ARRESTS                         1.826e-01  1.449e-02  12.605\n",
       "RACE_CODE_CD1                                    -5.026e-01  2.133e-02 -23.563\n",
       "RACE_CODE_CD2                                            NA         NA      NA\n",
       "                                                 Pr(>|z|)    \n",
       "(Intercept)                                        <2e-16 ***\n",
       "`PREDICTOR_RAT_AGE_AT_LATEST_ARREST30-40`          <2e-16 ***\n",
       "`PREDICTOR_RAT_AGE_AT_LATEST_ARREST40-50`           0.800    \n",
       "`PREDICTOR_RAT_AGE_AT_LATEST_ARREST50-60`           1.000    \n",
       "`PREDICTOR_RAT_AGE_AT_LATEST_ARREST60-70`           0.933    \n",
       "`PREDICTOR_RAT_AGE_AT_LATEST_ARREST70-80`           0.980    \n",
       "`PREDICTOR_RAT_AGE_AT_LATEST_ARRESTless than 20`   <2e-16 ***\n",
       "PREDICTOR_RAT_VICTIM_SHOOTING_INCIDENTS            <2e-16 ***\n",
       "PREDICTOR_RAT_VICTIM_BATTERY_OR_ASSAULT            <2e-16 ***\n",
       "PREDICTOR_RAT_ARRESTS_VIOLENT_OFFENSES             <2e-16 ***\n",
       "PREDICTOR_RAT_GANG_AFFILIATION1                    <2e-16 ***\n",
       "PREDICTOR_RAT_NARCOTIC_ARRESTS                     <2e-16 ***\n",
       "PREDICTOR_RAT_TREND_IN_CRIMINAL_ACTIVITY           <2e-16 ***\n",
       "PREDICTOR_RAT_UUW_ARRESTS                          <2e-16 ***\n",
       "RACE_CODE_CD1                                      <2e-16 ***\n",
       "RACE_CODE_CD2                                          NA    \n",
       "---\n",
       "Signif. codes:  0 '***' 0.001 '**' 0.01 '*' 0.05 '.' 0.1 ' ' 1\n",
       "\n",
       "(Dispersion parameter for binomial family taken to be 1)\n",
       "\n",
       "    Null deviance: 40254  on 164645  degrees of freedom\n",
       "Residual deviance: 16919  on 164631  degrees of freedom\n",
       "AIC: 16949\n",
       "\n",
       "Number of Fisher Scoring iterations: 19\n"
      ]
     },
     "metadata": {},
     "output_type": "display_data"
    }
   ],
   "source": [
    "summary(mod_fit_PSM)"
   ]
  }
 ],
 "metadata": {
  "kernelspec": {
   "display_name": "R",
   "language": "R",
   "name": "ir"
  },
  "language_info": {
   "codemirror_mode": "r",
   "file_extension": ".r",
   "mimetype": "text/x-r-source",
   "name": "R",
   "pygments_lexer": "r",
   "version": "3.3.2"
  }
 },
 "nbformat": 4,
 "nbformat_minor": 2
}
