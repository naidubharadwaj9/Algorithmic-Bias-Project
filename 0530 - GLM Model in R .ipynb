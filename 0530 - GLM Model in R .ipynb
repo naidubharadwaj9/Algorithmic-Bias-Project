{
 "cells": [
  {
   "cell_type": "code",
   "execution_count": 24,
   "metadata": {},
   "outputs": [
    {
     "name": "stdout",
     "output_type": "stream",
     "text": [
      "The Number of Rows in Initial Data is 398684"
     ]
    }
   ],
   "source": [
    "raw_data <- read.csv(\"Strategic_Subject_List.csv\", sep=\",\", header=T, strip.white = T, na.strings = c(\"NA\",\"NaN\",\"\",\"?\"))\n",
    "#Converting the \".\" in column names to \"_\"\n",
    "names(raw_data)<-gsub(\"\\\\.\", \"_\", names(raw_data))\n",
    "cat(\"The Number of Rows in Initial Data is\", nrow(raw_data))"
   ]
  },
  {
   "cell_type": "code",
   "execution_count": 25,
   "metadata": {
    "collapsed": true
   },
   "outputs": [],
   "source": [
    "final_features<-raw_data[,c(\"PRE_RAW_HEAT_SCORE\",\"AGE_GROUP\",\"AGE_CURR\",\"LATEST_DIST\",\"LATEST_DIST_RES\",\n",
    "            \"DRUG_I\",\"WEAPON_I\",\"CPD_ARREST_I\",\"LATEST_DATE\")]"
   ]
  },
  {
   "cell_type": "code",
   "execution_count": 26,
   "metadata": {
    "collapsed": true
   },
   "outputs": [],
   "source": [
    "complete_data <- final_features[complete.cases(final_features),]\n"
   ]
  },
  {
   "cell_type": "code",
   "execution_count": 27,
   "metadata": {},
   "outputs": [],
   "source": [
    "complete_data$AGE_GROUP <- as.factor(complete_data$AGE_GROUP)\n",
    "complete_data$AGE_CURR<- as.factor(complete_data$AGE_CURR)\n",
    "complete_data$LATEST_DIST<- as.factor(complete_data$LATEST_DIST)\n",
    "complete_data$LATEST_DIST_RES<- as.factor(complete_data$LATEST_DIST_RES)\n",
    "complete_data$DRUG_I<- as.factor(complete_data$DRUG_I)\n",
    "complete_data$WEAPON_I<- as.factor(complete_data$WEAPON_I)\n",
    "complete_data$CPD_ARREST_I<- as.factor(complete_data$CPD_ARREST_I)\n",
    "complete_data$LATEST_DATE<- as.factor(complete_data$LATEST_DATE)"
   ]
  },
  {
   "cell_type": "code",
   "execution_count": 28,
   "metadata": {},
   "outputs": [],
   "source": [
    "#complete_data <- scale(complete_data[-1])"
   ]
  },
  {
   "cell_type": "code",
   "execution_count": 29,
   "metadata": {},
   "outputs": [],
   "source": [
    "library(\"caret\")\n",
    "n=nrow(complete_data)\n",
    "trainIndex = sample(1:n, size = round(0.7*n),replace=FALSE)\n",
    "train_data = complete_data[trainIndex,] \n",
    "test_data  = complete_data[-trainIndex,] "
   ]
  },
  {
   "cell_type": "code",
   "execution_count": 30,
   "metadata": {},
   "outputs": [
    {
     "name": "stdout",
     "output_type": "stream",
     "text": [
      "+ Fold1: intercept=TRUE \n",
      "- Fold1: intercept=TRUE \n",
      "+ Fold2: intercept=TRUE \n",
      "- Fold2: intercept=TRUE \n",
      "+ Fold3: intercept=TRUE \n",
      "- Fold3: intercept=TRUE \n",
      "+ Fold4: intercept=TRUE \n",
      "- Fold4: intercept=TRUE \n",
      "+ Fold5: intercept=TRUE \n",
      "- Fold5: intercept=TRUE \n",
      "Aggregating results\n",
      "Fitting final model on full training set\n"
     ]
    }
   ],
   "source": [
    "model<-train(PRE_RAW_HEAT_SCORE~.,data=train_data,method = \"lm\",\n",
    "             trControl = trainControl(method = \"cv\",number = 5,verboseIter = TRUE))"
   ]
  },
  {
   "cell_type": "code",
   "execution_count": 31,
   "metadata": {},
   "outputs": [
    {
     "data": {
      "text/plain": [
       "\n",
       "Call:\n",
       "lm(formula = .outcome ~ ., data = dat)\n",
       "\n",
       "Residuals:\n",
       "    Min      1Q  Median      3Q     Max \n",
       "-4717.4  -162.2   -19.7   124.6  5873.8 \n",
       "\n",
       "Coefficients:\n",
       "                          Estimate Std. Error  t value Pr(>|t|)    \n",
       "(Intercept)              8810.6839    18.6779  471.718  < 2e-16 ***\n",
       "`AGE_GROUP30-40`         -393.0946     2.5120 -156.488  < 2e-16 ***\n",
       "`AGE_GROUP40-50`         -795.0483     4.0739 -195.157  < 2e-16 ***\n",
       "`AGE_GROUP50-60`        -1192.4209     5.5955 -213.103  < 2e-16 ***\n",
       "`AGE_GROUP60-70`        -1553.8465     8.5808 -181.085  < 2e-16 ***\n",
       "`AGE_GROUP70-80`        -1926.3238    19.6469  -98.047  < 2e-16 ***\n",
       "`AGE_GROUPless than 20`   391.1680     2.3082  169.467  < 2e-16 ***\n",
       "`AGE_CURR30-40`          -415.9452     2.3935 -173.779  < 2e-16 ***\n",
       "`AGE_CURR40-50`          -814.7348     3.8902 -209.434  < 2e-16 ***\n",
       "`AGE_CURR50-60`         -1222.0199     5.3268 -229.411  < 2e-16 ***\n",
       "`AGE_CURR60-70`         -1646.1464     7.6015 -216.557  < 2e-16 ***\n",
       "`AGE_CURR70-80`         -2123.0803    15.7877 -134.477  < 2e-16 ***\n",
       "`AGE_CURRless than 20`    323.7360     2.7497  117.734  < 2e-16 ***\n",
       "LATEST_DIST2               39.5423     5.9785    6.614 3.74e-11 ***\n",
       "LATEST_DIST3               71.8366     5.5483   12.948  < 2e-16 ***\n",
       "LATEST_DIST4               64.2100     5.5229   11.626  < 2e-16 ***\n",
       "LATEST_DIST5               53.3905     5.6133    9.511  < 2e-16 ***\n",
       "LATEST_DIST6               49.0350     5.1970    9.435  < 2e-16 ***\n",
       "LATEST_DIST7               67.6217     5.2341   12.919  < 2e-16 ***\n",
       "LATEST_DIST8               48.6377     5.2229    9.312  < 2e-16 ***\n",
       "LATEST_DIST9               52.0449     5.4378    9.571  < 2e-16 ***\n",
       "LATEST_DIST10              68.3810     5.4572   12.530  < 2e-16 ***\n",
       "LATEST_DIST11              68.8300     4.8525   14.184  < 2e-16 ***\n",
       "LATEST_DIST12              47.7734     5.6575    8.444  < 2e-16 ***\n",
       "LATEST_DIST14              49.0056     6.4045    7.652 1.99e-14 ***\n",
       "LATEST_DIST15              85.3229     5.4956   15.526  < 2e-16 ***\n",
       "LATEST_DIST16              15.2793     6.0826    2.512 0.012006 *  \n",
       "LATEST_DIST17              29.3005     6.7614    4.333 1.47e-05 ***\n",
       "LATEST_DIST18              -0.9667     5.8146   -0.166 0.867956    \n",
       "LATEST_DIST19              36.1064     5.8956    6.124 9.12e-10 ***\n",
       "LATEST_DIST20              33.4181     7.9509    4.203 2.63e-05 ***\n",
       "LATEST_DIST22              57.5346     6.2766    9.167  < 2e-16 ***\n",
       "LATEST_DIST24              49.5227     7.0629    7.012 2.36e-12 ***\n",
       "LATEST_DIST25              32.7077     5.1802    6.314 2.72e-10 ***\n",
       "LATEST_DIST31              40.7477     5.2302    7.791 6.68e-15 ***\n",
       "LATEST_DIST_RES2           51.3972     7.5759    6.784 1.17e-11 ***\n",
       "LATEST_DIST_RES3           48.8749     7.3387    6.660 2.74e-11 ***\n",
       "LATEST_DIST_RES4           50.1192     7.2741    6.890 5.59e-12 ***\n",
       "LATEST_DIST_RES5           42.5260     7.3625    5.776 7.66e-09 ***\n",
       "LATEST_DIST_RES6           44.8991     7.1829    6.251 4.09e-10 ***\n",
       "LATEST_DIST_RES7           58.6142     7.1573    8.189 2.64e-16 ***\n",
       "LATEST_DIST_RES8           22.4576     6.9419    3.235 0.001216 ** \n",
       "LATEST_DIST_RES9           23.5277     7.2332    3.253 0.001143 ** \n",
       "LATEST_DIST_RES10          31.3744     7.2028    4.356 1.33e-05 ***\n",
       "LATEST_DIST_RES11          50.5686     6.9899    7.234 4.69e-13 ***\n",
       "LATEST_DIST_RES12          30.6471     7.6075    4.029 5.61e-05 ***\n",
       "LATEST_DIST_RES14          12.5768     7.8653    1.599 0.109816    \n",
       "LATEST_DIST_RES15          58.7603     7.3063    8.042 8.84e-16 ***\n",
       "LATEST_DIST_RES16          11.5992     7.7926    1.488 0.136625    \n",
       "LATEST_DIST_RES17          11.9258     7.9789    1.495 0.135004    \n",
       "LATEST_DIST_RES18          23.0986    10.2616    2.251 0.024388 *  \n",
       "LATEST_DIST_RES19           8.8560     8.4369    1.050 0.293869    \n",
       "LATEST_DIST_RES20          18.1867     9.3950    1.936 0.052894 .  \n",
       "LATEST_DIST_RES22          34.9559     7.6992    4.540 5.62e-06 ***\n",
       "LATEST_DIST_RES24          23.9404     8.0331    2.980 0.002881 ** \n",
       "LATEST_DIST_RES25          18.0951     7.0124    2.580 0.009867 ** \n",
       "LATEST_DIST_RES31           4.7019     6.3834    0.737 0.461374    \n",
       "DRUG_IY                    67.6031     1.4102   47.938  < 2e-16 ***\n",
       "WEAPON_IY                 332.7122     2.6268  126.660  < 2e-16 ***\n",
       "CPD_ARREST_IY              44.3692     3.6144   12.276  < 2e-16 ***\n",
       "LATEST_DATE2007            43.8517    22.4598    1.952 0.050885 .  \n",
       "LATEST_DATE2008            82.5735    21.6143    3.820 0.000133 ***\n",
       "LATEST_DATE2009           131.8820    20.7936    6.342 2.27e-10 ***\n",
       "LATEST_DATE2010           173.7637    19.8324    8.762  < 2e-16 ***\n",
       "LATEST_DATE2011           217.3968    19.0006   11.442  < 2e-16 ***\n",
       "LATEST_DATE2012           295.1482    17.2135   17.146  < 2e-16 ***\n",
       "LATEST_DATE2013           292.5920    17.1566   17.054  < 2e-16 ***\n",
       "LATEST_DATE2014           328.0387    17.1618   19.114  < 2e-16 ***\n",
       "LATEST_DATE2015           389.1355    17.1690   22.665  < 2e-16 ***\n",
       "LATEST_DATE2016           470.0238    17.1900   27.343  < 2e-16 ***\n",
       "---\n",
       "Signif. codes:  0 '***' 0.001 '**' 0.01 '*' 0.05 '.' 0.1 ' ' 1\n",
       "\n",
       "Residual standard error: 290.9 on 278840 degrees of freedom\n",
       "Multiple R-squared:  0.9253,\tAdjusted R-squared:  0.9253 \n",
       "F-statistic: 5.005e+04 on 69 and 278840 DF,  p-value: < 2.2e-16\n"
      ]
     },
     "metadata": {},
     "output_type": "display_data"
    }
   ],
   "source": [
    "summary(model)"
   ]
  },
  {
   "cell_type": "code",
   "execution_count": 32,
   "metadata": {
    "collapsed": true
   },
   "outputs": [],
   "source": [
    "Pred_test <- predict(model, test_data)"
   ]
  },
  {
   "cell_type": "code",
   "execution_count": 33,
   "metadata": {},
   "outputs": [
    {
     "data": {
      "text/plain": [
       "   Min. 1st Qu.  Median    Mean 3rd Qu.    Max. \n",
       "   4987    7877    8792    8632    9354   10580 "
      ]
     },
     "metadata": {},
     "output_type": "display_data"
    }
   ],
   "source": [
    "summary(Pred_test)"
   ]
  },
  {
   "cell_type": "code",
   "execution_count": 34,
   "metadata": {},
   "outputs": [
    {
     "data": {
      "text/html": [
       "84010.7962344824"
      ],
      "text/latex": [
       "84010.7962344824"
      ],
      "text/markdown": [
       "84010.7962344824"
      ],
      "text/plain": [
       "[1] 84010.8"
      ]
     },
     "metadata": {},
     "output_type": "display_data"
    }
   ],
   "source": [
    "mean((test_data$PRE_RAW_HEAT_SCORE -Pred_test)^2)"
   ]
  }
 ],
 "metadata": {
  "kernelspec": {
   "display_name": "R",
   "language": "R",
   "name": "ir"
  },
  "language_info": {
   "codemirror_mode": "r",
   "file_extension": ".r",
   "mimetype": "text/x-r-source",
   "name": "R",
   "pygments_lexer": "r",
   "version": "3.3.2"
  }
 },
 "nbformat": 4,
 "nbformat_minor": 2
}
