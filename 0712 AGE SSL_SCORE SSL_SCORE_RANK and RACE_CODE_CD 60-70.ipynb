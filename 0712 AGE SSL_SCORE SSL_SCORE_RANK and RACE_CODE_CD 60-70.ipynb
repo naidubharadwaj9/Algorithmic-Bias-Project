{
 "cells": [
  {
   "cell_type": "code",
   "execution_count": 1,
   "metadata": {},
   "outputs": [
    {
     "name": "stdout",
     "output_type": "stream",
     "text": [
      "The Number of Rows in Initial Data is 6576"
     ]
    }
   ],
   "source": [
    "raw_data <- read.csv(\"SSL_RAT_RACE_CODE_60_70.csv\", sep=\",\", header=T, strip.white = T, na.strings = c(\"NA\",\"NaN\",\"\",\"?\"))\n",
    "#Converting the \".\" in column names to \"_\"\n",
    "names(raw_data)<-gsub(\"\\\\.\", \"_\", names(raw_data))\n",
    "cat(\"The Number of Rows in Initial Data is\", nrow(raw_data))"
   ]
  },
  {
   "cell_type": "code",
   "execution_count": 2,
   "metadata": {
    "collapsed": true
   },
   "outputs": [],
   "source": [
    "final_features<-raw_data[,c('SSL_SCORE','SSL_SCORE_RANK','PREDICTOR_RAT_AGE_AT_LATEST_ARREST','PREDICTOR_RAT_VICTIM_SHOOTING_INCIDENTS',\n",
    "                            'PREDICTOR_RAT_VICTIM_BATTERY_OR_ASSAULT','PREDICTOR_RAT_ARRESTS_VIOLENT_OFFENSES','PREDICTOR_RAT_GANG_AFFILIATION', \n",
    "                           'PREDICTOR_RAT_NARCOTIC_ARRESTS','PREDICTOR_RAT_TREND_IN_CRIMINAL_ACTIVITY','PREDICTOR_RAT_UUW_ARRESTS','RACE_CODE_CD')]"
   ]
  },
  {
   "cell_type": "code",
   "execution_count": 3,
   "metadata": {},
   "outputs": [
    {
     "data": {
      "text/html": [
       "6576"
      ],
      "text/latex": [
       "6576"
      ],
      "text/markdown": [
       "6576"
      ],
      "text/plain": [
       "[1] 6576"
      ]
     },
     "metadata": {},
     "output_type": "display_data"
    }
   ],
   "source": [
    "complete_data <- final_features[complete.cases(final_features),]\n",
    "nrow(complete_data)"
   ]
  },
  {
   "cell_type": "code",
   "execution_count": 4,
   "metadata": {},
   "outputs": [
    {
     "data": {
      "text/html": [
       "<table>\n",
       "<thead><tr><th scope=col>SSL_SCORE</th><th scope=col>SSL_SCORE_RANK</th><th scope=col>PREDICTOR_RAT_AGE_AT_LATEST_ARREST</th><th scope=col>PREDICTOR_RAT_VICTIM_SHOOTING_INCIDENTS</th><th scope=col>PREDICTOR_RAT_VICTIM_BATTERY_OR_ASSAULT</th><th scope=col>PREDICTOR_RAT_ARRESTS_VIOLENT_OFFENSES</th><th scope=col>PREDICTOR_RAT_GANG_AFFILIATION</th><th scope=col>PREDICTOR_RAT_NARCOTIC_ARRESTS</th><th scope=col>PREDICTOR_RAT_TREND_IN_CRIMINAL_ACTIVITY</th><th scope=col>PREDICTOR_RAT_UUW_ARRESTS</th><th scope=col>RACE_CODE_CD</th></tr></thead>\n",
       "<tbody>\n",
       "\t<tr><td>263   </td><td>260892</td><td>60-70 </td><td>0     </td><td>0     </td><td>0     </td><td>0     </td><td>1     </td><td>-0.1  </td><td>0     </td><td>0     </td></tr>\n",
       "\t<tr><td>260   </td><td>266937</td><td>60-70 </td><td>1     </td><td>1     </td><td>0     </td><td>1     </td><td>2     </td><td>-0.2  </td><td>0     </td><td>0     </td></tr>\n",
       "\t<tr><td>241   </td><td>299825</td><td>60-70 </td><td>0     </td><td>3     </td><td>0     </td><td>0     </td><td>0     </td><td> 0.1  </td><td>0     </td><td>0     </td></tr>\n",
       "\t<tr><td>237   </td><td>305335</td><td>60-70 </td><td>0     </td><td>1     </td><td>1     </td><td>0     </td><td>3     </td><td> 1.0  </td><td>1     </td><td>0     </td></tr>\n",
       "\t<tr><td>235   </td><td>309235</td><td>60-70 </td><td>0     </td><td>0     </td><td>3     </td><td>0     </td><td>1     </td><td> 0.6  </td><td>3     </td><td>0     </td></tr>\n",
       "\t<tr><td>234   </td><td>310018</td><td>60-70 </td><td>0     </td><td>3     </td><td>0     </td><td>0     </td><td>0     </td><td>-0.3  </td><td>0     </td><td>0     </td></tr>\n",
       "</tbody>\n",
       "</table>\n"
      ],
      "text/latex": [
       "\\begin{tabular}{r|lllllllllll}\n",
       " SSL\\_SCORE & SSL\\_SCORE\\_RANK & PREDICTOR\\_RAT\\_AGE\\_AT\\_LATEST\\_ARREST & PREDICTOR\\_RAT\\_VICTIM\\_SHOOTING\\_INCIDENTS & PREDICTOR\\_RAT\\_VICTIM\\_BATTERY\\_OR\\_ASSAULT & PREDICTOR\\_RAT\\_ARRESTS\\_VIOLENT\\_OFFENSES & PREDICTOR\\_RAT\\_GANG\\_AFFILIATION & PREDICTOR\\_RAT\\_NARCOTIC\\_ARRESTS & PREDICTOR\\_RAT\\_TREND\\_IN\\_CRIMINAL\\_ACTIVITY & PREDICTOR\\_RAT\\_UUW\\_ARRESTS & RACE\\_CODE\\_CD\\\\\n",
       "\\hline\n",
       "\t 263    & 260892 & 60-70  & 0      & 0      & 0      & 0      & 1      & -0.1   & 0      & 0     \\\\\n",
       "\t 260    & 266937 & 60-70  & 1      & 1      & 0      & 1      & 2      & -0.2   & 0      & 0     \\\\\n",
       "\t 241    & 299825 & 60-70  & 0      & 3      & 0      & 0      & 0      &  0.1   & 0      & 0     \\\\\n",
       "\t 237    & 305335 & 60-70  & 0      & 1      & 1      & 0      & 3      &  1.0   & 1      & 0     \\\\\n",
       "\t 235    & 309235 & 60-70  & 0      & 0      & 3      & 0      & 1      &  0.6   & 3      & 0     \\\\\n",
       "\t 234    & 310018 & 60-70  & 0      & 3      & 0      & 0      & 0      & -0.3   & 0      & 0     \\\\\n",
       "\\end{tabular}\n"
      ],
      "text/markdown": [
       "\n",
       "SSL_SCORE | SSL_SCORE_RANK | PREDICTOR_RAT_AGE_AT_LATEST_ARREST | PREDICTOR_RAT_VICTIM_SHOOTING_INCIDENTS | PREDICTOR_RAT_VICTIM_BATTERY_OR_ASSAULT | PREDICTOR_RAT_ARRESTS_VIOLENT_OFFENSES | PREDICTOR_RAT_GANG_AFFILIATION | PREDICTOR_RAT_NARCOTIC_ARRESTS | PREDICTOR_RAT_TREND_IN_CRIMINAL_ACTIVITY | PREDICTOR_RAT_UUW_ARRESTS | RACE_CODE_CD | \n",
       "|---|---|---|---|---|---|\n",
       "| 263    | 260892 | 60-70  | 0      | 0      | 0      | 0      | 1      | -0.1   | 0      | 0      | \n",
       "| 260    | 266937 | 60-70  | 1      | 1      | 0      | 1      | 2      | -0.2   | 0      | 0      | \n",
       "| 241    | 299825 | 60-70  | 0      | 3      | 0      | 0      | 0      |  0.1   | 0      | 0      | \n",
       "| 237    | 305335 | 60-70  | 0      | 1      | 1      | 0      | 3      |  1.0   | 1      | 0      | \n",
       "| 235    | 309235 | 60-70  | 0      | 0      | 3      | 0      | 1      |  0.6   | 3      | 0      | \n",
       "| 234    | 310018 | 60-70  | 0      | 3      | 0      | 0      | 0      | -0.3   | 0      | 0      | \n",
       "\n",
       "\n"
      ],
      "text/plain": [
       "  SSL_SCORE SSL_SCORE_RANK PREDICTOR_RAT_AGE_AT_LATEST_ARREST\n",
       "1 263       260892         60-70                             \n",
       "2 260       266937         60-70                             \n",
       "3 241       299825         60-70                             \n",
       "4 237       305335         60-70                             \n",
       "5 235       309235         60-70                             \n",
       "6 234       310018         60-70                             \n",
       "  PREDICTOR_RAT_VICTIM_SHOOTING_INCIDENTS\n",
       "1 0                                      \n",
       "2 1                                      \n",
       "3 0                                      \n",
       "4 0                                      \n",
       "5 0                                      \n",
       "6 0                                      \n",
       "  PREDICTOR_RAT_VICTIM_BATTERY_OR_ASSAULT\n",
       "1 0                                      \n",
       "2 1                                      \n",
       "3 3                                      \n",
       "4 1                                      \n",
       "5 0                                      \n",
       "6 3                                      \n",
       "  PREDICTOR_RAT_ARRESTS_VIOLENT_OFFENSES PREDICTOR_RAT_GANG_AFFILIATION\n",
       "1 0                                      0                             \n",
       "2 0                                      1                             \n",
       "3 0                                      0                             \n",
       "4 1                                      0                             \n",
       "5 3                                      0                             \n",
       "6 0                                      0                             \n",
       "  PREDICTOR_RAT_NARCOTIC_ARRESTS PREDICTOR_RAT_TREND_IN_CRIMINAL_ACTIVITY\n",
       "1 1                              -0.1                                    \n",
       "2 2                              -0.2                                    \n",
       "3 0                               0.1                                    \n",
       "4 3                               1.0                                    \n",
       "5 1                               0.6                                    \n",
       "6 0                              -0.3                                    \n",
       "  PREDICTOR_RAT_UUW_ARRESTS RACE_CODE_CD\n",
       "1 0                         0           \n",
       "2 0                         0           \n",
       "3 0                         0           \n",
       "4 1                         0           \n",
       "5 3                         0           \n",
       "6 0                         0           "
      ]
     },
     "metadata": {},
     "output_type": "display_data"
    }
   ],
   "source": [
    "head(complete_data)"
   ]
  },
  {
   "cell_type": "code",
   "execution_count": 5,
   "metadata": {},
   "outputs": [
    {
     "name": "stderr",
     "output_type": "stream",
     "text": [
      "Warning message:\n",
      "\"package 'MatchIt' was built under R version 3.3.3\"Warning message:\n",
      "\"package 'dplyr' was built under R version 3.3.3\"\n",
      "Attaching package: 'dplyr'\n",
      "\n",
      "The following objects are masked from 'package:stats':\n",
      "\n",
      "    filter, lag\n",
      "\n",
      "The following objects are masked from 'package:base':\n",
      "\n",
      "    intersect, setdiff, setequal, union\n",
      "\n",
      "Warning message:\n",
      "\"package 'ggplot2' was built under R version 3.3.3\""
     ]
    }
   ],
   "source": [
    "library(MatchIt)\n",
    "library(dplyr)\n",
    "library(ggplot2)"
   ]
  },
  {
   "cell_type": "code",
   "execution_count": 6,
   "metadata": {},
   "outputs": [
    {
     "data": {
      "text/html": [
       "<table>\n",
       "<thead><tr><th scope=col>RACE_CODE_CD</th><th scope=col>NUMBER_OF_PEOPLE</th><th scope=col>MEAN_SSL_SCORE</th><th scope=col>STD_ERROR</th></tr></thead>\n",
       "<tbody>\n",
       "\t<tr><td>0        </td><td>4339     </td><td>140.2136 </td><td>0.2611074</td></tr>\n",
       "\t<tr><td>1        </td><td>2237     </td><td>136.5762 </td><td>0.3089025</td></tr>\n",
       "</tbody>\n",
       "</table>\n"
      ],
      "text/latex": [
       "\\begin{tabular}{r|llll}\n",
       " RACE\\_CODE\\_CD & NUMBER\\_OF\\_PEOPLE & MEAN\\_SSL\\_SCORE & STD\\_ERROR\\\\\n",
       "\\hline\n",
       "\t 0         & 4339      & 140.2136  & 0.2611074\\\\\n",
       "\t 1         & 2237      & 136.5762  & 0.3089025\\\\\n",
       "\\end{tabular}\n"
      ],
      "text/markdown": [
       "\n",
       "RACE_CODE_CD | NUMBER_OF_PEOPLE | MEAN_SSL_SCORE | STD_ERROR | \n",
       "|---|---|\n",
       "| 0         | 4339      | 140.2136  | 0.2611074 | \n",
       "| 1         | 2237      | 136.5762  | 0.3089025 | \n",
       "\n",
       "\n"
      ],
      "text/plain": [
       "  RACE_CODE_CD NUMBER_OF_PEOPLE MEAN_SSL_SCORE STD_ERROR\n",
       "1 0            4339             140.2136       0.2611074\n",
       "2 1            2237             136.5762       0.3089025"
      ]
     },
     "metadata": {},
     "output_type": "display_data"
    }
   ],
   "source": [
    "#SSL_SCORE\n",
    "complete_data %>%\n",
    "  group_by(RACE_CODE_CD) %>%\n",
    "  summarise(NUMBER_OF_PEOPLE = n(),\n",
    "            MEAN_SSL_SCORE = mean(SSL_SCORE),\n",
    "            STD_ERROR = sd(SSL_SCORE) / sqrt(NUMBER_OF_PEOPLE))"
   ]
  },
  {
   "cell_type": "code",
   "execution_count": 7,
   "metadata": {},
   "outputs": [
    {
     "data": {
      "text/html": [
       "<table>\n",
       "<thead><tr><th scope=col>RACE_CODE_CD</th><th scope=col>NUMBER_OF_PEOPLE</th><th scope=col>MEAN_SSL_SCORE_RANK</th><th scope=col>STD_ERROR</th></tr></thead>\n",
       "<tbody>\n",
       "\t<tr><td>0        </td><td>4339     </td><td>391908.0 </td><td>111.41457</td></tr>\n",
       "\t<tr><td>1        </td><td>2237     </td><td>393293.1 </td><td> 81.48693</td></tr>\n",
       "</tbody>\n",
       "</table>\n"
      ],
      "text/latex": [
       "\\begin{tabular}{r|llll}\n",
       " RACE\\_CODE\\_CD & NUMBER\\_OF\\_PEOPLE & MEAN\\_SSL\\_SCORE\\_RANK & STD\\_ERROR\\\\\n",
       "\\hline\n",
       "\t 0         & 4339      & 391908.0  & 111.41457\\\\\n",
       "\t 1         & 2237      & 393293.1  &  81.48693\\\\\n",
       "\\end{tabular}\n"
      ],
      "text/markdown": [
       "\n",
       "RACE_CODE_CD | NUMBER_OF_PEOPLE | MEAN_SSL_SCORE_RANK | STD_ERROR | \n",
       "|---|---|\n",
       "| 0         | 4339      | 391908.0  | 111.41457 | \n",
       "| 1         | 2237      | 393293.1  |  81.48693 | \n",
       "\n",
       "\n"
      ],
      "text/plain": [
       "  RACE_CODE_CD NUMBER_OF_PEOPLE MEAN_SSL_SCORE_RANK STD_ERROR\n",
       "1 0            4339             391908.0            111.41457\n",
       "2 1            2237             393293.1             81.48693"
      ]
     },
     "metadata": {},
     "output_type": "display_data"
    }
   ],
   "source": [
    "# For SSL_SCORE_RANK\n",
    "complete_data %>%\n",
    "  group_by(RACE_CODE_CD) %>%\n",
    "  summarise(NUMBER_OF_PEOPLE = n(),\n",
    "            MEAN_SSL_SCORE_RANK = mean(SSL_SCORE_RANK),\n",
    "            STD_ERROR = sd(SSL_SCORE_RANK) / sqrt(NUMBER_OF_PEOPLE))"
   ]
  },
  {
   "cell_type": "code",
   "execution_count": 8,
   "metadata": {},
   "outputs": [
    {
     "data": {
      "text/plain": [
       "\n",
       "\tWelch Two Sample t-test\n",
       "\n",
       "data:  SSL_SCORE by RACE_CODE_CD\n",
       "t = 8.993, df = 5203.5, p-value < 2.2e-16\n",
       "alternative hypothesis: true difference in means is not equal to 0\n",
       "95 percent confidence interval:\n",
       " 2.844490 4.430361\n",
       "sample estimates:\n",
       "mean in group 0 mean in group 1 \n",
       "       140.2136        136.5762 \n"
      ]
     },
     "metadata": {},
     "output_type": "display_data"
    }
   ],
   "source": [
    "# T-test without PSM for SSL_SCORE and RACE_CODE_CD\n",
    "attach(complete_data)\n",
    "t.test(SSL_SCORE~RACE_CODE_CD)"
   ]
  },
  {
   "cell_type": "code",
   "execution_count": 9,
   "metadata": {},
   "outputs": [
    {
     "data": {
      "text/plain": [
       "\n",
       "\tWelch Two Sample t-test\n",
       "\n",
       "data:  SSL_SCORE_RANK by RACE_CODE_CD\n",
       "t = -10.035, df = 6571.9, p-value < 2.2e-16\n",
       "alternative hypothesis: true difference in means is not equal to 0\n",
       "95 percent confidence interval:\n",
       " -1655.741 -1114.558\n",
       "sample estimates:\n",
       "mean in group 0 mean in group 1 \n",
       "       391908.0        393293.1 \n"
      ]
     },
     "metadata": {},
     "output_type": "display_data"
    }
   ],
   "source": [
    "# T-test without PSM for SSL_SCORE_RANK and RACE_CODE_CD\n",
    "t.test(SSL_SCORE_RANK~RACE_CODE_CD)"
   ]
  },
  {
   "cell_type": "code",
   "execution_count": 10,
   "metadata": {
    "collapsed": true
   },
   "outputs": [],
   "source": [
    "mod_match <- matchit(RACE_CODE_CD ~ PREDICTOR_RAT_VICTIM_SHOOTING_INCIDENTS + PREDICTOR_RAT_VICTIM_BATTERY_OR_ASSAULT + \n",
    "            PREDICTOR_RAT_ARRESTS_VIOLENT_OFFENSES + PREDICTOR_RAT_GANG_AFFILIATION + PREDICTOR_RAT_NARCOTIC_ARRESTS + PREDICTOR_RAT_TREND_IN_CRIMINAL_ACTIVITY +\n",
    "            PREDICTOR_RAT_UUW_ARRESTS,\n",
    "                     method = \"nearest\", data = complete_data)"
   ]
  },
  {
   "cell_type": "code",
   "execution_count": 11,
   "metadata": {},
   "outputs": [
    {
     "data": {
      "text/plain": [
       "\n",
       "Call: \n",
       "matchit(formula = RACE_CODE_CD ~ PREDICTOR_RAT_VICTIM_SHOOTING_INCIDENTS + \n",
       "    PREDICTOR_RAT_VICTIM_BATTERY_OR_ASSAULT + PREDICTOR_RAT_ARRESTS_VIOLENT_OFFENSES + \n",
       "    PREDICTOR_RAT_GANG_AFFILIATION + PREDICTOR_RAT_NARCOTIC_ARRESTS + \n",
       "    PREDICTOR_RAT_TREND_IN_CRIMINAL_ACTIVITY + PREDICTOR_RAT_UUW_ARRESTS, \n",
       "    data = complete_data, method = \"nearest\")\n",
       "\n",
       "Sample sizes:\n",
       "          Control Treated\n",
       "All          4339    2237\n",
       "Matched      2237    2237\n",
       "Unmatched    2102       0\n",
       "Discarded       0       0\n"
      ]
     },
     "metadata": {},
     "output_type": "display_data"
    }
   ],
   "source": [
    "mod_match"
   ]
  },
  {
   "cell_type": "code",
   "execution_count": 12,
   "metadata": {
    "collapsed": true
   },
   "outputs": [],
   "source": [
    "matched <- match.data(mod_match)\n",
    "matched_copy<-matched"
   ]
  },
  {
   "cell_type": "code",
   "execution_count": 13,
   "metadata": {},
   "outputs": [
    {
     "name": "stdout",
     "output_type": "stream",
     "text": [
      "[1] \"To identify the units, use first mouse button; to stop, use second.\"\n"
     ]
    },
    {
     "data": {
      "text/html": [],
      "text/latex": [],
      "text/markdown": [],
      "text/plain": [
       "integer(0)"
      ]
     },
     "metadata": {},
     "output_type": "display_data"
    },
    {
     "data": {
      "image/png": "[encoded data removed]",
      "text/plain": [
       "Plot with title \"Distribution of Propensity Scores\""
      ]
     },
     "metadata": {},
     "output_type": "display_data"
    }
   ],
   "source": [
    "plot(mod_match, type = \"jitter\")"
   ]
  },
  {
   "cell_type": "code",
   "execution_count": 14,
   "metadata": {},
   "outputs": [
    {
     "data": {
      "image/png": "[encoded data removed]",
      "text/plain": [
       "Plot with title \"Matched Control\""
      ]
     },
     "metadata": {},
     "output_type": "display_data"
    }
   ],
   "source": [
    "plot(mod_match, type = \"hist\")"
   ]
  },
  {
   "cell_type": "code",
   "execution_count": 15,
   "metadata": {},
   "outputs": [
    {
     "data": {
      "text/html": [
       "<table>\n",
       "<thead><tr><th></th><th scope=col>SSL_SCORE</th><th scope=col>SSL_SCORE_RANK</th><th scope=col>PREDICTOR_RAT_AGE_AT_LATEST_ARREST</th><th scope=col>PREDICTOR_RAT_VICTIM_SHOOTING_INCIDENTS</th><th scope=col>PREDICTOR_RAT_VICTIM_BATTERY_OR_ASSAULT</th><th scope=col>PREDICTOR_RAT_ARRESTS_VIOLENT_OFFENSES</th><th scope=col>PREDICTOR_RAT_GANG_AFFILIATION</th><th scope=col>PREDICTOR_RAT_NARCOTIC_ARRESTS</th><th scope=col>PREDICTOR_RAT_TREND_IN_CRIMINAL_ACTIVITY</th><th scope=col>PREDICTOR_RAT_UUW_ARRESTS</th><th scope=col>RACE_CODE_CD</th><th scope=col>distance</th><th scope=col>weights</th></tr></thead>\n",
       "<tbody>\n",
       "\t<tr><th scope=row>15</th><td>215        </td><td>336257     </td><td>60-70      </td><td>0          </td><td>0          </td><td>2          </td><td>0          </td><td>3          </td><td> 0.6       </td><td>1          </td><td>1          </td><td>0.001881264</td><td>1          </td></tr>\n",
       "\t<tr><th scope=row>16</th><td>213        </td><td>339360     </td><td>60-70      </td><td>0          </td><td>0          </td><td>2          </td><td>0          </td><td>0          </td><td> 2.2       </td><td>0          </td><td>0          </td><td>0.621843750</td><td>1          </td></tr>\n",
       "\t<tr><th scope=row>29</th><td>199        </td><td>354995     </td><td>60-70      </td><td>0          </td><td>0          </td><td>3          </td><td>0          </td><td>0          </td><td> 2.1       </td><td>0          </td><td>1          </td><td>0.592871871</td><td>1          </td></tr>\n",
       "\t<tr><th scope=row>30</th><td>199        </td><td>354995     </td><td>60-70      </td><td>0          </td><td>0          </td><td>2          </td><td>0          </td><td>0          </td><td> 0.1       </td><td>1          </td><td>1          </td><td>0.227206509</td><td>1          </td></tr>\n",
       "\t<tr><th scope=row>33</th><td>196        </td><td>358581     </td><td>60-70      </td><td>0          </td><td>0          </td><td>0          </td><td>0          </td><td>0          </td><td>-0.2       </td><td>0          </td><td>0          </td><td>0.411395172</td><td>1          </td></tr>\n",
       "\t<tr><th scope=row>34</th><td>196        </td><td>358581     </td><td>60-70      </td><td>0          </td><td>0          </td><td>0          </td><td>0          </td><td>1          </td><td> 0.1       </td><td>0          </td><td>1          </td><td>0.120774236</td><td>1          </td></tr>\n",
       "</tbody>\n",
       "</table>\n"
      ],
      "text/latex": [
       "\\begin{tabular}{r|lllllllllllll}\n",
       "  & SSL\\_SCORE & SSL\\_SCORE\\_RANK & PREDICTOR\\_RAT\\_AGE\\_AT\\_LATEST\\_ARREST & PREDICTOR\\_RAT\\_VICTIM\\_SHOOTING\\_INCIDENTS & PREDICTOR\\_RAT\\_VICTIM\\_BATTERY\\_OR\\_ASSAULT & PREDICTOR\\_RAT\\_ARRESTS\\_VIOLENT\\_OFFENSES & PREDICTOR\\_RAT\\_GANG\\_AFFILIATION & PREDICTOR\\_RAT\\_NARCOTIC\\_ARRESTS & PREDICTOR\\_RAT\\_TREND\\_IN\\_CRIMINAL\\_ACTIVITY & PREDICTOR\\_RAT\\_UUW\\_ARRESTS & RACE\\_CODE\\_CD & distance & weights\\\\\n",
       "\\hline\n",
       "\t15 & 215         & 336257      & 60-70       & 0           & 0           & 2           & 0           & 3           &  0.6        & 1           & 1           & 0.001881264 & 1          \\\\\n",
       "\t16 & 213         & 339360      & 60-70       & 0           & 0           & 2           & 0           & 0           &  2.2        & 0           & 0           & 0.621843750 & 1          \\\\\n",
       "\t29 & 199         & 354995      & 60-70       & 0           & 0           & 3           & 0           & 0           &  2.1        & 0           & 1           & 0.592871871 & 1          \\\\\n",
       "\t30 & 199         & 354995      & 60-70       & 0           & 0           & 2           & 0           & 0           &  0.1        & 1           & 1           & 0.227206509 & 1          \\\\\n",
       "\t33 & 196         & 358581      & 60-70       & 0           & 0           & 0           & 0           & 0           & -0.2        & 0           & 0           & 0.411395172 & 1          \\\\\n",
       "\t34 & 196         & 358581      & 60-70       & 0           & 0           & 0           & 0           & 1           &  0.1        & 0           & 1           & 0.120774236 & 1          \\\\\n",
       "\\end{tabular}\n"
      ],
      "text/markdown": [
       "\n",
       "| <!--/--> | SSL_SCORE | SSL_SCORE_RANK | PREDICTOR_RAT_AGE_AT_LATEST_ARREST | PREDICTOR_RAT_VICTIM_SHOOTING_INCIDENTS | PREDICTOR_RAT_VICTIM_BATTERY_OR_ASSAULT | PREDICTOR_RAT_ARRESTS_VIOLENT_OFFENSES | PREDICTOR_RAT_GANG_AFFILIATION | PREDICTOR_RAT_NARCOTIC_ARRESTS | PREDICTOR_RAT_TREND_IN_CRIMINAL_ACTIVITY | PREDICTOR_RAT_UUW_ARRESTS | RACE_CODE_CD | distance | weights | \n",
       "|---|---|---|---|---|---|\n",
       "| 15 | 215         | 336257      | 60-70       | 0           | 0           | 2           | 0           | 3           |  0.6        | 1           | 1           | 0.001881264 | 1           | \n",
       "| 16 | 213         | 339360      | 60-70       | 0           | 0           | 2           | 0           | 0           |  2.2        | 0           | 0           | 0.621843750 | 1           | \n",
       "| 29 | 199         | 354995      | 60-70       | 0           | 0           | 3           | 0           | 0           |  2.1        | 0           | 1           | 0.592871871 | 1           | \n",
       "| 30 | 199         | 354995      | 60-70       | 0           | 0           | 2           | 0           | 0           |  0.1        | 1           | 1           | 0.227206509 | 1           | \n",
       "| 33 | 196         | 358581      | 60-70       | 0           | 0           | 0           | 0           | 0           | -0.2        | 0           | 0           | 0.411395172 | 1           | \n",
       "| 34 | 196         | 358581      | 60-70       | 0           | 0           | 0           | 0           | 1           |  0.1        | 0           | 1           | 0.120774236 | 1           | \n",
       "\n",
       "\n"
      ],
      "text/plain": [
       "   SSL_SCORE SSL_SCORE_RANK PREDICTOR_RAT_AGE_AT_LATEST_ARREST\n",
       "15 215       336257         60-70                             \n",
       "16 213       339360         60-70                             \n",
       "29 199       354995         60-70                             \n",
       "30 199       354995         60-70                             \n",
       "33 196       358581         60-70                             \n",
       "34 196       358581         60-70                             \n",
       "   PREDICTOR_RAT_VICTIM_SHOOTING_INCIDENTS\n",
       "15 0                                      \n",
       "16 0                                      \n",
       "29 0                                      \n",
       "30 0                                      \n",
       "33 0                                      \n",
       "34 0                                      \n",
       "   PREDICTOR_RAT_VICTIM_BATTERY_OR_ASSAULT\n",
       "15 0                                      \n",
       "16 0                                      \n",
       "29 0                                      \n",
       "30 0                                      \n",
       "33 0                                      \n",
       "34 0                                      \n",
       "   PREDICTOR_RAT_ARRESTS_VIOLENT_OFFENSES PREDICTOR_RAT_GANG_AFFILIATION\n",
       "15 2                                      0                             \n",
       "16 2                                      0                             \n",
       "29 3                                      0                             \n",
       "30 2                                      0                             \n",
       "33 0                                      0                             \n",
       "34 0                                      0                             \n",
       "   PREDICTOR_RAT_NARCOTIC_ARRESTS PREDICTOR_RAT_TREND_IN_CRIMINAL_ACTIVITY\n",
       "15 3                               0.6                                    \n",
       "16 0                               2.2                                    \n",
       "29 0                               2.1                                    \n",
       "30 0                               0.1                                    \n",
       "33 0                              -0.2                                    \n",
       "34 1                               0.1                                    \n",
       "   PREDICTOR_RAT_UUW_ARRESTS RACE_CODE_CD distance    weights\n",
       "15 1                         1            0.001881264 1      \n",
       "16 0                         0            0.621843750 1      \n",
       "29 0                         1            0.592871871 1      \n",
       "30 1                         1            0.227206509 1      \n",
       "33 0                         0            0.411395172 1      \n",
       "34 0                         1            0.120774236 1      "
      ]
     },
     "metadata": {},
     "output_type": "display_data"
    }
   ],
   "source": [
    "head(matched)"
   ]
  },
  {
   "cell_type": "code",
   "execution_count": 16,
   "metadata": {},
   "outputs": [
    {
     "name": "stderr",
     "output_type": "stream",
     "text": [
      "The following objects are masked from complete_data:\n",
      "\n",
      "    PREDICTOR_RAT_AGE_AT_LATEST_ARREST,\n",
      "    PREDICTOR_RAT_ARRESTS_VIOLENT_OFFENSES,\n",
      "    PREDICTOR_RAT_GANG_AFFILIATION, PREDICTOR_RAT_NARCOTIC_ARRESTS,\n",
      "    PREDICTOR_RAT_TREND_IN_CRIMINAL_ACTIVITY,\n",
      "    PREDICTOR_RAT_UUW_ARRESTS, PREDICTOR_RAT_VICTIM_BATTERY_OR_ASSAULT,\n",
      "    PREDICTOR_RAT_VICTIM_SHOOTING_INCIDENTS, RACE_CODE_CD, SSL_SCORE,\n",
      "    SSL_SCORE_RANK\n",
      "\n"
     ]
    }
   ],
   "source": [
    "# Doing T - test on matched records\n",
    "attach(matched)"
   ]
  },
  {
   "cell_type": "code",
   "execution_count": 17,
   "metadata": {
    "collapsed": true
   },
   "outputs": [],
   "source": [
    "race_black <-subset(matched,RACE_CODE_CD == 0)\n",
    "race_white<-subset(matched,RACE_CODE_CD == 1)\n"
   ]
  },
  {
   "cell_type": "code",
   "execution_count": 18,
   "metadata": {},
   "outputs": [
    {
     "data": {
      "text/plain": [
       "\n",
       "\tWelch Two Sample t-test\n",
       "\n",
       "data:  SSL_SCORE by RACE_CODE_CD\n",
       "t = 0.80774, df = 4469.9, p-value = 0.4193\n",
       "alternative hypothesis: true difference in means is not equal to 0\n",
       "95 percent confidence interval:\n",
       " -0.4982518  1.1965084\n",
       "sample estimates:\n",
       "mean in group 0 mean in group 1 \n",
       "       136.9253        136.5762 \n"
      ]
     },
     "metadata": {},
     "output_type": "display_data"
    }
   ],
   "source": [
    "t.test(SSL_SCORE~RACE_CODE_CD)"
   ]
  },
  {
   "cell_type": "code",
   "execution_count": 19,
   "metadata": {},
   "outputs": [
    {
     "data": {
      "text/plain": [
       "\n",
       "\tWelch Two Sample t-test\n",
       "\n",
       "data:  SSL_SCORE_RANK by RACE_CODE_CD\n",
       "t = -0.16204, df = 4448.2, p-value = 0.8713\n",
       "alternative hypothesis: true difference in means is not equal to 0\n",
       "95 percent confidence interval:\n",
       " -236.1173  200.0655\n",
       "sample estimates:\n",
       "mean in group 0 mean in group 1 \n",
       "       393275.1        393293.1 \n"
      ]
     },
     "metadata": {},
     "output_type": "display_data"
    }
   ],
   "source": [
    "t.test(SSL_SCORE_RANK~RACE_CODE_CD)"
   ]
  }
 ],
 "metadata": {
  "kernelspec": {
   "display_name": "R",
   "language": "R",
   "name": "ir"
  },
  "language_info": {
   "codemirror_mode": "r",
   "file_extension": ".r",
   "mimetype": "text/x-r-source",
   "name": "R",
   "pygments_lexer": "r",
   "version": "3.3.2"
  }
 },
 "nbformat": 4,
 "nbformat_minor": 2
}
