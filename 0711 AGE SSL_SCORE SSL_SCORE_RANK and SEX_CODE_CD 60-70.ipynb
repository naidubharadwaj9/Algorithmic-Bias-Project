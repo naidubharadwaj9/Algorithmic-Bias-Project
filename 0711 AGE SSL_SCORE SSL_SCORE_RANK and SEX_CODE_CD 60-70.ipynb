{
 "cells": [
  {
   "cell_type": "code",
   "execution_count": 1,
   "metadata": {},
   "outputs": [
    {
     "name": "stdout",
     "output_type": "stream",
     "text": [
      "The Number of Rows in Initial Data is 7822"
     ]
    }
   ],
   "source": [
    "raw_data <- read.csv(\"SSL_RAT_SEX_Code_60_70.csv\", sep=\",\", header=T, strip.white = T, na.strings = c(\"NA\",\"NaN\",\"\",\"?\"))\n",
    "#Converting the \".\" in column names to \"_\"\n",
    "names(raw_data)<-gsub(\"\\\\.\", \"_\", names(raw_data))\n",
    "cat(\"The Number of Rows in Initial Data is\", nrow(raw_data))"
   ]
  },
  {
   "cell_type": "code",
   "execution_count": 2,
   "metadata": {
    "collapsed": true
   },
   "outputs": [],
   "source": [
    "final_features<-raw_data[,c('SSL_SCORE','SSL_SCORE_RANK','PREDICTOR_RAT_AGE_AT_LATEST_ARREST','PREDICTOR_RAT_VICTIM_SHOOTING_INCIDENTS',\n",
    "                            'PREDICTOR_RAT_VICTIM_BATTERY_OR_ASSAULT','PREDICTOR_RAT_ARRESTS_VIOLENT_OFFENSES','PREDICTOR_RAT_GANG_AFFILIATION', \n",
    "                           'PREDICTOR_RAT_NARCOTIC_ARRESTS','PREDICTOR_RAT_TREND_IN_CRIMINAL_ACTIVITY','PREDICTOR_RAT_UUW_ARRESTS','SEX_CODE_CD')]"
   ]
  },
  {
   "cell_type": "code",
   "execution_count": 3,
   "metadata": {},
   "outputs": [
    {
     "data": {
      "text/html": [
       "7822"
      ],
      "text/latex": [
       "7822"
      ],
      "text/markdown": [
       "7822"
      ],
      "text/plain": [
       "[1] 7822"
      ]
     },
     "metadata": {},
     "output_type": "display_data"
    }
   ],
   "source": [
    "complete_data <- final_features[complete.cases(final_features),]\n",
    "nrow(complete_data)"
   ]
  },
  {
   "cell_type": "code",
   "execution_count": 4,
   "metadata": {},
   "outputs": [
    {
     "data": {
      "text/html": [
       "<table>\n",
       "<thead><tr><th scope=col>SSL_SCORE</th><th scope=col>SSL_SCORE_RANK</th><th scope=col>PREDICTOR_RAT_AGE_AT_LATEST_ARREST</th><th scope=col>PREDICTOR_RAT_VICTIM_SHOOTING_INCIDENTS</th><th scope=col>PREDICTOR_RAT_VICTIM_BATTERY_OR_ASSAULT</th><th scope=col>PREDICTOR_RAT_ARRESTS_VIOLENT_OFFENSES</th><th scope=col>PREDICTOR_RAT_GANG_AFFILIATION</th><th scope=col>PREDICTOR_RAT_NARCOTIC_ARRESTS</th><th scope=col>PREDICTOR_RAT_TREND_IN_CRIMINAL_ACTIVITY</th><th scope=col>PREDICTOR_RAT_UUW_ARRESTS</th><th scope=col>SEX_CODE_CD</th></tr></thead>\n",
       "<tbody>\n",
       "\t<tr><td>263   </td><td>260892</td><td>60-70 </td><td>0     </td><td>0     </td><td>0     </td><td>0     </td><td>1     </td><td>-0.1  </td><td>0     </td><td>1     </td></tr>\n",
       "\t<tr><td>260   </td><td>266937</td><td>60-70 </td><td>1     </td><td>1     </td><td>0     </td><td>1     </td><td>2     </td><td>-0.2  </td><td>0     </td><td>1     </td></tr>\n",
       "\t<tr><td>241   </td><td>299825</td><td>60-70 </td><td>0     </td><td>3     </td><td>0     </td><td>0     </td><td>0     </td><td> 0.1  </td><td>0     </td><td>1     </td></tr>\n",
       "\t<tr><td>237   </td><td>305335</td><td>60-70 </td><td>0     </td><td>1     </td><td>1     </td><td>0     </td><td>3     </td><td> 1.0  </td><td>1     </td><td>1     </td></tr>\n",
       "\t<tr><td>235   </td><td>309235</td><td>60-70 </td><td>0     </td><td>0     </td><td>3     </td><td>0     </td><td>1     </td><td> 0.6  </td><td>3     </td><td>1     </td></tr>\n",
       "\t<tr><td>234   </td><td>310018</td><td>60-70 </td><td>0     </td><td>3     </td><td>0     </td><td>0     </td><td>0     </td><td>-0.3  </td><td>0     </td><td>1     </td></tr>\n",
       "</tbody>\n",
       "</table>\n"
      ],
      "text/latex": [
       "\\begin{tabular}{r|lllllllllll}\n",
       " SSL\\_SCORE & SSL\\_SCORE\\_RANK & PREDICTOR\\_RAT\\_AGE\\_AT\\_LATEST\\_ARREST & PREDICTOR\\_RAT\\_VICTIM\\_SHOOTING\\_INCIDENTS & PREDICTOR\\_RAT\\_VICTIM\\_BATTERY\\_OR\\_ASSAULT & PREDICTOR\\_RAT\\_ARRESTS\\_VIOLENT\\_OFFENSES & PREDICTOR\\_RAT\\_GANG\\_AFFILIATION & PREDICTOR\\_RAT\\_NARCOTIC\\_ARRESTS & PREDICTOR\\_RAT\\_TREND\\_IN\\_CRIMINAL\\_ACTIVITY & PREDICTOR\\_RAT\\_UUW\\_ARRESTS & SEX\\_CODE\\_CD\\\\\n",
       "\\hline\n",
       "\t 263    & 260892 & 60-70  & 0      & 0      & 0      & 0      & 1      & -0.1   & 0      & 1     \\\\\n",
       "\t 260    & 266937 & 60-70  & 1      & 1      & 0      & 1      & 2      & -0.2   & 0      & 1     \\\\\n",
       "\t 241    & 299825 & 60-70  & 0      & 3      & 0      & 0      & 0      &  0.1   & 0      & 1     \\\\\n",
       "\t 237    & 305335 & 60-70  & 0      & 1      & 1      & 0      & 3      &  1.0   & 1      & 1     \\\\\n",
       "\t 235    & 309235 & 60-70  & 0      & 0      & 3      & 0      & 1      &  0.6   & 3      & 1     \\\\\n",
       "\t 234    & 310018 & 60-70  & 0      & 3      & 0      & 0      & 0      & -0.3   & 0      & 1     \\\\\n",
       "\\end{tabular}\n"
      ],
      "text/markdown": [
       "\n",
       "SSL_SCORE | SSL_SCORE_RANK | PREDICTOR_RAT_AGE_AT_LATEST_ARREST | PREDICTOR_RAT_VICTIM_SHOOTING_INCIDENTS | PREDICTOR_RAT_VICTIM_BATTERY_OR_ASSAULT | PREDICTOR_RAT_ARRESTS_VIOLENT_OFFENSES | PREDICTOR_RAT_GANG_AFFILIATION | PREDICTOR_RAT_NARCOTIC_ARRESTS | PREDICTOR_RAT_TREND_IN_CRIMINAL_ACTIVITY | PREDICTOR_RAT_UUW_ARRESTS | SEX_CODE_CD | \n",
       "|---|---|---|---|---|---|\n",
       "| 263    | 260892 | 60-70  | 0      | 0      | 0      | 0      | 1      | -0.1   | 0      | 1      | \n",
       "| 260    | 266937 | 60-70  | 1      | 1      | 0      | 1      | 2      | -0.2   | 0      | 1      | \n",
       "| 241    | 299825 | 60-70  | 0      | 3      | 0      | 0      | 0      |  0.1   | 0      | 1      | \n",
       "| 237    | 305335 | 60-70  | 0      | 1      | 1      | 0      | 3      |  1.0   | 1      | 1      | \n",
       "| 235    | 309235 | 60-70  | 0      | 0      | 3      | 0      | 1      |  0.6   | 3      | 1      | \n",
       "| 234    | 310018 | 60-70  | 0      | 3      | 0      | 0      | 0      | -0.3   | 0      | 1      | \n",
       "\n",
       "\n"
      ],
      "text/plain": [
       "  SSL_SCORE SSL_SCORE_RANK PREDICTOR_RAT_AGE_AT_LATEST_ARREST\n",
       "1 263       260892         60-70                             \n",
       "2 260       266937         60-70                             \n",
       "3 241       299825         60-70                             \n",
       "4 237       305335         60-70                             \n",
       "5 235       309235         60-70                             \n",
       "6 234       310018         60-70                             \n",
       "  PREDICTOR_RAT_VICTIM_SHOOTING_INCIDENTS\n",
       "1 0                                      \n",
       "2 1                                      \n",
       "3 0                                      \n",
       "4 0                                      \n",
       "5 0                                      \n",
       "6 0                                      \n",
       "  PREDICTOR_RAT_VICTIM_BATTERY_OR_ASSAULT\n",
       "1 0                                      \n",
       "2 1                                      \n",
       "3 3                                      \n",
       "4 1                                      \n",
       "5 0                                      \n",
       "6 3                                      \n",
       "  PREDICTOR_RAT_ARRESTS_VIOLENT_OFFENSES PREDICTOR_RAT_GANG_AFFILIATION\n",
       "1 0                                      0                             \n",
       "2 0                                      1                             \n",
       "3 0                                      0                             \n",
       "4 1                                      0                             \n",
       "5 3                                      0                             \n",
       "6 0                                      0                             \n",
       "  PREDICTOR_RAT_NARCOTIC_ARRESTS PREDICTOR_RAT_TREND_IN_CRIMINAL_ACTIVITY\n",
       "1 1                              -0.1                                    \n",
       "2 2                              -0.2                                    \n",
       "3 0                               0.1                                    \n",
       "4 3                               1.0                                    \n",
       "5 1                               0.6                                    \n",
       "6 0                              -0.3                                    \n",
       "  PREDICTOR_RAT_UUW_ARRESTS SEX_CODE_CD\n",
       "1 0                         1          \n",
       "2 0                         1          \n",
       "3 0                         1          \n",
       "4 1                         1          \n",
       "5 3                         1          \n",
       "6 0                         1          "
      ]
     },
     "metadata": {},
     "output_type": "display_data"
    }
   ],
   "source": [
    "head(complete_data)"
   ]
  },
  {
   "cell_type": "code",
   "execution_count": 5,
   "metadata": {},
   "outputs": [
    {
     "name": "stderr",
     "output_type": "stream",
     "text": [
      "Warning message:\n",
      "\"package 'MatchIt' was built under R version 3.3.3\"Warning message:\n",
      "\"package 'dplyr' was built under R version 3.3.3\"\n",
      "Attaching package: 'dplyr'\n",
      "\n",
      "The following objects are masked from 'package:stats':\n",
      "\n",
      "    filter, lag\n",
      "\n",
      "The following objects are masked from 'package:base':\n",
      "\n",
      "    intersect, setdiff, setequal, union\n",
      "\n",
      "Warning message:\n",
      "\"package 'ggplot2' was built under R version 3.3.3\""
     ]
    }
   ],
   "source": [
    "library(MatchIt)\n",
    "library(dplyr)\n",
    "library(ggplot2)"
   ]
  },
  {
   "cell_type": "code",
   "execution_count": 6,
   "metadata": {},
   "outputs": [
    {
     "data": {
      "text/html": [
       "<table>\n",
       "<thead><tr><th scope=col>SEX_CODE_CD</th><th scope=col>NUMBER_OF_PEOPLE</th><th scope=col>MEAN_SSL_SCORE</th><th scope=col>STD_ERROR</th></tr></thead>\n",
       "<tbody>\n",
       "\t<tr><td>0        </td><td>1177     </td><td>137.9924 </td><td>0.4334100</td></tr>\n",
       "\t<tr><td>1        </td><td>6645     </td><td>138.8886 </td><td>0.2014172</td></tr>\n",
       "</tbody>\n",
       "</table>\n"
      ],
      "text/latex": [
       "\\begin{tabular}{r|llll}\n",
       " SEX\\_CODE\\_CD & NUMBER\\_OF\\_PEOPLE & MEAN\\_SSL\\_SCORE & STD\\_ERROR\\\\\n",
       "\\hline\n",
       "\t 0         & 1177      & 137.9924  & 0.4334100\\\\\n",
       "\t 1         & 6645      & 138.8886  & 0.2014172\\\\\n",
       "\\end{tabular}\n"
      ],
      "text/markdown": [
       "\n",
       "SEX_CODE_CD | NUMBER_OF_PEOPLE | MEAN_SSL_SCORE | STD_ERROR | \n",
       "|---|---|\n",
       "| 0         | 1177      | 137.9924  | 0.4334100 | \n",
       "| 1         | 6645      | 138.8886  | 0.2014172 | \n",
       "\n",
       "\n"
      ],
      "text/plain": [
       "  SEX_CODE_CD NUMBER_OF_PEOPLE MEAN_SSL_SCORE STD_ERROR\n",
       "1 0           1177             137.9924       0.4334100\n",
       "2 1           6645             138.8886       0.2014172"
      ]
     },
     "metadata": {},
     "output_type": "display_data"
    }
   ],
   "source": [
    "#SSL_SCORE\n",
    "complete_data %>%\n",
    "  group_by(SEX_CODE_CD) %>%\n",
    "  summarise(NUMBER_OF_PEOPLE = n(),\n",
    "            MEAN_SSL_SCORE = mean(SSL_SCORE),\n",
    "            STD_ERROR = sd(SSL_SCORE) / sqrt(NUMBER_OF_PEOPLE))"
   ]
  },
  {
   "cell_type": "code",
   "execution_count": 7,
   "metadata": {},
   "outputs": [
    {
     "data": {
      "text/html": [
       "<table>\n",
       "<thead><tr><th scope=col>SEX_CODE_CD</th><th scope=col>NUMBER_OF_PEOPLE</th><th scope=col>MEAN_SSL_SCORE</th><th scope=col>STD_ERROR</th></tr></thead>\n",
       "<tbody>\n",
       "\t<tr><td>0        </td><td>1177     </td><td>392940.2 </td><td>114.85335</td></tr>\n",
       "\t<tr><td>1        </td><td>6645     </td><td>392392.7 </td><td> 80.17586</td></tr>\n",
       "</tbody>\n",
       "</table>\n"
      ],
      "text/latex": [
       "\\begin{tabular}{r|llll}\n",
       " SEX\\_CODE\\_CD & NUMBER\\_OF\\_PEOPLE & MEAN\\_SSL\\_SCORE & STD\\_ERROR\\\\\n",
       "\\hline\n",
       "\t 0         & 1177      & 392940.2  & 114.85335\\\\\n",
       "\t 1         & 6645      & 392392.7  &  80.17586\\\\\n",
       "\\end{tabular}\n"
      ],
      "text/markdown": [
       "\n",
       "SEX_CODE_CD | NUMBER_OF_PEOPLE | MEAN_SSL_SCORE | STD_ERROR | \n",
       "|---|---|\n",
       "| 0         | 1177      | 392940.2  | 114.85335 | \n",
       "| 1         | 6645      | 392392.7  |  80.17586 | \n",
       "\n",
       "\n"
      ],
      "text/plain": [
       "  SEX_CODE_CD NUMBER_OF_PEOPLE MEAN_SSL_SCORE STD_ERROR\n",
       "1 0           1177             392940.2       114.85335\n",
       "2 1           6645             392392.7        80.17586"
      ]
     },
     "metadata": {},
     "output_type": "display_data"
    }
   ],
   "source": [
    "# For SSL_SCORE_RANK\n",
    "complete_data %>%\n",
    "  group_by(SEX_CODE_CD) %>%\n",
    "  summarise(NUMBER_OF_PEOPLE = n(),\n",
    "            MEAN_SSL_SCORE = mean(SSL_SCORE_RANK),\n",
    "            STD_ERROR = sd(SSL_SCORE_RANK) / sqrt(NUMBER_OF_PEOPLE))"
   ]
  },
  {
   "cell_type": "code",
   "execution_count": 8,
   "metadata": {},
   "outputs": [
    {
     "data": {
      "text/plain": [
       "\n",
       "\tWelch Two Sample t-test\n",
       "\n",
       "data:  SSL_SCORE by SEX_CODE_CD\n",
       "t = -1.8754, df = 1724.6, p-value = 0.06091\n",
       "alternative hypothesis: true difference in means is not equal to 0\n",
       "95 percent confidence interval:\n",
       " -1.83365992  0.04109066\n",
       "sample estimates:\n",
       "mean in group 0 mean in group 1 \n",
       "       137.9924        138.8886 \n"
      ]
     },
     "metadata": {},
     "output_type": "display_data"
    }
   ],
   "source": [
    "# T-test without PSM for SSL_SCORE and SEX_CODE_CD\n",
    "attach(complete_data)\n",
    "t.test(SSL_SCORE~SEX_CODE_CD)"
   ]
  },
  {
   "cell_type": "code",
   "execution_count": 9,
   "metadata": {},
   "outputs": [
    {
     "data": {
      "text/plain": [
       "\n",
       "\tWelch Two Sample t-test\n",
       "\n",
       "data:  SSL_SCORE_RANK by SEX_CODE_CD\n",
       "t = 3.9083, df = 2496.5, p-value = 9.541e-05\n",
       "alternative hypothesis: true difference in means is not equal to 0\n",
       "95 percent confidence interval:\n",
       " 272.7714 822.1000\n",
       "sample estimates:\n",
       "mean in group 0 mean in group 1 \n",
       "       392940.2        392392.7 \n"
      ]
     },
     "metadata": {},
     "output_type": "display_data"
    }
   ],
   "source": [
    "# T-test without PSM for SSL_SCORE_RANK and SEX_CODE_CD\n",
    "t.test(SSL_SCORE_RANK~SEX_CODE_CD)"
   ]
  },
  {
   "cell_type": "code",
   "execution_count": 10,
   "metadata": {},
   "outputs": [
    {
     "name": "stderr",
     "output_type": "stream",
     "text": [
      "Warning message in matchit2nearest(structure(c(1L, 1L, 1L, 1L, 1L, 1L, 1L, 1L, 1L, :\n",
      "\"Fewer control than treated units and matching without replacement.  Not all treated units will receive a match.  Treated units will be matched in the order specified by m.order: largest\""
     ]
    }
   ],
   "source": [
    "mod_match <- matchit(SEX_CODE_CD ~ PREDICTOR_RAT_VICTIM_SHOOTING_INCIDENTS + PREDICTOR_RAT_VICTIM_BATTERY_OR_ASSAULT + \n",
    "            PREDICTOR_RAT_ARRESTS_VIOLENT_OFFENSES + PREDICTOR_RAT_GANG_AFFILIATION + PREDICTOR_RAT_NARCOTIC_ARRESTS + PREDICTOR_RAT_TREND_IN_CRIMINAL_ACTIVITY +\n",
    "            PREDICTOR_RAT_UUW_ARRESTS,\n",
    "                     method = \"nearest\", data = complete_data)"
   ]
  },
  {
   "cell_type": "code",
   "execution_count": 11,
   "metadata": {},
   "outputs": [
    {
     "data": {
      "text/plain": [
       "\n",
       "Call: \n",
       "matchit(formula = SEX_CODE_CD ~ PREDICTOR_RAT_VICTIM_SHOOTING_INCIDENTS + \n",
       "    PREDICTOR_RAT_VICTIM_BATTERY_OR_ASSAULT + PREDICTOR_RAT_ARRESTS_VIOLENT_OFFENSES + \n",
       "    PREDICTOR_RAT_GANG_AFFILIATION + PREDICTOR_RAT_NARCOTIC_ARRESTS + \n",
       "    PREDICTOR_RAT_TREND_IN_CRIMINAL_ACTIVITY + PREDICTOR_RAT_UUW_ARRESTS, \n",
       "    data = complete_data, method = \"nearest\")\n",
       "\n",
       "Sample sizes:\n",
       "          Control Treated\n",
       "All          1177    6645\n",
       "Matched      1177    1177\n",
       "Unmatched       0    5468\n",
       "Discarded       0       0\n"
      ]
     },
     "metadata": {},
     "output_type": "display_data"
    }
   ],
   "source": [
    "mod_match"
   ]
  },
  {
   "cell_type": "code",
   "execution_count": 12,
   "metadata": {
    "collapsed": true
   },
   "outputs": [],
   "source": [
    "matched <- match.data(mod_match)\n",
    "matched_copy<-matched"
   ]
  },
  {
   "cell_type": "code",
   "execution_count": 13,
   "metadata": {},
   "outputs": [
    {
     "name": "stdout",
     "output_type": "stream",
     "text": [
      "[1] \"To identify the units, use first mouse button; to stop, use second.\"\n"
     ]
    },
    {
     "data": {
      "text/html": [],
      "text/latex": [],
      "text/markdown": [],
      "text/plain": [
       "integer(0)"
      ]
     },
     "metadata": {},
     "output_type": "display_data"
    },
    {
     "data": {
      "image/png": "[encoded data removed]",
      "text/plain": [
       "Plot with title \"Distribution of Propensity Scores\""
      ]
     },
     "metadata": {},
     "output_type": "display_data"
    }
   ],
   "source": [
    "plot(mod_match, type = \"jitter\")"
   ]
  },
  {
   "cell_type": "code",
   "execution_count": 14,
   "metadata": {},
   "outputs": [
    {
     "data": {
      "image/png": "[encoded data removed]",
      "text/plain": [
       "Plot with title \"Matched Control\""
      ]
     },
     "metadata": {},
     "output_type": "display_data"
    }
   ],
   "source": [
    "plot(mod_match, type = \"hist\")"
   ]
  },
  {
   "cell_type": "code",
   "execution_count": 15,
   "metadata": {},
   "outputs": [
    {
     "data": {
      "text/html": [
       "<table>\n",
       "<thead><tr><th scope=col>SSL_SCORE</th><th scope=col>SSL_SCORE_RANK</th><th scope=col>PREDICTOR_RAT_AGE_AT_LATEST_ARREST</th><th scope=col>PREDICTOR_RAT_VICTIM_SHOOTING_INCIDENTS</th><th scope=col>PREDICTOR_RAT_VICTIM_BATTERY_OR_ASSAULT</th><th scope=col>PREDICTOR_RAT_ARRESTS_VIOLENT_OFFENSES</th><th scope=col>PREDICTOR_RAT_GANG_AFFILIATION</th><th scope=col>PREDICTOR_RAT_NARCOTIC_ARRESTS</th><th scope=col>PREDICTOR_RAT_TREND_IN_CRIMINAL_ACTIVITY</th><th scope=col>PREDICTOR_RAT_UUW_ARRESTS</th><th scope=col>SEX_CODE_CD</th><th scope=col>distance</th><th scope=col>weights</th></tr></thead>\n",
       "<tbody>\n",
       "\t<tr><td>263      </td><td>260892   </td><td>60-70    </td><td>0        </td><td>0        </td><td>0        </td><td>0        </td><td>1        </td><td>-0.1     </td><td>0        </td><td>1        </td><td>0.8891643</td><td>1        </td></tr>\n",
       "\t<tr><td>260      </td><td>266937   </td><td>60-70    </td><td>1        </td><td>1        </td><td>0        </td><td>1        </td><td>2        </td><td>-0.2     </td><td>0        </td><td>1        </td><td>0.9927454</td><td>1        </td></tr>\n",
       "\t<tr><td>241      </td><td>299825   </td><td>60-70    </td><td>0        </td><td>3        </td><td>0        </td><td>0        </td><td>0        </td><td> 0.1     </td><td>0        </td><td>1        </td><td>0.9546585</td><td>1        </td></tr>\n",
       "\t<tr><td>237      </td><td>305335   </td><td>60-70    </td><td>0        </td><td>1        </td><td>1        </td><td>0        </td><td>3        </td><td> 1.0     </td><td>1        </td><td>1        </td><td>0.9821765</td><td>1        </td></tr>\n",
       "\t<tr><td>235      </td><td>309235   </td><td>60-70    </td><td>0        </td><td>0        </td><td>3        </td><td>0        </td><td>1        </td><td> 0.6     </td><td>3        </td><td>1        </td><td>0.9699011</td><td>1        </td></tr>\n",
       "\t<tr><td>234      </td><td>310018   </td><td>60-70    </td><td>0        </td><td>3        </td><td>0        </td><td>0        </td><td>0        </td><td>-0.3     </td><td>0        </td><td>1        </td><td>0.9558174</td><td>1        </td></tr>\n",
       "</tbody>\n",
       "</table>\n"
      ],
      "text/latex": [
       "\\begin{tabular}{r|lllllllllllll}\n",
       " SSL\\_SCORE & SSL\\_SCORE\\_RANK & PREDICTOR\\_RAT\\_AGE\\_AT\\_LATEST\\_ARREST & PREDICTOR\\_RAT\\_VICTIM\\_SHOOTING\\_INCIDENTS & PREDICTOR\\_RAT\\_VICTIM\\_BATTERY\\_OR\\_ASSAULT & PREDICTOR\\_RAT\\_ARRESTS\\_VIOLENT\\_OFFENSES & PREDICTOR\\_RAT\\_GANG\\_AFFILIATION & PREDICTOR\\_RAT\\_NARCOTIC\\_ARRESTS & PREDICTOR\\_RAT\\_TREND\\_IN\\_CRIMINAL\\_ACTIVITY & PREDICTOR\\_RAT\\_UUW\\_ARRESTS & SEX\\_CODE\\_CD & distance & weights\\\\\n",
       "\\hline\n",
       "\t 263       & 260892    & 60-70     & 0         & 0         & 0         & 0         & 1         & -0.1      & 0         & 1         & 0.8891643 & 1        \\\\\n",
       "\t 260       & 266937    & 60-70     & 1         & 1         & 0         & 1         & 2         & -0.2      & 0         & 1         & 0.9927454 & 1        \\\\\n",
       "\t 241       & 299825    & 60-70     & 0         & 3         & 0         & 0         & 0         &  0.1      & 0         & 1         & 0.9546585 & 1        \\\\\n",
       "\t 237       & 305335    & 60-70     & 0         & 1         & 1         & 0         & 3         &  1.0      & 1         & 1         & 0.9821765 & 1        \\\\\n",
       "\t 235       & 309235    & 60-70     & 0         & 0         & 3         & 0         & 1         &  0.6      & 3         & 1         & 0.9699011 & 1        \\\\\n",
       "\t 234       & 310018    & 60-70     & 0         & 3         & 0         & 0         & 0         & -0.3      & 0         & 1         & 0.9558174 & 1        \\\\\n",
       "\\end{tabular}\n"
      ],
      "text/markdown": [
       "\n",
       "SSL_SCORE | SSL_SCORE_RANK | PREDICTOR_RAT_AGE_AT_LATEST_ARREST | PREDICTOR_RAT_VICTIM_SHOOTING_INCIDENTS | PREDICTOR_RAT_VICTIM_BATTERY_OR_ASSAULT | PREDICTOR_RAT_ARRESTS_VIOLENT_OFFENSES | PREDICTOR_RAT_GANG_AFFILIATION | PREDICTOR_RAT_NARCOTIC_ARRESTS | PREDICTOR_RAT_TREND_IN_CRIMINAL_ACTIVITY | PREDICTOR_RAT_UUW_ARRESTS | SEX_CODE_CD | distance | weights | \n",
       "|---|---|---|---|---|---|\n",
       "| 263       | 260892    | 60-70     | 0         | 0         | 0         | 0         | 1         | -0.1      | 0         | 1         | 0.8891643 | 1         | \n",
       "| 260       | 266937    | 60-70     | 1         | 1         | 0         | 1         | 2         | -0.2      | 0         | 1         | 0.9927454 | 1         | \n",
       "| 241       | 299825    | 60-70     | 0         | 3         | 0         | 0         | 0         |  0.1      | 0         | 1         | 0.9546585 | 1         | \n",
       "| 237       | 305335    | 60-70     | 0         | 1         | 1         | 0         | 3         |  1.0      | 1         | 1         | 0.9821765 | 1         | \n",
       "| 235       | 309235    | 60-70     | 0         | 0         | 3         | 0         | 1         |  0.6      | 3         | 1         | 0.9699011 | 1         | \n",
       "| 234       | 310018    | 60-70     | 0         | 3         | 0         | 0         | 0         | -0.3      | 0         | 1         | 0.9558174 | 1         | \n",
       "\n",
       "\n"
      ],
      "text/plain": [
       "  SSL_SCORE SSL_SCORE_RANK PREDICTOR_RAT_AGE_AT_LATEST_ARREST\n",
       "1 263       260892         60-70                             \n",
       "2 260       266937         60-70                             \n",
       "3 241       299825         60-70                             \n",
       "4 237       305335         60-70                             \n",
       "5 235       309235         60-70                             \n",
       "6 234       310018         60-70                             \n",
       "  PREDICTOR_RAT_VICTIM_SHOOTING_INCIDENTS\n",
       "1 0                                      \n",
       "2 1                                      \n",
       "3 0                                      \n",
       "4 0                                      \n",
       "5 0                                      \n",
       "6 0                                      \n",
       "  PREDICTOR_RAT_VICTIM_BATTERY_OR_ASSAULT\n",
       "1 0                                      \n",
       "2 1                                      \n",
       "3 3                                      \n",
       "4 1                                      \n",
       "5 0                                      \n",
       "6 3                                      \n",
       "  PREDICTOR_RAT_ARRESTS_VIOLENT_OFFENSES PREDICTOR_RAT_GANG_AFFILIATION\n",
       "1 0                                      0                             \n",
       "2 0                                      1                             \n",
       "3 0                                      0                             \n",
       "4 1                                      0                             \n",
       "5 3                                      0                             \n",
       "6 0                                      0                             \n",
       "  PREDICTOR_RAT_NARCOTIC_ARRESTS PREDICTOR_RAT_TREND_IN_CRIMINAL_ACTIVITY\n",
       "1 1                              -0.1                                    \n",
       "2 2                              -0.2                                    \n",
       "3 0                               0.1                                    \n",
       "4 3                               1.0                                    \n",
       "5 1                               0.6                                    \n",
       "6 0                              -0.3                                    \n",
       "  PREDICTOR_RAT_UUW_ARRESTS SEX_CODE_CD distance  weights\n",
       "1 0                         1           0.8891643 1      \n",
       "2 0                         1           0.9927454 1      \n",
       "3 0                         1           0.9546585 1      \n",
       "4 1                         1           0.9821765 1      \n",
       "5 3                         1           0.9699011 1      \n",
       "6 0                         1           0.9558174 1      "
      ]
     },
     "metadata": {},
     "output_type": "display_data"
    }
   ],
   "source": [
    "head(matched)"
   ]
  },
  {
   "cell_type": "code",
   "execution_count": 16,
   "metadata": {},
   "outputs": [
    {
     "name": "stderr",
     "output_type": "stream",
     "text": [
      "The following objects are masked from complete_data:\n",
      "\n",
      "    PREDICTOR_RAT_AGE_AT_LATEST_ARREST,\n",
      "    PREDICTOR_RAT_ARRESTS_VIOLENT_OFFENSES,\n",
      "    PREDICTOR_RAT_GANG_AFFILIATION, PREDICTOR_RAT_NARCOTIC_ARRESTS,\n",
      "    PREDICTOR_RAT_TREND_IN_CRIMINAL_ACTIVITY,\n",
      "    PREDICTOR_RAT_UUW_ARRESTS, PREDICTOR_RAT_VICTIM_BATTERY_OR_ASSAULT,\n",
      "    PREDICTOR_RAT_VICTIM_SHOOTING_INCIDENTS, SEX_CODE_CD, SSL_SCORE,\n",
      "    SSL_SCORE_RANK\n",
      "\n"
     ]
    }
   ],
   "source": [
    "# Doing T - test on matched records\n",
    "attach(matched)"
   ]
  },
  {
   "cell_type": "code",
   "execution_count": 17,
   "metadata": {
    "collapsed": true
   },
   "outputs": [],
   "source": [
    "gender_female  <-subset(matched,SEX_CODE_CD == 0)\n",
    "gender_male<-subset(matched,SEX_CODE_CD == 1)\n"
   ]
  },
  {
   "cell_type": "code",
   "execution_count": 18,
   "metadata": {},
   "outputs": [
    {
     "data": {
      "text/plain": [
       "\n",
       "\tWelch Two Sample t-test\n",
       "\n",
       "data:  SSL_SCORE by SEX_CODE_CD\n",
       "t = -13.485, df = 2150.8, p-value < 2.2e-16\n",
       "alternative hypothesis: true difference in means is not equal to 0\n",
       "95 percent confidence interval:\n",
       " -11.363735  -8.478236\n",
       "sample estimates:\n",
       "mean in group 0 mean in group 1 \n",
       "       137.9924        147.9133 \n"
      ]
     },
     "metadata": {},
     "output_type": "display_data"
    }
   ],
   "source": [
    "t.test(SSL_SCORE~SEX_CODE_CD)"
   ]
  },
  {
   "cell_type": "code",
   "execution_count": 19,
   "metadata": {},
   "outputs": [
    {
     "data": {
      "text/plain": [
       "\n",
       "\tWelch Two Sample t-test\n",
       "\n",
       "data:  SSL_SCORE_RANK by SEX_CODE_CD\n",
       "t = 11.257, df = 1414.8, p-value < 2.2e-16\n",
       "alternative hypothesis: true difference in means is not equal to 0\n",
       "95 percent confidence interval:\n",
       " 3500.152 4977.450\n",
       "sample estimates:\n",
       "mean in group 0 mean in group 1 \n",
       "       392940.2        388701.4 \n"
      ]
     },
     "metadata": {},
     "output_type": "display_data"
    }
   ],
   "source": [
    "t.test(SSL_SCORE_RANK~SEX_CODE_CD)"
   ]
  }
 ],
 "metadata": {
  "kernelspec": {
   "display_name": "R",
   "language": "R",
   "name": "ir"
  },
  "language_info": {
   "codemirror_mode": "r",
   "file_extension": ".r",
   "mimetype": "text/x-r-source",
   "name": "R",
   "pygments_lexer": "r",
   "version": "3.3.2"
  }
 },
 "nbformat": 4,
 "nbformat_minor": 2
}
