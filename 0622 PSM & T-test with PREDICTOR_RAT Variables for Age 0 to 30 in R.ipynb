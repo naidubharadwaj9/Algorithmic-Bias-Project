{
 "cells": [
  {
   "cell_type": "code",
   "execution_count": 62,
   "metadata": {},
   "outputs": [
    {
     "name": "stdout",
     "output_type": "stream",
     "text": [
      "The Number of Rows in Initial Data is 149279"
     ]
    }
   ],
   "source": [
    "raw_data <- read.csv(\"Data_SSL_PSM_RAT_AGE_0_30.csv\", sep=\",\", header=T, strip.white = T, na.strings = c(\"NA\",\"NaN\",\"\",\"?\"))\n",
    "#Converting the \".\" in column names to \"_\"\n",
    "names(raw_data)<-gsub(\"\\\\.\", \"_\", names(raw_data))\n",
    "cat(\"The Number of Rows in Initial Data is\", nrow(raw_data))"
   ]
  },
  {
   "cell_type": "code",
   "execution_count": 63,
   "metadata": {
    "collapsed": true
   },
   "outputs": [],
   "source": [
    "final_features<-raw_data[,c('SSL_SCORE','PREDICTOR_RAT_AGE_AT_LATEST_ARREST','PREDICTOR_RAT_VICTIM_SHOOTING_INCIDENTS',\n",
    "                            'PREDICTOR_RAT_VICTIM_BATTERY_OR_ASSAULT','PREDICTOR_RAT_ARRESTS_VIOLENT_OFFENSES','PREDICTOR_RAT_GANG_AFFILIATION', \n",
    "                           'PREDICTOR_RAT_NARCOTIC_ARRESTS','PREDICTOR_RAT_TREND_IN_CRIMINAL_ACTIVITY','PREDICTOR_RAT_UUW_ARRESTS','RACE_CODE_CD')]"
   ]
  },
  {
   "cell_type": "code",
   "execution_count": 64,
   "metadata": {
    "collapsed": true
   },
   "outputs": [],
   "source": [
    "complete_data <- final_features[complete.cases(final_features),]"
   ]
  },
  {
   "cell_type": "code",
   "execution_count": 65,
   "metadata": {},
   "outputs": [
    {
     "data": {
      "text/html": [
       "149279"
      ],
      "text/latex": [
       "149279"
      ],
      "text/markdown": [
       "149279"
      ],
      "text/plain": [
       "[1] 149279"
      ]
     },
     "metadata": {},
     "output_type": "display_data"
    }
   ],
   "source": [
    "nrow(complete_data)"
   ]
  },
  {
   "cell_type": "code",
   "execution_count": 66,
   "metadata": {},
   "outputs": [],
   "source": [
    "library(MatchIt)\n",
    "library(dplyr)\n",
    "library(ggplot2)"
   ]
  },
  {
   "cell_type": "code",
   "execution_count": 67,
   "metadata": {},
   "outputs": [
    {
     "data": {
      "text/html": [
       "<table>\n",
       "<thead><tr><th scope=col>RACE_CODE_CD</th><th scope=col>NUMBER_OF_PEOPLE</th><th scope=col>MEAN_SSL_SCORE</th><th scope=col>STD_ERROR</th></tr></thead>\n",
       "<tbody>\n",
       "\t<tr><td>0         </td><td>109903    </td><td>328.5514  </td><td>0.09113404</td></tr>\n",
       "\t<tr><td>1         </td><td> 39376    </td><td>316.3591  </td><td>0.09946829</td></tr>\n",
       "</tbody>\n",
       "</table>\n"
      ],
      "text/latex": [
       "\\begin{tabular}{r|llll}\n",
       " RACE\\_CODE\\_CD & NUMBER\\_OF\\_PEOPLE & MEAN\\_SSL\\_SCORE & STD\\_ERROR\\\\\n",
       "\\hline\n",
       "\t 0          & 109903     & 328.5514   & 0.09113404\\\\\n",
       "\t 1          &  39376     & 316.3591   & 0.09946829\\\\\n",
       "\\end{tabular}\n"
      ],
      "text/markdown": [
       "\n",
       "RACE_CODE_CD | NUMBER_OF_PEOPLE | MEAN_SSL_SCORE | STD_ERROR | \n",
       "|---|---|\n",
       "| 0          | 109903     | 328.5514   | 0.09113404 | \n",
       "| 1          |  39376     | 316.3591   | 0.09946829 | \n",
       "\n",
       "\n"
      ],
      "text/plain": [
       "  RACE_CODE_CD NUMBER_OF_PEOPLE MEAN_SSL_SCORE STD_ERROR \n",
       "1 0            109903           328.5514       0.09113404\n",
       "2 1             39376           316.3591       0.09946829"
      ]
     },
     "metadata": {},
     "output_type": "display_data"
    }
   ],
   "source": [
    "complete_data %>%\n",
    "  group_by(RACE_CODE_CD) %>%\n",
    "  summarise(NUMBER_OF_PEOPLE = n(),\n",
    "            MEAN_SSL_SCORE = mean(SSL_SCORE),\n",
    "            STD_ERROR = sd(SSL_SCORE) / sqrt(NUMBER_OF_PEOPLE))"
   ]
  },
  {
   "cell_type": "code",
   "execution_count": 68,
   "metadata": {},
   "outputs": [
    {
     "data": {
      "text/plain": [
       "\n",
       "\tWelch Two Sample t-test\n",
       "\n",
       "data:  SSL_SCORE by RACE_CODE_CD\n",
       "t = 90.377, df = 106370, p-value < 2.2e-16\n",
       "alternative hypothesis: true difference in means is not equal to 0\n",
       "95 percent confidence interval:\n",
       " 11.92789 12.45672\n",
       "sample estimates:\n",
       "mean in group 0 mean in group 1 \n",
       "       328.5514        316.3591 \n"
      ]
     },
     "metadata": {},
     "output_type": "display_data"
    }
   ],
   "source": [
    "with(complete_data, t.test(SSL_SCORE~ RACE_CODE_CD))"
   ]
  },
  {
   "cell_type": "code",
   "execution_count": 69,
   "metadata": {
    "collapsed": true
   },
   "outputs": [],
   "source": [
    "ecls_cov <- c( 'PREDICTOR_RAT_VICTIM_SHOOTING_INCIDENTS',\n",
    "               'PREDICTOR_RAT_VICTIM_BATTERY_OR_ASSAULT','PREDICTOR_RAT_ARRESTS_VIOLENT_OFFENSES','PREDICTOR_RAT_GANG_AFFILIATION', \n",
    "               'PREDICTOR_RAT_NARCOTIC_ARRESTS','PREDICTOR_RAT_TREND_IN_CRIMINAL_ACTIVITY','PREDICTOR_RAT_UUW_ARRESTS')"
   ]
  },
  {
   "cell_type": "code",
   "execution_count": 70,
   "metadata": {},
   "outputs": [
    {
     "name": "stderr",
     "output_type": "stream",
     "text": [
      "Adding missing grouping variables: `RACE_CODE_CD`\n"
     ]
    },
    {
     "data": {
      "text/html": [
       "<table>\n",
       "<thead><tr><th scope=col>RACE_CODE_CD</th><th scope=col>PREDICTOR_RAT_VICTIM_SHOOTING_INCIDENTS</th><th scope=col>PREDICTOR_RAT_VICTIM_BATTERY_OR_ASSAULT</th><th scope=col>PREDICTOR_RAT_ARRESTS_VIOLENT_OFFENSES</th><th scope=col>PREDICTOR_RAT_GANG_AFFILIATION</th><th scope=col>PREDICTOR_RAT_NARCOTIC_ARRESTS</th><th scope=col>PREDICTOR_RAT_TREND_IN_CRIMINAL_ACTIVITY</th><th scope=col>PREDICTOR_RAT_UUW_ARRESTS</th></tr></thead>\n",
       "<tbody>\n",
       "\t<tr><td>0          </td><td>0.04966197 </td><td>0.07360127 </td><td>0.24151297 </td><td>0.25227701 </td><td>0.4874298  </td><td>-0.06210931</td><td>0.06428396 </td></tr>\n",
       "\t<tr><td>1          </td><td>0.00279358 </td><td>0.01127590 </td><td>0.05640492 </td><td>0.03751016 </td><td>0.2834976  </td><td>-0.02574411</td><td>0.01084417 </td></tr>\n",
       "</tbody>\n",
       "</table>\n"
      ],
      "text/latex": [
       "\\begin{tabular}{r|llllllll}\n",
       " RACE\\_CODE\\_CD & PREDICTOR\\_RAT\\_VICTIM\\_SHOOTING\\_INCIDENTS & PREDICTOR\\_RAT\\_VICTIM\\_BATTERY\\_OR\\_ASSAULT & PREDICTOR\\_RAT\\_ARRESTS\\_VIOLENT\\_OFFENSES & PREDICTOR\\_RAT\\_GANG\\_AFFILIATION & PREDICTOR\\_RAT\\_NARCOTIC\\_ARRESTS & PREDICTOR\\_RAT\\_TREND\\_IN\\_CRIMINAL\\_ACTIVITY & PREDICTOR\\_RAT\\_UUW\\_ARRESTS\\\\\n",
       "\\hline\n",
       "\t 0           & 0.04966197  & 0.07360127  & 0.24151297  & 0.25227701  & 0.4874298   & -0.06210931 & 0.06428396 \\\\\n",
       "\t 1           & 0.00279358  & 0.01127590  & 0.05640492  & 0.03751016  & 0.2834976   & -0.02574411 & 0.01084417 \\\\\n",
       "\\end{tabular}\n"
      ],
      "text/markdown": [
       "\n",
       "RACE_CODE_CD | PREDICTOR_RAT_VICTIM_SHOOTING_INCIDENTS | PREDICTOR_RAT_VICTIM_BATTERY_OR_ASSAULT | PREDICTOR_RAT_ARRESTS_VIOLENT_OFFENSES | PREDICTOR_RAT_GANG_AFFILIATION | PREDICTOR_RAT_NARCOTIC_ARRESTS | PREDICTOR_RAT_TREND_IN_CRIMINAL_ACTIVITY | PREDICTOR_RAT_UUW_ARRESTS | \n",
       "|---|---|\n",
       "| 0           | 0.04966197  | 0.07360127  | 0.24151297  | 0.25227701  | 0.4874298   | -0.06210931 | 0.06428396  | \n",
       "| 1           | 0.00279358  | 0.01127590  | 0.05640492  | 0.03751016  | 0.2834976   | -0.02574411 | 0.01084417  | \n",
       "\n",
       "\n"
      ],
      "text/plain": [
       "  RACE_CODE_CD PREDICTOR_RAT_VICTIM_SHOOTING_INCIDENTS\n",
       "1 0            0.04966197                             \n",
       "2 1            0.00279358                             \n",
       "  PREDICTOR_RAT_VICTIM_BATTERY_OR_ASSAULT\n",
       "1 0.07360127                             \n",
       "2 0.01127590                             \n",
       "  PREDICTOR_RAT_ARRESTS_VIOLENT_OFFENSES PREDICTOR_RAT_GANG_AFFILIATION\n",
       "1 0.24151297                             0.25227701                    \n",
       "2 0.05640492                             0.03751016                    \n",
       "  PREDICTOR_RAT_NARCOTIC_ARRESTS PREDICTOR_RAT_TREND_IN_CRIMINAL_ACTIVITY\n",
       "1 0.4874298                      -0.06210931                             \n",
       "2 0.2834976                      -0.02574411                             \n",
       "  PREDICTOR_RAT_UUW_ARRESTS\n",
       "1 0.06428396               \n",
       "2 0.01084417               "
      ]
     },
     "metadata": {},
     "output_type": "display_data"
    }
   ],
   "source": [
    "complete_data %>%\n",
    "  group_by(RACE_CODE_CD) %>%\n",
    "  select(one_of(ecls_cov)) %>%\n",
    "  summarise_all(funs(mean(., na.rm = T)))"
   ]
  },
  {
   "cell_type": "code",
   "execution_count": 71,
   "metadata": {},
   "outputs": [
    {
     "data": {
      "text/plain": [
       "[[1]]\n",
       "\n",
       "\tWelch Two Sample t-test\n",
       "\n",
       "data:  complete_data[, v] by complete_data[, \"RACE_CODE_CD\"]\n",
       "t = 60.039, df = 138610, p-value < 2.2e-16\n",
       "alternative hypothesis: true difference in means is not equal to 0\n",
       "95 percent confidence interval:\n",
       " 0.04533837 0.04839841\n",
       "sample estimates:\n",
       "mean in group 0 mean in group 1 \n",
       "     0.04966197      0.00279358 \n",
       "\n",
       "\n",
       "[[2]]\n",
       "\n",
       "\tWelch Two Sample t-test\n",
       "\n",
       "data:  complete_data[, v] by complete_data[, \"RACE_CODE_CD\"]\n",
       "t = 56.678, df = 146370, p-value < 2.2e-16\n",
       "alternative hypothesis: true difference in means is not equal to 0\n",
       "95 percent confidence interval:\n",
       " 0.06017008 0.06448064\n",
       "sample estimates:\n",
       "mean in group 0 mean in group 1 \n",
       "     0.07360127      0.01127590 \n",
       "\n",
       "\n",
       "[[3]]\n",
       "\n",
       "\tWelch Two Sample t-test\n",
       "\n",
       "data:  complete_data[, v] by complete_data[, \"RACE_CODE_CD\"]\n",
       "t = 81.466, df = 141080, p-value < 2.2e-16\n",
       "alternative hypothesis: true difference in means is not equal to 0\n",
       "95 percent confidence interval:\n",
       " 0.1806545 0.1895616\n",
       "sample estimates:\n",
       "mean in group 0 mean in group 1 \n",
       "     0.24151297      0.05640492 \n",
       "\n",
       "\n",
       "[[4]]\n",
       "\n",
       "\tWelch Two Sample t-test\n",
       "\n",
       "data:  complete_data[, v] by complete_data[, \"RACE_CODE_CD\"]\n",
       "t = 132.35, df = 143990, p-value < 2.2e-16\n",
       "alternative hypothesis: true difference in means is not equal to 0\n",
       "95 percent confidence interval:\n",
       " 0.2115863 0.2179474\n",
       "sample estimates:\n",
       "mean in group 0 mean in group 1 \n",
       "     0.25227701      0.03751016 \n",
       "\n",
       "\n",
       "[[5]]\n",
       "\n",
       "\tWelch Two Sample t-test\n",
       "\n",
       "data:  complete_data[, v] by complete_data[, \"RACE_CODE_CD\"]\n",
       "t = 43.995, df = 128280, p-value < 2.2e-16\n",
       "alternative hypothesis: true difference in means is not equal to 0\n",
       "95 percent confidence interval:\n",
       " 0.1948470 0.2130176\n",
       "sample estimates:\n",
       "mean in group 0 mean in group 1 \n",
       "      0.4874298       0.2834976 \n",
       "\n",
       "\n",
       "[[6]]\n",
       "\n",
       "\tWelch Two Sample t-test\n",
       "\n",
       "data:  complete_data[, v] by complete_data[, \"RACE_CODE_CD\"]\n",
       "t = -15.682, df = 96017, p-value < 2.2e-16\n",
       "alternative hypothesis: true difference in means is not equal to 0\n",
       "95 percent confidence interval:\n",
       " -0.04091017 -0.03182024\n",
       "sample estimates:\n",
       "mean in group 0 mean in group 1 \n",
       "    -0.06210931     -0.02574411 \n",
       "\n",
       "\n",
       "[[7]]\n",
       "\n",
       "\tWelch Two Sample t-test\n",
       "\n",
       "data:  complete_data[, v] by complete_data[, \"RACE_CODE_CD\"]\n",
       "t = 54.416, df = 147320, p-value < 2.2e-16\n",
       "alternative hypothesis: true difference in means is not equal to 0\n",
       "95 percent confidence interval:\n",
       " 0.05151496 0.05536462\n",
       "sample estimates:\n",
       "mean in group 0 mean in group 1 \n",
       "     0.06428396      0.01084417 \n",
       "\n"
      ]
     },
     "metadata": {},
     "output_type": "display_data"
    }
   ],
   "source": [
    "lapply(ecls_cov, function(v) {\n",
    "    t.test(complete_data[, v] ~ complete_data[, 'RACE_CODE_CD'])\n",
    "})"
   ]
  },
  {
   "cell_type": "code",
   "execution_count": 72,
   "metadata": {},
   "outputs": [
    {
     "data": {
      "text/plain": [
       "\n",
       "Call:\n",
       "glm(formula = RACE_CODE_CD ~ PREDICTOR_RAT_AGE_AT_LATEST_ARREST + \n",
       "    PREDICTOR_RAT_VICTIM_SHOOTING_INCIDENTS + PREDICTOR_RAT_VICTIM_BATTERY_OR_ASSAULT + \n",
       "    PREDICTOR_RAT_ARRESTS_VIOLENT_OFFENSES + PREDICTOR_RAT_GANG_AFFILIATION + \n",
       "    PREDICTOR_RAT_NARCOTIC_ARRESTS + PREDICTOR_RAT_TREND_IN_CRIMINAL_ACTIVITY + \n",
       "    PREDICTOR_RAT_UUW_ARRESTS, family = binomial(), data = complete_data)\n",
       "\n",
       "Deviance Residuals: \n",
       "    Min       1Q   Median       3Q      Max  \n",
       "-1.0768  -0.9453  -0.5945   1.4078   5.1192  \n",
       "\n",
       "Coefficients:\n",
       "                                                Estimate Std. Error z value\n",
       "(Intercept)                                    -0.556382   0.007892 -70.495\n",
       "PREDICTOR_RAT_AGE_AT_LATEST_ARRESTless than 20 -0.359293   0.013563 -26.492\n",
       "PREDICTOR_RAT_VICTIM_SHOOTING_INCIDENTS        -1.364757   0.099919 -13.659\n",
       "PREDICTOR_RAT_VICTIM_BATTERY_OR_ASSAULT        -1.044160   0.050338 -20.743\n",
       "PREDICTOR_RAT_ARRESTS_VIOLENT_OFFENSES         -0.745591   0.024658 -30.237\n",
       "PREDICTOR_RAT_GANG_AFFILIATION                 -1.896026   0.029260 -64.799\n",
       "PREDICTOR_RAT_NARCOTIC_ARRESTS                  0.014731   0.008693   1.695\n",
       "PREDICTOR_RAT_TREND_IN_CRIMINAL_ACTIVITY        0.058839   0.016488   3.569\n",
       "PREDICTOR_RAT_UUW_ARRESTS                      -0.323456   0.056713  -5.703\n",
       "                                               Pr(>|z|)    \n",
       "(Intercept)                                     < 2e-16 ***\n",
       "PREDICTOR_RAT_AGE_AT_LATEST_ARRESTless than 20  < 2e-16 ***\n",
       "PREDICTOR_RAT_VICTIM_SHOOTING_INCIDENTS         < 2e-16 ***\n",
       "PREDICTOR_RAT_VICTIM_BATTERY_OR_ASSAULT         < 2e-16 ***\n",
       "PREDICTOR_RAT_ARRESTS_VIOLENT_OFFENSES          < 2e-16 ***\n",
       "PREDICTOR_RAT_GANG_AFFILIATION                  < 2e-16 ***\n",
       "PREDICTOR_RAT_NARCOTIC_ARRESTS                 0.090139 .  \n",
       "PREDICTOR_RAT_TREND_IN_CRIMINAL_ACTIVITY       0.000359 ***\n",
       "PREDICTOR_RAT_UUW_ARRESTS                      1.17e-08 ***\n",
       "---\n",
       "Signif. codes:  0 '***' 0.001 '**' 0.01 '*' 0.05 '.' 0.1 ' ' 1\n",
       "\n",
       "(Dispersion parameter for binomial family taken to be 1)\n",
       "\n",
       "    Null deviance: 172258  on 149278  degrees of freedom\n",
       "Residual deviance: 157115  on 149270  degrees of freedom\n",
       "AIC: 157133\n",
       "\n",
       "Number of Fisher Scoring iterations: 6\n"
      ]
     },
     "metadata": {},
     "output_type": "display_data"
    }
   ],
   "source": [
    "m_ps <- glm(RACE_CODE_CD ~ PREDICTOR_RAT_AGE_AT_LATEST_ARREST  + PREDICTOR_RAT_VICTIM_SHOOTING_INCIDENTS + PREDICTOR_RAT_VICTIM_BATTERY_OR_ASSAULT + \n",
    "            PREDICTOR_RAT_ARRESTS_VIOLENT_OFFENSES + PREDICTOR_RAT_GANG_AFFILIATION + PREDICTOR_RAT_NARCOTIC_ARRESTS + PREDICTOR_RAT_TREND_IN_CRIMINAL_ACTIVITY +\n",
    "            PREDICTOR_RAT_UUW_ARRESTS,\n",
    "            family = binomial(), data = complete_data)\n",
    "summary(m_ps)"
   ]
  },
  {
   "cell_type": "code",
   "execution_count": 73,
   "metadata": {},
   "outputs": [
    {
     "data": {
      "text/html": [
       "<table>\n",
       "<thead><tr><th scope=col>pr_score</th><th scope=col>RACE_CODE_CD</th></tr></thead>\n",
       "<tbody>\n",
       "\t<tr><td>1.194517e-03</td><td>0           </td></tr>\n",
       "\t<tr><td>3.592706e-06</td><td>1           </td></tr>\n",
       "\t<tr><td>9.994188e-04</td><td>1           </td></tr>\n",
       "\t<tr><td>2.176737e-04</td><td>0           </td></tr>\n",
       "\t<tr><td>3.920895e-03</td><td>0           </td></tr>\n",
       "\t<tr><td>1.800044e-05</td><td>0           </td></tr>\n",
       "</tbody>\n",
       "</table>\n"
      ],
      "text/latex": [
       "\\begin{tabular}{r|ll}\n",
       " pr\\_score & RACE\\_CODE\\_CD\\\\\n",
       "\\hline\n",
       "\t 1.194517e-03 & 0           \\\\\n",
       "\t 3.592706e-06 & 1           \\\\\n",
       "\t 9.994188e-04 & 1           \\\\\n",
       "\t 2.176737e-04 & 0           \\\\\n",
       "\t 3.920895e-03 & 0           \\\\\n",
       "\t 1.800044e-05 & 0           \\\\\n",
       "\\end{tabular}\n"
      ],
      "text/markdown": [
       "\n",
       "pr_score | RACE_CODE_CD | \n",
       "|---|---|---|---|---|---|\n",
       "| 1.194517e-03 | 0            | \n",
       "| 3.592706e-06 | 1            | \n",
       "| 9.994188e-04 | 1            | \n",
       "| 2.176737e-04 | 0            | \n",
       "| 3.920895e-03 | 0            | \n",
       "| 1.800044e-05 | 0            | \n",
       "\n",
       "\n"
      ],
      "text/plain": [
       "  pr_score     RACE_CODE_CD\n",
       "1 1.194517e-03 0           \n",
       "2 3.592706e-06 1           \n",
       "3 9.994188e-04 1           \n",
       "4 2.176737e-04 0           \n",
       "5 3.920895e-03 0           \n",
       "6 1.800044e-05 0           "
      ]
     },
     "metadata": {},
     "output_type": "display_data"
    }
   ],
   "source": [
    "prs_df <- data.frame(pr_score = predict(m_ps, type = \"response\"),\n",
    "                     RACE_CODE_CD = m_ps$model$RACE_CODE_CD)\n",
    "head(prs_df)"
   ]
  },
  {
   "cell_type": "code",
   "execution_count": 74,
   "metadata": {},
   "outputs": [
    {
     "name": "stderr",
     "output_type": "stream",
     "text": [
      "`stat_bin()` using `bins = 30`. Pick better value with `binwidth`.\n"
     ]
    },
    {
     "data": {},
     "metadata": {},
     "output_type": "display_data"
    },
    {
     "data": {
      "image/png": "[encoded data removed]",
      "text/plain": [
       "plot without title"
      ]
     },
     "metadata": {},
     "output_type": "display_data"
    }
   ],
   "source": [
    "labs <- paste(\"Person's Race:\", c(\"Black\", \"White\"))\n",
    "prs_df %>%\n",
    "  mutate(RACE_CODE_CD = ifelse(RACE_CODE_CD == 0, labs[1], labs[2])) %>%\n",
    "  ggplot(aes(x = pr_score)) +\n",
    "  geom_histogram(color = \"white\") +\n",
    "  facet_wrap(~RACE_CODE_CD) +\n",
    "  xlab(\"Probability of Race: Black & White\") +\n",
    "  theme_bw()"
   ]
  },
  {
   "cell_type": "code",
   "execution_count": 75,
   "metadata": {
    "collapsed": true
   },
   "outputs": [],
   "source": [
    "ecls_nomiss <- complete_data %>%  # MatchIt does not allow missing values\n",
    "  select(SSL_SCORE, RACE_CODE_CD,PREDICTOR_RAT_AGE_AT_LATEST_ARREST, one_of(ecls_cov)) %>%\n",
    "  na.omit()\n"
   ]
  },
  {
   "cell_type": "code",
   "execution_count": 76,
   "metadata": {
    "collapsed": true
   },
   "outputs": [],
   "source": [
    "mod_match <- matchit(RACE_CODE_CD ~ PREDICTOR_RAT_AGE_AT_LATEST_ARREST  + PREDICTOR_RAT_VICTIM_SHOOTING_INCIDENTS + PREDICTOR_RAT_VICTIM_BATTERY_OR_ASSAULT + \n",
    "            PREDICTOR_RAT_ARRESTS_VIOLENT_OFFENSES + PREDICTOR_RAT_GANG_AFFILIATION + PREDICTOR_RAT_NARCOTIC_ARRESTS + PREDICTOR_RAT_TREND_IN_CRIMINAL_ACTIVITY +\n",
    "            PREDICTOR_RAT_UUW_ARRESTS,\n",
    "                     method = \"nearest\", data = ecls_nomiss)"
   ]
  },
  {
   "cell_type": "code",
   "execution_count": 77,
   "metadata": {},
   "outputs": [
    {
     "data": {
      "text/plain": [
       "\n",
       "Call: \n",
       "matchit(formula = RACE_CODE_CD ~ PREDICTOR_RAT_AGE_AT_LATEST_ARREST + \n",
       "    PREDICTOR_RAT_VICTIM_SHOOTING_INCIDENTS + PREDICTOR_RAT_VICTIM_BATTERY_OR_ASSAULT + \n",
       "    PREDICTOR_RAT_ARRESTS_VIOLENT_OFFENSES + PREDICTOR_RAT_GANG_AFFILIATION + \n",
       "    PREDICTOR_RAT_NARCOTIC_ARRESTS + PREDICTOR_RAT_TREND_IN_CRIMINAL_ACTIVITY + \n",
       "    PREDICTOR_RAT_UUW_ARRESTS, data = ecls_nomiss, method = \"nearest\")\n",
       "\n",
       "Sample sizes:\n",
       "          Control Treated\n",
       "All        109903   39376\n",
       "Matched     39376   39376\n",
       "Unmatched   70527       0\n",
       "Discarded       0       0\n"
      ]
     },
     "metadata": {},
     "output_type": "display_data"
    }
   ],
   "source": [
    "mod_match"
   ]
  },
  {
   "cell_type": "code",
   "execution_count": 78,
   "metadata": {
    "collapsed": true
   },
   "outputs": [],
   "source": [
    "matched <- match.data(mod_match)\n",
    "matched_copy<-matched"
   ]
  },
  {
   "cell_type": "code",
   "execution_count": 79,
   "metadata": {},
   "outputs": [
    {
     "name": "stdout",
     "output_type": "stream",
     "text": [
      "[1] \"To identify the units, use first mouse button; to stop, use second.\"\n"
     ]
    },
    {
     "data": {
      "text/html": [],
      "text/latex": [],
      "text/markdown": [],
      "text/plain": [
       "integer(0)"
      ]
     },
     "metadata": {},
     "output_type": "display_data"
    },
    {
     "data": {
      "image/png": "[encoded data removed]",
      "text/plain": [
       "Plot with title \"Distribution of Propensity Scores\""
      ]
     },
     "metadata": {},
     "output_type": "display_data"
    }
   ],
   "source": [
    "plot(mod_match, type = \"jitter\")"
   ]
  },
  {
   "cell_type": "code",
   "execution_count": 80,
   "metadata": {},
   "outputs": [
    {
     "data": {
      "image/png": "[encoded data removed]",
      "text/plain": [
       "Plot with title \"Matched Control\""
      ]
     },
     "metadata": {},
     "output_type": "display_data"
    }
   ],
   "source": [
    "plot(mod_match, type = \"hist\")"
   ]
  },
  {
   "cell_type": "code",
   "execution_count": 81,
   "metadata": {},
   "outputs": [
    {
     "data": {
      "text/html": [
       "<table>\n",
       "<thead><tr><th></th><th scope=col>SSL_SCORE</th><th scope=col>RACE_CODE_CD</th><th scope=col>PREDICTOR_RAT_AGE_AT_LATEST_ARREST</th><th scope=col>PREDICTOR_RAT_VICTIM_SHOOTING_INCIDENTS</th><th scope=col>PREDICTOR_RAT_VICTIM_BATTERY_OR_ASSAULT</th><th scope=col>PREDICTOR_RAT_ARRESTS_VIOLENT_OFFENSES</th><th scope=col>PREDICTOR_RAT_GANG_AFFILIATION</th><th scope=col>PREDICTOR_RAT_NARCOTIC_ARRESTS</th><th scope=col>PREDICTOR_RAT_TREND_IN_CRIMINAL_ACTIVITY</th><th scope=col>PREDICTOR_RAT_UUW_ARRESTS</th><th scope=col>distance</th><th scope=col>weights</th></tr></thead>\n",
       "<tbody>\n",
       "\t<tr><th scope=row>2</th><td>500         </td><td>1           </td><td>20-30       </td><td>0           </td><td>9           </td><td>1           </td><td>1           </td><td>0           </td><td> 1.0        </td><td>0           </td><td>3.592706e-06</td><td>1           </td></tr>\n",
       "\t<tr><th scope=row>3</th><td>500         </td><td>1           </td><td>less than 20</td><td>1           </td><td>2           </td><td>1           </td><td>1           </td><td>3           </td><td> 1.0        </td><td>0           </td><td>9.994188e-04</td><td>1           </td></tr>\n",
       "\t<tr><th scope=row>10</th><td>489         </td><td>0           </td><td>less than 20</td><td>2           </td><td>2           </td><td>1           </td><td>1           </td><td>4           </td><td>-0.6        </td><td>1           </td><td>1.707803e-04</td><td>1           </td></tr>\n",
       "\t<tr><th scope=row>13</th><td>485         </td><td>1           </td><td>less than 20</td><td>1           </td><td>3           </td><td>1           </td><td>1           </td><td>0           </td><td> 0.6        </td><td>0           </td><td>3.289662e-04</td><td>1           </td></tr>\n",
       "\t<tr><th scope=row>32</th><td>455         </td><td>1           </td><td>20-30       </td><td>2           </td><td>2           </td><td>2           </td><td>1           </td><td>3           </td><td> 0.7        </td><td>0           </td><td>1.705956e-04</td><td>1           </td></tr>\n",
       "\t<tr><th scope=row>45</th><td>445         </td><td>0           </td><td>less than 20</td><td>1           </td><td>2           </td><td>1           </td><td>1           </td><td>0           </td><td>-0.2        </td><td>1           </td><td>6.450138e-04</td><td>1           </td></tr>\n",
       "</tbody>\n",
       "</table>\n"
      ],
      "text/latex": [
       "\\begin{tabular}{r|llllllllllll}\n",
       "  & SSL\\_SCORE & RACE\\_CODE\\_CD & PREDICTOR\\_RAT\\_AGE\\_AT\\_LATEST\\_ARREST & PREDICTOR\\_RAT\\_VICTIM\\_SHOOTING\\_INCIDENTS & PREDICTOR\\_RAT\\_VICTIM\\_BATTERY\\_OR\\_ASSAULT & PREDICTOR\\_RAT\\_ARRESTS\\_VIOLENT\\_OFFENSES & PREDICTOR\\_RAT\\_GANG\\_AFFILIATION & PREDICTOR\\_RAT\\_NARCOTIC\\_ARRESTS & PREDICTOR\\_RAT\\_TREND\\_IN\\_CRIMINAL\\_ACTIVITY & PREDICTOR\\_RAT\\_UUW\\_ARRESTS & distance & weights\\\\\n",
       "\\hline\n",
       "\t2 & 500          & 1            & 20-30        & 0            & 9            & 1            & 1            & 0            &  1.0         & 0            & 3.592706e-06 & 1           \\\\\n",
       "\t3 & 500          & 1            & less than 20 & 1            & 2            & 1            & 1            & 3            &  1.0         & 0            & 9.994188e-04 & 1           \\\\\n",
       "\t10 & 489          & 0            & less than 20 & 2            & 2            & 1            & 1            & 4            & -0.6         & 1            & 1.707803e-04 & 1           \\\\\n",
       "\t13 & 485          & 1            & less than 20 & 1            & 3            & 1            & 1            & 0            &  0.6         & 0            & 3.289662e-04 & 1           \\\\\n",
       "\t32 & 455          & 1            & 20-30        & 2            & 2            & 2            & 1            & 3            &  0.7         & 0            & 1.705956e-04 & 1           \\\\\n",
       "\t45 & 445          & 0            & less than 20 & 1            & 2            & 1            & 1            & 0            & -0.2         & 1            & 6.450138e-04 & 1           \\\\\n",
       "\\end{tabular}\n"
      ],
      "text/markdown": [
       "\n",
       "| <!--/--> | SSL_SCORE | RACE_CODE_CD | PREDICTOR_RAT_AGE_AT_LATEST_ARREST | PREDICTOR_RAT_VICTIM_SHOOTING_INCIDENTS | PREDICTOR_RAT_VICTIM_BATTERY_OR_ASSAULT | PREDICTOR_RAT_ARRESTS_VIOLENT_OFFENSES | PREDICTOR_RAT_GANG_AFFILIATION | PREDICTOR_RAT_NARCOTIC_ARRESTS | PREDICTOR_RAT_TREND_IN_CRIMINAL_ACTIVITY | PREDICTOR_RAT_UUW_ARRESTS | distance | weights | \n",
       "|---|---|---|---|---|---|\n",
       "| 2 | 500          | 1            | 20-30        | 0            | 9            | 1            | 1            | 0            |  1.0         | 0            | 3.592706e-06 | 1            | \n",
       "| 3 | 500          | 1            | less than 20 | 1            | 2            | 1            | 1            | 3            |  1.0         | 0            | 9.994188e-04 | 1            | \n",
       "| 10 | 489          | 0            | less than 20 | 2            | 2            | 1            | 1            | 4            | -0.6         | 1            | 1.707803e-04 | 1            | \n",
       "| 13 | 485          | 1            | less than 20 | 1            | 3            | 1            | 1            | 0            |  0.6         | 0            | 3.289662e-04 | 1            | \n",
       "| 32 | 455          | 1            | 20-30        | 2            | 2            | 2            | 1            | 3            |  0.7         | 0            | 1.705956e-04 | 1            | \n",
       "| 45 | 445          | 0            | less than 20 | 1            | 2            | 1            | 1            | 0            | -0.2         | 1            | 6.450138e-04 | 1            | \n",
       "\n",
       "\n"
      ],
      "text/plain": [
       "   SSL_SCORE RACE_CODE_CD PREDICTOR_RAT_AGE_AT_LATEST_ARREST\n",
       "2  500       1            20-30                             \n",
       "3  500       1            less than 20                      \n",
       "10 489       0            less than 20                      \n",
       "13 485       1            less than 20                      \n",
       "32 455       1            20-30                             \n",
       "45 445       0            less than 20                      \n",
       "   PREDICTOR_RAT_VICTIM_SHOOTING_INCIDENTS\n",
       "2  0                                      \n",
       "3  1                                      \n",
       "10 2                                      \n",
       "13 1                                      \n",
       "32 2                                      \n",
       "45 1                                      \n",
       "   PREDICTOR_RAT_VICTIM_BATTERY_OR_ASSAULT\n",
       "2  9                                      \n",
       "3  2                                      \n",
       "10 2                                      \n",
       "13 3                                      \n",
       "32 2                                      \n",
       "45 2                                      \n",
       "   PREDICTOR_RAT_ARRESTS_VIOLENT_OFFENSES PREDICTOR_RAT_GANG_AFFILIATION\n",
       "2  1                                      1                             \n",
       "3  1                                      1                             \n",
       "10 1                                      1                             \n",
       "13 1                                      1                             \n",
       "32 2                                      1                             \n",
       "45 1                                      1                             \n",
       "   PREDICTOR_RAT_NARCOTIC_ARRESTS PREDICTOR_RAT_TREND_IN_CRIMINAL_ACTIVITY\n",
       "2  0                               1.0                                    \n",
       "3  3                               1.0                                    \n",
       "10 4                              -0.6                                    \n",
       "13 0                               0.6                                    \n",
       "32 3                               0.7                                    \n",
       "45 0                              -0.2                                    \n",
       "   PREDICTOR_RAT_UUW_ARRESTS distance     weights\n",
       "2  0                         3.592706e-06 1      \n",
       "3  0                         9.994188e-04 1      \n",
       "10 1                         1.707803e-04 1      \n",
       "13 0                         3.289662e-04 1      \n",
       "32 0                         1.705956e-04 1      \n",
       "45 1                         6.450138e-04 1      "
      ]
     },
     "metadata": {},
     "output_type": "display_data"
    }
   ],
   "source": [
    "head(matched)"
   ]
  },
  {
   "cell_type": "code",
   "execution_count": 82,
   "metadata": {},
   "outputs": [
    {
     "name": "stderr",
     "output_type": "stream",
     "text": [
      "The following objects are masked from matched (pos = 3):\n",
      "\n",
      "    distance, PREDICTOR_RAT_AGE_AT_LATEST_ARREST,\n",
      "    PREDICTOR_RAT_ARRESTS_VIOLENT_OFFENSES,\n",
      "    PREDICTOR_RAT_GANG_AFFILIATION, PREDICTOR_RAT_NARCOTIC_ARRESTS,\n",
      "    PREDICTOR_RAT_TREND_IN_CRIMINAL_ACTIVITY,\n",
      "    PREDICTOR_RAT_UUW_ARRESTS, PREDICTOR_RAT_VICTIM_BATTERY_OR_ASSAULT,\n",
      "    PREDICTOR_RAT_VICTIM_SHOOTING_INCIDENTS, RACE_CODE_CD, SSL_SCORE,\n",
      "    weights\n",
      "\n"
     ]
    },
    {
     "data": {
      "image/png": "[encoded data removed]",
      "text/plain": [
       "plot without title"
      ]
     },
     "metadata": {},
     "output_type": "display_data"
    }
   ],
   "source": [
    "# Doing T - test on matched records\n",
    "attach(matched)\n",
    "boxplot(SSL_SCORE~RACE_CODE_CD)"
   ]
  },
  {
   "cell_type": "code",
   "execution_count": 83,
   "metadata": {},
   "outputs": [
    {
     "data": {
      "image/png": "[encoded data removed]",
      "text/plain": [
       "Plot with title \"Normal Q-Q Plot\""
      ]
     },
     "metadata": {},
     "output_type": "display_data"
    }
   ],
   "source": [
    "race_black <-subset(matched,RACE_CODE_CD == 0)\n",
    "race_white<-subset(matched,RACE_CODE_CD == 1)\n",
    "# Normal QQ Plot for RACE == BLACK\n",
    "qqnorm(race_black$SSL_SCORE)\n",
    "qqline(race_black$SSL_SCORE)"
   ]
  },
  {
   "cell_type": "code",
   "execution_count": 84,
   "metadata": {},
   "outputs": [
    {
     "data": {
      "image/png": "[encoded data removed]",
      "text/plain": [
       "Plot with title \"Normal Q-Q Plot\""
      ]
     },
     "metadata": {},
     "output_type": "display_data"
    }
   ],
   "source": [
    "# Normal QQ Plot for RACE == WHITE\n",
    "qqnorm(race_white$SSL_SCORE)\n",
    "qqline(race_white$SSL_SCORE)"
   ]
  },
  {
   "cell_type": "code",
   "execution_count": 85,
   "metadata": {},
   "outputs": [
    {
     "data": {
      "text/plain": [
       "\n",
       "\tWelch Two Sample t-test\n",
       "\n",
       "data:  SSL_SCORE by RACE_CODE_CD\n",
       "t = 12.867, df = 78138, p-value < 2.2e-16\n",
       "alternative hypothesis: true difference in means is not equal to 0\n",
       "95 percent confidence interval:\n",
       " 1.606943 2.184504\n",
       "sample estimates:\n",
       "mean in group 0 mean in group 1 \n",
       "       318.2549        316.3591 \n"
      ]
     },
     "metadata": {},
     "output_type": "display_data"
    }
   ],
   "source": [
    "t.test(SSL_SCORE~RACE_CODE_CD)"
   ]
  }
 ],
 "metadata": {
  "kernelspec": {
   "display_name": "R",
   "language": "R",
   "name": "ir"
  },
  "language_info": {
   "codemirror_mode": "r",
   "file_extension": ".r",
   "mimetype": "text/x-r-source",
   "name": "R",
   "pygments_lexer": "r",
   "version": "3.3.2"
  }
 },
 "nbformat": 4,
 "nbformat_minor": 2
}
